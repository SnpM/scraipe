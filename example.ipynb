{
 "cells": [
  {
   "cell_type": "markdown",
   "metadata": {},
   "source": [
    "# Example Usage of Scraipe Library\n",
    "\n",
    "Here's a quick example using scraipe to extract mentions of celebrities in news articles."
   ]
  },
  {
   "cell_type": "markdown",
   "metadata": {},
   "source": [
    "## Setup\n",
    "Install and import dependencies"
   ]
  },
  {
   "cell_type": "code",
   "execution_count": null,
   "metadata": {},
   "outputs": [
    {
     "name": "stdout",
     "output_type": "stream",
     "text": [
      "\u001b[31mERROR: Could not find a version that satisfies the requirement scraipe (from versions: none)\u001b[0m\u001b[31m\n",
      "\u001b[0m\u001b[31mERROR: No matching distribution found for scraipe\u001b[0m\u001b[31m\n",
      "\u001b[0mNote: you may need to restart the kernel to use updated packages.\n"
     ]
    }
   ],
   "source": [
    "%pip install scraipe\n",
    "#import sys; sys.path.append('scraipe')"
   ]
  },
  {
   "cell_type": "code",
   "execution_count": 12,
   "metadata": {},
   "outputs": [],
   "source": [
    "import pandas as pd\n",
    "from scraipe import Workflow\n",
    "from scraipe.scrapers import NewsScraper\n",
    "from scraipe.analyzers import OpenAiAnalyzer\n",
    "from pydantic import BaseModel"
   ]
  },
  {
   "cell_type": "markdown",
   "metadata": {},
   "source": [
    "## Extract links\n",
    "First, we need a list of links to target with scraipe. We will extract all links from the front page of https://apnews.com."
   ]
  },
  {
   "cell_type": "code",
   "execution_count": 19,
   "metadata": {},
   "outputs": [
    {
     "name": "stdout",
     "output_type": "stream",
     "text": [
      "Found 147 news links on 2025-03-24 21:54:25\n"
     ]
    },
    {
     "data": {
      "text/html": [
       "<div>\n",
       "<style scoped>\n",
       "    .dataframe tbody tr th:only-of-type {\n",
       "        vertical-align: middle;\n",
       "    }\n",
       "\n",
       "    .dataframe tbody tr th {\n",
       "        vertical-align: top;\n",
       "    }\n",
       "\n",
       "    .dataframe thead th {\n",
       "        text-align: right;\n",
       "    }\n",
       "</style>\n",
       "<table border=\"1\" class=\"dataframe\">\n",
       "  <thead>\n",
       "    <tr style=\"text-align: right;\">\n",
       "      <th></th>\n",
       "      <th>link</th>\n",
       "    </tr>\n",
       "  </thead>\n",
       "  <tbody>\n",
       "    <tr>\n",
       "      <th>0</th>\n",
       "      <td>https://apnews.com/article/nationals-announcer...</td>\n",
       "    </tr>\n",
       "    <tr>\n",
       "      <th>1</th>\n",
       "      <td>https://apnews.com/article/pro-palestinian-wat...</td>\n",
       "    </tr>\n",
       "    <tr>\n",
       "      <th>2</th>\n",
       "      <td>https://apnews.com/article/firefly-aerospace-b...</td>\n",
       "    </tr>\n",
       "    <tr>\n",
       "      <th>3</th>\n",
       "      <td>https://apnews.com/article/climate-change-extr...</td>\n",
       "    </tr>\n",
       "    <tr>\n",
       "      <th>4</th>\n",
       "      <td>https://apnews.com/article/china-beijing-forbi...</td>\n",
       "    </tr>\n",
       "  </tbody>\n",
       "</table>\n",
       "</div>"
      ],
      "text/plain": [
       "                                                link\n",
       "0  https://apnews.com/article/nationals-announcer...\n",
       "1  https://apnews.com/article/pro-palestinian-wat...\n",
       "2  https://apnews.com/article/firefly-aerospace-b...\n",
       "3  https://apnews.com/article/climate-change-extr...\n",
       "4  https://apnews.com/article/china-beijing-forbi..."
      ]
     },
     "metadata": {},
     "output_type": "display_data"
    }
   ],
   "source": [
    "import requests\n",
    "import re\n",
    "\n",
    "url = \"https://apnews.com/\"\n",
    "response = requests.get(url)\n",
    "html = response.text\n",
    "\n",
    "# Use a regex to extract article links\n",
    "pattern = r'href=[\"\\'](?=[^\"\\']*/article)([^\"\\']+)[\"\\']'\n",
    "news_links = re.findall(pattern, html)\n",
    "\n",
    "# Remove duplicates\n",
    "news_links = list(set(news_links))\n",
    "\n",
    "# Display a summary of the links\n",
    "news_links_df = pd.DataFrame(news_links, columns=['link'])\n",
    "import time\n",
    "print(f\"Found {len(news_links_df)} news links on {time.strftime('%Y-%m-%d %H:%M:%S')}\")\n",
    "display(news_links_df.head())"
   ]
  },
  {
   "cell_type": "markdown",
   "metadata": {},
   "source": [
    "## Configure Workflow\n",
    "Now we'll configure the scraipe workflow using DefaultScraper and OpenAiAnalyzer.\n",
    "\n",
    "Store your OpenAI key in a file named .openai_key before running this code block."
   ]
  },
  {
   "cell_type": "code",
   "execution_count": 14,
   "metadata": {},
   "outputs": [],
   "source": [
    "#===Configure NewsScraper===\n",
    "# NewsScraper doesn't require any extra configuration\n",
    "scraper = NewsScraper()\n",
    "\n",
    "#===Configure OpenAiAnalyzer===\n",
    "# Load API key from a file\n",
    "api_key = open(\".openai_key\").read().strip()\n",
    "\n",
    "# Define the instruction for the LLM. Ensure the instruction specifies a return schema.\n",
    "instruction = '''Extract a list of celebrities mentioned in the article text.\n",
    "Return a JSON dictionary with the following schema:\n",
    "{\"celebrities\":[\"celebrity1\", \"celebrity2\", ...]}'''\n",
    "\n",
    "# (Optional) Create a pydantic schema to validate the LLM output\n",
    "from typing import List\n",
    "class ExpectedOutput(BaseModel):\n",
    "    celebrities: List[str]\n",
    "    \n",
    "# Create the analyzer with the API key, instruction, and schema\n",
    "analyzer = OpenAiAnalyzer(api_key,instruction,pydantic_schema=ExpectedOutput)\n",
    "\n",
    "#===Create Workflow===\n",
    "# Create a workflow with the configured scraper and analyzer\n",
    "workflow = Workflow(scraper, analyzer)"
   ]
  },
  {
   "cell_type": "markdown",
   "metadata": {},
   "source": [
    "## Scrape content from news links\n",
    "Next we will scrape content from news links. This content will be saved within the workflow's scrape store."
   ]
  },
  {
   "cell_type": "code",
   "execution_count": 15,
   "metadata": {},
   "outputs": [
    {
     "name": "stdout",
     "output_type": "stream",
     "text": [
      "Scraping 142/142 new or failed links...\n"
     ]
    },
    {
     "name": "stderr",
     "output_type": "stream",
     "text": [
      "Scraping URLs: 100%|██████████| 142/142 [01:05<00:00,  2.16it/s]"
     ]
    },
    {
     "name": "stdout",
     "output_type": "stream",
     "text": [
      "Successfully scraped 142/142 links.\n"
     ]
    },
    {
     "name": "stderr",
     "output_type": "stream",
     "text": [
      "\n"
     ]
    },
    {
     "data": {
      "text/html": [
       "<div>\n",
       "<style scoped>\n",
       "    .dataframe tbody tr th:only-of-type {\n",
       "        vertical-align: middle;\n",
       "    }\n",
       "\n",
       "    .dataframe tbody tr th {\n",
       "        vertical-align: top;\n",
       "    }\n",
       "\n",
       "    .dataframe thead th {\n",
       "        text-align: right;\n",
       "    }\n",
       "</style>\n",
       "<table border=\"1\" class=\"dataframe\">\n",
       "  <thead>\n",
       "    <tr style=\"text-align: right;\">\n",
       "      <th></th>\n",
       "      <th>link</th>\n",
       "      <th>content</th>\n",
       "      <th>success</th>\n",
       "      <th>error</th>\n",
       "    </tr>\n",
       "  </thead>\n",
       "  <tbody>\n",
       "    <tr>\n",
       "      <th>0</th>\n",
       "      <td>https://apnews.com/article/nationals-announcer...</td>\n",
       "      <td>The Associated Press is an independent global ...</td>\n",
       "      <td>True</td>\n",
       "      <td>None</td>\n",
       "    </tr>\n",
       "  </tbody>\n",
       "</table>\n",
       "</div>"
      ],
      "text/plain": [
       "                                                link  \\\n",
       "0  https://apnews.com/article/nationals-announcer...   \n",
       "\n",
       "                                             content  success error  \n",
       "0  The Associated Press is an independent global ...     True  None  "
      ]
     },
     "metadata": {},
     "output_type": "display_data"
    }
   ],
   "source": [
    "# Scrape the news links\n",
    "workflow.scrape(news_links)\n",
    "# Display the scraped content\n",
    "scrape_store_df = workflow.get_scrapes()\n",
    "display(scrape_store_df.iloc[0:1])"
   ]
  },
  {
   "cell_type": "markdown",
   "metadata": {},
   "source": [
    "## Analyze content with OpenAI\n",
    "Next we will analyze the stored scrapes."
   ]
  },
  {
   "cell_type": "code",
   "execution_count": 16,
   "metadata": {},
   "outputs": [
    {
     "name": "stdout",
     "output_type": "stream",
     "text": [
      "Analyzing 142/142 new or failed links...\n"
     ]
    },
    {
     "name": "stderr",
     "output_type": "stream",
     "text": [
      "Analyzing content: 100%|██████████| 142/142 [02:17<00:00,  1.03it/s]"
     ]
    },
    {
     "name": "stdout",
     "output_type": "stream",
     "text": [
      "Successfully analyzed 142/142 links.\n"
     ]
    },
    {
     "name": "stderr",
     "output_type": "stream",
     "text": [
      "\n"
     ]
    },
    {
     "data": {
      "text/html": [
       "<div>\n",
       "<style scoped>\n",
       "    .dataframe tbody tr th:only-of-type {\n",
       "        vertical-align: middle;\n",
       "    }\n",
       "\n",
       "    .dataframe tbody tr th {\n",
       "        vertical-align: top;\n",
       "    }\n",
       "\n",
       "    .dataframe thead th {\n",
       "        text-align: right;\n",
       "    }\n",
       "</style>\n",
       "<table border=\"1\" class=\"dataframe\">\n",
       "  <thead>\n",
       "    <tr style=\"text-align: right;\">\n",
       "      <th></th>\n",
       "      <th>link</th>\n",
       "      <th>output</th>\n",
       "      <th>success</th>\n",
       "      <th>error</th>\n",
       "    </tr>\n",
       "  </thead>\n",
       "  <tbody>\n",
       "    <tr>\n",
       "      <th>0</th>\n",
       "      <td>https://apnews.com/article/nationals-announcer...</td>\n",
       "      <td>{'celebrities': []}</td>\n",
       "      <td>True</td>\n",
       "      <td>None</td>\n",
       "    </tr>\n",
       "    <tr>\n",
       "      <th>1</th>\n",
       "      <td>https://apnews.com/article/pro-palestinian-wat...</td>\n",
       "      <td>{'celebrities': []}</td>\n",
       "      <td>True</td>\n",
       "      <td>None</td>\n",
       "    </tr>\n",
       "    <tr>\n",
       "      <th>2</th>\n",
       "      <td>https://apnews.com/article/climate-change-extr...</td>\n",
       "      <td>{'celebrities': []}</td>\n",
       "      <td>True</td>\n",
       "      <td>None</td>\n",
       "    </tr>\n",
       "    <tr>\n",
       "      <th>3</th>\n",
       "      <td>https://apnews.com/article/china-beijing-forbi...</td>\n",
       "      <td>{'celebrities': ['Empress Dowager Cixi']}</td>\n",
       "      <td>True</td>\n",
       "      <td>None</td>\n",
       "    </tr>\n",
       "    <tr>\n",
       "      <th>4</th>\n",
       "      <td>https://apnews.com/article/fact-check-misinfor...</td>\n",
       "      <td>{'celebrities': ['Donald Trump', 'Joe Biden', ...</td>\n",
       "      <td>True</td>\n",
       "      <td>None</td>\n",
       "    </tr>\n",
       "  </tbody>\n",
       "</table>\n",
       "</div>"
      ],
      "text/plain": [
       "                                                link  \\\n",
       "0  https://apnews.com/article/nationals-announcer...   \n",
       "1  https://apnews.com/article/pro-palestinian-wat...   \n",
       "2  https://apnews.com/article/climate-change-extr...   \n",
       "3  https://apnews.com/article/china-beijing-forbi...   \n",
       "4  https://apnews.com/article/fact-check-misinfor...   \n",
       "\n",
       "                                              output  success error  \n",
       "0                                {'celebrities': []}     True  None  \n",
       "1                                {'celebrities': []}     True  None  \n",
       "2                                {'celebrities': []}     True  None  \n",
       "3          {'celebrities': ['Empress Dowager Cixi']}     True  None  \n",
       "4  {'celebrities': ['Donald Trump', 'Joe Biden', ...     True  None  "
      ]
     },
     "metadata": {},
     "output_type": "display_data"
    }
   ],
   "source": [
    "# Analyze the scraped content\n",
    "workflow.analyze()\n",
    "\n",
    "# Dispaly the analyses\n",
    "analysis_store_df = workflow.get_analyses()\n",
    "display(analysis_store_df.head())"
   ]
  },
  {
   "cell_type": "markdown",
   "metadata": {},
   "source": [
    "## Compile the results\n",
    "Finally, let's export the completed analysis. "
   ]
  },
  {
   "cell_type": "code",
   "execution_count": 17,
   "metadata": {},
   "outputs": [
    {
     "data": {
      "text/html": [
       "<div>\n",
       "<style scoped>\n",
       "    .dataframe tbody tr th:only-of-type {\n",
       "        vertical-align: middle;\n",
       "    }\n",
       "\n",
       "    .dataframe tbody tr th {\n",
       "        vertical-align: top;\n",
       "    }\n",
       "\n",
       "    .dataframe thead th {\n",
       "        text-align: right;\n",
       "    }\n",
       "</style>\n",
       "<table border=\"1\" class=\"dataframe\">\n",
       "  <thead>\n",
       "    <tr style=\"text-align: right;\">\n",
       "      <th></th>\n",
       "      <th>link</th>\n",
       "      <th>celebrities</th>\n",
       "    </tr>\n",
       "  </thead>\n",
       "  <tbody>\n",
       "    <tr>\n",
       "      <th>0</th>\n",
       "      <td>https://apnews.com/article/nationals-announcer...</td>\n",
       "      <td>[]</td>\n",
       "    </tr>\n",
       "    <tr>\n",
       "      <th>1</th>\n",
       "      <td>https://apnews.com/article/pro-palestinian-wat...</td>\n",
       "      <td>[]</td>\n",
       "    </tr>\n",
       "    <tr>\n",
       "      <th>2</th>\n",
       "      <td>https://apnews.com/article/climate-change-extr...</td>\n",
       "      <td>[]</td>\n",
       "    </tr>\n",
       "    <tr>\n",
       "      <th>3</th>\n",
       "      <td>https://apnews.com/article/china-beijing-forbi...</td>\n",
       "      <td>[Empress Dowager Cixi]</td>\n",
       "    </tr>\n",
       "    <tr>\n",
       "      <th>4</th>\n",
       "      <td>https://apnews.com/article/fact-check-misinfor...</td>\n",
       "      <td>[Donald Trump, Joe Biden, Elon Musk]</td>\n",
       "    </tr>\n",
       "    <tr>\n",
       "      <th>...</th>\n",
       "      <td>...</td>\n",
       "      <td>...</td>\n",
       "    </tr>\n",
       "    <tr>\n",
       "      <th>137</th>\n",
       "      <td>https://apnews.com/article/liberty-or-death-pa...</td>\n",
       "      <td>[Malcolm X, Donald Trump, Patrick Henry, John ...</td>\n",
       "    </tr>\n",
       "    <tr>\n",
       "      <th>138</th>\n",
       "      <td>https://apnews.com/article/fish-doorbell-nethe...</td>\n",
       "      <td>[]</td>\n",
       "    </tr>\n",
       "    <tr>\n",
       "      <th>139</th>\n",
       "      <td>https://apnews.com/article/march-madness-trans...</td>\n",
       "      <td>[Doug Stewart, Kevin Young, Marc VandeWetterin...</td>\n",
       "    </tr>\n",
       "    <tr>\n",
       "      <th>140</th>\n",
       "      <td>https://apnews.com/article/colorado-woman-kill...</td>\n",
       "      <td>[]</td>\n",
       "    </tr>\n",
       "    <tr>\n",
       "      <th>141</th>\n",
       "      <td>https://apnews.com/article/science-trump-execu...</td>\n",
       "      <td>[Donald Trump, Tamar Antin, Rachelle Annechino]</td>\n",
       "    </tr>\n",
       "  </tbody>\n",
       "</table>\n",
       "<p>142 rows × 2 columns</p>\n",
       "</div>"
      ],
      "text/plain": [
       "                                                  link  \\\n",
       "0    https://apnews.com/article/nationals-announcer...   \n",
       "1    https://apnews.com/article/pro-palestinian-wat...   \n",
       "2    https://apnews.com/article/climate-change-extr...   \n",
       "3    https://apnews.com/article/china-beijing-forbi...   \n",
       "4    https://apnews.com/article/fact-check-misinfor...   \n",
       "..                                                 ...   \n",
       "137  https://apnews.com/article/liberty-or-death-pa...   \n",
       "138  https://apnews.com/article/fish-doorbell-nethe...   \n",
       "139  https://apnews.com/article/march-madness-trans...   \n",
       "140  https://apnews.com/article/colorado-woman-kill...   \n",
       "141  https://apnews.com/article/science-trump-execu...   \n",
       "\n",
       "                                           celebrities  \n",
       "0                                                   []  \n",
       "1                                                   []  \n",
       "2                                                   []  \n",
       "3                               [Empress Dowager Cixi]  \n",
       "4                 [Donald Trump, Joe Biden, Elon Musk]  \n",
       "..                                                 ...  \n",
       "137  [Malcolm X, Donald Trump, Patrick Henry, John ...  \n",
       "138                                                 []  \n",
       "139  [Doug Stewart, Kevin Young, Marc VandeWetterin...  \n",
       "140                                                 []  \n",
       "141    [Donald Trump, Tamar Antin, Rachelle Annechino]  \n",
       "\n",
       "[142 rows x 2 columns]"
      ]
     },
     "metadata": {},
     "output_type": "display_data"
    }
   ],
   "source": [
    "export_df = workflow.export()\n",
    "display(export_df)\n",
    "export_df.to_csv('celebrities.csv', index=False)"
   ]
  },
  {
   "cell_type": "markdown",
   "metadata": {},
   "source": [
    "## Analyze the results\n",
    "Now you can conduct your own analysis on the structured data collected by the scraipe workflow."
   ]
  },
  {
   "cell_type": "code",
   "execution_count": 18,
   "metadata": {},
   "outputs": [
    {
     "data": {
      "text/html": [
       "<div>\n",
       "<style scoped>\n",
       "    .dataframe tbody tr th:only-of-type {\n",
       "        vertical-align: middle;\n",
       "    }\n",
       "\n",
       "    .dataframe tbody tr th {\n",
       "        vertical-align: top;\n",
       "    }\n",
       "\n",
       "    .dataframe thead th {\n",
       "        text-align: right;\n",
       "    }\n",
       "</style>\n",
       "<table border=\"1\" class=\"dataframe\">\n",
       "  <thead>\n",
       "    <tr style=\"text-align: right;\">\n",
       "      <th></th>\n",
       "      <th>celebrity</th>\n",
       "      <th>mentions</th>\n",
       "    </tr>\n",
       "  </thead>\n",
       "  <tbody>\n",
       "    <tr>\n",
       "      <th>0</th>\n",
       "      <td>Donald Trump</td>\n",
       "      <td>57</td>\n",
       "    </tr>\n",
       "    <tr>\n",
       "      <th>1</th>\n",
       "      <td>Elon Musk</td>\n",
       "      <td>20</td>\n",
       "    </tr>\n",
       "    <tr>\n",
       "      <th>2</th>\n",
       "      <td>Joe Biden</td>\n",
       "      <td>6</td>\n",
       "    </tr>\n",
       "    <tr>\n",
       "      <th>3</th>\n",
       "      <td>Marco Rubio</td>\n",
       "      <td>5</td>\n",
       "    </tr>\n",
       "    <tr>\n",
       "      <th>4</th>\n",
       "      <td>Robert F. Kennedy Jr.</td>\n",
       "      <td>5</td>\n",
       "    </tr>\n",
       "    <tr>\n",
       "      <th>5</th>\n",
       "      <td>Barack Obama</td>\n",
       "      <td>5</td>\n",
       "    </tr>\n",
       "    <tr>\n",
       "      <th>6</th>\n",
       "      <td>Kamala Harris</td>\n",
       "      <td>4</td>\n",
       "    </tr>\n",
       "    <tr>\n",
       "      <th>7</th>\n",
       "      <td>Vladimir Putin</td>\n",
       "      <td>4</td>\n",
       "    </tr>\n",
       "    <tr>\n",
       "      <th>14</th>\n",
       "      <td>Mike Waltz</td>\n",
       "      <td>3</td>\n",
       "    </tr>\n",
       "    <tr>\n",
       "      <th>12</th>\n",
       "      <td>Volodymyr Zelenskyy</td>\n",
       "      <td>3</td>\n",
       "    </tr>\n",
       "  </tbody>\n",
       "</table>\n",
       "</div>"
      ],
      "text/plain": [
       "                celebrity  mentions\n",
       "0            Donald Trump        57\n",
       "1               Elon Musk        20\n",
       "2               Joe Biden         6\n",
       "3             Marco Rubio         5\n",
       "4   Robert F. Kennedy Jr.         5\n",
       "5            Barack Obama         5\n",
       "6           Kamala Harris         4\n",
       "7          Vladimir Putin         4\n",
       "14             Mike Waltz         3\n",
       "12    Volodymyr Zelenskyy         3"
      ]
     },
     "execution_count": 18,
     "metadata": {},
     "output_type": "execute_result"
    }
   ],
   "source": [
    "# Load the extracted data\n",
    "celebrities_df = pd.read_csv('celebrities.csv')\n",
    "from ast import literal_eval\n",
    "celebrities_df['celebrities'] = celebrities_df['celebrities'].apply(literal_eval)\n",
    "\n",
    "# Explode the nested list of celebrities\n",
    "celebrities_df = celebrities_df.explode('celebrities')\n",
    "celebrities_df['celebrities'] = celebrities_df['celebrities'].str.strip()\n",
    "\n",
    "# Display the top 10 most mentioned celebrities\n",
    "celebrities_df = celebrities_df['celebrities'].value_counts().reset_index()\n",
    "celebrities_df.columns = ['celebrity', 'mentions']\n",
    "celebrities_df = celebrities_df.sort_values('mentions', ascending=False)\n",
    "celebrities_df.head(10)"
   ]
  }
 ],
 "metadata": {
  "kernelspec": {
   "display_name": "scraipe",
   "language": "python",
   "name": "python3"
  },
  "language_info": {
   "codemirror_mode": {
    "name": "ipython",
    "version": 3
   },
   "file_extension": ".py",
   "mimetype": "text/x-python",
   "name": "python",
   "nbconvert_exporter": "python",
   "pygments_lexer": "ipython3",
   "version": "3.11.11"
  }
 },
 "nbformat": 4,
 "nbformat_minor": 2
}
