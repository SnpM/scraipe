{
 "cells": [
  {
   "cell_type": "markdown",
   "metadata": {},
   "source": [
    "# Example Usage of Scraipe Library\n",
    "\n",
    "Here's a quick example using scraipe to extract mentions of celebrities in news articles."
   ]
  },
  {
   "cell_type": "markdown",
   "metadata": {},
   "source": [
    "## Setup\n",
    "Install and import dependencies"
   ]
  },
  {
   "cell_type": "code",
   "execution_count": 1,
   "metadata": {},
   "outputs": [
    {
     "name": "stdout",
     "output_type": "stream",
     "text": [
      "\u001b[31mERROR: Could not find a version that satisfies the requirement scraipe (from versions: none)\u001b[0m\u001b[31m\n",
      "\u001b[0m\u001b[31mERROR: No matching distribution found for scraipe\u001b[0m\u001b[31m\n",
      "\u001b[0mNote: you may need to restart the kernel to use updated packages.\n"
     ]
    }
   ],
   "source": [
    "%pip install scraipe\n",
    "import sys; sys.path.append('scraipe')"
   ]
  },
  {
   "cell_type": "code",
   "execution_count": 2,
   "metadata": {},
   "outputs": [],
   "source": [
    "import pandas as pd\n",
    "from scraipe import Workflow\n",
    "from scraipe.scrapers import NewsScraper\n",
    "from scraipe.analyzers import OpenAiAnalyzer\n",
    "from pydantic import BaseModel"
   ]
  },
  {
   "cell_type": "markdown",
   "metadata": {},
   "source": [
    "## Extract links\n",
    "First, we need a list of links to target with scraipe. We will extract all links from the front page of https://apnews.com."
   ]
  },
  {
   "cell_type": "code",
   "execution_count": 3,
   "metadata": {},
   "outputs": [
    {
     "name": "stdout",
     "output_type": "stream",
     "text": [
      "Found 140 news links\n"
     ]
    },
    {
     "data": {
      "text/html": [
       "<div>\n",
       "<style scoped>\n",
       "    .dataframe tbody tr th:only-of-type {\n",
       "        vertical-align: middle;\n",
       "    }\n",
       "\n",
       "    .dataframe tbody tr th {\n",
       "        vertical-align: top;\n",
       "    }\n",
       "\n",
       "    .dataframe thead th {\n",
       "        text-align: right;\n",
       "    }\n",
       "</style>\n",
       "<table border=\"1\" class=\"dataframe\">\n",
       "  <thead>\n",
       "    <tr style=\"text-align: right;\">\n",
       "      <th></th>\n",
       "      <th>link</th>\n",
       "    </tr>\n",
       "  </thead>\n",
       "  <tbody>\n",
       "    <tr>\n",
       "      <th>0</th>\n",
       "      <td>https://apnews.com/article/mia-love-brain-canc...</td>\n",
       "    </tr>\n",
       "    <tr>\n",
       "      <th>1</th>\n",
       "      <td>https://apnews.com/article/texas-university-am...</td>\n",
       "    </tr>\n",
       "    <tr>\n",
       "      <th>2</th>\n",
       "      <td>https://apnews.com/article/work-life-balance-s...</td>\n",
       "    </tr>\n",
       "    <tr>\n",
       "      <th>3</th>\n",
       "      <td>https://apnews.com/article/mexico-desaparecido...</td>\n",
       "    </tr>\n",
       "    <tr>\n",
       "      <th>4</th>\n",
       "      <td>https://apnews.com/article/trump-america-boyco...</td>\n",
       "    </tr>\n",
       "  </tbody>\n",
       "</table>\n",
       "</div>"
      ],
      "text/plain": [
       "                                                link\n",
       "0  https://apnews.com/article/mia-love-brain-canc...\n",
       "1  https://apnews.com/article/texas-university-am...\n",
       "2  https://apnews.com/article/work-life-balance-s...\n",
       "3  https://apnews.com/article/mexico-desaparecido...\n",
       "4  https://apnews.com/article/trump-america-boyco..."
      ]
     },
     "metadata": {},
     "output_type": "display_data"
    }
   ],
   "source": [
    "import requests\n",
    "import re\n",
    "\n",
    "url = \"https://apnews.com/\"\n",
    "response = requests.get(url)\n",
    "html = response.text\n",
    "\n",
    "# Use a regex to extract article links\n",
    "pattern = r'href=[\"\\'](?=[^\"\\']*/article)([^\"\\']+)[\"\\']'\n",
    "news_links = re.findall(pattern, html)\n",
    "\n",
    "# Remove duplicates\n",
    "news_links = list(set(news_links))\n",
    "\n",
    "# Display a summary of the links\n",
    "news_links_df = pd.DataFrame(news_links, columns=['link'])\n",
    "print(f\"Found {len(news_links_df)} news links\")\n",
    "display(news_links_df.head())"
   ]
  },
  {
   "cell_type": "markdown",
   "metadata": {},
   "source": [
    "## Configure Workflow\n",
    "Now we'll configure the scraipe workflow using DefaultScraper and OpenAiAnalyzer.\n",
    "\n",
    "Store your OpenAI key in a file named .openai_key before running this code block."
   ]
  },
  {
   "cell_type": "code",
   "execution_count": null,
   "metadata": {},
   "outputs": [],
   "source": [
    "#===Configure NewsScraper===\n",
    "# NewsScraper doesn't require any extra configuration\n",
    "scraper = NewsScraper()\n",
    "\n",
    "#===Configure OpenAiAnalyzer===\n",
    "# Load API key from a file\n",
    "api_key = open(\".openai_key\").read().strip()\n",
    "\n",
    "# Define the instruction for the LLM. Ensure the instruction specifies a return schema.\n",
    "instruction = '''Extract a list of celebrities mentioned in the article text.\n",
    "Return a JSON dictionary with the following schema:\n",
    "{\"celebrities\":[\"celebrity1\", \"celebrity2\", ...]}'''\n",
    "\n",
    "# (Optional) Create a pydantic schema to validate the LLM output\n",
    "from typing import List\n",
    "class ExpectedOutput(BaseModel):\n",
    "    celebrities: List[str]\n",
    "    \n",
    "# Create the analyzer with the API key, instruction, and schema\n",
    "analyzer = OpenAiAnalyzer(api_key,instruction,pydantic_schema=ExpectedOutput)\n",
    "\n",
    "#===Create Workflow===\n",
    "# Create a workflow with the configured scraper and analyzer\n",
    "workflow = Workflow(scraper, analyzer)"
   ]
  },
  {
   "cell_type": "markdown",
   "metadata": {},
   "source": [
    "## Scrape content from news links\n",
    "Next we will scrape content from news links. This content will be saved within the workflow's scrape store."
   ]
  },
  {
   "cell_type": "code",
   "execution_count": 5,
   "metadata": {},
   "outputs": [
    {
     "name": "stdout",
     "output_type": "stream",
     "text": [
      "Scraping 140/140 new or failed links...\n"
     ]
    },
    {
     "name": "stderr",
     "output_type": "stream",
     "text": [
      "Scraping URLs: 100%|██████████| 140/140 [01:03<00:00,  2.20it/s]"
     ]
    },
    {
     "name": "stdout",
     "output_type": "stream",
     "text": [
      "Successfully scraped 140/140 links.\n"
     ]
    },
    {
     "name": "stderr",
     "output_type": "stream",
     "text": [
      "\n"
     ]
    },
    {
     "data": {
      "text/html": [
       "<div>\n",
       "<style scoped>\n",
       "    .dataframe tbody tr th:only-of-type {\n",
       "        vertical-align: middle;\n",
       "    }\n",
       "\n",
       "    .dataframe tbody tr th {\n",
       "        vertical-align: top;\n",
       "    }\n",
       "\n",
       "    .dataframe thead th {\n",
       "        text-align: right;\n",
       "    }\n",
       "</style>\n",
       "<table border=\"1\" class=\"dataframe\">\n",
       "  <thead>\n",
       "    <tr style=\"text-align: right;\">\n",
       "      <th></th>\n",
       "      <th>link</th>\n",
       "      <th>content</th>\n",
       "      <th>success</th>\n",
       "      <th>error</th>\n",
       "    </tr>\n",
       "  </thead>\n",
       "  <tbody>\n",
       "    <tr>\n",
       "      <th>0</th>\n",
       "      <td>https://apnews.com/article/mia-love-brain-canc...</td>\n",
       "      <td>SALT LAKE CITY (AP) — The death Sunday of form...</td>\n",
       "      <td>True</td>\n",
       "      <td>None</td>\n",
       "    </tr>\n",
       "  </tbody>\n",
       "</table>\n",
       "</div>"
      ],
      "text/plain": [
       "                                                link  \\\n",
       "0  https://apnews.com/article/mia-love-brain-canc...   \n",
       "\n",
       "                                             content  success error  \n",
       "0  SALT LAKE CITY (AP) — The death Sunday of form...     True  None  "
      ]
     },
     "metadata": {},
     "output_type": "display_data"
    }
   ],
   "source": [
    "# Scrape the news links\n",
    "workflow.scrape(news_links)\n",
    "# Display the scraped content\n",
    "scrape_store_df = workflow.get_scrapes()\n",
    "display(scrape_store_df.iloc[0:1])"
   ]
  },
  {
   "cell_type": "markdown",
   "metadata": {},
   "source": [
    "## Analyze content with OpenAI\n",
    "Next we will analyze the stored scrapes."
   ]
  },
  {
   "cell_type": "code",
   "execution_count": 6,
   "metadata": {},
   "outputs": [
    {
     "name": "stdout",
     "output_type": "stream",
     "text": [
      "Analyzing 140/140 new or failed links...\n"
     ]
    },
    {
     "name": "stderr",
     "output_type": "stream",
     "text": [
      "Analyzing content: 100%|██████████| 140/140 [02:24<00:00,  1.03s/it]"
     ]
    },
    {
     "name": "stdout",
     "output_type": "stream",
     "text": [
      "Successfully analyzed 140/140 links.\n"
     ]
    },
    {
     "name": "stderr",
     "output_type": "stream",
     "text": [
      "\n"
     ]
    },
    {
     "data": {
      "text/html": [
       "<div>\n",
       "<style scoped>\n",
       "    .dataframe tbody tr th:only-of-type {\n",
       "        vertical-align: middle;\n",
       "    }\n",
       "\n",
       "    .dataframe tbody tr th {\n",
       "        vertical-align: top;\n",
       "    }\n",
       "\n",
       "    .dataframe thead th {\n",
       "        text-align: right;\n",
       "    }\n",
       "</style>\n",
       "<table border=\"1\" class=\"dataframe\">\n",
       "  <thead>\n",
       "    <tr style=\"text-align: right;\">\n",
       "      <th></th>\n",
       "      <th>link</th>\n",
       "      <th>output</th>\n",
       "      <th>success</th>\n",
       "      <th>error</th>\n",
       "    </tr>\n",
       "  </thead>\n",
       "  <tbody>\n",
       "    <tr>\n",
       "      <th>0</th>\n",
       "      <td>https://apnews.com/article/mia-love-brain-canc...</td>\n",
       "      <td>{'celebrities': ['Mia Love', 'Barack Obama', '...</td>\n",
       "      <td>True</td>\n",
       "      <td>None</td>\n",
       "    </tr>\n",
       "    <tr>\n",
       "      <th>1</th>\n",
       "      <td>https://apnews.com/article/texas-university-am...</td>\n",
       "      <td>{'celebrities': ['George H.W. Bush', 'Donald T...</td>\n",
       "      <td>True</td>\n",
       "      <td>None</td>\n",
       "    </tr>\n",
       "    <tr>\n",
       "      <th>2</th>\n",
       "      <td>https://apnews.com/article/work-life-balance-s...</td>\n",
       "      <td>{'celebrities': ['Justin Stewart', 'Bobby Dutt...</td>\n",
       "      <td>True</td>\n",
       "      <td>None</td>\n",
       "    </tr>\n",
       "    <tr>\n",
       "      <th>3</th>\n",
       "      <td>https://apnews.com/article/mexico-desaparecido...</td>\n",
       "      <td>{'celebrities': ['Omar García Harfuch', 'Donal...</td>\n",
       "      <td>True</td>\n",
       "      <td>None</td>\n",
       "    </tr>\n",
       "    <tr>\n",
       "      <th>4</th>\n",
       "      <td>https://apnews.com/article/trump-america-boyco...</td>\n",
       "      <td>{'celebrities': ['Donald Trump', 'Jeff Bezos',...</td>\n",
       "      <td>True</td>\n",
       "      <td>None</td>\n",
       "    </tr>\n",
       "  </tbody>\n",
       "</table>\n",
       "</div>"
      ],
      "text/plain": [
       "                                                link  \\\n",
       "0  https://apnews.com/article/mia-love-brain-canc...   \n",
       "1  https://apnews.com/article/texas-university-am...   \n",
       "2  https://apnews.com/article/work-life-balance-s...   \n",
       "3  https://apnews.com/article/mexico-desaparecido...   \n",
       "4  https://apnews.com/article/trump-america-boyco...   \n",
       "\n",
       "                                              output  success error  \n",
       "0  {'celebrities': ['Mia Love', 'Barack Obama', '...     True  None  \n",
       "1  {'celebrities': ['George H.W. Bush', 'Donald T...     True  None  \n",
       "2  {'celebrities': ['Justin Stewart', 'Bobby Dutt...     True  None  \n",
       "3  {'celebrities': ['Omar García Harfuch', 'Donal...     True  None  \n",
       "4  {'celebrities': ['Donald Trump', 'Jeff Bezos',...     True  None  "
      ]
     },
     "metadata": {},
     "output_type": "display_data"
    }
   ],
   "source": [
    "# Analyze the scraped content\n",
    "workflow.analyze()\n",
    "\n",
    "# Dispaly the analyses\n",
    "analysis_store_df = workflow.get_analyses()\n",
    "display(analysis_store_df.head())"
   ]
  },
  {
   "cell_type": "markdown",
   "metadata": {},
   "source": [
    "## Compile the results\n",
    "Finally, let's compile a pretty dataset for export. "
   ]
  },
  {
   "cell_type": "code",
   "execution_count": 18,
   "metadata": {},
   "outputs": [
    {
     "data": {
      "text/html": [
       "<div>\n",
       "<style scoped>\n",
       "    .dataframe tbody tr th:only-of-type {\n",
       "        vertical-align: middle;\n",
       "    }\n",
       "\n",
       "    .dataframe tbody tr th {\n",
       "        vertical-align: top;\n",
       "    }\n",
       "\n",
       "    .dataframe thead th {\n",
       "        text-align: right;\n",
       "    }\n",
       "</style>\n",
       "<table border=\"1\" class=\"dataframe\">\n",
       "  <thead>\n",
       "    <tr style=\"text-align: right;\">\n",
       "      <th></th>\n",
       "      <th>link</th>\n",
       "      <th>celebrities</th>\n",
       "    </tr>\n",
       "  </thead>\n",
       "  <tbody>\n",
       "    <tr>\n",
       "      <th>0</th>\n",
       "      <td>https://apnews.com/article/mia-love-brain-canc...</td>\n",
       "      <td>[Mia Love, Barack Obama, Donald Trump, Joe Bid...</td>\n",
       "    </tr>\n",
       "    <tr>\n",
       "      <th>1</th>\n",
       "      <td>https://apnews.com/article/texas-university-am...</td>\n",
       "      <td>[George H.W. Bush, Donald Trump]</td>\n",
       "    </tr>\n",
       "    <tr>\n",
       "      <th>2</th>\n",
       "      <td>https://apnews.com/article/work-life-balance-s...</td>\n",
       "      <td>[Justin Stewart, Bobby Dutton, Amber Krasinski...</td>\n",
       "    </tr>\n",
       "    <tr>\n",
       "      <th>3</th>\n",
       "      <td>https://apnews.com/article/mexico-desaparecido...</td>\n",
       "      <td>[Omar García Harfuch, Donald Trump, David Sauc...</td>\n",
       "    </tr>\n",
       "    <tr>\n",
       "      <th>4</th>\n",
       "      <td>https://apnews.com/article/trump-america-boyco...</td>\n",
       "      <td>[Donald Trump, Jeff Bezos, Kamala Harris, Geor...</td>\n",
       "    </tr>\n",
       "  </tbody>\n",
       "</table>\n",
       "</div>"
      ],
      "text/plain": [
       "                                                link  \\\n",
       "0  https://apnews.com/article/mia-love-brain-canc...   \n",
       "1  https://apnews.com/article/texas-university-am...   \n",
       "2  https://apnews.com/article/work-life-balance-s...   \n",
       "3  https://apnews.com/article/mexico-desaparecido...   \n",
       "4  https://apnews.com/article/trump-america-boyco...   \n",
       "\n",
       "                                         celebrities  \n",
       "0  [Mia Love, Barack Obama, Donald Trump, Joe Bid...  \n",
       "1                   [George H.W. Bush, Donald Trump]  \n",
       "2  [Justin Stewart, Bobby Dutton, Amber Krasinski...  \n",
       "3  [Omar García Harfuch, Donald Trump, David Sauc...  \n",
       "4  [Donald Trump, Jeff Bezos, Kamala Harris, Geor...  "
      ]
     },
     "metadata": {},
     "output_type": "display_data"
    }
   ],
   "source": [
    "# Get the complete store of records\n",
    "records_df = workflow.get_records()\n",
    "\n",
    "# Create a dataframe with only the link and a comma-delimited nested list of extracted celebrities\n",
    "export_df = records_df[['link']].copy()\n",
    "\n",
    "export_df['celebrities'] = records_df['output'].apply(lambda x: x['celebrities'])\n",
    "\n",
    "display(export_df.head())\n",
    "\n",
    "# Export the extacted celebrity data\n",
    "export_df.to_csv('celebrities.csv', index=False)\n"
   ]
  },
  {
   "cell_type": "markdown",
   "metadata": {},
   "source": [
    "## Analyze the results\n",
    "Now you can conduct your own analysis on the struc"
   ]
  },
  {
   "cell_type": "code",
   "execution_count": 22,
   "metadata": {},
   "outputs": [
    {
     "data": {
      "text/html": [
       "<div>\n",
       "<style scoped>\n",
       "    .dataframe tbody tr th:only-of-type {\n",
       "        vertical-align: middle;\n",
       "    }\n",
       "\n",
       "    .dataframe tbody tr th {\n",
       "        vertical-align: top;\n",
       "    }\n",
       "\n",
       "    .dataframe thead th {\n",
       "        text-align: right;\n",
       "    }\n",
       "</style>\n",
       "<table border=\"1\" class=\"dataframe\">\n",
       "  <thead>\n",
       "    <tr style=\"text-align: right;\">\n",
       "      <th></th>\n",
       "      <th>celebrity</th>\n",
       "      <th>mentions</th>\n",
       "    </tr>\n",
       "  </thead>\n",
       "  <tbody>\n",
       "    <tr>\n",
       "      <th>0</th>\n",
       "      <td>Donald Trump</td>\n",
       "      <td>52</td>\n",
       "    </tr>\n",
       "    <tr>\n",
       "      <th>1</th>\n",
       "      <td>Elon Musk</td>\n",
       "      <td>19</td>\n",
       "    </tr>\n",
       "    <tr>\n",
       "      <th>2</th>\n",
       "      <td>Joe Biden</td>\n",
       "      <td>6</td>\n",
       "    </tr>\n",
       "    <tr>\n",
       "      <th>7</th>\n",
       "      <td>Barack Obama</td>\n",
       "      <td>4</td>\n",
       "    </tr>\n",
       "    <tr>\n",
       "      <th>6</th>\n",
       "      <td>Robert F. Kennedy Jr.</td>\n",
       "      <td>4</td>\n",
       "    </tr>\n",
       "    <tr>\n",
       "      <th>5</th>\n",
       "      <td>Kamala Harris</td>\n",
       "      <td>4</td>\n",
       "    </tr>\n",
       "    <tr>\n",
       "      <th>4</th>\n",
       "      <td>Vladimir Putin</td>\n",
       "      <td>4</td>\n",
       "    </tr>\n",
       "    <tr>\n",
       "      <th>3</th>\n",
       "      <td>Marco Rubio</td>\n",
       "      <td>4</td>\n",
       "    </tr>\n",
       "    <tr>\n",
       "      <th>11</th>\n",
       "      <td>George W. Bush</td>\n",
       "      <td>3</td>\n",
       "    </tr>\n",
       "    <tr>\n",
       "      <th>10</th>\n",
       "      <td>John Roberts</td>\n",
       "      <td>3</td>\n",
       "    </tr>\n",
       "  </tbody>\n",
       "</table>\n",
       "</div>"
      ],
      "text/plain": [
       "                celebrity  mentions\n",
       "0            Donald Trump        52\n",
       "1               Elon Musk        19\n",
       "2               Joe Biden         6\n",
       "7            Barack Obama         4\n",
       "6   Robert F. Kennedy Jr.         4\n",
       "5           Kamala Harris         4\n",
       "4          Vladimir Putin         4\n",
       "3             Marco Rubio         4\n",
       "11         George W. Bush         3\n",
       "10           John Roberts         3"
      ]
     },
     "execution_count": 22,
     "metadata": {},
     "output_type": "execute_result"
    }
   ],
   "source": [
    "# Load the extracted data\n",
    "celebrities_df = pd.read_csv('celebrities.csv')\n",
    "from ast import literal_eval\n",
    "celebrities_df['celebrities'] = celebrities_df['celebrities'].apply(literal_eval)\n",
    "\n",
    "# Explode the nested list of celebrities\n",
    "celebrities_df = celebrities_df.explode('celebrities')\n",
    "celebrities_df['celebrities'] = celebrities_df['celebrities'].str.strip()\n",
    "\n",
    "# Display the top 10 most mentioned celebrities\n",
    "celebrities_df = celebrities_df['celebrities'].value_counts().reset_index()\n",
    "celebrities_df.columns = ['celebrity', 'mentions']\n",
    "celebrities_df = celebrities_df.sort_values('mentions', ascending=False)\n",
    "celebrities_df.head(10)"
   ]
  }
 ],
 "metadata": {
  "kernelspec": {
   "display_name": "scraipe",
   "language": "python",
   "name": "python3"
  },
  "language_info": {
   "codemirror_mode": {
    "name": "ipython",
    "version": 3
   },
   "file_extension": ".py",
   "mimetype": "text/x-python",
   "name": "python",
   "nbconvert_exporter": "python",
   "pygments_lexer": "ipython3",
   "version": "3.11.11"
  }
 },
 "nbformat": 4,
 "nbformat_minor": 2
}
