{
 "cells": [
  {
   "cell_type": "markdown",
   "metadata": {},
   "source": [
    "# Example Usage of Scraipe Library\n",
    "\n",
    "Here's a quick example using scraipe to extract mentions of celebrities in news articles."
   ]
  },
  {
   "cell_type": "markdown",
   "metadata": {},
   "source": [
    "## Setup\n",
    "Install and import things we need. We will use `NewsScraper` and `OpenAiAnalyzer` from the `scraipe[extras]` subpackage.\n",
    "\n",
    "We will also load [your OpenAI API key](https://help.openai.com/en/articles/4936850-where-do-i-find-my-openai-api-key) from a file called 'openai_key.txt'. This file should be in the same folder as this notebook."
   ]
  },
  {
   "cell_type": "code",
   "execution_count": 9,
   "metadata": {},
   "outputs": [
    {
     "name": "stdout",
     "output_type": "stream",
     "text": [
      "Note: you may need to restart the kernel to use updated packages.\n",
      "Version: 0.1.16\n"
     ]
    }
   ],
   "source": [
    "# Install Scraipe\n",
    "%pip install scraipe[extras] --quiet\n",
    "!pip show scraipe | grep Version"
   ]
  },
  {
   "cell_type": "code",
   "execution_count": 2,
   "metadata": {},
   "outputs": [],
   "source": [
    "\n",
    "# Import modules\n",
    "import pandas as pd\n",
    "from scraipe import Workflow\n",
    "from scraipe.extras import NewsScraper, OpenAiAnalyzer\n",
    "from pydantic import BaseModel\n",
    "\n",
    "# Load OpenAI API key\n",
    "OPENAI_API_KEY = open(\"openai_key.txt\").read().strip()"
   ]
  },
  {
   "cell_type": "markdown",
   "metadata": {},
   "source": [
    "## Extract links\n",
    "First, we need a list of links to target with scraipe. We will extract all links from the front page of https://apnews.com."
   ]
  },
  {
   "cell_type": "code",
   "execution_count": 3,
   "metadata": {},
   "outputs": [
    {
     "name": "stdout",
     "output_type": "stream",
     "text": [
      "Found 142 front page AP News links on 2025-04-02\n"
     ]
    },
    {
     "data": {
      "text/html": [
       "<div>\n",
       "<style scoped>\n",
       "    .dataframe tbody tr th:only-of-type {\n",
       "        vertical-align: middle;\n",
       "    }\n",
       "\n",
       "    .dataframe tbody tr th {\n",
       "        vertical-align: top;\n",
       "    }\n",
       "\n",
       "    .dataframe thead th {\n",
       "        text-align: right;\n",
       "    }\n",
       "</style>\n",
       "<table border=\"1\" class=\"dataframe\">\n",
       "  <thead>\n",
       "    <tr style=\"text-align: right;\">\n",
       "      <th></th>\n",
       "      <th>link</th>\n",
       "    </tr>\n",
       "  </thead>\n",
       "  <tbody>\n",
       "    <tr>\n",
       "      <th>0</th>\n",
       "      <td>https://apnews.com/article/nasa-stuck-astronau...</td>\n",
       "    </tr>\n",
       "    <tr>\n",
       "      <th>1</th>\n",
       "      <td>https://apnews.com/article/minecraft-movie-rev...</td>\n",
       "    </tr>\n",
       "    <tr>\n",
       "      <th>2</th>\n",
       "      <td>https://apnews.com/article/south-carolina-acco...</td>\n",
       "    </tr>\n",
       "    <tr>\n",
       "      <th>3</th>\n",
       "      <td>https://apnews.com/article/black-hair-formalde...</td>\n",
       "    </tr>\n",
       "    <tr>\n",
       "      <th>4</th>\n",
       "      <td>https://apnews.com/article/nuclear-dow-xenergy...</td>\n",
       "    </tr>\n",
       "  </tbody>\n",
       "</table>\n",
       "</div>"
      ],
      "text/plain": [
       "                                                link\n",
       "0  https://apnews.com/article/nasa-stuck-astronau...\n",
       "1  https://apnews.com/article/minecraft-movie-rev...\n",
       "2  https://apnews.com/article/south-carolina-acco...\n",
       "3  https://apnews.com/article/black-hair-formalde...\n",
       "4  https://apnews.com/article/nuclear-dow-xenergy..."
      ]
     },
     "metadata": {},
     "output_type": "display_data"
    }
   ],
   "source": [
    "import requests\n",
    "import re\n",
    "\n",
    "url = \"https://apnews.com/\"\n",
    "response = requests.get(url)\n",
    "html = response.text\n",
    "\n",
    "# Use a regex to extract article links\n",
    "pattern = r'href=[\"\\'](?=[^\"\\']*/article)([^\"\\']+)[\"\\']'\n",
    "news_links = re.findall(pattern, html)\n",
    "\n",
    "# Remove duplicates\n",
    "news_links = list(set(news_links))\n",
    "\n",
    "# Display a summary of the links\n",
    "news_links_df = pd.DataFrame(news_links, columns=['link'])\n",
    "import time\n",
    "print(f\"Found {len(news_links_df)} front page AP News links on {time.strftime('%Y-%m-%d')}\")\n",
    "display(news_links_df.head())"
   ]
  },
  {
   "cell_type": "markdown",
   "metadata": {},
   "source": [
    "## Configure Workflow\n",
    "Now we'll configure the scraipe workflow using `NewsScraper` and `OpenAiAnalyzer`.\n",
    "\n",
    "`NewsScraper` uses the `trafilatura` to extract article content from a news site without all the HTML clutter.\n",
    "\n",
    "`OpenAiAnalyzer` uses OpenAI models to extract data from the article content."
   ]
  },
  {
   "cell_type": "code",
   "execution_count": null,
   "metadata": {},
   "outputs": [],
   "source": [
    "#===Configure NewsScraper===\n",
    "# NewsScraper doesn't require any additional configuration\n",
    "scraper = NewsScraper()\n",
    "\n",
    "#===Configure OpenAiAnalyzer===\n",
    "# Define the instruction for the LLM. Ensure the instruction specifies a return schema.\n",
    "instruction = '''\n",
    "Extract a list of celebrities mentioned in the article text.\n",
    "Return a JSON dictionary with the following schema:\n",
    "{\"celebrities\":[\"celebrity1\", \"celebrity2\", ...]}\n",
    "'''\n",
    "\n",
    "# (Optional) Create a pydantic schema to validate the LLM output\n",
    "from typing import List\n",
    "class ExpectedOutput(BaseModel):\n",
    "    celebrities: List[str]\n",
    "    \n",
    "# Create the analyzer with the API key, instruction, and schema\n",
    "analyzer = OpenAiAnalyzer(OPENAI_API_KEY,instruction,pydantic_schema=ExpectedOutput)\n",
    "\n",
    "#===Create Workflow===\n",
    "# Create a workflow with the configured scraper and analyzer\n",
    "workflow = Workflow(scraper, analyzer)"
   ]
  },
  {
   "cell_type": "markdown",
   "metadata": {},
   "source": [
    "## Scrape content from news links\n",
    "Next we will scrape content from news links. This content will be saved within the workflow's scrape store."
   ]
  },
  {
   "cell_type": "code",
   "execution_count": 5,
   "metadata": {},
   "outputs": [
    {
     "name": "stdout",
     "output_type": "stream",
     "text": [
      "Scraping 142/142 new or retry links...\n"
     ]
    },
    {
     "name": "stderr",
     "output_type": "stream",
     "text": [
      "Scraping URLs:   0%|          | 0/142 [00:00<?, ?it/s]"
     ]
    },
    {
     "name": "stderr",
     "output_type": "stream",
     "text": [
      "Scraping URLs: 100%|██████████| 142/142 [00:55<00:00,  2.57it/s]"
     ]
    },
    {
     "name": "stdout",
     "output_type": "stream",
     "text": [
      "Successfully scraped 142/142 links.\n"
     ]
    },
    {
     "name": "stderr",
     "output_type": "stream",
     "text": [
      "\n"
     ]
    },
    {
     "data": {
      "text/html": [
       "<div>\n",
       "<style scoped>\n",
       "    .dataframe tbody tr th:only-of-type {\n",
       "        vertical-align: middle;\n",
       "    }\n",
       "\n",
       "    .dataframe tbody tr th {\n",
       "        vertical-align: top;\n",
       "    }\n",
       "\n",
       "    .dataframe thead th {\n",
       "        text-align: right;\n",
       "    }\n",
       "</style>\n",
       "<table border=\"1\" class=\"dataframe\">\n",
       "  <thead>\n",
       "    <tr style=\"text-align: right;\">\n",
       "      <th></th>\n",
       "      <th>link</th>\n",
       "      <th>content</th>\n",
       "      <th>scrape_success</th>\n",
       "      <th>scrape_error</th>\n",
       "    </tr>\n",
       "  </thead>\n",
       "  <tbody>\n",
       "    <tr>\n",
       "      <th>0</th>\n",
       "      <td>https://apnews.com/article/nasa-stuck-astronau...</td>\n",
       "      <td>NASA’s newly returned astronauts say they woul...</td>\n",
       "      <td>True</td>\n",
       "      <td>None</td>\n",
       "    </tr>\n",
       "    <tr>\n",
       "      <th>1</th>\n",
       "      <td>https://apnews.com/article/minecraft-movie-rev...</td>\n",
       "      <td>Movie Review: Jason Momoa shines in ‘A Minecra...</td>\n",
       "      <td>True</td>\n",
       "      <td>None</td>\n",
       "    </tr>\n",
       "    <tr>\n",
       "      <th>2</th>\n",
       "      <td>https://apnews.com/article/south-carolina-acco...</td>\n",
       "      <td>A $1.8 billion mistake could cost the South Ca...</td>\n",
       "      <td>True</td>\n",
       "      <td>None</td>\n",
       "    </tr>\n",
       "    <tr>\n",
       "      <th>3</th>\n",
       "      <td>https://apnews.com/article/black-hair-formalde...</td>\n",
       "      <td>Black women’s hair products are in the safety ...</td>\n",
       "      <td>True</td>\n",
       "      <td>None</td>\n",
       "    </tr>\n",
       "    <tr>\n",
       "      <th>4</th>\n",
       "      <td>https://apnews.com/article/nuclear-dow-xenergy...</td>\n",
       "      <td>Dow wants to power its Texas manufacturing com...</td>\n",
       "      <td>True</td>\n",
       "      <td>None</td>\n",
       "    </tr>\n",
       "  </tbody>\n",
       "</table>\n",
       "</div>"
      ],
      "text/plain": [
       "                                                link  \\\n",
       "0  https://apnews.com/article/nasa-stuck-astronau...   \n",
       "1  https://apnews.com/article/minecraft-movie-rev...   \n",
       "2  https://apnews.com/article/south-carolina-acco...   \n",
       "3  https://apnews.com/article/black-hair-formalde...   \n",
       "4  https://apnews.com/article/nuclear-dow-xenergy...   \n",
       "\n",
       "                                             content  scrape_success  \\\n",
       "0  NASA’s newly returned astronauts say they woul...            True   \n",
       "1  Movie Review: Jason Momoa shines in ‘A Minecra...            True   \n",
       "2  A $1.8 billion mistake could cost the South Ca...            True   \n",
       "3  Black women’s hair products are in the safety ...            True   \n",
       "4  Dow wants to power its Texas manufacturing com...            True   \n",
       "\n",
       "  scrape_error  \n",
       "0         None  \n",
       "1         None  \n",
       "2         None  \n",
       "3         None  \n",
       "4         None  "
      ]
     },
     "metadata": {},
     "output_type": "display_data"
    }
   ],
   "source": [
    "# Scrape the news links\n",
    "workflow.scrape(news_links)\n",
    "# Display the scraped content\n",
    "scrape_store_df = workflow.get_scrapes()\n",
    "display(scrape_store_df.head())"
   ]
  },
  {
   "cell_type": "markdown",
   "metadata": {},
   "source": [
    "## Analyze content with OpenAI\n",
    "Next we will analyze the stored scrapes."
   ]
  },
  {
   "cell_type": "code",
   "execution_count": 6,
   "metadata": {},
   "outputs": [
    {
     "name": "stdout",
     "output_type": "stream",
     "text": [
      "Analyzing 142/142 new or retry links with content...\n"
     ]
    },
    {
     "name": "stderr",
     "output_type": "stream",
     "text": [
      "Analyzing content: 100%|██████████| 142/142 [02:25<00:00,  1.03s/it]"
     ]
    },
    {
     "name": "stdout",
     "output_type": "stream",
     "text": [
      "Successfully analyzed 142/142 links.\n"
     ]
    },
    {
     "name": "stderr",
     "output_type": "stream",
     "text": [
      "\n"
     ]
    },
    {
     "data": {
      "text/html": [
       "<div>\n",
       "<style scoped>\n",
       "    .dataframe tbody tr th:only-of-type {\n",
       "        vertical-align: middle;\n",
       "    }\n",
       "\n",
       "    .dataframe tbody tr th {\n",
       "        vertical-align: top;\n",
       "    }\n",
       "\n",
       "    .dataframe thead th {\n",
       "        text-align: right;\n",
       "    }\n",
       "</style>\n",
       "<table border=\"1\" class=\"dataframe\">\n",
       "  <thead>\n",
       "    <tr style=\"text-align: right;\">\n",
       "      <th></th>\n",
       "      <th>link</th>\n",
       "      <th>output</th>\n",
       "      <th>analysis_success</th>\n",
       "      <th>analysis_error</th>\n",
       "    </tr>\n",
       "  </thead>\n",
       "  <tbody>\n",
       "    <tr>\n",
       "      <th>0</th>\n",
       "      <td>https://apnews.com/article/nasa-stuck-astronau...</td>\n",
       "      <td>{'celebrities': ['Butch Wilmore', 'Suni Willia...</td>\n",
       "      <td>True</td>\n",
       "      <td>None</td>\n",
       "    </tr>\n",
       "    <tr>\n",
       "      <th>1</th>\n",
       "      <td>https://apnews.com/article/minecraft-movie-rev...</td>\n",
       "      <td>{'celebrities': ['Jason Momoa', 'Jennifer Cool...</td>\n",
       "      <td>True</td>\n",
       "      <td>None</td>\n",
       "    </tr>\n",
       "    <tr>\n",
       "      <th>2</th>\n",
       "      <td>https://apnews.com/article/south-carolina-acco...</td>\n",
       "      <td>{'celebrities': []}</td>\n",
       "      <td>True</td>\n",
       "      <td>None</td>\n",
       "    </tr>\n",
       "    <tr>\n",
       "      <th>3</th>\n",
       "      <td>https://apnews.com/article/black-hair-formalde...</td>\n",
       "      <td>{'celebrities': ['Javon Ford', 'James Rogers',...</td>\n",
       "      <td>True</td>\n",
       "      <td>None</td>\n",
       "    </tr>\n",
       "    <tr>\n",
       "      <th>4</th>\n",
       "      <td>https://apnews.com/article/nuclear-dow-xenergy...</td>\n",
       "      <td>{'celebrities': ['Bill Gates']}</td>\n",
       "      <td>True</td>\n",
       "      <td>None</td>\n",
       "    </tr>\n",
       "  </tbody>\n",
       "</table>\n",
       "</div>"
      ],
      "text/plain": [
       "                                                link  \\\n",
       "0  https://apnews.com/article/nasa-stuck-astronau...   \n",
       "1  https://apnews.com/article/minecraft-movie-rev...   \n",
       "2  https://apnews.com/article/south-carolina-acco...   \n",
       "3  https://apnews.com/article/black-hair-formalde...   \n",
       "4  https://apnews.com/article/nuclear-dow-xenergy...   \n",
       "\n",
       "                                              output  analysis_success  \\\n",
       "0  {'celebrities': ['Butch Wilmore', 'Suni Willia...              True   \n",
       "1  {'celebrities': ['Jason Momoa', 'Jennifer Cool...              True   \n",
       "2                                {'celebrities': []}              True   \n",
       "3  {'celebrities': ['Javon Ford', 'James Rogers',...              True   \n",
       "4                    {'celebrities': ['Bill Gates']}              True   \n",
       "\n",
       "  analysis_error  \n",
       "0           None  \n",
       "1           None  \n",
       "2           None  \n",
       "3           None  \n",
       "4           None  "
      ]
     },
     "metadata": {},
     "output_type": "display_data"
    }
   ],
   "source": [
    "# Analyze the scraped content\n",
    "workflow.analyze()\n",
    "\n",
    "# Display the analyses\n",
    "analysis_store_df = workflow.get_analyses()\n",
    "display(analysis_store_df.head())"
   ]
  },
  {
   "cell_type": "markdown",
   "metadata": {},
   "source": [
    "## Compile the results\n",
    "Finally, let's export the completed analysis. "
   ]
  },
  {
   "cell_type": "code",
   "execution_count": 10,
   "metadata": {},
   "outputs": [
    {
     "data": {
      "text/html": [
       "<div>\n",
       "<style scoped>\n",
       "    .dataframe tbody tr th:only-of-type {\n",
       "        vertical-align: middle;\n",
       "    }\n",
       "\n",
       "    .dataframe tbody tr th {\n",
       "        vertical-align: top;\n",
       "    }\n",
       "\n",
       "    .dataframe thead th {\n",
       "        text-align: right;\n",
       "    }\n",
       "</style>\n",
       "<table border=\"1\" class=\"dataframe\">\n",
       "  <thead>\n",
       "    <tr style=\"text-align: right;\">\n",
       "      <th></th>\n",
       "      <th>link</th>\n",
       "      <th>scrape_success</th>\n",
       "      <th>analysis_success</th>\n",
       "      <th>celebrities</th>\n",
       "    </tr>\n",
       "  </thead>\n",
       "  <tbody>\n",
       "    <tr>\n",
       "      <th>0</th>\n",
       "      <td>https://apnews.com/article/nasa-stuck-astronau...</td>\n",
       "      <td>True</td>\n",
       "      <td>True</td>\n",
       "      <td>[Butch Wilmore, Suni Williams, Elon Musk, Dona...</td>\n",
       "    </tr>\n",
       "    <tr>\n",
       "      <th>1</th>\n",
       "      <td>https://apnews.com/article/minecraft-movie-rev...</td>\n",
       "      <td>True</td>\n",
       "      <td>True</td>\n",
       "      <td>[Jason Momoa, Jennifer Coolidge, Jack Black, E...</td>\n",
       "    </tr>\n",
       "    <tr>\n",
       "      <th>2</th>\n",
       "      <td>https://apnews.com/article/south-carolina-acco...</td>\n",
       "      <td>True</td>\n",
       "      <td>True</td>\n",
       "      <td>[]</td>\n",
       "    </tr>\n",
       "    <tr>\n",
       "      <th>3</th>\n",
       "      <td>https://apnews.com/article/black-hair-formalde...</td>\n",
       "      <td>True</td>\n",
       "      <td>True</td>\n",
       "      <td>[Javon Ford, James Rogers, Jasmine McDonald, G...</td>\n",
       "    </tr>\n",
       "    <tr>\n",
       "      <th>4</th>\n",
       "      <td>https://apnews.com/article/nuclear-dow-xenergy...</td>\n",
       "      <td>True</td>\n",
       "      <td>True</td>\n",
       "      <td>[Bill Gates]</td>\n",
       "    </tr>\n",
       "    <tr>\n",
       "      <th>...</th>\n",
       "      <td>...</td>\n",
       "      <td>...</td>\n",
       "      <td>...</td>\n",
       "      <td>...</td>\n",
       "    </tr>\n",
       "    <tr>\n",
       "      <th>137</th>\n",
       "      <td>https://apnews.com/article/marc-fogel-pittsbur...</td>\n",
       "      <td>True</td>\n",
       "      <td>True</td>\n",
       "      <td>[Marc Fogel, Alexander Vinnik]</td>\n",
       "    </tr>\n",
       "    <tr>\n",
       "      <th>138</th>\n",
       "      <td>https://apnews.com/article/michigan-marijuana-...</td>\n",
       "      <td>True</td>\n",
       "      <td>True</td>\n",
       "      <td>[]</td>\n",
       "    </tr>\n",
       "    <tr>\n",
       "      <th>139</th>\n",
       "      <td>https://apnews.com/article/boston-ice-district...</td>\n",
       "      <td>True</td>\n",
       "      <td>True</td>\n",
       "      <td>[]</td>\n",
       "    </tr>\n",
       "    <tr>\n",
       "      <th>140</th>\n",
       "      <td>https://apnews.com/article/wnba-womens-basketb...</td>\n",
       "      <td>True</td>\n",
       "      <td>True</td>\n",
       "      <td>[Kitty Henderson, Natalie White, Deion Sanders...</td>\n",
       "    </tr>\n",
       "    <tr>\n",
       "      <th>141</th>\n",
       "      <td>https://apnews.com/article/pirates-paul-skenes...</td>\n",
       "      <td>True</td>\n",
       "      <td>True</td>\n",
       "      <td>[Paul Skenes, Livvy Dunne]</td>\n",
       "    </tr>\n",
       "  </tbody>\n",
       "</table>\n",
       "<p>142 rows × 4 columns</p>\n",
       "</div>"
      ],
      "text/plain": [
       "                                                  link  scrape_success  \\\n",
       "0    https://apnews.com/article/nasa-stuck-astronau...            True   \n",
       "1    https://apnews.com/article/minecraft-movie-rev...            True   \n",
       "2    https://apnews.com/article/south-carolina-acco...            True   \n",
       "3    https://apnews.com/article/black-hair-formalde...            True   \n",
       "4    https://apnews.com/article/nuclear-dow-xenergy...            True   \n",
       "..                                                 ...             ...   \n",
       "137  https://apnews.com/article/marc-fogel-pittsbur...            True   \n",
       "138  https://apnews.com/article/michigan-marijuana-...            True   \n",
       "139  https://apnews.com/article/boston-ice-district...            True   \n",
       "140  https://apnews.com/article/wnba-womens-basketb...            True   \n",
       "141  https://apnews.com/article/pirates-paul-skenes...            True   \n",
       "\n",
       "     analysis_success                                        celebrities  \n",
       "0                True  [Butch Wilmore, Suni Williams, Elon Musk, Dona...  \n",
       "1                True  [Jason Momoa, Jennifer Coolidge, Jack Black, E...  \n",
       "2                True                                                 []  \n",
       "3                True  [Javon Ford, James Rogers, Jasmine McDonald, G...  \n",
       "4                True                                       [Bill Gates]  \n",
       "..                ...                                                ...  \n",
       "137              True                     [Marc Fogel, Alexander Vinnik]  \n",
       "138              True                                                 []  \n",
       "139              True                                                 []  \n",
       "140              True  [Kitty Henderson, Natalie White, Deion Sanders...  \n",
       "141              True                         [Paul Skenes, Livvy Dunne]  \n",
       "\n",
       "[142 rows x 4 columns]"
      ]
     },
     "metadata": {},
     "output_type": "display_data"
    }
   ],
   "source": [
    "export_df = workflow.export()\n",
    "display(export_df)\n",
    "export_df.to_csv('celebrities.csv', index=False)"
   ]
  },
  {
   "cell_type": "markdown",
   "metadata": {},
   "source": [
    "## Analyze the results\n",
    "Now you can conduct your own analysis on the structured data collected by the scraipe workflow."
   ]
  },
  {
   "cell_type": "code",
   "execution_count": 11,
   "metadata": {},
   "outputs": [
    {
     "data": {
      "text/html": [
       "<div>\n",
       "<style scoped>\n",
       "    .dataframe tbody tr th:only-of-type {\n",
       "        vertical-align: middle;\n",
       "    }\n",
       "\n",
       "    .dataframe tbody tr th {\n",
       "        vertical-align: top;\n",
       "    }\n",
       "\n",
       "    .dataframe thead th {\n",
       "        text-align: right;\n",
       "    }\n",
       "</style>\n",
       "<table border=\"1\" class=\"dataframe\">\n",
       "  <thead>\n",
       "    <tr style=\"text-align: right;\">\n",
       "      <th></th>\n",
       "      <th>celebrity</th>\n",
       "      <th>mentions</th>\n",
       "    </tr>\n",
       "  </thead>\n",
       "  <tbody>\n",
       "    <tr>\n",
       "      <th>0</th>\n",
       "      <td>Donald Trump</td>\n",
       "      <td>41</td>\n",
       "    </tr>\n",
       "    <tr>\n",
       "      <th>1</th>\n",
       "      <td>Elon Musk</td>\n",
       "      <td>13</td>\n",
       "    </tr>\n",
       "    <tr>\n",
       "      <th>2</th>\n",
       "      <td>Joe Biden</td>\n",
       "      <td>7</td>\n",
       "    </tr>\n",
       "    <tr>\n",
       "      <th>3</th>\n",
       "      <td>Cory Booker</td>\n",
       "      <td>4</td>\n",
       "    </tr>\n",
       "    <tr>\n",
       "      <th>4</th>\n",
       "      <td>Benjamin Netanyahu</td>\n",
       "      <td>4</td>\n",
       "    </tr>\n",
       "    <tr>\n",
       "      <th>5</th>\n",
       "      <td>Robert F. Kennedy Jr.</td>\n",
       "      <td>4</td>\n",
       "    </tr>\n",
       "    <tr>\n",
       "      <th>6</th>\n",
       "      <td>Giorgia Meloni</td>\n",
       "      <td>3</td>\n",
       "    </tr>\n",
       "    <tr>\n",
       "      <th>7</th>\n",
       "      <td>Claudia Sheinbaum</td>\n",
       "      <td>3</td>\n",
       "    </tr>\n",
       "    <tr>\n",
       "      <th>8</th>\n",
       "      <td>Taylor Swift</td>\n",
       "      <td>3</td>\n",
       "    </tr>\n",
       "    <tr>\n",
       "      <th>9</th>\n",
       "      <td>Kristi Noem</td>\n",
       "      <td>3</td>\n",
       "    </tr>\n",
       "  </tbody>\n",
       "</table>\n",
       "</div>"
      ],
      "text/plain": [
       "               celebrity  mentions\n",
       "0           Donald Trump        41\n",
       "1              Elon Musk        13\n",
       "2              Joe Biden         7\n",
       "3            Cory Booker         4\n",
       "4     Benjamin Netanyahu         4\n",
       "5  Robert F. Kennedy Jr.         4\n",
       "6         Giorgia Meloni         3\n",
       "7      Claudia Sheinbaum         3\n",
       "8           Taylor Swift         3\n",
       "9            Kristi Noem         3"
      ]
     },
     "execution_count": 11,
     "metadata": {},
     "output_type": "execute_result"
    }
   ],
   "source": [
    "# Load the extracted data\n",
    "celebrities_df = pd.read_csv('celebrities.csv')\n",
    "from ast import literal_eval\n",
    "celebrities_df['celebrities'] = celebrities_df['celebrities'].apply(literal_eval)\n",
    "\n",
    "# Explode the nested list of celebrities\n",
    "celebrities_df = celebrities_df.explode('celebrities')\n",
    "celebrities_df['celebrities'] = celebrities_df['celebrities'].str.strip()\n",
    "\n",
    "# Display the top 10 most mentioned celebrities\n",
    "celebrities_df = celebrities_df['celebrities'].value_counts().reset_index()\n",
    "celebrities_df.columns = ['celebrity', 'mentions']\n",
    "celebrities_df = celebrities_df.sort_values('mentions', ascending=False)\n",
    "celebrities_df.head(10)"
   ]
  }
 ],
 "metadata": {
  "kernelspec": {
   "display_name": "scraipe-test2",
   "language": "python",
   "name": "python3"
  },
  "language_info": {
   "codemirror_mode": {
    "name": "ipython",
    "version": 3
   },
   "file_extension": ".py",
   "mimetype": "text/x-python",
   "name": "python",
   "nbconvert_exporter": "python",
   "pygments_lexer": "ipython3",
   "version": "3.13.2"
  }
 },
 "nbformat": 4,
 "nbformat_minor": 2
}
