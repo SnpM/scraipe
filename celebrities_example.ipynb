{
 "cells": [
  {
   "cell_type": "markdown",
   "metadata": {},
   "source": [
    "# Example Usage of Scraipe Library\n",
    "\n",
    "Here's a quick example using scraipe to extract mentions of celebrities in news articles."
   ]
  },
  {
   "cell_type": "markdown",
   "metadata": {},
   "source": [
    "## Setup\n",
    "Install and import things we need. We will use `NewsScraper` and `OpenAiAnalyzer` from the `scraipe[extras]` subpackage.\n",
    "\n",
    "We will also load [your OpenAI API key](https://help.openai.com/en/articles/4936850-where-do-i-find-my-openai-api-key) from a file called 'openai_key.txt'. This file should be in the same folder as this notebook."
   ]
  },
  {
   "cell_type": "code",
   "execution_count": null,
   "metadata": {},
   "outputs": [
    {
     "name": "stdout",
     "output_type": "stream",
     "text": [
      "Note: you may need to restart the kernel to use updated packages.\n",
      "Version: 0.1.24\n"
     ]
    }
   ],
   "source": [
    "# Install Scraipe\n",
    "%pip install scraipe[extras] --quiet --upgrade\n",
    "# Check package version\n",
    "!pip show scraipe | grep Version"
   ]
  },
  {
   "cell_type": "code",
   "execution_count": 7,
   "metadata": {},
   "outputs": [],
   "source": [
    "\n",
    "# Import modules\n",
    "import pandas as pd\n",
    "from scraipe import Workflow\n",
    "from scraipe.extras import NewsScraper, OpenAiAnalyzer\n",
    "from pydantic import BaseModel\n",
    "\n",
    "# Load OpenAI API key\n",
    "OPENAI_API_KEY = open(\"openai_key.txt\").read().strip()"
   ]
  },
  {
   "cell_type": "markdown",
   "metadata": {},
   "source": [
    "## Extract links\n",
    "First, we need a list of links to target with scraipe. We will extract all links from the front page of https://apnews.com."
   ]
  },
  {
   "cell_type": "code",
   "execution_count": 8,
   "metadata": {},
   "outputs": [
    {
     "name": "stdout",
     "output_type": "stream",
     "text": [
      "Found 135 front page AP News links on 2025-04-04\n"
     ]
    },
    {
     "data": {
      "text/html": [
       "<div>\n",
       "<style scoped>\n",
       "    .dataframe tbody tr th:only-of-type {\n",
       "        vertical-align: middle;\n",
       "    }\n",
       "\n",
       "    .dataframe tbody tr th {\n",
       "        vertical-align: top;\n",
       "    }\n",
       "\n",
       "    .dataframe thead th {\n",
       "        text-align: right;\n",
       "    }\n",
       "</style>\n",
       "<table border=\"1\" class=\"dataframe\">\n",
       "  <thead>\n",
       "    <tr style=\"text-align: right;\">\n",
       "      <th></th>\n",
       "      <th>link</th>\n",
       "    </tr>\n",
       "  </thead>\n",
       "  <tbody>\n",
       "    <tr>\n",
       "      <th>0</th>\n",
       "      <td>https://apnews.com/article/nasa-webb-telescope...</td>\n",
       "    </tr>\n",
       "    <tr>\n",
       "      <th>1</th>\n",
       "      <td>https://apnews.com/article/hoosiers-devries-co...</td>\n",
       "    </tr>\n",
       "    <tr>\n",
       "      <th>2</th>\n",
       "      <td>https://apnews.com/article/el-salvador-deporta...</td>\n",
       "    </tr>\n",
       "    <tr>\n",
       "      <th>3</th>\n",
       "      <td>https://apnews.com/article/south-korea-martial...</td>\n",
       "    </tr>\n",
       "    <tr>\n",
       "      <th>4</th>\n",
       "      <td>https://apnews.com/article/china-movies-imax-u...</td>\n",
       "    </tr>\n",
       "  </tbody>\n",
       "</table>\n",
       "</div>"
      ],
      "text/plain": [
       "                                                link\n",
       "0  https://apnews.com/article/nasa-webb-telescope...\n",
       "1  https://apnews.com/article/hoosiers-devries-co...\n",
       "2  https://apnews.com/article/el-salvador-deporta...\n",
       "3  https://apnews.com/article/south-korea-martial...\n",
       "4  https://apnews.com/article/china-movies-imax-u..."
      ]
     },
     "metadata": {},
     "output_type": "display_data"
    }
   ],
   "source": [
    "import requests\n",
    "import re\n",
    "\n",
    "url = \"https://apnews.com/\"\n",
    "response = requests.get(url)\n",
    "html = response.text\n",
    "\n",
    "# Use a regex to extract article links\n",
    "pattern = r'href=[\"\\'](?=[^\"\\']*/article)([^\"\\']+)[\"\\']'\n",
    "news_links = re.findall(pattern, html)\n",
    "\n",
    "# Remove duplicates\n",
    "news_links = list(set(news_links))\n",
    "\n",
    "# Display a summary of the links\n",
    "news_links_df = pd.DataFrame(news_links, columns=['link'])\n",
    "import time\n",
    "print(f\"Found {len(news_links_df)} front page AP News links on {time.strftime('%Y-%m-%d')}\")\n",
    "display(news_links_df.head())"
   ]
  },
  {
   "cell_type": "markdown",
   "metadata": {},
   "source": [
    "## Configure Workflow\n",
    "Now we'll configure the scraipe workflow using `NewsScraper` and `OpenAiAnalyzer`.\n",
    "\n",
    "`NewsScraper` uses the `trafilatura` to extract article content from a news site without all the HTML clutter.\n",
    "\n",
    "`OpenAiAnalyzer` uses OpenAI models to extract data from the article content."
   ]
  },
  {
   "cell_type": "code",
   "execution_count": 9,
   "metadata": {},
   "outputs": [],
   "source": [
    "#===Configure NewsScraper===\n",
    "# NewsScraper doesn't require any additional configuration\n",
    "scraper = NewsScraper()\n",
    "\n",
    "#===Configure OpenAiAnalyzer===\n",
    "# Define the instruction for the LLM. Ensure the instruction specifies a return schema.\n",
    "instruction = '''\n",
    "Extract a list of celebrities mentioned in the article text.\n",
    "Return a JSON dictionary with the following schema:\n",
    "{\"celebrities\":[\"celebrity1\", \"celebrity2\", ...]}\n",
    "'''\n",
    "\n",
    "# (Optional) Create a pydantic schema to validate the LLM output\n",
    "from typing import List\n",
    "class ExpectedOutput(BaseModel):\n",
    "    celebrities: List[str]\n",
    "    \n",
    "# Create the analyzer with the API key, instruction, and schema\n",
    "analyzer = OpenAiAnalyzer(OPENAI_API_KEY,instruction,pydantic_schema=ExpectedOutput)\n",
    "\n",
    "#===Create Workflow===\n",
    "# Create a workflow with the configured scraper and analyzer\n",
    "workflow = Workflow(scraper, analyzer)"
   ]
  },
  {
   "cell_type": "markdown",
   "metadata": {},
   "source": [
    "## Scrape content from news links\n",
    "Next we will scrape content from news links. This content will be saved within the workflow's scrape store."
   ]
  },
  {
   "cell_type": "code",
   "execution_count": 10,
   "metadata": {},
   "outputs": [
    {
     "name": "stdout",
     "output_type": "stream",
     "text": [
      "Scraping 135/135 new or retry links...\n"
     ]
    },
    {
     "name": "stderr",
     "output_type": "stream",
     "text": [
      "Scraping: 100%|██████████| 135/135 [00:17<00:00,  7.69link/s]"
     ]
    },
    {
     "name": "stdout",
     "output_type": "stream",
     "text": [
      "Successfully scraped 135/135 links.\n"
     ]
    },
    {
     "name": "stderr",
     "output_type": "stream",
     "text": [
      "\n"
     ]
    },
    {
     "data": {
      "text/html": [
       "<div>\n",
       "<style scoped>\n",
       "    .dataframe tbody tr th:only-of-type {\n",
       "        vertical-align: middle;\n",
       "    }\n",
       "\n",
       "    .dataframe tbody tr th {\n",
       "        vertical-align: top;\n",
       "    }\n",
       "\n",
       "    .dataframe thead th {\n",
       "        text-align: right;\n",
       "    }\n",
       "</style>\n",
       "<table border=\"1\" class=\"dataframe\">\n",
       "  <thead>\n",
       "    <tr style=\"text-align: right;\">\n",
       "      <th></th>\n",
       "      <th>link</th>\n",
       "      <th>content</th>\n",
       "      <th>scrape_success</th>\n",
       "      <th>scrape_error</th>\n",
       "    </tr>\n",
       "  </thead>\n",
       "  <tbody>\n",
       "    <tr>\n",
       "      <th>0</th>\n",
       "      <td>https://apnews.com/article/china-eeuu-arancele...</td>\n",
       "      <td>China impondrá arancel del 34% a las importaci...</td>\n",
       "      <td>True</td>\n",
       "      <td>None</td>\n",
       "    </tr>\n",
       "    <tr>\n",
       "      <th>1</th>\n",
       "      <td>https://apnews.com/article/bryan-kohberger-uni...</td>\n",
       "      <td>Prosecution adds former US attorney to Univers...</td>\n",
       "      <td>True</td>\n",
       "      <td>None</td>\n",
       "    </tr>\n",
       "    <tr>\n",
       "      <th>2</th>\n",
       "      <td>https://apnews.com/article/tunisia-snails-alte...</td>\n",
       "      <td>In Tunisia, snails inch toward replacing red m...</td>\n",
       "      <td>True</td>\n",
       "      <td>None</td>\n",
       "    </tr>\n",
       "    <tr>\n",
       "      <th>3</th>\n",
       "      <td>https://apnews.com/article/trump-national-secu...</td>\n",
       "      <td>Top Democrats protest after reported firing of...</td>\n",
       "      <td>True</td>\n",
       "      <td>None</td>\n",
       "    </tr>\n",
       "    <tr>\n",
       "      <th>4</th>\n",
       "      <td>https://apnews.com/article/minecraft-movie-rev...</td>\n",
       "      <td>Movie Review: Jason Momoa shines in ‘A Minecra...</td>\n",
       "      <td>True</td>\n",
       "      <td>None</td>\n",
       "    </tr>\n",
       "  </tbody>\n",
       "</table>\n",
       "</div>"
      ],
      "text/plain": [
       "                                                link  \\\n",
       "0  https://apnews.com/article/china-eeuu-arancele...   \n",
       "1  https://apnews.com/article/bryan-kohberger-uni...   \n",
       "2  https://apnews.com/article/tunisia-snails-alte...   \n",
       "3  https://apnews.com/article/trump-national-secu...   \n",
       "4  https://apnews.com/article/minecraft-movie-rev...   \n",
       "\n",
       "                                             content  scrape_success  \\\n",
       "0  China impondrá arancel del 34% a las importaci...            True   \n",
       "1  Prosecution adds former US attorney to Univers...            True   \n",
       "2  In Tunisia, snails inch toward replacing red m...            True   \n",
       "3  Top Democrats protest after reported firing of...            True   \n",
       "4  Movie Review: Jason Momoa shines in ‘A Minecra...            True   \n",
       "\n",
       "  scrape_error  \n",
       "0         None  \n",
       "1         None  \n",
       "2         None  \n",
       "3         None  \n",
       "4         None  "
      ]
     },
     "metadata": {},
     "output_type": "display_data"
    }
   ],
   "source": [
    "# Scrape the news links\n",
    "workflow.scrape(news_links)\n",
    "# Display the scraped content\n",
    "scrape_store_df = workflow.get_scrapes()\n",
    "display(scrape_store_df.head())"
   ]
  },
  {
   "cell_type": "markdown",
   "metadata": {},
   "source": [
    "## Analyze content with OpenAI\n",
    "Next we will analyze the stored scrapes."
   ]
  },
  {
   "cell_type": "code",
   "execution_count": 11,
   "metadata": {},
   "outputs": [
    {
     "name": "stdout",
     "output_type": "stream",
     "text": [
      "Analyzing 135/135 new or retry links with content...\n"
     ]
    },
    {
     "name": "stderr",
     "output_type": "stream",
     "text": [
      "Analyzing: 100%|██████████| 135/135 [00:53<00:00,  2.53item/s]"
     ]
    },
    {
     "name": "stdout",
     "output_type": "stream",
     "text": [
      "Successfully analyzed 135/135 links.\n"
     ]
    },
    {
     "name": "stderr",
     "output_type": "stream",
     "text": [
      "\n"
     ]
    },
    {
     "data": {
      "text/html": [
       "<div>\n",
       "<style scoped>\n",
       "    .dataframe tbody tr th:only-of-type {\n",
       "        vertical-align: middle;\n",
       "    }\n",
       "\n",
       "    .dataframe tbody tr th {\n",
       "        vertical-align: top;\n",
       "    }\n",
       "\n",
       "    .dataframe thead th {\n",
       "        text-align: right;\n",
       "    }\n",
       "</style>\n",
       "<table border=\"1\" class=\"dataframe\">\n",
       "  <thead>\n",
       "    <tr style=\"text-align: right;\">\n",
       "      <th></th>\n",
       "      <th>link</th>\n",
       "      <th>output</th>\n",
       "      <th>analysis_success</th>\n",
       "      <th>analysis_error</th>\n",
       "    </tr>\n",
       "  </thead>\n",
       "  <tbody>\n",
       "    <tr>\n",
       "      <th>0</th>\n",
       "      <td>https://apnews.com/article/china-eeuu-arancele...</td>\n",
       "      <td>{'celebrities': ['Donald Trump']}</td>\n",
       "      <td>True</td>\n",
       "      <td>None</td>\n",
       "    </tr>\n",
       "    <tr>\n",
       "      <th>1</th>\n",
       "      <td>https://apnews.com/article/bryan-kohberger-uni...</td>\n",
       "      <td>{'celebrities': ['Joe Biden']}</td>\n",
       "      <td>True</td>\n",
       "      <td>None</td>\n",
       "    </tr>\n",
       "    <tr>\n",
       "      <th>2</th>\n",
       "      <td>https://apnews.com/article/tunisia-snails-alte...</td>\n",
       "      <td>{'celebrities': []}</td>\n",
       "      <td>True</td>\n",
       "      <td>None</td>\n",
       "    </tr>\n",
       "    <tr>\n",
       "      <th>3</th>\n",
       "      <td>https://apnews.com/article/trump-national-secu...</td>\n",
       "      <td>{'celebrities': ['Donald Trump', 'Laura Loomer...</td>\n",
       "      <td>True</td>\n",
       "      <td>None</td>\n",
       "    </tr>\n",
       "    <tr>\n",
       "      <th>4</th>\n",
       "      <td>https://apnews.com/article/minecraft-movie-rev...</td>\n",
       "      <td>{'celebrities': ['Jason Momoa', 'Jennifer Cool...</td>\n",
       "      <td>True</td>\n",
       "      <td>None</td>\n",
       "    </tr>\n",
       "  </tbody>\n",
       "</table>\n",
       "</div>"
      ],
      "text/plain": [
       "                                                link  \\\n",
       "0  https://apnews.com/article/china-eeuu-arancele...   \n",
       "1  https://apnews.com/article/bryan-kohberger-uni...   \n",
       "2  https://apnews.com/article/tunisia-snails-alte...   \n",
       "3  https://apnews.com/article/trump-national-secu...   \n",
       "4  https://apnews.com/article/minecraft-movie-rev...   \n",
       "\n",
       "                                              output  analysis_success  \\\n",
       "0                  {'celebrities': ['Donald Trump']}              True   \n",
       "1                     {'celebrities': ['Joe Biden']}              True   \n",
       "2                                {'celebrities': []}              True   \n",
       "3  {'celebrities': ['Donald Trump', 'Laura Loomer...              True   \n",
       "4  {'celebrities': ['Jason Momoa', 'Jennifer Cool...              True   \n",
       "\n",
       "  analysis_error  \n",
       "0           None  \n",
       "1           None  \n",
       "2           None  \n",
       "3           None  \n",
       "4           None  "
      ]
     },
     "metadata": {},
     "output_type": "display_data"
    }
   ],
   "source": [
    "# Analyze the scraped content\n",
    "workflow.analyze()\n",
    "\n",
    "# Display the analyses\n",
    "analysis_store_df = workflow.get_analyses()\n",
    "display(analysis_store_df.head())"
   ]
  },
  {
   "cell_type": "markdown",
   "metadata": {},
   "source": [
    "## Compile the results\n",
    "Finally, let's export the completed analysis. "
   ]
  },
  {
   "cell_type": "code",
   "execution_count": 14,
   "metadata": {},
   "outputs": [
    {
     "data": {
      "text/html": [
       "<div>\n",
       "<style scoped>\n",
       "    .dataframe tbody tr th:only-of-type {\n",
       "        vertical-align: middle;\n",
       "    }\n",
       "\n",
       "    .dataframe tbody tr th {\n",
       "        vertical-align: top;\n",
       "    }\n",
       "\n",
       "    .dataframe thead th {\n",
       "        text-align: right;\n",
       "    }\n",
       "</style>\n",
       "<table border=\"1\" class=\"dataframe\">\n",
       "  <thead>\n",
       "    <tr style=\"text-align: right;\">\n",
       "      <th></th>\n",
       "      <th>link</th>\n",
       "      <th>scrape_success</th>\n",
       "      <th>analysis_success</th>\n",
       "      <th>celebrities</th>\n",
       "    </tr>\n",
       "  </thead>\n",
       "  <tbody>\n",
       "    <tr>\n",
       "      <th>0</th>\n",
       "      <td>https://apnews.com/article/china-eeuu-arancele...</td>\n",
       "      <td>True</td>\n",
       "      <td>True</td>\n",
       "      <td>[Donald Trump]</td>\n",
       "    </tr>\n",
       "    <tr>\n",
       "      <th>1</th>\n",
       "      <td>https://apnews.com/article/bryan-kohberger-uni...</td>\n",
       "      <td>True</td>\n",
       "      <td>True</td>\n",
       "      <td>[Joe Biden]</td>\n",
       "    </tr>\n",
       "    <tr>\n",
       "      <th>2</th>\n",
       "      <td>https://apnews.com/article/tunisia-snails-alte...</td>\n",
       "      <td>True</td>\n",
       "      <td>True</td>\n",
       "      <td>[]</td>\n",
       "    </tr>\n",
       "    <tr>\n",
       "      <th>3</th>\n",
       "      <td>https://apnews.com/article/trump-national-secu...</td>\n",
       "      <td>True</td>\n",
       "      <td>True</td>\n",
       "      <td>[Donald Trump, Laura Loomer, Elon Musk, Pete H...</td>\n",
       "    </tr>\n",
       "    <tr>\n",
       "      <th>4</th>\n",
       "      <td>https://apnews.com/article/minecraft-movie-rev...</td>\n",
       "      <td>True</td>\n",
       "      <td>True</td>\n",
       "      <td>[Jason Momoa, Jennifer Coolidge, Jack Black, E...</td>\n",
       "    </tr>\n",
       "    <tr>\n",
       "      <th>...</th>\n",
       "      <td>...</td>\n",
       "      <td>...</td>\n",
       "      <td>...</td>\n",
       "      <td>...</td>\n",
       "    </tr>\n",
       "    <tr>\n",
       "      <th>130</th>\n",
       "      <td>https://apnews.com/article/villanova-willard-n...</td>\n",
       "      <td>True</td>\n",
       "      <td>True</td>\n",
       "      <td>[Kevin Willard, Scott Van Pelt, Len Elmore, Bu...</td>\n",
       "    </tr>\n",
       "    <tr>\n",
       "      <th>131</th>\n",
       "      <td>https://apnews.com/article/nintendo-switch-2-m...</td>\n",
       "      <td>True</td>\n",
       "      <td>True</td>\n",
       "      <td>[]</td>\n",
       "    </tr>\n",
       "    <tr>\n",
       "      <th>132</th>\n",
       "      <td>https://apnews.com/article/south-africa-drugs-...</td>\n",
       "      <td>True</td>\n",
       "      <td>True</td>\n",
       "      <td>[]</td>\n",
       "    </tr>\n",
       "    <tr>\n",
       "      <th>133</th>\n",
       "      <td>https://apnews.com/article/hurricane-names-hel...</td>\n",
       "      <td>True</td>\n",
       "      <td>True</td>\n",
       "      <td>[]</td>\n",
       "    </tr>\n",
       "    <tr>\n",
       "      <th>134</th>\n",
       "      <td>https://apnews.com/article/thailand-bimstec-su...</td>\n",
       "      <td>True</td>\n",
       "      <td>True</td>\n",
       "      <td>[Narendra Modi, Min Aung Hlaing, Paetongtarn S...</td>\n",
       "    </tr>\n",
       "  </tbody>\n",
       "</table>\n",
       "<p>135 rows × 4 columns</p>\n",
       "</div>"
      ],
      "text/plain": [
       "                                                  link  scrape_success  \\\n",
       "0    https://apnews.com/article/china-eeuu-arancele...            True   \n",
       "1    https://apnews.com/article/bryan-kohberger-uni...            True   \n",
       "2    https://apnews.com/article/tunisia-snails-alte...            True   \n",
       "3    https://apnews.com/article/trump-national-secu...            True   \n",
       "4    https://apnews.com/article/minecraft-movie-rev...            True   \n",
       "..                                                 ...             ...   \n",
       "130  https://apnews.com/article/villanova-willard-n...            True   \n",
       "131  https://apnews.com/article/nintendo-switch-2-m...            True   \n",
       "132  https://apnews.com/article/south-africa-drugs-...            True   \n",
       "133  https://apnews.com/article/hurricane-names-hel...            True   \n",
       "134  https://apnews.com/article/thailand-bimstec-su...            True   \n",
       "\n",
       "     analysis_success                                        celebrities  \n",
       "0                True                                     [Donald Trump]  \n",
       "1                True                                        [Joe Biden]  \n",
       "2                True                                                 []  \n",
       "3                True  [Donald Trump, Laura Loomer, Elon Musk, Pete H...  \n",
       "4                True  [Jason Momoa, Jennifer Coolidge, Jack Black, E...  \n",
       "..                ...                                                ...  \n",
       "130              True  [Kevin Willard, Scott Van Pelt, Len Elmore, Bu...  \n",
       "131              True                                                 []  \n",
       "132              True                                                 []  \n",
       "133              True                                                 []  \n",
       "134              True  [Narendra Modi, Min Aung Hlaing, Paetongtarn S...  \n",
       "\n",
       "[135 rows x 4 columns]"
      ]
     },
     "metadata": {},
     "output_type": "display_data"
    }
   ],
   "source": [
    "export_df = workflow.export()\n",
    "display(export_df)\n",
    "export_df.to_csv('celebrities.csv', index=False)"
   ]
  },
  {
   "cell_type": "markdown",
   "metadata": {},
   "source": [
    "## Analyze the results\n",
    "Now you can conduct your own analysis on the structured data collected by the scraipe workflow."
   ]
  },
  {
   "cell_type": "code",
   "execution_count": 15,
   "metadata": {},
   "outputs": [
    {
     "data": {
      "text/html": [
       "<div>\n",
       "<style scoped>\n",
       "    .dataframe tbody tr th:only-of-type {\n",
       "        vertical-align: middle;\n",
       "    }\n",
       "\n",
       "    .dataframe tbody tr th {\n",
       "        vertical-align: top;\n",
       "    }\n",
       "\n",
       "    .dataframe thead th {\n",
       "        text-align: right;\n",
       "    }\n",
       "</style>\n",
       "<table border=\"1\" class=\"dataframe\">\n",
       "  <thead>\n",
       "    <tr style=\"text-align: right;\">\n",
       "      <th></th>\n",
       "      <th>celebrity</th>\n",
       "      <th>mentions</th>\n",
       "    </tr>\n",
       "  </thead>\n",
       "  <tbody>\n",
       "    <tr>\n",
       "      <th>0</th>\n",
       "      <td>Donald Trump</td>\n",
       "      <td>42</td>\n",
       "    </tr>\n",
       "    <tr>\n",
       "      <th>1</th>\n",
       "      <td>Joe Biden</td>\n",
       "      <td>12</td>\n",
       "    </tr>\n",
       "    <tr>\n",
       "      <th>2</th>\n",
       "      <td>Elon Musk</td>\n",
       "      <td>7</td>\n",
       "    </tr>\n",
       "    <tr>\n",
       "      <th>4</th>\n",
       "      <td>Marco Rubio</td>\n",
       "      <td>5</td>\n",
       "    </tr>\n",
       "    <tr>\n",
       "      <th>3</th>\n",
       "      <td>Vladimir Putin</td>\n",
       "      <td>5</td>\n",
       "    </tr>\n",
       "    <tr>\n",
       "      <th>5</th>\n",
       "      <td>Yoon Suk Yeol</td>\n",
       "      <td>4</td>\n",
       "    </tr>\n",
       "    <tr>\n",
       "      <th>6</th>\n",
       "      <td>Mike Johnson</td>\n",
       "      <td>3</td>\n",
       "    </tr>\n",
       "    <tr>\n",
       "      <th>8</th>\n",
       "      <td>Laura Loomer</td>\n",
       "      <td>3</td>\n",
       "    </tr>\n",
       "    <tr>\n",
       "      <th>9</th>\n",
       "      <td>Ursula von der Leyen</td>\n",
       "      <td>3</td>\n",
       "    </tr>\n",
       "    <tr>\n",
       "      <th>10</th>\n",
       "      <td>Lee Jae-myung</td>\n",
       "      <td>3</td>\n",
       "    </tr>\n",
       "  </tbody>\n",
       "</table>\n",
       "</div>"
      ],
      "text/plain": [
       "               celebrity  mentions\n",
       "0           Donald Trump        42\n",
       "1              Joe Biden        12\n",
       "2              Elon Musk         7\n",
       "4            Marco Rubio         5\n",
       "3         Vladimir Putin         5\n",
       "5          Yoon Suk Yeol         4\n",
       "6           Mike Johnson         3\n",
       "8           Laura Loomer         3\n",
       "9   Ursula von der Leyen         3\n",
       "10         Lee Jae-myung         3"
      ]
     },
     "execution_count": 15,
     "metadata": {},
     "output_type": "execute_result"
    }
   ],
   "source": [
    "# Load the extracted data\n",
    "celebrities_df = pd.read_csv('celebrities.csv')\n",
    "from ast import literal_eval\n",
    "celebrities_df['celebrities'] = celebrities_df['celebrities'].apply(literal_eval)\n",
    "\n",
    "# Explode the nested list of celebrities\n",
    "celebrities_df = celebrities_df.explode('celebrities')\n",
    "celebrities_df['celebrities'] = celebrities_df['celebrities'].str.strip()\n",
    "\n",
    "# Display the top 10 most mentioned celebrities\n",
    "celebrities_df = celebrities_df['celebrities'].value_counts().reset_index()\n",
    "celebrities_df.columns = ['celebrity', 'mentions']\n",
    "celebrities_df = celebrities_df.sort_values('mentions', ascending=False)\n",
    "celebrities_df.head(10)"
   ]
  }
 ],
 "metadata": {
  "kernelspec": {
   "display_name": "scraipe-test2",
   "language": "python",
   "name": "python3"
  },
  "language_info": {
   "codemirror_mode": {
    "name": "ipython",
    "version": 3
   },
   "file_extension": ".py",
   "mimetype": "text/x-python",
   "name": "python",
   "nbconvert_exporter": "python",
   "pygments_lexer": "ipython3",
   "version": "3.13.2"
  }
 },
 "nbformat": 4,
 "nbformat_minor": 2
}
