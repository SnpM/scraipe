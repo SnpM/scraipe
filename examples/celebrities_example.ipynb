{
 "cells": [
  {
   "cell_type": "markdown",
   "metadata": {},
   "source": [
    "# Celebrity Mentions\n",
    "\n",
    "In this example, we will use scraipe to extract mentions of celebrities in news articles."
   ]
  },
  {
   "cell_type": "markdown",
   "metadata": {},
   "source": [
    "## Setup\n",
    "Install and import things we need. We will use `NewsScraper` and `OpenAiAnalyzer` from the `scraipe[extended]` subpackage.\n",
    "\n",
    "We will also load [your OpenAI API key](https://help.openai.com/en/articles/4936850-where-do-i-find-my-openai-api-key) from a file called 'openai_key.txt'. This file should be in the same folder as this notebook."
   ]
  },
  {
   "cell_type": "code",
   "execution_count": 2,
   "metadata": {},
   "outputs": [
    {
     "name": "stdout",
     "output_type": "stream",
     "text": [
      "Note: you may need to restart the kernel to use updated packages.\n",
      "Version: 0.1.67\n",
      "Note: you may need to restart the kernel to use updated packages.\n"
     ]
    }
   ],
   "source": [
    "# Install scraipe from PyPI:\n",
    "%pip install -qU scraipe\n",
    "# Alternatively, install scraipe package from repo\n",
    "#%pip install -qe ..\n",
    "\n",
    "# Check package version\n",
    "!pip show scraipe | grep Version\n",
    "\n",
    "# Install notebook widgets for cleaner output\n",
    "%pip install --quiet ipywidgets"
   ]
  },
  {
   "cell_type": "code",
   "execution_count": 3,
   "metadata": {},
   "outputs": [],
   "source": [
    "\n",
    "# Import modules\n",
    "import pandas as pd\n",
    "from scraipe import Workflow\n",
    "from scraipe.extended import NewsScraper, OpenAiAnalyzer\n",
    "from pydantic import BaseModel\n",
    "\n",
    "# Load OpenAI API key\n",
    "OPENAI_API_KEY = open(\"openai_key.txt\").read().strip()"
   ]
  },
  {
   "cell_type": "markdown",
   "metadata": {},
   "source": [
    "## Extract links\n",
    "First, we need a list of links to target with scraipe. We will extract all links from the front page of https://apnews.com."
   ]
  },
  {
   "cell_type": "code",
   "execution_count": null,
   "metadata": {},
   "outputs": [
    {
     "name": "stdout",
     "output_type": "stream",
     "text": [
      "Found 135 front page AP News links on 2025-05-11\n"
     ]
    },
    {
     "data": {
      "application/vnd.microsoft.datawrangler.viewer.v0+json": {
       "columns": [
        {
         "name": "index",
         "rawType": "int64",
         "type": "integer"
        },
        {
         "name": "link",
         "rawType": "object",
         "type": "string"
        }
       ],
       "conversionMethod": "pd.DataFrame",
       "ref": "e63a828c-1997-490e-aa19-d00a0f6131ec",
       "rows": [
        [
         "0",
         "https://apnews.com/article/pakistan-india-ipl-psl-afb26e71f786f9b56bc42576cbfcd281"
        ],
        [
         "1",
         "https://apnews.com/article/fact-check-military-recruitment-trump-hegseth-91700f0b688c3460458e467da95c8268"
        ],
        [
         "2",
         "https://apnews.com/article/gaza-aid-israel-distribution-plan-un-b98c095da5fccf06f8a87e978b45f0b9"
        ],
        [
         "3",
         "https://apnews.com/article/ethics-bowl-students-american-divisiveness-2d8297d1596646090af9994ac3d00770"
        ],
        [
         "4",
         "https://apnews.com/article/gold-prices-high-tariffs-economy-f3b4c66723b9fa1599b1ebc50cb9906e"
        ],
        [
         "5",
         "https://apnews.com/article/nhl-playoffs-jets-stars-score-b8facdf252825772b72a5f7af8337542"
        ],
        [
         "6",
         "https://apnews.com/article/habeas-corpus-trump-migrants-deportations-constitution-28a598363d03bfc9448b5132c72f2b3d"
        ],
        [
         "7",
         "https://apnews.com/article/pope-leo-sunday-blessing-vatican-mothers-day-mary-03e1386702c4cd1dbcf8707496d708a5"
        ],
        [
         "8",
         "https://apnews.com/article/david-attenborough-earths-last-wilderness-ocean-review-042d8baee1cd86914e2cf526d3b74a58"
        ],
        [
         "9",
         "https://apnews.com/article/arizona-oak-flat-copper-mining-apache-e2e3870f2e7ed866e9e0ddab735b8412"
        ],
        [
         "10",
         "https://apnews.com/article/iran-us-nuclear-talks-oman-mideast-tensions-trump-1b47c24a5f97e20bfebbc34ad8047e90"
        ],
        [
         "11",
         "https://apnews.com/article/gaza-hunger-malnutrition-food-hospital-israel-f0cf633f0a7a9ae6c23345436c5afe44"
        ],
        [
         "12",
         "https://apnews.com/article/michigan-us-senate-race-joe-tate-768752e358d075f368e6ef5afe1827fe"
        ],
        [
         "13",
         "https://apnews.com/article/paul-pierce-celtics-knicks-bet-walk-robe-d93bfe637ae9024ddafac43f18cd9db6"
        ],
        [
         "14",
         "https://apnews.com/article/amber-heard-twins-86db85b580430827835293a029938614"
        ],
        [
         "15",
         "https://apnews.com/article/split-juries-convictions-louisiana-bill-638f330e0056d674f80f6f1e0fda5a12"
        ],
        [
         "16",
         "https://apnews.com/article/zealand-snail-egg-neck-powelliphanta-augusta-3cb8082547a83b8c47848b6621c06cb0"
        ],
        [
         "17",
         "https://apnews.com/article/eastern-congo-flooding-tanganyika-2920667256de00bcfe5a6dfbe4414bf1"
        ],
        [
         "18",
         "https://apnews.com/article/netherlands-suriname-jewish-archive-project-e1483375c5032946c66b04f6d0994614"
        ],
        [
         "19",
         "https://apnews.com/article/trump-south-africa-refugees-afrikaners-white-9d6f87ae9b09ac21ba6ae2a2197b11d3"
        ],
        [
         "20",
         "https://apnews.com/article/copyright-director-firing-government-trump-7ab99992a96131bce7de853b66feec68"
        ],
        [
         "21",
         "https://apnews.com/article/chimpanzee-drumming-rhythm-238c1337b8e73055664a455e05efdf42"
        ],
        [
         "22",
         "https://apnews.com/article/israel-guerra-gaza-muertos-hamas-palestinos-6f5e702ca028d0d98b50d3ce64f66c14"
        ],
        [
         "23",
         "https://apnews.com/article/vaticano-papa-gaza-bendicion-leon-ucrania-paz-10896dd5db1ff32d485aea6ca7a835bf"
        ],
        [
         "24",
         "https://apnews.com/article/saudi-arabia-earns-aramco-d5f2a5e4726ea769a37aa429f660b41a"
        ],
        [
         "25",
         "https://apnews.com/article/britain-small-boats-immigration-starmer-reform-cooper-d83661777617aae46a5cb6942f544e54"
        ],
        [
         "26",
         "https://apnews.com/article/2025-pope-francis-community-church-extraordinary-photos"
        ],
        [
         "27",
         "https://apnews.com/article/bud-black-fired-rockies-mlb-218c2aea4f6ca883836baa781acaa147"
        ],
        [
         "28",
         "https://apnews.com/article/cruise-ship-norovirus-cdc-cuts-6cdef804c8145597fcdbde942b7636fb"
        ],
        [
         "29",
         "https://apnews.com/article/panama-nicaragua-colombia-asylim-0ae805f697fbdb5439c146f0d1a9a4a7"
        ],
        [
         "30",
         "https://apnews.com/article/puerto-rico-us-tariffs-manufacturing-pharmaceuticals-529be76078147a4e31f3a69686d801a2"
        ],
        [
         "31",
         "https://apnews.com/article/mexico-us-cattle-screwworm-b3fc2c3642e6773f98f4b9cd6072eb93"
        ],
        [
         "32",
         "https://apnews.com/article/measles-texas-vaccination-us-rfk-mmr-8fb86f56b0892408680daae4a52047e6"
        ],
        [
         "33",
         "https://apnews.com/article/box-office-thunderbolts-sinners-c614343b78ae80fd1e1abf8f97e7473e"
        ],
        [
         "34",
         "https://apnews.com/article/newark-airport-flight-reduction-transportation-secretary-sean-duffy-ad7ba9d37c41425c2b7ae23a2772e313"
        ],
        [
         "35",
         "https://apnews.com/article/vatican-pope-confirmation-rome-students-marymount-prevost-241cdeaaca3f46ee513b7b9d94d15bc0"
        ],
        [
         "36",
         "https://apnews.com/article/ucrania-guerra-rusia-putin-zelenskyy-negociaciones-tregua-7b7ec52d918b2595a4a15da319e8d711"
        ],
        [
         "37",
         "https://apnews.com/article/milwaukee-wisconsin-apartment-building-fire-sprinklers-0755584cae6a301f8c086be799c2d875"
        ],
        [
         "38",
         "https://apnews.com/article/trump-us-canada-trade-deficit-military-norad-spending-1417673f38f1829334a4e571ea058e03"
        ],
        [
         "39",
         "https://apnews.com/article/bangladesh-hasina-yunus-awami-league-78b40dfe9c92257f0042968c7b963c2a"
        ],
        [
         "40",
         "https://apnews.com/article/unrwa-schools-east-jerusalem-israel-palestinians-gaza-hamas-ce77505a6d5da1d67aa6859e4a233435"
        ],
        [
         "41",
         "https://apnews.com/article/trump-prescription-drugs-most-favored-nation-35c281b542f0f3938489ee7e9360322b"
        ],
        [
         "42",
         "https://apnews.com/article/watson-buccaneers-vea-8fe1af886c44c5745b84deb13bab90cb"
        ],
        [
         "43",
         "https://apnews.com/article/spain-fire-chemical-plant-vilanova-warehouse-chlorine-25bdfc5ce0f95ece3d4b816d11ccbb55"
        ],
        [
         "44",
         "https://apnews.com/article/skype-internet-microsoft-telecom-0b0155de4a8b6f8ae388b84cf80471c8"
        ],
        [
         "45",
         "https://apnews.com/article/pakistan-india-ceasefire-kashmir-6fa80010fa8ffee1da1f28e7b593aa2d"
        ],
        [
         "46",
         "https://apnews.com/article/poland-russia-420187f5755036f6f61c65122c11348f"
        ],
        [
         "47",
         "https://apnews.com/article/trump-two-dolls-tariffs-toys-7b0e5d3a9035471317e6dc4ee1fbfbc1"
        ],
        [
         "48",
         "https://apnews.com/article/soviet-venus-spacecraft-kosmos-482-93871c98ca9c09a67219e238ed3e2eaa"
        ],
        [
         "49",
         "https://apnews.com/article/russia-ukraine-war-ceasefire-2b3d2fad88436c5406ea63f81ac554ef"
        ]
       ],
       "shape": {
        "columns": 1,
        "rows": 135
       }
      },
      "text/html": [
       "<div>\n",
       "<style scoped>\n",
       "    .dataframe tbody tr th:only-of-type {\n",
       "        vertical-align: middle;\n",
       "    }\n",
       "\n",
       "    .dataframe tbody tr th {\n",
       "        vertical-align: top;\n",
       "    }\n",
       "\n",
       "    .dataframe thead th {\n",
       "        text-align: right;\n",
       "    }\n",
       "</style>\n",
       "<table border=\"1\" class=\"dataframe\">\n",
       "  <thead>\n",
       "    <tr style=\"text-align: right;\">\n",
       "      <th></th>\n",
       "      <th>link</th>\n",
       "    </tr>\n",
       "  </thead>\n",
       "  <tbody>\n",
       "    <tr>\n",
       "      <th>0</th>\n",
       "      <td>https://apnews.com/article/pakistan-india-ipl-...</td>\n",
       "    </tr>\n",
       "    <tr>\n",
       "      <th>1</th>\n",
       "      <td>https://apnews.com/article/fact-check-military...</td>\n",
       "    </tr>\n",
       "    <tr>\n",
       "      <th>2</th>\n",
       "      <td>https://apnews.com/article/gaza-aid-israel-dis...</td>\n",
       "    </tr>\n",
       "    <tr>\n",
       "      <th>3</th>\n",
       "      <td>https://apnews.com/article/ethics-bowl-student...</td>\n",
       "    </tr>\n",
       "    <tr>\n",
       "      <th>4</th>\n",
       "      <td>https://apnews.com/article/gold-prices-high-ta...</td>\n",
       "    </tr>\n",
       "    <tr>\n",
       "      <th>...</th>\n",
       "      <td>...</td>\n",
       "    </tr>\n",
       "    <tr>\n",
       "      <th>130</th>\n",
       "      <td>https://apnews.com/article/panthers-maple-leaf...</td>\n",
       "    </tr>\n",
       "    <tr>\n",
       "      <th>131</th>\n",
       "      <td>https://apnews.com/article/employee-resource-g...</td>\n",
       "    </tr>\n",
       "    <tr>\n",
       "      <th>132</th>\n",
       "      <td>https://apnews.com/article/lindor-mets-my-girl...</td>\n",
       "    </tr>\n",
       "    <tr>\n",
       "      <th>133</th>\n",
       "      <td>https://apnews.com/article/how-to-drop-an-egg-...</td>\n",
       "    </tr>\n",
       "    <tr>\n",
       "      <th>134</th>\n",
       "      <td>https://apnews.com/article/spring-cleaning-wor...</td>\n",
       "    </tr>\n",
       "  </tbody>\n",
       "</table>\n",
       "<p>135 rows × 1 columns</p>\n",
       "</div>"
      ],
      "text/plain": [
       "                                                  link\n",
       "0    https://apnews.com/article/pakistan-india-ipl-...\n",
       "1    https://apnews.com/article/fact-check-military...\n",
       "2    https://apnews.com/article/gaza-aid-israel-dis...\n",
       "3    https://apnews.com/article/ethics-bowl-student...\n",
       "4    https://apnews.com/article/gold-prices-high-ta...\n",
       "..                                                 ...\n",
       "130  https://apnews.com/article/panthers-maple-leaf...\n",
       "131  https://apnews.com/article/employee-resource-g...\n",
       "132  https://apnews.com/article/lindor-mets-my-girl...\n",
       "133  https://apnews.com/article/how-to-drop-an-egg-...\n",
       "134  https://apnews.com/article/spring-cleaning-wor...\n",
       "\n",
       "[135 rows x 1 columns]"
      ]
     },
     "metadata": {},
     "output_type": "display_data"
    }
   ],
   "source": [
    "import requests\n",
    "import re\n",
    "\n",
    "url = \"https://apnews.com/\"\n",
    "response = requests.get(url)\n",
    "html = response.text\n",
    "\n",
    "# Use a regex to extract article links\n",
    "pattern = r'href=[\"\\'](?=[^\"\\']*/article)([^\"\\']+)[\"\\']'\n",
    "news_links = re.findall(pattern, html)\n",
    "\n",
    "# Remove duplicates\n",
    "news_links = list(set(news_links))\n",
    "\n",
    "# Display a summary of the links\n",
    "news_links_df = pd.DataFrame(news_links, columns=['link'])\n",
    "import time\n",
    "print(f\"Found {len(news_links_df)} front page AP News links on {time.strftime('%Y-%m-%d')}\")\n",
    "display(news_links_df)"
   ]
  },
  {
   "cell_type": "markdown",
   "metadata": {},
   "source": [
    "## Configure Workflow\n",
    "Now we'll configure the scraipe workflow using `NewsScraper` and `OpenAiAnalyzer`.\n",
    "\n",
    "`NewsScraper` uses `trafilatura` to extract article content from a news site without all the HTML clutter.\n",
    "\n",
    "`OpenAiAnalyzer` uses OpenAI models to extract data from the article content."
   ]
  },
  {
   "cell_type": "code",
   "execution_count": 5,
   "metadata": {},
   "outputs": [],
   "source": [
    "#===Configure NewsScraper===\n",
    "# NewsScraper doesn't require any additional configuration\n",
    "scraper = NewsScraper()\n",
    "\n",
    "#===Configure OpenAiAnalyzer===\n",
    "# Define the instruction for the LLM. Ensure the instruction specifies a return schema.\n",
    "instruction = '''\n",
    "Extract a list of celebrities mentioned in the article text.\n",
    "Return a JSON dictionary with the following schema:\n",
    "{\"celebrities\":[\"celebrity1\", \"celebrity2\", ...]}\n",
    "'''\n",
    "\n",
    "# (Optional) Create a pydantic schema to validate the LLM output\n",
    "from typing import List\n",
    "class ExpectedOutput(BaseModel):\n",
    "    celebrities: List[str]\n",
    "    \n",
    "# Create the analyzer with the API key, instruction, and schema\n",
    "analyzer = OpenAiAnalyzer(OPENAI_API_KEY,instruction,pydantic_schema=ExpectedOutput)\n",
    "\n",
    "#===Create Workflow===\n",
    "# Create a workflow with the configured scraper and analyzer\n",
    "workflow = Workflow(scraper, analyzer)"
   ]
  },
  {
   "cell_type": "markdown",
   "metadata": {},
   "source": [
    "## Scrape links\n",
    "Next we will scrape content from news links. This content will be saved within the workflow's scrape store."
   ]
  },
  {
   "cell_type": "code",
   "execution_count": 6,
   "metadata": {},
   "outputs": [
    {
     "data": {
      "application/vnd.jupyter.widget-view+json": {
       "model_id": "79291be8ca3d41f5bfbcdfd88194cf72",
       "version_major": 2,
       "version_minor": 0
      },
      "text/plain": [
       "Scraping:   0%|          | 0/135 [00:00<?, ?link/s]"
      ]
     },
     "metadata": {},
     "output_type": "display_data"
    },
    {
     "data": {
      "application/vnd.microsoft.datawrangler.viewer.v0+json": {
       "columns": [
        {
         "name": "index",
         "rawType": "int64",
         "type": "integer"
        },
        {
         "name": "link",
         "rawType": "object",
         "type": "string"
        },
        {
         "name": "content",
         "rawType": "object",
         "type": "unknown"
        },
        {
         "name": "scrape_success",
         "rawType": "bool",
         "type": "boolean"
        },
        {
         "name": "scrape_error",
         "rawType": "object",
         "type": "unknown"
        },
        {
         "name": "metadata",
         "rawType": "object",
         "type": "unknown"
        }
       ],
       "conversionMethod": "pd.DataFrame",
       "ref": "dfdc6567-a59b-4cce-a059-b0eb3639eda2",
       "rows": [
        [
         "0",
         "https://apnews.com/article/spain-fire-chemical-plant-vilanova-warehouse-chlorine-25bdfc5ce0f95ece3d4b816d11ccbb55",
         "Fire at chemical plant in northeastern Spain keeps thousands indoors\nFire at chemical plant in northeastern Spain keeps thousands indoors\nBARCELONA, Spain (AP) — A fire at a chemical factory in northeastern Spain forced emergency services to issue health warnings to 150,000 local residents and stay-indoors orders for five nearby towns, authorities said Saturday.\nHealth services said that medics attended to four people who had reported breathing problems.\nThe fire broke out early on Saturday inside a warehouse at the plant near the town of Vilanova i la Geltrú. The warehouse housed 70 tons of chlorine for use in swimming pools, firefighters said.\nThe stay-indoors order stayed in effect for seven hours for the nearest municipalities in the area between Barcelona and Tarragona on the Mediterranean coast.\nFirefighters said that by Saturday afternoon that the fire was under control.",
         "True",
         null,
         null
        ],
        [
         "1",
         "https://apnews.com/article/zealand-snail-egg-neck-powelliphanta-augusta-3cb8082547a83b8c47848b6621c06cb0",
         "A rare New Zealand snail is filmed for the first time laying an egg from its neck\nA rare New Zealand snail is filmed for the first time laying an egg from its neck\nWELLINGTON, New Zealand (AP) — The strange reproductive habits of a large, carnivorous New Zealand snail were once shrouded in mystery. Now footage of the snail laying an egg from its neck has been captured for the first time, the country’s conservation agency said Wednesday.\nWhat looks like a tiny hen’s egg is seen emerging from an opening below the head of the Powelliphanta augusta snail, a threatened species endemic to New Zealand.\nThe video was taken at a facility on the South Island’s West Coast, where conservation rangers attempting to save the species from extinction have cared for a population of the snails in chilled containers for nearly two decades.\nThe conditions in the containers mimic the alpine weather in their only former habitat — a remote mountain they were named for, on the West Coast of the South Island, that has been engulfed by mining.\nObserving their habits\nLisa Flanagan from the Department of Conservation, who has worked with the creatures for 12 years, said the species still holds surprises.\n“It’s remarkable that in all the time we’ve spent caring for the snails, this is the first time we’ve seen one lay an egg,” she said in a statement.\nLike other snails, Powelliphanta augusta are hermaphrodites, which explains how the creatures can reproduce when encased in a hard shell. The invertebrate uses a genital pore on the right side of its body, just below the head, to simultaneously exchange sperm with another snail, which is stored until each creates an egg.\nA long but slow reproductive life\nEach snail takes eight years to reach sexual maturity, after which it lays about five eggs a year. The egg can take more than a year to hatch.\n“Some of our captive snails are between 25 and 30 years old,” said Flanagan. “They’re polar opposites to the pest garden snail we introduced to New Zealand, which is like a weed, with thousands of offspring each year and a short life.”\nThe dozens of species and subspecies of Powelliphanta snails are only found in New Zealand, mostly in rugged forest and grassland settings where they are threatened by habitat loss.\nThey are carnivores that slurp up earthworms like noodles, and are some of the world’s largest snails , with oversized, distinctive shells in a range of rich earth colors and swirling patterns.\nA political storm\nThe Powelliphanta augusta was the center of public uproar and legal proceedings in the early 2000s, when an energy company’s plans to mine for coal threatened to destroy the snails’ habitat.\nSome 4,000 were removed from the site and relocated, while 2,000 more were housed in chilled storage in the West Coast town of Hokitika to ensure the preservation of the species, which is slow to breed and doesn’t adapt well to new habitats.\nIn 2011, some 800 of the snails accidentally died in a Department of Conservation refrigerator with faulty temperature control.\nBut the species’ slow survival continues: In March this year, there were nearly 1,900 snails and nearly 2,200 eggs in captivity, the conservation agency said.",
         "True",
         null,
         null
        ],
        [
         "2",
         "https://apnews.com/article/indigenous-colombia-land-rights-self-government-brazil-amazon-dcf2341bf8d60d82e3c641df164ade85",
         "Colombia takes regional lead in Indigenous self-government, raising hopes for Amazon protection\nColombia this week took a leading position in Latin America for Indigenous rights and forest protection by formalizing Indigenous local governments across swaths of the Amazon, raising hopes that other countries in the region will follow its lead.\nActivists say Monday’s decision gives Indigenous communities not just land titles, but actual self-governing authority — complete with public budgets and administrative power. The process, underway since 2018, now has a legal framework enabling Indigenous councils to function as official local governments.\n“This puts Colombia in the lead when it comes to recognizing Indigenous rights — not just to land, but to identity, autonomy, and decision-making over their own development,” said Mayu Velasco Anderson, head of the Peru and Colombia program at nongovernmental organization Rainforest Foundation Norway.\nPatricia Suárez, Indigenous leader and adviser to the National Organization of Indigenous Peoples of the Colombian Amazon, called the presidential decree “historic.”\n“We have been seeking recognition of our autonomy and self-determination as Indigenous Territorial Entities for over 30 years,” Suárez said. “This progress is a milestone in the consolidation of the rights of Indigenous Peoples as autonomous governments.”\nIn contrast, other Latin American countries typically only grant land titles. Brazil, for example, has extensive Indigenous territories that frequently intersect multiple municipalities, forcing communities to navigate conflicting public systems and undermining their self-governance.\n“In Brazil, even demarcated and regularized Indigenous lands fall under the administrative boundaries of states and municipalities, and communities depend on these governments to access public policies,” said Inés Luna Maira, head of institutional partnerships at Rainforest Foundation Norway. “They have to deal with a patchwork of public systems and elected officials that don’t reflect Indigenous governance.”\nSuriname, home to some of the most intact forests and Indigenous and Maroon communities, lags furthest behind other nations in the region on this issue.\nColombia’s new framework gives Indigenous groups direct authority over their territories, streamlining governance and boosting protections for forests that are critical to combating climate change.\nJulia Urrunaga, director of Peru Programs at the nonprofit Environmental Investigation Agency welcomed the move and expressed hope that her country would follow Colombia’s example.\n“We celebrate this victory for the Indigenous Peoples of Colombia,” she said. “Sadly, the Peruvian government has been walking in the opposite direction — passing laws that affect Indigenous rights without prior consultation, which goes against Peru’s own constitution.”\nUrrunaga pointed to what environmental activists have dubbed Peru´s “Anti-Forest Law,” which activists say legalizes illegal deforestation in Indigenous territories, and to the government’s promotion of palm oil plantations over Amazonian forest.\n“Peru’s Indigenous Peoples are still struggling to receive recognition of their ancestral territories,” she said. “And even when they obtain it, they don’t get the support they deserve from the state to protect their land and forests for the benefit of all humanity.”\n___\nThe Associated Press’ climate and environmental coverage receives financial support from multiple private foundations. AP is solely responsible for all content. Find AP’s standards for working with philanthropies, a list of supporters and funded coverage areas at AP.org.",
         "True",
         null,
         null
        ],
        [
         "3",
         "https://apnews.com/article/nhl-playoffs-jets-stars-score-b8facdf252825772b72a5f7af8337542",
         "Mikko Rantanen has a goal and 2 assists for Stars in 5-2 win over Jets to take a 2-1 series lead\nMikko Rantanen has a goal and 2 assists for Stars in 5-2 win over Jets to take a 2-1 series lead\nDALLAS (AP) — Mikko Rantanen had a goal and two assists, including on the disputed tiebreaking goal off defenseman Alexander Petrovic’s skate that was finally confirmed after a lengthy review as the Dallas Stars beat top-seeded Winnipeg 5-2 on Sunday to take 2-1 lead in the second-round Western Conference series.\nOfficials looked at Petrovic’s goal for well over five minutes after the NHL’s situation room initiated a video review to determine if he kicked the puck into the net for a 3-2 lead with 16:09 left. The final decision was that replays supported the referee’s on-ice call that goalie Connor Hellebuyck propelled the puck into his own net.\n“At that point, you want them to take as much time as they need to get it right,” said Stars coach Pete DeBoer, adding that the explanation he got was that Hellebuyck was trying to make a play on the puck.\nJets coach Scott Arniel certainly didn’t agree.\n“The rule states that if the puck gets kicked, if it hits a body or a stick of anybody else other than the goaltender, it counts as a goal. It hit our goaltender’s stick and went in the net. That is no goal,” Arniel said. “So they said that Helly propelled the puck in, and I haven’t seen the word propelled in the rulebook.”\nThen only 49 seconds after play resumed, Rantanen scored his ninth goal of the playoffs — all coming in the last six games.\nFor Petrovic, who has played has played in all 10 postseason games after only five in the regular season for the Stars, got his first playoff goal since 2016 for Florida.\nGame 4 is Tuesday night in Dallas.\nRoope Hintz had a goal and an assist for the Stars, and Wyatt Johnston added a late goal. Sam Steel and Mikael Granlund each had two assists.\nRantanen, who has 18 points this postseason, had the primary assist on a power-play goal by Hintz only 2:27 in for a 1-0 lead. When Dallas scored again late in the first period for a 2-1 lead, Rantanen was on the ice for defenseman Thomas Harley’s goal, but the assists went to Granlund and Steel.\nThat ended Rantanen’s NHL playoffs-record streak of consecutive goals involved in at 13 in a row for the Stars since Game 5 of their first-round series against Colorado.\n“Obviously I’m happy to help the team, I’ll try to keep doing that as much as I can on both ends of the ice,” said Rantanen, who was traded to the Stars on March 7. “I’m just trying to stay in the moment and even keel after wins and good games.”\nStars goalie Jake Oettinger stopped 23 shots.\nHellebuyck, the odds-on favorite to win his third Vezina Trophy as the league’s best goalie and also among three finalists for the Hart Trophy that goes to the MVP of the NHL regular season, dropped to 0-4 with a 6.65 goals against average in road games this postseason after giving up the five goals on 26 shots.\nNino Niederreiter got Winnipeg even at 2 midway through the second period on his shot from the bottom of the right circle after Josh Morrissey made a nifty move to get around Stars center Colin Blackwell before making the pass for the score.\nThe Stars had gone ahead 2-1 late in the first after Niederreiter tripped Granlund, who slid with the puck along the boards behind the net and got his knees to swipe it to Harley in the slot.\nKyle Connor scored for Winnipeg on a wraparound goal that got under Oettinger’s extended glove.\n“I don’t think (the game) got away from us. We were right there in the game,” Connor said. “One deciding goal that may or may not be a goal and we are right there in the game.”\n___\nAP NHL playoffs: https://apnews.com/hub/stanley-cup and https://apnews.com/hub/nhl",
         "True",
         null,
         null
        ],
        [
         "4",
         "https://apnews.com/article/cannes-film-festival-2025-what-to-expect-d289e6798571dd31943dc3d6d3a2d556",
         "Cannes, the global Colosseum of film, readies for 78th edition with new challenges on the horizon\nCannes, the global Colosseum of film, readies for 78th edition with new challenges on the horizon\nNowhere is the border-crossing nature of cinema more evident than the Cannes Film Festival, which kicks off Tuesday in the wake of U.S. President Donald Trump’s vow to enact tariffs on international films.\nCannes, where filmmakers, sales agents and journalists gather from around the world, is the Olympics of the big screen, with its own golden prize, the Palme d’Or, to give out at the end. Filmmakers come from nearly every corner of the globe to showcase their films while dealmakers work through the night to sell finished films or packaged productions to various territories.\n“You release a film into that Colosseum-like situation,” says Brazilian director Kleber Mendonça Filho, who’s returning to Cannes with “The Secret Agent,” a thriller set during Brazil’s dictatorship. “You’ve got to really prepare for the whole experience because it’s quite intense — not very far from the feeling of approaching a roller coaster as you go up the steps at the Palais.”\nPerhaps as much as ever, all eyes in the movie world will be on the 78th Cannes Film Festival when it gets underway this week. That’s not just because of the long list of anticipated films set to premiere at the Cote d’Azur festival (including films from Spike Lee, Wes Anderson, Lynne Ramsay, Richard Linklater and Ari Aster) and the extensive coterie of stars set to walk the fabled red carpet (Jennifer Lawrence, Denzel Washington, Robert Pattinson and Kristen Stewart among them).\nAs the movies, and the Oscar race, have grown more international, the global launchpad of Cannes has become only more central to the larger film ecosystem — even with the ongoing absence of Netflix. Recent editions of Cannes have produced a string of Academy Awards contenders, including this year’s best-picture winner, “Anora.”\nAt the same time, geopolitics course through Cannes unlike any other festival. The Cannes red carpet can be as much a platform for political protest as it is for glamour. This year’s festival will include a dissident Iranian filmmaker (Jafar Panahi), a Ukrainian filmmaker (Sergei Loznitsa) and the first Nigerian production in the official selection (Akinola Davies Jr.'s “My Father’s Shadow”).\nThe many roads to Cannes\nIn the run-up to the festival, three filmmakers from different corners of the world spoke about their roads to the Cannes competition lineup. For many directors, reaching the Cannes competition — this year, that’s 22 movies vying for the Palme d’Or — is career milestone.\n“It’s meaningful for me. It’s meaningful for the country,” says Oliver Hermanus, speaking from outside Cape Town. Hermanus, the South African filmmaker of “Moffie” and “Living,” is in competition for the first time with “The History of Sound,” a period love story starring Paul Mescal and Josh O’Connor.\n“I was born here and made movies here for most of my career, so I still see myself as a South African filmmaker who’s interested in the South African perspective on things and South African representation,” adds Hermanus. “The competition is something I’ve always wanted to be part of.”\nChie Hayakawa, the Japanese filmmaker of 2022’s “Plan 75,” is also in competition for the first time. She first came to Cannes with a student film that she never expected to make it into the festival’s shorts program. This week, she’ll debut “Renoir,” a semiautobiographical tale about an 11-year-old girl with a father who has terminal cancer.\n“It gives me a huge encouragement and keeps me motivated to making films,” Hayakawa said from Tokyo. “I don’t feel like I’m going to compete with other films. But it meaningful. I know how prestigious and meaningful it is to be in competition.”\n“Film is global and easily crosses the borders of any country or culture,” she adds. “That’s what special about Cannes.”\nWill tariffs topple Cannes?\nCannes’ global approach is part of what makes this year more complicated than usual. Trump sent shock waves through Hollywood and the international film community when he announced on May 4 that all movies “produced in Foreign Lands” will face 100% tariffs.\nThe White House has said no final decisions have been made. Options being explored include federal incentives for U.S.-based productions, rather than tariffs. But the announcement was a reminder of how international tensions can destabilize even the oldest cultural institutions.\nFilho first attended Cannes as a critic. Once he began making movies, the allure of the festival remained. To him, participating in Cannes means joining a timeline of cinema history. “The Secret Agent” marks his third time in competition.\n“I have always felt that there was a seriousness that I appreciated,” Filho says. “For example, I will be attending a 2 a.m. test for sound and picture. This is done with scientist types who will take care of the projection and how everything will go.”\nAs to the threat of tariffs? He shrugs.\n“I have been trained by Brazil, because we had a very strange and weird historic moment under (former president Jair) Bolsonaro,” Filho said. “I used my training to say: This is probably some bad idea or misunderstanding that will be corrected in the coming days or weeks. Even for leaders like them, Bolsonaro and Trump, it makes no sense whatsoever.”\n‘Everything to lose, everything to gain’\nThe Cannes Film Festival originally emerged in the World War II years, when the rise of fascism in Italy led to the founding of an alternative to the then-government controlled Venice Film Festival. In the time since, Cannes’ resolute commitment to cinema has made it a beacon to filmmakers. Countless directors have come to make their name.\nThis year is no different, though some of the first-time filmmakers at Cannes are already particularly well-known. Stewart (“The Chronology of Water”), Scarlett Johansson (“Eleanor the Great”) and Harris Dickinson (“Urchin”) will all be unveiling their feature directorial debuts in Cannes’ Un Certain Regard sidebar section.\nMany Cannes veterans will be back, too, including Tom Cruise (“Mission: Impossible – The Final Reckoning”), Robert De Niro (who’s to receive an honorary Palme d’Or 49 years after “Taxi Driver” premiered in Cannes) and Quentin Tarantino (to pay tribute to low-budget Western director George Sherman).\nHermanus first came to Cannes with his 2011 film “Beauty.” He went naively optimistic before realizing, he laughs, that a Cannes selection is “a potential invitation to a beheading.\n“Even going now with ‘The History of Sound,’ I’m trying to be realistic about the fact that it’s a gladiatorial arena. It’s everything to lose and everything to gain,” says Hermanus. “When Cannes selected us, it came down to me and Paul going, ‘Oh God, here comes the real stress. Will we survive the intensity of Cannes?’ — which we both agreed is the reason to go.”\n___\nFor more coverage of the 2025 Cannes Film Festival, visit https://apnews.com/hub/cannes-film-festival,",
         "True",
         null,
         null
        ],
        [
         "5",
         "https://apnews.com/article/split-juries-convictions-louisiana-bill-638f330e0056d674f80f6f1e0fda5a12",
         "A split jury and a lie sent him to prison. Now he’s working to change Louisiana’s law\nA split jury and a lie sent him to prison. Now he’s working to change Louisiana’s law\nBATON ROUGE, La. (AP) — As 18-year-old Bobby Gumpright rode his bike home from his bartending job in New Orleans in 1999, he began to concoct a story about why he didn’t have any money. In the throes of addiction and not wanting to admit he had spent his paycheck on drugs, Gumpright lied to his father and said a Black man had robbed him at gunpoint.\nThe fabrication spun out of control when a detective, armed with photos of potential suspects, asked Gumpright to point to the culprit.\nAcross town, Jermaine Hudson, a 20-year-old Black man, was pulled over for a traffic stop and taken into custody. He figured he would soon be released to go home to his pregnant wife and 10-month-old daughter.\nInstead, he was charged with a crime he didn’t commit.\nEven though two jurors didn’t believe Gumpright’s story, Hudson was found guilty by a split jury, a practice that 20 years later would be deemed unconstitutional by the U.S. Supreme Court, which acknowledged its origins from racist Jim Crow laws.\nNearly 1,000 people convicted by split juries remain in prison in Louisiana.\nNow, 25 years after Gumpright’s lies sent Hudson to prison, the two unlikely friends are sharing their story in a push for legislation to give some of those people a chance to have their cases retired.\nA split decision\nAs Hudson sat in the courtroom in 2001, he grappled with a reality that he didn’t create.\n“Never in my wildest dreams would I have thought my life would have been at a standstill ... missing out on my kids’ life, on my life,” Hudson told The Associated Press last month.\nTwo witnesses testified: the officer who responded to the 911 call and Gumpright.\nAs Gumpright took the stand, Hudson prayed the stranger would acknowledge the wrongful allegation and his nightmare would end.\nA prosecutor asked Gumpright, who is white, if he was sure it was Hudson who robbed him. He responded, “110%.”\nIn a 10-2 vote, the jury convicted Hudson of armed robbery. The judge sentenced him to 99 years in prison.\nA practice rooted in racism\nAt the time of Hudson’s trial, only Louisiana and Oregon allowed convictions if one or two jurors disagreed.\nLouisiana adopted the practice in 1898, fueled by efforts to maintain white supremacy after the Civil War. Diluting the voice of Black jurors allowed the often-white majority to determine the outcome.\nIn 2018, Louisiana voters did away with the use of nonunanimous jury convictions, two years before the Supreme Court ruling.\nOf the 1,500 people in Louisiana prisons from split jury convictions at that time, about 80% were Black and most were serving life sentences, according to a Project of Justice Initiative analysis.\nFollowing the high court decision, Oregon’s Supreme Court granted new trials to hundreds of people. But Louisiana’s Supreme Court rejected arguments to apply the ruling retroactively, leaving people like Hudson locked up with scarce legal options or waiting on a miracle.\nWaiting 22 years for freedom\nYears of Hudson’s life dwindled away as he missed the birth of his second daughter, graduations and other milestones. He prayed Gumpright would “come forward with the truth.”\n“This can’t be my final destination. This can’t be the end of my life,” Hudson often thought.\nGumpright tried to numb his guilt with drugs and alcohol, but it never went away. “I was either gonna kill myself or I was gonna come forward,” he told the AP.\nIn 2021, Hudson was preparing to take a new deal: plead guilty to armed robbery in exchange for a sentence of time served. Just days before the bargain was finalized, Hudson received news he long waited for. Gumpright, who had entered a drug treatment facility, had come clean about his lies.\nAfter spending 22 years behind bars, Hudson was released.\nA few months later, Gumpright answered a phone call from a blocked number.\n“I bet you never thought you’d hear from me,” Hudson said.\nFixing an injustice\nA packed committee room at the state Capitol fell silent last month as a man wearing a suit and tie took to the microphone.\n“My name is Bobby Gumpright,” he said, his hand trembling. “I come before you as a citizen of Louisiana. ... I’m also a man who lives each day with the consequences of a terrible sin.”\nGumpright told lawmakers his story, the true one. Sitting behind him was Hudson.\nThe pair first met in New Orleans, six months after Hudson’s release. They have spent the past two years advocating for a bill that would give inmates convicted by split juries the opportunity to ask for a retrial. The measure does not automatically grant a retrial.\nThe duo say their story is an example of how an innocent man can be imprisoned for decades under an unconstitutional practice and that it’s never too late to right a wrong.\n“I couldn’t change the past, but I could refuse to live the lie any longer while injustice continued,” Gumpright told lawmakers. “Louisiana can’t change the past. But Louisiana can refuse to let its injustice live on.”\nThe measure failed last year, but a legislative committee backed a similar bill in April. It still needs approval from the governor, House and Senate, which could debate it this week\nPeople cheered as the bill cleared its first hurdle. Gumpright and Hudson hugged, holding each other up, as they cried tears of joy.\nAn unlikely bond\nBoth men said they needed one another to heal.\nHudson wanted to know why Gumpright lied. Gumpright sought forgiveness.\n“I’m not the type of man to hold grudges or to hate anyone,” Hudson said. “I have a forgiving heart. And in order for me to really move on I forgave him, because I understood what he was going through.”\nSober for four years, Gumpright, 44, is now an addiction counselor. Hudson, 47, moved to Texas, got married, bought a house, is starting a business and spends time with his two grandsons.\nGumpright attended Hudson’s housewarming and met his family. They text each other words of encouragement every day and keep photos of each other close by.\n“My friend? That’s an understatement,” Hudson said about his relationship with Gumpright. “He’s my brother.”",
         "True",
         null,
         null
        ],
        [
         "6",
         "https://apnews.com/article/fda-food-dyes-natural-color-additives-897923a5969b636e0eee848982906014",
         "FDA will allow three new color additives made from minerals, algae and flower petals\nU.S. regulators said Friday that they would allow three new color additives made from natural sources to be used in the nation’s food supply.\nIt comes after health officials pledged a sweeping phase-out of petroleum-based dyes widely used in foods from cereals to sports drinks to boost health — though action is still pending.\nThe Food and Drug Administration said it is granting petitions to allow galdieria extract blue, a blue color derived from algae; calcium phosphate, a white color derived from a naturally occurring mineral; and butterfly pea flower extract, a blue color made from dried flower petals.\nThe colors will be approved for use in a range of foods from fruit drinks and yogurt to pretzels, ready-to-eat chicken and candies. The move “will expand the palette of available colors from natural sources for manufacturers to safely use in food,” FDA officials said in a statement.\nHealth advocates have long called for the removal of artificial dyes from foods, citing mixed studies indicating the dyes can cause neurobehavioral problems for some children, including hyperactivity and attention issues. The FDA has maintained for decades that the approved dyes are safe and that “the totality of scientific evidence shows that most children have no adverse effects when consuming foods containing color additives.”\nThe new color approvals include a 2021 petition from the French company Fermentalg to allow galdieria extract blue; a 2023 petition from Innophos Inc. of Cranbury, New Jersey, to allow calcium phosphate; and a 2024 petition from Sensient Colors LLC of St. Louis, Missouri, to allow butterfly pea flower extract.\nThe approvals are set to be published in the federal register on May 12 and would take effect in June.\nIn April, Health Secretary Robert F. Kennedy Jr. and FDA Commissioner Marty Makary announced that they would take steps to eliminate synthetic food dyes in the U.S. food supply by the end of 2026, largely through voluntary efforts from the food industry. The officials also said they would revoke authorization for two little-used artificial dyes, Citrus Red No. 2 and Orange B, and accelerate the timeline to remove Red 3, a food color banned in January because of a link to cancer in laboratory rats.\nThe FDA plans to initiate the process to revoke those colors “within the coming months,” a spokesperson for the Department of Health and Human Services said.\n___\nThe Associated Press Health and Science Department receives support from the Howard Hughes Medical Institute’s Science and Educational Media Group and the Robert Wood Johnson Foundation. The AP is solely responsible for all content.",
         "True",
         null,
         null
        ],
        [
         "7",
         "https://apnews.com/article/newark-immigration-baraka-ice-arrest-c260a4f0fda53ec52bca691a1f68aeda",
         "What to know about the Newark mayor’s arrest at an immigration detention center\nWhat to know about the Newark mayor’s arrest at an immigration detention center\nNEWARK, N.J. (AP) — An immigration detention center in New Jersey is at the center of tensions between three congressional Democrats and the Trump administration after the arrest of Newark’s mayor set off a scrum outside the complex.\nFederal prosecutors charged Newark Mayor Ras Baraka with trespassing after agents arrested him outside the fence of the Delaney Hall detention center on Friday. The interim U.S. attorney for New Jersey says Baraka, a Democrat who is running for governor, ignored warnings to leave while he was there with three members of New Jersey’s congressional delegation at the 1,000-bed Immigration and Customs Enforcement facility.\nThe arrest escalated into a brief but tense confrontation in the parking lot that included the members of Congress and federal agents, some of whom wore masks. Department of Homeland spokeswoman Tricia McLaughlin has accused Baraka of playing “political games” and said over the weekend that an investigation is ongoing and that more actions could be taken.\nThe three members of Congress — Reps. LaMonica McIver, Bonnie Watson Coleman and Robert Menendez Jr. — have accused federal agents of escalating the situation by arresting the mayor.\nHere’s what to know:\nWhy were members of Congress at the facility?\nThe representatives have said they went to the facility to inspect it as a matter of congressional oversight.\n“We were able to get in, speak to detainees, check out the facilities, and make sure everything was OK there,” Rep. Watson Coleman told CNN in an interview Sunday that also included her two New Jersey colleagues. “We were there almost two hours before the confrontation took place, but ICE kept giving us the run-around and kept saying that they needed to talk to someone else.”\nDepartment of Homeland Security officials have said that lawmakers had not asked for a tour of Delaney Hall and that the agency would have facilitated one. Watson Coleman spokesperson Ned Cooper has said the three lawmakers went there unannounced because they planned to inspect it, not take a scheduled tour.\nWhy was the mayor of Newark arrested?\nAlina Habba, interim U.S. attorney for New Jersey, said on the social media platform X that Baraka was arrested after the mayor allegedly trespassed at the detention facility. She accused him of ignoring warnings to leave the facility, which he has denied.\nBaraka was arrested, booked and released the same day. He said he has a court appearance scheduled for Thursday.\nIn video reviewed by The Associated Press, a federal official in a jacket with the logo of the Homeland Security Investigations can be heard telling Baraka he could not enter the facility because “you are not a congress member.” He was arrested after returning to the public side of the gate at the facility where protesters were gathered, video shows.\nBaraka, who is running to succeed term-limited Gov. Phil Murphy, has argued against the opening of the center, citing building permit issues. The facility, located along an industrial stretch of Newark Bay, opened on May 1.\nWhat is this Newark detention center, and why has it been in the news?\nDelaney Hall is a two-story building next to a county prison in Newark Bay that operated as a halfway house in previous years. In February, Immigration and Customs Enforcement announced that it and the GEO Group reached a $1 billion, 15-year deal for the detention center. The deal is significant for its size and duration, and GEO officials cited it in messages to investors as a big revenue generator\nThe 1,000-bed capacity is also significant in advancing President Donald Trump’s goals of expanding detention capacity in the U.S. beyond the previous 41,000 beds, in New Jersey, Michigan, and other states to 100,000 beds.\nDemocrats, including Baraka, have opposed the opening of the facility. As mayor, Baraka sued to block the opening of the detention center, saying it hadn’t completed all building requirements.\nDHS has said that the facility has the proper permits and completed the proper inspections.",
         "True",
         null,
         null
        ],
        [
         "8",
         "https://apnews.com/article/hartsfieldjackson-atlanta-airport-delays-runway-equipment-c21ff34845988c4238a5282d0d95dd34",
         "Hundreds of flights delayed by runway equipment issue at Atlanta airport\nATLANTA (AP) — Hundreds of flights have been delayed at Atlanta’s airport — one of the world’s busiest — on Sunday because of a runway equipment issue.\nThe Federal Aviation Administration said in a statement that it has temporarily slowed arrivals into Hartsfield-Jackson Atlanta International Airport, while technicians work to address the problem.\nAs of 1 p.m. EDT, more than 200 departure flights were delayed, according to the flight-tracking website FlightAware. More than 250 incoming flights were also delayed.",
         "True",
         null,
         null
        ],
        [
         "9",
         "https://apnews.com/article/watson-buccaneers-vea-8fe1af886c44c5745b84deb13bab90cb",
         "Bucs rookie Desmond Watson, at 430-plus pounds, wants to make people forget his size\nBucs rookie Desmond Watson, at 430-plus pounds, wants to make people forget his size\nTAMPA, Fla. (AP) — Desmond Watson’s goal is to make people forget about his size and view him for his unique big-man talent.\nIt’s hard to ignore the heaviest player in NFL history.\nWatson’s journey to make the Tampa Bay Buccaneers began this weekend at the team’s rookie camp. He already has dropped between 25-30 pounds since weighing 464 pounds at the league’s scouting combine and he plans to lose more.\n“It’s a good story, but I don’t want that to be my narrative,” Watson said Saturday. “I want to be known as a football player and a good football player at that. But I guess it’s nice to make history.”\nThe 6-foot-6 defensive tackle from Florida is working with a team nutritionist and they haven’t determined an ideal playing weight for him yet.\n“It’s still a work in progress,” Watson said Saturday. “There’s a way to go. We’re going to see where I play best, where I feel best at.”\nWatson went undrafted last month before his hometown team signed him as a free agent. He couldn’t stop smiling when he met with reporters before his second day of practice.\n“I’m happy. It’s a dream come true. I can’t do anything but smile,” Watson said. “My life feels like a movie. You couldn’t write a script where a person goes from little league to high school to college (to the NFL) not having to go out of state.”\nWatson, who grew up about 20 miles from Raymond James Stadium, said he’s still never seen snow. He’s excited to learn from another big man, 346-pound defensive tackle Vita Vea. Watson briefly met the two-time Pro Bowler and exchanged a handshake.\nVea is one of the league’s premier defensive players against the run and Watson wants to be “a dominant run-stopper.”\n“Being in position to have somebody you look up to and model your game after be a leader and vet at your position group, I feel like I’m blessed,” Watson said.\nBuccaneers coach Todd Bowles was impressed with Watson’s first day but cautioned he has a long way to go.\n“He looked just as impressive before as he does now, so he’s a huge man. He’s got a lot of size,” Bowles said. “He has to make the team, first of all. Right now, we just have to see how long he can stay on the field and (we) put him on a program where we think he can make some progress. I think that’s the biggest thing for us to do, right now. We didn’t get him to say, ‘Hey, we have to put you on the field right now.’ It’s, ‘Hey, we can try to put you on this program and see what we can come up with and see if we can get our endurance better,’ and have him become a better player that way, then kind of see where he is. To judge him right now is very early and we didn’t get him for the tush push, we got him because we really thought he could play. It’s just a matter of getting him to the point where he can play more than two or three plays a (drive).”\nWatson’s size and affable personality have made him a fan favorite. He has plenty of supporters rooting for him to make the team and make an impact.\n“I’ve felt the love,” Watson said. “Mainly because it’s unheard of, I feel like people gravitate toward me. It’s been that way my whole life as far as just the energy I carry around. I do appreciate it.”\nWatson wowed NFL scouts last month by repping 225 pounds a whopping 36 times, which topped any bench-press performance at this year’s combine. He covered the 40-yard dash in 5.93 seconds and recorded 25 inches in the vertical jump.\nWatson finished his collegiate career with 63 tackles and 1 1/2 sacks. He also reluctantly carried the ball for a 1-yard gain and lined up at fullback for a few more plays against Tulane in the Gasparilla Bowl in December.\n“It was special,” Watson said of his carry. “A lot of my supporters were trying to get me and the coaching staff to do it. I was always against it, but I felt like to finish off my college career, I had to give people what they wanted to see.”\n___\nAP Pro Football Writer Mark Long in Jacksonville contributed to this report.\n___\nAP NFL: https://apnews.com/hub/nfl",
         "True",
         null,
         null
        ],
        [
         "10",
         "https://apnews.com/article/michigan-us-senate-race-joe-tate-768752e358d075f368e6ef5afe1827fe",
         "Lawmaker from Detroit joins crowded race for US Senate\nLANSING, Mich. (AP) — A lawmaker from Detroit is joining the crowded field of Democrats vying for the battleground state’s open Senate seat, one of the most critical races as the party aims to regain a majority in the 2026 midterm election.\nMichigan state Rep. Joe Tate launched his campaign Sunday to compete against three other Democrats seeking the seat left open by retiring Democratic U.S. Sen. Gary Peters.\nIn an interview with the Associated Press, Tate spoke about his campaign goals and referenced his grandparents, who came to Detroit from Alabama as part of the Great Migration.\n“I’m running for the U.S. Senate, because I want to continue to keep that promise that my grandparents came up to Michigan for,” he said.\nTo become the Democratic nominee, the former marine and NFL football player will have to convince voters to look past significant setbacks to the state party under his leadership.\nTate made history in 2022 when he became the first Black speaker of the Michigan House of Representatives, the highest position in the chamber. That fall, Democrats swept statewide offices and gained historic “trifecta” control of both chambers of the Legislature and the governor’s office.\nDemocrats passed significant legislation on gun control, climate change, reproductive rights and labor, repealing the state’s “right to work” law.\nBut their momentum stalled ahead of the 2024 fall elections and fell apart after Republicans won back the state House in November. Tate announced after the election that he would not seek a leadership role among House Democrats the next year.\nIn the final days of the legislative session, internal divisions among Democrats caused Tate to abruptly end the session. The move effectively killed dozens of bills including key Democratic priorities on economic development, road funding, ghost guns and reproductive health data.\nRepublicans took control in January, and the Legislature has been deadlocked on most topics since.\nMany Democrats and Republicans alike have blamed Tate for disastrous final days when Democrats still had control.\nNine bills from the 2024 session approved by both chambers have still not been presented to Gov. Gretchen Whitmer. The new Republican speaker of the House has said it was Tate’s job to get them to Whitmer’s desk.\n“It’s just unfortunate that some people decided to stop coming to work when the job wasn’t done,” Tate said in response, referencing one Democrat and the entire Republican caucus who boycotted the final days of session in order to stall it.\nTate said he is proud of the work Democrats accomplished while they held the majority in the Legislature, referencing legislation on universal background checks to purchase firearms and free breakfast and lunch for school children.\n“I see kids with full bellies in schools because of what we did,” he said.\nA deep bench of Democrats began to eye the U.S. Senate seat after Peters this year announced plans to retire at the end of his term. U.S. Rep. Haley Stevens, state Sen. Mallory McMorrow and former gubernatorial candidate and public health official Abdul El-Sayed have all launched campaigns for the position.\nOn the Republican side, former U.S. Rep. Mike Rogers is running again after losing to Democrat Elissa Slotkin in the state’s 2024 U.S. Senate race by just 19,000 votes.",
         "True",
         null,
         null
        ],
        [
         "11",
         "https://apnews.com/article/ozturk-tufts-mahdawi-columbia-student-detained-0067c5c43e9480fa0c3f5cbf779a0d97",
         "Turkish Tufts University student back in Boston after release from Louisiana detention center\nTurkish Tufts University student back in Boston after release from Louisiana detention center\nBOSTON (AP) — A Tufts University student from Turkey returned to Boston on Saturday, one day after being released from a Louisiana immigration detention center where she was held for over six weeks.\nUpon arrival at Logan Airport, Rumeysa Ozturk told reporters she was excited to get back to her studies during what has been a “very difficult” period.\n“In the last 45 days, I lost both my freedom and also my education during a crucial time for my doctoral studies,” she said. “But I am so grateful for all the support, kindness and care.”\nA federal judge ordered Ozturk’s release Friday pending a final decision on her claim that she was illegally detained following an op-ed she co-wrote last year criticizing her university’s response to Israel and the war in Gaza.\nOzturk said she will continue her case in the courts, adding, “I have faith in the American system of justice.”\nShe was joined by her lawyers and two of Massachusetts’ Democratic members of Congress, Sen. Edward Markey and Rep. Ayanna Pressley.\n“Today is a tremendous day as we welcome you back, Rumeysa,” Markey said. “You have made millions and millions of people across our country so proud of the way you have fought.”\nAppearing by video for her bail hearing the previous day, Ozturk, 30, detailed her growing asthma attacks in detention and her desire to finish her doctorate focusing on children and social media.\nU.S. District Judge William Sessions in Vermont ruled that she was to be released on her own recognizance with no travel restrictions. She was not a danger to the community or a flight risk, he said, while noting that he might amend the release order to consider any conditions by U.S. Immigration and Customs Enforcement, or ICE, in consultation with her lawyers.\nSessions said the government offered no evidence for why Ozturk was arrested other than the op-ed.\nThe U.S. Justice Department’s Executive Office for Immigration Review did not respond to an email message seeking comment Friday afternoon.\nOzturk was one of four students who wrote the opinion piece last year in campus newspaper The Tufts Daily. It criticized the university’s response to student activists demanding that Tufts “acknowledge the Palestinian genocide,” disclose its investments and divest from companies with ties to Israel.\nOn March 25 immigration officials surrounded Ozturk in Massachusetts and took her into custody. She was then driven to New Hampshire and Vermont and flown to a detention center in Basile, Louisiana.\nHer student visa had been revoked several days earlier, but she was not informed of that, her lawyers said.\nOzturk’s lawyers first filed a petition on her behalf in Massachusetts, but they did not know where she was and were unable to speak to her until more than 24 hours after she was detained. A Massachusetts judge later transferred the case to Vermont.\nA State Department memo said Ozturk’s visa was revoked following an assessment that her actions “‘may undermine U.S. foreign policy by creating a hostile environment for Jewish students and indicating support for a designated terrorist organization’ including co-authoring an op-ed that found common cause with an organization that was later temporarily banned from campus.”\nA Department of Homeland Security spokesperson said in March, without providing evidence, that investigations found that Ozturk engaged in activities in support of Hamas, which the U.S. has designated as a terrorist group.\nThis week a federal appeals court upheld Sessions’ order to bring Ozturk back to New England for hearings to determine whether her constitutional rights, including free speech and due process, were violated, as her lawyers argue.\nImmigration proceedings for Ozturk, initiated in Louisiana, are being conducted separately in that state and Ozturk can participate remotely, the court said.\n___\nRush reported from Portland, Oregon. Associated Press writers Kathy McCormack and Holly Ramer in Concord, New Hampshire, and Michael Casey in Boston contributed.",
         "True",
         null,
         null
        ],
        [
         "12",
         "https://apnews.com/article/cop30-un-climate-amazon-summit-brazil-belem-d1f5d7dfe1a044e63f67506b4a563d52",
         "The construction of a road in Brazil draws criticism before first-ever climate talks in the Amazon\nThe construction of a road in Brazil draws criticism before first-ever climate talks in the Amazon\nBELEM, Brazil (AP) — In the run-up to the annual U.N. climate conference, set to take place in Brazil’s Amazon in November, the construction of a road is drawing attention, with critics arguing it will lead to environmental degradation.\nBefore the talks, called COP30, the state government of Para is building a 13-kilometer (8-mile) avenue designed to ease traffic on a major highway that runs parallel.\nThe road was planned long before Belem, a metropolitan area of 2.5 million people that sits on the edge of the Amazon, was chosen as conference host. That hasn’t spared it sharp criticism, however, because the road is expected to cut across the last remnants of rainforest in Belem.\nRoad building in the Amazon, which historically has often led to deforestation and development of surrounding areas, also stands in stark contrast to a central aim of climate conferences, and in particular this one: conservation of biodiversity.\nBrazilian President Luiz Inácio Lula da Silva, who has made the slowing of deforestation a central focus of his administration, has frequently boasted that this will be the first such conference in the Amazon rainforest.\nThe Amazon is key to regulating the climate, because trees absorb carbon dioxide, a greenhouse gas that heats the planet when released into the atmosphere.\n“We will hold the best COP in history because the topic of all the ones held in other countries was the Amazon,” Lula said while visiting Belem worksites in February. “This one will be in the Amazon.”\nAn official project map shows a straight line dividing a green area through the city’s outskirts. This protected area is slightly larger than Manhattan. It was designated in 1993 to protect two lakes, a river basin and to restore a degraded rainforest. However, its rules allow private properties, government-approved deforestation and public works. Two university campuses are located within its limits.\n“Even with measures to reduce the damage, there are tough issues to address,” said Roberta Rodrigues, a professor of architecture at the Federal University of Para. “It’s hard to imagine a road being built along the banks of the Guama River without it leading to illegal development. It may lead to the end of this protected area.”\nThe project dates back to 2020. Construction began in mid-2024, despite criticism over its impact on one of the city’s few remaining green areas. The project drew wider attention in March, when the BBC reported that the avenue was “being built for COP30.” As the story was picked up by news outlets around the world, Brazil’s government issued a statement saying the avenue wasn’t among the 33 infrastructure projects planned for COP30.\nIn a statement to The Associated Press, the state government of Para said that the avenue, named Liberdade, or Freedom, will be an expressway and development around it won’t be permitted.\nThe chaotic growth of Brazilian cities, however, suggests it’s a promise that will be hard to keep. Countless public areas have been occupied for the irregular construction of housing — from modest structures to luxury condos — with the expectation that they will eventually be legalized, which often ends up happening.\nBelem is the capital of Para, which is run by Gov. Helder Barbalho, a politician from a traditional family who is an ally of Lula. Both support oil drilling in the nearby mouth of the Amazon River, likely a point of contention during COP30.\nThe road is scheduled to be inaugurated just before the conference kicking off on Nov. 10.\n___\nThe Associated Press’ climate and environmental coverage receives financial support from multiple private foundations. AP is solely responsible for all content. Find AP’s standards for working with philanthropies, a list of supporters and funded coverage areas at AP.org.",
         "True",
         null,
         null
        ],
        [
         "13",
         "https://apnews.com/article/israel-palestinians-hamas-war-news-10-05-2025-c9b6f26c14577be19adb8903b5ac55f3",
         "Israeli airstrikes kill 23 in Gaza as outcry over aid blockade grows\nIsraeli airstrikes kill 23 in Gaza as outcry over aid blockade grows\nDEIR AL-BALAH, Gaza City (AP) — Israeli airstrikes overnight and into Saturday killed at least 23 Palestinians in Gaza, including three children and their parents whose tent was bombed in Gaza City, health officials said.\nThe bombardment continued as international warnings grow over Israeli plans to control aid distribution in Gaza as Israel’s blockade on the territory of over 2 million people is in its third month.\nThe U.N. and aid groups have rejected Israel’s aid distribution moves, including a plan from a group of American security contractors, ex-military officers and humanitarian aid officials calling itself the Gaza Humanitarian Foundation.\nAmong the 23 bodies brought to hospitals over the past 24 hours were those of the family of five whose tent was struck in Gaza City’s Sabra district, Gaza’s Health Ministry said.\nAnother Israeli strike late Friday hit a warehouse belonging to UNRWA, the U.N. agency for Palestinian refugees, in the northern area of Jabaliya. Four people were killed, according to the Indonesian Hospital, where bodies were taken.\nAP video showed fires burning in the shattered building. The warehouse was empty after being hit and raided multiple times during Israeli ground offensives against Hamas fighters over the past year, said residents including Hamza Mohamed.\nIsrael’s military said nine soldiers were lightly wounded Friday night by an explosive device while searching Gaza City’s Shijaiyah neighborhood. It said they were evacuated to a hospital in Israel.\nIsrael resumed its bombardment in Gaza on March 18, shattering a two-month ceasefire with Hamas. Ground troops have seized more than half the territory and have been conducting raids and searching parts of northern Gaza and the southernmost city of Rafah. Large parts of both areas have been flattened by months of Israeli operations.\nUnder Israel’s blockade, charity kitchens are virtually the only source of food left in Gaza, but dozens have shut down in recent days as food supplies run out. Aid groups say more closures are imminent. Israel has said the blockade is meant to pressure Hamas to release remaining hostages and disarm. Rights groups have called the blockade a “starvation tactic” and a potential war crime.\nIsrael accuses Hamas and other militants of siphoning off aid in Gaza, though it hasn’t presented evidence for its claims. The U.N. denies significant diversion takes place, saying it monitors distribution.\nThe 19-month-old war in Gaza is the most devastating ever fought between Israel and Hamas. It has killed more than 52,800 people there, more than half of them women and children, and wounded more than 119,000, according to the Health Ministry. The ministry’s count does not differentiate between civilians and combatants. Israel says it has killed thousands of militants, without giving evidence.\nIsrael has vowed to destroy Hamas after the Oct. 7, 2023, attack on southern Israel in which militants killed around 1,200 people, mostly civilians, and kidnapped over 250 others. Hamas still holds about 59 hostages, with around a third believed to still be alive.\nHamas released a video Saturday showing hostages Elkana Bohbot and Yosef-Haim Ohana, who appeared under duress. They were abducted during the Oct. 7 attack from a music festival where over 300 people were killed. Hamas released a video of them a month and half ago and has released several videos of Bohbot alone since then.\nProtesters on Saturday night rallied once more in Tel Aviv to demand a ceasefire that would bring all hostages home.\n“Can you grasp this? The Israeli government is about to embark on a military operation that could and will endanger the lives of the hostages,” Michel Illouz, father of hostage Guy Illouz, told the gathering, referring to the plan to vastly expand operations in Gaza.\n___\nFollow AP’s war coverage at https://apnews.com/hub/israel-hamas-war",
         "True",
         null,
         null
        ],
        [
         "14",
         "https://apnews.com/article/trump-prescription-drugs-most-favored-nation-35c281b542f0f3938489ee7e9360322b",
         "Trump promises to order that the US pay only the price other nations do for some drugs\nWASHINGTON (AP) — President Donald Trump says he’ll sign an executive order on Monday that, if implemented, could bring down the costs of some medications — reviving a failed effort from his first term on an issue he’s talked up since even before becoming president.\nThe order Trump is promising will direct the Department of Health and Human Services to tie what Medicare pays for medications administrated in a doctor’s office to the lowest price paid by other countries.\n“I will be instituting a MOST FAVORED NATION’S POLICY whereby the United States will pay the same price as the Nation that pays the lowest price anywhere in the World,” the president posted Sunday on his social media site, pledging to sign the order on Monday morning at the White House.\n“Our Country will finally be treated fairly, and our citizens Healthcare Costs will be reduced by numbers never even thought of before,” Trump added.\nHis proposal would likely only impact certain drugs covered by Medicare and given in an office — think infusions that treat cancer, and other injectables. But it could potentially bring significant savings to the government, although the “TRILLIONS OF DOLLARS” Trump boasted about in his post may be an exaggeration.\nMedicare provides health insurance for roughly 70 million older Americans. Complaints about U.S. drug prices being notoriously high, even when compared with other large and wealthy countries, have long drawn the ire of both parties, but a lasting fix has never cleared Congress.\nUnder the planned order, the federal government would tie what it pays pharmaceutical companies for those drugs to the price paid by a group of other, economically advanced countries — the so-called “most favored nation” approach.\nThe proposal will face fierce opposition from the pharmaceutical industry.\nIt was a rule that Trump tried to adopt during his first term, but could never get through. He signed a similar executive order in the final weeks of his presidency, but a court order later blocked the rule from going into effect under the Biden administration.\nThe pharmaceutical industry argued that Trump’s 2020 attempt would give foreign governments the “upper hand” in deciding the value of medicines in the U.S.. The industry has long argued that forcing lower prices will hurt profits, and ultimately affect innovation and its efforts to develop new medicines.\nOnly drugs on Medicare Part B — the insurance for doctor’s office visits — are likely to be covered under the plan. Medicare beneficiaries are responsible for picking up some of the costs to get those medications during doctor’s visits, and for traditional Medicare enrollees there is no annual out-of-pocket cap on what they pay.\nA report by the Trump administration during its first term found that the U.S. spends twice as much as some other countries in covering those drugs. Medicare Part B drug spending topped $33 billion in 2021.\nMore common prescription drugs filled at a pharmacy would probably not be covered by the new order.\nTrump’s post formally previewing the action came after he teased a “very big announcement” last week. He gave no details, except to note that it wasn’t related to trade or the tariffs he has announced imposing on much of the world.\n“We’re going to have a very, very big announcement to make — like as big as it gets,” Trump said last week.\nHe came into his first term accusing pharmaceutical companies of “getting away with murder” and complaining that other countries whose governments set drug prices were taking advantage of Americans.\nOn Sunday, Trump took aim at the industry again, writing that the “Pharmaceutical/Drug Companies would say, for years, that it was Research and Development Costs, and that all of these costs were, and would be, for no reason whatsoever, borne by the ‘suckers’ of America, ALONE.”\nReferring to drug companies’ powerful lobbying efforts, he said that campaign contributions “can do wonders, but not with me, and not with the Republican Party.”\n“We are going to do the right thing,” he wrote.",
         "True",
         null,
         null
        ],
        [
         "15",
         "https://apnews.com/article/pakistan-india-ceasefire-kashmir-f632f963d29b75d6bd71e6836e8cdbed",
         "Unease lingers in Kashmir despite ceasefire between India and Pakistan\nUnease lingers in Kashmir despite ceasefire between India and Pakistan\nNEELUM VALLEY, Pakistan (AP) — Joy over an India-Pakistan ceasefire was short-lived in Kashmir.\nTens of thousands fled the Indian-controlled part of the disputed region last week amid heavy shelling and drone attacks by Pakistan. Yet despite a ceasefire announced Saturday, only a handful of families returned to their homes Sunday.\n“We will go back only after complete calm prevails,” said Basharat Ahmed, who lives in Poonch district. “It doesn’t take much time for the two countries to start fighting on the border.”\nThe ceasefire was intended to halt the hostilities between the nuclear-armed neighbors and defuse their worst military confrontation for decades. But just hours later, each side accused the other of violating the deal.\nIndian officials said Pakistani shelling since Wednesday had killed at least 23 people and injured scores more. The shelling also damaged or destroyed hundreds of residential buildings.\nA man and his family in Indian-controlled Kashmir had taken shelter in a government-run college in the town of Baramulla. When they left early Sunday, soldiers at a checkpoint stopped them, without giving a reason, before they could reach home in the Uri sector near the highly militarized Line of Control that divides the Kashmir region between India and Pakistan.\n“Our joy around the ceasefire just vanished,” said Bashir Ahmed. He and his family had to return to the shelter at the college.\nIndian and Pakistani soldiers each guard their side of the frontier. There are watch towers every few hundred meters (yards). Some Indian and Pakistani troops are so close they can wave to one another.\nA deadly attack on tourists in Kashmir last month plunged India-Pakistan relations to new lows. India accused its neighbor of backing the massacre, in which 26 men, mostly Indian Hindus, were killed — a charge Pakistan denies.\nBoth countries subsequently expelled the other’s diplomats and nationals, and shut borders and airspace. There were missile strikes, drone attacks, and heavy artillery fire in the days that followed.\nOn Sunday, India claimed its missile strikes into Pakistani territory last week killed at least 100 militants, including prominent leaders.\nPeople near both sides of the border pay the price\nAcross the border that divides Kashmir, people feared Indian attacks would flatten their villages.\nThey began returning after the deal was announced, only to see their houses and businesses wrecked, uninhabitable or unsafe, and their belongings ruined. People are unsure if the ceasefire will hold and who will help them rebuild their lives.\nAbdul Shakoor, from Chinari in Pakistan-controlled Kashmir, ran for his life on Wednesday.\nHe and his family escaped through fields and walked almost 10 kilometers (6 miles) to take shelter at a relative’s house.\n“Many people in other cities who support war don’t realize who suffers the most when conflict breaks out or when two armies exchange fire,” said Shakoor. “It’s the people living near the border who pay the highest price.”\nAlthough the ceasefire had brought people “immense relief,” he wanted both countries to talk to each other. “In the end, even after war, it all comes back to dialogue.”\nNestled among the lush green landscape of the Neelum Valley lay dusty mounds of debris and rubble. The scenic spot a few kilometers from the Line of Control makes it vulnerable when tensions spike or there are cross-border skirmishes.\nThe valley runs along the Neelum River and, in some places, the border posts of both Pakistan and India are visible.\nLast Friday night, as soon as the warning sirens started wailing, Fatima Bibi rushed into a bunker with her family.\n“It was a terrifying night,” said Bibi. “Both sides were firing at each other’s posts. We heard nonstop explosions, and there was a deafening blast as shells started landing in our village.” A small shell landed in the courtyard of her home, damaging the windows and walls.\nShe was thankful for the ceasefire. “Given how tense things had become, many people could have died if a war had broken out.”\n___\nAijaz Hussain reported from Srinagar, India. AP writer Roshan Mughal contributed to this report from Muzaffarabad, Pakistan",
         "True",
         null,
         null
        ],
        [
         "16",
         "https://apnews.com/article/habeas-corpus-trump-migrants-deportations-constitution-28a598363d03bfc9448b5132c72f2b3d",
         "Trump team mulls suspending the constitutional right of habeas corpus to speed deportations. Can it?\nTrump team mulls suspending the constitutional right of habeas corpus to speed deportations. Can it?\nWASHINGTON (AP) — White House deputy chief of staff Stephen Miller says President Donald Trump is looking for ways to expand its legal power to deport migrants who are in the United States illegally. To achieve that, he says the administration is “actively looking at” suspending habeas corpus, the constitutional right for people to legally challenge their detention by the government.\nSuch a move would be aimed at migrants as part of the Republican president’s broader crackdown at the U.S.-Mexico border.\n“The Constitution is clear, and that of course is the supreme law of the land, that the privilege of the writ of habeas corpus can be suspended in a time of invasion,” Miller told reporters outside the White House on Friday.\n“So, I would say that’s an option we’re actively looking at,” Miller said. “Look, a lot of it depends on whether the courts do the right thing or not.”\nWhat is habeas corpus?\nThe Latin term means “that you have the body.” Federal courts use a writ of habeas corpus to bring a prisoner before a neutral judge to determine if imprisonment is legal.\nHabeas corpus was included in the Constitution as an import from English common law. Parliament enacted the Habeas Corpus Act of 1679, which was meant to ensure that the king released prisoners when the law did not justify confining them.\nThe Constitution’s Suspension Clause, the second clause of Section 9 of Article I, states that habeas corpus “shall not be suspended, unless when, in cases of rebellion or invasion, the public safety may require it.”\nHas it been suspended previously?\nYes. The United States has suspended habeas corpus under four distinct circumstances during its history. Those usually involved authorization from Congress, something that would be nearly impossible today — even at Trump’s urging — given the narrow Republican majorities in the House and Senate.\nPresident Abraham Lincoln suspended habeas corpus multiple times amid the Civil War, beginning in 1861 to detain suspected spies and Confederate sympathizers. He ignored a ruling from Roger Taney, who was the Supreme Court chief justice but was acting in the case as a circuit judge. Congress then authorized suspending it in 1863, which allowed Lincoln to do so again.\nCongress acted similarly under President Ulysses S. Grant, suspending habeas corpus in parts of South Carolina under the Civil Rights Act of 1871. Also known as the Ku Klux Klan Act, it was meant to counter violence and intimidation of groups opposing Reconstruction in the South.\nHabeas corpus was suspended in two provinces of the Philippines in 1905, when it was a U.S. territory and authorities were worried about the threat of an insurrection, and in Hawaii after the 1941 bombing of Pearl Harbor, but before it became a state in 1959.\nWriting before becoming a Supreme Court justice, Amy Coney Barrett co-authored a piece stating that the Suspension Clause “does not specify which branch of government has the authority to suspend the privilege of the writ, but most agree that only Congress can do it.”\nCould the Trump administration do it?\nIt can try. Miller suggested that the U.S. is facing “an invasion” of migrants. That term was used deliberately, though any effort to suspend habeas corpus would spark legal challenges questioning whether the country was facing an invasion, let alone presenting extraordinary threats to public safety.\nFederal judges have so far been skeptical of the Trump administration’s past efforts to use extraordinary powers to make deportations easier, and that could make suspending habeas corpus even tougher.\nTrump argued in March that the U.S. was facing an “invasion” of Venezuelan gang members and evoked the Alien Enemies Act of 1798, a wartime authority he has tried to use to speed up mass deportations.\nHis administration acted to swiftly deport alleged members of Tren de Aragua to a notorious prison in El Salvador, leading to a series of legal fights.\nFederal courts around the country, including in New York, Colorado, Texas and Pennsylvania, have since blocked the administration’s uses of the Alien Enemies Act for many reasons, including amid questions about whether the country is truly facing an invasion.\nIf courts are already skeptical, how could habeas corpus be suspended?\nMiller, who has been fiercely critical of judges ruling against the administration, advanced the argument that the judicial branch may not get to decide.\n“Congress passed a body of law known as the Immigration Nationality Act which stripped Article III courts, that’s the judicial branch, of jurisdiction over immigration cases,” he said Friday.\nThat statute was approved by Congress in 1952 and there were important amendments in 1996 and 2005. Legal scholars note that it does contain language that could funnel certain cases to immigration courts, which are overseen by the executive branch.\nStill, most appeals in those cases would largely be handled by the judicial branch, and they could run into the same issues as Trump’s attempts to use the Alien Enemies Act.\nHave other administrations tried this?\nTechnically not since Pearl Harbor, though habeas corpus has been at the center of some major legal challenges more recently than that.\nRepublican President George W. Bush did not move to suspend habeas corpus after the Sept. 11 attacks, but his administration subsequently sent detainees to Guantanamo Bay, Cuba, drawing lawsuits from advocates who argued the administration was violating it and other legal constitutional protections.\nThe Supreme Court ruled in 2008 that Guantanamo detainees had a constitutional right to habeas corpus, allowing them to challenge their detention before a judge. That led to some detainees being released from U.S. custody.\n___\nAssociated Press writer Mark Sherman contributed to this report.",
         "True",
         null,
         null
        ],
        [
         "17",
         "https://apnews.com/article/miami-adarius-hayes-crash-711d620d67da6e04b6df325a1ac86f84",
         "Miami LB Adarius Hayes was driver in 2-car crash that killed 3 in other vehicle, police say\nLARGO, Fla. (AP) — Miami Hurricanes linebacker Adarius Hayes was one of the drivers in a two-vehicle crash that left three people dead and at least two others injured, police said Sunday.\nThe three who died as a result of the crash were all in a Kia Soul, which collided with a Dodge Durango being driven by Hayes on Saturday afternoon, police said. No tickets or criminal charges have been filed, though the investigation is continuing.\nA 78-year-old woman who was driving the Kia has died, police said Sunday. There also were two children — ages 10 and 4 — killed in the crash, both of them passengers in the Kia, police said.\nAnother passenger of the Kia was hospitalized with serious injuries, police said, and Hayes also was taken to a hospital with non-life-threatening injuries.\n“There were no signs of impairment with either driver of the vehicles,” Largo Police public information officer Megan Santo said in a statement distributed Sunday.\nThe crash occurred in Hayes’ hometown of Largo, near Tampa. The Hurricanes have not commented on Hayes’ condition.\nHayes played in 12 games as a freshman for Miami last season, mostly on special teams. He was a four-star recruit coming out of Largo High and picked Miami after drawing interest from Florida, Florida State, Alabama, Georgia, Michigan, Notre Dame and Ohio State, among others.\nLargo is about 20 miles east of Tampa and about 15 miles north of St. Petersburg on Florida’s Gulf coast.\n___\nAP college football: https://apnews.com/hub/ap-top-25-college-football-poll and https://apnews.com/hub/college-football",
         "True",
         null,
         null
        ],
        [
         "18",
         "https://apnews.com/article/unrwa-schools-east-jerusalem-israel-palestinians-gaza-hamas-ce77505a6d5da1d67aa6859e4a233435",
         "The Associated Press is an independent global news organization dedicated to factual reporting. Founded in 1846, AP today remains the most trusted source of fast, accurate, unbiased news in all formats and the essential provider of the technology and services vital to the news business. More than half the world’s population sees AP journalism every day.\nIsrael has ordered six schools in East Jerusalem to close this week, throwing the educational future of 800 children of Palestinian refugees into turmoil.\nIn a visit to one of the schools — all run by the United Nations agency for Palestinian refugees, known as UNRWA — Associated Press reporters witnessed Israeli police throw tear gas into the schoolyard as a group of boys played outside.\nChildren sprinted away from the gas, coughing, drooling and covering their eyes. Some stripped off their clothes while others donned disposable masks.\nA student reacts to tear gas fired by Israeli Police in the yard of the UNRWA Boys’ School, in the Shuafat Refugee Camp in east Jerusalem, Tuesday, April 29, 2025. (AP Photo/Maya Alleruzzo)\nStudents and teachers react to tear gas fired by Israeli Police into in the yard of the UNRWA Boys’ School in the Shuafat Refugee Camp in east Jerusalem, Tuesday, April 29, 2025.(AP Photo/Mahmoud Illean)\nA student runs from tear gas fired by Israeli Police into the yard of the UNRWA Boys School in the Shuafat Refugee Camp in east Jerusalem, Tuesday, April 29, 2025. (AP Photo/Maya Alleruzzo)\nStudents react to tear gas fired by Israeli Police into the yard of the UNRWA Boys' School in the Shuafat Refugee Camp in east Jerusalem, Tuesday, April 29, 2025. (AP Photo/Maya Alleruzzo)\nIsraeli police said the incursion into the Shuafat refugee camp came in response to stone-throwing but denied directly targeting the school. Teachers and administrators said the firing of tear gas onto schools grounds is uncommon, but Israeli operations into the camp regularly interfere with learning.\nTeacher Duaa Zourba ran to check on her students.\n“As teachers in Shuafat, our first job has always been to ensure the protection and the safety of our kids,” she said. “Whenever there’s a raid, we close windows. We close doors so that they don’t smell very heavy tear gas.”\n“The goal,” she said, “is for the kids to always think of this school as a safe place, to remember that there’s a place for them.”\nStudents participate in physical education at the UNRWA Boys’ School in the Shuafat Refugee Camp in east Jerusalem, Tuesday, April 29, 2025. (AP Photo/Maya Alleruzzo)\nStudents sit at their desks at the UNRWA Boys’ School in the Shuafat Refugee Camp in east Jerusalem, in the Shuafat Refugee Camp in east Jerusalem, Tuesday, April 29, 2025. (AP Photo/Maya Alleruzzo)\nStudents snack during recess at the UNRWA Boys’ School in the Shuafat Refugee Camp in east Jerusalem, Tuesday, April 29, 2025. (AP Photo/Maya Alleruzzo)\nPuppets are displayed in teacher Doaa Zourba’s classroom at the UNRWA Boys’ School in the Shuafat Refugee Camp in east Jerusalem, Tuesday, April 29, 2025. (AP Photo/Maya Alleruzzo)\nStudents participate in physical education at the UNRWA Boys’ School in the Shuafat Refugee Camp in east Jerusalem, Tuesday, April 29, 2025. (AP Photo/Maya Alleruzzo)\nA woman passes the front entrance to the UNRWA Boys’ School in the Shuafat Refugee Camp in east Jerusalem, Tuesday, April 29, 2025. (AP Photo/Maya Alleruzzo)\nStudents play outside during recess at the UNRWA Boys’ School in the Shuafat Refugee Camp in east Jerusalem, Tuesday, April 29, 2025. (AP Photo/Maya Alleruzzo)",
         "True",
         null,
         null
        ],
        [
         "19",
         "https://apnews.com/article/brazil-petrobras-ceo-amazon-comments-video-17240843cb8934f947e8da5e957ab973",
         "Head of Brazil’s gas giant Petrobras criticized for ‘drill, baby, drill!’ comment about the Amazon\nHead of Brazil’s gas giant Petrobras criticized for ‘drill, baby, drill!’ comment about the Amazon\nSAO PAULO (AP) — The head of Brazil’s state-run gas and oil giant Petrobras was facing criticism on Friday after a video emerged of her saying “Drill, baby, drill!” when speaking about controversial oil exploration near the mouth of the Amazon River.\nMagda Chambriard made the remarks Tuesday during the Offshore Technology Conference, in Houston. In a video obtained by the Brazilian newspaper Valor Economico and published Friday, Chambriard is seen addressing Clécio Luís, governor of the Amazonian state of Amapa, who was in the audience.\n“We do believe we will have very good surprises once we have the (environmental) license to drill. So what one wants to say to Amapa is, ‘Let’s drill, baby, drill!’” Her comments prompted a round of applause, including from Luís.\nPetrobras did not immediately respond to an email request for comment. The company confirmed the authenticity of the video, according to Valor Economico.\nU.S. President Donald Trump has long used the phrase “Drill, baby, drill!” in expressing support for increased oil exploration and production.\n“The ‘let’s drill, baby’ rhetoric may comfort industry leaders and short-sighted policymakers, but history will remember them as the ones who buried the 1.5 C goal,” said Natalie Unterstell, president of Talanoa, a climate policy think tank, referring to the internationally adopted aim to keep warming under 1.5 C since pre-industrial times.\nClimate change is caused by the release of greenhouse gases like carbon dioxide. Oil, from exploration to its various uses, is a central driver of climate change.\nChambriard was appointed by Brazil’s leftist President Luiz Inácio Lula da Silva, whose environmental record in the Amazon is mixed. While he has curbed deforestation and championed the Amazonian city of Belem as the host of the U.N.'s COP30 climate summit in November, he also supports Petrobras’s push to drill for offshore oil at the ecologically sensitive mouth of the Amazon River and other big projects that bring environmental impact to the world´s largest tropical forest.\nExploratory offshore drilling near the Amazon, whose reserves are unknown, is expected to draw scrutiny during the COP30 summit. A central push of the annual climate talks has been to reduce the use of fossil fuels such as oil, gas and coal.\n___\nThe Associated Press’ climate and environmental coverage receives financial support from multiple private foundations. AP is solely responsible for all content. Find AP’s standards for working with philanthropies, a list of supporters and funded coverage areas at AP.org.",
         "True",
         null,
         null
        ],
        [
         "20",
         "https://apnews.com/article/schoningen-spears-germany-neanderthals-08df345b996b6033dfdaa508aac62332",
         "Ancient wooden spears found in Germany may have been wielded by Neanderthals, a new study suggests\nAncient wooden spears found in Germany may have been wielded by Neanderthals, a new study suggests\nNEW YORK (AP) — A set of ancient wooden spears may be younger than scientists thought and wielded by Neanderthals instead of their ancestors.\nThe complete spears made of spruce and pine are among the oldest known hunting weapons. They were discovered in a coal mine over two decades ago in the German town of Schöningen along with the remains of nearly 50 horses.\nPrevious estimates dated the spears to 300,000 years ago so scientists thought the weapons belonged to a group of early humans called Homo heidelbergensis — thought to be the last common ancestor between humans and Neanderthals.\nBut the new analysis using a different dating technique suggests the spears are younger, placing them about 200,000 years old. The new age means the hunting weapons may have been used by Neanderthals instead, according to research published Friday in the journal Science Advances.\nRecent work has suggested that some Neanderthals mixed and mated with early humans. The balanced, well-crafted spears could help scientists understand what Neanderthals were capable of and how they worked together to hunt.\nThe spears are “pretty sophisticated for something that old,” said study co-author Jarod Hutson with the Smithsonian National Museum of Natural History.\nBut it’s not yet clear why the new dating disagrees with previous estimates. Archaeologist Thomas Terberger with the University of Göttingen said more research is needed to be sure of the spears’ age and who used them to hunt.\n“For the moment, I find the arguments interesting, but not absolutely convincing,” said Terberger, who had no role in the new study.\n___\nThe Associated Press Health and Science Department receives support from the Howard Hughes Medical Institute’s Science and Educational Media Group and the Robert Wood Johnson Foundation. The AP is solely responsible for all content.",
         "True",
         null,
         null
        ],
        [
         "21",
         "https://apnews.com/article/democracy-trump-voice-america-usaid-state-department-f5959e4d3b8d21f22a8c88bfc89842b8",
         "‘Beacon of freedom’ dims as US initiatives that promote democracy abroad wither under Trump\n‘Beacon of freedom’ dims as US initiatives that promote democracy abroad wither under Trump\nCHICAGO (AP) — Growing up in the former Soviet Union, Pedro Spivakovsky-Gonzalez’s father and grandparents would listen to Voice of America with their ears pressed to the radio, trying to catch words through the government’s radio jamming.\nThe U.S.-funded news service was instrumental in helping them understand what was happening on the other side of the Iron Curtain, before they moved to the United States in the 1970s.\n“It was a window into another world,” Spivakovsky-Gonzalez said. “They looked to it as a sort of a beacon of freedom. They were able to imagine a different world from the one they were living in.”\nWhen Spivakovsky-Gonzalez and his family heard of President Donald Trump’s attempts to dismantle the U.S. Agency for Global Media — the agency that oversees VOA, Radio Free Europe and Radio Free Asia –- he said it was a “gut punch.”\nThe first months of the second Trump administration have delivered blow after blow to American efforts to promote democracy abroad and pierce the information wall of authoritarian governments through programs that had been sustained over decades by presidents of both political parties.\nThe new administration has decimated the Agency for Global Media, restructured the State Department to eliminate a global democracy office and gutted the U.S. Agency for International Development, which just last year launched an initiative to try to halt democratic backsliding across the globe. In all, the moves represent a retrenchment from the U.S. role in spreading democracy beyond its borders.\nExperts say the moves will create a vacuum for promoting freedom and representative government, and could accelerate what many see as anti-democratic trends around the world.\n“The United States has historically been the leading power in spreading democracy globally. Despite different administrations, that has remained the case –- until now,” said Staffan Lindberg, a political science professor at the University of Gothenburg in Sweden.\nTargeting a broad swath of democracy and civil society initiatives\nDavid Salvo, managing director for the Alliance for Securing Democracy at the German Marshall Fund, said promoting democracy abroad has been “a pillar of American foreign policy in the last 50 years” as a means of ensuring more stable, peaceful relationships with other countries, reducing the threat of conflict and war, and fostering economic cooperation.\nYet among Trump’s early actions was targeting democracy programs through the State Department and USAID, which had launched a new global democracy initiative at the tail end of Democrat Joe Biden’s presidency. The Treasury Department halted funding to the National Endowment for Democracy, and Secretary of State Marco Rubio said in April he would shutter a State Department office that had a mission to build “more democratic, secure, stable, and just societies.”\nFunding cuts have hit the National Democratic Institute, the International Foundation for Electoral Systems and U.S. nonprofits that have worked for decades “to inject resources into environments so that civil society and democratic actors can try to effect change for the better,” including through bolstering unstable democracies against autocrats, Salvo said.\nWhether global democracy programs are worth funding was central to a hearing Thursday held by a U.S. House Foreign Affairs subcommittee as Rep. Maria Salazar, R-Fla., repeatedly asked how to “ensure our return on investment is really high.”\nAbout 1.2% of the federal budget went to foreign aid in the 2023 fiscal year, according to the Pew Research Center.\n“I understand the committee is interested in how we can improve ... and get back to basics,” Tom Malinowski, a former Democratic congressman from New Jersey and assistant secretary of state for democracy, human rights and labor under President Barack Obama, told lawmakers. “The problem is the administration is eliminating the basics right now.”\nUzra Zeya, who leads the international nonprofit Human Rights First after serving in the Biden State Department, said it was “heartbreaking and alarming” to watch the U.S. essentially dismantle its democracy and human rights programs.\n“The potential long-term impacts are devastating for U.S. national security and prosperity,” she said.\nDiminishing the messaging pipelines for freedom\nFor more than 80 years, VOA and its related outlets have delivered news across the world, including to more than 427 million people every week in 49 languages, according to a 2024 internal report. The broadcaster began during World War II to provide Germans with news, even as Nazi officials attempted to jam its signals. The Soviet Union and China attempted to silence its broadcasts during the Cold War. Iranian and North Korean governments have also tried to block access to VOA for decades.\nBut the most successful attempt to silence VOA has been through its own government. It was effectively shut down in March through an executive order.\nLisa Brakel, a 66-year-old retired librarian in Temperance, Michigan, said VOA was a “mainstay” when she was a music teacher in Kuwait in the 1980s. She and her colleagues would listen together in the apartment complex where the American teachers were housed, using it as a way to stay up-to-date with U.S. news.\n“When I saw the news, I thought, ‘No, they can’t shut this down. Too many people depend on that,’” Brakel said. “As a librarian, any cuts to free access to information deeply concern me.”\nCuts will likely embolden US competitors\nThe broadcaster’s future remains in flux after a federal appellate court paused a ruling that would have reversed its dismantling. This was just a day after journalists were told they would soon return to work after being off the air for almost two months. Even if they are allowed back, it’s not clear the mission would be the same. This past week, the Trump administration agreed to use the conservative and heavily pro-Trump media network OAN’s feed on VOA and other services.\nIn Asia, dismantling Radio Free Asia would mean losing the world’s only independent Uyghur language news service, closing the Asia Fact Check Lab as it reports on misinformation from the Chinese Community Party, and curbing access to information in countries such as China, North Korea and Myanmar that lack free and independent media, the broadcaster’s president, Bay Fang, said in a statement.\n“Their invaluable work is part of RFA’s responsibility to uphold the truth so that dictators and despots don’t have the last word,” Fang wrote in May in The New York Times.\nExperts who monitor global democracy said the information gap created by the administration will embolden U.S. competitors such as Russia and China, which already are at work trying to shape public opinion.\nBarbara Wejnert, a political sociologist at the University at Buffalo, who studies global democracies, said diplomatic efforts through U.S. broadcasters and democracy nonprofits helped precipitate a “rapid increase in democratizing countries” in the late 20th century.\n“Especially today when the truth is distorted and people don’t trust governments, spreading the notion of freedom and democracy through media is even more vital,” she said.\n___\nThe Associated Press receives support from several private foundations to enhance its explanatory coverage of elections and democracy. See more about AP’s democracy initiative here. The AP is solely responsible for all content.",
         "True",
         null,
         null
        ],
        [
         "22",
         "https://apnews.com/article/iran-us-nuclear-talks-oman-mideast-tensions-trump-1b47c24a5f97e20bfebbc34ad8047e90",
         "Iran and US conclude a fourth round of negotiations over Tehran’s nuclear program in Oman\nIran and US conclude a fourth round of negotiations over Tehran’s nuclear program in Oman\nDUBAI, United Arab Emirates (AP) — Iran and the United States held a fourth round of negotiations Sunday over Tehran’s rapidly advancing nuclear program, just ahead of a visit by President Donald Trump to the Middle East this week.\nThe talks ran for some three hours in Muscat, the capital of Oman, which has been mediating the negotiations, said a U.S. official. Iranian Foreign Ministry spokesperson Esmail Baghaei also said the talks took place that long and that a decision on the next round of talks is under discussion.\nBaghaei called the talks “difficult but useful.” The U.S. official, speaking on condition of anonymity to discuss the closed-door negotiations, offered a little bit more, describing them as being both indirect and direct.\n“Agreement was reached to move forward with the talks to continue working through technical elements,” the U.S. official said. “We are encouraged by today’s outcome and look forward to our next meeting, which will happen in the near future.”\nIran insisted they only took place indirectly — possibly over internal political pressures within the Islamic Republic.\nThe talks seek to limit Iran’s nuclear program in exchange for the lifting of some of the crushing economic sanctions the U.S. has imposed on the Islamic Republic, closing in on half a century of enmity.\nTrump has repeatedly threatened to unleash airstrikes targeting Iran’s program if a deal isn’t reached. Iranian officials increasingly warn that they could pursue a nuclear weapon with their stockpile of uranium enriched to near weapons-grade levels. Meanwhile, Israel has threatened to strike Iran’s nuclear facilities on their own if it feels threatened, further complicating tensions in the Mideast already spiked by the Israel-Hamas war in the Gaza Strip.\nThe fourth round comes ahead of Trump’s trip\nThe talks again saw Iranian Foreign Minister Abbas Araghchi and U.S. Mideast envoy Steve Witkoff lead the negotiations. They have met and spoken face-to-face but the majority of the negotiations appear to have been indirect, with Omani Foreign Minister Badr al-Busaidi shuttling messages between the two sides.\n“The discussions included useful and original ideas reflecting a shared wish to reach an honorable agreement,” al-Busaidi wrote afterward on the social platform X.\nIran has insisted that keeping its ability to enrich uranium is a red line for its theocracy, with Araghchi before the talks describing Iran’s program as springing from “the blood of our nuclear scientists.” Israel is widely suspected of carrying out assassinations targeting the program’s scientists.\n“From our viewpoint, enrichment is a subject that should definitely continue and there is no room for compromise on that,” Araghchi told Iranian state television after the talks. “It is possible that we consider some limits on its dimensions, amount and level for trust building, similar to the past.”\nWitkoff has muddied the issue by first suggesting in a television interview that Iran could enrich uranium at 3.67%, then later saying that all enrichment must stop.\n“An enrichment program can never exist in the state of Iran ever again,” Witkoff told the right-wing Breitbart news site in a piece published Friday. “That’s our red line. No enrichment. That means dismantlement, it means no weaponization, and it means that Natanz, Fordow, and Isfahan — those are their three enrichment facilities — have to be dismantled.”\nIran’s 2015 nuclear deal with world powers capped Tehran’s enrichment at 3.67% and reduced its uranium stockpile to 300 kilograms (661 pounds). That level is enough for nuclear power plants, but far below weapons-grade levels of 90%.\nSince the nuclear deal’s collapse in 2018 with Trump’s unilateral withdrawal of the U.S. from the accord, Iran has abandoned all limits on its program and enriched uranium to up to 60% purity — a short, technical step from weapons-grade levels. There have also been a series of attacks at sea and on land in recent years, stemming from the tensions even before the Israel-Hamas war began.\nIran faces pressures at home as talks continue\nIran also faces challenges at home, exacerbated by sanctions. Its troubled rial currency, once over 1 million to $1, has strengthened dramatically due to the talks alone to around 830,000 to $1.\nHowever, the two sides still appear a long way from any deal, even as time ticks away. Iranian media broadly reported a two-month deadline imposed by Trump in his initial letter sent to Iran’s Supreme Leader, Ayatollah Ali Khamenei. Trump said he wrote the letter on March 5, which made it to Iran via an Emirati diplomat on March 12 — putting the deadline in theory as Monday when Trump takes off from Washington for his trip to Saudi Arabia, Qatar and the United Arab Emirates.\nIran’s internal politics are still inflamed over the mandatory hijab, or headscarf, with women still ignoring the law on the streets of Tehran. Rumors also persist over the government potentially increasing the cost of subsidized gasoline in the country, which has sparked nationwide protests in the past.\nMeanwhile, the last round of talks in Oman on April 26 took place as an explosion rocked a southern Iranian port, killing dozens of people and injuring over 1,000 others. Iran still hasn’t explained what caused the blast at the Shahid Rajaei port, which has been linked to a shipment of missile fuel components to the Islamic Republic.\n____\nAssociated Press writer Nasser Karimi in Tehran, Iran, contributed to this report.",
         "True",
         null,
         null
        ],
        [
         "23",
         "https://apnews.com/article/bangladesh-hasina-yunus-awami-league-78b40dfe9c92257f0042968c7b963c2a",
         "Bangladesh’s interim government bans the former ruling party of ousted Prime Minister Sheikh Hasina\nDHAKA, Bangladesh (AP) — The interim government in Bangladesh on Saturday banned all activities of the former ruling Awami League party headed by former influential Prime Minister Sheikh Hasina, who was ousted last year in a mass uprising.\nAsif Nazrul, the country’s law affairs adviser, said late Saturday the interim Cabinet headed by Nobel Peace Prize laureate Muhammad Yunus decided to ban the party’s activities online and elsewhere under the country’s Anti-Terrorism Act. The ban would stay in place until a special tribunal completes a trial of the party and its leaders over the deaths of hundreds of students and other protesters during an anti-government uprising in July and August last year.\n“This decision is aimed at ensuring national security and sovereignty, protection of activists of the July movement, and plaintiffs and witnesses involved in the tribunal proceedings,” Nazrul told reporters after a special Cabinet meeting.\nNazrul said the meeting Saturday also expanded scope for trying any political parties involving charges of killing during the anti-Hasina protest being handled by the International Crimes Tribunal.\nHe said a government notification regarding the ban would be published soon with details.\nHasina and many of her senior party colleagues have been accused of murder in many cases after her ouster last year. Hasina has been in exile in India since Aug. 5 as her official residence was stormed by protesters soon after she left the country.\nThe United Nations human rights office in a report said in February that up to 1,400 people may have been killed during three weeks of anti-Hasina protest.\nSaturday night’s dramatic decision came after thousands of protesters, including supporters of a newly formed political party by students, took to the streets in Dhaka and issued an ultimatum to ban the Awami League party by Saturday night. The members of the student wing of the Jamaat-e-Islami party also prominently took part in the protest.\nThere was no immediate reaction from Hasina or her party, but the chief of the National Citizen Party, Nahid Islam, who is also a student leader, applauded the Yunus-led government for its decision.\nThe student-led uprising ended Hasina’s 15 years of rule, and three days after her fall Yunus took the helm as interim leader.",
         "True",
         null,
         null
        ],
        [
         "24",
         "https://apnews.com/article/trump-qatar-gift-jet-air-force-one-7f9afb461c6b3ac16fca3bb0973715ff",
         "Trump defends the prospect of Qatar gifting him a plane to use as Air Force One\nTrump defends the prospect of Qatar gifting him a plane to use as Air Force One\nWASHINGTON (AP) — President Donald Trump is ready to accept a luxury Boeing 747-8 jumbo jet as a gift from the ruling family of Qatar during his trip to the Middle East this coming week, and U.S. officials say it could be converted into a potential presidential aircraft.\nThe Qatari government said a final decision hadn’t been made. Still, Trump defended the idea — what would amount to a president accepting an astonishingly valuable gift from a foreign government — as a fiscally smart move for the country.\n“So the fact that the Defense Department is getting a GIFT, FREE OF CHARGE, of a 747 aircraft to replace the 40 year old Air Force One, temporarily, in a very public and transparent transaction, so bothers the Crooked Democrats that they insist we pay, TOP DOLLAR, for the plane,” Trump posted on his social media site on Sunday night. “Anybody can do that!”\nABC News reported that Trump will use the aircraft as his presidential plane until shortly before he leaves office in January 2029, when ownership will be transferred to the foundation overseeing his yet-to-be-built presidential library.\nThe gift was expected to be announced when Trump visits Qatar, according to ABC’s report, as part of a trip that also includes stops in Saudi Arabia and the United Arab Emirates, the first extended foreign travel of his second term.\nBefore Trump’s post trumpeting the idea, Ali Al-Ansari, Qatar’s media attaché, said in a statement that the “possible transfer of an aircraft for temporary use as Air Force One is currently under consideration between Qatar’s Ministry of Defense and the US Department of Defense.”\n“But the matter remains under review by the respective legal departments, and no decision has been made,” the statement added.\nMeanwhile, administration officials, anticipating ethics concerns, have prepared an analysis arguing that accepting the plane would be legal, according to ABC. The Constitution’s Emoluments Clause bars anyone holding government office from accepting any present, emolument, office or title from any “King, Prince, or foreign State,” without congressional consent.\nOne expert on government ethics, Kathleen Clark of the Washington University School of Law in St. Louis, accused Trump of being “committed to exploiting the federal government’s power, not on behalf of policy goals, but for amassing personal wealth.”\nSenate Minority Leader Chuck Schumer poked fun at Trump’s “America first” political slogan.\n“Nothing says ‘America First’ like Air Force One, brought to you by Qatar,” the New York Democrat said in a statement. “It’s not just bribery, it’s premium foreign influence with extra legroom.”\nEven some conservatives expressed dismay online, noting that an aircraft being offered by a foreign government could present security risks if used by a U.S. president.\nAir Force One is a modified Boeing 747. Two exist, and the president flies on both, which are more than 30 years old. Boeing Inc. has the contract to produce updated versions, but delivery has been delayed while the company has lost billions of dollars on the project.\nTrump intends to convert the Qatari aircraft into a plane he can fly on as president, with the Air Force planning to add secure communications and other classified elements to it. But it will still have more limited capabilities than the existing planes that were built to serve as Air Force One, as well as two other aircraft currently under construction, according to a former U.S. official.\nThe official was briefed about the plane and spoke Sunday on the condition of anonymity to discuss plans that have not yet been made public.\nThe existing planes used as Air Force One are heavily modified with survivability capabilities for the president for a range of contingencies, including radiation shielding and antimissile technology. They also include a variety of communications systems to allow the president to remain in contact with the military and issue orders from anywhere in the world.\nThe official told The Associated Press that it would be possible to quickly add some countermeasures and communications systems to the Qatari plane, but that it would be less capable than the existing Air Force One aircraft or long-delayed replacements.\nNeither the Qatari plane nor the upcoming VC-25B aircraft will have the air-to-air refueling capabilities of the current VC-25A aircraft, which is the one the president currently flies on, the official said.\nJordan Libowitz, communications director for the advocacy group Citizens for Responsibility and Ethics in Washington, called such a gift “unprecedented.”\n“The totality of gifts given to a president over their term doesn’t get close to this level,” Libowitz said, adding, “You have to ask, if he makes foreign policy — especially in regards to the Middle East — how much is he being influenced by his gifts and his business deals.”\nABC said the new plane is similar to a 13-year-old Boeing aircraft Trump toured in February, while it was parked at Palm Beach International Airport and he was spending the weekend at his Mar-a-Lago club.\nTrump faced lawsuits for violating the Emoluments Clause during his first term, but those were ended by the Supreme Court in 2021, which found the cases moot because the Republican had left office.\nTrump’s family business, the Trump Organization, which is now largely run by his sons, Donald Trump Jr. and Eric Trump, has vast and growing interests in the Middle East. That includes a new deal to build a luxury golf resort in Qatar, partnering with Qatari Diar, a real estate company backed by that country’s sovereign wealth fund.\nQatar, which is ruled by the Al Thani family, is home to the state-owned airline Qatar Airways. The country also has worked to have a close relationship to Trump after he apparently backed a boycott of Doha by four Arab nations in his first term. Trump later in his term applauded Qatar.\nAdministration officials have brushed off concerns about the president’s policy interests blurring with family’s business profits. They note that Trump’s assets are in a trust managed by his children and that a voluntary ethics agreement released by the Trump Organization in January bars the company from striking deals directly with foreign governments.\nBut that same agreement allows deals with private companies abroad. That is a departure from Trump’s first term, when the organization released an ethics pact prohibiting both foreign government and foreign company deals.\nWhite House press secretary Karoline Leavitt, when asked Friday if the president might meet with people who have ties to his family’s business, said it was “ridiculous” to suggest Trump “is doing anything for his own benefit.”\n___\nAssociated Press writer Christine Fernando in Chicago and Jon Gambrell in Dubai, United Arab Emirates, contributed to this report.",
         "True",
         null,
         null
        ],
        [
         "25",
         "https://apnews.com/article/transgender-poll-care-bathrooms-military-trump-b5c9521d3d486e87c8631a99a455df2f",
         "Transgender issues are a strength for Trump, AP-NORC poll finds\nWASHINGTON (AP) — About half of U.S. adults approve of how President Donald Trump is handling transgender issues, according to a new poll — a relative high point for a president who has the approval overall of about 4 in 10 Americans.\nBut support for his individual policies on transgender people is not uniformly strong, with a clearer consensus against policies that affect youth.\nThe Associated Press-NORC Center for Public Affairs Research survey conducted this month found there’s more support than opposition on allowing transgender troops in the military, while most don’t want to allow transgender students to use the public school bathrooms that align with their gender identity and oppose using government programs to pay for gender-affirming health care for transgender youth.\nSchuyler Fricchione, a 40-year-old stay-at-home mother from northern Virginia, is one of those who opposes the government paying for gender-affirming care, especially for young people.\nShe said she doesn’t want people to make major changes that they might later regret. But she said that because of her Catholic faith, she doesn’t want to exclude transgender people from public life. “It’s very important to me that everyone understands their dignity and importance as a person.”\n“It is something I am kind of working through myself,” she said. “I am still learning.”\nMost adults agree with Trump that sex is determined at birth\nAbout two-thirds of U.S. adults agree with President Donald Trump that whether a person is a man or woman is determined by their biological characteristics at birth.\nThe poll found that Republicans overwhelmingly believe gender identity is defined by sex at birth, but Democrats are divided, with about half saying gender identity can differ from biological characteristics at birth. The view that gender identity can’t be separated from sex at birth view contradicts what the American Medical Association and other mainstream medical groups say: that extensive scientific research suggests sex and gender are better understood as a spectrum than as an either-or definition.\nA push against the recognition and rights of transgender people, who make up about 1% of the nation’s population, has been a major part of Trump’s return to the White House — and was a big part of his campaign.\nHe has signed executive orders calling for the government to classify people by unchangeable sex rather than gender, oust transgender service members and kick transgender women and girls out of sports competitions for females. Those actions and others are being challenged in court, and judges have put many of his efforts on hold.\nThe public is divided on some issues — and many are neutral\nDespite being a hot-button issue overall, a big portion of the population is neutral or undecided on several key policies.\nAbout 4 in 10 people supported requiring public schoolteachers to report to parents if their children are identifying at school as transgender or nonbinary. About 3 in 10 opposed it and a similar number was neutral.\nAbout the same portion of people — just under 4 in 10 — favored allowing transgender troops in the military as were neutral about it. About one-quarter opposed it.\nTim Phares, 59, a registered Democrat in Kansas who says he most often votes for Republicans, is among those in the middle on that issue.\nOne on hand, he said, “Either you can do the job or you can’t do the job.” But on the other, he added, “I’m not a military person, so I’m not qualified to judge how it affects military readiness.”\nThis month, a divided U.S. Supreme Court allowed Trump’s administration to enforce a ban on transgender people in the military while legal challenges proceed, a reversal of what lower courts have said.\nMost object to government coverage of gender-affirming care for youth\nAbout half oppose allowing government insurance programs such as Medicare and Medicaid to cover gender-affirming medical care, such as hormone therapy and surgery, for transgender people 19 or older. About two-thirds oppose it for those under 19.\nAnd on each of those questions, a roughly equal portion of the populations support the coverage or is neutral about it.\nOne of Trump’s executive orders keeps federal insurance plans from paying for gender-affirming care for those under 19. A court has ruled that funding can’t be dropped from institutions that provide the care, at least for now.\nMeanwhile, Trump’s administration this month released a report calling for therapy alone and not broader gender-affirming health care for transgender youth. Twenty-seven states have bans on the care for minors, and the Supreme Court is expected to rule in coming months over whether the bans can hold.\nForming a stance is easy for some\nWhile Democrats are divided on many policies related to transgender issues, they’re more supportive than the population overall. There is no anguish over the issue or other transgender policy questions for Isabel Skinner, a 32-year-old politics professor in Illinois.\nShe has liberal views on transgender people, shaped partly by her being a member of the LGBTQ+ community as a bisexual and pansexual person, and also by knowing transgender people.\nShe was in the minority who supported allowing transgender students to use the public-school bathrooms that match their gender identity — something that at least 14 states have passed laws to ban in the last five years.\n“I don’t understand where the fear comes from,” Skinner said, “because there really doesn’t seem to be any basis of reality for the fear of transgender people.”\n___\nMulvihill reported from New Jersey.\n___\nThe AP-NORC poll of 1,175 adults was conducted May 1-5, using a sample drawn from NORC’s probability-based AmeriSpeak Panel, which is designed to be representative of the U.S. population. The margin of sampling error for adults overall is plus or minus 4 percentage points.",
         "True",
         null,
         null
        ],
        [
         "26",
         "https://apnews.com/article/gaza-hunger-malnutrition-food-hospital-israel-f0cf633f0a7a9ae6c23345436c5afe44",
         "Israel’s blockade means Gaza’s hospitals cannot provide food to recovering patients\nIsrael’s blockade means Gaza’s hospitals cannot provide food to recovering patients\nKHAN YOUNIS, Gaza Strip (AP) — It cost a fortune, she said, but Asmaa Fayez managed to buy a few zucchinis in a Gaza market. She cooked them with rice and brought it to her 4-year-old son, who has been in the hospital for the past week. The soup was his only meal of the day, and he asked for more.\n“It’s all finished, darling,” Fayez replied softly. Still, it was an improvement from the canned beans and tuna she brings on other days, she said.\nHospital patients are among the most vulnerable as Palestinians across Gaza struggle to feed themselves, with Israel’s blockade on food and other supplies entering the territory now in its third month.\nWith hospitals unable to provide food, families must bring whatever they can find for loved ones.\n“Most, if not all, wounded patients have lost weight, especially in the past two months,” Dr. Khaled Alserr, a general surgeon at Nasser Hospital in the southern city of Khan Younis, told The Associated Press. Nutritional supplements for intensive care unit patients are lacking, he said.\n“Our hands are tied when it comes to making the best choice for patients. Choices are limited,” he said.\nHunger worsens as supplies dwindle\nMalnutrition is on the rise across Gaza, aid groups say. Thousands of children have been found with acute malnutrition in the past month, but adults as well are not getting proper nutrients, according to the U.N. It estimates that 16,000 pregnant women and new mothers this year face acute malnutrition.\nSince Israel’s blockade began on March 2, food sources have been drying up. Aid groups have stopped food distribution. Bakeries have closed. Charity kitchens handing out bowls of pasta or lentils remain the last lifeline for most of the population, but they are rapidly closing for lack of supplies, the U.N. says.\nMarkets are empty of almost everything but canned goods and small amounts of vegetables, and prices have been rising. Local production of vegetables has plummeted because Israeli forces have damaged 80% of Gaza’s farmlands, the U.N. says, and much of the rest is inaccessible inside newly declared military zones.\nFayez’s son, Ali al-Dbary, was admitted to Nasser Hospital because of a blocked intestine, suffering from severe cramps and unable to use the bathroom. Fayez believes it’s because he has been eating little but canned goods. She splurged on the zucchini, which now costs around $10 a kilogram (2.2 pounds). Before the war it was less than a dollar.\nDoctors said the hospital doesn’t have a functioning scanner to diagnose her son and decide whether he needs surgery.\nIsrael says it imposed the blockade and resumed its military campaign in March to pressure Hamas to release its remaining hostages and disarm.\nHamas ignited the war with its Oct. 7, 2023, attack on Israel, in which militants killed some 1,200 people, mostly civilians, and took 251 hostage, most of whom have been released in ceasefire agreements or other deals. Israel’s offensive has killed over 52,000 Palestinians, mostly women and children, according to Gaza’s Health Ministry, which does not say how many of the dead were civilians or combatants.\nConcern over Israeli plans to control aid\nIsraeli officials have asserted that enough food entered Gaza during a two-month ceasefire earlier this year. Rights groups have disputed that and called the blockade a “starvation tactic” and a potential war crime.\nNow Israeli plans to control aid distribution in Gaza, using private contractors to distribute supplies. The U.N. and aid groups have rejected the idea, saying it could restrict who is eligible to give and receive aid and could force large numbers of Palestinians to move — which would violate international law.\nThose under care at hospitals, and their families who scrounge to feed them, would face further challenges under Israel’s proposal. Moving to reach aid could be out of the question.\nAnother patient at Nasser Hospital, 19-year-old Asmaa Faraj, had shrapnel in her chest from an airstrike that hit close to her tent and a nearby charity kitchen in camps for displaced people outside Khan Younis.\nWhen the AP visited, the only food she had was a small bag of dates, a date cookie and some water bottles. Her sister brought her some pickles.\n“People used to bring fruits as a gift when they visited sick people in hospitals,” said the sister, Salwa Faraj. “Today, we have bottles of water.”\nShe said her sister needs protein, fruits and vegetables but none are available.\nMohammed al-Bursh managed to find a few cans of tuna and beans to bring for his 30-year-old son, Sobhi, who was wounded in an airstrike three months ago. Sobhi’s left foot was amputated, and he has two shattered vertebrae in his neck.\nAl-Bursh gently gave his son spoonfuls of beans as he lay still in the hospital bed, a brace on his neck.\n“Everything is expensive,” Sobhi al-Bursh said, gritting with pain that he says is constant. He said he limits what he eats to help save his father money.\nHe believes that his body needs meat to heal. “It has been three months, and nothing heals,” he said.\n___\nFollow AP’s war coverage at https://apnews.com/hub/israel-hamas-war",
         "True",
         null,
         null
        ],
        [
         "27",
         "https://apnews.com/article/allergies-pollen-count-symptoms-d15a53710905ee7dec70c8e6ea7df6e0",
         "Spring allergies are back. Here’s how to check pollen levels and keep from sneezing\nSpring allergies are back. Here’s how to check pollen levels and keep from sneezing\nATLANTA (AP) — Allergy season can be miserable for tens of millions of Americans when trees, grass, and other pollens cause runny noses, itchy eyes, coughing and sneezing.\nWhere you live, what you’re allergic to and your lifestyle can make a big difference when it comes to the severity of your allergies. Experts say climate change is leading to longer and more intense allergy seasons, but also point out that treatments for seasonal allergies have become more effective over the last decade.\nHere are some tips from experts to keep allergy symptoms at bay — maybe even enough to allow you to enjoy the outdoors.\nWhere are pollen levels the worst this year?\nThe Asthma and Allergy Foundation of America issues an annual ranking of the most challenging cities to live in if you have allergies, based on over-the-counter medicine use, pollen counts and the number of available allergy specialists.\nThis year, the top five cities are: Wichita, Kansas; New Orleans; Oklahoma City; Tulsa, Oklahoma; and Memphis.\nWhich pollens cause allergies?\nThere are three main types of pollen. Earlier in the spring, tree pollen is the main culprit. After that grasses pollinate, followed by weeds in the late summer and early fall.\nSome of the most common tree pollens that cause allergies include birch, cedar, cottonwood, maple, elm, oak and walnut, according to the Asthma and Allergy Foundation of America. Grasses that cause symptoms include Bermuda, Johnson, rye and Kentucky bluegrass.\nThis article is part of AP’s Be Well coverage, focusing on wellness, fitness, diet and mental health. Read more Be Well.\nHow do I track pollen levels?\nPollen trackers can help you decide when to go outside. The American Academy of Allergy Asthma and Immunology tracks levels through a network of counting stations across the U.S. Counts are available at its website and via email.\nLimit your exposure to pollens\nThe best and first step to controlling allergies is avoiding exposure. Keep the windows in your car and your home closed, even when it’s nice outside.\nIf you go outside, wearing long sleeves can keep pollen off your skin to help ward off allergic reactions, said Dr. James Baker, an allergist at the University of Michigan. It also provides some sun protection, he added.\nWhen you get home, change your clothes and shower daily to ensure all the pollen is off of you — including your hair. If you can’t wash your hair every day, try covering it when you go outside with a hat or scarf. Don’t get in the bed with your outside clothes on, because the pollen will follow.\nIt’s also useful to rinse your eyes and nose with saline to remove any pollen, experts said. And the same masks that got us through the pandemic can protect you from allergies — though they won’t help with eye symptoms.\nHow to relieve allergy symptoms\nOver-the-counter nasal sprays are among the most effective treatments for seasonal allergies, experts said.\nBut the vast majority of patients use them incorrectly, irritating parts of the nose, said Dr. Kathleen Mays, an allergist at Augusta University in Georgia. She suggested angling the nozzle outward toward your ear rather than sticking it straight up your nose.\nOver-the-counter allergy pills like Claritin, Allegra and Zyrtec are helpful, but may not be as effective as quickly since they’re taken by mouth, experts said.\nExperts also said that if your allergy symptoms are impacting your quality of life, like causing you to lose sleep or a lack focus at work or school, it might be time to consider an allergist appointment for immunotherapies.\nSome remedies for allergy relief that have been circulating on social media or suggested by celebrities — like incorporating local honey into your diet to expose yourself to pollen — have been debunked.\nDr. Shayam Joshi, an allergist at Oregon Health and Science University, said that’s because the flowers that bees pollinate typically don’t contain the airborne pollen that causes allergy symptoms.\nIs allergy season changing?\nWith climate change, winters are milder and growing seasons are longer, meaning there’s more opportunity for pollen to stay in the air, resulting in longer and more severe allergy seasons.\nIn many areas across the country, pollen counts have broken decades of records. In late March, Atlanta Allergy & Asthma measured a pollen count of over 14,000 grains per cubic meter, which is considered extremely high.\n___\nThe Associated Press Health and Science Department receives support from the Howard Hughes Medical Institute’s Science and Educational Media Group and the Robert Wood Johnson Foundation. The AP is solely responsible for all content.",
         "True",
         null,
         null
        ],
        [
         "28",
         "https://apnews.com/article/trump-us-canada-trade-deficit-military-norad-spending-1417673f38f1829334a4e571ea058e03",
         "FACT FOCUS: Trump claims the US subsidizes Canada. Experts say the numbers don’t add up\nNewly-elected Canadian Prime Minister Mark Carney visited the White House on Tuesday in search of common ground during an ongoing trade war that has shattered decades of trust between the his country and the U.S. Although the conversation was civil, President Donald Trump repeated erroneous rhetoric about how the U.S. provides Canada with billions of dollars in subsidies.\n“It’s hard to justify subsidizing Canada to the tune of maybe $200 billion a year,” he said. “We protect Canada militarily, and we always will. We not going to, you know, that’s not a money thing. But we always will. But, you know, it’s not fair. But why are we subsidizing Canada $200 billion a year or whatever the number might be? It’s a very substantial number.”\nHere’s a closer look at the facts.\nCLAIM: The U.S. subsidizes Canada with subsidies of about $200 billion per year.\nTHE FACTS: This is false. According to the White House, the number is based on the U.S. trade deficit with Canada and higher military spending by the U.S., including expenditures associated with the North American Aerospace Defense Command, or NORAD. An exact total is difficult to discern because there is no publicly available data on NORAD spending. But even the most generous estimates do not put the total costs anywhere close to what Trump claims.\nA trade deficit occurs when the cost of a country’s imports are higher than its exports. Using seasonally adjusted data, the U.S. deficit with Canada for both goods and services was $35.661 billion in 2024. It was higher for just goods, ranging from $63.336 billion to $70.603 billion.\nThe White House put the goods and services deficit with Canada at $53.5 billion. This is closer to the figure from 2022 — $57.565 billion.\nEither way, economists agree that describing a trade deficit as a subsidy is wrong.\n“That’s never been the definition of a subsidy, a subsidy is defined as a gift without any compensation in return,” said Gary Hufbauer, a senior fellow at the Peterson Institute for International Economics. “So whatever the number is, the concept is way off base.”\nGian Maria Milesi-Ferretti, a senior fellow at the Brookings Institution’s Hutchins Center on Fiscal and Monetary Policy, said a trade deficit occurs based on relative demand in different countries and what they specialize in.\nIn terms of military spending, the White House also pointed to how much the U.S. and Canada spend on their militaries and what percentage of their gross domestic product that is. This appears to be a reference to NATO’s investment guideline. Member countries agreed in 2006 to commit to spending a minimum 2% of their GDP on their own defense. Some countries, including Canada, have not yet met that guideline, a lapse which Trump often criticizes.\nCanada spent $29.3 billion on defense in 2024, which amounted to 1.3% of its GDP. The U.S., which is 13 times bigger than Canada, spent significantly more at $997 billion, or 3.4% of its GDP, exceeding the NATO guideline. Those numbers were slightly lower in 2023 — the data cited by the White House — at $27.2 billion and $916 billion respectively, though the percentages of GDP for both were the same.\nAccording to the International Monetary Fund, Canada’s GDP in 2024 was about $2.241 trillion. This means that the country would have needed to spend $44.82 billion total on defense order to meet the 2% NATO guideline, making it short by approximately $15.52 billion.\n“No, they don’t owe us that money, but they aren’t paying their fair share, and that’s a fair criticism.” said Mark Cancian, a senior advisor in the Center for Strategic and International Studies’ defense and security department.\nDiscounting whether they should be deemed subsidies, adding the trade deficit for goods and services in 2024 to Canada’s gap in defense spending the same year results in a total of only about $51 billion. Using the highest calculation of the goods deficit only for 2024 pushes the total up, to approximately $86 billion.\nThe White House’s final point was that the U.S. “covers about 60 percent of the bill for NORAD.” Created in 1954 as a means of defense against possible long-range attacks from the Soviets, NORAD is a bi-national organization jointly run by the U.S. and Canada that is charged with preventing air and maritime attacks against North America.\nThere is no publicly available data on NORAD spending by the U.S. or Canada. The 60% figure cited by the White House refers to a 1985 cost-sharing agreement for the operations and support of NORAD’s North Warning System that is still in place today.\nIn 2022, then-Canadian Defense Minister Anita Anand announced a $4.9 billion (US $3.52 billion) investment in NORAD over six years and $38.6 billion (US $27.72 billion) over 20 years on an accrual basis.\nDefense economists Binyam Solomon and Ross Fetterly quantified NORAD burden sharing by the U.S. and Canada in a paper first published in 2023 by the journal Defense and Peace Economics titled, “Canada and NORAD: Economics and Burden Sharing.”\nThe pair found that the numbers change drastically depending on how they are calculated. One estimate found that the U.S. shoulders about 97.6% of the North American defense burden while receiving about 64% of the benefits. Canada, meanwhile, contributes about 2% of the burden while enjoying about 36% of the benefits. But leaving out the variable of Canada’s vast exposed border means that the U.S. shoulders the same burden while enjoying 91% of the benefits. In this instance, Canada enjoys just 9% of the benefits.\nA sizable portion of NORAD warning and control systems are in Canadian territory, according to the paper.\nCancian explained that the U.S. needs Canada’s help to effectively defend North America from its own land because if air defenses started at the U.S. border, it would be too late to prevent many threats.\n“Even if the Canadians pulled out, we’d have to have something like that in place,” he said of NORAD. “So I would not consider that a subsidy at all. Canadians can make a fair argument that we owe them.”\n___\nFind AP Fact Checks here: https://apnews.com/APFactCheck.",
         "True",
         null,
         null
        ],
        [
         "29",
         "https://apnews.com/article/fact-check-trump-michigan-rally-gas-eggs-inflation-5cfff7971b1bcf760a324db31ea722b5",
         "FACT FOCUS: Trump touts his accomplishments at 100 days but at times falls short on the facts\nFACT FOCUS: Trump touts his accomplishments at 100 days but at times falls short on the facts\nIn a visit Tuesday to Warren, Michigan, President Donald Trump celebrated his first 100 days back in office by touting his accomplishments, while embellishing some and misrepresenting others.\nThe speech of about 90 minutes was reminiscent of a campaign rally and covered much of the same ground as he lobbed insults at the previous administration and detractors.\nIn highlighting his accomplishments, he made a number of false and misleading statements on topics such as the state of the economy and the price of eggs.\nHere’s a look at the facts.\nTrump exaggerates drop in gas prices\nTRUMP: “Gasoline was almost $4 not so long ago. And now, Mike, we just hit $1.98 in a lot of states. Think of it.”\nTHE FACTS: As of Tuesday, no state had an average gas price of $1.98. Mississippi had the lowest price, at $2.67 per gallon of regular gas. Trump previously made this claim about the level of gas prices on April 16, but they had not fallen as low as $1.98 that day either — or any day in the last two weeks. Mississippi and Tennessee were tied for the lowest average price on April 16, at $2.707 per gallon of regular gas.\nNational average prices rose under former President Joe Biden to a high of $5.01 in June 2022 before falling to $3.09 in December of that year. Prices rose again to a high of $3.88 in September 2023, but were down to $3.139 in December 2024. They were at $3.13 nationally as of Tuesday. The last time prices surpassed $4 was in August 2022.\nCost of eggs not as low as Trump says\nTRUMP: “Since I took office, the cost of eggs is down 87% now.”\nTHE FACTS: The retail price of a dozen large eggs decreased in price to $2.07 in September 2023, but has been on the rise since October 2024. As of March, they were up to $6.23.\nWholesale egg prices, on the other hand, fell significantly in March, but not by 87%. They were at a high of $8.17 for a dozen large eggs on March 3 and had dropped to $2.92 by March 26 — a decrease of approximately 64%.\nUniversity of Arkansas agricultural economist Jada Thompson told the AP earlier this month that because the wholesale prices did not start dropping until mid-March, there may not have been enough time for the average price for the month to decline. And grocery stores may not have immediately passed on the lower prices.\nInflation was already falling under Biden\nTRUMP: “We’re ending the inflation nightmare. The worst that we’ve had, probably in the history of our country.”\nTHE FACTS: Inflation started falling long before Trump started his second term. Inflation peaked at 9.1% in June 2022 after rising steadily in the first 17 months of Biden’s presidency from a low of 0.1% in May 2020, during the COVID-19 pandemic. As of December, it had fallen to 2.9%. The most recent data shows that, as of March, it had fallen to 2.4%. Other historical periods have seen higher inflation, such as a more than 14% rate in 1980, according to the Federal Reserve.\nCoal production is cleaner, but it still creates emissions\nTRUMP: “We stopped their crusade on coal. Did you see what I did the other day? Clean, beautiful coal.”\nTHE FACTS: The production of coal is cleaner now than it has been historically, but that doesn’t mean it’s clean.\nPlanet-warming carbon dioxide emissions from the coal industry have decreased over the past 30 years, according to the U.S. Energy Information Administration. Energy lobbyist Scott Segal told the AP earlier this month that “the relative statement that coal-fired electricity is cleaner than ever before is true, particularly when emissions are measured per unit of electricity produced.”\nAnd yet, coal production worldwide still needs to be reduced sharply to address climate change, according to United Nations-backed research.\nAlong with carbon dioxide, burning coal emits sulfur dioxide and nitrogen oxides that contribute to acid rain, smog and respiratory illnesses, according to the EIA.\nTrump misleads on Biden-era ‘electric vehicle mandate’\nTRUMP: “I terminated Joe Biden’s insane electric vehicle mandate where you were mandated to buy an electric vehicle. You were mandated within just a few years to buy an electric vehicle.”\nTHE FACTS: It’s misleading to claim that the Biden administration implemented such a mandate. In April 2023, the Environmental Protection Agency announced strict limits on greenhouse gas emissions from passenger vehicles. The agency said these limits could be met if 67% of new-vehicle sales are electric by 2032.\nAnd yet, the new rule did not include a requirement for automakers to boost electric vehicle sales directly. It set emissions limits and allowed automakers to choose how to meet them.\nEPA Administrator Lee Zeldin announced on March 12 that the agency would reconsider the rule, but it has not yet been terminated.\nIn 2019, Kamala Harris co-sponsored a bill as a U.S. senator called the Zero-Emission Vehicles Act that would have required 100% of new passenger vehicles sold to be zero-emission by 2040. The bill, which stalled in committee, did not ban ownership of vehicles that produce emissions. ___\nFind AP Fact Checks here: https://apnews.com/APFactCheck.",
         "True",
         null,
         null
        ],
        [
         "30",
         "https://apnews.com/article/abortion-late-trimester-boulder-clinic-dobbs-56ff9a6998465e4f99b12a80e60b675c",
         "Late abortions are rare. The US just lost a clinic that offered the procedure for over 50 years\nLate abortions are rare. The US just lost a clinic that offered the procedure for over 50 years\nTo fellow travelers, Hannah Brehm likely looked like she was taking a belated babymoon well into her third trimester.\nBut she and her husband had received a crushing diagnosis: Their baby’s brain was not developing properly, upending their wanted pregnancy. Medical experts warned moving forward would likely mean her son would know only pain and suffering. The Minnesota couple wasn’t going to take that chance.\nInstead, they went to Colorado, where for decades the Boulder Abortion Clinic served as a resource for women who looked to terminate their pregnancies in the second or third trimester because of medical reasons, like Brehm, or other circumstances.\nAfter more than 50 years, that clinic quietly closed last month, leaving the U.S. with just a handful that offer abortions after 28 weeks into pregnancy — many on a case-by-case basis.\nThe 87-year-old clinic founder, Dr. Warren Hern, says he is deeply upset: “It became impossible to continue, but closing is one of the most painful decisions of my life.”\nAnti-abortion advocates have celebrated the closure, calling it a step forward in protecting mothers and unborn children. While the overwhelming majority of abortions take place in the first trimester, former patients and reproductive rights advocates worry about the impact of losing an already narrow resource.\n“Chances are it’s not gonna happen to you. And I hope it doesn’t happen to someone else that you love, but it is happening,” Brehm said, reflecting on her experience in 2022.\nReasons for late abortions\nFederal data shows just 1% of abortions come after 21 weeks of pregnancy, but experts believe that number is higher because some states, including California, don’t give the feds their abortion statistics.\nThe reasons for late abortions vary. Some diagnoses like anatomy abnormalities or genetic disorders can’t happen until after 20 weeks or later into pregnancy. Other women may not find out they’re pregnant until after the first trimester. Millions of women live in a state with a strict abortion ban.\nSarah Watkins traveled from Georgia to the Boulder clinic in 2019 just before 25 weeks into her pregnancy after learning her baby had a condition called trisomy 18, an extra chromosome that made it likely the baby would die in utero or shortly after birth. A genetic blood screening at 10 weeks previously dismissed chances of the condition, but a detailed ultrasound in the second trimester proved otherwise.\n“You can do everything right, by the book, but you still can’t find out certain things until that ultrasound at 20 weeks and sometimes even later,” she said. “And as a mom, I did not want her to feel a single moment of hurt or suffering or pain or discomfort. That’s why I made the decision.”\nWatkins described the medical care she received at the Hern’s clinic attentive and caring. Nevertheless, she said traveling to a place with multiple layers of bulletproof glass and a throng of protesters was a traumatic experience.\nHern’s reach through the decades\nFor years, Hern was the only provider in the U.S. to offer later abortions, starting in 1973 and developing specialized techniques and even innovating certain tools to ensure better health outcomes. But offering abortions late in pregnancy came with risks.\nHe and his medical team received constant death threats. Someone shot through the windows of the clinic five times in 1988. Five of Hern’s colleagues who offered similar services were assassinated throughout his career, including the 2009 slaying of Dr. George Tiller in Kansas.\nWhen Hern announced the clinic’s closure in late April, the anti-abortion group Susan B. Anthony Pro-Life America declared the news as a “VICTORY” in a social media post.\nHern said the work was always worth it. He recalled one of his first patients who couldn’t believe cleanliness of his operating room; she previously had an illegal abortion that left her humiliated and frightened.\n“She looked up at me and said ‘Please, don’t ever stop doing this,’” Hern said. “So I didn’t. Until now.”\nIn the end, financial issues made it almost impossible to operate the clinic. Hern said patients increasingly were having trouble paying for the procedure, which hovers around $10,000 and is often not covered by insurance. Longtime personal donors were also dwindling.\nHern worked with physicians over the decades, hopeful that one day they would take over his clinic, but that never worked out.\n“I had to make a decision really, you know, sort of on the basis of the situation at the moment that we couldn’t continue,” he said. “It was very, very painful. I see this as my personal failure.”\nProviders and patients w\nonder what’s next\nAccording to the Later Abortion Initiative by Ibis Reproductive Health, fewer than 20 clinics provide abortions after 24 weeks into pregnancy in the U.S. — though that number isn’t considered comprehensive and excludes hospitals and a handful of other clinics for security reasons.\nCurrently, the group lists three clinics — in New Mexico, Maryland and Washington, D.C. — that provide services after 28 weeks. Five others — in Maryland, New Jersey, New York, Oregon and Washington state — will consider patients depending on physician recommendations or fetal and maternal conditions.\n“I think Dr. Hern has been the torchbearer for abortion leaders in pregnancy,” said Jane Armstrong, a licensed therapist in Texas who now helps support families who have terminated pregnancies for medical reasons. She ended her own pregnancy around 21 weeks in 2021.\n“Who will pick up the mantle? We really do need a new torchbearer right now.”\nA dozen states have bans on abortion at all stages of pregnancy and four more have bans that kick in after about six weeks. Abortion fund organizations, which help people arrange and pay abortions, say the bans mean a higher demand for later abortions. When people travel, it often takes more time to make appointments, gather the money needed and to catch a flight or take a drive hundreds of miles away.\n“Every time a clinic closes, it does impact everybody and what kinds of care they give,” said Anna Rupani, executive director of Fund Texas Choice.\nShortly after the nation’s highest court overturned Roe v. Wade in 2022, an all-trimester abortion clinic opened in Maryland — a partnership between certified nurse-midwife Morgan Nuzzo and Dr. Diane Horvath, an OB-GYN who specializes in complex family planning.\nThey said they’re worried about many things when it comes to reproductive rights, including the Trump administration’s move to curtail prosecutions against people accused of blocking access to abortion clinics and reproductive health centers. But they’re also buoyed by the consistent overwhelming number of applications from providers whenever they post a position, and said that the number of clinics that offer later abortions has gone up since Roe was overturned.\n“This type of care is still available,” Horvath said. “It’s more rare than it was a couple weeks ago, but we want to say loud and proud that our doors are still open and there are other places still open.”\n___\nAssociated Press reporter Geoff Mulvihill contributed to this report.",
         "True",
         null,
         null
        ],
        [
         "31",
         "https://apnews.com/article/pope-leo-sunday-blessing-vatican-mothers-day-mary-03e1386702c4cd1dbcf8707496d708a5",
         "What is the traditional Sunday blessing that popes deliver in St. Peter’s Square?\nWhat is the traditional Sunday blessing that popes deliver in St. Peter’s Square?\nVATICAN CITY (AP) — For thousands of Catholic pilgrims in Rome, it’s the unmissable Vatican appointment: the midday Sunday blessing the pope delivers from a window overlooking St. Peter’s Square.\nThe new pope, Leo XIV, is scheduled to deliver his first such prayer on Sunday from the loggia where he first appeared in public after being elected three days ago. His most recent predecessors delivered Sunday blessings, including their first, from a window in the Apostolic Palace overlooking the square.\nHere is a look at the history, meaning and memorable moments from Sunday blessings of popes past.\nThe history of the pope’s Sunday blessing\nIn 1954, which he had declared a special year of veneration to the Virgin Mary, Pope Pius XII started reciting in public a traditional Catholic midday prayer to her. He first delivered it from the pope’s summer residence, just outside Rome, at Castel Gandolfo.\nBack at the Vatican, he kept it up from a window facing St. Peter’s Square at the Apostolic Palace, the 16th-century building where the papal apartments are. Pope Francis broke with tradition by living at a Vatican guest house instead, but still maintained the Sunday prayer tradition from the palace.\nIt’s become a chance for ordinary faithful to see the pope relatively up close. Especially since the papacy of St. John Paul II – from 1978 to 2005 – popes have added short messages touching on different topics of the day.\nWhen a pope misses the weekly occasion, as Francis did earlier this year during his hospitalization, it makes global news.\nThe Vatican announced Leo would deliver his first such prayer on Sunday, which is coincidentally Mother’s Day in Italy and the United States, among other countries.\nThe prayer to Mary\nThe Angelus is the short prayer to Mary that many Catholics recite daily.\nOften prayed before Mass, but traditionally accompanied by the tolling of bells at dawn, midday and early evening, it references the moment when the Gospels say the Archangel Gabriel told Mary she would become the mother of God, and she accepted.\n“Angelus” is Latin for angel, and the prayer’s first verse is “The Angel of the Lord declared unto Mary.” The faithful then answer, “And she conceived of the Holy Spirit,” followed by a Hail Mary and a few more verses and prayers.\nThis “annunciation” scene is so pivotal in Christian dogma that it’s been represented by some of the most celebrated painters for centuries. Some artists have also portrayed the faithful reciting the Angelus, a practice that is believed to have started in the Middle Ages.\nDuring Eastertime – the current liturgical season, spanning 50 days from Easter Sunday to Pentecost – the prayer is substituted with another devotion to Mary, the Regina Coeli (also spelled Caeli, Latin for “Queen of Heaven”) that encourages rejoicing in Christ’s resurrection.\nMemorable Sunday prayer moments\nLooking frail, St. John Paul II appeared at his hospital window for his last Angelus prayer less than three weeks before he died in 2005. He didn’t speak, only blessing the crowd with an olive branch. An archbishop delivered his message, with the trademark exhortation to young people not to be afraid to follow Jesus.\nTens of thousands of people packed St. Peter’s Square when Pope Benedict XVI gave his final Sunday prayer in 2013 before becoming the first pope in 600 years to resign. They cheered him on as he reassured the faithful he wasn’t abandoning the church, but rather turning to prayer because of his advancing age.\nAt his first Angelus in 2013, Francis introduced a key motif of his papacy: mercy. “A bit of mercy makes the world less cold and more just,” he told the crowd.\nMore recently, Francis used the Sunday blessings to call for peace, especially in Ukraine and Gaza. But he also would close his blessings with the down-to-earth phrase: “Have a good lunch.”\n___\nAssociated Press religion coverage receives support through the AP’s collaboration with The Conversation US, with funding from Lilly Endowment Inc. The AP is solely responsible for this content.",
         "True",
         null,
         null
        ],
        [
         "32",
         "https://apnews.com/article/bullfighting-mexico-matadors-religion-animal-cruelty-photos-65525657e00845998f894b4176450d54",
         "The Associated Press is an independent global news organization dedicated to factual reporting. Founded in 1846, AP today remains the most trusted source of fast, accurate, unbiased news in all formats and the essential provider of the technology and services vital to the news business. More than half the world’s population sees AP journalism every day.\nAGUASCALIENTES, Mexico (AP) — Mexico City lawmakers recently voted to ban violent bullfighting in the country’s capital.\nAnimal rights advocates celebrated the decision, but for matadors, fans and cattle breeders, this long-time Spanish tradition bears a profound significance that would be shattered if bulls were not to be killed at the arena.\nFor Diego Silveti, a fourth-generation matador, bullfighting is a vocation, a path that he embraces despite knowing it might kill him. “I am willing to lose my life if necessary,” Silveti said. “For my legacy, for my significance, for what God has commanded me to do.”\nAn embroidered image of the Virgin of Guadalupe decorates Mexican bullfighter Diego Silveti’s capote, or bullfighter’s cape, in a hotel room in Aguascalientes, Mexico, Sunday, April 27, 2025. (AP Photo/Eduardo Verdugo)\nMexican bullfighter Diego Silveti smiles at fans in the bullring after a bullfight in Aguascalientes, Mexico, Sunday, April 27, 2025. (AP Photo/Eduardo Verdugo)\nA woman in traditional Spanish garb touches her cross necklace before a bullfight in Aguascalientes, Mexico, Sunday, April 27, 2025. (AP Photo/Eduardo Verdugo)\nMexican bullfighter Diego Silveti holds his montera, or bullfighter’s hat, during a bullfight in Aguascalientes, Mexico, Sunday, April 27, 2025. (AP Photo/Eduardo Verdugo)\nMexican bullfighter Diego Silveti gestures to fans in the bullring after a bullfight in Aguascalientes, Mexico, Sunday, April 27, 2025. (AP Photo/Eduardo Verdugo)\nSpanish bullfighter Alejandro Talavante holds a bull’s tail and ears after a bullfight in Aguascalientes, Mexico, Sunday, April 27, 2025. (AP Photo/Eduardo Verdugo)",
         "True",
         null,
         null
        ],
        [
         "33",
         "https://apnews.com/article/china-trump-trade-tariffs-bessent-economy-71a6e410a0e5771c70ac853563a8b75d",
         "US-China tariff talks to continue Sunday, an official tells AP, as Trump touts ‘great progress made’\nUS-China tariff talks to continue Sunday, an official tells AP, as Trump touts ‘great progress made’\nGENEVA (AP) — President Donald Trump said “great progress” was being made in ongoing U.S.-China talks over tariffs menacing the global economy, and even suggested a “total reset” was on the table as tariff negotiations are set to continue Sunday in Switzerland.\nNo major breakthrough was announced in discussions that lasted over 10 hours between U.S. officials, including Treasury Secretary Scott Bessent, U.S. Trade Representative Jamieson Greer, and a delegation led by Chinese Vice Premier He Lifeng. Still, Trump struck an upbeat tone.\n“A very good meeting today with China, in Switzerland. Many things discussed, much agreed to. A total reset negotiated in a friendly, but constructive, manner,” the president wrote on his Truth Social platform. “We want to see, for the good of both China and the U.S., an opening up of China to American business. GREAT PROGRESS MADE!!!”\nHe gave no further details, and officials at the White House also offered little information during and after the opening day of discussions.\nTrump’s post followed an official telling The Associated Press that talks would continue Sunday. The official requested anonymity because of the sensitivity of the discussions, which could help stabilize world markets roiled by the U.S.-China standoff. They’ve been shrouded in secrecy, and neither side made comments to reporters as they left.\nIn an editorial late Saturday, China’s official Xinhua News Agency said the talks had come about “at the request of the U.S. side” — noting an earlier point of contention — and said China agreed to them “after taking full account of global expectations, national interests and appeals from U.S. businesses and consumers.”\n“Whether the road ahead involves negotiation or confrontation, one thing is clear: China’s determination to safeguard its development interests is unshakable, and its stance on maintaining the global economic and trade order remains unwavering,” Xinhua said.\n“Talks should never be a pretext for continued coercion or extortion, and China will firmly reject any proposal that compromises core principles or undermines the broader cause of global equity,” it added.\nSeveral convoys of black vehicles left the residence of the Swiss ambassador to the U.N. in Geneva, which hosted the talks aimed at de-escalating trade tensions between the world’s two biggest economies. Diplomats from both sides also confirmed that the talks took place.\nThe opening day of negotiations were held in the sumptuous 18th-century “Villa Saladin” overlooking Lake Geneva. The former estate was bequeathed to the Swiss state in 1973, according to the Geneva government.\nTrump’s assessment aside, prospects for a major breakthrough appeared dim when the talks opened. Still, there is hope that the two countries will scale back the massive taxes — tariffs — they have slapped on each other’s goods, a move that would relieve world financial markets and companies on both sides of the Pacific Ocean that depend on U.S.-China trade.\nTrump last month raised U.S. tariffs on China to a combined 145%, and China retaliated by hitting American imports with a 125% levy. Tariffs that high essentially amount to the countries’ boycotting each other’s products, disrupting trade that last year topped $660 billion.\nAnd even before talks got underway, Trump suggested Friday that the U.S. could lower its tariffs on China, saying in a Truth Social post that “ 80% Tariff seems right! Up to Scott.″\nSun Yun, director of the China program at the Stimson Center, noted it will be the first time He and Bessent have talked. She doubts the Geneva meeting will produce any substantive results.\n“The best scenario is for the two sides to agree to de-escalate on the ... tariffs at the same time,” she said, adding even a small reduction would send a positive signal. “It cannot just be words.”\nSince returning to the White House in January, Trump has aggressively used tariffs as his favorite economic weapon. He has, for example, imposed a 10% tax on imports from almost every country in the world.\nBut the fight with China has been the most intense. His tariffs on China include a 20% charge meant to pressure Beijing into doing more to stop the flow of the synthetic opioid fentanyl into the United States.\nThe remaining 125% involve a dispute that dates back to Trump’s first term and comes atop tariffs he levied on China back then, which means the total tariffs on some Chinese goods can exceed 145%.\nDuring Trump’s first term, the U.S. alleged that China uses unfair tactics to give itself an edge in advanced technologies such as quantum computing and driverless cars. These include forcing U.S. and other foreign companies to hand over trade secrets in exchange for access to the Chinese market; using government money to subsidize domestic tech firms; and outright theft of sensitive technologies.\nThose issues were never fully resolved. After nearly two years of negotiation, the United States and China reached a so-called Phase One agreement in January 2020. The U.S. agreed then not to go ahead with even higher tariffs on China, and Beijing agreed to buy more American products. The tough issues — such as China’s subsidies — were left for future negotiations.\nBut China didn’t come through with the promised purchases, partly because COVID-19 disrupted global commerce just after the Phase One truce was announced.\nThe fight over China’s tech policy now resumes.\nTrump is also agitated by America’s massive trade deficit with China, which came to $263 billion last year.\nTrump slaps hefty tariffs on Switzerland\nIn Switzerland Friday, Bessent and Greer also met with Swiss President Karin Keller-Sutter.\nTrump last month suspended plans to slap hefty 31% tariffs on Swiss goods -- more than the 20% levies he plastered on exports from European Union. For now, he has reduced those taxes to 10% but could raise them again.\nThe government in Bern is taking a cautious approach. But it has warned of the impact on crucial Swiss industries like watches, coffee capsules, cheese and chocolate.\n“An increase in trade tensions is not in Switzerland’s interests. Countermeasures against U.S. tariff increases would entail costs for the Swiss economy, in particular by making imports from the USA more expensive,” the government said last week, adding that the executive branch “is therefore not planning to impose any countermeasures at the present time.”\nThe government said Swiss exports to the United States on Saturday were subject to an additional 10% tariff, and another 21% beginning Wednesday.\nThe United States is Switzerland’s second-biggest trading partner after the EU – the 27-member-country bloc that nearly surrounds the wealthy Alpine country of more than 9 million. U.S.-Swiss trade in goods and services has quadrupled over the last two decades, the government said.\nThe Swiss government said Switzerland abolished all industrial tariffs on Jan. 1 last year, meaning that 99% of all goods from the United States can be imported into Switzerland duty-free.\n___\nWiseman and Tang reported from Washington. Associated Press writer Will Weissert in Washington contributed to this report.",
         "True",
         null,
         null
        ],
        [
         "34",
         "https://apnews.com/article/south-africa-us-refugees-trump-98a72fdb1f71edc960136b92cbd62db4",
         "First group of 49 white South Africans leaves for the US after Trump offered them refugee status\nFirst group of 49 white South Africans leaves for the US after Trump offered them refugee status\nCAPE TOWN, South Africa (AP) — A group of 49 white South Africans departed their homeland Sunday for the United States on a private charter plane having been offered refugee status by the Trump administration under a new program announced in February.\nThe group, which included families and small children, was due to arrive at Dulles International Airport outside Washington on Monday morning local time, according to Collen Msibi, a spokesperson for South Africa’s transport ministry.\nThey are the first Afrikaners — a white minority group in South Africa — to be relocated after U.S. President Donald Trump issued an executive order on Feb. 7 accusing South Africa’s Black-led government of racial discrimination against them and announcing a program to offer them relocation to America.\nThe South African government said it is “completely false” that Afrikaners are being persecuted.\nThe Trump administration has fast-tracked their applications while pausing other refugee programs, halting arrivals from Afghanistan, Iraq, most of sub-Saharan Africa and other countries in a move being challenged in court.\nRefugee groups have questioned why the white South Africans are being prioritized ahead of people from countries wracked by war and natural disasters. Vetting for refugee status in the U.S. often takes years.\nThe Trump administration says the South African government is pursuing racist, anti-white policies through affirmative action laws and a new land expropriation law it says targets Afrikaners’ land. The government says those claims are based on misinformation and there is no racism against Afrikaners and no land has been expropriated, although the contentious law has been passed and is the focus of criticism in South Africa.\nSouth Africa also denies U.S. claims that Afrikaners are being targeted in racially motivated attacks in some rural communities. Instead, the South African government said Afrikaners — who are the descendants of Dutch and French colonial settlers — are “amongst the most economically privileged” in the country.\nThe first Afrikaner refugees were traveling on a flight operated by the Tulsa, Oklahoma-based charter company Omni Air International, Msibi said. They would fly to Dakar, Senegal and stop there to refuel before heading for Dulles.\nThey departed from OR Tambo International Airport in Johannesburg, where they were accompanied by police officers and airport officials when they checked in. Msibi said they would have to be vetted by police to ensure there were no criminal cases or outstanding warrants against them before being allowed to leave.\nThe South African government said there was no justification for them being relocated but said it wouldn’t stop them and respected their freedom of choice.\nThey are expected to be greeted at Dulles by a U.S. government delegation, including the deputy secretary of state and officials from the Department of Health and Human Services, whose refugee office has organized their resettlement.\nThe flight will be the first in a “much larger-scale relocation effort,” White House deputy chief of staff Stephen Miller told reporters on Friday. Miller said that what was happening to Afrikaners in South Africa “fits the textbook definition of why the refugee program was created.”\n“This is persecution based on a protected characteristic — in this case, race. This is race-based persecution,” he said.\nThe HHS Office for Refugee Resettlement was ready to offer them support, including with housing, furniture and other household items, and expenses like groceries, clothing, diapers and more, a document obtained by The Associated Press said. The document said the relocation of Afrikaners was “a stated priority of the Administration.”\nThere are around 2.7 million Afrikaners among South Africa’s population of 62 million, which is more than 80% Black. They are only one part of the country’s white minority.\nMany in South Africa are puzzled by claims that Afrikaners are persecuted and meet the requirements to be relocated as refugees.\nThey are part of South Africa’s everyday multi-racial life, with many successful business leaders and some serving in government as Cabinet ministers and deputy ministers. Their language is widely spoken and recognized as an official language, and churches and other institutions reflecting Afrikaner culture hold prominence in almost every city and town.\nThe Trump administration has criticized South Africa on several fronts. Trump’s February executive order cut all U.S. funding to South Africa over what it said was its anti-white stance and also accused it of pursuing an anti-American foreign policy. It cited South Africa’s ties with Iran and its move to lodge a genocide case against U.S. ally Israel over the war in Gaza as examples of it taking “aggressive positions towards the United States.”\n___\nMore AP news on the Trump administration: https://apnews.com/hub/donald-trump",
         "True",
         null,
         null
        ],
        [
         "35",
         "https://apnews.com/article/milwaukee-wisconsin-apartment-building-fire-sprinklers-0755584cae6a301f8c086be799c2d875",
         "Mother’s Day apartment building fire kills 4 and critically injures 4 others in Milwaukee\nMILWAUKEE (AP) — A Milwaukee apartment building fire that began in a common area and spread to multiple floors Sunday killed four people and critically injured four others.\nSeveral more were treated for lesser injuries in the fire that began sometime before 8 a.m. on Mother’s Day.\nThe blaze rendered the 85-unit building uninhabitable, displacing an estimated 200 people, Milwaukee Fire Chief Aaron Lipski said at a news conference.\nCalls came in that people were trapped and jumping from the four-story building’s second floor to escape. The first firefighters to arrive were “far, far outmatched” by intense flames, Lipski said.\nPlatform fire trucks rescued people from windows while other firefighters went inside, some crawling on hands and knees to get people out, Lipski said.\nIn all, about 30 people were rescued. The cause was unclear but Lipski expressed confidence it would be figured out in time.\nBuilt in 1968, the building predated a law that would have required it to have a sprinkler system and was never retrofitted with one, Lipski noted.\n“Nobody was required to go back in and make that building fire safe,” Lipski said. “I have four fatalities here today. I’m not sure what people think is more expensive right now.”",
         "True",
         null,
         null
        ],
        [
         "36",
         "https://apnews.com/article/arizona-oak-flat-copper-mining-apache-e2e3870f2e7ed866e9e0ddab735b8412",
         "US judge halts plan to transfer Oak Flat land for contested Arizona copper mine\nUS judge halts plan to transfer Oak Flat land for contested Arizona copper mine\nPHOENIX (AP) — A U.S. district judge on Friday temporarily halted the federal government’s plans to transfer land in eastern Arizona for a massive copper mining project amid protest by Native American groups that consider the area sacred.\nApache Stronghold and its supporters have been fighting for years to stop the transfer of Tonto National Forest land known as Oak Flat to Resolution Copper. Meanwhile, the company has touted the economic benefits for the region and says it’s worked with Native American tribes and others to shape the project.\nU.S. District Judge Steven Logan said halting the land transfer would merely delay the production of copper and jobs and revenue to Arizona if it’s ultimately upheld. On the other hand, he said Apaches would lose legal access to an ancestral, sacred site if the transfer proceeded.\nHe said the balance of equities “tips sharply” in favor of Apache Stronghold. He granted an injunction that will be in place until the U.S. Supreme Court resolves an appeal to reconsider a decision from a panel of judges that refused to block the land transfer for the mine.\nLogan, however, denied Apache Stronghold’s request to have the injunction extend beyond the Supreme Court’s resolution of the case.\n“We are grateful the judge stopped this land grab in its tracks so that the Supreme Court has time to protect Oak Flat from destruction,” Wendsler Nosie Sr. of Apache Stronghold said in a statement Friday.\nA statement from Resolution Cooper said the ruling simply maintains the status quo and anticipates the U.S. Supreme Court will decide soon whether to take up the case.\nThe fight over Oak Flat dates back about 20 years, when legislation proposing the land transfer was first introduced. It failed repeatedly in Congress before being included in a must-pass national defense spending bill in 2014.\nPresident Donald Trump in his first administration released an environmental review that would trigger the land transfer. Former President Joe Biden pulled it back so the federal government could consult further with tribes.\nThen, the U.S. Forest Service in April announced it would forge ahead with the land transfer, prompting Apache Stronghold’s emergency appeal.\nApache Stronghold sued the U.S. government in 2021 under the Religious Freedom Restoration Act to protect the place tribal members call Chi’chil Bildagoteel, an area dotted with ancient oak groves and traditional plants the Apaches consider essential to their religion.",
         "True",
         null,
         null
        ],
        [
         "37",
         "https://apnews.com/article/ecuador-fishermen-galapagos-rescue-adrift-missing-9d057d6947485988da1729c82873d569",
         "Five fishermen who spent 55 days adrift at sea arrive in the Galapagos Islands after rescue\nQUITO, Ecuador (AP) — Five fishermen who spent 55 days adrift at sea arrived Saturday at a port in the Galapagos Islands after being rescued by a tuna boat, the Ecuadorian navy said on X.\nThe three Peruvians and two Colombians had been missing since mid-March and were found on May 7 by an Ecuadorian boat called Aldo.\nThe fishermen had reported damage to the boat’s alternator two days after setting sail from Pucusana Bay, to the south of Peru’s capital Lima, the navy said in a separate post on Friday.\nThe failure caused communication and navigation tools to malfunction, Ecuadorian navy Frigate Capt. Maria Fares told The Associated Press, adding that they had no power on the boat.\n“They had no starter, lights and everything that a battery generates,” she said. To survive, they had to “take rusted water out of the engine (and) when a fish passed by, they caught it and parboiled it to eat.” Fares added that they also drank rain and sea water to survive.\nThe men are in stable condition and the navy said it is coordinating with local and foreign authorities to ensure their safe return to their respective countries.\nEarlier this year, another Peruvian fisherman, 61-year-old Máximo Napa, spent 95 days at sea alone. He was also rescued by an Ecuadorian vessel and returned to Lima in mid-March to be reunited with his family.\n____\nFollow AP’s coverage of Latin America and the Caribbean at https://apnews.com/hub/latin-america",
         "True",
         null,
         null
        ],
        [
         "38",
         "https://apnews.com/article/ucrania-guerra-rusia-putin-zelenskyy-negociaciones-tregua-7b7ec52d918b2595a4a15da319e8d711",
         "Zelenskyy espera alto al fuego con Rusia y dice que esperará a Putin personalmente en Turquía\nKIEV, Ucrania (AP) — El presidente ucraniano Volodymyr Zelenskyy expresó que espera un cese al fuego total y temporal con Rusia a partir del lunes, añadiendo que estaría en Turquía para negociar con el presidente ruso Vladímir Putin “personalmente”.\nSus comentarios se produjeron después de que el presidente estadounidense Donald Trump insistiera en que Ucrania aceptara la última oferta de Rusia de mantener conversaciones directas en Turquía el jueves. Ucrania, junto con sus aliados europeos, había exigido que Rusia aceptara un cese al fuego incondicional de 30 días a partir del lunes antes de mantener conversaciones.\nNo estaba claro si Zelenskyy estaba condicionando su presencia en Turquía a que haya un cese al fuego a partir del lunes.\n“Esperamos un cese al fuego total y duradero, a partir de mañana, para proporcionar la base necesaria para la diplomacia. No tiene sentido prolongar las matanzas. Y estaré esperando a Putin en Türkiye el jueves. Personalmente. Espero que esta vez los rusos no busquen excusas”, escribió en X.\nTrump declaró en una publicación en redes sociales el domingo que Ucrania debería aceptar la propuesta de conversaciones de paz de Putin “INMEDIATAMENTE”.\n“¡Al menos podrán determinar si un acuerdo es posible o no, y si no lo es, los líderes europeos y Estados Unidos sabrán dónde está todo y podrán proceder en consecuencia!” escribió Trump, añadiendo: “¡TENGAN LA REUNIÓN, AHORA!!!”\nUcrania y sus aliados insisten en un cese al fuego. Zelenskyy, escribiendo en X el domingo, expresó que era una “señal positiva que los rusos finalmente hayan comenzado a considerar poner fin a la guerra” y que “el mundo entero ha estado esperando esto durante mucho tiempo”.\nAñadió, sin embargo, que “el primer paso para realmente terminar cualquier guerra es un cese al fuego”, en referencia a su propuesta de iniciar una tregua incondicional de 30 días el lunes.\nPutin, en declaraciones a los medios durante la noche, rechazó efectivamente esa oferta de cese al fuego y propuso reiniciar conversaciones directas con Ucrania en Estambul el jueves en su lugar “sin condiciones previas”. Dijo que un cese al fuego podría acordarse durante las negociaciones, pero enfatizó que el Kremlin necesita una tregua que conduzca a una “paz duradera” en lugar de una que permita a Ucrania rearmarse y movilizar a más hombres en sus fuerzas armadas.\nLa contraoferta de Putin llegó después de que líderes de cuatro importantes países europeos amenazaran con aumentar la presión sobre Moscú si no acepta un cese al fuego incondicional de 30 días en Ucrania.\nEl presidente francés Emmanuel Macron, el primer ministro británico Keir Starmer, el canciller alemán Friedrich Merz y el primer ministro polaco Donald Tusk se reunieron con Zelenskyy en Kiev el sábado y emitieron un llamado coordinado para la tregua a partir del lunes. El plan ha recibido el respaldo tanto de la Unión Europea como de Trump.\nLos líderes prometieron sanciones más duras a Rusia si Putin no aceptaba la propuesta.\nZelenskyy, en sus comentarios del domingo, reiteró ese llamado. “No tiene sentido continuar con las matanzas ni un solo día más. Esperamos que Rusia confirme un cese al fuego —total, duradero y confiable— a partir de mañana, 12 de mayo, y Ucrania está lista para reunirse”, dijo el líder ucraniano en X.\nMacron dijo el domingo que la oferta de Putin de negociaciones directas con Ucrania es “un primer paso, pero no suficiente”, señalando el continuo escepticismo occidental hacia las intenciones de Moscú.\n“Un cese al fuego incondicional no está precedido por negociaciones”, dijo Macron a los periodistas en la frontera polaco-ucraniana, según medios franceses.\nMacron también advirtió que Putin está “buscando una salida, pero todavía quiere ganar tiempo”.\nMoscú sigue adelante con la oferta de conversaciones de paz. Turquía dice que está lista para acogerlas.\nEl portavoz del Kremlin, Dmitry Peskov, en comentarios transmitidos por la televisión estatal rusa el domingo, calificó la propuesta de Putin como “muy seria”, destinada a eliminar “las causas fundamentales del conflicto”, y dijo que “confirma una verdadera intención de encontrar una solución pacífica”.\nSin mencionar directamente la propuesta de Moscú, Trump dijo en una publicación en redes sociales varias horas después de las declaraciones nocturnas de Putin que era “ un día potencialmente grandioso para Rusia y Ucrania”.\n“Piensen en las cientos de miles de vidas que se salvarán cuando este ‘baño de sangre’ interminable llegue a su fin”, escribió Trump. “Continuaré trabajando con ambas partes para asegurarme de que suceda. EE.UU. quiere enfocarse, en cambio, en la reconstrucción y el comercio. ¡Una GRAN semana por delante!” añadió.\nEn otra publicación el domingo, Trump aseguró que Ucrania debería aceptar la oferta de Moscú “de reunirse el jueves, en Turquía, para negociar un posible fin al BAÑO DE SANGRE”. Añadió, sin embargo, que estaba “empezando a dudar de que Ucrania llegue a un acuerdo con Putin”.\nPutin habló el domingo con el presidente turco Recep Tayyip Erdogan, quien expresó su disposición a acoger las conversaciones, dijo el Kremlin.\nSegún el resumen de la llamada telefónica del Kremlin, Erdogan “apoyó plenamente la propuesta rusa, enfatizando su disposición a proporcionar” una plataforma para las conversaciones en Estambul, así como “toda la asistencia posible en la organización y realización de las negociaciones destinadas a lograr una paz sostenible” .\nErdogan también habló con Macron el domingo, según un comunicado de la oficina de comunicaciones presidenciales turca, y dijo que se había alcanzado un “punto de inflexión histórico” en los esfuerzos por poner fin a la guerra.\nMientras tanto, Rusia reanudó los ataques masivos con drones en Ucrania temprano el domingo, después de que expirara su pausa autoimpuesta de tres días.\nRusia lanzó 108 drones de ataque y drones simuladores desde seis direcciones diferentes, indicó la fuerza aérea de Ucrania. Manifestó que 60 drones fueron derribados y otros 41 drones simuladores no alcanzaron sus objetivos debido a las contramedidas ucranianas.\nEl Ministerio de Defensa ruso acusó el domingo a Ucrania de “violar” el cese al fuego de tres días de Moscú más de 14.000 veces. Ucrania, que no acordó el cese al fuego del 8 al 10 de mayo, también ha acusado a Rusia de violar su propia tregua, con el ministro de Relaciones Exteriores de Ucrania calificándola de farsa.\n——\nLitvinova informó desde Tallin, Estonia. Los escritores de Associated Press Suzan Fraser en Ankara, Turquía, y Thomas Adamson-Koumbouzis en París contribuyeron a este informe.\n___________________________________\nEsta historia fue traducida del inglés por un editor de AP con la ayuda de una herramienta de inteligencia artificial generativa.",
         "True",
         null,
         null
        ],
        [
         "39",
         "https://apnews.com/article/pope-leo-us-catholic-church-divisions-8121d1584e32a485e9a275a732cebdc6",
         "From the left and right, US Catholics hope new pope fulfills their hopes\nFrom the left and right, US Catholics hope new pope fulfills their hopes\nNEW YORK (AP) — News that the global Catholic church would get its first-ever U.S.-born pope was welcomed by Catholics across the ideological spectrum in Pope Leo XIV ’s homeland, raising the question of whether he might be able to ease some of the deep divisions within its ranks.\nFrom U.S. Catholics to the left of the ideological center, there is optimism that Leo will carry on Pope Francis’ outreach to poor and marginalized people, including migrants, and provide a counterweight to policies of the Trump administration that distress them. To the right, there is hope the new pope will faithfully uphold Catholic doctrine, including opposition to abortion, same-sex marriage and women’s ordination.\nOne reason for optimism: The new pope has made clear — in his remarks and his choice of a motto — that unity within the global church will be a paramount priority.\n“In these early days, he’s still an empty vessel,” said Steven Millies, a public theology professor at the Catholic Theological Union in Chicago. “Until we all get to know him better, we can pour our expectations into him.”\nNotre Dame Provost John McGreevy, a historian of Catholicism, said he was “completely stunned” after the papal announcement, having shared the conventional wisdom that a pope from the U.S. was a near-impossibility.\nBut Leo “is a global Catholic citizen,” McGreevy said, citing the pontiff’s time in Peru, at the Vatican and leading an international religious order.\n“Even though he’s an American, and we’re super proud that he’s American, it’s hard to think of someone more embedded in a lot of the global church,” he said.\nWhat will Pope Leo’s relation with U.S. Catholics be?\nIt’s too soon to tell what Leo’s relationship will be with his fellow American prelates and the broader U.S. Catholic Church, McGreevy cautioned.\n“The early indications are that there’ll be some similarities to Pope Francis,” he said – suggesting that differences with conservative U.S. bishops could continue.\nMcGreevy said he expects some tension between the Vatican and the White House over immigration and climate change, two of Francis’ key priorities that are likely to be reaffirmed by Leo.\nChad Pecknold, a professor of systematic theology at the Catholic University of America, suggested that Francis either disliked or misunderstood the United States.\n“With Leo XIV, it’s clear he not only loves America, but he even loves the White Sox,” Pecknold said via email. “That can only have a good effect, not only upon American Catholics, but also American bishops, and indeed, everyone. It’s good to feel like the pope is on your side.”\nDuring the latter years of Francis’ papacy, one of the most divisive issues among U.S. bishops was whether Catholic politicians who supported abortion rights — including then-President Joe Biden and then-House Speaker Nancy Pelosi — should be barred from receiving Communion.\nFrancis stressed he would not reject politicians who support abortion rights and Biden received Communion during a visit to Rome in 2021.\nSan Francisco Archbishop Salvatore Cordileone, who barred Pelosi from receiving Communion in the archdiocese, described Leo as a “bridge builder.”\n“He will be a good force for unity in the church,” Cordileone told KPIX-TV in San Francisco. “Even with differences of opinion and different ideas of strategy and so forth, we can have unity in the church.”\nU.S. Rep. Chris Smith, a New Jersey Republican and outspoken abortion opponent, took heart from a homily delivered early this year by Leo when he was Cardinal Robert Prevost. The passage cited by Smith: “God’s mercy calls us to protect every life, especially those society overlooks — the child yet to be born and the elderly nearing their journey’s end — because each bears Christ’s face.”\nSmith depicted this remark as “underscoring the protection of the right to life as first among the many humanitarian responsibilities of the Church.”\nThe interim president of Catholics for Choice, which supports abortion rights, acknowledged that Leo opposes abortion and said the group would send him letters from Catholics who disagree with that stance.\n“We are praying that he will be a pope guided by a commitment to peace, justice, and inclusion,” said Chris Wimbush. “The future of our church depends on greater inclusion and nuance on reproductive health decisions like abortion, contraception and IVF.”\nWomen and the church\nFrancis, during his papacy, took major strides to give women more senior leadership positions in the church. But he upheld the ban on female priests and tamped down hopes that women could be ordained as deacons.\nEllie Hidalgo of Discerning Deacons, which advocates for women deacons in the church, said she hopes Leo will support the church’s ongoing review of women’s participation in ministry. A years-long Vatican process left open the contentious question of whether women should be ordained as deacons.\nHidalgo, who lives in Miami, heard then-Cardinal Prevost speak in February when she was in Rome for a celebration of deacons.\n“He was asking deacons to be humble in their service,” Hidalgo said. “I could tell just from meeting him that that’s something he really values himself ... that you are to be of service and you’re there in a posture of humility.”\nThe U.S.-based Women’s Ordination Conference, which advocates for women to be accepted as priests, welcomed the inclusive tone of Leo’s initial remarks.\n“His clear emphasis on bridge-building and dialogue offer WOC hope that Pope Leo XIV might be a leader who will also build bridges to Catholic women,” the group’s statement said. It envisioned “a long-overdue day when women are recognized as equals in Christ.”\nCalled on by Pope Francis\nFrancis, in many ways, saw Robert Prevost as a possible successor, assigning him to positions in Peru that bolstered his global resume and later calling him to the Vatican to oversee the influential office that vets bishop nominations.\n“Francis was paying close attention to new U.S bishops,” said Millies, the public theology professor. “Prevost has been Francis’ man overseeing the careful selection of a different sort of bishop to fill important posts in the U.S.”\nMillies said the top leadership of the U.S. Conference of Catholic Bishops — which was sometimes at odds with Francis — remains relatively conservative.\nBut in the ranks of bishops below them, “the change has already happened,” Millies said. “They are men who are more pastoral than focused on doctrine. The election of Leo means we are firmly in a different era.”\nTraditionally, the taboo against a U.S. pope reflected reluctance to give the world’s No. 1 superpower even more influence. That shouldn’t be a concern with Leo, according to Austen Ivereigh, a British-based journalist and author of two books on the Francis papacy.\n“If anybody thinks he (Leo) is going to take a different line from Francis on migration or climate change, they’re in for a surprise,” Ivereigh said. “Francis was putting into practice church teaching, and Leo will do the same.”\nThere was muted reaction to Leo’s election from Bishop Robert Strickland, who was ousted by Francis in 2023 from leadership of the Diocese of Tyler in Texas. Strickland had been a fierce critic of Francis and came to symbolize the polarization within the U.S. hierarchy.\nIn social media posts after Leo assumed the papacy, Strickland expressed hope that he would faithfully uphold the sacred Scriptures and traditions known as the Deposit of Faith.\n“With the heavy weight of the papacy now on his shoulders he needs our prayers,” Strickland added.\n___\nStanley reported from Washington. Associated Press journalists Nicole Winfield in Rome and Peter Smith in Pittsburgh contributed to this report.\n___\nAssociated Press religion coverage receives support through the AP’s collaboration with The Conversation US, with funding from Lilly Endowment Inc. The AP is solely responsible for this content.",
         "True",
         null,
         null
        ],
        [
         "40",
         "https://apnews.com/article/workplace-pandemic-changes-disengagement-c0a01dc68e1f2cb818de6ff3edc06bf3",
         "In the rapidly shifting world of work, many employees are unclear what’s expected of them\nNEW YORK (AP) — When Nikelle Inman started a new job coaching first-generation college students, she looked forward to meeting with them one-on-one to talk about how to surmount obstacles and find resources to succeed.\nInstead, she and her fellow success coaches at a community college in North Carolina spent a year mired in paperwork, tasked with reviewing applications from aspiring undergraduates. They never did get to meet with students.\n“Admissions work kind of took over what we were supposed to do,” Inman, 34, said. “I felt disengaged with the position, more so because I just didn’t feel valued.”\nIt’s disorienting when a job turns out to be completely different than advertised or morphs into something we didn’t expect. But more U.S. workers have reported feeling disconnected from their organization’s purpose and unclear on how to meet expectations since the coronavirus pandemic changed the way we work, according to a new Gallup analysis.\nJust under half of U.S. employees who participated in a Gallup survey in November “strongly agreed” that they know what is expected of them at work, which is one of the factors the polling firm uses to measure employee engagement. In January 2020, the figure stood at 56%.\nThe new survey showed that new employees, younger employees, people in white-collar industries like technology, insurance and finance, and those in hybrid work arrangements were especially likely to report that expectations for their roles weren’t clear.\nThis article is part of AP’s Be Well coverage, focusing on wellness, fitness, diet and mental health. Read more Be Well.\nThe findings make intuitive sense. Managers and employees have bushwhacked their way through disruptive changes since COVID-19 first upended public life five years ago. In late 2024, about one-quarter of employees with the ability to work remotely were doing so exclusively, up from around 1 in 10 in 2019, Gallup found. Another 55% were working in the office some days and remotely the rest, according to the 2024 data, up from about one-third in 2019.\nMore recently, layoffs at tech companies and in the government and other sectors have left organizations with fewer people to handle the load, and expectations aren’t always adjusted to the new realities.\n“With all the rounds of layoffs, people’s scope and responsibilities are shifting constantly,” said Jeremy Guttenplan, an executive leadership trainer and coach based in New York. “You think about the ones left behind and the work is just getting piled on them.”\nHere are some strategies for eliminating confusion when the scope and responsibilities of a job are ambiguous.\nEstablish expectations early\nSpell out or make sure you understand what a new role or project entails — along with any relevant deadlines or performance markers — from the beginning so everyone agrees on what’s realistic and wanted. Writing it down in a shared document can help prevent future misunderstandings.\nWhen a successful real estate developer asked Amber Krasinski to film and produce 85 TikTok videos in three hours, she thought hard about whether she really wanted to take him on as a client. The job might be good exposure for her communications agency, IvyHill Stategies, but Krasinski knew it would be impossible to complete in so little time. She turned it down.\nKrasinski regularly gives her client progress updates and tries to make a practice of asking clarifying questions before taking on new projects.\n“Any time I have a conversation with a prospective client, I have that in the back of my mind,” Krasinski said. “Avoiding that people-pleasing side that says, ‘You can figure it out, you can do it.’ You don’t want to let anybody down, but you also need to set yourself up for success.”\nSeek frequent feedback\nNo one wants to spend all day in meetings. But more frequent check-ins with a manager or supervisor may help staff members who are unsure if they are prioritizing their time appropriately or don’t know what they are supposed to be doing.\nOrganizations can explore different ways of building connection between employees and providing more opportunities for feedback, which can result in better understanding of workplace expectations. Brian Smith, founder and managing partner of IA Business Advisors, said his company hosts gratitude sessions for 30 minutes each week.\nThe first 20 minutes are led by a coach who advises attendees on issues such as how to effectively manage time or deal with challenging customers. Highlighting specific problems and strategies can help workers understand what’s expected of them. At the end of the session, participants have an opportunity to share what they’re grateful for.\nStart the conversation\nWorkers don’t have to wait for a supervisor to seek feedback or clarify expectations. You can suggest a quick check-in at any point, if you’re unsure how to prioritize long-term goals or short-term deadlines,\n“Managing upwards is going to make your life easier,” said Dale Whelehan, founder of 4 Day World, a think tank that explores new models of work. “Don’t assume that management has all the answers. They’re probably just as lost.”\nHowever, in hierarchical organizations where questioning management may be viewed negatively, it’s important to be delicate, he said.\nTo initiate a feedback discussion, you can ask to meet with a manager about a current project. Whelehan outlined how to approach the conversation if the meeting gets scheduled. Start by sharing what you understand your assignment to be. Then request the manager’s confirmation or clarification by saying something such as, “I just want to make sure that there’s alignment here,” he advised.\nAsk about anything else you need to clarify and close out the conversation by saying, “From what I understand from this conversation, my role is this. ... Have I understood that correctly?” Follow up with an email restating what you agreed to, Whelehan said.\nTrust your instincts\nWith workplaces experiencing so many changes, employees can find themselves jumping from one assignment to the other, distracted by new responsibilities picked up after colleagues were laid off, or adjusting to spending more time physically in the office.\nIf it all feels too chaotic, take a moment to pause. Revisit your priorities. And then work on the most important task.\n“If something doesn’t feel right, don’t just accept it,” Inman said. “Whatever that avenue is, if it’s staying and trying to make it better or leaving, just don’t give up on what you know is right.”\n____\nHave you overcome an obstacle or made a profound change in your work? Send your questions and story ideas to [email protected]. Follow AP’s Be Well coverage, focusing on wellness, fitness, diet and mental health at https://apnews.com/hub/be-well.",
         "True",
         null,
         null
        ],
        [
         "41",
         "https://apnews.com/article/vatican-pope-confirmation-rome-students-marymount-prevost-241cdeaaca3f46ee513b7b9d94d15bc0",
         "As cardinal, Pope Leo XIV balanced the sacramental with the personal while confirming teenagers\nAs cardinal, Pope Leo XIV balanced the sacramental with the personal while confirming teenagers\nSOAVE, Italy (AP) — The announcement that an American cardinal had been elected Roman Catholic Church’s 267th pope had special meaning for a group of students at an international Catholic school in Rome.\nCardinal Robert Francis Prevost — now Pope Leo XIV — confirmed the Marymount International School 9th graders, usually 14 or 15 years old, in a Mass on May 11, 2024. After learning that a secret conclave had chosen him as pope, students have been “absolutely elated,’’ school head Sarah Gallagher said Saturday by telephone.\nA Catholic school with American ties, Marymount typically has an American cardinal confirm its students, and last year tapped Cardinal Prevost, a relative newcomer, about a year after Pope Francis brought him to Rome as a member of the curia.\n“Afterwards, we had dinner with him. There was just no way of predicting,’’ that he was destined for the papacy, Gallagher said. “He is a very quiet, unassuming sort of person. He didn’t give the impression of being a mover-and-shaker in Vatican circles at all.’’\nEach of the more than 30 students had written him a letter about their thoughts heading into confirmation, one of Catholicism’s seven sacraments, often seen as the “sacrament of maturity.’’ He took time with each of them, Gallagher said.\n“One of the things he was able to do beautifully, in my view, was to maintain a sense of the sacramental, but to make it intimate for the students, for each of them,’’ she said, describing “a lovely peace at the time” that he created with his “softness, and gentleness.”\n“I think it was visible in St. Peter’s Thursday evening. The smile. There is an ease of manner that I think that sets people at ease,’’ she said.\nGallagher couldn’t remember if any of the students chose Leo as a confirmation name last year; versions of Francis were in vogue for many years, for Leo’s predecessor. “Wouldn’t that be extraordinary,” she wondered.",
         "True",
         null,
         null
        ],
        [
         "42",
         "https://apnews.com/article/pga-tour-truist-championship-95-0121472c7b4ecb5c5f4de83311964c2c",
         "Philly Cricket Club’s 14th hole shrunk to almost the length of a football field at taut 95 yards\nPhilly Cricket Club’s 14th hole shrunk to almost the length of a football field at taut 95 yards\nFLOURTOWN, Pa. (AP) — With the tease of a possible ace on each tee shot, golf fan Jason Brown hunkered down early at the Philadelphia Cricket Club’s 14th hole. This was no ordinary par-3, and Brown — like most of the fans who crowded the area — had to take a look at not only the shortest hole in the Truist Championship, it was the shortest par-3 for a regular PGA Tour event in decades.\nTry a taut 95 yards.\nLeave the driver and the power game in the bag. Heck, forget the rangefinder. Take aim instead on a hole shorter than a football field and let the birdies fly.\nIt was the rare hole that let the country club members and weekday warriors at the Wissahickon Course dream for a moment that, yes, they could play every bit as well as Keegan Bradley, Rory McIlroy, Rickie Fowler or any other pro that took aim at the hole.\nAt the very least, fans considered how they would use the bag.\n“I would just hit a three-quarter pitching wedge,” the 54-year-old Brown said. “If I hit a sand wedge off the tee, I’d probably take a chunk. Try to hit it a little long, maybe spin it down.”\nThe move is a nod to Philly Cricket’s original St. Martins Course, built in 1895. Expanded to 18 holes in 1897, the course hosted the U.S. Open in 1907 and 1910.\nAt the U.S. Open in 2023, the 15th hole at Los Angeles Country Club played 81 yards in the third round.\nBut since the debut of Shotlink, a real-time golf shot tracking system used by the PGA TOUR that started in 1983, no non-major event has ever had a hole as pint-sized as the one Sunday.\nTom Hoge, who has one career Tour victory, said he used a 60-degree wedge on the hole and finished 14 at par.\n“I think it’s cool from a player’s point of view,” he said. “you stand there with a sand wedge in your hand and you think, if you hit a good shot, you’ve got a good shot at the hole.”\nThe hole with a green protected by deep bunkers had a pitch-and-putt feel, and normally plays at 105 yards for members. Except for the golden, airy fescue, the hole might have seemed more at home at Top Golf.\nThe first round played at 109 yards, with 24 birdies and 12 bogies; the second round played at 117 yards and 70 of 72 players shot a birdie or at par; and windy third round on Saturday that blew the ball right at 127 yards had 65 players score a birdie or par.\nThe hole — which shared a tee box with the par-4 No. 4 hole that stretched beyond 400 yards — failed to produce an ace in the tournament won by Sepp Straka.\n“I think good short par-3s are, I wouldn’t say lost in modern golf architecture, but they’re rare, and much more rare. That one is just the perfect example,” said Keith Mitchell, who shot a career-best 9-under 61 on Friday.\nSean Kaufmann, of nearby Conshohocken, plays golf twice a week as a member of the 1912 Club. He surveyed the hole and figured he’d use a 52-degree wedge, land the ball in the center of the green and two-putt for par.\n“Nothing crazy,” he said. “I don’t think I’m spinning it on command or anything. Nice and easy.”\nEasier said behind the ropes than done, of course, at a rare PGA stop in the Northeast.\n“I’d probably shank it with this many people watching,” Kaufmann said with a laugh.\nMost players never played a hole so snug as a professional.\nJustin Thomas, who tries to win his third career PGA Championship next weekend at Quail Hollow, said he enjoyed No. 14 as much as any on the course with roots in the 1800s.\n“I don’t dislike any of them. I think 14 is an awesome hole, the short par-3,” Thomas said. “I will take that to my grave that short par-3s are just so much better than any long par-3. I don’t think I’ve ever played a par-3 over 200 yards that I would call memorable for its design versus it seems like all par-3s that are short like that are great. So I think holes like that are fun.”\n___\nAP golf: https://apnews.com/hub/golf",
         "True",
         null,
         null
        ],
        [
         "43",
         "https://apnews.com/article/ai-virtual-reality-courtrooms-legal-challenges-arizona-f47bfd50bd22469388082169ee77b7f0",
         "From AI avatars to virtual reality crime scenes, courts are grappling with AI in the justice system\nFrom AI avatars to virtual reality crime scenes, courts are grappling with AI in the justice system\nStacey Wales gripped the lectern, choking back tears as she asked the judge to give the man who shot and killed her brother the maximum possible sentence for manslaughter.\nWhat appeared next stunned those in the Phoenix courtroom last week: An AI-generated video with a likeness of her brother, Christopher Pelkey, told the shooter he was forgiven.\nThe judge said he loved and appreciated the video, then sentenced the shooter to 10.5 years in prison — the maximum sentence and more than what prosecutors sought. Within hours of the hearing on May 1, the defendant’s lawyer filed a notice of appeal.\nDefense attorney Jason Lamm won’t be handling the appeal, but said a higher court will likely be asked to weigh in on whether the judge improperly relied on the AI-generated video when sentencing his client.\nCourts across the country have been grappling with how to best handle the increasing presence of artificial intelligence in the courtroom. Even before Pelkey’s family used AI to give him a voice for the victim impact portion — believed to be a first in U.S. courts — the Arizona Supreme Court created a committee that researches best AI practices.\nIn Florida, a judge recently donned a virtual reality headset meant to show the point of view of a defendant who said he was acting in self-defense when he waved a loaded gun at wedding guests. The judge rejected his claim.\nAnd in New York, a man without a lawyer used an AI-generated avatar to argue his case in a lawsuit via video. It took only seconds for the judges to realize that the man addressing them from the video screen wasn’t real.\nExperts say using AI in courtrooms raises legal and ethical concerns, especially if it’s used effectively to sway a judge or jury. And they argue it could have a disproportionate impact on marginalized communities facing prosecution.\n“I imagine that will be a contested form of evidence, in part because it could be something that advantages parties that have more resources over parties that don’t,” said David Evan Harris, an expert on AI deep fakes at UC Berkeley’s business school.\nAI can be very persuasive, Harris said, and scholars are studying the intersection of the technology and manipulation tactics.\nCynthia Godsoe, a law professor at Brooklyn Law School and a former public defender, said as this technology continues to push the boundaries of traditional legal practices, courts will have to confront questions they have never before had to weigh: Does this AI photograph really match the witness’s testimony? Does this video exaggerate the suspect’s height, weight, or skin color?\n“It’s definitely a disturbing trend,” she said, “because it could veer even more into fake evidence that maybe people don’t figure out is false.”\nIn the Arizona case, the victim’s sister told The Associated Press that she did consider the “ethics and morals” of writing a script and using her brother’s likeness to give him a voice during the sentencing hearing.\n“It was important to us to approach this with ethics and morals and to not use it to say things that Chris wouldn’t say or believe,” Stacey Wales said.\nVictims can give their impact statements in any digital format in Arizona, said victims’ rights attorney Jessica Gattuso, who represented the family.\nWhen the video played in the courtroom, Wales said only she and her husband knew about it.\n“The goal was to humanize Chris and to reach the judge,” Wales said.\nAfter viewing it, Maricopa County Superior Court Judge Todd Lang said he “loved the beauty in what Christopher” said in the AI video.\n“It also says something about the family,” he said. “Because you told me how angry you were, and you demanded the maximum sentence, and even though that’s what you wanted, you allowed Chris to speak from his heart as you saw it.”\nOn appeal, the defendant’s lawyer said, the judge’s comments could be a factor for the sentence to be overturned.\n___\nAssociated Press reporters Sarah Parvini in Los Angeles, Sejal Govindarao in Phoenix and Kate Payne in Tallahassee, Florida, contributed to this report.",
         "True",
         null,
         null
        ],
        [
         "44",
         "https://apnews.com/article/david-attenborough-earths-last-wilderness-ocean-review-042d8baee1cd86914e2cf526d3b74a58",
         "Book Review: David Attenborough takes readers to ‘Earth’s Last Wilderness’ in ‘Ocean’\nBook Review: David Attenborough takes readers to ‘Earth’s Last Wilderness’ in ‘Ocean’\nBritish biologist Sir David Attenborough will celebrate his 99th birthday two days after the publication of his latest book, “Ocean: Earth’s Last Wilderness,” co-written with long-time BBC collaborator Colin Butfield. And I’m willing to bet instead of a cake or any gifts, he’d appreciate it if every nation would sign on to the U.N. High Seas Treaty and stop exploiting the ocean for short-term gains.\n“Ocean” is the complementary book to a National Geographic film of the same name available on the Disney family of streaming services. It will no doubt be an amazing look at the watery world that makes up two-thirds of this planet’s surface and “99% of its habitable area.” But if you don’t want to wait for the main course -— Attenborough’s dulcet tones narrating over stunning high-definition images from the deep blue — the book serves as a fine appetizer.\nCovering eight unique salt-water habitats, “Ocean” transports readers to coral reefs, the deep, open ocean, kelp forests, the Arctic, mangroves, oceanic islands and seamounts, and the Southern Ocean. Attenborough begins each chapter with a story from his lifetime of exploration, including his first scuba dive in 1957. (“I was so taken aback by the spectacle before me that I momentarily forgot to breathe.”) Butfield picks up the baton from there, offering a wealth of scientific facts and history about each habitat.\nTrivia buffs or people who just like to learn new stuff will delight in all the data. The end of each chapter can prompt a fun game of “Did You Know?” with friends and family. For example: The average depth of the ocean is 3,500 meters (11,483 feet), phytoplankton absorb 40% of the carbon dioxide produced by human activity, and a blue whale’s tongue weighs two tons.\nDespite detailing the impact of global warming throughout the ocean ecosystem, the book is not all doom and gloom. The authors present a case study in hope near the end of most chapters, like the coral reefs of Cabo Pulmo, off the coast of Baja California. Once teeming with life, unrestricted commercial fishing decimated the region in the 1980s. But after a local fisherman teamed up with a marine professor to convince the Mexican government to declare a no-fishing zone and create a marine preserve, Cabo Pulmo recovered over the next decade, a sign, they write, that “simply leaving parts of the ocean alone creates the capacity for it to regenerate.”\nHere’s hoping that reading or watching “Ocean” will help raise the level of global awareness required to protect this last wilderness.\n___\nAP book reviews: https://apnews.com/hub/book-reviews",
         "True",
         null,
         null
        ],
        [
         "45",
         "https://apnews.com/article/newark-airport-flight-reduction-transportation-secretary-sean-duffy-ad7ba9d37c41425c2b7ae23a2772e313",
         "Another Newark airport disruption as Trump’s transportation secretary talks of reducing flights\nTransportation Secretary Sean Duffy says he plans to reduce the number of flights in and out of Newark’s airport for the “next several weeks” as it struggles with radar outages and other issues, including another Sunday that again slowed air traffic.\nSpeaking on NBC’s “Meet the Press” that aired Sunday, Duffy said he will meet this week with all major carriers flying through Newark Liberty International, New Jersey’s largest airport. He said the number of flight cutbacks would fluctuate by time of day with most targeting afternoon hours when international arrivals make the airport busier.\nIn addition to equipment outages, the airport has been been beset by flight delays and cancellations brought on by a shortage of air traffic controllers.\n“We want to have a number of flights that if you book your flight, you know it’s going to fly, right?” he said. “That is the priority. So you don’t get to the airport, wait four hours, and then get delayed.”\nThe Federal Aviation Administration reported a “telecommunications issue” as the latest setback Sunday, impacting a facility in Philadelphia that directs planes in and out of Newark airport. An FAA statement said the agency briefly slowed air traffic to and from the airport while ensuring “redundancies were working as designed” before normal operations resumed.\nInfrastructure issues are increasingly a key concern at airports around the country.\nIn an unrelated incident, hundreds of flights were delayed Sunday at Hartsfield-Jackson Atlanta International Airport — one of the world’s busiest — because of a runway equipment issue. The FAA said in a statement that it temporarily slowed arrivals into Atlanta while technicians worked to address the problem.\nIn Newark, Sunday’s disruptions came two days after radar at the Philadelphia facility went black for 90 seconds at 3:55 a.m. Friday, an episode that was similar to an incident on April 28.\nThe Trump administration recently proposed a multibillion-dollar overhaul of the U.S. air traffic control system, envisioning six new air traffic control centers and technology and communications upgrades at all of the nation’s air traffic facilities over the next three or four years.\nThe FAA said last week that it slows the rate of arrivals into Newark to ensure safety whenever staffing or equipment issues arise. The agency also noted that frequent equipment and telecommunications outages can be stressful, prompting some air traffic controllers to take time off “to recover from the stress.”\n“While we cannot quickly replace them due to this highly specialized profession, we continue to train controllers who will eventually be assigned to this busy airspace,” the FAA said in a May 5 statement.\nOn average, there had been 34 arrival cancellations per day since mid-April at Newark, according to the FAA, with the number of delays increasing throughout the day from an average of five in the mornings to 16 by the evening. The delays tended to last 85 to 137 minutes on average.\nDuffy said in his TV appearance Sunday that he wants to raise the mandatory retirement age for air traffic controllers from 56 to 61, as he tries to navigate a shortage of about 3,000 people in that specialized position.\nAnd he also spoke of wanting to give those air traffic controllers a 20% upfront bonus to stay on the job. However, he says many air traffic controllers choose to retire after 25 years of service, which means many retire around the age of 50.\n“These are not overnight fixes,” Duffy said. “But as we go up — one, two years, older guys on the job, younger guys coming in, men and women — we can make up that 3,000-person difference.”\nAdding more air traffic controllers is in contrast to a top priority of the Trump administration — slashing jobs in nearly all other federal agencies.\nHowever, United Airlines CEO Scott Kirby said on CBS’ “Face the Nation” that Duffy deserves credit for putting “caution tape” around FAA safety functions and separating those personnel from cost-cutting by Trump’s Department of Government Efficiency — DOGE.\nKirby said United has already reduced its schedule at Newark and will meet with Duffy later this week. He expects a deeper cut in capacity to last until June 15 when construction work on one of Newark’s runways is expected to be complete, though he thinks some reductions will last throughout the summer.\n“We have fewer flights, but we keep everything safe, and we get the airplane safely on the ground,” Kirby said. “Safety is number one, and so I’m not worried about safety. I am worried about customer delays and impacts.”",
         "True",
         null,
         null
        ],
        [
         "46",
         "https://apnews.com/article/rfk-vaccines-autism-measles-obesity-food-dye-f26089856550e978d28fd25b653d8103",
         "FACT FOCUS: Examining RFK Jr.'s claims about measles, autism and diet as head of HHS\nFACT FOCUS: Examining RFK Jr.'s claims about measles, autism and diet as head of HHS\nWASHINGTON (AP) — In just two months as the federal health secretary, Robert F. Kennedy Jr. has made sweeping changes to the Department of Health and Human Services — and its priorities.\nHe’s dismissed 10,000 public health workers, met with state governors who want to restrict unhealthy foods in taxpayer-funded programs and delivered an inconsistent message on vaccines as measles outbreaks across the country have sickened hundreds. Last week, he promised to find some of the causes of rising U.S. autism rates in under six months’ time.\nKennedy’s followers — a contingent of health-conscious moms, Republicans loyal to President Donald Trump and others — have celebrated his “Make America Healthy Again” initiatives. But scientists and public health experts have expressed dismay over some of Kennedy’s statements about Americans’ diets, vaccines, measles and autism. Here’s a look at some of those claims Kennedy has made, with additional context and facts.\nAutism\nKENNEDY, at a news conference Wednesday: Studies show that autism rates in the U.S. were “1 in 10,000 when I was a kid” compared to a recent U.S. Centers for Disease Control and Prevention study that found it to be 1 in 31. He says that is evidence of an autism epidemic in the U.S. and that, “we know it’s an environmental exposure. It has to be.”\nTHE FACTS: It’s true that in the 20th century, only 1 in 10,000 children were diagnosed with autism —- the diagnosis was rare and given only to kids with severe problems communicating or socializing and those with unusual, repetitive behaviors. But the term became shorthand for a group of milder, related conditions known as ″autism spectrum disorders,” and the number of kids labeled as having some form of autism began to balloon.\nThe term “epidemic” is widely used to describe surges in different health problems — like autism, obesity and gun violence, to name a few. But strictly speaking, “epidemic” is defined as a fast-spreading outbreak of disease, and there’s not good evidence that autism meets that definition.\nHealth officials have largely attributed growing autism numbers to better recognition of cases, through wide screening and better diagnosis. Last week, the CDC said diagnosis rate is up to 1 in 31 children.\nThere are no blood or biologic tests for autism; it is diagnosed by making judgments about a child’s behavior. Research has looked at a variety of other possible explanations, including genetics, the age of the father, the weight of the mother and chemicals in the environment.\nPrior to his rise to health secretary, Kennedy joined anti-vaccine advocates in claiming childhood vaccines are responsible for autism, but studies by the CDC and others have ruled that out. A fraudulent single study that claimed a link between the measles, mumps and rubella vaccine was later retracted by the journal that published it.\nKennedy recently announced a major study into the cause of autism and told an April 10 Cabinet meeting: “By September we will know what has caused the autism epidemic and we’ll be able to eliminate those exposures.” But last week, he softened that to having ”some of the answers by September.”\n— Mike Stobbe and Devi Shastri\nVaccines\nKENNEDY, in interview with Sean Hannity that aired on Fox News on March 11: “There are adverse events from the vaccine. It does cause deaths every year. It causes — it causes all the illnesses that measles itself causes, encephalitis and blindness, et cetera. And so people ought to be able to make that choice for themselves.”\nTHE FACTS: The measles vaccine is safe and its risks are lower than the risks of complications from measles. There have been no documented deaths from the MMR vaccine in healthy, non-immunocompromised people, according to the Infectious Diseases Society of America.\nMost people who get the MMR vaccine have no serious problems from it, the CDC says. The most common side effects are mild: a sore arm, fever, mild rash and temporary joint pain or stiffness in teenage or adult women who don’t already have rubella immunity. There is a very small risk of febrile seizures that increases as infants get older, which is why the shot is recommended as early as possible.\nSome people can have allergic reactions; people allergic to the antibiotic neomycin should not get the shot, according to the CDC.\n— Devi Shastri\nKENNEDY, in an April interview with CBS: “We’re always going to have measles, no matter what happens, as the (MMR) vaccine wanes very quickly.”\nTHE FACTS: The measles vaccine is highly protective and lasts a lifetime for most people. Two doses of the vaccine are 97% effective against the virus, according to the CDC and medical experts worldwide. Before the vaccine was introduced in 1963, the U.S. saw some 3 million to 4 million cases per year. Now, it’s usually fewer than 200 in a normal year.\nUsually, most measles cases come to the U.S. from abroad. This is why high vaccination rates are important. When 95% or more people are vaccinated, entire communities are considered protected from the virus, which is important for people who are too young or who cannot get the vaccine due to health issues.\n— Devi Shastri\nMeasles\nKENNEDY, in a CBS interview posted April 9, discussing death of 8-year-old child in Texas who had measles: “The thing that killed (her) was not the measles, but it was a bacteriological infection.”\nTHE FACTS: Two children in Texas have died — both from measles complications, according to the Texas State Department of Health and Human Services. The state health department has made clear that the children were not vaccinated and had no underlying conditions. Doctors at University Medical Center in Lubbock who treated the 8-year-old said she died of “measles pulmonary failure.”\nClaiming that patients die of complications and not the actual disease that led to them is a tactic that anti-vaccine advocates have used to undermine Texas health experts since the first child died of measles in March — and in other outbreaks before that. It’s also a talking point that Kennedy, who spent 20 years as one of the world’s leading anti-vaccine activists, continues to amplify.\nMeasles complications can include pneumonia, brain swelling and other respiratory or neurological complications, which can lead to death in 1 to 3 of every 1,000 children who are infected, according to the U.S. Centers for Disease Control and Prevention.\n—-Devi Shastri\nKENNEDY, in April 6 in an X post, said two Texas doctors “have treated and healed some 300 measles-stricken Mennonite children using aerosolized budesonide and clarithromycin.”\nTHE FACTS: Pediatricians note there is no cure for measles: It is a virus that the body has to fight off on its own. The best way to protect against the risks of measles is to get vaccinated to lower the chance of contracting it.\nBudesonide is a steroid used in different forms to treat asthma, ulcerative colitis and other conditions. Clarithromycin is an antibiotic; it fights bacteria, not viruses. Neither drug is recommended for treating measles — the use is “risky and unproven” — the American Academy of Pediatrics says.\n“There are no miracle cures for measles,” Dr. Sean O’Leary, who chairs the academy’s Committee on Infectious Diseases, recently said in a fact check on the organization’s website. “If your child becomes sick with measles, doctors will do everything we can to care for them, but the truth is we do not have effective treatments against this viral infection.”\n—-Devi Shastri\nNutrition and obesity\nKENNEDY, at an April 15 event in Indianapolis, said 70% of Americans are obese or overweight, compared to 3% of Americans during President John F. Kennedy’s tenure in the early 1960s.\nTHE FACTS: Nearly three-quarters of Americans are overweight, including about 40% with obesity, according to recent figures from the CDC. Between 1960 and 1962, about 13% of people in the U.S. had obesity, according to historic CDC data.\nThe rise in obesity in the U.S. and other developed countries in recent decades has been well-documented and studied. Experts say there is no single explanation for the increase, but that it stems from a combination of factors, including biological and environmental contributors, an increase in available calories and a decline in physical activity. Changes in the food supply, including the development of high-calorie, cheap ultraprocessed foods have been linked to obesity, but exactly how these foods affect weight gain remains unclear.\nKENNEDY at April 10 cabinet meeting regarding food dyes: “We’ve shown now that this directly affects academic performance, violence in the schools, and mental health, as well as physical health.”\nTHE FACTS: Recent research shows synthetic food colors common in U.S. foods are linked to neurobehavioral problems in children and that the dyes may cause or exacerbate symptoms, particularly hyperactivity. In addition, children may vary widely in their sensitivity to the dyes.\n“It is clear that some children are likely to be more adversely affected by food dyes than others,” researchers in California’s Office of Environmental Health Hazard Assessment reported in 2021.\nThose responses have the potential to affect school work and behaviors such as aggression, but to date there is no clear evidence of a direct relationship between food dyes and academic performance, violence or other mental and physical conditions, scientists say.\nTo date, scientific evidence shows that “most children have no adverse effects when consuming foods containing color additives,” according to the U.S. Food and Drug Administration, which regulates the dyes.\nKENNEDY on March 28 during a speech in West Virginia to encourage restrictions to the Supplemental Nutrition Assistance Program: “Twenty years ago, there was no diabetes in China. Today 50% of the population is diabetic.”\nTHE FACTS: Diabetes prevalence has gone up in China over the past two decades, driven by rising living standards, urbanization and an aging population. About 6.1% of the population had diabetes in 2001-2002, according to a 2005 analysis.\nBut that has only grown to to 12.4%, according to latest data included in a Lancet report in 2024.\n— JoNel Aleccia\n___\nAP reporter Amanda Seitz in Washington contributed to this report.\n___\nThe Associated Press Health and Science Department receives support from the Howard Hughes Medical Institute’s Science and Educational Media Group and the Robert Wood Johnson Foundation. The AP is solely responsible for all content.",
         "True",
         null,
         null
        ],
        [
         "47",
         "https://apnews.com/article/louisiana-senate-cassidy-letlow-landry-trump-2026-632a2c454f82918ca84f94259129930d",
         "Louisiana governor pushes Trump to weigh primary challenger to GOP Sen. Bill Cassidy, AP sources say\nLouisiana governor pushes Trump to weigh primary challenger to GOP Sen. Bill Cassidy, AP sources say\nPresident Donald Trump and Louisiana Gov. Jeff Landry have discussed U.S. Rep. Julia Letlow challenging U.S. Sen. Bill Cassidy in next year’s Republican primary, according to multiple people familiar with the matter.\nThe Republican governor’s promotion of a new challenger to Cassidy reflects unease within Trump’s base about the two-term senator. Cassidy voted to convict Trump in Trump’s 2021 impeachment trial over the riot at the U.S. Capitol on Jan. 6, 2021. And Cassidy, who is a medical doctor, expressed doubts about Trump’s pick of Robert F. Kennedy Jr. as the nation’s health secretary before voting to confirm Kennedy.\nRepublicans hold a 53-47 majority in the Senate and have a favorable electoral map in the 2026 midterms to help them keep control. But Cassidy is among several GOP senators up for reelection next year who are facing challenging primaries over past moves to distance themselves from Trump.\nFor the senator, “the biggest hurdle is going to be the impeachment vote. That’s what he has to overcome. And I don’t think he has the mindset to say, ‘I made a mistake,’” said Eddie Rispone, the Republican nominee for Louisiana governor in 2019 and a Cassidy supporter. “And Louisiana is a big Trump state.”\nLandry, a close Trump ally, spoke last month with the president about Letlow as a potential Senate candidate, according to two people with knowledge of the conversation. They were granted anonymity to share contents of a conversation they were not authorized to discuss publicly.\nA spokesperson for Letlow declined to comment on a potential campaign for Senate or the discussion between Landry and Trump. Landry’s office declined to comment.\nLandry, elected in 2023, has been advocating for Letlow to consider a run, according to the people who confirmed their April conversation about Letlow. A Senate seat would be a safe bet for a Republican given that Trump received 60% of the vote in carrying Louisiana last year.\nRepublican insiders describe Landry and Cassidy not as close, but as having a cordial working relationship despite a difference in their feelings of loyalty to Trump, which creates some distance between Cassidy and segments of the party base in the state.\n“Senator Cassidy delivers conservative results for the people of Louisiana,” Cassidy spokesperson Ashley Bosch said in a statement. “He’s worked hard to support the President’s agenda and we’re confident voters will re-elect him next year.”\nLetlow is a three-term Republican representative from northeast Louisiana. She won the seat in a special election in March 2021 after her husband, Luke, had been elected but died of complications from COVID-19.\nLetlow sits on the influential House Appropriations Committee. Her district was a mostly rural swath of northeast Louisiana when she arrived in Congress. It has shifted as a result of a redistricting map ordered by the U.S. Supreme Court in 2024 and now also include parts of metropolitan Baton Rouge, where Cassidy lives.\nCassidy already faces one major challenger, Louisiana State Treasurer John Fleming, a former congressman.\nSome Republican activists in the state condemned Cassidy for his 2021 vote to convict Trump, a vote Cassidy said afterward he was “at peace” casting.\nThe state Republican executive committee voted unanimously to censure Cassidy. The Republican committee in Bossier Parish, which includes the city of Shreveport in northwest Louisiana, adopted a censure measure describing Cassidy as “an object of extreme shame” and called for his resignation.\nTrump revived his public contempt for Cassidy a year ago after the senator spoke out when the then-former president promised to pardon those convicted in connection with the Capitol riot; Trump did that after taking office in January.\nIn an April 2024 post on Truth Social, Trump called Cassidy “one of the worst Senators in the United States Senate” and a “disloyal lightweight.”\nLouisiana’s new congressional primary election system also could be a wrinkle for Cassidy.\nUntil the new system was adopted this year, congressional candidates from all parties seeking the same office ran on the same ballot regardless of party affiliation. In these so-called jungle primaries, only a candidate who received 50% of the vote would win the office outright. If no one reached the threshold, the top two finishers would face each other in a runoff.\nNext year, only voters who note Republican affiliation on their voter registration — and those who affiliate with no party — will be able to participate in the GOP Senate primary. The effect is seen as a potential challenge for Cassidy, who had benefited from the less-partisan nature of the old system.\n“It does tighten it a little bit for him, because you do have the far-right Republicans — for them, it’s going to be hard to forgive him for that impeachment vote,” Rispone said.\nStill, Cassidy has a clear fundraising advantage, with more than $7.4 million in his campaign account at the end of the first quarter. Cassidy has also begun laying the campaign groundwork in Louisiana and is expected to announce his candidacy formally in the coming weeks.\nAnd in a sign things might not be as bad with Trump as they were, Cassidy received different sort of recognition from the president at an economic event at the White House this month.\n“We have some great people, great senators, here,” Trump said. “Bill Cassidy, thank you, Bill.”",
         "True",
         null,
         null
        ],
        [
         "48",
         "https://apnews.com/article/box-office-thunderbolts-sinners-c614343b78ae80fd1e1abf8f97e7473e",
         "‘Thunderbolts’ and ‘Sinners’ top box office charts once more\n‘Thunderbolts’ and ‘Sinners’ top box office charts once more\nMarvel’s “Thunderbolts” and Ryan Coogler’s “Sinners” dominated the North American box office charts again this weekend.\nNow in their second and fourth weekends respectively, the two films had some new competition, including a horror movie, a Kerry Washington action pic, a Josh Hartnett airplane thriller, and a Shakespeare-inspired musical. None of the additions made a significant impact.\n“Thunderbolts” took first place, with $33.1 million from theaters in the U.S. and Canada, according to studio estimates Sunday. That’s down 55% from its opening. Internationally, it added $34 million, bringing its global total to $272.2 million. In just two weekends, the Walt Disney Co. release is already the fourth biggest of the year, globally and domestically.\nThe movie is also faring better than the previous Marvel movie, “Captain America: Brave New World,” which took a big 68% dive in its second weekend. The key difference was reviews, which don’t always dictate the fate of superhero movies, but good word of mouth has helped “Thunderbolts.”\n“The holding power of this film harkens back to the heyday of Marvel,” said Paul Dergarabedian, the senior media analyst for Comscore. “The currency of the long-term playability is more important than the sheer opening weekends.”\nThe studio also has another big movie coming later this summer in “The Fantastic Four: First Steps.”\n“Sinners,” meanwhile, crossed the $200 million mark in North American ticket sales this weekend, which is especially notable for an original R-rated movie. It added $21.1 million domestically, and $6.6 million internationally, bringing its global total to $283.3 million. Next weekend, it’s also returning to 70mm IMAX screens “by popular demand,” IMAX said.\nWarner Bros.’ other juggernaut, “A Minecraft Movie,” has made $409 million domestically and $909.6 million globally in its six weekends in theaters. It added just under $8 million to take third place this weekend, followed by “The Accountant 2” in fourth with $6.1 million.\nSeveral new movies also opened in wide release this weekend, but none seemed to break through the noise. The biggest of the bunch was “Clown in a Cornfield,” which earned $3.7 million (a relative high water mark for its distributor IFC) and cracked the top five.\n“The second weekend in May, there is typically a bit of a lull,” Dergarabedian said. “IFC picked a perfect date for this clown to scare people into the theater.”\n“Shadow Force,” a Lionsgate action pic with Washington and Omar Sy from “The Grey” filmmaker Joe Carnahan, made $2 million from 2,170 screens. Vertical’s “Flight or Fight,” starring Hartnett as a mercenary on a plane full of assassins, also debuted with an estimated $2 million from 2,153 screens.\nIn limited release, the Tim Robinson and Paul Rudd movie “Friendship” launched on six screens in New York and Los Angeles and scored the best per-screen average of the year ($75,317) with many sellouts reported. A24 plans to expand the release nationwide over Memorial Day.\nOverall, it was a relatively quiet weekend, but thanks to “A Minecraft Movie,” “Sinners” and “Thunderbolts,” the year-to-date box office is up around 16% from last year, according to Comscore data. Compared with 2019, however, it’s down over 32%.\nNext week, “Final Destination: Bloodlines” should give the marketplace another jolt before two giants debut over the holiday weekend: “Lilo & Stitch” and “Mission: Impossible – The Final Reckoning.”\nTop 10 movies by domestic box office\nWith final domestic figures being released Monday, this list factors in the estimated ticket sales for Friday through Sunday at U.S. and Canadian theaters, according to Comscore:\n1. “Thunderbolts,” $33.1 million.\n2. “Sinners,” $21.1 million.\n3. “A Minecraft Movie,” $8 million.\n4. “The Accountant 2,” $6.1 million.\n5. “Clown in a Cornfield,” $3.7 million.\n6. “Shadow Force,” $2 million.\n7. “Fight or Flight,” $2 million.\n8. “Until Dawn,” $2 million.\n9. “The Amateur,” $1.1 million.\n10. “The King of Kings,” $680,656.",
         "True",
         null,
         null
        ],
        [
         "49",
         "https://apnews.com/article/immigration-trump-wellbeing-acupuncture-reiki-church-minnesota-6b52091480d7439852fe05296ef9c1ab",
         "Altar acupuncture: A Minneapolis church brings well-being sessions to its migrant ministry\nAltar acupuncture: A Minneapolis church brings well-being sessions to its migrant ministry\nMINNEAPOLIS (AP) — Right after Sunday worship at St. Paul’s-San Pablo Lutheran Church, Juan Carlos Toapanta lay in a lounge chair set up by the altar, needles sticking out of his forehead, wrist and foot for an hourlong acupuncture session.\n“Just like the Lord’s light helps emotionally, the body’s pain is treated as well,” said the Ecuadorian construction worker, who suffers from sciatica and has worshipped at the Minneapolis church for about five months. “Everything feels freed, emotionally.”\nFounded by Swedish immigrants in the late 19th century, the church is now a predominantly Latino congregation. Like most other churches in the U.S. that serve migrants, it has expanded its humanitarian, financial, legal and pastoral ministries during the Trump administration’s immigration crackdown.\nIt has also added monthly well-being sessions — at no charge — with acupuncture, Reiki and cupping therapy to ease the stress that uncertainty and fear have sown among the migrant community — including people in the U.S. illegally and U.S.-born citizens in mixed-status families.\n“We have to feel well to respond well, not with panic and fear, which leads to nothing good,” said Lizete Vega, the church’s family engagement coordinator. “People here feel that they’re protected and can be cared for spiritually, emotionally and physically.”\nMental health and faith ministry collaborations increase\nFaith leaders have increasingly found themselves called to help their congregations with mental health concerns, from chaplains in the U.S. Navy to pastors in the rural heartland.\nSome see the need to provide reassurance and well-being as a growing part of their ministry to migrants, even as revised federal immigration guidelines now provide more leeway for enforcement in or near houses of worship.\n“It was as if they were able to exhale a big breath,” the Rev. Hierald Osorto said of the 30 congregants who signed up for the first well-being session in March at St. Paul’s, where an outdoor mural features two traditional Swedish Dala horses between the Spanish words “sanación” (healing) and “resiliencia” (resilience).\nAfter last Sunday’s worship, the altar table and Easter lilies were moved to make room for seven acupuncture chairs, arranged in a circle facing the central cross. Three massage tables were set up in front of the pews for the Reiki treatment, where practitioners hold their hands on or near the body’s energy centers.\n“To see this space be quite literally a place of healing, in the place where we talk about it right at the altar, it moved me to tears,” Osorto said.\nRising anxiety and confusion affect migrants’ mental health and well-being\nWellness practitioners and mental health clinicians say anxiety and depression among those they serve in migrant communities have spread and intensified this year.\nAlready, migrants often arrive with severe trauma from violence they fled in their home countries as well as attacks along cartel-controlled routes to and through the U.S. border.\nWomen in particular often suffer sexual violence on the journey. For many, the fear that they or someone in their families might be deported is revictimizing. That makes it imperative that “safe places” exist where they can focus on wellness, said Noeline Maldonado, executive director of The Healing Center, which helps domestic and sexual violence victims in Brooklyn, New York.\nSessions that promote grounding and mindfulness are necessary to cope with the stress of both immediate crises as well as long-term unpredictability as immigration policies shift.\n“Uncertainty is the biggest thing,” said Cheryl Aguilar, director of Hope Center for Wellness in the Washington, D.C., area, which has partnered with churches to provide mental health programs.\nBeing in community and cultivating hope is crucial because many people are responding to fear with rising anxiety, traumatic symptoms and isolation, all of which can have lasting consequences, Aguilar added.\n“It’s nonstop work, nonstop fear,” said Sarah Howell, a clinical social worker in Houston with more than a decade of experience in migration-related trauma. “Every issue seems bigger.”\nHowell said many of her clients in Texas are realizing they can’t live in a state of constant alarm, and the respite that wellness programs can bring becomes essential.\nFinding healing in houses of worship\n“People feel hopeless, but they have to keep fighting,” said Guadalupe Gonzalez, one of the bilingual Reiki practitioners whose organization, Odigo Wellness, partnered with St. Paul’s in Minneapolis to offer the sessions.\nShe said she had some doubts about offering these healing practices inside a church — a large space with light flooding in and people moving through.\n“But the sanctuary has a very nice, very positive energy,” Gonzalez said. “As practitioners we feel a lot of emotions.”\nSeveral congregants who attended last Sunday’s two-hour wellness session said they felt both the energy and the connection between these healing practices and faith.\nMartha Dominguez came bouncing down the altar steps after an acupuncture session. Grinning, she said she had never imagined a church would offer these kinds of “benefits.”\n“Yes, it helps so much,” said the Mexican immigrant. “It takes the stress away from you.”\nLimber Saliero, a roofer from Ecuador who has been worshipping at St. Paul’s for more than a year, said he had never heard of acupuncture but decided to try it.\n“I felt like an energy that was flowing into me,” he said.\nVanessa Arcos tried acupuncture with her sister and her father, while her mother got a Reiki treatment. The family started attending the church the week they arrived in Minnesota from their home state of Guerrero, Mexico, almost a decade ago.\nLying in the lounge chair next to a statue of the Virgin of Guadalupe, Arcos said she overcame her fear of needles and found the treatment relaxing for both muscles and mind.\n“It felt very peaceful, very safe,” Arcos said. “It’s important to do little things for yourself.”\n___\nThis story has been updated to correct Lizete Vega’s job title to family engagement coordinator instead of its Latino outreach coordinator. It has also been corrected to reflect that Limber Saliero has worshipped at St. Paul’s for more than a year, instead of five years.\n___\nAssociated Press religion coverage receives support through the AP’s collaboration with The Conversation US, with funding from Lilly Endowment Inc. The AP is solely responsible for this content.",
         "True",
         null,
         null
        ]
       ],
       "shape": {
        "columns": 5,
        "rows": 135
       }
      },
      "text/html": [
       "<div>\n",
       "<style scoped>\n",
       "    .dataframe tbody tr th:only-of-type {\n",
       "        vertical-align: middle;\n",
       "    }\n",
       "\n",
       "    .dataframe tbody tr th {\n",
       "        vertical-align: top;\n",
       "    }\n",
       "\n",
       "    .dataframe thead th {\n",
       "        text-align: right;\n",
       "    }\n",
       "</style>\n",
       "<table border=\"1\" class=\"dataframe\">\n",
       "  <thead>\n",
       "    <tr style=\"text-align: right;\">\n",
       "      <th></th>\n",
       "      <th>link</th>\n",
       "      <th>content</th>\n",
       "      <th>scrape_success</th>\n",
       "      <th>scrape_error</th>\n",
       "      <th>metadata</th>\n",
       "    </tr>\n",
       "  </thead>\n",
       "  <tbody>\n",
       "    <tr>\n",
       "      <th>0</th>\n",
       "      <td>https://apnews.com/article/spain-fire-chemical...</td>\n",
       "      <td>Fire at chemical plant in northeastern Spain k...</td>\n",
       "      <td>True</td>\n",
       "      <td>None</td>\n",
       "      <td>None</td>\n",
       "    </tr>\n",
       "    <tr>\n",
       "      <th>1</th>\n",
       "      <td>https://apnews.com/article/zealand-snail-egg-n...</td>\n",
       "      <td>A rare New Zealand snail is filmed for the fir...</td>\n",
       "      <td>True</td>\n",
       "      <td>None</td>\n",
       "      <td>None</td>\n",
       "    </tr>\n",
       "    <tr>\n",
       "      <th>2</th>\n",
       "      <td>https://apnews.com/article/indigenous-colombia...</td>\n",
       "      <td>Colombia takes regional lead in Indigenous sel...</td>\n",
       "      <td>True</td>\n",
       "      <td>None</td>\n",
       "      <td>None</td>\n",
       "    </tr>\n",
       "    <tr>\n",
       "      <th>3</th>\n",
       "      <td>https://apnews.com/article/nhl-playoffs-jets-s...</td>\n",
       "      <td>Mikko Rantanen has a goal and 2 assists for St...</td>\n",
       "      <td>True</td>\n",
       "      <td>None</td>\n",
       "      <td>None</td>\n",
       "    </tr>\n",
       "    <tr>\n",
       "      <th>4</th>\n",
       "      <td>https://apnews.com/article/cannes-film-festiva...</td>\n",
       "      <td>Cannes, the global Colosseum of film, readies ...</td>\n",
       "      <td>True</td>\n",
       "      <td>None</td>\n",
       "      <td>None</td>\n",
       "    </tr>\n",
       "    <tr>\n",
       "      <th>...</th>\n",
       "      <td>...</td>\n",
       "      <td>...</td>\n",
       "      <td>...</td>\n",
       "      <td>...</td>\n",
       "      <td>...</td>\n",
       "    </tr>\n",
       "    <tr>\n",
       "      <th>130</th>\n",
       "      <td>https://apnews.com/article/candy-crush-ai-arti...</td>\n",
       "      <td>None</td>\n",
       "      <td>False</td>\n",
       "      <td>Failed to get page: Failed to scrape https://a...</td>\n",
       "      <td>None</td>\n",
       "    </tr>\n",
       "    <tr>\n",
       "      <th>131</th>\n",
       "      <td>https://apnews.com/article/autism-kennedy-rfk-...</td>\n",
       "      <td>None</td>\n",
       "      <td>False</td>\n",
       "      <td>Failed to get page: Failed to scrape https://a...</td>\n",
       "      <td>None</td>\n",
       "    </tr>\n",
       "    <tr>\n",
       "      <th>132</th>\n",
       "      <td>https://apnews.com/article/gold-prices-high-ta...</td>\n",
       "      <td>None</td>\n",
       "      <td>False</td>\n",
       "      <td>Failed to get page: Failed to scrape https://a...</td>\n",
       "      <td>None</td>\n",
       "    </tr>\n",
       "    <tr>\n",
       "      <th>133</th>\n",
       "      <td>https://apnews.com/article/venice-arts-biennal...</td>\n",
       "      <td>None</td>\n",
       "      <td>False</td>\n",
       "      <td>Failed to get page: Failed to scrape https://a...</td>\n",
       "      <td>None</td>\n",
       "    </tr>\n",
       "    <tr>\n",
       "      <th>134</th>\n",
       "      <td>https://apnews.com/article/amber-heard-twins-8...</td>\n",
       "      <td>None</td>\n",
       "      <td>False</td>\n",
       "      <td>Failed to get page: Failed to scrape https://a...</td>\n",
       "      <td>None</td>\n",
       "    </tr>\n",
       "  </tbody>\n",
       "</table>\n",
       "<p>135 rows × 5 columns</p>\n",
       "</div>"
      ],
      "text/plain": [
       "                                                  link  \\\n",
       "0    https://apnews.com/article/spain-fire-chemical...   \n",
       "1    https://apnews.com/article/zealand-snail-egg-n...   \n",
       "2    https://apnews.com/article/indigenous-colombia...   \n",
       "3    https://apnews.com/article/nhl-playoffs-jets-s...   \n",
       "4    https://apnews.com/article/cannes-film-festiva...   \n",
       "..                                                 ...   \n",
       "130  https://apnews.com/article/candy-crush-ai-arti...   \n",
       "131  https://apnews.com/article/autism-kennedy-rfk-...   \n",
       "132  https://apnews.com/article/gold-prices-high-ta...   \n",
       "133  https://apnews.com/article/venice-arts-biennal...   \n",
       "134  https://apnews.com/article/amber-heard-twins-8...   \n",
       "\n",
       "                                               content  scrape_success  \\\n",
       "0    Fire at chemical plant in northeastern Spain k...            True   \n",
       "1    A rare New Zealand snail is filmed for the fir...            True   \n",
       "2    Colombia takes regional lead in Indigenous sel...            True   \n",
       "3    Mikko Rantanen has a goal and 2 assists for St...            True   \n",
       "4    Cannes, the global Colosseum of film, readies ...            True   \n",
       "..                                                 ...             ...   \n",
       "130                                               None           False   \n",
       "131                                               None           False   \n",
       "132                                               None           False   \n",
       "133                                               None           False   \n",
       "134                                               None           False   \n",
       "\n",
       "                                          scrape_error metadata  \n",
       "0                                                 None     None  \n",
       "1                                                 None     None  \n",
       "2                                                 None     None  \n",
       "3                                                 None     None  \n",
       "4                                                 None     None  \n",
       "..                                                 ...      ...  \n",
       "130  Failed to get page: Failed to scrape https://a...     None  \n",
       "131  Failed to get page: Failed to scrape https://a...     None  \n",
       "132  Failed to get page: Failed to scrape https://a...     None  \n",
       "133  Failed to get page: Failed to scrape https://a...     None  \n",
       "134  Failed to get page: Failed to scrape https://a...     None  \n",
       "\n",
       "[135 rows x 5 columns]"
      ]
     },
     "metadata": {},
     "output_type": "display_data"
    }
   ],
   "source": [
    "# Scrape the news links\n",
    "workflow.scrape(news_links)\n",
    "# Display the scraped content\n",
    "display(workflow.get_scrapes())"
   ]
  },
  {
   "cell_type": "markdown",
   "metadata": {},
   "source": [
    "## Analyze content\n",
    "Next we will extract celebrities mentioned in each article using OpenAI"
   ]
  },
  {
   "cell_type": "code",
   "execution_count": 7,
   "metadata": {},
   "outputs": [
    {
     "data": {
      "application/vnd.jupyter.widget-view+json": {
       "model_id": "16f253e6daed46a088751dc3d467d832",
       "version_major": 2,
       "version_minor": 0
      },
      "text/plain": [
       "Analyzing:   0%|          | 0/100 [00:00<?, ?link/s]"
      ]
     },
     "metadata": {},
     "output_type": "display_data"
    },
    {
     "data": {
      "application/vnd.microsoft.datawrangler.viewer.v0+json": {
       "columns": [
        {
         "name": "index",
         "rawType": "int64",
         "type": "integer"
        },
        {
         "name": "link",
         "rawType": "object",
         "type": "string"
        },
        {
         "name": "output",
         "rawType": "object",
         "type": "unknown"
        },
        {
         "name": "analysis_success",
         "rawType": "bool",
         "type": "boolean"
        },
        {
         "name": "analysis_error",
         "rawType": "object",
         "type": "unknown"
        }
       ],
       "conversionMethod": "pd.DataFrame",
       "ref": "4aa9f549-be5c-4d79-9a80-7739633b8bbe",
       "rows": [
        [
         "0",
         "https://apnews.com/article/spain-fire-chemical-plant-vilanova-warehouse-chlorine-25bdfc5ce0f95ece3d4b816d11ccbb55",
         "{'celebrities': []}",
         "True",
         null
        ],
        [
         "1",
         "https://apnews.com/article/zealand-snail-egg-neck-powelliphanta-augusta-3cb8082547a83b8c47848b6621c06cb0",
         "{'celebrities': []}",
         "True",
         null
        ],
        [
         "2",
         "https://apnews.com/article/indigenous-colombia-land-rights-self-government-brazil-amazon-dcf2341bf8d60d82e3c641df164ade85",
         "{'celebrities': []}",
         "True",
         null
        ],
        [
         "3",
         "https://apnews.com/article/nhl-playoffs-jets-stars-score-b8facdf252825772b72a5f7af8337542",
         "{'celebrities': ['Mikko Rantanen', 'Alexander Petrovic', 'Connor Hellebuyck', 'Pete DeBoer', 'Scott Arniel', 'Roope Hintz', 'Wyatt Johnston', 'Sam Steel', 'Mikael Granlund', 'Thomas Harley', 'Jake Oettinger', 'Nino Niederreiter', 'Josh Morrissey', 'Colin Blackwell', 'Kyle Connor']}",
         "True",
         null
        ],
        [
         "4",
         "https://apnews.com/article/cannes-film-festival-2025-what-to-expect-d289e6798571dd31943dc3d6d3a2d556",
         "{'celebrities': ['Donald Trump', 'Kleber Mendonça Filho', 'Spike Lee', 'Wes Anderson', 'Lynne Ramsay', 'Richard Linklater', 'Ari Aster', 'Jennifer Lawrence', 'Denzel Washington', 'Robert Pattinson', 'Kristen Stewart', 'Jafar Panahi', 'Sergei Loznitsa', 'Akinola Davies Jr.', 'Oliver Hermanus', 'Paul Mescal', \"Josh O'Connor\", 'Chie Hayakawa', 'Scarlett Johansson', 'Harris Dickinson', 'Tom Cruise', 'Robert De Niro', 'Quentin Tarantino']}",
         "True",
         null
        ],
        [
         "5",
         "https://apnews.com/article/split-juries-convictions-louisiana-bill-638f330e0056d674f80f6f1e0fda5a12",
         "{'celebrities': []}",
         "True",
         null
        ],
        [
         "6",
         "https://apnews.com/article/fda-food-dyes-natural-color-additives-897923a5969b636e0eee848982906014",
         "{'celebrities': ['Robert F. Kennedy Jr.', 'Marty Makary']}",
         "True",
         null
        ],
        [
         "7",
         "https://apnews.com/article/newark-immigration-baraka-ice-arrest-c260a4f0fda53ec52bca691a1f68aeda",
         "{'celebrities': ['Ras Baraka', 'Donald Trump', 'Phil Murphy', 'LaMonica McIver', 'Bonnie Watson Coleman', 'Robert Menendez Jr.', 'Alina Habba', 'Tricia McLaughlin']}",
         "True",
         null
        ],
        [
         "8",
         "https://apnews.com/article/hartsfieldjackson-atlanta-airport-delays-runway-equipment-c21ff34845988c4238a5282d0d95dd34",
         "{'celebrities': []}",
         "True",
         null
        ],
        [
         "9",
         "https://apnews.com/article/watson-buccaneers-vea-8fe1af886c44c5745b84deb13bab90cb",
         "{'celebrities': ['Desmond Watson', 'Vita Vea', 'Todd Bowles']}",
         "True",
         null
        ],
        [
         "10",
         "https://apnews.com/article/michigan-us-senate-race-joe-tate-768752e358d075f368e6ef5afe1827fe",
         "{'celebrities': ['Gary Peters', 'Joe Tate', 'Gretchen Whitmer', 'Haley Stevens', 'Mallory McMorrow', 'Abdul El-Sayed', 'Mike Rogers', 'Elissa Slotkin']}",
         "True",
         null
        ],
        [
         "11",
         "https://apnews.com/article/ozturk-tufts-mahdawi-columbia-student-detained-0067c5c43e9480fa0c3f5cbf779a0d97",
         "{'celebrities': []}",
         "True",
         null
        ],
        [
         "12",
         "https://apnews.com/article/cop30-un-climate-amazon-summit-brazil-belem-d1f5d7dfe1a044e63f67506b4a563d52",
         "{'celebrities': ['Luiz Inácio Lula da Silva', 'Roberta Rodrigues', 'Helder Barbalho']}",
         "True",
         null
        ],
        [
         "13",
         "https://apnews.com/article/israel-palestinians-hamas-war-news-10-05-2025-c9b6f26c14577be19adb8903b5ac55f3",
         "{'celebrities': ['Elkana Bohbot', 'Yosef-Haim Ohana', 'Michel Illouz']}",
         "True",
         null
        ],
        [
         "14",
         "https://apnews.com/article/trump-prescription-drugs-most-favored-nation-35c281b542f0f3938489ee7e9360322b",
         "{'celebrities': ['Donald Trump']}",
         "True",
         null
        ],
        [
         "15",
         "https://apnews.com/article/pakistan-india-ceasefire-kashmir-f632f963d29b75d6bd71e6836e8cdbed",
         "{'celebrities': []}",
         "True",
         null
        ],
        [
         "16",
         "https://apnews.com/article/habeas-corpus-trump-migrants-deportations-constitution-28a598363d03bfc9448b5132c72f2b3d",
         "{'celebrities': ['Donald Trump', 'Stephen Miller', 'Abraham Lincoln', 'Roger Taney', 'Ulysses S. Grant', 'Amy Coney Barrett', 'George W. Bush']}",
         "True",
         null
        ],
        [
         "17",
         "https://apnews.com/article/miami-adarius-hayes-crash-711d620d67da6e04b6df325a1ac86f84",
         "{'celebrities': ['Adarius Hayes']}",
         "True",
         null
        ],
        [
         "18",
         "https://apnews.com/article/unrwa-schools-east-jerusalem-israel-palestinians-gaza-hamas-ce77505a6d5da1d67aa6859e4a233435",
         "{'celebrities': []}",
         "True",
         null
        ],
        [
         "19",
         "https://apnews.com/article/brazil-petrobras-ceo-amazon-comments-video-17240843cb8934f947e8da5e957ab973",
         "{'celebrities': ['Magda Chambriard', 'Clécio Luís', 'Donald Trump', 'Luiz Inácio Lula da Silva']}",
         "True",
         null
        ],
        [
         "20",
         "https://apnews.com/article/schoningen-spears-germany-neanderthals-08df345b996b6033dfdaa508aac62332",
         "{'celebrities': []}",
         "True",
         null
        ],
        [
         "21",
         "https://apnews.com/article/democracy-trump-voice-america-usaid-state-department-f5959e4d3b8d21f22a8c88bfc89842b8",
         "{'celebrities': ['Donald Trump', 'Joe Biden', 'Marco Rubio', 'Barack Obama', 'Tom Malinowski', 'Maria Salazar']}",
         "True",
         null
        ],
        [
         "22",
         "https://apnews.com/article/iran-us-nuclear-talks-oman-mideast-tensions-trump-1b47c24a5f97e20bfebbc34ad8047e90",
         "{'celebrities': ['Donald Trump', 'Ali Khamenei']}",
         "True",
         null
        ],
        [
         "23",
         "https://apnews.com/article/bangladesh-hasina-yunus-awami-league-78b40dfe9c92257f0042968c7b963c2a",
         "{'celebrities': ['Sheikh Hasina', 'Muhammad Yunus']}",
         "True",
         null
        ],
        [
         "24",
         "https://apnews.com/article/trump-qatar-gift-jet-air-force-one-7f9afb461c6b3ac16fca3bb0973715ff",
         "{'celebrities': ['Donald Trump', 'Chuck Schumer', 'Kathleen Clark', 'Donald Trump Jr.', 'Eric Trump', 'Karoline Leavitt']}",
         "True",
         null
        ],
        [
         "25",
         "https://apnews.com/article/transgender-poll-care-bathrooms-military-trump-b5c9521d3d486e87c8631a99a455df2f",
         "{'celebrities': ['Donald Trump']}",
         "True",
         null
        ],
        [
         "26",
         "https://apnews.com/article/gaza-hunger-malnutrition-food-hospital-israel-f0cf633f0a7a9ae6c23345436c5afe44",
         "{'celebrities': []}",
         "True",
         null
        ],
        [
         "27",
         "https://apnews.com/article/allergies-pollen-count-symptoms-d15a53710905ee7dec70c8e6ea7df6e0",
         "{'celebrities': []}",
         "True",
         null
        ],
        [
         "28",
         "https://apnews.com/article/trump-us-canada-trade-deficit-military-norad-spending-1417673f38f1829334a4e571ea058e03",
         "{'celebrities': ['Donald Trump', 'Anita Anand', 'Mark Carney', 'Gary Hufbauer', 'Gian Maria Milesi-Ferretti', 'Mark Cancian', 'Binyam Solomon', 'Ross Fetterly']}",
         "True",
         null
        ],
        [
         "29",
         "https://apnews.com/article/fact-check-trump-michigan-rally-gas-eggs-inflation-5cfff7971b1bcf760a324db31ea722b5",
         "{'celebrities': ['Donald Trump', 'Joe Biden', 'Kamala Harris', 'Jada Thompson', 'Scott Segal', 'Lee Zeldin']}",
         "True",
         null
        ],
        [
         "30",
         "https://apnews.com/article/abortion-late-trimester-boulder-clinic-dobbs-56ff9a6998465e4f99b12a80e60b675c",
         "{'celebrities': []}",
         "True",
         null
        ],
        [
         "31",
         "https://apnews.com/article/pope-leo-sunday-blessing-vatican-mothers-day-mary-03e1386702c4cd1dbcf8707496d708a5",
         "{'celebrities': ['Pope Leo XIV', 'Pope Pius XII', 'St. John Paul II', 'Pope Benedict XVI', 'Pope Francis']}",
         "True",
         null
        ],
        [
         "32",
         "https://apnews.com/article/bullfighting-mexico-matadors-religion-animal-cruelty-photos-65525657e00845998f894b4176450d54",
         "{'celebrities': ['Diego Silveti', 'Alejandro Talavante']}",
         "True",
         null
        ],
        [
         "33",
         "https://apnews.com/article/china-trump-trade-tariffs-bessent-economy-71a6e410a0e5771c70ac853563a8b75d",
         "{'celebrities': ['Donald Trump', 'Scott Bessent', 'Jamieson Greer', 'He Lifeng', 'Karin Keller-Sutter']}",
         "True",
         null
        ],
        [
         "34",
         "https://apnews.com/article/south-africa-us-refugees-trump-98a72fdb1f71edc960136b92cbd62db4",
         "{'celebrities': ['Donald Trump', 'Stephen Miller']}",
         "True",
         null
        ],
        [
         "35",
         "https://apnews.com/article/milwaukee-wisconsin-apartment-building-fire-sprinklers-0755584cae6a301f8c086be799c2d875",
         "{'celebrities': []}",
         "True",
         null
        ],
        [
         "36",
         "https://apnews.com/article/arizona-oak-flat-copper-mining-apache-e2e3870f2e7ed866e9e0ddab735b8412",
         "{'celebrities': ['Donald Trump', 'Joe Biden']}",
         "True",
         null
        ],
        [
         "37",
         "https://apnews.com/article/ecuador-fishermen-galapagos-rescue-adrift-missing-9d057d6947485988da1729c82873d569",
         "{'celebrities': []}",
         "True",
         null
        ],
        [
         "38",
         "https://apnews.com/article/ucrania-guerra-rusia-putin-zelenskyy-negociaciones-tregua-7b7ec52d918b2595a4a15da319e8d711",
         "{'celebrities': ['Volodymyr Zelenskyy', 'Vladímir Putin', 'Donald Trump', 'Emmanuel Macron', 'Keir Starmer', 'Friedrich Merz', 'Donald Tusk', 'Recep Tayyip Erdogan']}",
         "True",
         null
        ],
        [
         "39",
         "https://apnews.com/article/pope-leo-us-catholic-church-divisions-8121d1584e32a485e9a275a732cebdc6",
         "{'celebrities': ['Pope Leo XIV', 'Pope Francis', 'Joe Biden', 'Nancy Pelosi', 'Salvatore Cordileone', 'Chris Smith', 'Chris Wimbush', 'Robert Prevost', 'Ellie Hidalgo', 'Austen Ivereigh', 'Robert Strickland']}",
         "True",
         null
        ],
        [
         "40",
         "https://apnews.com/article/workplace-pandemic-changes-disengagement-c0a01dc68e1f2cb818de6ff3edc06bf3",
         "{'celebrities': []}",
         "True",
         null
        ],
        [
         "41",
         "https://apnews.com/article/vatican-pope-confirmation-rome-students-marymount-prevost-241cdeaaca3f46ee513b7b9d94d15bc0",
         "{'celebrities': ['Pope Leo XIV', 'Cardinal Robert Francis Prevost', 'Pope Francis', 'Sarah Gallagher']}",
         "True",
         null
        ],
        [
         "42",
         "https://apnews.com/article/pga-tour-truist-championship-95-0121472c7b4ecb5c5f4de83311964c2c",
         "{'celebrities': ['Jason Brown', 'Keegan Bradley', 'Rory McIlroy', 'Rickie Fowler', 'Tom Hoge', 'Sepp Straka', 'Keith Mitchell', 'Sean Kaufmann', 'Justin Thomas']}",
         "True",
         null
        ],
        [
         "43",
         "https://apnews.com/article/ai-virtual-reality-courtrooms-legal-challenges-arizona-f47bfd50bd22469388082169ee77b7f0",
         "{'celebrities': []}",
         "True",
         null
        ],
        [
         "44",
         "https://apnews.com/article/david-attenborough-earths-last-wilderness-ocean-review-042d8baee1cd86914e2cf526d3b74a58",
         "{'celebrities': ['David Attenborough']}",
         "True",
         null
        ],
        [
         "45",
         "https://apnews.com/article/newark-airport-flight-reduction-transportation-secretary-sean-duffy-ad7ba9d37c41425c2b7ae23a2772e313",
         "{'celebrities': ['Sean Duffy', 'Trump', 'Scott Kirby']}",
         "True",
         null
        ],
        [
         "46",
         "https://apnews.com/article/rfk-vaccines-autism-measles-obesity-food-dye-f26089856550e978d28fd25b653d8103",
         "{'celebrities': ['Robert F. Kennedy Jr.', 'Donald Trump', 'Sean Hannity']}",
         "True",
         null
        ],
        [
         "47",
         "https://apnews.com/article/louisiana-senate-cassidy-letlow-landry-trump-2026-632a2c454f82918ca84f94259129930d",
         "{'celebrities': ['Donald Trump', 'Bill Cassidy', 'Julia Letlow', 'Robert F. Kennedy Jr.', 'Eddie Rispone', 'Luke Letlow']}",
         "True",
         null
        ],
        [
         "48",
         "https://apnews.com/article/box-office-thunderbolts-sinners-c614343b78ae80fd1e1abf8f97e7473e",
         "{'celebrities': ['Kerry Washington', 'Josh Hartnett', 'Paul Rudd']}",
         "True",
         null
        ],
        [
         "49",
         "https://apnews.com/article/immigration-trump-wellbeing-acupuncture-reiki-church-minnesota-6b52091480d7439852fe05296ef9c1ab",
         "{'celebrities': []}",
         "True",
         null
        ]
       ],
       "shape": {
        "columns": 4,
        "rows": 100
       }
      },
      "text/html": [
       "<div>\n",
       "<style scoped>\n",
       "    .dataframe tbody tr th:only-of-type {\n",
       "        vertical-align: middle;\n",
       "    }\n",
       "\n",
       "    .dataframe tbody tr th {\n",
       "        vertical-align: top;\n",
       "    }\n",
       "\n",
       "    .dataframe thead th {\n",
       "        text-align: right;\n",
       "    }\n",
       "</style>\n",
       "<table border=\"1\" class=\"dataframe\">\n",
       "  <thead>\n",
       "    <tr style=\"text-align: right;\">\n",
       "      <th></th>\n",
       "      <th>link</th>\n",
       "      <th>output</th>\n",
       "      <th>analysis_success</th>\n",
       "      <th>analysis_error</th>\n",
       "    </tr>\n",
       "  </thead>\n",
       "  <tbody>\n",
       "    <tr>\n",
       "      <th>0</th>\n",
       "      <td>https://apnews.com/article/spain-fire-chemical...</td>\n",
       "      <td>{'celebrities': []}</td>\n",
       "      <td>True</td>\n",
       "      <td>None</td>\n",
       "    </tr>\n",
       "    <tr>\n",
       "      <th>1</th>\n",
       "      <td>https://apnews.com/article/zealand-snail-egg-n...</td>\n",
       "      <td>{'celebrities': []}</td>\n",
       "      <td>True</td>\n",
       "      <td>None</td>\n",
       "    </tr>\n",
       "    <tr>\n",
       "      <th>2</th>\n",
       "      <td>https://apnews.com/article/indigenous-colombia...</td>\n",
       "      <td>{'celebrities': []}</td>\n",
       "      <td>True</td>\n",
       "      <td>None</td>\n",
       "    </tr>\n",
       "    <tr>\n",
       "      <th>3</th>\n",
       "      <td>https://apnews.com/article/nhl-playoffs-jets-s...</td>\n",
       "      <td>{'celebrities': ['Mikko Rantanen', 'Alexander ...</td>\n",
       "      <td>True</td>\n",
       "      <td>None</td>\n",
       "    </tr>\n",
       "    <tr>\n",
       "      <th>4</th>\n",
       "      <td>https://apnews.com/article/cannes-film-festiva...</td>\n",
       "      <td>{'celebrities': ['Donald Trump', 'Kleber Mendo...</td>\n",
       "      <td>True</td>\n",
       "      <td>None</td>\n",
       "    </tr>\n",
       "    <tr>\n",
       "      <th>...</th>\n",
       "      <td>...</td>\n",
       "      <td>...</td>\n",
       "      <td>...</td>\n",
       "      <td>...</td>\n",
       "    </tr>\n",
       "    <tr>\n",
       "      <th>95</th>\n",
       "      <td>https://apnews.com/article/eeuu-china-comercio...</td>\n",
       "      <td>{'celebrities': ['Donald Trump', 'Scott Bessen...</td>\n",
       "      <td>True</td>\n",
       "      <td>None</td>\n",
       "    </tr>\n",
       "    <tr>\n",
       "      <th>96</th>\n",
       "      <td>https://apnews.com/article/how-to-drop-an-egg-...</td>\n",
       "      <td>{'celebrities': []}</td>\n",
       "      <td>True</td>\n",
       "      <td>None</td>\n",
       "    </tr>\n",
       "    <tr>\n",
       "      <th>97</th>\n",
       "      <td>https://apnews.com/article/israel-palestinians...</td>\n",
       "      <td>{'celebrities': ['Donald Trump', 'Benjamin Net...</td>\n",
       "      <td>True</td>\n",
       "      <td>None</td>\n",
       "    </tr>\n",
       "    <tr>\n",
       "      <th>98</th>\n",
       "      <td>https://apnews.com/article/poland-ukrainians-p...</td>\n",
       "      <td>{'celebrities': ['Donald Trump', 'Andrzej Duda...</td>\n",
       "      <td>True</td>\n",
       "      <td>None</td>\n",
       "    </tr>\n",
       "    <tr>\n",
       "      <th>99</th>\n",
       "      <td>https://apnews.com/article/vaticano-papa-gaza-...</td>\n",
       "      <td>{'celebrities': ['papa León XIV', 'papa Franci...</td>\n",
       "      <td>True</td>\n",
       "      <td>None</td>\n",
       "    </tr>\n",
       "  </tbody>\n",
       "</table>\n",
       "<p>100 rows × 4 columns</p>\n",
       "</div>"
      ],
      "text/plain": [
       "                                                 link  \\\n",
       "0   https://apnews.com/article/spain-fire-chemical...   \n",
       "1   https://apnews.com/article/zealand-snail-egg-n...   \n",
       "2   https://apnews.com/article/indigenous-colombia...   \n",
       "3   https://apnews.com/article/nhl-playoffs-jets-s...   \n",
       "4   https://apnews.com/article/cannes-film-festiva...   \n",
       "..                                                ...   \n",
       "95  https://apnews.com/article/eeuu-china-comercio...   \n",
       "96  https://apnews.com/article/how-to-drop-an-egg-...   \n",
       "97  https://apnews.com/article/israel-palestinians...   \n",
       "98  https://apnews.com/article/poland-ukrainians-p...   \n",
       "99  https://apnews.com/article/vaticano-papa-gaza-...   \n",
       "\n",
       "                                               output  analysis_success  \\\n",
       "0                                 {'celebrities': []}              True   \n",
       "1                                 {'celebrities': []}              True   \n",
       "2                                 {'celebrities': []}              True   \n",
       "3   {'celebrities': ['Mikko Rantanen', 'Alexander ...              True   \n",
       "4   {'celebrities': ['Donald Trump', 'Kleber Mendo...              True   \n",
       "..                                                ...               ...   \n",
       "95  {'celebrities': ['Donald Trump', 'Scott Bessen...              True   \n",
       "96                                {'celebrities': []}              True   \n",
       "97  {'celebrities': ['Donald Trump', 'Benjamin Net...              True   \n",
       "98  {'celebrities': ['Donald Trump', 'Andrzej Duda...              True   \n",
       "99  {'celebrities': ['papa León XIV', 'papa Franci...              True   \n",
       "\n",
       "   analysis_error  \n",
       "0            None  \n",
       "1            None  \n",
       "2            None  \n",
       "3            None  \n",
       "4            None  \n",
       "..            ...  \n",
       "95           None  \n",
       "96           None  \n",
       "97           None  \n",
       "98           None  \n",
       "99           None  \n",
       "\n",
       "[100 rows x 4 columns]"
      ]
     },
     "metadata": {},
     "output_type": "display_data"
    }
   ],
   "source": [
    "# Analyze the scraped content\n",
    "workflow.analyze()\n",
    "\n",
    "# Display the analyses\n",
    "display(workflow.get_analyses())"
   ]
  },
  {
   "cell_type": "markdown",
   "metadata": {},
   "source": [
    "## Compile the results\n",
    "Finally, let's export the completed analysis. "
   ]
  },
  {
   "cell_type": "code",
   "execution_count": 8,
   "metadata": {},
   "outputs": [
    {
     "data": {
      "application/vnd.microsoft.datawrangler.viewer.v0+json": {
       "columns": [
        {
         "name": "index",
         "rawType": "int64",
         "type": "integer"
        },
        {
         "name": "link",
         "rawType": "object",
         "type": "string"
        },
        {
         "name": "celebrities",
         "rawType": "object",
         "type": "unknown"
        }
       ],
       "conversionMethod": "pd.DataFrame",
       "ref": "79c6adc7-119a-42cd-95f2-462dc6564719",
       "rows": [
        [
         "0",
         "https://apnews.com/article/spain-fire-chemical-plant-vilanova-warehouse-chlorine-25bdfc5ce0f95ece3d4b816d11ccbb55",
         "[]"
        ],
        [
         "1",
         "https://apnews.com/article/zealand-snail-egg-neck-powelliphanta-augusta-3cb8082547a83b8c47848b6621c06cb0",
         "[]"
        ],
        [
         "2",
         "https://apnews.com/article/indigenous-colombia-land-rights-self-government-brazil-amazon-dcf2341bf8d60d82e3c641df164ade85",
         "[]"
        ],
        [
         "3",
         "https://apnews.com/article/nhl-playoffs-jets-stars-score-b8facdf252825772b72a5f7af8337542",
         "['Mikko Rantanen', 'Alexander Petrovic', 'Connor Hellebuyck', 'Pete DeBoer', 'Scott Arniel', 'Roope Hintz', 'Wyatt Johnston', 'Sam Steel', 'Mikael Granlund', 'Thomas Harley', 'Jake Oettinger', 'Nino Niederreiter', 'Josh Morrissey', 'Colin Blackwell', 'Kyle Connor']"
        ],
        [
         "4",
         "https://apnews.com/article/cannes-film-festival-2025-what-to-expect-d289e6798571dd31943dc3d6d3a2d556",
         "['Donald Trump', 'Kleber Mendonça Filho', 'Spike Lee', 'Wes Anderson', 'Lynne Ramsay', 'Richard Linklater', 'Ari Aster', 'Jennifer Lawrence', 'Denzel Washington', 'Robert Pattinson', 'Kristen Stewart', 'Jafar Panahi', 'Sergei Loznitsa', 'Akinola Davies Jr.', 'Oliver Hermanus', 'Paul Mescal', \"Josh O'Connor\", 'Chie Hayakawa', 'Scarlett Johansson', 'Harris Dickinson', 'Tom Cruise', 'Robert De Niro', 'Quentin Tarantino']"
        ],
        [
         "5",
         "https://apnews.com/article/split-juries-convictions-louisiana-bill-638f330e0056d674f80f6f1e0fda5a12",
         "[]"
        ],
        [
         "6",
         "https://apnews.com/article/fda-food-dyes-natural-color-additives-897923a5969b636e0eee848982906014",
         "['Robert F. Kennedy Jr.', 'Marty Makary']"
        ],
        [
         "7",
         "https://apnews.com/article/newark-immigration-baraka-ice-arrest-c260a4f0fda53ec52bca691a1f68aeda",
         "['Ras Baraka', 'Donald Trump', 'Phil Murphy', 'LaMonica McIver', 'Bonnie Watson Coleman', 'Robert Menendez Jr.', 'Alina Habba', 'Tricia McLaughlin']"
        ],
        [
         "8",
         "https://apnews.com/article/hartsfieldjackson-atlanta-airport-delays-runway-equipment-c21ff34845988c4238a5282d0d95dd34",
         "[]"
        ],
        [
         "9",
         "https://apnews.com/article/watson-buccaneers-vea-8fe1af886c44c5745b84deb13bab90cb",
         "['Desmond Watson', 'Vita Vea', 'Todd Bowles']"
        ],
        [
         "10",
         "https://apnews.com/article/michigan-us-senate-race-joe-tate-768752e358d075f368e6ef5afe1827fe",
         "['Gary Peters', 'Joe Tate', 'Gretchen Whitmer', 'Haley Stevens', 'Mallory McMorrow', 'Abdul El-Sayed', 'Mike Rogers', 'Elissa Slotkin']"
        ],
        [
         "11",
         "https://apnews.com/article/ozturk-tufts-mahdawi-columbia-student-detained-0067c5c43e9480fa0c3f5cbf779a0d97",
         "[]"
        ],
        [
         "12",
         "https://apnews.com/article/cop30-un-climate-amazon-summit-brazil-belem-d1f5d7dfe1a044e63f67506b4a563d52",
         "['Luiz Inácio Lula da Silva', 'Roberta Rodrigues', 'Helder Barbalho']"
        ],
        [
         "13",
         "https://apnews.com/article/israel-palestinians-hamas-war-news-10-05-2025-c9b6f26c14577be19adb8903b5ac55f3",
         "['Elkana Bohbot', 'Yosef-Haim Ohana', 'Michel Illouz']"
        ],
        [
         "14",
         "https://apnews.com/article/trump-prescription-drugs-most-favored-nation-35c281b542f0f3938489ee7e9360322b",
         "['Donald Trump']"
        ],
        [
         "15",
         "https://apnews.com/article/pakistan-india-ceasefire-kashmir-f632f963d29b75d6bd71e6836e8cdbed",
         "[]"
        ],
        [
         "16",
         "https://apnews.com/article/habeas-corpus-trump-migrants-deportations-constitution-28a598363d03bfc9448b5132c72f2b3d",
         "['Donald Trump', 'Stephen Miller', 'Abraham Lincoln', 'Roger Taney', 'Ulysses S. Grant', 'Amy Coney Barrett', 'George W. Bush']"
        ],
        [
         "17",
         "https://apnews.com/article/miami-adarius-hayes-crash-711d620d67da6e04b6df325a1ac86f84",
         "['Adarius Hayes']"
        ],
        [
         "18",
         "https://apnews.com/article/unrwa-schools-east-jerusalem-israel-palestinians-gaza-hamas-ce77505a6d5da1d67aa6859e4a233435",
         "[]"
        ],
        [
         "19",
         "https://apnews.com/article/brazil-petrobras-ceo-amazon-comments-video-17240843cb8934f947e8da5e957ab973",
         "['Magda Chambriard', 'Clécio Luís', 'Donald Trump', 'Luiz Inácio Lula da Silva']"
        ],
        [
         "20",
         "https://apnews.com/article/schoningen-spears-germany-neanderthals-08df345b996b6033dfdaa508aac62332",
         "[]"
        ],
        [
         "21",
         "https://apnews.com/article/democracy-trump-voice-america-usaid-state-department-f5959e4d3b8d21f22a8c88bfc89842b8",
         "['Donald Trump', 'Joe Biden', 'Marco Rubio', 'Barack Obama', 'Tom Malinowski', 'Maria Salazar']"
        ],
        [
         "22",
         "https://apnews.com/article/iran-us-nuclear-talks-oman-mideast-tensions-trump-1b47c24a5f97e20bfebbc34ad8047e90",
         "['Donald Trump', 'Ali Khamenei']"
        ],
        [
         "23",
         "https://apnews.com/article/bangladesh-hasina-yunus-awami-league-78b40dfe9c92257f0042968c7b963c2a",
         "['Sheikh Hasina', 'Muhammad Yunus']"
        ],
        [
         "24",
         "https://apnews.com/article/trump-qatar-gift-jet-air-force-one-7f9afb461c6b3ac16fca3bb0973715ff",
         "['Donald Trump', 'Chuck Schumer', 'Kathleen Clark', 'Donald Trump Jr.', 'Eric Trump', 'Karoline Leavitt']"
        ],
        [
         "25",
         "https://apnews.com/article/transgender-poll-care-bathrooms-military-trump-b5c9521d3d486e87c8631a99a455df2f",
         "['Donald Trump']"
        ],
        [
         "26",
         "https://apnews.com/article/gaza-hunger-malnutrition-food-hospital-israel-f0cf633f0a7a9ae6c23345436c5afe44",
         "[]"
        ],
        [
         "27",
         "https://apnews.com/article/allergies-pollen-count-symptoms-d15a53710905ee7dec70c8e6ea7df6e0",
         "[]"
        ],
        [
         "28",
         "https://apnews.com/article/trump-us-canada-trade-deficit-military-norad-spending-1417673f38f1829334a4e571ea058e03",
         "['Donald Trump', 'Anita Anand', 'Mark Carney', 'Gary Hufbauer', 'Gian Maria Milesi-Ferretti', 'Mark Cancian', 'Binyam Solomon', 'Ross Fetterly']"
        ],
        [
         "29",
         "https://apnews.com/article/fact-check-trump-michigan-rally-gas-eggs-inflation-5cfff7971b1bcf760a324db31ea722b5",
         "['Donald Trump', 'Joe Biden', 'Kamala Harris', 'Jada Thompson', 'Scott Segal', 'Lee Zeldin']"
        ],
        [
         "30",
         "https://apnews.com/article/abortion-late-trimester-boulder-clinic-dobbs-56ff9a6998465e4f99b12a80e60b675c",
         "[]"
        ],
        [
         "31",
         "https://apnews.com/article/pope-leo-sunday-blessing-vatican-mothers-day-mary-03e1386702c4cd1dbcf8707496d708a5",
         "['Pope Leo XIV', 'Pope Pius XII', 'St. John Paul II', 'Pope Benedict XVI', 'Pope Francis']"
        ],
        [
         "32",
         "https://apnews.com/article/bullfighting-mexico-matadors-religion-animal-cruelty-photos-65525657e00845998f894b4176450d54",
         "['Diego Silveti', 'Alejandro Talavante']"
        ],
        [
         "33",
         "https://apnews.com/article/china-trump-trade-tariffs-bessent-economy-71a6e410a0e5771c70ac853563a8b75d",
         "['Donald Trump', 'Scott Bessent', 'Jamieson Greer', 'He Lifeng', 'Karin Keller-Sutter']"
        ],
        [
         "34",
         "https://apnews.com/article/south-africa-us-refugees-trump-98a72fdb1f71edc960136b92cbd62db4",
         "['Donald Trump', 'Stephen Miller']"
        ],
        [
         "35",
         "https://apnews.com/article/milwaukee-wisconsin-apartment-building-fire-sprinklers-0755584cae6a301f8c086be799c2d875",
         "[]"
        ],
        [
         "36",
         "https://apnews.com/article/arizona-oak-flat-copper-mining-apache-e2e3870f2e7ed866e9e0ddab735b8412",
         "['Donald Trump', 'Joe Biden']"
        ],
        [
         "37",
         "https://apnews.com/article/ecuador-fishermen-galapagos-rescue-adrift-missing-9d057d6947485988da1729c82873d569",
         "[]"
        ],
        [
         "38",
         "https://apnews.com/article/ucrania-guerra-rusia-putin-zelenskyy-negociaciones-tregua-7b7ec52d918b2595a4a15da319e8d711",
         "['Volodymyr Zelenskyy', 'Vladímir Putin', 'Donald Trump', 'Emmanuel Macron', 'Keir Starmer', 'Friedrich Merz', 'Donald Tusk', 'Recep Tayyip Erdogan']"
        ],
        [
         "39",
         "https://apnews.com/article/pope-leo-us-catholic-church-divisions-8121d1584e32a485e9a275a732cebdc6",
         "['Pope Leo XIV', 'Pope Francis', 'Joe Biden', 'Nancy Pelosi', 'Salvatore Cordileone', 'Chris Smith', 'Chris Wimbush', 'Robert Prevost', 'Ellie Hidalgo', 'Austen Ivereigh', 'Robert Strickland']"
        ],
        [
         "40",
         "https://apnews.com/article/workplace-pandemic-changes-disengagement-c0a01dc68e1f2cb818de6ff3edc06bf3",
         "[]"
        ],
        [
         "41",
         "https://apnews.com/article/vatican-pope-confirmation-rome-students-marymount-prevost-241cdeaaca3f46ee513b7b9d94d15bc0",
         "['Pope Leo XIV', 'Cardinal Robert Francis Prevost', 'Pope Francis', 'Sarah Gallagher']"
        ],
        [
         "42",
         "https://apnews.com/article/pga-tour-truist-championship-95-0121472c7b4ecb5c5f4de83311964c2c",
         "['Jason Brown', 'Keegan Bradley', 'Rory McIlroy', 'Rickie Fowler', 'Tom Hoge', 'Sepp Straka', 'Keith Mitchell', 'Sean Kaufmann', 'Justin Thomas']"
        ],
        [
         "43",
         "https://apnews.com/article/ai-virtual-reality-courtrooms-legal-challenges-arizona-f47bfd50bd22469388082169ee77b7f0",
         "[]"
        ],
        [
         "44",
         "https://apnews.com/article/david-attenborough-earths-last-wilderness-ocean-review-042d8baee1cd86914e2cf526d3b74a58",
         "['David Attenborough']"
        ],
        [
         "45",
         "https://apnews.com/article/newark-airport-flight-reduction-transportation-secretary-sean-duffy-ad7ba9d37c41425c2b7ae23a2772e313",
         "['Sean Duffy', 'Trump', 'Scott Kirby']"
        ],
        [
         "46",
         "https://apnews.com/article/rfk-vaccines-autism-measles-obesity-food-dye-f26089856550e978d28fd25b653d8103",
         "['Robert F. Kennedy Jr.', 'Donald Trump', 'Sean Hannity']"
        ],
        [
         "47",
         "https://apnews.com/article/louisiana-senate-cassidy-letlow-landry-trump-2026-632a2c454f82918ca84f94259129930d",
         "['Donald Trump', 'Bill Cassidy', 'Julia Letlow', 'Robert F. Kennedy Jr.', 'Eddie Rispone', 'Luke Letlow']"
        ],
        [
         "48",
         "https://apnews.com/article/box-office-thunderbolts-sinners-c614343b78ae80fd1e1abf8f97e7473e",
         "['Kerry Washington', 'Josh Hartnett', 'Paul Rudd']"
        ],
        [
         "49",
         "https://apnews.com/article/immigration-trump-wellbeing-acupuncture-reiki-church-minnesota-6b52091480d7439852fe05296ef9c1ab",
         "[]"
        ]
       ],
       "shape": {
        "columns": 2,
        "rows": 135
       }
      },
      "text/html": [
       "<div>\n",
       "<style scoped>\n",
       "    .dataframe tbody tr th:only-of-type {\n",
       "        vertical-align: middle;\n",
       "    }\n",
       "\n",
       "    .dataframe tbody tr th {\n",
       "        vertical-align: top;\n",
       "    }\n",
       "\n",
       "    .dataframe thead th {\n",
       "        text-align: right;\n",
       "    }\n",
       "</style>\n",
       "<table border=\"1\" class=\"dataframe\">\n",
       "  <thead>\n",
       "    <tr style=\"text-align: right;\">\n",
       "      <th></th>\n",
       "      <th>link</th>\n",
       "      <th>celebrities</th>\n",
       "    </tr>\n",
       "  </thead>\n",
       "  <tbody>\n",
       "    <tr>\n",
       "      <th>0</th>\n",
       "      <td>https://apnews.com/article/spain-fire-chemical...</td>\n",
       "      <td>[]</td>\n",
       "    </tr>\n",
       "    <tr>\n",
       "      <th>1</th>\n",
       "      <td>https://apnews.com/article/zealand-snail-egg-n...</td>\n",
       "      <td>[]</td>\n",
       "    </tr>\n",
       "    <tr>\n",
       "      <th>2</th>\n",
       "      <td>https://apnews.com/article/indigenous-colombia...</td>\n",
       "      <td>[]</td>\n",
       "    </tr>\n",
       "    <tr>\n",
       "      <th>3</th>\n",
       "      <td>https://apnews.com/article/nhl-playoffs-jets-s...</td>\n",
       "      <td>[Mikko Rantanen, Alexander Petrovic, Connor He...</td>\n",
       "    </tr>\n",
       "    <tr>\n",
       "      <th>4</th>\n",
       "      <td>https://apnews.com/article/cannes-film-festiva...</td>\n",
       "      <td>[Donald Trump, Kleber Mendonça Filho, Spike Le...</td>\n",
       "    </tr>\n",
       "    <tr>\n",
       "      <th>...</th>\n",
       "      <td>...</td>\n",
       "      <td>...</td>\n",
       "    </tr>\n",
       "    <tr>\n",
       "      <th>130</th>\n",
       "      <td>https://apnews.com/article/candy-crush-ai-arti...</td>\n",
       "      <td>NaN</td>\n",
       "    </tr>\n",
       "    <tr>\n",
       "      <th>131</th>\n",
       "      <td>https://apnews.com/article/autism-kennedy-rfk-...</td>\n",
       "      <td>NaN</td>\n",
       "    </tr>\n",
       "    <tr>\n",
       "      <th>132</th>\n",
       "      <td>https://apnews.com/article/gold-prices-high-ta...</td>\n",
       "      <td>NaN</td>\n",
       "    </tr>\n",
       "    <tr>\n",
       "      <th>133</th>\n",
       "      <td>https://apnews.com/article/venice-arts-biennal...</td>\n",
       "      <td>NaN</td>\n",
       "    </tr>\n",
       "    <tr>\n",
       "      <th>134</th>\n",
       "      <td>https://apnews.com/article/amber-heard-twins-8...</td>\n",
       "      <td>NaN</td>\n",
       "    </tr>\n",
       "  </tbody>\n",
       "</table>\n",
       "<p>135 rows × 2 columns</p>\n",
       "</div>"
      ],
      "text/plain": [
       "                                                  link  \\\n",
       "0    https://apnews.com/article/spain-fire-chemical...   \n",
       "1    https://apnews.com/article/zealand-snail-egg-n...   \n",
       "2    https://apnews.com/article/indigenous-colombia...   \n",
       "3    https://apnews.com/article/nhl-playoffs-jets-s...   \n",
       "4    https://apnews.com/article/cannes-film-festiva...   \n",
       "..                                                 ...   \n",
       "130  https://apnews.com/article/candy-crush-ai-arti...   \n",
       "131  https://apnews.com/article/autism-kennedy-rfk-...   \n",
       "132  https://apnews.com/article/gold-prices-high-ta...   \n",
       "133  https://apnews.com/article/venice-arts-biennal...   \n",
       "134  https://apnews.com/article/amber-heard-twins-8...   \n",
       "\n",
       "                                           celebrities  \n",
       "0                                                   []  \n",
       "1                                                   []  \n",
       "2                                                   []  \n",
       "3    [Mikko Rantanen, Alexander Petrovic, Connor He...  \n",
       "4    [Donald Trump, Kleber Mendonça Filho, Spike Le...  \n",
       "..                                                 ...  \n",
       "130                                                NaN  \n",
       "131                                                NaN  \n",
       "132                                                NaN  \n",
       "133                                                NaN  \n",
       "134                                                NaN  \n",
       "\n",
       "[135 rows x 2 columns]"
      ]
     },
     "metadata": {},
     "output_type": "display_data"
    }
   ],
   "source": [
    "export_df = workflow.export()\n",
    "display(export_df)"
   ]
  },
  {
   "cell_type": "markdown",
   "metadata": {},
   "source": [
    "## Analyze the results\n",
    "Now you can conduct your own analysis on the structured data collected by the scraipe workflow."
   ]
  },
  {
   "cell_type": "code",
   "execution_count": 9,
   "metadata": {},
   "outputs": [
    {
     "data": {
      "application/vnd.microsoft.datawrangler.viewer.v0+json": {
       "columns": [
        {
         "name": "index",
         "rawType": "int64",
         "type": "integer"
        },
        {
         "name": "celebrity",
         "rawType": "object",
         "type": "string"
        },
        {
         "name": "mentions",
         "rawType": "int64",
         "type": "integer"
        }
       ],
       "conversionMethod": "pd.DataFrame",
       "ref": "7c677b6f-6a34-46ad-9162-830e8d03a513",
       "rows": [
        [
         "0",
         "Donald Trump",
         "26"
        ],
        [
         "1",
         "Joe Biden",
         "5"
        ],
        [
         "2",
         "Robert F. Kennedy Jr.",
         "5"
        ],
        [
         "3",
         "Pope Leo XIV",
         "4"
        ],
        [
         "4",
         "Pope Francis",
         "4"
        ],
        [
         "5",
         "Robert Prevost",
         "3"
        ],
        [
         "15",
         "Keir Starmer",
         "2"
        ],
        [
         "17",
         "Sheikh Hasina",
         "2"
        ],
        [
         "16",
         "Donald Tusk",
         "2"
        ],
        [
         "6",
         "Stephen Miller",
         "2"
        ]
       ],
       "shape": {
        "columns": 2,
        "rows": 10
       }
      },
      "text/html": [
       "<div>\n",
       "<style scoped>\n",
       "    .dataframe tbody tr th:only-of-type {\n",
       "        vertical-align: middle;\n",
       "    }\n",
       "\n",
       "    .dataframe tbody tr th {\n",
       "        vertical-align: top;\n",
       "    }\n",
       "\n",
       "    .dataframe thead th {\n",
       "        text-align: right;\n",
       "    }\n",
       "</style>\n",
       "<table border=\"1\" class=\"dataframe\">\n",
       "  <thead>\n",
       "    <tr style=\"text-align: right;\">\n",
       "      <th></th>\n",
       "      <th>celebrity</th>\n",
       "      <th>mentions</th>\n",
       "    </tr>\n",
       "  </thead>\n",
       "  <tbody>\n",
       "    <tr>\n",
       "      <th>0</th>\n",
       "      <td>Donald Trump</td>\n",
       "      <td>26</td>\n",
       "    </tr>\n",
       "    <tr>\n",
       "      <th>1</th>\n",
       "      <td>Joe Biden</td>\n",
       "      <td>5</td>\n",
       "    </tr>\n",
       "    <tr>\n",
       "      <th>2</th>\n",
       "      <td>Robert F. Kennedy Jr.</td>\n",
       "      <td>5</td>\n",
       "    </tr>\n",
       "    <tr>\n",
       "      <th>3</th>\n",
       "      <td>Pope Leo XIV</td>\n",
       "      <td>4</td>\n",
       "    </tr>\n",
       "    <tr>\n",
       "      <th>4</th>\n",
       "      <td>Pope Francis</td>\n",
       "      <td>4</td>\n",
       "    </tr>\n",
       "    <tr>\n",
       "      <th>5</th>\n",
       "      <td>Robert Prevost</td>\n",
       "      <td>3</td>\n",
       "    </tr>\n",
       "    <tr>\n",
       "      <th>15</th>\n",
       "      <td>Keir Starmer</td>\n",
       "      <td>2</td>\n",
       "    </tr>\n",
       "    <tr>\n",
       "      <th>17</th>\n",
       "      <td>Sheikh Hasina</td>\n",
       "      <td>2</td>\n",
       "    </tr>\n",
       "    <tr>\n",
       "      <th>16</th>\n",
       "      <td>Donald Tusk</td>\n",
       "      <td>2</td>\n",
       "    </tr>\n",
       "    <tr>\n",
       "      <th>6</th>\n",
       "      <td>Stephen Miller</td>\n",
       "      <td>2</td>\n",
       "    </tr>\n",
       "  </tbody>\n",
       "</table>\n",
       "</div>"
      ],
      "text/plain": [
       "                celebrity  mentions\n",
       "0            Donald Trump        26\n",
       "1               Joe Biden         5\n",
       "2   Robert F. Kennedy Jr.         5\n",
       "3            Pope Leo XIV         4\n",
       "4            Pope Francis         4\n",
       "5          Robert Prevost         3\n",
       "15           Keir Starmer         2\n",
       "17          Sheikh Hasina         2\n",
       "16            Donald Tusk         2\n",
       "6          Stephen Miller         2"
      ]
     },
     "execution_count": 9,
     "metadata": {},
     "output_type": "execute_result"
    }
   ],
   "source": [
    "# Explode the nested list of celebrities\n",
    "export_df = export_df.explode('celebrities')\n",
    "export_df['celebrities'] = export_df['celebrities'].str.strip()\n",
    "\n",
    "# Display the top 10 most mentioned celebrities\n",
    "export_df = export_df['celebrities'].value_counts().reset_index()\n",
    "export_df.columns = ['celebrity', 'mentions']\n",
    "export_df = export_df.sort_values('mentions', ascending=False)\n",
    "export_df.head(10)"
   ]
  }
 ],
 "metadata": {
  "kernelspec": {
   "display_name": "scraipe",
   "language": "python",
   "name": "python3"
  },
  "language_info": {
   "codemirror_mode": {
    "name": "ipython",
    "version": 3
   },
   "file_extension": ".py",
   "mimetype": "text/x-python",
   "name": "python",
   "nbconvert_exporter": "python",
   "pygments_lexer": "ipython3",
   "version": "3.12.9"
  }
 },
 "nbformat": 4,
 "nbformat_minor": 2
}
