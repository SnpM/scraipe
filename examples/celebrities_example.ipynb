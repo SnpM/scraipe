{
 "cells": [
  {
   "cell_type": "markdown",
   "metadata": {},
   "source": [
    "# Celebrity Mentions\n",
    "*Example Usage of Scraipe Library*\n",
    "\n",
    "Here's a quick example using scraipe to extract mentions of celebrities in news articles."
   ]
  },
  {
   "cell_type": "markdown",
   "metadata": {},
   "source": [
    "## Setup\n",
    "Install and import things we need. We will use `NewsScraper` and `OpenAiAnalyzer` from the `scraipe[extended]` subpackage.\n",
    "\n",
    "We will also load [your OpenAI API key](https://help.openai.com/en/articles/4936850-where-do-i-find-my-openai-api-key) from a file called 'openai_key.txt'. This file should be in the same folder as this notebook."
   ]
  },
  {
   "cell_type": "code",
   "execution_count": null,
   "metadata": {},
   "outputs": [
    {
     "name": "stdout",
     "output_type": "stream",
     "text": [
      "Note: you may need to restart the kernel to use updated packages.\n",
      "Version: 0.0.0\n",
      "Note: you may need to restart the kernel to use updated packages.\n"
     ]
    }
   ],
   "source": [
    "# Install scraipe package from repo\n",
    "%pip install -qe ..\n",
    "# Alternatively, install scraipe from PyPI:\n",
    "#%pip install --upgrade --quiet scraipe\n",
    "\n",
    "# Check package version\n",
    "!pip show scraipe | grep Version\n",
    "\n",
    "# Install notebook widgets for cleaner output\n",
    "%pip install --quiet ipywidgets"
   ]
  },
  {
   "cell_type": "code",
   "execution_count": 2,
   "metadata": {},
   "outputs": [],
   "source": [
    "\n",
    "# Import modules\n",
    "import pandas as pd\n",
    "from scraipe import Workflow\n",
    "from scraipe.extended import NewsScraper, OpenAiAnalyzer\n",
    "from pydantic import BaseModel\n",
    "\n",
    "# Load OpenAI API key\n",
    "OPENAI_API_KEY = open(\"openai_key.txt\").read().strip()"
   ]
  },
  {
   "cell_type": "markdown",
   "metadata": {},
   "source": [
    "## Extract links\n",
    "First, we need a list of links to target with scraipe. We will extract all links from the front page of https://apnews.com."
   ]
  },
  {
   "cell_type": "code",
   "execution_count": 4,
   "metadata": {},
   "outputs": [
    {
     "name": "stdout",
     "output_type": "stream",
     "text": [
      "Found 139 front page AP News links on 2025-05-10\n"
     ]
    },
    {
     "data": {
      "application/vnd.microsoft.datawrangler.viewer.v0+json": {
       "columns": [
        {
         "name": "index",
         "rawType": "int64",
         "type": "integer"
        },
        {
         "name": "link",
         "rawType": "object",
         "type": "string"
        }
       ],
       "conversionMethod": "pd.DataFrame",
       "ref": "abf053ab-90d0-46d6-a90b-4dc0fb6173bb",
       "rows": [
        [
         "0",
         "https://apnews.com/article/xi-beijing-min-aung-hlaing-lashio-aad2a493d0e80a3050e2c08d9aa57e1f"
        ],
        [
         "1",
         "https://apnews.com/article/pope-leo-xiv-humor-chicago-19f477fd02c571cf279b2365678298fe"
        ],
        [
         "2",
         "https://apnews.com/article/papa-leon-vision-papado-inteligencia-artificial-37452ba330a12df5f26c8b98f70c2a63"
        ],
        [
         "3",
         "https://apnews.com/article/rusia-ucrania-guerra-alemania-polonia-francia-reino-unido-330374d4b6d6a311ad074bb79beada9d"
        ],
        [
         "4",
         "https://apnews.com/article/smokey-robinson-la-lawsuit-sexual-assault-1512119eb018782fffad29d1d0358724"
        ],
        [
         "5",
         "https://apnews.com/article/fear-of-flying-8e348402efc654a7248fb9fe4e5df852"
        ],
        [
         "6",
         "https://apnews.com/article/james-foley-dead-3ae3f63ac80d2505ba7db9b57e433193"
        ],
        [
         "7",
         "https://apnews.com/article/pakistan-india-ataques-misiles-cachemira-fc2d0aaf602f89b66f7015486ad1fb8a"
        ],
        [
         "8",
         "https://apnews.com/article/pope-ap-phone-call-dd591e3175ac8be1c895f2cc1e7c915f"
        ],
        [
         "9",
         "https://apnews.com/article/pope-leo-vision-papacy-artificial-intelligence-36d29e37a11620b594b9b7c0574cc358"
        ],
        [
         "10",
         "https://apnews.com/article/rfk-vaccines-autism-measles-obesity-food-dye-f26089856550e978d28fd25b653d8103"
        ],
        [
         "11",
         "https://apnews.com/article/nba-playoffs-2025-knicks-celtics-score-2433bf408baf56ce06aaaf15be2a0988"
        ],
        [
         "12",
         "https://apnews.com/article/video-game-hall-of-fame-defender-tamagotchi-2e4ad6ec2258d482dc3a34ed324ee7f5"
        ],
        [
         "13",
         "https://apnews.com/article/quakers-protest-march-trump-immigration-crackdown-af1ae4a3a608e59f97c96c8b7cf660a2"
        ],
        [
         "14",
         "https://apnews.com/article/pope-leo-creole-roots-new-orleans-black-b5794961d9582941413fe3154b30cc87"
        ],
        [
         "15",
         "https://apnews.com/article/pakistan-india-latest-1e25123fb9b13be4accc9cac0fe670d3"
        ],
        [
         "16",
         "https://apnews.com/article/bart-san-francisco-shutdown-1df3902673b963d2e67be619d8c62cdf"
        ],
        [
         "17",
         "https://apnews.com/article/maren-morris-dreamsicle-interview-98783e19cda0c961a2df0521e8e77d70"
        ],
        [
         "18",
         "https://apnews.com/article/immigration-trump-wellbeing-acupuncture-reiki-church-minnesota-6b52091480d7439852fe05296ef9c1ab"
        ],
        [
         "19",
         "https://apnews.com/article/louisiana-senate-cassidy-letlow-landry-trump-2026-632a2c454f82918ca84f94259129930d"
        ],
        [
         "20",
         "https://apnews.com/article/darien-gap-environment-pollution-trash-migration-crisis-1b117a9f73db9ad36f0d6e7664e5d631"
        ],
        [
         "21",
         "https://apnews.com/article/arizona-oak-flat-copper-mining-apache-e2e3870f2e7ed866e9e0ddab735b8412"
        ],
        [
         "22",
         "https://apnews.com/article/google-internet-medical-advice-9d4c56da3e598e694b2cf99b4eb5b71b"
        ],
        [
         "23",
         "https://apnews.com/article/spain-fire-chemical-plant-vilanova-warehouse-chlorine-25bdfc5ce0f95ece3d4b816d11ccbb55"
        ],
        [
         "24",
         "https://apnews.com/article/vatican-new-pope-leo-xiv-facts-chicago-peru-fe9e955bfc5c683311575b1b3cf079f5"
        ],
        [
         "25",
         "https://apnews.com/article/italy-sicily-superyacht-recovery-operation-halt-diver-b82eb158b854f2c4605db24728b41610"
        ],
        [
         "26",
         "https://apnews.com/article/kansas-trooper-killed-1978-parole-bddb1419d345f4ee07f6c57a1b626d4f"
        ],
        [
         "27",
         "https://apnews.com/article/skype-internet-microsoft-telecom-0b0155de4a8b6f8ae388b84cf80471c8"
        ],
        [
         "28",
         "https://apnews.com/article/openai-ceo-sam-altman-congress-senate-testify-ai-20e7bce9f59ee0c2c9914bc3ae53d674"
        ],
        [
         "29",
         "https://apnews.com/article/scorecard-killer-victim-id-oregon-081d891828d3bad81bf99a40004802e8"
        ],
        [
         "30",
         "https://apnews.com/article/organic-farming-environment-food-sustainability-usda-cda198ffbfa8a067a4b68612e44766dd"
        ],
        [
         "31",
         "https://apnews.com/article/nyc-mayor-eric-adams-trump-6a76e9abeeb3ef6328e3195806aba663"
        ],
        [
         "32",
         "https://apnews.com/article/china-us-tariffs-timeline-negotiations-switzerland-d9f1d0e10d328a5d32413016d9d909f2"
        ],
        [
         "33",
         "https://apnews.com/article/bangladesh-hasina-yunus-awami-league-78b40dfe9c92257f0042968c7b963c2a"
        ],
        [
         "34",
         "https://apnews.com/article/civilian-nuclear-program-saudi-arabia-trump-iran-be8697a1890d0158cef57babb47e7583"
        ],
        [
         "35",
         "https://apnews.com/article/ronan-dancing-sea-lion-boogie-wonderland-ef575607db2f710fe102e2dd7c994049"
        ],
        [
         "36",
         "https://apnews.com/article/associated-press-top-photos-may-8-2025-bfec405033186521ee248d0f95db8077"
        ],
        [
         "37",
         "https://apnews.com/article/transgender-poll-care-bathrooms-military-trump-b5c9521d3d486e87c8631a99a455df2f"
        ],
        [
         "38",
         "https://apnews.com/article/earthquake-tennessee-atlanta-north-carolina-cb5a05028a43145bed6aa2d887d93c07"
        ],
        [
         "39",
         "https://apnews.com/article/cop30-un-climate-amazon-summit-brazil-belem-d1f5d7dfe1a044e63f67506b4a563d52"
        ],
        [
         "40",
         "https://apnews.com/article/somalia-flooding-ef96fa4023e4db330893896415f36b2f"
        ],
        [
         "41",
         "https://apnews.com/article/russia-ukraine-war-attacks-casualties-b9861d69b36a07d4108313df667e45dd"
        ],
        [
         "42",
         "https://apnews.com/article/habeas-corpus-trump-migrants-deportations-constitution-28a598363d03bfc9448b5132c72f2b3d"
        ],
        [
         "43",
         "https://apnews.com/article/india-pakistan-missiles-air-bases-1de0ca13c13899f0bd3530b4808d45ad"
        ],
        [
         "44",
         "https://apnews.com/article/fact-check-trump-michigan-rally-gas-eggs-inflation-5cfff7971b1bcf760a324db31ea722b5"
        ],
        [
         "45",
         "https://apnews.com/article/china-trump-trade-tariffs-bessent-economy-71a6e410a0e5771c70ac853563a8b75d"
        ],
        [
         "46",
         "https://apnews.com/article/robert-de-niro-cannes-film-festival-history-0734162e7da498d2a9fa9010e9abea4c"
        ],
        [
         "47",
         "https://apnews.com/article/top-baby-names-us-social-security-ranking-fd0c6083735036edb24e720c4dff5b83"
        ],
        [
         "48",
         "https://apnews.com/article/how-to-drop-an-egg-without-cracking-it-a5ae1c5d8ff22c7d76be3b8329f448be"
        ],
        [
         "49",
         "https://apnews.com/article/tesla-road-rage-honolulu-los-angeles-arrest-91b436b256fc8eb6897041b41c54a8a8"
        ]
       ],
       "shape": {
        "columns": 1,
        "rows": 139
       }
      },
      "text/html": [
       "<div>\n",
       "<style scoped>\n",
       "    .dataframe tbody tr th:only-of-type {\n",
       "        vertical-align: middle;\n",
       "    }\n",
       "\n",
       "    .dataframe tbody tr th {\n",
       "        vertical-align: top;\n",
       "    }\n",
       "\n",
       "    .dataframe thead th {\n",
       "        text-align: right;\n",
       "    }\n",
       "</style>\n",
       "<table border=\"1\" class=\"dataframe\">\n",
       "  <thead>\n",
       "    <tr style=\"text-align: right;\">\n",
       "      <th></th>\n",
       "      <th>link</th>\n",
       "    </tr>\n",
       "  </thead>\n",
       "  <tbody>\n",
       "    <tr>\n",
       "      <th>0</th>\n",
       "      <td>https://apnews.com/article/xi-beijing-min-aung...</td>\n",
       "    </tr>\n",
       "    <tr>\n",
       "      <th>1</th>\n",
       "      <td>https://apnews.com/article/pope-leo-xiv-humor-...</td>\n",
       "    </tr>\n",
       "    <tr>\n",
       "      <th>2</th>\n",
       "      <td>https://apnews.com/article/papa-leon-vision-pa...</td>\n",
       "    </tr>\n",
       "    <tr>\n",
       "      <th>3</th>\n",
       "      <td>https://apnews.com/article/rusia-ucrania-guerr...</td>\n",
       "    </tr>\n",
       "    <tr>\n",
       "      <th>4</th>\n",
       "      <td>https://apnews.com/article/smokey-robinson-la-...</td>\n",
       "    </tr>\n",
       "    <tr>\n",
       "      <th>...</th>\n",
       "      <td>...</td>\n",
       "    </tr>\n",
       "    <tr>\n",
       "      <th>134</th>\n",
       "      <td>https://apnews.com/article/trump-mass-firings-...</td>\n",
       "    </tr>\n",
       "    <tr>\n",
       "      <th>135</th>\n",
       "      <td>https://apnews.com/article/spring-cleaning-wor...</td>\n",
       "    </tr>\n",
       "    <tr>\n",
       "      <th>136</th>\n",
       "      <td>https://apnews.com/article/immigration-ice-new...</td>\n",
       "    </tr>\n",
       "    <tr>\n",
       "      <th>137</th>\n",
       "      <td>https://apnews.com/article/ispace-moon-lander-...</td>\n",
       "    </tr>\n",
       "    <tr>\n",
       "      <th>138</th>\n",
       "      <td>https://apnews.com/article/chimpanzee-drumming...</td>\n",
       "    </tr>\n",
       "  </tbody>\n",
       "</table>\n",
       "<p>139 rows × 1 columns</p>\n",
       "</div>"
      ],
      "text/plain": [
       "                                                  link\n",
       "0    https://apnews.com/article/xi-beijing-min-aung...\n",
       "1    https://apnews.com/article/pope-leo-xiv-humor-...\n",
       "2    https://apnews.com/article/papa-leon-vision-pa...\n",
       "3    https://apnews.com/article/rusia-ucrania-guerr...\n",
       "4    https://apnews.com/article/smokey-robinson-la-...\n",
       "..                                                 ...\n",
       "134  https://apnews.com/article/trump-mass-firings-...\n",
       "135  https://apnews.com/article/spring-cleaning-wor...\n",
       "136  https://apnews.com/article/immigration-ice-new...\n",
       "137  https://apnews.com/article/ispace-moon-lander-...\n",
       "138  https://apnews.com/article/chimpanzee-drumming...\n",
       "\n",
       "[139 rows x 1 columns]"
      ]
     },
     "metadata": {},
     "output_type": "display_data"
    }
   ],
   "source": [
    "import requests\n",
    "import re\n",
    "\n",
    "url = \"https://apnews.com/\"\n",
    "response = requests.get(url)\n",
    "html = response.text\n",
    "\n",
    "# Use a regex to extract article links\n",
    "pattern = r'href=[\"\\'](?=[^\"\\']*/article)([^\"\\']+)[\"\\']'\n",
    "news_links = re.findall(pattern, html)\n",
    "\n",
    "# Remove duplicates\n",
    "news_links = list(set(news_links))\n",
    "\n",
    "# Display a summary of the links\n",
    "news_links_df = pd.DataFrame(news_links, columns=['link'])\n",
    "import time\n",
    "print(f\"Found {len(news_links_df)} front page AP News links on {time.strftime('%Y-%m-%d')}\")\n",
    "display(news_links_df)"
   ]
  },
  {
   "cell_type": "markdown",
   "metadata": {},
   "source": [
    "## Configure Workflow\n",
    "Now we'll configure the scraipe workflow using `NewsScraper` and `OpenAiAnalyzer`.\n",
    "\n",
    "`NewsScraper` uses `trafilatura` to extract article content from a news site without all the HTML clutter.\n",
    "\n",
    "`OpenAiAnalyzer` uses OpenAI models to extract data from the article content."
   ]
  },
  {
   "cell_type": "code",
   "execution_count": 5,
   "metadata": {},
   "outputs": [],
   "source": [
    "#===Configure NewsScraper===\n",
    "# NewsScraper doesn't require any additional configuration\n",
    "scraper = NewsScraper()\n",
    "\n",
    "#===Configure OpenAiAnalyzer===\n",
    "# Define the instruction for the LLM. Ensure the instruction specifies a return schema.\n",
    "instruction = '''\n",
    "Extract a list of celebrities mentioned in the article text.\n",
    "Return a JSON dictionary with the following schema:\n",
    "{\"celebrities\":[\"celebrity1\", \"celebrity2\", ...]}\n",
    "'''\n",
    "\n",
    "# (Optional) Create a pydantic schema to validate the LLM output\n",
    "from typing import List\n",
    "class ExpectedOutput(BaseModel):\n",
    "    celebrities: List[str]\n",
    "    \n",
    "# Create the analyzer with the API key, instruction, and schema\n",
    "analyzer = OpenAiAnalyzer(OPENAI_API_KEY,instruction,pydantic_schema=ExpectedOutput)\n",
    "\n",
    "#===Create Workflow===\n",
    "# Create a workflow with the configured scraper and analyzer\n",
    "workflow = Workflow(scraper, analyzer)"
   ]
  },
  {
   "cell_type": "markdown",
   "metadata": {},
   "source": [
    "## Scrape links\n",
    "Next we will scrape content from news links. This content will be saved within the workflow's scrape store."
   ]
  },
  {
   "cell_type": "code",
   "execution_count": 6,
   "metadata": {},
   "outputs": [
    {
     "data": {
      "application/vnd.jupyter.widget-view+json": {
       "model_id": "d229a75cd0af49c2932a7a8c4d0bd00d",
       "version_major": 2,
       "version_minor": 0
      },
      "text/plain": [
       "Scraping:   0%|          | 0/139 [00:00<?, ?link/s]"
      ]
     },
     "metadata": {},
     "output_type": "display_data"
    },
    {
     "data": {
      "application/vnd.microsoft.datawrangler.viewer.v0+json": {
       "columns": [
        {
         "name": "index",
         "rawType": "int64",
         "type": "integer"
        },
        {
         "name": "link",
         "rawType": "object",
         "type": "string"
        },
        {
         "name": "content",
         "rawType": "object",
         "type": "unknown"
        },
        {
         "name": "scrape_success",
         "rawType": "bool",
         "type": "boolean"
        },
        {
         "name": "scrape_error",
         "rawType": "object",
         "type": "unknown"
        },
        {
         "name": "metadata",
         "rawType": "object",
         "type": "unknown"
        }
       ],
       "conversionMethod": "pd.DataFrame",
       "ref": "6f65c280-ba2d-4937-b3d1-5cac99e6b447",
       "rows": [
        [
         "0",
         "https://apnews.com/article/bangladesh-hasina-yunus-awami-league-78b40dfe9c92257f0042968c7b963c2a",
         "Bangladesh’s interim government bans the former ruling party of ousted Prime Minister Sheikh Hasina\nDHAKA, Bangladesh (AP) — The interim government in Bangladesh on Saturday banned all activities of the former ruling Awami League party headed by former influential Prime Minister Sheikh Hasina, who was ousted last year in a mass uprising.\nAsif Nazrul, the country’s law affairs adviser, said late Saturday the interim Cabinet headed by Nobel Peace Prize laureate Muhammad Yunus decided to ban the party’s activities online and elsewhere under the country’s Anti-Terrorism Act. The ban would stay in place until a special tribunal completes a trial of the party and its leaders over the deaths of hundreds of students and other protesters during an anti-government uprising in July and August last year.\n“This decision is aimed at ensuring national security and sovereignty, protection of activists of the July movement, and plaintiffs and witnesses involved in the tribunal proceedings,” Nazrul told reporters after a special Cabinet meeting.\nNazrul said the meeting Saturday also expanded scope for trying any political parties involving charges of killing during the anti-Hasina protest being handled by the International Crimes Tribunal.\nHe said a government notification regarding the ban would be published soon with details.\nHasina and many of her senior party colleagues have been accused of murder in many cases after her ouster last year. Hasina has been in exile in India since Aug. 5 as her official residence was stormed by protesters soon after she left the country.\nThe United Nations human rights office in a report said in February that up to 1,400 people may have been killed during three weeks of anti-Hasina protest.\nSaturday night’s dramatic decision came after thousands of protesters, including supporters of a newly formed political party by students, took to the streets in Dhaka and issued an ultimatum to ban the Awami League party by Saturday night. The members of the student wing of the Jamaat-e-Islami party also prominently took part in the protest.\nThere was no immediate reaction from Hasina or her party, but the chief of the National Citizen Party, Nahid Islam, who is also a student leader, applauded the Yunus-led government for its decision.\nThe student-led uprising ended Hasina’s 15 years of rule, and three days after her fall Yunus took the helm as interim leader.",
         "True",
         null,
         null
        ],
        [
         "1",
         "https://apnews.com/article/syrian-bahrain-alsharaa-visit-king-hamad-2ac88b85ac105676da674c4bdbe06871",
         "Syria’s president visits Bahrain and discusses regional affairs with the king\nBEIRUT (AP) — Syria’s president flew to Bahrain Saturday where he discussed mutual relations and regional affairs with King Hamad bin Isa Al Khalifa on his latest trip abroad since taking office in January.\nSyria’s state news agency, SANA, said President Ahmad al-Sharaa is heading a high-ranking delegation to Bahrain, a gulf nation that had relations with former President Bashar Assad until his removal from power in early December.\nBahrain’s news agency said the two leaders discussed mutual relations and ways of boosting them, as well as regional affairs and ways of backing Syria’s security and stability.\nAl-Sharaa’s visit to Bahrain comes days before U.S. President Donald Trump is scheduled to visit the region for talks with leaders of gulf Arab nations.\nSince taking office, al-Sharaa has visited Arab and regional countries including Saudi Arabia, United Arab Emirates, Qatar and Turkey. Earlier this week, he made his first trip to Europe where he met French President Emmanuel Macron in Paris and announced that his country is having indirect talks with Israel.\nAfter Assad’s fall, Syria and its neighbors have been calling for the lifting of Western sanctions that were imposed on Assad during the early months of the country’s conflict that broke out in March 2011.\nThe lifting of sanctions would open the way for oil-rich Arab nations to take part in funding Syria’s reconstruction from the destruction caused by the conflict that has killed nearly half a million people.\nThe United Nations in 2017 estimated that it would cost at least $250 billion to rebuild Syria. Some experts now say that number could reach at least $400 billion.\nIn April, Saudi Arabia and Qatar said they will pay Syria’s outstanding debt to the World Bank, a move likely to make the international institution resume its support to the war-torn country.\nSince the fall of Assad, a close ally of Iran, Syria’s new leadership has been improving the country’s relations with Arab and western countries.",
         "True",
         null,
         null
        ],
        [
         "2",
         "https://apnews.com/article/zealand-snail-egg-neck-powelliphanta-augusta-3cb8082547a83b8c47848b6621c06cb0",
         "A rare New Zealand snail is filmed for the first time laying an egg from its neck\nA rare New Zealand snail is filmed for the first time laying an egg from its neck\nWELLINGTON, New Zealand (AP) — The strange reproductive habits of a large, carnivorous New Zealand snail were once shrouded in mystery. Now footage of the snail laying an egg from its neck has been captured for the first time, the country’s conservation agency said Wednesday.\nWhat looks like a tiny hen’s egg is seen emerging from an opening below the head of the Powelliphanta augusta snail, a threatened species endemic to New Zealand.\nThe video was taken at a facility on the South Island’s West Coast, where conservation rangers attempting to save the species from extinction have cared for a population of the snails in chilled containers for nearly two decades.\nThe conditions in the containers mimic the alpine weather in their only former habitat — a remote mountain they were named for, on the West Coast of the South Island, that has been engulfed by mining.\nObserving their habits\nLisa Flanagan from the Department of Conservation, who has worked with the creatures for 12 years, said the species still holds surprises.\n“It’s remarkable that in all the time we’ve spent caring for the snails, this is the first time we’ve seen one lay an egg,” she said in a statement.\nLike other snails, Powelliphanta augusta are hermaphrodites, which explains how the creatures can reproduce when encased in a hard shell. The invertebrate uses a genital pore on the right side of its body, just below the head, to simultaneously exchange sperm with another snail, which is stored until each creates an egg.\nA long but slow reproductive life\nEach snail takes eight years to reach sexual maturity, after which it lays about five eggs a year. The egg can take more than a year to hatch.\n“Some of our captive snails are between 25 and 30 years old,” said Flanagan. “They’re polar opposites to the pest garden snail we introduced to New Zealand, which is like a weed, with thousands of offspring each year and a short life.”\nThe dozens of species and subspecies of Powelliphanta snails are only found in New Zealand, mostly in rugged forest and grassland settings where they are threatened by habitat loss.\nThey are carnivores that slurp up earthworms like noodles, and are some of the world’s largest snails , with oversized, distinctive shells in a range of rich earth colors and swirling patterns.\nA political storm\nThe Powelliphanta augusta was the center of public uproar and legal proceedings in the early 2000s, when an energy company’s plans to mine for coal threatened to destroy the snails’ habitat.\nSome 4,000 were removed from the site and relocated, while 2,000 more were housed in chilled storage in the West Coast town of Hokitika to ensure the preservation of the species, which is slow to breed and doesn’t adapt well to new habitats.\nIn 2011, some 800 of the snails accidentally died in a Department of Conservation refrigerator with faulty temperature control.\nBut the species’ slow survival continues: In March this year, there were nearly 1,900 snails and nearly 2,200 eggs in captivity, the conservation agency said.",
         "True",
         null,
         null
        ],
        [
         "3",
         "https://apnews.com/article/north-carolina-election-director-republicans-power-ee4ec571f0ec5fb1acd5714ddec1c811",
         "Ousted top election official in key swing state urges civility toward ‘caretakers of our democracy’\nOusted top election official in key swing state urges civility toward ‘caretakers of our democracy’\nThe former North Carolina elections director who was ousted this week after a politically motivated move by Republicans said Friday she hopes the new leadership will approach elections in a nonpartisan way and called for an end to verbal attacks against those who oversee the voting process.\nKaren Brinson Bell, who will leave the job next week, has served as the state’s top election official for the last six years -- through hurricanes, the COVID-19 pandemic and the aftermath of the 2020 election. In an interview Friday with The Associated Press, she described the “filthy language” and insults that had been directed at her over the years and attributed it to a “lack of understanding” about the law and her job to follow it.\nShe noted that other election officials across the country have been subjected to death threats and harassment in recent years. Since the 2020 election and the false claims of widespread fraud and manipulation of voting machines, several individuals have been prosecuted for threatening election officials.\n“I hope that we get back to a place of civility, a place where it’s understood that election professionals are the caretakers of our democracy and that very fundamental right to vote,” Brinson Bell said. “And our integrity should not be questioned for adhering to the rules and making sure that they’re executed properly.”\nBrinson Bell’s removal followed a law passed late last year before state Republicans lost their supermajority in the legislature, which they used to override the governor’s veto. It took the Democratic governor’s authority to appoint election board members and handed that power to the state auditor, a Republican.\nWhile there’s precedent for a new director to be hired when a change occurs in the board, the circumstances of Brinson Bell’s ouster were extraordinary.\nThe GOP has tried several times since 2016 to remove the governor’s authority to choose members of the state election board, whose duties include carrying out campaign finance laws, certifying election results and setting rules on a host of voting administration details.\nDemocratic Gov. Josh Stein, who was elected last November, sued over the law, and a group of trial judges determined it was unconstitutional and shouldn’t be allowed to take effect. But a state Court of Appeals panel overruled them by allowing the new board appointments to proceed.\nAt the new board’s first meeting on May 7, they voted to replace Brinson Bell with Sam Hayes, the top lawyer for the Republican House speaker. State Republicans have long been unhappy with Brinson Bell, emphasizing on her role in a legal settlement in 2020, during the pandemic, that temporarily extended the state’s mail ballot deadline to nine days rather than the usual three-day limit.\nFrancis De Luca, the new board chair, said in a statement on Friday that the board wanted to “go in a new direction” and chose not to renew Brinson Bell’s contract, which expires on May 15.\n“The Democratic State Board members did the same thing in 2019, when they had the opportunity to appoint a new director to implement their vision for the agency,” De Luca said.\nState Senate leader Phil Berger said he had no problem with Brinson Bell’s departure.\n“She was a partisan actor when she was put in that place, and she acted in a partisan manner all along,” Berger said. “And so I am hopeful that the change that we’ve made will see decisions made by the board based on what the law is, not what the board thinks the law should be.”\nAsked whether the board picking Hayes could mean partisan decisions favoring the GOP, Berger, a Republican, said he didn’t believe that would be the case: “Everybody who looks at it can decide what they think it looks like.”\nA registered Democrat, Brinson Bell said she never acted in a partisan way and drew on her experiences as a county election official and regional support staffer for the state Board of Elections. She noted that her replacement does not have experience in election administration and said she hopes he will rely on the institutional knowledge and expertise of the board staff as well as the state’s 100 county election directors.\n“I hope that Mr. Hayes will lean on that and recognize that he has been given the greatest opportunity of his life, and he is now our state’s caretaker of democracy and the fundamental right to vote,” Brinson Bell said.\nIn many states, the top election official is the secretary of state, an elected position just like those for governor or attorney general. North Carolina is among a handful of states that have created state election boards with appointed directors as a way to make the positions less political.\nIt hasn’t always turned out that way. In Wisconsin, which has a setup similar to North Carolina’s, Republicans created a bipartisan commission to run elections starting in 2016 after they were unhappy with its predecessor, which placed retired judges in charge of election oversight. The nonpartisan leader of the elections commission, Meagan Wolfe, was appointed to her position in 2019 and confirmed unanimously by the Republican-controlled Senate for a term ending in the middle of 2023.\nAfter President Donald Trump lost Wisconsin in 2020, Wolfe became the target for Republicans who falsely asserted there was widespread fraud despite no evidence to back up the claims.\nWolfe has survived numerous attempts to oust her. Most recently, the Wisconsin Supreme Court ruled in February that she can legally retain her position despite not being reappointed and confirmed by the state Senate after her first term ended.\nRepublicans running for secretary of state in 2022 argued for returning the power of elections to that office, even though it hasn’t had that authority since 1974. The Democratic incumbent won the election and talk of ceding election oversight to the office has faded.\nIn North Carolina, GOP leaders also criticized the previous board for what they called errors in how election laws were carried out for the 2024 election. It led to litigation in the race for a state Supreme Court seat that dragged on for months.\nBrinson Bell said Friday that election was conducted “as the rules were set, and that is how we finished the election, as well.” She criticized efforts across the country to change the rules after an election has been held and said the voters whose ballots were challenged in the North Carolina Supreme Court race were all eligible to vote under rules set before the election.\n“You don’t change the rules of the game after the game’s begun, nor after the game has ended,” Brinson Bell said. “I think that we all need to be mindful of -- is this foretelling what’s to come? Is this going to be the type of challenge to our elections time and time again?”\nBrinson Bell said she wasn’t sure of her next move but hoped to continue working in elections.\n“The one thing that I will be is a voter, a registered voter in North Carolina,” she said. “And I hope that these folks that we’re handing this off to will value my right to cast my ballot and have my say just as much as I do for them.”\n___\nCassidy reported from Atlanta. Associated Press writers Gary D. Robertson in Raleigh, North Carolina, and Scott Bauer in Madison, Wisconsin, contributed to this report.",
         "True",
         null,
         null
        ],
        [
         "4",
         "https://apnews.com/article/infant-mortality-cdc-8b79d43cd3d994b9a5de92d39f3af8cc",
         "US infant mortality dropped in 2024. Experts partly credit RSV shots\nNEW YORK (AP) — The nation’s infant mortality rate dropped last year after two years of hovering at a late-pandemic plateau.\nSome experts think one reason for the drop could be a vaccination campaign against RSV, or respiratory syncytial virus, which is a common cause of cold-like symptoms that can be dangerous for infants.\nThe infant mortality national rate dropped to about 5.5 infant deaths per 1,000 live births in 2024, according to provisional data from the Centers for Disease Control and Prevention posted Thursday. That’s down from about 5.6 per 1,000 live births, where it had been the previous two years.\nCDC officials believe the findings will not change much when the final numbers come out later this year.\nInfant mortality is the measure of how many babies die before they reach their first birthday. Because the number of babies born in the U.S. varies from year to year, researchers instead calculate rates to better compare infant mortality over time.\nU.S. infant deaths fell to about 19,900 last year, according to CDC data, compared with about 20,150 in 2023.\nThe U.S. infant mortality rate has been worse than other high-income countries, which experts have attributed to poverty, inadequate prenatal care and other things. Even so, the U.S. rate generally has improved over the decades because of medical advances and public health efforts.\nThe 2022 and 2023 levels were up from 5.44 per 1,000 in 2021 — the first statistically significant jump in the rate in about two decades. Experts attributed those years to a rebound in RSV and flu infections after two years of pandemic precautions.\nIn 2023, U.S. health officials began recommending two new measures to prevent the toll on infants — one was a lab-made antibody shot for infants that helps the immune system fight off the virus, and the other was giving an RSV vaccine to women between 32 weeks and 36 weeks of pregnancy.\nThat effort is probably one explanation for the improvement, said Dr. Amanda Williams, interim chief medical officer for the March of Dimes.\nIn a separate CDC report released Thursday, researchers noted infant hospitalizations in the 2024-25 respiratory virus season were more than 40% lower than past averages.\nBut more work needs to be done to tease out other reasons, Williams added, noting that much of the improvement in 2024 was in infants who were at least one month old when they died. That could be explained not only by fewer deaths from RSV but also from other causes, like accidents, homicides or SIDS.\n___\nThe Associated Press Health and Science Department receives support from the Howard Hughes Medical Institute’s Science and Educational Media Group and the Robert Wood Johnson Foundation. The AP is solely responsible for all content.",
         "True",
         null,
         null
        ],
        [
         "5",
         "https://apnews.com/article/italy-sicily-superyacht-recovery-operation-halt-diver-b82eb158b854f2c4605db24728b41610",
         "The recovery of superyacht off Sicily is suspended after a diver dies\nThe recovery of superyacht off Sicily is suspended after a diver dies\nROME (AP) — The recovery of a superyacht that sank last year off the Sicilian coast was temporarily halted Saturday following the death of a specialist diver while working underwater, the company overseeing the operation said.\nU.K. tech magnate Mike Lynch, his daughter and five others died in August after a powerful storm slammed the Bayesian. The luxury vessel has since been 49 meters (160 feet) underwater.\nBritish-based TMC Marine said in an emailed statement that the suspension of work “is necessary for the investigations to be completed and to allow all salvage and associated teams to mourn the tragic loss of a highly respected salvage diver” on Friday.\nThe Palermo Port Authority, which is overseeing the investigation, declined to comment on the cause of death when contacted by The Associated Press.\nMarcus Cave, head of naval architecture and a TMC Marine director, said the salvage team was providing “full cooperation to the authorities in their investigations.”\nThe local prosecutor’s office has sealed off the area where the 39-year-old Dutch diver died, local media reported.\nMarine salvage experts began work in early May to refloat the ship off the Sicilian port of Porticello, bringing in one of the most powerful maritime cranes in Europe.\nThe plan was to cut the yacht’s 75-meter (246-foot) aluminum mast — the second tallest in the world — to allow the hull to be brought to the surface more easily. It was thought initially the salvage operation would take 20 to 25 days.\nThe 56-meter (183-foot)-long, 473-ton yacht sank during what appears to have been a sudden downburst, or localized powerful wind from a thunderstorm that spreads rapidly after hitting the surface. Prosecutors are investigating the captain and two crew members for possible responsibility in the sinking.\nIn addition to Lynch and his 18-year-old daughter Hannah, Morgan Stanley International Chairman Jonathan Bloomer and his wife, Judy, attorney Chris Morvillo and his wife, Neda, and the ship’s cook, Recaldo Thomas, died.\nInvestigators are focusing on how a sailing vessel deemed “unsinkable” by its manufacturer, Italian shipyard Perini Navi, sank while a nearby sailboat remained largely unscathed.",
         "True",
         null,
         null
        ],
        [
         "6",
         "https://apnews.com/article/2025-pope-francis-community-church-extraordinary-photos",
         "A photographer uses solitude and light to capture the intimacy of a community church\nSIMOJOVEL, Mexico (AP) — Isabel Mateos is a photographer based in San Cristóbal de la Casas, Mexico. She has been contributing to The Associated Press since 2019. Here’s what she had to say about this extraordinary photo.\nREAD MORE FROM OUR ‘ONES’ SERIES\nWhy this photo?\nAfter the death of Pope Francis, we wanted to illustrate the life of a deacon in Simojovel, someone who had dedicated himself to the church and to caring for his communities in the mountains of southern Mexico. I felt it was important to capture the intimacy of the church, using the sunlight filtering through the doors, windows and wooden slats to reflect the quiet strength of both the setting and the worshipers’ faith.\nHow I made this photo\nWhen I walked into the small church, I noticed a strip of light pouring through the door, blending with the incense smoke and silhouetting the women and children seated to one side. I waited, and when a woman stepped into the frame, the moment captured what I felt was the quiet depth of faith in this town.\nWhy this photo works\nI had worked in the area before and knew how difficult life can be for many who live there. The photo captures how people quietly live out their faith in everyday moments, while also drawing a contrast between this modest mountain church and the grandeur of the Vatican, where Pope Francis’s funeral and the conclave were taking place.\n___\nFor more extraordinary AP photography, click here.",
         "True",
         null,
         null
        ],
        [
         "7",
         "https://apnews.com/article/ecuador-fishermen-galapagos-rescue-adrift-missing-9d057d6947485988da1729c82873d569",
         "Five fishermen who spent 55 days adrift at sea arrive in the Galapagos Islands after rescue\nQUITO, Ecuador (AP) — Five fishermen who spent 55 days adrift at sea arrived Saturday at a port in the Galapagos Islands after being rescued by a tuna boat, the Ecuadorian navy said on X.\nThe three Peruvians and two Colombians had been missing since mid-March and were found on May 7 by an Ecuadorian boat called Aldo.\nThe fishermen had reported damage to the boat’s alternator two days after setting sail from Pucusana Bay, to the south of Peru’s capital Lima, the navy said in a separate post on Friday.\nThe failure caused communication and navigation tools to malfunction, Ecuadorian navy Frigate Capt. Maria Fares told The Associated Press, adding that they had no power on the boat.\n“They had no starter, lights and everything that a battery generates,” she said. To survive, they had to “take rusted water out of the engine (and) when a fish passed by, they caught it and parboiled it to eat.” Fares added that they also drank rain and sea water to survive.\nThe men are in stable condition and the navy said it is coordinating with local and foreign authorities to ensure their safe return to their respective countries.\nEarlier this year, another Peruvian fisherman, 61-year-old Máximo Napa, spent 95 days at sea alone. He was also rescued by an Ecuadorian vessel and returned to Lima in mid-March to be reunited with his family.\n____\nFollow AP’s coverage of Latin America and the Caribbean at https://apnews.com/hub/latin-america",
         "True",
         null,
         null
        ],
        [
         "8",
         "https://apnews.com/article/kansas-trooper-killed-1978-parole-bddb1419d345f4ee07f6c57a1b626d4f",
         "Kansas governor wants board to reconsider parole granted to a state trooper’s convicted killer\nKansas governor wants board to reconsider parole granted to a state trooper’s convicted killer\nTOPEKA, Kan. (AP) — A man convicted of killing a Kansas Highway Patrol trooper in 1978 has been granted parole after having past requests rejected, inspiring criticism and prompting the governor on Friday to call for reconsidering the decision.\nJimmie K. Nelms and another man, both from Tulsa, Oklahoma, were sentenced to serve two life sentences for the aggravated kidnapping and murder of Trooper Conroy O’Brien following a traffic stop on the Kansas Turnpike about 55 miles (89 kilometers) northeast of Wichita. Nelms’ codefendant, Walter Myrick, died in prison in 2009.\nIn Kansas, killing a law enforcement officer now can be punished by death, with the only other possible sentence in a capital case being life in prison without parole. But in 1978, Kansas had no death penalty, and Nelms was eligible for parole after 30 years in 2008. He sought parole in 2011 and 2021.\nA date for Nelms’ release hasn’t been set. His release was approved by the Prisoner Review Board, comprised of three veteran state Department of Corrections employees appointed by its top administrator. Department spokesman David Thompson said the decision came several weeks after a March 6 hearing.\n“The Kansas Prisoner Review Board believes that Mr. Nelms is able and willing to fulfill the obligations of a law-abiding citizen and is of the opinion that there is reasonable probability that Mr. Nelms can be released without detriment to the community or to himself,” Thompson said in a statement.\nA decision becomes public when it’s criticized\nThe decision didn’t become public until the Kansas State Troopers Association condemned it as “disgraceful and disgusting” in a statement Thursday. Under Kansas law, it appears unlikely that critics can prevent Nelms’ release.\n“Those who murder law enforcement officers should expect to receive the death penalty, not to be walking free on the streets of KS,” state Attorney General Kris Kobach said in a post on the social platform X.\nThe Kansas Legislature’s top leaders, Senate President Ty Masterson and House Speaker Dan Hawkins, called the parole decision “unconscionable” Friday.\nThey and Kobach are Republicans; the Department of Corrections is under Gov. Laura Kelly, a Democrat. But Kelly wants the board to consider reversing the decision “if legally possible,” spokesperson Grace Hoge said.\n“The facts of this case demonstrate a brutal and intentional killing of a law enforcement officer,” Hoge said in an email. “There is no justification for this decision.”\nA traffic stop turns deadly in 1978\nAccording to court records and news reports, O’Brien stopped Nelms’ car for speeding about 2 miles south of a turnpike service area. Myrick was driving.\nAs O’Brien wrote a ticket in his patrol car, Nelms approached the driver’s side with a gun, according to authorities. Nelms forced O’Brien to get out of the car and told him to lie down in a ditch. Authorities said Nelms took O’Brien’s gun, struck the trooper with it, and, when O’Brien fell to the ground, shot him twice in the head.\nO’Brien was 26 with a pregnant wife. Nelms was 31 and Myrick, 25. A 21-year-old man was also in the car with Nelms and Myrick, but he pleaded guilty to lesser charges and provided crucial testimony against Nelms.\nThe men fled in Nelms’ car, left the turnpike, and eventually drove north, where another patrol trooper spotted the car about 20 miles (32 kilometers) northwest of where O’Brien died. Nelms’ car and the trooper’s collided in a pasture, and a gun battle ensued.\nNelms denied he was the shooter, but jurors convicted him and Myrick of murder, aggravated kidnapping and other charges during a joint trial.\nNelms served most of his sentence in maximum-security prisons but was transferred to a lower-security facility in 2023. Online Department of Corrections records show four disciplinary reports against him from 1996 to 2017, the last for disobeying orders. Thompson said Nelms works in the prison laundry.\nKansas changes how parole decisions are made\nWhen Nelms sought parole in 2011, decisions were made by a three-member parole board appointed by the governor, subject to state Senate confirmation. That same year, Republican Gov. Sam Brownback issued an executive order abolishing the parole board in favor of a panel of Department of Corrections employees.\nBrownback said the move would save the state $500,000 a year, and sentencing laws after 1993 limited parole. Critics worried that the department’s board would release inmates just to avoid prison overcrowding, and Kelly, then a state senator, called the change “a really bad idea.”\nMasterson, the current Senate president, backed the change in 2011 but said Friday that it “has not functioned as intended” and that he would work for changes to see that the review board members “rightly answer to the people of Kansas.”\nDemocratic state Rep. Tom Sawyer, who reviewed Nelms’ case as a parole board member from 2009 through June 2011, said the board sometimes rejected parole when corrections officials recommended. Now, he said, the process is “all in-house.”\nAs for Nelms, Sawyer said, “I think it’s highly unlikely the parole board would have let him go, based on my experience.”",
         "True",
         null,
         null
        ],
        [
         "9",
         "https://apnews.com/article/trump-us-canada-trade-deficit-military-norad-spending-1417673f38f1829334a4e571ea058e03",
         "FACT FOCUS: Trump claims the US subsidizes Canada. Experts say the numbers don’t add up\nNewly-elected Canadian Prime Minister Mark Carney visited the White House on Tuesday in search of common ground during an ongoing trade war that has shattered decades of trust between the his country and the U.S. Although the conversation was civil, President Donald Trump repeated erroneous rhetoric about how the U.S. provides Canada with billions of dollars in subsidies.\n“It’s hard to justify subsidizing Canada to the tune of maybe $200 billion a year,” he said. “We protect Canada militarily, and we always will. We not going to, you know, that’s not a money thing. But we always will. But, you know, it’s not fair. But why are we subsidizing Canada $200 billion a year or whatever the number might be? It’s a very substantial number.”\nHere’s a closer look at the facts.\nCLAIM: The U.S. subsidizes Canada with subsidies of about $200 billion per year.\nTHE FACTS: This is false. According to the White House, the number is based on the U.S. trade deficit with Canada and higher military spending by the U.S., including expenditures associated with the North American Aerospace Defense Command, or NORAD. An exact total is difficult to discern because there is no publicly available data on NORAD spending. But even the most generous estimates do not put the total costs anywhere close to what Trump claims.\nA trade deficit occurs when the cost of a country’s imports are higher than its exports. Using seasonally adjusted data, the U.S. deficit with Canada for both goods and services was $35.661 billion in 2024. It was higher for just goods, ranging from $63.336 billion to $70.603 billion.\nThe White House put the goods and services deficit with Canada at $53.5 billion. This is closer to the figure from 2022 — $57.565 billion.\nEither way, economists agree that describing a trade deficit as a subsidy is wrong.\n“That’s never been the definition of a subsidy, a subsidy is defined as a gift without any compensation in return,” said Gary Hufbauer, a senior fellow at the Peterson Institute for International Economics. “So whatever the number is, the concept is way off base.”\nGian Maria Milesi-Ferretti, a senior fellow at the Brookings Institution’s Hutchins Center on Fiscal and Monetary Policy, said a trade deficit occurs based on relative demand in different countries and what they specialize in.\nIn terms of military spending, the White House also pointed to how much the U.S. and Canada spend on their militaries and what percentage of their gross domestic product that is. This appears to be a reference to NATO’s investment guideline. Member countries agreed in 2006 to commit to spending a minimum 2% of their GDP on their own defense. Some countries, including Canada, have not yet met that guideline, a lapse which Trump often criticizes.\nCanada spent $29.3 billion on defense in 2024, which amounted to 1.3% of its GDP. The U.S., which is 13 times bigger than Canada, spent significantly more at $997 billion, or 3.4% of its GDP, exceeding the NATO guideline. Those numbers were slightly lower in 2023 — the data cited by the White House — at $27.2 billion and $916 billion respectively, though the percentages of GDP for both were the same.\nAccording to the International Monetary Fund, Canada’s GDP in 2024 was about $2.241 trillion. This means that the country would have needed to spend $44.82 billion total on defense order to meet the 2% NATO guideline, making it short by approximately $15.52 billion.\n“No, they don’t owe us that money, but they aren’t paying their fair share, and that’s a fair criticism.” said Mark Cancian, a senior advisor in the Center for Strategic and International Studies’ defense and security department.\nDiscounting whether they should be deemed subsidies, adding the trade deficit for goods and services in 2024 to Canada’s gap in defense spending the same year results in a total of only about $51 billion. Using the highest calculation of the goods deficit only for 2024 pushes the total up, to approximately $86 billion.\nThe White House’s final point was that the U.S. “covers about 60 percent of the bill for NORAD.” Created in 1954 as a means of defense against possible long-range attacks from the Soviets, NORAD is a bi-national organization jointly run by the U.S. and Canada that is charged with preventing air and maritime attacks against North America.\nThere is no publicly available data on NORAD spending by the U.S. or Canada. The 60% figure cited by the White House refers to a 1985 cost-sharing agreement for the operations and support of NORAD’s North Warning System that is still in place today.\nIn 2022, then-Canadian Defense Minister Anita Anand announced a $4.9 billion (US $3.52 billion) investment in NORAD over six years and $38.6 billion (US $27.72 billion) over 20 years on an accrual basis.\nDefense economists Binyam Solomon and Ross Fetterly quantified NORAD burden sharing by the U.S. and Canada in a paper first published in 2023 by the journal Defense and Peace Economics titled, “Canada and NORAD: Economics and Burden Sharing.”\nThe pair found that the numbers change drastically depending on how they are calculated. One estimate found that the U.S. shoulders about 97.6% of the North American defense burden while receiving about 64% of the benefits. Canada, meanwhile, contributes about 2% of the burden while enjoying about 36% of the benefits. But leaving out the variable of Canada’s vast exposed border means that the U.S. shoulders the same burden while enjoying 91% of the benefits. In this instance, Canada enjoys just 9% of the benefits.\nA sizable portion of NORAD warning and control systems are in Canadian territory, according to the paper.\nCancian explained that the U.S. needs Canada’s help to effectively defend North America from its own land because if air defenses started at the U.S. border, it would be too late to prevent many threats.\n“Even if the Canadians pulled out, we’d have to have something like that in place,” he said of NORAD. “So I would not consider that a subsidy at all. Canadians can make a fair argument that we owe them.”\n___\nFind AP Fact Checks here: https://apnews.com/APFactCheck.",
         "True",
         null,
         null
        ],
        [
         "10",
         "https://apnews.com/article/sinner-swiatek-italian-opn-a8c18ae6414727cc606be6f73a50d345",
         "Sinner wins in return from doping ban before home crowd at Italian Open\nSinner wins in return from doping ban before home crowd at Italian Open\nROME (AP) — After a wait of more than 100 days, Jannik Sinner still knows how to win a tennis match.\nThe top-ranked player made a solid return from his three-month doping ban by beating 99th-ranked Mariano Navone 6-3, 6-4 before an adoring home crowd at the Italian Open on Saturday.\nIt was Sinner’s first match since he won his third Grand Slam title at the Australian Open in January. He said it took him all of three games to get his competitive focus back.\n“Amazing feeling. I have waited quite long for this moment,” Sinner said. “I am very happy to be back.”\nThere weren’t too many signs of rust and it didn’t take long for Sinner to start crushing his groundstrokes on or near the lines. When the Italian broke for 3-1 in the first set, the crowd inside Campo Centrale sang “Ole, ole, ole, Sin-ner, Sin-ner.”\nBut Sinner acknowledged that he had doubts over whether he would regain the form that he had before his ban.\n“It’s normal to have doubts. Would be strange to don’t have any doubts. Would sound very arrogant, no?” Sinner said. “I had doubts before going on court today. I have doubts now what’s going to happen in the next match. But we have to live with doubts because it means that you really care, that you want to improve, that you want to show yourself, that you want to do something special.”\nMany fans in the soldout crowd of 10,500 were dressed in orange, Sinner’s theme color. And there were plenty of signs that said “Bentornato Jannik” (“Welcome back Jannik”).\nThe victory extended Sinner’s winning streak to 22 matches, dating to October.\n“It went very well at times,” he said. “Could be better, yes, but in any case it doesn’t matter about the result today. It has been a remarkable day for me.”\nIn February, Sinner agreed to the three-month ban in a settlement with the World Anti-Doping Agency that raised some questions, since it conveniently allowed him not to miss any Grand Slams and come back at his home tournament.\nThe settlement was made after WADA appealed a decision last year by the International Tennis Integrity Agency to fully exonerate Sinner for what it deemed to be an accidental contamination by a banned anabolic steroid in March 2024.\nMany fellow pros feel Sinner was treated too lightly.\nBut the crowd at the Foro Italico night session was fully behind Sinner, who has remained Italy’s most popular athlete despite his suspension.\nWhen Sinner unleashed a backhand approach winner up the line early in the first set — the game in which he eventually broke Navone’s serve — one Sinner fan yelled, “Destroy him.”\nAnother sign in the crowd translated to “Make our hearts beat.” One more referred to this week’s election of a new pope just down the road at the Vatican, joking that “After three months of conclave, Habemus Papam!” — using the Latin words that are announced from the balcony of St. Peter’s Basilica when a pope is elected.\n“The crowd was incredible,” Sinner said. “They always give me strength to continue even in tough times. So it was a very, very special moment.”\nHis only real lapse came late in the second set when he failed to consolidate a break and dropped his serve. But he broke again in the next game and then served the match out.\nSinner hit twice as many winners as Navone, 21-10; but had more unforced errors, 24-19.\n“It’s very difficult to have the right feedback when you don’t have any matches,” Sinner said. “But exactly that’s what I need. Now I think the best practice is the match itself.”\nSinner will next face 93rd-ranked Dutch qualifier Jesper De Jong, who beat 25th-seeded Alejandro Davidovich Fokina 6-0, 6-2.\nThe last Italian man to win the Rome title was Adriano Panatta in 1976.\n“Hopefully I can play here one or two matches more to see where I am at, which would be my main goal,” Sinner said.\nSwiatek loses to Collins\nIn the women’s tournament, three-time champion Iga Swiatek was beaten by Danielle Collins 6-1, 7-5. The third-round loss marked Swiatek’s earliest defeat at a big WTA event in nearly four years.\nSwiatek, the top clay-court player on the women’s tour, was coming off a lopsided loss to Coco Gauff in the Madrid Open semifinals last week. She has 15 days to rediscover her form before the French Open starts on May 25.\nSwiatek has won four of her five Grand Slam titles at Roland Garros. ___\nAP tennis: https://apnews.com/hub/tennis",
         "True",
         null,
         null
        ],
        [
         "11",
         "https://apnews.com/article/russia-victory-day-photos-fe4bb13744424a1a7c1f7b77f66c0759",
         "The Associated Press is an independent global news organization dedicated to factual reporting. Founded in 1846, AP today remains the most trusted source of fast, accurate, unbiased news in all formats and the essential provider of the technology and services vital to the news business. More than half the world’s population sees AP journalism every day.\nMOSCOW (AP) — Russia marked the 80th anniversary of the defeat of Nazi Germany in World War II with a massive military parade on Red Square on Friday.\nRussian Defense Minister Andrei Belousov is driven along Red Square in an Aurus car during the Victory Day military parade in Moscow, Russia, Friday, May 9, 2025, in celebrations of the 80th anniversary of the Soviet Union’s victory over Nazi Germany during the World War II. (AP Photo/Alexander Zemlianichenko)\nA woman takes pictures as Russian Air Force Su-25 jets fly over Red Square leaving trails of smoke in the colors of Russian state flag during the Victory Day military parade in Moscow, Russia, Friday, May 9, 2025, during celebrations of the 80th anniversary of the Soviet Union’s victory over Nazi Germany during the World War II. (AP Photo/Pavel Bednyakov, Pool)\nRussian T-80 BVM tanks roll in Red square during the Victory Day military parade in Moscow, Russia, Friday, May 9, 2025. (AP Photo/Alexander Zemlianichenko)\nRussian servicemen attend the Victory Day military parade in Moscow, Russia, Friday, May 9, 2025, during celebrations of the 80th anniversary of the Soviet Union's victory over Nazi Germany during the World War II. (AP Photo/Alexander Zemlianichenko)\nRussian Defense Minister Andrei Belousov is driven along Red Square in an Aurus car during the Victory Day military parade in Moscow, Russia, Friday, May 9, 2025, during celebrations of the 80th anniversary of the Soviet Union's victory over Nazi Germany during the World War II. (AP Photo/Pavel Bednyakov, Pool)\nRussian army tanks roll in Red Square during the Victory Day military parade in Moscow, Russia, Friday, May 9, 2025, during celebrations of the 80th anniversary of the Soviet Union’s victory over Nazi Germany during the World War II. (AP Photo/Alexander Zemlianichenko)\nRussian servicemen march along Red Square during the Victory Day military parade in Moscow, Russia, Friday, May 9, 2025, in celebrations of the 80th anniversary of the Soviet Union’s victory over Nazi Germany during the World War II. (AP Photo/Alexander Zemlianichenko)\nA security service officer aims his sniper rifle securing the area during the Victory Day military parade in Moscow, Russia, Friday, May 9, 2025, during celebrations of the 80th anniversary of the Soviet Union's victory over Nazi Germany in the World War II. (AP Photo/Alexander Zemlianichenko)\nRussian servicemen march along Red Square during the Victory Day military parade in Moscow, Russia, Friday, May 9, 2025, during celebrations of the 80th anniversary of the Soviet Union's victory over Nazi Germany during the World War II. (AP Photo/Pavel Bednyakov, Pool)\nRussian servicemen march along Red Square during the Victory Day military parade in Moscow, Russia, Friday, May 9, 2025, during celebrations of the 80th anniversary of the Soviet Union’s victory over Nazi Germany during the World War II. (AP Photo/Pavel Bednyakov, Pool)\nChinese President Xi Jinping, left, Russian President Vladimir Putin, centre, and President of the Republic of Congo Denis Sassou Nguesso, right, attend a wreath laying ceremony at the Tomb of the Unknown Soldier in Alexander Garden after the Victory Day military parade in Moscow, Russia, Friday, May 9, 2025. (Yuri Kochetkov/Pool Photo via AP)\nVenezuela's President Nicolas Maduro gestures as he walks with his wife Cilia Flores in Red square after the Victory Day military parade in Moscow, Russia, Friday, May 9, 2025. (AP Photo/Pavel Bednyakov, Pool)\nRussian S-400 anti-aircraft missile system launchers roll during the Victory Day military parade in Moscow, Russia, Friday, May 9, 2025, during celebrations of the 80th anniversary of the Soviet Union’s victory over Nazi Germany during the World War II. (AP Photo/Alexander Zemlianichenko)\nTurkmenistan servicemen attend the Victory Day military parade in Moscow, Russia, Friday, May 9, 2025, during celebrations of the 80th anniversary of the Soviet Union’s victory over Nazi Germany during the World War II. (AP Photo/Alexander Zemlianichenko)\nRussian servicemen march along Red Square during the Victory Day military parade in Moscow, Russia, Friday, May 9, 2025, in celebrations of the 80th anniversary of the Soviet Union’s victory over Nazi Germany during the World War II. (AP Photo/Alexander Zemlianichenko)\nFrom left: Kyrgyz President Sadyr Japarov, Chinese President Xi Jinping, Russian President Vladimir Putin and Tajik President Emomali Rahmon attend a wreath laying ceremony at the Tomb of the Unknown Soldier in Alexander Garden after the Victory Day military parade in Moscow, Russia, Friday, May 9, 2025, during celebrations of the 80th anniversary of the Soviet Union’s victory over Nazi Germany during the World War II. (Yuri Kochetkov/Pool Photo via AP)\nRussian Sukhoi Su-30SM jet fighters of the Russian Knights aerobatic team and Mikoyan MiG-29 jet fighters of the Swifts aerobatic team fly over the Red Square during the Victory Day military parade in Moscow, Russia, Friday, May 9, 2025, for celebrations of the 80th anniversary of the Soviet Union's victory over Nazi Germany during the World War II. (Pavel Lisitsyn/Photo host agency RIA Novosti via AP)\nForeign leaders attend a wreath laying ceremony at the Tomb of the Unknown Soldier in Alexander Garden after the Victory Day military parade in Moscow, Russia, Friday, May 9, 2025. (Ivan Sekretarev/Photo host agency RIA Novosti via AP)\nFrom left: Kyrgyz President Sadyr Japarov Chinese President Xi Jinping, Russian President Vladimir Putin and Slovakia’s Prime Minister Robert Fico attend a wreath laying ceremony at the Tomb of the Unknown Soldier in Alexander Garden after the Victory Day military parade in Moscow, Russia, Friday, May 9, 2025, during celebrations of the 80th anniversary of the Soviet Union’s victory over Nazi Germany during the World War II. (Yuri Kochetkov/Pool Photo via AP)\nRussian servicemen stand in formation in Red Square during the Victory Day military parade in Moscow, Russia, Friday, May 9, 2025, during celebrations of the 80th anniversary of the Soviet Union's victory over Nazi Germany during the World War II. (AP Photo/Pavel Bednyakov, Pool)\nRussian servicemen march along Red Square during the Victory Day military parade in Moscow, Russia, Friday, May 9, 2025, during celebrations of the 80th anniversary of the Soviet Union's victory over Nazi Germany during the World War II. (AP Photo/Pavel Bednyakov, Pool)\nRussian servicewomen attend the Victory Day military parade in Moscow, Russia, Friday, May 9, 2025, during celebrations of the 80th anniversary of the Soviet Union’s victory over Nazi Germany during the World War II. (AP Photo/Alexander Zemlianichenko)\nThe Kremlin guards attend a wreath laying ceremony at the Tomb of the Unknown Soldier in Alexander Garden after the Victory Day military parade in Moscow, Russia, Friday, May 9, 2025, during celebrations of the 80th anniversary of the Soviet Union’s victory over Nazi Germany during the World War II. (Yuri Kochetkov/Pool Photo via AP)",
         "True",
         null,
         null
        ],
        [
         "12",
         "https://apnews.com/article/skype-internet-microsoft-telecom-0b0155de4a8b6f8ae388b84cf80471c8",
         "One Tech Tip: Skype shut down for good, but users still have these alternatives\nLONDON (AP) — Skype is dead. What now?\nMicrosoft’s shutdown of Skype on May 5 sent millions of users scrambling to find an alternative to the pioneering internet phone service.\nSkype, which Microsoft bought in 2011, was beloved by a dwindling group of users who appreciated how it let them make cheap long-distance calls as well as communicate with other users through chat messages, voice or video calls.\nSome liked its simplicity and ease of use — an advantage, for example, when setting up a communications app for an elderly parent living far away.\nOr they just used it out of habit.\nSkype was founded in 2003 and was among the first in a wave of communication services that used voice over internet protocol technology (VoIP), which converts audio into a digital signal.\nSkype’s disappearance also inconveniences Americans and other expatriates living overseas who signed up because they needed an U.S.-based number to receive text authentication codes from, say, a bank back home. It was also handy for calling 800 numbers for free even if you weren’t living in North America.\nHere is a guide for life after Skype:\nWhat’s happening\nMicrosoft announced in late February that it was shutting down Skype on May 5 and shifting some of its services to Microsoft Teams, its flagship office videoconferencing and group collaboration platform.\nSkype users can use their existing accounts to log into Teams and have the option to automatically migrate their contacts and chats.\nIf you had a Skype number or a calling subscription, it stopped automatically renewing on April 3.\nIf your account still has credit, you can access Skype’s dial pad from the web portal or Teams to make calls.\nSkype numbers won’t immediately expire on May 5 so you’ll still be able to receive calls until your subscription expires. But you’ll have to use Teams or keep the Skype dial pad open on the web portal to receive them.\nPorting your number(s)\nIf your Skype number hasn’t expired and you don’t want to lose it, you should transfer it to another provider.\nSkype numbers can be ported to a phone carrier or any number of other VoIP services. But you’ll have to start the process through the new provider, not Skype.\nGoogle Voice\nGoogle users can access the online search giant’s internet phone service to make calls from a smartphone or a desktop web browser. You can get your own Google Voice phone number and use features like call forwarding and voicemail. Or you can port your number from another service like Skype, but it will cost $20.\nCalls to U.S., Canadian or Puerto Rican numbers are free. Rates for other countries vary.\nThe free version of Google Voice is only available to U.S. residents physically located in the 48 contiguous states, so that means expatriate Americans can only use it if they registered before they moved overseas.\n“You cannot sign up for a Google Voice number while outside the USA,” according to a help page. “Do not try to circumvent this by using a VPN.”\nViber\nOwned by Japan’s Rakuten, Viber was long considered one of the closest competitors to Skype. One key difference is that Skype users don’t need a phone number and are identified by their usernames, while Viber users need a number to register for service.\nSimilar to Skype, Viber users can buy credit or packages to call phone numbers around the world but it’s no longer possible to get a Viber number to receive calls.\nZoom\nThe videoconferencing service that’s become a byword for online company meetings offers a calling service, Zoom Phone, and features like number porting and the ability to send and receive SMS text messages.\nTake note that Zoom Phone isn’t free. There are various calling plans that involve a monthly subscription cost and extra fees for international calls.\nTeams\nMicrosoft users have the option of making calls on Teams, dubbed Teams Phone. Like Zoom Phone, you’ll need to buy a subscription and pay extra for international calls.\nBut it’s not an option for regular people because Microsoft says Teams Phone isn’t for consumer use and is only available to small and medium-sized businesses.\nWireless Carriers\nIf you absolutely need a U.S. number but live overseas, sign up for service with a low-cost virtual wireless carrier that offers cheap cellphone plans or pay-as-you-go rates.\nOne provider, Tello, offers monthly plans for as little as $5 and says users can activate its service even if they’re living outside the U.S.\nBecause mobile virtual network operators like Tello are essentially wireless phone companies that piggyback off a bigger carrier’s physical network, you can’t use it to make calls on a computer or an app.\nVoIP it\nThere are a slew of Skype pretenders offering phone calls over the internet, such as Zoiper, VoIP.ms, CallCentric, Mytello, and Virtual Landline. Many are aimed at business users.\nSome are capitalizing on Skype’s disappearance. Hushed, which started as an anonymous calling app, bills itself as a Skype alternative. Users can buy a phone number from the U.S., Canada, the United Kingdom or Puerto Rico or port their own number.\nIt warns that some of its numbers aren’t guaranteed to work with third-party verification text messages.\n“We do not intentionally block anyone from receiving these codes, but it’s common that some services will prevent verification texts from being sent to certain phone numbers due to their own security policies,” Hushed says on its website.\nPark your number\nMaybe you can’t decide which calling service you want to switch to. If you want to save your current number, there are services to just park your number like NumberBarn.com and Parkmyphone.com.\nThey let you store a phone number for a monthly fee while relaying any text messages sent to that number. You can port the number to another service whenever you want.\nBeware, you can only port in U.S. or Canadian phone numbers.\neSIMs\nWhat about an international eSIM? They’re the virtual version of the mobile phone SIM card that you can buy and add to your phone when you’re on a trip to save on roaming fees.\nThey offer cheap data access rates so you can use the internet without worrying about racking up a huge bill when you get home.\nUnfortunately, you can’t port a Skype number to an international eSIM because of “the fundamental differences” between VoIP services and traditional mobile networks, said Pedro Maiquez, co-founder of eSIM provider Holafly. “Skype numbers are not tied to a mobile carrier’s physical infrastructure, making them incompatible with mobile eSIM solutions.”\n___\nIs there a tech topic that you think needs explaining? Write to us at [email protected] with your suggestions for future editions of One Tech Tip.",
         "True",
         null,
         null
        ],
        [
         "13",
         "https://apnews.com/article/russia-ukraine-war-fbd6aa9ddb147fa1b789c30dcf44dab3",
         "Ukraine and allies urge Putin to commit to a 30-day ceasefire or face new sanctions\nUkraine and allies urge Putin to commit to a 30-day ceasefire or face new sanctions\nKYIV, Ukraine (AP) — Leaders from four major European countries threatened to ratchet up pressure on Russian President Vladimir Putin if he does not accept an unconditional 30-day ceasefire in Ukraine that they offered on Saturday in a strong show of unity with Kyiv.\nThe leaders of France, the United Kingdom, Germany and Poland said their proposal for a ceasefire to start on Monday was supported by U.S. President Donald Trump, whom they had briefed over the phone earlier in the day.\nKremlin spokesperson Dmitry Peskov on Saturday told CNN that Moscow will need to consider the proposal. Earlier that day, Peskov reiterated Russia’s claim that it was ready for peace talks with Ukraine “without preconditions”, and accused Kyiv of blocking those.\nRussia’s own unilateral three-day ceasefire, declared for the 80th anniversary of victory over Nazi Germany expires Saturday, and Ukraine says Russian forces have repeatedly violated it. In March, the United States proposed an immediate, limited 30-day truce, which Ukraine accepted, but the Kremlin has held out for terms more to its liking.\nUkrainian President Volodymyr Zelenskyy, speaking to reporters alongside the European leaders in Kyiv, called their meeting “a very important signal.”\nIn a joint statement, as published on Zelenskyy’s official website, the five leaders called for a ceasefire “lasting at least 30 days” from Monday, to make room for a diplomatic push to end the war.\n“An unconditional ceasefire by definition cannot be subject to any conditions. If Russia calls for such conditions, this can only be considered as an effort to prolong the war and undermine diplomacy,” the statement read.\nFrench President Emmanuel Macron said that the U.S. would take the lead in monitoring the proposed cease-fire, with support from European countries, and threatened “massive sanctions ... prepared and coordinated, between Europeans and Americans,” should Russia violate the truce.\nMacron traveled to Kyiv with British Prime Minister Keir Starmer, German Chancellor Friedrich Merz and Polish Prime Minister Donald Tusk.\n“This is Europe stepping up, showing our solidarity with Ukraine,” Starmer said.\nRetired Lt. Gen. Keith Kellogg, Trump’s special envoy to Ukraine, said Saturday that a “comprehensive” 30-day ceasefire, covering attacks from the air, land, sea and on infrastructure, “will start the process for ending the largest and longest war in Europe since World War II.”\nMeanwhile, Russian President Vladimir Putin on Saturday held a series of bilateral talks with foreign officials who had attended Moscow’s own celebrations marking the defeat of Nazi Germany, in an apparent attempt to underscore the West’s failure to isolate it on the global stage. Putin’s interlocutors included To Lam, General Secretary of the Communist Party of Vietnam, and the leaders of Zimbabwe, Burkina Faso and the Palestinian Authority.\nEurope threatens more sanctions if Russia ignores ceasefire offer\nProgress on ending the three-year war has seemed elusive in the months since Trump returned to the White House, and his previous claims of imminent breakthroughs have failed to come to fruition. Trump has previously pushed Ukraine to cede territory to Russia to end the war, threatening to walk away if a deal becomes too difficult.\nSince the start of U.S.-mediated talks, Russia has kept up attacks along the roughly 1,000-kilometer (600-mile) front line, including deadly strikes on residential areas with no obvious military targets.\nThe ceasefire would include a halt to fighting on land, sea and in the air. The European leaders threatened to ratchet up sanctions, including on Russia’s energy and banking sectors, if Putin did not comply.\nThe priority was to make it too costly for Russia to keep fighting in Ukraine, said Ukrainian Foreign Minister Andrii Sybiha.\nWhen asked how the monitoring mechanism would work, Sybiha told The Associated Press the details were still being discussed.\nAddressing skepticism over whether fresh sanctions against Moscow, which has so far managed to keep fighting in the war, Merz said “almost all member states of the European Union and a large coalition of the willing around the world are determined to enforce these sanctions even if our initiative of the weekend should fail.”\nThe leaders also discussed security guarantees for Ukraine.\nBuilding up Kyiv’s military capabilities will be a key deterrent against Russia and require supplying Ukraine with robust quantities of arms to deter future attacks and investing in its defense sector. A force comprised of foreign troops could also be deployed as an added “reassurance” measure, Macron said.\nHe said details about potential European deployments to Ukraine were still being fine-tuned. No mention was made of NATO membership, still Kyiv’s top choice for a security guarantee.\nEarlier on Saturday, the European leaders joined a ceremony at Kyiv’s Independence Square marking the 80th anniversary of the end of World War II. They lit candles alongside Zelenskyy at a makeshift flag memorial for fallen Ukrainian soldiers and civilians slain since Russia’s invasion.\nRussian attacks continue\nRussian shelling in Ukraine’s northern Sumy region over the past day killed three residents and wounded four more, local officials said. Another civilian died Saturday as a Russian drone struck the southern city of Kherson, according to regional Gov. Oleksandr Prokudin.\nThe U.S. Embassy in Kyiv on Friday warned of a “potentially significant” Russian air attack in the coming days, without giving details.\nRussia in November gave the U.S. brief advance warning before striking Ukraine for the first time with its Oreshnik intermediate-range ballistic missile, an experimental hypersonic weapon that Putin claimed could travel at 10 times the speed of sound.\nUkrainian Telegram channels linked the embassy’s warning to reports of an imminent flight ban by Moscow over the Kapustin Yar military training and rocket launch complex. A similar flight ban preceded November’s strike. There was no immediate comment from Russian officials.\nTrump said last week that he doubts Putin wants to end his war in Ukraine, expressing new skepticism that a peace deal can be reached soon, and hinted at further sanctions against Russia.\nUkraine’s European allies view its fate as fundamental to the continent’s security, and pressure is now mounting to find ways to support Kyiv militarily, regardless of whether Trump pulls out.\n___\nAssociated Press writers Thomas Adamson in Paris, Philipp Reissfelder in Berlin and Danica Kirka in London contributed to this report.\n___\nFollow AP’s coverage of the war in Ukraine at https://apnews.com/hub/russia-ukraine",
         "True",
         null,
         null
        ],
        [
         "14",
         "https://apnews.com/article/hawaii-plavix-settlement-drug-7a8051cff3c65f53c38e32741d0fa91b",
         "Drug companies to pay Hawaii $700 million to settle Plavix blood thinner lawsuit\nHONOLULU (AP) — Pharmaceutical companies have agreed to pay Hawaii $700 million to settle its lawsuit over the efficacy and safety of the blood thinner Plavix, the state attorney general’s office announced Friday.\nA court ruling last year ordered Bristol Myers Squibb Company and three U.S.-based subsidiaries of French pharmaceutical company Sanofi to pay a combined $916 million.\nBut before an appeal was decided, a settlement was reached for the lower amount, the attorney general’s office said.\nIn a joint statement, the companies said they “are pleased to resolve this litigation, and to continue their companies’ focus on discovering, developing, and delivering innovative medicines to patients.”\n“Plavix has helped millions of people with cardiovascular disease around the world for nearly 30 years and it continues to be endorsed as a first-line therapy by leading treatment guidelines across the globe,” the statement added.\nFirst Circuit Court Judge James Ashford found that there was a risk that about 30% of patients, particularly non-Caucasians, might have a “diminished response” to Plavix but the companies did not update their labels, Attorney General Anne Lopez said last year.\nNeither company has admitted wrongdoing.\nGov. Josh Green called it a “landmark settlement” and a “major victory” for the state.\nThe settlement divides the $700 million equally between Bristol Myers Squibb and Sanofi, with the funds to be paid by wire transfer by June 9, the attorney general’s office said.",
         "True",
         null,
         null
        ],
        [
         "15",
         "https://apnews.com/article/columbia-protests-students-suspended-7215bd15abc3edd303b3224f9edbcfd2",
         "Columbia suspends over 65 students following pro-Palestinian protest in library\nColumbia suspends over 65 students following pro-Palestinian protest in library\nNEW YORK (AP) — Columbia University has suspended dozens of students and barred alums and others who participated in a pro-Palestinian demonstration inside the school’s main library earlier this week, a school spokesperson said Friday.\nThe Ivy League institution in Manhattan placed more than 65 students on interim suspension and barred 33 others, including those from affiliated institutions such as Barnard College, from setting foot on campus.\nInterim suspension generally means that a student cannot come to campus, attend classes or participate in other university activities, according to Columbia’s website. The university declined to say how long the disciplinary measures would be in place, saying only that the decisions are pending further investigation.\nAn undisclosed number of alums who also participated in the protest are also now prevented from entering school grounds, according to Columbia.\nRoughly 80 people were arrested in connection with the Wednesday evening demonstration at the university’s Butler Library. Most face trespassing charges, though some may also face disorderly conduct, police have said.\nThe mask-clad protesters pushed their way past campus security officers, raced into the building and hung Palestinian flags and other banners on bookshelves. Some protesters also scrawled phrases on library furniture and picture frames, including “Columbia will burn.”\nNew York City police in helmets and other protection broke up the demonstration at the request of university officials, who denounced the protests as an “outrageous” disruption for students studying and preparing for final exams.\nU.S. Secretary of State Marco Rubio has said his office will be reviewing the visa status of those who participated in the library takeover for possible deportation.\nThe Trump administration has already pulled federal funding and detained international students at Columbia and other prestigious American universities over their handling of student protests against the war in Gaza.",
         "True",
         null,
         null
        ],
        [
         "16",
         "https://apnews.com/article/openai-ceo-sam-altman-congress-senate-testify-ai-20e7bce9f59ee0c2c9914bc3ae53d674",
         "OpenAI CEO Sam Altman and other US tech leaders testify to Congress on AI competition with China\nOpenAI CEO Sam Altman and other US tech leaders testify to Congress on AI competition with China\nWASHINGTON (AP) — OpenAI CEO Sam Altman and executives from Microsoft and chipmaker Advanced Micro Devices testified on Capitol Hill about the biggest opportunities, risks and needs facing an industry which lawmakers and technologists agree could fundamentally transform global business, culture and geopolitics.\nThe hearing comes as the race to control the future of artificial intelligence is heating up between companies and countries. Altman’s OpenAI is in a furious race to develop the best artificial intelligence model against tech rivals like Alphabet and Meta, as well as against those developed by Chinese competitors.\n“I believe this will be at least as big as the internet, maybe bigger,” Altman said in his opening remarks about AI’s potential to transform society. “For that to happen, investment in infrastructure is critical.” Altman urged senators to help usher in the “dual revolutions” of artificial intelligence and energy production that “will change the world we live in, I think, in incredibly positive ways.”\nThe witnesses included Altman; Lisa Su, chief executive of semiconductor maker AMD; Michael Intrator, co-founder of AI cloud computing startup CoreWeave; and Brad Smith, vice chair and president of Microsoft. The four executives unanimously urged lawmakers to help streamline policy for AI-related projects and fundraising.\nThe hearing spanned topics ranging from industry debates over chip performance, jobs, human relationships and power generation to grander questions about the global competition with China and the European Union.\n“China aims to lead the world in AI by 2030,” said Sen. Ted Cruz, chair of the Senate Commerce, Science and Transportation Committee. “In this race, the United States is facing a fork in the road. Do we go down the path that embraces our history of entrepreneurial freedom and technological innovation? Or do we adopt the command and control policies of Europe?”\nSenators were broadly sober in their questioning and united in their concern that the U.S. maintain its dominance in artificial intelligence. Lawmakers from both parties also raised concerns over cybersecurity, data privacy and AI’s ability to create content that could confuse or mislead people.\nSome partisan fighting did arise. Sen. Bernie Moreno, an Ohio Republican, pressed Su and Smith on whether the Biden administration’s sustainable energy policies hindered the goal of producing more power for AI-related infrastructure.\nAnd Sen. Tammy Duckworth, an Illinois Democrat, criticized cuts by President Donald Trump and billionaire Elon Musk to federal funding for research and to agencies like the Energy Department’s national laboratories and National Science Foundation, painting them as “a self sabotaging attack.”\n“Does anyone truly have confidence that had DOGE been around decades ago, they would not have cut the project that created the internet as an example of wasteful, publicly funded research and development?” asked Duckworth.\nBut despite some barbs, the hearing maintained a low-key tenor and some bipartisan joking as lawmakers and executives discussed the potential of a technology all present agreed would determine humanity’s future.\n“Look, there is a race, but we need to understand what we’re racing for,” Sen. Brian Schatz, a Hawaii Democrat, told the witnesses. “It’s not just a sort of commercial race, so we can edge out our nearest competitor in the public sector or the private sector. We’re trying to win a race so that American values prevail.”\nTrade policy and AI\nSeveral of the executives warned against U.S. export controls that could end up pushing other countries toward China’s AI technology.\n“We totally understand as an industry the importance of national security,” Su said. But she added, if not able to “have our technology adopted in the rest of the world, there will be other technologies that will come to play.” Those technologies are less advanced today but will mature over time, she said.\nAltman drew a direct connection between the ability of the U.S. to attract global talent and sell its products globally to national security and its international influence.\n“The leverage and the power the U.S. gets from having iPhones be the mobile device people most want, and Google being the search engine that people most want around the world is huge,” Altman said. “We talk maybe less about how much people want to use chips and other infrastructure developed here, but I think it’s no less important, and we should aim to have the entire U.S. stack be adopted by as much of the world as possible.”\nTrade rivalry between the U.S. and China has been weighing heavily on the AI industry, including California-based chipmakers Nvidia and AMD.\nThe Trump administration announced in April that it would restrict sales of Nvidia’s H20 chips and AMD’s MI308 chips to China.\nNvidia has said the tighter export controls will cost the company an extra $5.5 billion. AMD said after reporting its quarterly earnings this week that it will cost the firm $1.5 billion in lost revenue over the coming months.\nStill uncertain are additional AI chip controls set by former President Joe Biden’s administration that are set to take effect next week targeting more than 100 countries, including a number of U.S. allies. The policy drew strong opposition from Nvidia and other tech companies, while it was supported by others, including AI company Anthropic, as a way to prevent China’s “sophisticated smuggling operations” to obtain chips from shell companies in third countries.\nThe Commerce Department said in an email Thursday that Trump plans to replace Biden’s “overly complex, overly bureaucratic” rule with a simpler one but didn’t say when.\nAI data center expansion and state competition\nThe day before the hearing, Altman visited the Abilene, Texas, site of the massive Stargate data center project being built for OpenAI in collaboration with Oracle and other partners. The site was chosen for its potential access to a variety of energy resources, including wind and solar power.\nAltman, during the hearing, said that Texas had been “unbelievable” in incentivizing major AI projects. “I think that would be a good thing for other states to study,” Altman said. He predicted that the Abilene site would be the “largest AI training facility in the world.”\nBut Altman also later cautioned against a patchwork regulatory framework for AI.\n“It is very difficult to imagine us figuring out how to comply with 50 different sets of regulations,” said Altman. “One federal framework that is light touch, that we can understand, and it lets us move with the speed that this moment calls for, seems important and fine.”\nWhile the tech industry has long relied on data centers to run online services, from email and social media to financial transactions, new AI technology behind popular chatbots and generative AI tools requires even more powerful computation to build and operate.\nA report released by the Department of Energy late last year estimated that the electricity needed for data centers in the U.S. tripled over the past decade and is projected to double or triple again by 2028 when it could consume up to 12% of the nation’s electricity.\n——\nThe Associated Press and OpenAI have a licensing and technology agreement that allows OpenAI access to part of AP’s text archives.\n——\nAP Technology Writer Matt O’Brien contributed to this report from Providence, Rhode Island.",
         "True",
         null,
         null
        ],
        [
         "17",
         "https://apnews.com/article/ai-virtual-reality-courtrooms-legal-challenges-arizona-f47bfd50bd22469388082169ee77b7f0",
         "From AI avatars to virtual reality crime scenes, courts are grappling with AI in the justice system\nFrom AI avatars to virtual reality crime scenes, courts are grappling with AI in the justice system\nStacey Wales gripped the lectern, choking back tears as she asked the judge to give the man who shot and killed her brother the maximum possible sentence for manslaughter.\nWhat appeared next stunned those in the Phoenix courtroom last week: An AI-generated video with a likeness of her brother, Christopher Pelkey, told the shooter he was forgiven.\nThe judge said he loved and appreciated the video, then sentenced the shooter to 10.5 years in prison — the maximum sentence and more than what prosecutors sought. Within hours of the hearing on May 1, the defendant’s lawyer filed a notice of appeal.\nDefense attorney Jason Lamm won’t be handling the appeal, but said a higher court will likely be asked to weigh in on whether the judge improperly relied on the AI-generated video when sentencing his client.\nCourts across the country have been grappling with how to best handle the increasing presence of artificial intelligence in the courtroom. Even before Pelkey’s family used AI to give him a voice for the victim impact portion — believed to be a first in U.S. courts — the Arizona Supreme Court created a committee that researches best AI practices.\nIn Florida, a judge recently donned a virtual reality headset meant to show the point of view of a defendant who said he was acting in self-defense when he waved a loaded gun at wedding guests. The judge rejected his claim.\nAnd in New York, a man without a lawyer used an AI-generated avatar to argue his case in a lawsuit via video. It took only seconds for the judges to realize that the man addressing them from the video screen wasn’t real.\nExperts say using AI in courtrooms raises legal and ethical concerns, especially if it’s used effectively to sway a judge or jury. And they argue it could have a disproportionate impact on marginalized communities facing prosecution.\n“I imagine that will be a contested form of evidence, in part because it could be something that advantages parties that have more resources over parties that don’t,” said David Evan Harris, an expert on AI deep fakes at UC Berkeley’s business school.\nAI can be very persuasive, Harris said, and scholars are studying the intersection of the technology and manipulation tactics.\nCynthia Godsoe, a law professor at Brooklyn Law School and a former public defender, said as this technology continues to push the boundaries of traditional legal practices, courts will have to confront questions they have never before had to weigh: Does this AI photograph really match the witness’s testimony? Does this video exaggerate the suspect’s height, weight, or skin color?\n“It’s definitely a disturbing trend,” she said, “because it could veer even more into fake evidence that maybe people don’t figure out is false.”\nIn the Arizona case, the victim’s sister told The Associated Press that she did consider the “ethics and morals” of writing a script and using her brother’s likeness to give him a voice during the sentencing hearing.\n“It was important to us to approach this with ethics and morals and to not use it to say things that Chris wouldn’t say or believe,” Stacey Wales said.\nVictims can give their impact statements in any digital format in Arizona, said victims’ rights attorney Jessica Gattuso, who represented the family.\nWhen the video played in the courtroom, Wales said only she and her husband knew about it.\n“The goal was to humanize Chris and to reach the judge,” Wales said.\nAfter viewing it, Maricopa County Superior Court Judge Todd Lang said he “loved the beauty in what Christopher” said in the AI video.\n“It also says something about the family,” he said. “Because you told me how angry you were, and you demanded the maximum sentence, and even though that’s what you wanted, you allowed Chris to speak from his heart as you saw it.”\nOn appeal, the defendant’s lawyer said, the judge’s comments could be a factor for the sentence to be overturned.\n___\nAssociated Press reporters Sarah Parvini in Los Angeles, Sejal Govindarao in Phoenix and Kate Payne in Tallahassee, Florida, contributed to this report.",
         "True",
         null,
         null
        ],
        [
         "18",
         "https://apnews.com/article/fda-food-dyes-natural-color-additives-897923a5969b636e0eee848982906014",
         "FDA will allow three new color additives made from minerals, algae and flower petals\nU.S. regulators said Friday that they would allow three new color additives made from natural sources to be used in the nation’s food supply.\nIt comes after health officials pledged a sweeping phase-out of petroleum-based dyes widely used in foods from cereals to sports drinks to boost health — though action is still pending.\nThe Food and Drug Administration said it is granting petitions to allow galdieria extract blue, a blue color derived from algae; calcium phosphate, a white color derived from a naturally occurring mineral; and butterfly pea flower extract, a blue color made from dried flower petals.\nThe colors will be approved for use in a range of foods from fruit drinks and yogurt to pretzels, ready-to-eat chicken and candies. The move “will expand the palette of available colors from natural sources for manufacturers to safely use in food,” FDA officials said in a statement.\nHealth advocates have long called for the removal of artificial dyes from foods, citing mixed studies indicating the dyes can cause neurobehavioral problems for some children, including hyperactivity and attention issues. The FDA has maintained for decades that the approved dyes are safe and that “the totality of scientific evidence shows that most children have no adverse effects when consuming foods containing color additives.”\nThe new color approvals include a 2021 petition from the French company Fermentalg to allow galdieria extract blue; a 2023 petition from Innophos Inc. of Cranbury, New Jersey, to allow calcium phosphate; and a 2024 petition from Sensient Colors LLC of St. Louis, Missouri, to allow butterfly pea flower extract.\nThe approvals are set to be published in the federal register on May 12 and would take effect in June.\nIn April, Health Secretary Robert F. Kennedy Jr. and FDA Commissioner Marty Makary announced that they would take steps to eliminate synthetic food dyes in the U.S. food supply by the end of 2026, largely through voluntary efforts from the food industry. The officials also said they would revoke authorization for two little-used artificial dyes, Citrus Red No. 2 and Orange B, and accelerate the timeline to remove Red 3, a food color banned in January because of a link to cancer in laboratory rats.\nThe FDA plans to initiate the process to revoke those colors “within the coming months,” a spokesperson for the Department of Health and Human Services said.\n___\nThe Associated Press Health and Science Department receives support from the Howard Hughes Medical Institute’s Science and Educational Media Group and the Robert Wood Johnson Foundation. The AP is solely responsible for all content.",
         "True",
         null,
         null
        ],
        [
         "19",
         "https://apnews.com/article/debt-ceiling-treasury-finance-xdate-73b690e943ec3e9ce60130cc7a254305",
         "Treasury secretary calls on Congress to raise or suspend the debt ceiling by mid-July\nWASHINGTON (AP) — The U.S. is on track to run out of money to pay its bills as early as August without congressional action, Treasury Secretary Scott Bessent warned Friday.\nHe is calling on Congress to either raise or suspend the debt ceiling by mid-July.\n“A failure to suspend or increase the debt limit would wreak havoc on our financial system and diminish America’s security and global leadership position,” Bessent wrote in the letter to House Speaker Mike Johnson. “Prior episodes have shown that waiting until the last minute to suspend or increase the debt limit can have serious adverse consequences for financial markets, businesses and the federal government.”\nEarlier this week, Bessent twice testified in front of congressional committees that the Treasury’s debt ceiling is “on the warning track.”\nAfter the debt limit was reinstated in January, Treasury Secretary Janet Yellen — in one of her last acts in the position — said the agency would institute “extraordinary measures” intended to prevent the U.S. from reaching the debt ceiling.\nSince then, the Treasury Department has stopped paying into certain accounts, including a slew of federal worker pension and disability funds, to make up for the shortfall in money. Bessent has continued to notify Congress about the use of extraordinary measures in an effort to prevent a breach of the debt ceiling. In his latest letter, Bessent attributed the August deadline, known as the “X-date,” in part to receipts from the latest tax filing season.\nA Bipartisan Policy Center analysis released in March estimated that the U.S. could run out of cash by mid-July if Congress did not raise or suspend the nation’s debt limit.\nPresident Donald Trump had previously demanded that a provision raising or suspending the debt limit — something his own Republican Party routinely resists — be included in legislation to avert the last potential government shutdown under his Democratic predecessor, President joe Biden.\n“Anything else is a betrayal of our country,” Trump said in a statement in December. That deal did not ultimately address the debt limit.\nThe letter to Johnson comes as Republicans consider a massive tax cut and border security package that includes an increase in the debt limit. Bessent’s request could give GOP lawmakers greater incentive to reach an agreement.",
         "True",
         null,
         null
        ],
        [
         "20",
         "https://apnews.com/article/scorecard-killer-victim-id-oregon-081d891828d3bad81bf99a40004802e8",
         "Decades-old death in Oregon potentially linked to notorious California serial killer\nA man who was found dead along Interstate 5 in Oregon has been identified after nearly 45 years and police say a notorious California serial killer is the sole person of interest in the case.\nThe 30-year-old was identified Friday as Larry Eugene Parks. Oregon State Police spokesperson Kyle Kennedy said Randy Kraft, who has been dubbed the “Scorecard Killer,” is the only person under investigation for the 1980 killing.\n“There’s some evidence that we’re processing to determine that link,” Kennedy said. “We are very confident that we have the correct person of interest.”\nKraft, now 80, was convicted in 1989 of brutalizing and killing 16 men over a decade in California and sentenced to death. He remains incarcerated at San Quentin State Prison and has denied killing anyone.\nOn July 18, 1980, police responded to a report of a body now identified as Parks along I-5 south of Portland near Woodburn. Police opened a homicide investigation at the time and unsuccessfully tried to identify the victim.\nParks, a Vietnam veteran whose family had lost contact with him in 1979, had last been seen in Pensacola, Florida, police said.\nKraft was pulled over in his vehicle on a California freeway in 1983 after a trooper spotted him driving erratically. In the passenger seat of the vehicle was a strangled U.S. Marine. In the trunk of Kraft’s vehicle was a coded list believed to tally 67 victims in California, Oregon and Michigan, according to police.\nProsecutors described Kraft, a former computer programmer, as a fetishist who kept some of the dismembered parts of his victims in his freezer.\nIn 2024, an Orange County Sheriff’s Department investigator reached out to the Oregon State Police Cold Case Unit and offered to help identify the remains using forensic investigative genetic genealogy. A genetic profile was developed from a blood sample and Parks’ identity was confirmed after possible family members submitted DNA profiles for comparison, according to police.\nUntil his identification last month, the circumstances of his disappearance were unknown to the his family, police said.\nIn 2023, the remains of a teenager believed to have been killed by Kraft in California were also identified using investigative genetic genealogy.",
         "True",
         null,
         null
        ],
        [
         "21",
         "https://apnews.com/article/venice-arts-biennale-curator-kouoh-death-40650ca974ac174efc2f6a94ba6dcf41",
         "Koyo Kouoh, 2026 Venice Art Biennale curator, dies suddenly at age 58\nROME (AP) — Koyo Kouoh, the curator of the 2026 Venice Art Biennale, has died at age 58, her home institution in South Africa said in an Instagram post Saturday.\nThe Zeitz Museum of Contemporary Art Africa in Cape Town in South Africa confirmed her passing overnight but gave no cause of death. The Biennale said Saturday it was “deeply saddened and dismayed” to learn of her death.\nKouoh was the first African woman tapped to helm the Venice Biennale. Born in Cameroon in 1967, she was tapped to curate the 2026 edition of the Biennale in December. A leading figure in promoting Pan-Africanism throughout the art world, Kouoh had been executive director and chief curator at Zeitz since 2019.\nAppointed in December 2024 by the board of directors of La Biennale, Kouoh worked “with passion, intellectual rigor and vision on the conception and development of the Biennale Arte 2026,” the Venice arts institution said.\nThe presentation of the exhibition’s title and theme was due to take place in Venice on May 20.\n“Her passing leaves an immense void in the world of contemporary art and in the international community of artists, curators, and scholars who had the privilege of knowing and admiring her extraordinary human and intellectual commitment,” the Biennale said.\nIt extended “its deepest sympathies and affection” to Kouoh’s family and friends, and “all those who shared with her a journey of research and critical thought on contemporary art.”\nIn a statement, Italy’s Premier Giorgia Meloni on Saturday expressed her “deepest condolences” for Kouoh’s “premature and sudden passing,” noting it “leaves a void in the world of contemporary art.”",
         "True",
         null,
         null
        ],
        [
         "22",
         "https://apnews.com/article/mo-willems-pigeon-new-book-interview-dc24753a8f26c60a916db72278d21961",
         "Kids author Mo Willems and The Pigeon stare down the future in a new book\nKids author Mo Willems and The Pigeon stare down the future in a new book\nNEW YORK (AP) — Author Mo Willems has sold millions of books and won many awards, but the accolade that means most to him is when a parent says their child read aloud for the first time from one of his books.\nThe author, illustrator and animator, 57, is best known for his bestselling picture books like the Caldecott Award-winning “Don’t Let the Pigeon Drive the Bus!” and “Knuffle Bunny.” His latest book, “Will the Pigeon Graduate?” may look like it’s aimed at children, but the titular Pigeon’s fear of failure and an uncertain future are sure to resonate with people of all ages, especially during graduation season.\nWillems and his trusty friend The Pigeon (charmingly represented by puppeteer Bradley Freeman Jr.) recently sat down with The Associated Press for an interview about graduating, “Sesame Street,” and the purpose of life. Answers have been edited for clarity and brevity.\nChildren’s book author and illustrator Mo Willems has reunited with his old pal The Pigeon to promote their new book, “Will the Pigeon Graduate?” just in time for graduation season. Willems is known for his bestselling picture books “Don’t Let the Pigeon Drive the Bus!” and “Knuffle Bunny.” (May 9)\nAP: How did graduation come to mind for a book topic?\nWILLEMS: As I am getting older, which I am, I’m getting into a new part of my life. And I’m wondering, am I equipped to be living in this part of life? And as I ask that question and I don’t have the answers, then I think, well, what is that metaphor that kids are going through? And graduation seemed like the perfect thing. I’m graduating to a new stage in my life, and kids do this all the time. You graduate to tying your shoe. You graduate the first time you read.\nTHE PIGEON: Like driving a bus.\nWILLEMS: Yeah, well, except for driving a bus. That is something you cannot graduate to, if you’re a pigeon, but thank you for contributing to the conversation.\nTHE PIGEON: Of course.\nAP: People may think this is just for graduates, but could it be about any transition?\nWILLEMS: I think it’s about asking yourself, “Am I equipped for something that scares me?” The real world is scary. We’re always asking ourselves those questions. And often the answer is ... I don’t know. And that’s something that might feel uncomfortable to sit with, but it’s also something that’s very, very exciting. So like right now, I’m doing an interview with you and a giant pigeon. Is this gonna work out? If I’m going to get a little bit philosophical, I would say often we’re trying to give the answers, and I think kids get exhausted from it. I want to give them the questions. I want them to have a chance to live with these questions themselves and work their way into an answer rather than telling them, “Oh, you’ll be fine.”\nAP: Mr. Pigeon, what is your favorite part about collaborating on this book?\nTHE PIGEON: I really like how all of the books are about me. I like how I’m on, like, almost every page. You know, all of these books go through an approval process, and I get sent advanced — I call them screeners, nobody likes when I call them that! — but I get to look at them. And if I’m not on the first page and the last page, it does not get approved.\nAP (to Willems): Can you reflect on your nine seasons as a writer and animator on “Sesame Street,” winning six Emmys and helping to develop “Elmo’s World”?\nWILLEMS: My love of puppets, my love of sketch comedy, my love of counting to 40 — all these things that I really, really love — came from “Sesame Street”! And when it came time for me to make books, one of the things that I got to do that we didn’t get to do on “Sesame Street” at the time was write about failure. Write about not driving the bus rather than driving the bus. So on one level, it was like going to grad school. I loved it. I learned so much. I met all of these great puppets and puppeteers. On the other, the restrictions of the show allowed me to find my own voice.\nAP: Obviously, one of the book’s messages is you have to believe in yourself.\nWILLEMS: I don’t know. I’m glad that you think that that’s one of the messages because you brought something to that book. I only write 49% of the book. You put the meaning in the book; if the book is meaningful, that is because you are putting yourself within it. I try not to have messages as much as I can. I really try to live in the question.\nAP: Mr. Pigeon, do you think your participation in this makes you a little bit of a philosopher?\nTHE PIGEON: Yeah, I think there’s a lot of very powerful things going on up here in this little bird brain. There’s a lot of really deep questions, like, I don’t know, can I drive the bus, maybe? You know, wondering maybe if I can stay up late? That would be really great.\nWILLEMS: These are all fundamental Greek philosophical questions.\nTHE PIGEON: And what is the purpose of life?\nWILLEMS: What is the purpose of life? Why are we here? Why are people mean? Why are people nice? Can I drive the bus?\nTHE PIGEON: Can I have a hot dog?",
         "True",
         null,
         null
        ],
        [
         "23",
         "https://apnews.com/article/who-daltrey-townsend-us-tour-0b4be3bc4c1c67673d97aa6447cf1ba8",
         "‘All good things must come to an end': The Who announce North America farewell tour dates\n‘All good things must come to an end': The Who announce North America farewell tour dates\nLONDON (AP) — British rock band The Who are to say their final goodbye to North America this summer.\nSinger Roger Daltrey and guitarist Pete Townshend confirmed Thursday that they will perform hits from six-decade career during “The Song Is Over North America Farewell Tour,” named after the band’s 1971 hit.\nThe band, which by the 1970s had become one of the world’s biggest touring bands, easily filling the largest U.S. stadiums, will play their first gig in Florida on Aug. 16, with further dates in cities including New York, Toronto, Los Angeles and Vancouver, before a final date in Las Vegas on Sept. 28.\n“Every musician’s dream in the early ‘60s was to make it big in the U.S. charts,” Daltrey said. “For The Who, that dream came true in 1967 and our lives were changed forever.”\nThe band went from performing club shows to headlining the Woodstock festival in the U.S. and becoming one of the biggest box-office draw in the world. The band were inducted into the Rock n’ Roll Hall Of Fame in 1990.\nDaltrey, 81, and Townshend, two years his junior, have been one of rock’s most prolific double acts, surviving the deaths of drummer Keith Moon in 1978 and bass guitarist John Entwistle in 2002.\n“Today, Roger and I still carry the banner for the late Keith Moon and John Entwistle, and, of course, all of our long-time Who fans,” Townshend said. “I must say that although the road has not always been enjoyable for me, it is usually easy: the best job I could ever have had. I keep coming back.”\nThough Daltrey didn’t write songs, he was able to channel Townsend’s many and complicated moods — defiance and rage, vulnerability and desperation.\nTogether, they forged some of rock’s most defining sounds: the stuttering, sneering delivery of “My Generation,” the anguished cry of “They’re all wasted!” from “Baba O’Reilly,” and the all-time scream from “Won’t Get Fooled Again.” Two albums — “Tommy” and “Quadrophenia” — were also adapted into successful films in 1975 and 1979, respectively.\nTicket pre-sales will run from May 13 ahead of the general sale beginning May 16.\n“Well, all good things must come to an end. It is a poignant time,” Townshend said. “For me, playing to American audiences and those in Canada has always been incredible.”\nDaltrey, who said a throat specialist has told him he should have a “day off” after every gig he performs, and Townshend also revealed there are no plans at the moment for a farewell tour of the U.K.\n“Let’s see if we survive this one,” Daltrey said. “I don’t want to say that there won’t be (a U.K. farewell tour), but equally I’m not confident in saying there will be.”",
         "True",
         null,
         null
        ],
        [
         "24",
         "https://apnews.com/article/xi-beijing-min-aung-hlaing-lashio-aad2a493d0e80a3050e2c08d9aa57e1f",
         "Myammar’s military government chief has first meeting with China’s leader since taking power in 2021\nMyammar’s military government chief has first meeting with China’s leader since taking power in 2021\nBANGKOK (AP) — The chief of Myanmar’s military government, Senior Gen. Min Aung Hlaing, has for the first time since seizing power four years ago met with President Xi Jinping of China, a top ally of his military government, state-run media in the Southeast Asian nation reported Saturday.\nThe Global New Light of Myanmar newspaper reported that Xi pledged to provide assistance for recovery after Myanmar’s devastating earthquake in March and aid in efforts to end the country’s civil war. The two leaders met Friday in Moscow on the sidelines of the commemoration of the 80th anniversary of the defeat of Nazi Germany in World War II.\nIts report said they also discussed “bilateral relations, enhancing cooperation in all sectors, and cooperating in regional stability and peace.”\nCooperation discussed as Beijing seeks to shore up military government\nChina has been using its influence with ethnic rebel organizations to ease their pressure on the military government in an apparent effort to stabilize it.\nChina, along with Russia, is a major arms supplier to Myanmar’s military in its war against pro-democracy and ethnic minority resistance forces. Beijing is also Myanmar’s biggest trading partner and has invested billions of dollars in mines, oil and gas pipelines, and other infrastructure. Its interests in security in Myanmar are especially strong because the two nations share an 890-mile (1,440-kilometer) border\nChina’s government has maintained good working relations with Myanmar’s ruling military, which is shunned and sanctioned by many Western nations for the army’s February 2021 takeover from the elected government of Aung San Suu Kyi and for major human rights violations.\nIt is also one of the countries providing major relief and reconstruction assistance after the 7.7-magnitude March 28 earthquake that killed more than 3,700 people in Myanmar and injured more than 5,100.\nThe quake worsened an already dire humanitarian crisis, with more than 3 million people displaced from their homes and nearly 20 million in need due to the war, according to the United Nations.\nBeijing has been concerned about instability that threatens its interests in Myanmar since Myanmar’s army suffered unprecedented battlefield defeats over the past few years, especially in areas near the Chinese border.\nAn offensive began in October 2023, by the “ Three Brotherhood Alliance, ” comprising the Myanmar National Democratic Alliance Army, the Arakan Army and the Ta’ang National Liberation Army, was able to quickly capture towns and overrun military bases and command centers and strategic cities along the Chinese border in northeastern Shan state.\nIt was widely seen at the time as having Beijing’s tacit support to help stamp out rampant organized crime activities in areas controlled by ethnic Chinese.\nIn early 2024, Beijing helped broker a ceasefire, but that quickly fell apart when the alliance launched new attacks. Myanmar’s ruling generals and China’s government showed concern as pro-democracy guerrillas and armed ethnic minority groups, sometimes working hand in hand, gained the initiative in fighting.\nBeijing put pressure on rebel groups to yield key captured town\nThe alliance’s offensive lost momentum after China shut down border crossings, cut electricity to Myanmar towns and took other measures to discourage the fighting.\nUnder increasing pressure from Beijing, the Myanmar National Democratic Alliance Army, or MNDAA, withdrew its forces and administration authorities last month from the strategically important town of Lashio in northeastern Myanmar, which hosts a major regional military headquarters but which the rebel group seized in August last year.\nA member of the MNDAA told The Associated Press on Saturday that the army’s soldiers had already re-entered and and reestablished themselves in bases inside the town at the end of April. He spoke on the condition of anonymity because he is not authorized to release information.\nTar Pan La and Lway Yay Oo, spokespersons for the Ta’ang National Liberation Army, or TNLA, said during an online press conference on May 4 that local residents had been facing difficulties as China and Myanmar’s military government blocked trade into areas it controlled.\nTar Pan La said China had continuously urged the group both in person and through messages to avoid clashes along the border and areas of Chinese investments.\nThe TNLA said in a statement released on its Telegram channel on Saturday that the military carries out daily airstrikes in areas it controls, although it extended until the end of May a ceasefire it declared in the wake of the earthquake.",
         "True",
         null,
         null
        ],
        [
         "25",
         "https://apnews.com/article/organic-farming-environment-food-sustainability-usda-cda198ffbfa8a067a4b68612e44766dd",
         "Less farmland is going for organic crops as costs and other issues take root\nSKANEATELES, N.Y. (AP) — Farmer Jeremy Brown taps the nose of a young calf. “I love the ones with the pink noses,” he says.\nThis pink-nosed animal is just one of about 3,200 cattle at Twin Birch Dairy in Skaneateles, New York. In Brown’s eyes, the cows on the farm aren’t just workers: “They’re the boss, they’re the queen of the barn.”\nBrown, a co-owner at Twin Birch, is outspoken on the importance of sustainability in his operation. The average dairy cow emits as much as 265 pounds (120 kilograms) of methane, a potent climate-warming gas, each year. Brown says Twin Birch has worked hard to cut its planet-warming emissions through a number of environmentally sound choices.\n“Ruminants are the solution, not the problem, to climate change,” he said.\n___\nEDITOR’S NOTE: This story is a collaboration between Rochester Institute of Technology and The Associated Press.\n___\nWearing a weathered hoodie and a hat promoting a brand of cow medicine, Brown was spending a windy Friday morning artificially inseminating some of the farm’s massive Jerseys and Holsteins. He stepped over an electric manure scraper used to clean the animals’ barn.\nThe electric scraper means the dairy doesn’t have to use a fuel-burning machine for that particular job. Twin Birch also recycles manure for use on crops, cools its milk with water that gets recirculated for cows to drink and grows most of its own feed.\nDespite all that, the farm has no desire to pursue a U.S. Department of Agriculture organic certification, Brown said. Doing so would add costs and require the farm to forego technology that makes the dairy business, and ultimately the customer’s jug of milk, more affordable, he said.\nHe raises a question many farmers have been asking: Is organic farming just a word?\nDeclining enthusiasm for the organic certification\nAn increasing number of American farmers think so. America’s certified organic acreage fell almost 11% between 2019 and 2021. Numerous farmers who implement sustainable practices told The Associated Press that they have stayed away from the certification because it’s costly, doesn’t do enough to combat climate change and appears to be losing cachet in the marketplace. Converting an existing farm from conventional to organic agriculture can cost tens of thousands of dollars and add labor costs.\nThe rules governing the National Organic Program were published in 2000, and in the years after, organic farming boomed to eventually reach more than 5 million acres. But that has been declining in recent years.\nAny downward trend is significant, as organic farms make up less than 1% of the country’s total acreage, and organic sales are typically only a tiny share of the nationwide total.\nShannon Ratcliff, a farmer and co-owner of organically certified Shannon Brook Farms in Watkins Glen, New York, attributes the decline to a 2018 fraud case in Iowa involving a farmer selling grain mislabeled as certified organic. “The whole thing went crazy — work requirements for farmers ramped up and inspection levels were higher,” she said.\nIt’s also just a tough business, Ratcliff said.\nHer co-owner, Walter Adam, also thinks younger generations’ interest in farming of any kind is also declining.\n“It takes six months to learn everything,” Adam said. “We can’t find anybody as willing to work on the farm.”\nAdam drives to Manhattan each week to sell their meat and eggs at markets, and spends Sunday mornings helping Ratcliff with business at the Brighton Farmers Market in Brighton, New York.\nFrank Mitloehner, a professor in animal science in the College of Agricultural and Environmental Sciences at University of California Davis, said lack of flexibility and efficiency are driving farmers away from organic in an era of rising prices for farmers. He said organic standards need to be overhauled or the marketplace risks organic going away completely.\n“I am in awe that so many organic farmers were able to produce that way for that long,” he said. “It seems that they are losing consumer base in these financially troubling times.”\nBut the label still matters to some buyers\nStill, there are consumers determined to buy organic. Aaron Swindle, a warehouse employee at a chain supermarket, spends every Sunday morning shopping for organic groceries at the Brighton Farmers Market.\n“The taste quality is different when it’s growing nearby,” Swindle said. He calls the Finger Lakes of New York a “trifecta,” a region that contributes dairy, produce, and meat for its residents.\nJohn Bolton, owner of Bolton Farms in Hilton, New York, said he has some reservations about organic certification, but he’s pursuing it for his hydroponic farm, which grows produce in nutrient-rich water instead of soil. It produces greens such as kale and chard and is popular as a supplier for restaurants in western New York, and draws waves of regular customers at the Rochester Public Market on weekends.\nBolton doesn’t use pesticides. On a chilly day this spring, he was at his greenhouse unloading 1,500 ladybugs to do the work of eliminating the operation’s aphids. That’s the kind of practice organic farms use to earn the certification, he said.\nHe said his operations aren’t immune to the dangers posed by climate change. Abnormally hot days affect their greenhouse, he said: “It’s devastating to not only the people but the plants.”\nBut Bolton described the organic certification as economically and environmentally beneficial to his farm. Getting the certification will carry an expense, but he is confident it will be worth the price.\n“It helps with sales. And you feel good about it – you’re doing the right practices,” Bolton said.\n___\nThe Associated Press’ climate and environmental coverage receives financial support from multiple private foundations. AP is solely responsible for all content. Find AP’s standards for working with philanthropies, a list of supporters and funded coverage areas at AP.org.",
         "True",
         null,
         null
        ],
        [
         "26",
         "https://apnews.com/article/mtg-greene-ossoff-georgia-senate-6df53b2ef8bf9d49272a4b4359abad21",
         "Marjorie Taylor Greene declines to challenge Jon Ossoff in Georgia Senate race\nMarjorie Taylor Greene declines to challenge Jon Ossoff in Georgia Senate race\nATLANTA (AP) — U.S. Rep. Marjorie Taylor Greene said Friday she won’t challenge Democratic Sen. Jon Ossoff of Georgia in next year’s midterms, delivering relief for some Republicans who worry she’s too divisive to win.\nIn a lengthy post on the social media platform X, Greene disputed GOP donors and consultants who fear she would turn off the moderate Republicans and independents needed to beat Ossoff. But Greene said she doesn’t want to serve in a Senate that “doesn’t work” and that she said is dominated by lawmakers hostile to grassroots Trump supporters and unwilling to shake up the status quo.\n“If I’m going to fight for a team, it will only be a team willing to lay it all on the line to save this country,” she wrote.\nOssoff, a first-term senator, won the seat by a slim margin in a state that has historically been a Republican stronghold but has more recently become a battleground. He is a top target for Republicans looking to expand their narrow Senate majority.\nPopular Republican Gov. Brian Kemp, who could be a formidable opponent for Ossoff, opted out of the 2026 race on Monday. His decision leaves a wide-open race for the GOP nomination.\nU.S. Rep. Buddy Carter, who represents a district on the Georgia coast, became the first major Republican candidate to declare Thursday.\nSix other GOP officeholders besides Greene have acknowledged interest in running to The Associated Press. They include two other Republicans in the U.S. House, Mike Collins and Rich McCormick. Also considering the race are Secretary of State Brad Raffensperger, state Agriculture Commissioner Tyler Harper, state Insurance Commissioner John King and state Sen. Greg Dolezal.\n“I expect a competitive primary — Senate seats don’t come along that often,” said Eric Tanenblatt, a top national GOP fundraiser and Kemp ally who has backed Trump’s rivals in presidential primaries.\nGreene is nationally known and a prolific fundraiser, but she has embraced conspiracy theories and feuded with members of her own party. On Thursday, she noted to reporters that she has more than 11 million social media followers, saying that’s because people know where she stands.\nGreene’s appeal would be clear in a GOP primary with many voters fiercely loyal to the president. Her decision not to run came a day after she told reporters she was considering it.\n“I’m going to give it some thought, talk to my family. I’m honored to have so much support from the great people of Georgia. And I have options,” she said Thursday.\nGreene was first elected to the House in 2020. She initially planned to run in a competitive district in northern Atlanta’s suburbs, but relocated into the much more conservative 14th District in Georgia’s northwest corner.\nGreene continued to embrace conspiracies even after 11 House Republicans joined Democrats to remove her committee assignments in February 2021. She embraced people jailed on charges following the Jan. 6, 2021, riot at the U.S. Capitol as political prisoners, part of her campaign to reframe the narrative of the attack and cast Democrats, not Republicans, as a party of violence.\nShe was welcomed back into the mainstream of the Republican conference by Kevin McCarthy, who forged an alliance with her. But Greene kept feuding with Republicans and Democrats alike. The House Freedom Caucus expelled Greene in 2023.\n___\nCooper repoted from Phoenix.",
         "True",
         null,
         null
        ],
        [
         "27",
         "https://apnews.com/article/cruise-ship-norovirus-cdc-cuts-6cdef804c8145597fcdbde942b7636fb",
         "How cruise ship passengers can stay safe from the latest version of norovirus\nFor Americans planning cruise ship vacations this spring or summer, there could be reason to worry about more than rough seas, experts say.\nRecent government cuts included top staff at the Vessel Sanitation Program, which is run by the U.S. Centers for Disease Control and Prevention and conducts inspections and investigates illnesses.\nThe reductions, part of larger Trump administration cuts, come amid a surge in cruise ship outbreaks fueled by a new strain of norovirus.\nSo far this year, there have been 16 illness outbreaks reported on cruise ships in the CDC’s jurisdiction, mostly from norovirus, compared with 18 outbreaks in all of 2024 and 14 in 2023, VSP reports show. U.S. officials conducted nearly 200 inspections of 150 ships last year.\n“Certainly it’s something that would be on my mind if was getting ready to get on that cruise ship,” said Donald Schaffner, a food science expert at Rutgers University.\nHere’s what you need to know about staying safe on board:\nWhat happened to the CDC’s Vessel Sanitation Program?\nU.S. Health Secretary Robert F. Kennedy Jr. launched a broad restructuring of the nation’s health agencies in April. The move eliminated the CDC’s Division of Environmental Health Science and Practice, which housed the cruise ship vessel program, along with others focused on asthma, air quality, lead exposure in children and other issues.\nFour full-time CDC staff, including scientists, were dismissed, said Erik Svendsen, the division’s fired former director. The program also employed 12 U.S. Public Health Service commissioned officers, who remain.\nThe officers, however, lack the expertise of the scientists who were let go, Svendsen said. In addition, the program was already understaffed, he said.\n“It’s going to put them back many months before they’re really functional again,” he said.\nA CDC spokesperson said in a statement that the VSP work “has not stopped.”\n“Critical programs in the CDC will continue under Secretary Kennedy’s vision to streamline HHS to better serve Americans,” the statement said.\nHow often do cruise passengers get sick?\nAbout 18 million people board cruises in North America each year, part of nearly 32 million passengers worldwide, according to the Cruise Lines International Association, an industry trade group. Cruise industry officials say the chance of contracting a gastrointestinal illness is far greater on land than on a ship.\nNorovirus is the most common ailment tracked on ships, though other outbreaks do occur.\nOf the 19 million to 21 million norovirus illnesses that occur each year in the U.S., less than 1% are tied to cruises, said Lee-Ann Jaykus, a North Carolina State University food microbiologist and virologist who has studied norovirus.\nBut even that fraction of cases can mean misery for many hundreds of people on ships who come down with symptoms that include sudden onset of vomiting, diarrhea and stomach pain that can last three days, according to the CDC.\nNorovirus is highly contagious, often spread by food or on surfaces, particularly in crowded conditions. It is a short-lived illness for many people, but it can be dangerous for people with underlying health conditions, young children and those aged 65 and older.\nWhat about this new strain of norovirus?\nThere are many different types of norovirus, but typically one dominant strain causes illness outbreaks, Jaykus said.\nThis year, a new epidemic strain has emerged, called GII.17. This version has circulated at low levels for years, but it was behind a surge in U.S. norovirus outbreaks this past winter.\nBetween Aug. 1 and April 9, more than 2,400 suspected or confirmed norovirus outbreaks were reported to a CDC monitoring system, roughly double for the same period a year earlier. The GII.17 strain has been responsible for nearly 80% of them, the CDC reported.\n“It’s new to the population,” Jaykus said, which means most people don’t have immunity to the germ, so it can spread more widely.\nI booked a cruise! How can I keep from getting sick?\nPeople infected with norovirus typically shed “literally billions of viral particles,” said Schaffner, the food safety expert. And it only takes a few viral particles to make someone sick.\nThe first rule should be for sick people to stay home, he said. That’s not possible on a cruise.\nIf people get sick on a cruise ship, they’re required to report the illness and isolate themselves, but many fail to do so.\n“You spent all this money for a fancy cruise and you’re feeling a little bit under the weather, so you tough it out,” Schaffner said. “But in the meantime, now you spread the virus.”\nPassengers should be alert for signs of illness, even in other travelers. Vomit, for instance, can spread norovirus particles into the air, Schaffner noted.\n“If you’re in a situation where you see someone vomit, immediately walk away from them, ideally into the wind,” he said.\nWashing hands frequently is key, especially after using the bathroom or before eating and drinking. Using soap and water is best; wash for at least 20 seconds, scrubbing well. Hand sanitizer alone doesn’t work well against norovirus, the CDC notes.\nCruise lines have extensive sanitation protocols in place that are monitored through the CDC’s vessel program, which is paid for by industry through inspection and other fees that total tens of thousands of dollars per ship per year.\nIt remains to be seen how cuts to the program will affect inspections and outbreak investigations in the future, Schaffner said.\n“If you want to have no disease outbreaks, all you have to do is fire all the epidemiologists,” he said. “And there’ll be no one there to investigate.”\n___\nThe Associated Press Health and Science Department receives support from the Howard Hughes Medical Institute’s Science and Educational Media Group and the Robert Wood Johnson Foundation. The AP is solely responsible for all content.",
         "True",
         null,
         null
        ],
        [
         "28",
         "https://apnews.com/article/sliding-mitts-little-league-566b12315127f05ac75571e8a5d4d062",
         "Sliding mitts are baseball’s ‘must-have,’ even if at youth levels, they’re all fashion, no function\nSliding mitts are baseball’s ‘must-have,’ even if at youth levels, they’re all fashion, no function\nPITTSBURGH (AP) — Andrew McCutchen hasn’t had the conversation with his 7-year-old son Steel yet, but the Pittsburgh Pirates star knows it’s probably coming at some point.\nSteel, already playing in a youth baseball league, will probably come home at one point and ask his five-time All-Star father if he can have whatever hot item his teammates might be rocking during a given spring.\nMcCutchen plans to accommodate Steel up to a point. The oldest of McCutchen’s four children is already rocking an arm sleeve, just the way dad does.\nYet if Steel is hoping his father will spring for a sliding mitt — a padded glove a player can slip over one of their hands to protect it should the hand get stepped on while diving head-first for a base — he probably shouldn’t get his hopes up.\nMcCutchen, who has stolen 220 bases at the major league level, has never worn one. And he’s quick to point out the next time the cleat of a fielder mashes his hand will also be the first.\nStill, the 38-year-old understands. Once upon a time, he was a 20-something who epitomized baseball cool, from his dreadlocks (long since shorn) to his goatee to his rope chain to the occasional skull cap he wore underneath his batting helmet, all of it designed to accentuate McCutchen’s innate blend of talent and charisma.\n“It’s all about the drip,” McCutchen said with a smile.\nEven if the “drip” (Gen Z slang for stylish clothes and their accessories) emphasizes fashion over function, particularly when it comes to the gloves — which look a bit like oven mitts — that are becoming just as ubiquitous in the Little Leagues as they are in the major leagues.\nSafety and self-expression\nFormer major leaguer Scott Podsednik (career stolen base total: 309) is credited with “inventing” the sliding mitt during the late stages of his 11-year career.\nTired of having his hand stepped on, Podsednik worked with a hand therapist for a solution. The initial mitts were relatively simple. A 2009 picture of Podsednik sliding into second base shows his left hand covered in what looks like a padded modified batting glove, all wrapped in black to match the trim on his Chicago White Sox uniform.\nThings have gotten considerably more intricate over the years. Google “sliding mitt designs” and you’ll find themes ranging from the American flag to an ice cream cone to aliens to a poop emoji ( yes, really ).\nScott McMillen, a lawyer in the Chicago area, had no plans to get into the baseball accessory business. He first took notice of sliding mitts when his son Braydon, then 10, pointed out one of his teammates had one and said basically, ‘Oh hey dad, wouldn’t it be nice if I had one, too.’\nThey headed to a local sporting goods store, where McMillen was surprised at the variety available.\nThat was around 2021. By early 2024, McMillen had launched “ Goat’d,” a specialty baseball accessory company with everything from sliding mitts to batting gloves to arm sleeves to headbands and more, many of them religiously inspired.\nSales during their first full year? Over 1 million units.\n“We were surprised at how large the marketplace is,” McMillen said.\nMaybe he shouldn’t have been.\nYouth sports have bounced back from the COVID-19 pandemic. The Aspen Institute’s 2024 State of Play report noted that the participation levels in sports among children ages 6-17 were the highest they’ve been since 2015. Baseball’s numbers have steadied following a decline. Little League International told The Associated Press last fall that more than 2 million kids played baseball or softball under its umbrella across the world, an uptick over 2019.\nMany of those kids are also fans of the game, some of whom may have noticed their favorite major leaguer sporting a mitt when they’re on the bases. Yes, that was San Diego Padres star Fernando Tatis Jr. sliding across home plate ( feet first, by the way ) with a bright yellow mitt on his left hand in the ninth inning of a 2-1 win over Pittsburgh last weekend.\nIt’s one of the many ways in which the game has evolved over the years. When McMillen grew up, there wasn’t much swag to go around.\n“We had our baseball uniform and our glove (and) everyone looked the same, everyone was the same,” he said. “Now, everyone wants to express themselves individually. The best way to do that without acting like a clown is to wear something that shows people who you are.”\nSelf-expression, however, doesn’t exactly come cheap, particularly in an era where top-of-the-line bats are $400 or more. What amounts to an entry-level sliding mitt can go for $40, but Goat’d and others have versions that can fetch double that.\nThat hasn’t stopped sales from being brisk, and McMillen points out it’s not merely a luxury item.\n“We don’t play football with 1940s safety equipment,” he said. “You feel better in the (batters) box when you have something that protects you, right? With a sliding mitt, it’s also like, ‘Hey this is fun. It’s cool. I want to be like my fave high school player, like my favorite college player.’”\nIt’s becoming increasingly common for McMillen and other members of the company’s staff to spot Goat’d gear at the field. In recent months, they’ve popped up in youth tournaments from Georgia to Las Vegas, sometimes in the back pockets of players as young as 6 or 7. McMillen can’t help but shake his head to see his product become part of the time-honored tradition of kids imitating their heroes.\nWhich is good for business and, oh by the way, probably unnecessary.\nThe pressure to keep up\nHere’s the thing: In most — if not all — youth baseball leagues, head-first slides that would require a player to stretch out their hand to secure the bag are illegal.\nIn Little League, for example, stealing bases for players 12-and-under is rare because the player can only take off after the ball has reached the batter. And even if they do bolt for the next base, they have to slide feet first. The only times in Little League that a baserunner can dive head-first toward a base is when they are returning to it while in a rundown or during a pick-off attempt, both of which are also rare.\nThat doesn’t stop the players from wanting a sliding mitt. It also doesn’t stop their parents from buying them, all part of the pressure to “keep up with the Jones’” that has practically been a part of youth sports culture since the first time somebody came to practice with a batting glove or wristbands.\nIt’s a phenomenon Chelsea Cahill and her family have known for years. The longtime educator who lives just east of Columbus, Ohio, has spent most of the last decade shuttling her three boys from practice to games to tournaments.\nWhat she and her husband have learned over the years is that some trends come and go, but the pressure to have the right stuff remains.\n“There’s always that feeling of ‘This is the next new thing’ or ‘This is what you’ve got to get,’” Cahill said.\nThey appeased their sons up to a point, but only up to a point.\nLast summer their youngest son Braxton, then 11, and the rest of the kids on his travel team kept pestering their parents to buy sliding mitts. Entering the final tournament, the team moms decided to give in.\nSort of.\nRather than plop down that kind of money for something they didn’t actually need, the moms headed to a local dollar store and bought them actual oven mitts — the kind used to pull tonight’s dinner from out of the oven. Average retail price? Less than a cup of coffee at the gas station.\nOh, and the kids loved them, and wore them during the game. Cahill posted video of them playing with the mitts stuck in their back pocket to her TikTok account. The video is now at 12 million views and counting.\n“They thought it was hilarious, but we didn’t really think they would wear them for the rest of the tournament,” Cahill said. “We were wrong. They really embraced it!”\nAmong viewers of that TikTok, by the way, were the people at Goat’d, who sent Braxton a couple of mitts as a result.\nThe good news is, Cahill now won’t have to buy one for Braxton this spring. Yet there’s also something else she has learned through the years: this time in her boys’ lives is fleeting.\nFor proof, just look at her calendar. Her two older sons — the ones who played travel baseball just like Braxton, and asked for all the cool stuff their teammates had, just like Braxton has — gave up baseball by the time they got to high school.\nHer advice to parents who might be feeling the financial pinch of what it takes to play these days: relax.\n“We’ve learned as parents is to stop taking it so seriously,” she said. “They’re kids. Let them have fun.”\nThe reality\nA day after hundreds of members of the Monroeville Baseball and Softball Association marched through the Pittsburgh suburb’s well-appointed community park, the regular season is in full swing.\nAll four fields are alive with the chatter of coaches, parents and boys and girls aged anywhere from 5-12.\nOver on Field 1, the Rays are in the middle of their season opener. Playing first base, Josiah Jones has his glove at the ready, with a black sliding mitt noticeably sticking out of his left back pocket.\nPer the league rules, the Rays and the other players at the “Bronco” level (ages 11-12), play actual full-on baseball. They can take leads and steal bases whenever they like, though head-first slides are only allowed when returning to a base, just like in Little League.\nLongtime MBSA executive commissioner Josh Playssmeyer is milling about, trying to keep tabs on everything. Plassmeyer outlawed sliding mitts on his son Grant’s 10-and-under tournament team, calling them a “distraction” because players would spend so much time fiddling with them once they got to first base, they would miss signs from the third-base coach.\nAbout 50 feet away, Jones settles into the box and rips a ball to left-center field. His long legs carry him past first base, and he cruises into second with an easy double.\nAs his teammates erupted in the dugout, Jones beamed for a brief moment. Then, as the opposing pitcher stepped onto the rubber, he took an aggressive lead off second and eyed third.\nHis back pocket, the one where his sliding mitt had been 30 minutes before, was empty.\n___\nAP MLB: https://apnews.com/hub/mlb",
         "True",
         null,
         null
        ],
        [
         "29",
         "https://apnews.com/article/nyc-mayor-eric-adams-trump-6a76e9abeeb3ef6328e3195806aba663",
         "Trove of documents unsealed in NYC mayor’s criminal case offers a glimpse of thwarted investigation\nNEW YORK (AP) — Federal agents investigating New York City Mayor Eric Adams were still seizing phones and applying for search warrants days before Justice Department leaders ordered prosecutors to drop the corruption case, according to documents released Friday.\nThe trove of court records, which had been sealed, opens a window into the criminal case and shows that even as Washington officials were backing away from the prosecution, investigators in Manhattan were moving forward.\nThe documents also confirm something prosecutors revealed previously: That a federal investigation into whether Adams took improper campaign contributions began in August of 2021, when the Democrat was still in his old job of Brooklyn borough president but was widely expected to win the mayor’s race that fall.\nAdams has repeatedly said he believed he was prosecuted because, much later, as mayor, he criticized former President Joe Biden’s immigration policies.\nThe investigation first spilled into public view in November 2023, when FBI agents seized Adams’ phones and iPad as he was leaving an event in Manhattan. He was charged 10 months later with accepting free travel and illegal campaign contributions from people seeking to buy his influence, including a Turkish diplomat.\nBut on Feb. 10, weeks after President Donald Trump took office, the new leadership of the Justice Department ordered federal prosecutors in New York to drop the charges, arguing the case was hindering the mayor’s ability to assist in the Republican administration’s immigration crackdown.\nThe extraordinary directive roiled federal prosecutors’ offices in Manhattan and Washington. Rather than implement the order, multiple prosecutors resigned, including the top federal prosecutor in Manhattan, Danielle Sassoon. A judge ultimately said he legally had no choice but to dismiss the case at the request of senior Justice Department officials.\nProsecutors were continuing to dig into Adams in the weeks before the case got halted, and Sassoon has said they were on the verge of bringing additional charges against him for obstruction of justice.\nOn Feb. 7 a judge had signed off on an application to search a phone that an unidentified subject of the investigation had turned over in response to a subpoena. Weeks earlier, a judge had signed a warrant to search a home in Middletown, New York, in connection with a probe of alleged straw donations made to Adams’ campaign in 2020. Around the same time, prosecutors requested a warrant to access location data for a mobile phone in that investigation. On Dec. 4, a judge had approved a request by federal investigators to search a home in Queens.\nSearches and seizures\nU.S. District Judge Dale E. Ho ordered the records unsealed at the request of The New York Times and, later, the New York Post. The Times argued in court papers that there was a “particularly compelling” case for making them public because there would be no trial. Neither Adams’ lawyers, nor prosecutors opposed the request.\nThe documents offer a behind-the-scenes look at how investigators pieced their case together through searches of electronics and physical locations around New York and beyond.\nThe unsealed documents also revealed that in May 2024, a magistrate judge signed off on a warrant to search the Fort Lee, New Jersey, condominium home of the mayor’s longtime romantic partner, Tracey Collins, who formerly served as a senior official in the city’s Department of Education.\nThe warrant application does not name Collins directly but identifies her as Adams’ partner and says the mayor also sometimes uses the home. Agents wanted to do the search to get access to five iPhones as they looked into whether an official connected to the Turkish consulate sought help getting a child admitted to a highly sought-after public middle school.\nAlso included was the September 2024 application for a warrant to search Gracie Mansion, the mayor’s official residence in Manhattan, providing photos of the building from multiple angles.\nAn affidavit from an FBI agent notes that location data for one of Adams’ phones suggests he spends the “overnight hours” of Monday, Tuesday and Wednesday at the residence “and occasionally does so on other days as well.”\nAdams meets with Trump\nAsked for comment on the new documents, Adams’ lawyer, Alex Spiro, criticized the now-ended prosecution.\n“This case — the first of its kind airline upgrade ‘corruption’ case — should never have been brought in the first place and is now over,” Spiro, said.\nAdams has touted the dismissal of the case as a vindication, while denying that he cut a deal with Trump in exchange for leniency. But he has maintained a warm relationship with the president after his case was dismissed. The two leaders met in Washington on Friday, with Trump later telling reporters that “I think he actually came in to thank me.”\nAdams’ office released a statement that said they discussed “critical infrastructure projects, as well as the preservation of essential social services, among other topics.”\nEven with the criminal charges behind him, Adams faces an uncertain political future. He recently announced that he would skip the Democratic primary in June and instead run as an independent in the November general election.\n___\nAssociated Press writers Jennifer Peltz, Anthony Izaguirre, Ruth Brown, Philip Marcelo, David B. Caruso and Larry Neumeister contributed to this report.",
         "True",
         null,
         null
        ],
        [
         "30",
         "https://apnews.com/article/pope-leo-xiv-humor-chicago-19f477fd02c571cf279b2365678298fe",
         "‘DA POPE!’ Leo XIV’s Chicago roots unleash spate of holy humor\n‘DA POPE!’ Leo XIV’s Chicago roots unleash spate of holy humor\nA Chicago-born cardinal walks into a conclave. The rest of the joke tells itself.\nIn the breathless day since Pope Leo XIV’s election as the first American pontiff, the memes, doctored images and tongue-in-cheek references have piled up deeper than Chicago’s pizza and more loaded than its hot dog, seemingly irresistible to comics and commoners alike.\nStained-glass windows depicting a dunking Michael Jordan? A change in canon law to make ketchup-topped frankfurters a sin? Cameos in “The Bear”? All of it apparently as tempting as the forbidden fruit.\n“You just saw a billion jokes,” says Chad Nackers, who was raised Catholic and now presides as editor-in-chief of The Onion, the satirical site that heralded Robert Prevost’s elevation with an image of the smiling pontiff encased in a poppyseed-dotted bun.\n“Conclave Selects First Chicago-Style Pope,” read the headline.\nThe pageantry of the church and the idea of a man who acts as a voice for God, Nackers says, combine for fertile humorous ground no matter the pontiff. Having him hail from the U.S., though, and a city as distinct as Chicago, opens up a whole new world of funny.\n“It’s just kind of ripe for humor,” Nackers says.\n“DA POPE!” blared the front of the Chicago Sun-Times on Friday, one of countless spins on the city’s unique accent, immortalized in “Saturday Night Live” sketches. No matter how Pope Leo XIV actually appears, in this realm of humor, he’s a mustachioed everyman who swaps his Ts for Ds and his zucchetto for a Bears cap.\nWith the Second City in the spotlight, more Chicago tropes were trotted out than even the famed namesake improv troupe could dream up. The popemobile traded for the Dodge Monaco made famous in “The Blues Brothers”? Check. Twists on city-set shows and movies like “Chicago Hope,” er, “Chicago Pope”? Yup. Dreams of Portillo’s Italian beef sandwiches and the Chicago liqueur Malört taking the place of the bread and wine of communion? Yes, chef. Over and over again.\nIn sports-loving Chicago, city teams were spun in a swell of papal humor. Initial belief that the pope’s baseball loyalties were with the Cubs led content creator Caitlin Hendricks to muse that Leo ironically hates the Cardinals. As it turns out, though, it appears the man in white roots for the White Sox.\nIt didn’t stop those in Wrigleyville from eating up pope memes and feeling hometown pride. At the Sports World shop, one woman came in asking for a Cubs jersey with Pope Leo XIV’s name splayed across the back. Down the street at Wrigleyville Sports, Chad Grant said he wouldn’t hate Leo for rooting for the Sox, but that “I just feel bad, because he’s been used to losing for a little while.”\nLate-night hosts, too, had a ball with an American’s ascension.\nJimmy Fallon mused of “deep-dish communion wafers” from a pope known as “Bobby Bratwurst.” Stephen Colbert, a devout Catholic who performs in a studio with nearly as much stained glass to rival St. Patrick’s Cathedral, offered patriotic “Pope-S-A” chants and mentions of “da prayers” in thick Chicago tongue.\n“I’m actually surprised by how excited I am,” Jimmy Kimmel said in his first monologue after the news. “An American who grew up here, watched all the shows we watched, rooted for teams, is now in Rome at the head of the church … this must have been what it felt like when they opened the first Olive Garden.”\nMore will come, a cascade of Ferris Bueller jokes and asides on canonizing Mike Ditka. There will be Oprah exuberantly shouting “You get a new pope! And you get a new pope!” And more memes of the pope in a dyed-green Chicago River or atop its shiny “Cloud Gate” bean than anyone can count.\n“There’s just a lot of joy in the city right now,” says Ashley Lenz, a theologian in Chicago who works for the Catholic prayer app Hallow. “There’s a certain delight of seeing something sacred break into the ordinary. The idea of a pope who’s stood in line at Portillo’s or cheered on the Sox makes it all feel closer to home. It makes the papacy feel human again.”\n___\nAssociated Press writer Melina Walling contributed to this report from Chicago.\n___\nMatt Sedensky can be reached at [email protected] and https://x.com/sedensky.",
         "True",
         null,
         null
        ],
        [
         "31",
         "https://apnews.com/article/ethics-bowl-students-american-divisiveness-2d8297d1596646090af9994ac3d00770",
         "From debate to dialogue: In a contentious era, ‘Ethics Bowl’ offers students a gentler alternative\nFrom debate to dialogue: In a contentious era, ‘Ethics Bowl’ offers students a gentler alternative\nCHAPEL HILL, N.C. (AP) — A contrast:\nAt the National Speech and Debate Tournament, two high school students take the stage. The first articulates the position he has been assigned to defend — people should have a right to secede from their government — and why it is correct. Another student, assigned the opposite position, begins to systematically tear down her opponent’s views.\nA year later and 800 miles away, two teams of high school students convene at the University of North Carolina for the National High School Ethics Bowl finals. A moderator asks about the boundaries of discourse — when a public figure dies, how do you weigh the value and harm of critical commentary about their life?\nTeams have not been assigned positions. One presents their ideas. The opposing team asks questions that help everyone to think about the issue more deeply. No one attacks.\nIn debate, the goal is to try and convince the judges that you’re right and your opponent is wrong. In the National High School Ethics Bowl, there are no “gotcha” moments. (AP video: Allen G. Breed)\nMany a young debater may learn the rhetorical skills to become a successful lawyer or politician, subduing an opponent through wit and wordplay. But are they learning skills that will make them better citizens of an increasingly complex and contentious republic?\nIn an age when many Americans are wondering whether it is still possible to have a principled, respectful disagreement over important issues, proponents of Ethics Bowl say it points the way.\nDiscussion replaces contentiousness\nEthics Bowl may resemble debate. After all, it’s two teams discussing a controversial or difficult topic. But they are very different.\nIn Ethics Bowl, teams aren’t assigned a specific position on an issue that they have to defend regardless of their beliefs. Instead, members are given cases to discuss and make their own decisions about what they consider the best position. Teams can, and often do, come to similar conclusions. It is — and this is important — OK for them to agree. Scoring is based on how deeply they explore the issues, including other viewpoints.\nRobert Ladenson, who developed the Ethics Bowl as a college philosophy classroom exercise back in 1993 and went on to lead the Intercollegiate Ethics Bowl for decades, explains what he considers an ethical understanding of an issue in an oral history for the University of Illinois in 2023.\nIt means “having some capacity to view, from the inside, the ethical outlooks of people who disagree with you. That means not simply being aware of what they’ve said or what they’ve written, or being able to develop a nifty debaters’ responses to the viewpoints they hold — but really looking inside the other view and trying to understand it from the other person’s way of looking at the world.”\nIt’s a reach for understanding and common ground\nThat plays out at Ethics Bowl. Take the case “See Spot Clone,” about whether it is ever ethical to clone a beloved pet.\nHarpeth Hall from Nashville starts the discussion with six minutes to present their thoughts. There are millions of homeless pets, so the ethical choice is to adopt, they believe. Cloning is self-serving for the human. The pet cannot consent to being cloned. Also, cloning may involve unknown health issues for the cloned pet, as in the renowned case of Dolly the sheep. The team also believes that death is a part of life, and it is important for people to confront death.\nNow it is the turn of team B, Miami’s Archimedean Upper Conservatory — not to attack and refute, but to ask questions that expand the discussion. What about pet breeders? Where do they fit on the ethical continuum? Also, what’s so wrong with cloning a pet for your own happiness? Are all selfish pursuits bad?\nTeam A responds that breeding is better than cloning but worse than adopting a stray. They point out that a cloned pet will not have the same personality, and that could bring the owner pain instead of comfort.\nNext the judges ask questions. What if there were no possible health problems for the cloned animal? What if the animal is not cloned to comfort an owner but for a more noble purpose? Would it be ethical to clone a skilled search-and-rescue dog?\nCloning is still a threat to the “natural cycle of life,” Team A contends. And there is no guarantee that the temperament and personality that make an excellent service animal would be retained in a clone.\nOnce the round is complete, the moderator introduces a new case.\nEasy answers are avoided\nIn a society awash in shortcuts and simple solutions, simply setting the ground rules for contentious conversations can be a high hill to climb. At the Ethics Bowl, though, it’s part of the point: The process of conversation is as important as the outcome. And subtlety matters.\nA good Ethics Bowl case is one where “two well-meaning individuals can take in all of the same facts and information and come to diametrically opposite, value-driven answers,” says Alex Richardson, who directed the National Bowl for five years.\nThe cases students grapple with include real-life scenarios pulled from the headlines, like the less-than-respectful response to the murder of United Healthcare CEO Brian Thompson. There are also more philosophical issues, like whether humans should pursue immortality. And there are dilemmas that teenagers deal with every day, like whether not posting on Instagram about a hate crime in your community makes you complicit.\nThat last case was a difficult one for the team from Harpeth Hall, they say, but it helped them clarify some of their thoughts around social media.\n“We came to the conclusion that no one is obligated to share information,” says Katherine Thomas. “But then there was a difference like when you’re talking about Taylor Swift, when she actually could register 500,000 people to vote but she decides not to. Is she actually complicit in that? She has the actual power to make change, where I don’t, really, with my 200 followers.”\nAnother case considered whether to confront an uncle who makes sexist remarks at the dinner table. Discussing the issue with her Harpeth Hall teammates helped Thalia Vidalakis think through when it might be good to speak up and when “it’s good to just be there for your family and recognize that there’s going to be differences.”\nIt unfolds in a low-key way\nA group of teenagers sits at a table with sticker-covered water bottles and the occasional Red Bull. They are allowed only pens and blank paper, no previous notes, but their backpacks litter the room. Their opponents sit at a neighboring table. In between is a moderator. Facing them are three judges pulled from the UNC philosophy department, Ethics Bowl leaders from other states, even the community at large. There is no dress code, so the teens come in whatever they consider nice clothes.\nThe teams have been discussing a group of cases for weeks, but they don’t know which they’ll be asked about. Once the question is read, they are given a few minutes to discuss. That’s when one or two of the teammates generally scurry around the table to huddle. Intense whispering and furious scribbling ensue.\nIt’s clearly a contest. There is a winning team and a trophy. But students say it is not competitive in a traditional sense.\n“We’re all sad that it has to end. But I agree that it’s not about beating people,” says Lizzie Lyman, whose first-year team from Midtown High School in Atlanta lost in the semifinals of the national championship. “When it becomes about winning and beating the other team, it gets hostile and ... just unsavory. When it’s about constructively answering a question and just having a really interesting, engaging conversation, that’s where you get to have all these amazing conversations.”\nCompetitiveness isn’t only beside the point. It can even be counterproductive in achieving the desired goal. That’s how Mae Bradford of the winning team BASIS Flagstaff from Arizona sees it. Her assessment: “Something that’s rare and unique about Ethics Bowl is that those who don’t focus on winning and instead focus on truth and respect and getting to the moral heart of the issue will win.”\nChanging minds, one kid at a time\nPart of the point of the Ethics Bowl is to create well-rounded students who ingest other viewpoints and engage without arguing. A 2022 survey of participants in nationals found that 100% believed that their critical thinking skills had improved. A large majority said their ethical or political beliefs had changed.\nThere is clearly a thirst for a different kind of competition. The National High School Ethics Bowl is only 12 years old, and this year saw 550 teams competing in regional bowls around the country.\nSona Zarkou, also on the BASIS Flagstaff team, sees herself as a case study in Ethics Bowl benefits. When she practiced debate, she says, she was “kind of a jerk” — “very quick to attack and very rude” about opposing views. In Ethics Bowl she sees herself “turn the discussion to something a lot more respectful, a lot more truth-oriented.”\nRhiannon Boyd, a judge at this year’s competition as well as a high school teacher and coach and the organizer of the Virginia High School Ethics Bowl, has seen the positive changes as well. Two of her students last year were on opposite ends of the political spectrum. Their disagreement was great. Could they be on the same team together? In the end, both joined and made it all the way to nationals.\nTheir differing opinions remain. But now, Boyd says, they are “really good friends.”\n“They can see each other’s strengths because they were sitting side by side at nationals in a huddle trying to build off of each other’s ideas,” she says. “They could see that leveraging those differences was actually the thing that made them strong.”\nEthics Bowl: Lesson learned. ___\nAP National Writer Allen G. Breed contributed to this report.",
         "True",
         null,
         null
        ],
        [
         "32",
         "https://apnews.com/article/unrwa-schools-east-jerusalem-israel-palestinians-gaza-hamas-ce77505a6d5da1d67aa6859e4a233435",
         "The Associated Press is an independent global news organization dedicated to factual reporting. Founded in 1846, AP today remains the most trusted source of fast, accurate, unbiased news in all formats and the essential provider of the technology and services vital to the news business. More than half the world’s population sees AP journalism every day.\nIsrael has ordered six schools in East Jerusalem to close this week, throwing the educational future of 800 children of Palestinian refugees into turmoil.\nIn a visit to one of the schools — all run by the United Nations agency for Palestinian refugees, known as UNRWA — Associated Press reporters witnessed Israeli police throw tear gas into the schoolyard as a group of boys played outside.\nChildren sprinted away from the gas, coughing, drooling and covering their eyes. Some stripped off their clothes while others donned disposable masks.\nA student reacts to tear gas fired by Israeli Police in the yard of the UNRWA Boys’ School, in the Shuafat Refugee Camp in east Jerusalem, Tuesday, April 29, 2025. (AP Photo/Maya Alleruzzo)\nStudents and teachers react to tear gas fired by Israeli Police into in the yard of the UNRWA Boys’ School in the Shuafat Refugee Camp in east Jerusalem, Tuesday, April 29, 2025.(AP Photo/Mahmoud Illean)\nA student runs from tear gas fired by Israeli Police into the yard of the UNRWA Boys School in the Shuafat Refugee Camp in east Jerusalem, Tuesday, April 29, 2025. (AP Photo/Maya Alleruzzo)\nStudents react to tear gas fired by Israeli Police into the yard of the UNRWA Boys' School in the Shuafat Refugee Camp in east Jerusalem, Tuesday, April 29, 2025. (AP Photo/Maya Alleruzzo)\nIsraeli police said the incursion into the Shuafat refugee camp came in response to stone-throwing but denied directly targeting the school. Teachers and administrators said the firing of tear gas onto schools grounds is uncommon, but Israeli operations into the camp regularly interfere with learning.\nTeacher Duaa Zourba ran to check on her students.\n“As teachers in Shuafat, our first job has always been to ensure the protection and the safety of our kids,” she said. “Whenever there’s a raid, we close windows. We close doors so that they don’t smell very heavy tear gas.”\n“The goal,” she said, “is for the kids to always think of this school as a safe place, to remember that there’s a place for them.”\nStudents participate in physical education at the UNRWA Boys’ School in the Shuafat Refugee Camp in east Jerusalem, Tuesday, April 29, 2025. (AP Photo/Maya Alleruzzo)\nStudents sit at their desks at the UNRWA Boys’ School in the Shuafat Refugee Camp in east Jerusalem, in the Shuafat Refugee Camp in east Jerusalem, Tuesday, April 29, 2025. (AP Photo/Maya Alleruzzo)\nStudents snack during recess at the UNRWA Boys’ School in the Shuafat Refugee Camp in east Jerusalem, Tuesday, April 29, 2025. (AP Photo/Maya Alleruzzo)\nPuppets are displayed in teacher Doaa Zourba’s classroom at the UNRWA Boys’ School in the Shuafat Refugee Camp in east Jerusalem, Tuesday, April 29, 2025. (AP Photo/Maya Alleruzzo)\nStudents participate in physical education at the UNRWA Boys’ School in the Shuafat Refugee Camp in east Jerusalem, Tuesday, April 29, 2025. (AP Photo/Maya Alleruzzo)\nA woman passes the front entrance to the UNRWA Boys’ School in the Shuafat Refugee Camp in east Jerusalem, Tuesday, April 29, 2025. (AP Photo/Maya Alleruzzo)\nStudents play outside during recess at the UNRWA Boys’ School in the Shuafat Refugee Camp in east Jerusalem, Tuesday, April 29, 2025. (AP Photo/Maya Alleruzzo)",
         "True",
         null,
         null
        ],
        [
         "33",
         "https://apnews.com/article/china-us-tariffs-timeline-negotiations-switzerland-d9f1d0e10d328a5d32413016d9d909f2",
         "How US-China tariffs reached sky-high levels in 3 months\nTAIPEI, Taiwan (AP) — Talks planned this weekend between U.S. and Chinese officials in Switzerland are a culmination of more than three months of dizzying rounds of retaliatory tariffs between the two countries that have crippled each other’s exporters and dragged on their economies.\nWashington and Beijing are entering talks with tariffs on each other’s goods at an all-time high. U.S. duties on Chinese imports stand at 145%, while China’s retaliatory tariffs on U.S. goods have reached 125%.\nU.S. President Donald Trump said he believed the talks could bring tangible progress, and that he was open to lowering the tariffs substantially if Beijing made concessions. China, however, has reiterated calls for Washington to cancel the tariffs ahead of the talks.\nHere is a play-by-play of how U.S. and Chinese tariffs have reached such sky-high levels since the beginning of Trump’s second term in office:\nFeb. 1, 2025\nTrump signs an executive order imposing 10% tariffs on China, as well as 25% duties on Mexico and Canada. He later announces a 30-day reprieve on the Mexican and Canadian tariffs.\nFeb. 4\nThe 10% tariffs on all Chinese imports to the U.S. come into effect. China retaliates the same day by announcing a flurry of countermeasures, including duties on American coal, liquefied natural gas and agricultural machinery.\nMarch 4\nTrump imposes additional 10% tariffs on all Chinese goods, bringing the total level of duties to 20%. China responds with tariffs of up to 15% on imports of key U.S. farm products including chicken, pork, soy and beef, and expanded controls on doing business with key U.S. companies.\nMarch 10\nChinese tariffs and measures announced on March 4 go into effect.\nApril 2\nOn Trump’s so-called tariff “Liberation Day,” he announces additional 34% duties on all Chinese imports, alongside tariffs on goods from countries around the world. The sweeping tariffs are to come into effect April 9.\nApril 4\nChina fights back by imposing 34% tariffs on all U.S. goods, effective April 10, as well as other retaliatory measures including more export controls on rare earth minerals.\nChina also suspends imports of sorghum, poultry and bonemeal from several U.S. companies, adds 27 firms to lists of companies facing trade restrictions, and starts an anti-monopoly probe into DuPont China Group, a subsidiary of the U.S. company DuPont.\nApril 7\nTrump threatens China with additional 50% tariffs if it doesn’t roll back its 34% reciprocal tariffs.\nApril 9\nTrump’s “Liberation Day” tariffs come into effect. The U.S. raises tariffs on China even higher than previously announced, to 104%.\nBeijing retaliates with duties of 84% on U.S. goods, effective April 10.\nTrump further raises tariffs on all Chinese goods to 145%, effective immediately.\nApril 11\nChina raises its tariffs on all U.S. goods to 125%, effective April 12. Beijing says it would not raise the duties any further.\nMay 6\nThe Trump administration announces that Treasury Secretary Scott Bessent and U.S. Trade Representative Jamieson Greer will meet with their Chinese counterparts in Geneva. China will be represented at the talks by Vice Premier He Lifeng.",
         "True",
         null,
         null
        ],
        [
         "34",
         "https://apnews.com/article/blake-shelton-for-recreational-use-only-review-0274d83fec57cad442e35ee00659ec7e",
         "Music Review: Blake Shelton returns to his roots with ‘For Recreational Use Only’\nMusic Review: Blake Shelton returns to his roots with ‘For Recreational Use Only’\nBlake Shelton’s 13th studio album opens with a fitting declaration for both his latest project and the current state of his career: “Stay Country or Die Tryin’.”\nIt would be more accurately phrased like a question.\nAt this stage, Shelton is a longtime veteran of Hollywood on “The Voice” stage with a pop superstar wife in Gwen Stefani, far removed from his Nashville roots, all while maintaining the position of one of the most high-profile country stars of the current moment. But if country is a lifestyle and an image beyond its musical forms — saying nothing of the opening track’s arena-sized rock elements — is he staying true to some ethos? Is Shelton speaking diaristically when he sings “Boots ain’t never seen easy street” in the album’s opening verse?\nPerhaps not. In 2025, he performs between worlds, but no matter. He’s long dedicated himself to big country radio hits and returns to those roots across “For Recreational Use Only.” The songs here concern themselves with lived-in bars (“Cold Can”) and backroad acuity (“Some things we all gotta get through/‘Til it’s goin’, goin’, gone in the big rear view,” Shelton sings on “Life’s Been Comin’ Too Fast.”)\n“The Keys” is haunted by past lives, or at least, achingly sentimental in his jukebox country style; “Don’t Mississippi” offers whiskey wisdom: “You might die from a broken heart,” he sings. “But you ain’t gonna die of thirst.”\nCharms are found across the release, like in the honky-tonk happy “Texas,” and its cheerful reference to George Strait’s classic “All My Ex’s Live In Texas,” or the big-hearted and big-voiced ballad on God and grief, “Let Him In Anyway.”\nCollaborations are few and pointed. Shelton and Stefani harmonize beautifully on “Hanging On’\"; he does the same with Craig Morgan on “Heaven Sweet Home,” an affecting meditation of mortality. He taps Josh Anderson for the slow-burn closer “Years.”\nShelton might live a very different life than the characters found in his songs, as is often true of any larger-than-life celebrity performer. But make no mistake, this is a giant pop country record, with limitless potential for radio ubiquity.\n___\nFor more AP reviews of recent music releases, visit: https://apnews.com/hub/music-reviews",
         "True",
         null,
         null
        ],
        [
         "35",
         "https://apnews.com/article/papa-leon-vision-papado-inteligencia-artificial-37452ba330a12df5f26c8b98f70c2a63",
         "León XIV expone su visión del papado e identifica la IA como un desafío clave para la humanidad\nCIUDAD DEL VATICANO (AP) — El papa León XIV expuso su visión para el papado el sábado, identificando a la inteligencia artificial como uno de los asuntos más críticos a los que se enfrenta la humanidad y prometió continuar con algunas de las prioridades fundamentales del papa Francisco.\nPero en una señal de que estaba haciendo del papado algo muy suyo, León realizó su primera salida desde su elección, viajando a un santuario al sur de Roma dedicado a la Virgen y de particular importancia para su orden agustiniana y su homónimo, el papa León XIII.\nLos habitantes de Genazzano se reunieron en la plaza frente a la iglesia principal que alberga el Santuario de la Madre del Buen Consejo cuando León llegó y los saludó. El santuario, que es administrado por frailes agustinos, ha sido un lugar de peregrinación desde el siglo XV y el anterior papa León lo elevó a basílica menor y expandió el convento adyacente a principios del siglo XX.\nDespués de rezar en la iglesia , León saludó a los habitantes de la localidad y les dijo que tenían tanto un regalo como una responsabilidad al tener a la Virgen en su entorno. Ofreció una bendición y luego volvió al asiento del pasajero del coche, un Volkswagen negro. De camino de regreso al Vaticano, se detuvo a rezar en la tumba de Francisco en la Basílica de Santa María la Mayor.\nLa salida después del almuerzo se produjo después de que León presidiera su primera audiencia formal con los cardenales que lo eligieron papa. En ella, León mencionó repetidamente a Francisco y la declaración de misión del papa argentino de 2013, dejando claro su compromiso de hacer de la Iglesia católica una institución más inclusiva, atenta a los fieles y que se preocupa por los “menos favorecidos y rechazados”.\nLeón, el primer papa estadounidense, dijo a los cardenales que estaba completamente comprometido con las reformas del Concilio Vaticano II, las reuniones celebradas en la década de 1960 que modernizaron la institución. Identificó la inteligencia artificial como uno de los principales problemas que enfrenta la humanidad y afirmó que plantea desafíos para defender la dignidad humana, la justicia y el trabajo.\nEmergen algunas señales sobre el futuro\nEl Vaticano, mientras tanto, proporcionó pistas sobre el pontificado de León: reveló el sábado que conservaría el lema y el escudo de armas que tenía como obispo de Chiclayo, Perú, que enfatizan la unidad en la Iglesia.\nEl lema, “In Illo uno unum”, fue pronunciado por San Agustín en un sermón para explicar que “aunque los cristianos seamos muchos, en el único Cristo somos uno”. El emblema es el de la orden agustiniana: un corazón llameante perforado y un libro, que representa las Escrituras.\nEl Vaticano también proporcionó detalles sobre la cruz pectoral que lleva León: fue un regalo de la orden agustiniana cuando fue nombrado cardenal en 2023. Contiene reliquias de San Agustín y su madre, Santa Mónica, quien fue crucial en su conversión al cristianismo.\nSan Agustín de Hipona es uno de los gigantes teológicos y devocionales del cristianismo primitivo. La orden agustiniana, formada en el siglo XIII como una comunidad de frailes “mendicantes”, está dedicada a la pobreza, el servicio y la evangelización.\nIdentificándose con el papa Francisco\nEl pontífice se refirió a la inteligencia artificial al explicar la elección de su nombre: Su homónimo, el papa León XIII, fue papa de 1878 a 1903 y sentó las bases del pensamiento social católico moderno. Lo hizo de la manera más famosa con su encíclica Rerum Novarum de 1891, que abordó los derechos de los trabajadores y el capitalismo en el amanecer de la era industrial. El difunto papa criticó tanto el capitalismo laissez-faire como el socialismo centrado en el estado, dando forma a una corriente económica distintivamente católica.\nEn sus comentarios del sábado, León dijo que se identificaba con su predecesor.\n“En nuestros días, la Iglesia ofrece a todos el tesoro de su enseñanza social en respuesta a otra revolución industrial y a los desarrollos en el campo de la inteligencia artificial que plantean nuevos desafíos para la defensa de la dignidad humana, la justicia y el trabajo”, señaló.\nHacia el final de su pontificado, Francisco se volvió cada vez más vocal sobre las amenazas a la humanidad que plantea la inteligencia artificial y pidió un tratado internacional para regularla.\nFrancisco, en muchos sentidos, vio al misionero agustiniano nacido en Chicago, Robert Prevost, como una especie de heredero aparente: lo trasladó para hacerse cargo de una pequeña diócesis peruana en 2014, donde Prevost más tarde se convirtió en obispo y jefe de la conferencia episcopal peruana, y luego lo llamó a Roma para hacerse cargo de una de las oficinas más importantes del Vaticano encargada de evaluar las nominaciones de obispos en 2023.\nEn el discurso, pronunciado en italiano en el aula del sínodo del Vaticano, no en el Palacio Apostólico, León hizo repetidas referencias a Francisco y al luto por su muerte. Sostuvo la declaración de misión de Francisco al inicio de su pontificado en 2013, “La alegría del Evangelio”, como una especie de órdenes para él mismo.\nMencionó la insistencia de Francisco en la naturaleza misionera de la Iglesia y la necesidad de hacer su liderazgo más colegiado. También habló sobre la necesidad de prestar atención a lo que dicen los fieles “especialmente en sus formas más auténticas e inclusivas, especialmente la piedad popular”. Nuevamente, refiriéndose a la declaración de misión de Francisco de 2013, León hizo hincapié en la necesidad de que la Iglesia exprese “cuidado amoroso por los menos favorecidos y rechazados” y participe en un diálogo valiente con el mundo contemporáneo.\nUn cónclave rápido\nLeón, que fue recibido con una ovación de pie al entrar, leyó de su texto previamente preparado, levantando la vista ocasionalmente. Incluso cuando apareció por primera vez ante el mundo en la logia de la Basílica de San Pedro el jueves por la noche, León leyó de un texto preparado que debió haber redactado en algún momento antes de su histórica elección o en la hora que transcurrió después de ésta. Parecía más cómodo hablando de manera improvisada en las pocas palabras que pronunció en español.\nPrevost fue elegido el 267mo pontífice el jueves en la cuarta votación del cónclave, un resultado excepcionalmente rápido dado que este fue el cónclave más grande y geográficamente diverso de la historia y no todos los cardenales se conocían antes de llegar a Roma.\nEl cardenal de Madagascar Désiré Tsarahazana dijo a los periodistas el sábado que en la votación final, Prevost había recibido “más” de 100 votos. Eso sugiere un margen extraordinario, muy por encima de los dos tercios, o 89 votos, necesarios para ser elegido.\nEl comentario de un contendiente\nEl cardenal Pietro Parolin, secretario de Estado del Vaticano, quien había sido considerado uno de los principales contendientes para ser papa, ofreció sus felicitaciones el sábado en una carta publicada en el periódico de su ciudad natal, Il Giornale di Vicenza.\nParolin elogió la comprensión de León sobre los problemas actuales, recordando sus primeras palabras desde la logia cuando habló de la necesidad de una paz que sea “desarmada y desarmante”. Parolin dijo que había apreciado el liderazgo de Prevost en Chiclayo, diciendo que ayudó a manejar un problema particularmente espinoso —sin detalles— y llegó a apreciar más de cerca su gobernanza en el Vaticano manejando la oficina de los obispos.\nEspecíficamente, Parolin elogió la comprensión de León de las personas y situaciones, su “calma en la argumentación, equilibrio al proponer soluciones, respeto, cuidado y amor por todos”.\n___\nLa cobertura religiosa de Associated Press recibe apoyo a través de la colaboración de AP con The Conversation US, con financiación de Lilly Endowment Inc. AP es el único responsable de este contenido .\n___\nEsta historia fue traducida del inglés por un editor de AP con la ayuda de una herramienta de inteligencia artificial generativa.",
         "True",
         null,
         null
        ],
        [
         "36",
         "https://apnews.com/article/trump-two-dolls-tariffs-toys-7b0e5d3a9035471317e6dc4ee1fbfbc1",
         "Two dolls instead of 30? Toys become the latest symbol of Trump’s trade war\nTwo dolls instead of 30? Toys become the latest symbol of Trump’s trade war\nNEW YORK (AP) — President Donald Trump’s tariffs crusade has taken aim at a number of foreign goods, from European wines and car parts from Mexico to films made abroad. Lately, the president’s wandering ire has found another rhetorical poster child: toy dolls.\nTrump asserted that children will be fine having two dolls — perhaps three or five — instead of 30 if U.S. import taxes increase consumer prices. The response on social media included memes of him portrayed as the Grinch and photos of a young Barron Trump’s child-sized Mercedes convertible.\n“COMPLETELY out of touch,” The Loyal Subjects CEO Jonathan Cathey, whose collectible toy company in Los Angeles produces Strawberry Shortcake and Rainbow Brite dolls, wrote on Linkedin. “If that ain’t a ‘Let them eat cake’ moment shot through the echoes of history? Love how toys and dolls have become THE martyr metaphor for this nonsensical trade war incoherence.”\nThe president’s comments also touched a nerve with parents, both ones who took offense at the casual way he hypothesized that perhaps “two dolls will cost a couple bucks more” and those who acknowledged their own kids have more toys than they need.\nEither way, the U.S. toy industry has a lot riding on a possible deescalation of the tariff standoff between the Trump administration and the government in Beijing. Nearly 80% of the toys sold in the U.S. come from China.\nThe Toy Association, a trade group, has lobbied for an immediate reprieve from the 145% tariff rate the president put on Chinese-made products. Some toy companies warn the likelihood of holiday shortages increases each week the tariff remains in effect.\nHere’s a snapshot of the doll debate and how tariffs are impacting toys:\nHow much is the US doll market worth?\nFrom Barbie, Bratz and Cabbage Patch Kids to Adora baby dolls, American Girl and Our Generation, dolls are a big business in the U.S. as well as beloved playthings.\nThe doll category, which includes accessories like clothes, generated U.S. sales of $2.7 billion last year compared to $2.9 billion in 2023 and $3.4 billion in 2019, according to market research firm Circana.\nConsumers splurged on toys during the height of the COVID pandemic to keep children and themselves occupied, but sales flattened as inflation seized the economy.\nYounger girls becoming more interested in buying makeup and skincare also has cooled the demand for dolls, Marshal Cohen, Circana’s chief retail advisor, said.\nWhat are toy companies doing to navigate tariffs?\nThe nation’s largest toy maker, Mattel, said this week it would have to raise prices for some products sold in the U.S. to offset higher costs related to tariffs.\nThe company, whose brands include Barbie and American Girl, said the increases were necessary even though it’s speeding up the expansion of its manufacturing base outside of China.\nSmaller toy companies are expected to have a harder time than Mattel and Hasbro, which makes the eating, drinking and diaper-wetting Baby Alive. Cathey said he paused The Loyal Subjects’ shipments from China in April because he couldn’t pay the stratospheric tariff they would have incurred.\n“Nobody insulates themselves with that much cash,” he said.\nWith about four months’ worth of inventory on hand, Cathey said his ability to secure holiday stock depends on a break in the U.S.-China trade standoff happening in the next two weeks since it would take time for cargo operations to resume.\nCepia, a Missouri company that was behind the 2009 holiday season hit Zhu Zhu Pets, launched a line of 11-inch fashion dolls called Decora Girlz last year. CEO James Russell Hornsby said he was working to relocate some production but the move won’t happen in time to replace the orders he planned to get from China.\nHornsby described himself as a Trump supporter and said he understands the administration’s desire to reduce trade imbalances.\n“Let’s just get the deals done and stop all this because (Trump’s) disrupting Christmas,” he said.\nWhat goes into making a doll?\nAlthough American Girl launched in 1986 with a line based on fictional historical characters, the dolls never were domestic products. They were made in Germany before production eventually moved to China.\nToy experts say that in addition to lower costs, Chinese factories have developed techniques and expertise that are not easily replicated.\n“We don’t have any capacity in the U.S. to make rooted doll hair. And then you’ve got things like the faces. Some of them are hand-painted, others are done with a Tampo (printing) machine,” James Zahn, editor-in-chief of industry publication The Toy Book, said of doll-making.\nHornsby said rooting the synthetic hair onto the heads of Decora Girlz dolls is carried out by skilled workers at factories in Guangzhou and Dongguan, China.\n“It’s not just sticking into a machine and it automatically does it,” he said. ”You have to know what you’re doing in order to make that doll look like it’s got a full set of hair when literally maybe only 60% of the head is filled with hair.”\nAre toys from China safe?\nWhite House Deputy Chief of Staff Stephen Miller said last week that he assumes consumers would prefer to pay more for American-made products. Dolls made in China might have lead paint in them, he said.\nTeresa Murray, consumer watchdog director at the U.S. Public Interest Research Group, said the picture is more complicated.\nProducts for children ages 12 and under require third-party testing and certification from labs approved by the U.S. Consumer Product Safety Commission, the agency tasked with enforcing lead levels in toys, Murray said.\nThe rules apply to all products sold in the U.S. Toys by major brands such as Fisher-Price, Mattel, Hasbro and Lego, which have long outsourced manufacturing to China, are usually in compliance, she said.\nBut the rise of online shopping, including e-commerce platforms that ship directly to U.S. consumers from overseas, has posed a challenge, according to Murray. When valued at less than $800, such parcels entered the U.S. duty-free and were not subject to the same scrutiny as bulk imports, she said.\nThe White House eliminated the customs exemption starting May 2 for low-value parcels that originated in mainland China and Hong Kong. U.S Customs and Border Protection expects additional oversight will make it easier to flag problems.\nToy companies and industry experts argue the high tariffs on Chinese imports will tempt price-sensitive shoppers to search for cheap counterfeit toys that carry higher safety risks.\nCan children have too many dolls?\nPlenty of people agree American consumer culture has gotten out of hand, in large part due to prices kept low through the labor of foreign factory workers who earn much less than they would in the U.S.\nKatie Walley-Wiegert, 38, a senior marketer in Richmond, Virginia, and the parent of a 2-year-old son, agrees there’s too much materialism but thinks parents should have choices when deciding what is best for their children. She found the wealthy Trump’s comments off-putting.\n“I think it is a small view of what purchase habits and realities are for people who buy toys for kids,” Walley-Wiegert said.\nSan Francisco resident Elenor Mak, who founded the Jilly Bing doll company after she couldn’t find an Asian American doll for her daughter, Jillian, now 5, said the president’s remarks upset her because some families struggle to buy even one doll.\nThe trade war with China “just makes it even more impossible for those families,” Mak said.",
         "True",
         null,
         null
        ],
        [
         "37",
         "https://apnews.com/article/watson-buccaneers-vea-8fe1af886c44c5745b84deb13bab90cb",
         "Bucs rookie Desmond Watson, at 430-plus pounds, wants to make people forget his size\nBucs rookie Desmond Watson, at 430-plus pounds, wants to make people forget his size\nTAMPA, Fla. (AP) — Desmond Watson’s goal is to make people forget about his size and view him for his unique big-man talent.\nIt’s hard to ignore the heaviest player in NFL history.\nWatson’s journey to make the Tampa Bay Buccaneers began this weekend at the team’s rookie camp. He already has dropped between 25-30 pounds since weighing 464 pounds at the league’s scouting combine and he plans to lose more.\n“It’s a good story, but I don’t want that to be my narrative,” Watson said Saturday. “I want to be known as a football player and a good football player at that. But I guess it’s nice to make history.”\nThe 6-foot-6 defensive tackle from Florida is working with a team nutritionist and they haven’t determined an ideal playing weight for him yet.\n“It’s still a work in progress,” Watson said Saturday. “There’s a way to go. We’re going to see where I play best, where I feel best at.”\nWatson went undrafted last month before his hometown team signed him as a free agent. He couldn’t stop smiling when he met with reporters before his second day of practice.\n“I’m happy. It’s a dream come true. I can’t do anything but smile,” Watson said. “My life feels like a movie. You couldn’t write a script where a person goes from little league to high school to college (to the NFL) not having to go out of state.”\nWatson, who grew up about 20 miles from Raymond James Stadium, said he’s still never seen snow. He’s excited to learn from another big man, 346-pound defensive tackle Vita Vea. Watson briefly met the two-time Pro Bowler and exchanged a handshake.\nVea is one of the league’s premier defensive players against the run and Watson wants to be “a dominant run-stopper.”\n“Being in position to have somebody you look up to and model your game after be a leader and vet at your position group, I feel like I’m blessed,” Watson said.\nBuccaneers coach Todd Bowles was impressed with Watson’s first day but cautioned he has a long way to go.\n“He looked just as impressive before as he does now, so he’s a huge man. He’s got a lot of size,” Bowles said. “He has to make the team, first of all. Right now, we just have to see how long he can stay on the field and (we) put him on a program where we think he can make some progress. I think that’s the biggest thing for us to do, right now. We didn’t get him to say, ‘Hey, we have to put you on the field right now.’ It’s, ‘Hey, we can try to put you on this program and see what we can come up with and see if we can get our endurance better,’ and have him become a better player that way, then kind of see where he is. To judge him right now is very early and we didn’t get him for the tush push, we got him because we really thought he could play. It’s just a matter of getting him to the point where he can play more than two or three plays a (drive).”\nWatson’s size and affable personality have made him a fan favorite. He has plenty of supporters rooting for him to make the team and make an impact.\n“I’ve felt the love,” Watson said. “Mainly because it’s unheard of, I feel like people gravitate toward me. It’s been that way my whole life as far as just the energy I carry around. I do appreciate it.”\nWatson wowed NFL scouts last month by repping 225 pounds a whopping 36 times, which topped any bench-press performance at this year’s combine. He covered the 40-yard dash in 5.93 seconds and recorded 25 inches in the vertical jump.\nWatson finished his collegiate career with 63 tackles and 1 1/2 sacks. He also reluctantly carried the ball for a 1-yard gain and lined up at fullback for a few more plays against Tulane in the Gasparilla Bowl in December.\n“It was special,” Watson said of his carry. “A lot of my supporters were trying to get me and the coaching staff to do it. I was always against it, but I felt like to finish off my college career, I had to give people what they wanted to see.”\n___\nAP Pro Football Writer Mark Long in Jacksonville contributed to this report.\n___\nAP NFL: https://apnews.com/hub/nfl",
         "True",
         null,
         null
        ],
        [
         "38",
         "https://apnews.com/article/india-pakistan-missile-photos-b2cb579a2320b52aabe07a47f748dc19",
         "Pakistan and India say they’d consider de-escalation if the other reciprocates\nPakistan and India say they’d consider de-escalation if the other reciprocates\nA local resident shows a piece of shell at his damaged house in Haveli Kahuta, a district of Pakistan’s administered Kashmir, Friday, May 9, 2025. (AP Photo/Rashid Ahmed)\nRescuers and security personnel inspect a residential building damaged by a Pakistan’s drone attack in Jammu, India, Saturday, May 10, 2025. (AP Photo/Channi Anand)\nIndian paramilitary soldiers stands guard at a temporary check point on a road leading to the airport after loud explosions were heard in Srinagar, in Indian controlled Kashmir, Saturday, May 10, 2025.(AP Photo/Dar Yasin)\nPakistani police officers remove vehicles and people from the main entry of Nur Khan airbase following an Indian missile strike in Rawalpindi, Pakistan, Saturday, May 10, 2025. (AP Photo/Anjum Naveed)\nPeople browse their mobile phones for news updates sitting outside closed shops during a black out in Jodhpur, in the Indian state of Rajasthan, Thursday, May 8, 2025. ( AP Photo/Himanshu Vyas )\nA Kashmiri villager inspects the damaged house after overnight shelling from Pakistan at Gingal village, in Uri, Indian controlled Kashmir, Friday, May 9, 2025. (AP Photo/Dar Yasin)\nA Kashmiri villager and a rescue worker examine damages to a house caused by overnight Indian shelling, in Shah Kot, in Neelum Vallery, a district of Pakistan’s administered Kashmir, Saturday, May 10, 2025. (AP Photo/M.D. Mughal)\nParamilitary soldiers patrol on an inflatable boat on Dal Lake after loud explosions were heard in Srinagar, Indian controlled Kashmir, Saturday, May 10, 2025.(AP Photo/Mukhtar Khan)\nA residence, damaged by a Pakistan shelling, of a senior government official is seen in Rajouri, along the Line of Control, India, Saturday, May 10, 2025. (AP Photo)\nSupporters of a religious group ‘Tahafuz-e-Namoos-e-Risalat Mahaz’ chant anti-India slogans during a rally to condemn Indian strikes in Pakistan and to show their support with Pakistan Army, in Lahore, Pakistan, Saturday, May 10, 2025. (AP Photo/K.M. Chaudary)\nA paramilitary soldier stand alert on a road near Karachi port following raising military tension between Pakistan and India, in Karachi, Pakistan, Friday, May 9, 2025. (AP Photo/Fareed Khan)\nA Kashmiri villager examines damages to his house caused by overnight Indian shelling, in Shah Kot, in Neelum Vallery, a district of Pakistan’s administered Kashmir, Saturday, May 10, 2025. (AP Photo/M.D. Mughal)\nKashmiri villagers walk towards safer places after they evacuated their village after overnight shelling from Pakistan at Gingal village in Uri district, Indian controlled Kashmir, Friday, May 9, 2025. (AP Photo/Dar Yasin)\nStudents waves national flags during a demonstration to condemn Indian strikes in Pakistan and to show their support for Pakistan military, in Karachi, Pakistan, Friday, May 9, 2025. (AP Photo/Fareed Khan)\nA resident inspects his house damaged by Pakistani artillery shelling in Poonch, along the Line of Control, Indian controlled Kashmir, Thursday, May 8, 2025. (AP Photo/Channi Anand)\nPeople carry the body of a woman, who was killed in the overnight Indian shelling, near Shah Kot, in Neelum Vallery, a district of Pakistan’s administered Kashmir, Friday, May 9, 2025. (AP Photo/M.D. Mughal)\nWorkers ride on a motorcycle inside the premises of closed Atal Bihari Vajpayee Ekana Cricket Stadium after organizers suspended the Indian Premier League for one week following the escalating military tensions with Pakistan, in Lucknow, India, Friday, May 9, 2025. (AP Photo)\nIndian police personnel inspect an object suspected to be parts of a projectile intercepted by the Indian Army at Nahlan village on the outskirts of Jalandhar, India, Saturday, May 10, 2025. (AP Photo)\nAn Indian flag lies in front of a damaged shop following overnight shelling from Pakistan at Gingal village in Uri district, north of Srinagar in Indian controlled Kashmir, Friday, May 9, 2025. (AP Photo/Dar Yasin)\nA local resident shows a piece of shell fired by Indian forces, at his damaged house in Haveli Kahuta, a district of Pakistan’s administered Kashmir, Friday, May 9, 2025. (AP Photo/Rashid Ahmed)\nRescuers and security personnel inspect a residential building damaged by a Pakistan’s drone attack in Jammu, India, Saturday, May 10, 2025. (AP Photo/Channi Anand)\nIndian paramilitary soldiers stands guard at a temporary check point on a road leading to the airport after loud explosions were heard in Srinagar, in Indian controlled Kashmir, Saturday, May 10, 2025.(AP Photo/Dar Yasin)\nIndian paramilitary soldiers stands guard at a temporary check point on a road leading to the airport after loud explosions were heard in Srinagar, in Indian controlled Kashmir, Saturday, May 10, 2025.(AP Photo/Dar Yasin)\nPakistani police officers remove vehicles and people from the main entry of Nur Khan airbase following an Indian missile strike in Rawalpindi, Pakistan, Saturday, May 10, 2025. (AP Photo/Anjum Naveed)\nPeople browse their mobile phones for news updates sitting outside closed shops during a black out in Jodhpur, in the Indian state of Rajasthan, Thursday, May 8, 2025. ( AP Photo/Himanshu Vyas )\nA Kashmiri villager inspects the damaged house after overnight shelling from Pakistan at Gingal village, in Uri, Indian controlled Kashmir, Friday, May 9, 2025. (AP Photo/Dar Yasin)\nA Kashmiri villager and a rescue worker examine damages to a house caused by overnight Indian shelling, in Shah Kot, in Neelum Vallery, a district of Pakistan’s administered Kashmir, Saturday, May 10, 2025. (AP Photo/M.D. Mughal)\nA Kashmiri villager and a rescue worker examine damages to a house caused by overnight Indian shelling, in Shah Kot, in Neelum Vallery, a district of Pakistan’s administered Kashmir, Saturday, May 10, 2025. (AP Photo/M.D. Mughal)\nParamilitary soldiers patrol on an inflatable boat on Dal Lake after loud explosions were heard in Srinagar, Indian controlled Kashmir, Saturday, May 10, 2025.(AP Photo/Mukhtar Khan)\nA residence, damaged by a Pakistan shelling, of a senior government official is seen in Rajouri, along the Line of Control, India, Saturday, May 10, 2025. (AP Photo)\nSupporters of a religious group ‘Tahafuz-e-Namoos-e-Risalat Mahaz’ chant anti-India slogans during a rally to condemn Indian strikes in Pakistan and to show their support with Pakistan Army, in Lahore, Pakistan, Saturday, May 10, 2025. (AP Photo/K.M. Chaudary)\nSupporters of a religious group ‘Tahafuz-e-Namoos-e-Risalat Mahaz’ chant anti-India slogans during a rally to condemn Indian strikes in Pakistan and to show their support with Pakistan Army, in Lahore, Pakistan, Saturday, May 10, 2025. (AP Photo/K.M. Chaudary)\nA paramilitary soldier stand alert on a road near Karachi port following raising military tension between Pakistan and India, in Karachi, Pakistan, Friday, May 9, 2025. (AP Photo/Fareed Khan)\nA Kashmiri villager examines damages to his house caused by overnight Indian shelling, in Shah Kot, in Neelum Vallery, a district of Pakistan’s administered Kashmir, Saturday, May 10, 2025. (AP Photo/M.D. Mughal)\nA Kashmiri villager examines damages to his house caused by overnight Indian shelling, in Shah Kot, in Neelum Vallery, a district of Pakistan’s administered Kashmir, Saturday, May 10, 2025. (AP Photo/M.D. Mughal)\nKashmiri villagers walk towards safer places after they evacuated their village after overnight shelling from Pakistan at Gingal village in Uri district, Indian controlled Kashmir, Friday, May 9, 2025. (AP Photo/Dar Yasin)\nKashmiri villagers walk towards safer places after they evacuated their village after overnight shelling from Pakistan at Gingal village in Uri district, Indian controlled Kashmir, Friday, May 9, 2025. (AP Photo/Dar Yasin)\nStudents waves national flags during a demonstration to condemn Indian strikes in Pakistan and to show their support for Pakistan military, in Karachi, Pakistan, Friday, May 9, 2025. (AP Photo/Fareed Khan)\nStudents waves national flags during a demonstration to condemn Indian strikes in Pakistan and to show their support for Pakistan military, in Karachi, Pakistan, Friday, May 9, 2025. (AP Photo/Fareed Khan)\nA resident inspects his house damaged by Pakistani artillery shelling in Poonch, along the Line of Control, Indian controlled Kashmir, Thursday, May 8, 2025. (AP Photo/Channi Anand)\nPeople carry the body of a woman, who was killed in the overnight Indian shelling, near Shah Kot, in Neelum Vallery, a district of Pakistan’s administered Kashmir, Friday, May 9, 2025. (AP Photo/M.D. Mughal)\nPeople carry the body of a woman, who was killed in the overnight Indian shelling, near Shah Kot, in Neelum Vallery, a district of Pakistan’s administered Kashmir, Friday, May 9, 2025. (AP Photo/M.D. Mughal)\nWorkers ride on a motorcycle inside the premises of closed Atal Bihari Vajpayee Ekana Cricket Stadium after organizers suspended the Indian Premier League for one week following the escalating military tensions with Pakistan, in Lucknow, India, Friday, May 9, 2025. (AP Photo)\nWorkers ride on a motorcycle inside the premises of closed Atal Bihari Vajpayee Ekana Cricket Stadium after organizers suspended the Indian Premier League for one week following the escalating military tensions with Pakistan, in Lucknow, India, Friday, May 9, 2025. (AP Photo)\nIndian police personnel inspect an object suspected to be parts of a projectile intercepted by the Indian Army at Nahlan village on the outskirts of Jalandhar, India, Saturday, May 10, 2025. (AP Photo)\nIndian police personnel inspect an object suspected to be parts of a projectile intercepted by the Indian Army at Nahlan village on the outskirts of Jalandhar, India, Saturday, May 10, 2025. (AP Photo)\nAn Indian flag lies in front of a damaged shop following overnight shelling from Pakistan at Gingal village in Uri district, north of Srinagar in Indian controlled Kashmir, Friday, May 9, 2025. (AP Photo/Dar Yasin)\nAn Indian flag lies in front of a damaged shop following overnight shelling from Pakistan at Gingal village in Uri district, north of Srinagar in Indian controlled Kashmir, Friday, May 9, 2025. (AP Photo/Dar Yasin)\nPakistan and India have hinted at de-escalating their current conflict after firing missiles at each.\nTensions between the nuclear-armed rivals have soared since an attack at a popular tourist site in India-controlled Kashmir left 26 civilians dead, mostly Hindu Indian tourists, on April 22. New Delhi has blamed Pakistan for backing the assault, an accusation Islamabad rejects.\nIndian paramilitary soldiers stands guard at a temporary check point on a road leading to the airport after loud explosions were heard in Srinagar, in Indian controlled Kashmir, Saturday, May 10, 2025.(AP Photo/Dar Yasin)\nA Kashmiri villager and a rescue worker examine damages to a house caused by overnight Indian shelling, in Shah Kot, in Neelum Vallery, a district of Pakistan’s administered Kashmir, Saturday, May 10, 2025. (AP Photo/M.D. Mughal)\nA Kashmiri villager examines damages to his house caused by overnight Indian shelling, in Shah Kot, in Neelum Vallery, a district of Pakistan’s administered Kashmir, Saturday, May 10, 2025. (AP Photo/M.D. Mughal)\nKashmiri villagers walk towards safer places after they evacuated their village after overnight shelling from Pakistan at Gingal village in Uri district, Indian controlled Kashmir, Friday, May 9, 2025. (AP Photo/Dar Yasin)\nSupporters of Jamaat-e-Islami burn an effigy of Indian Prime Minister Narendra Modi with Indian flag during a demonstration to condemn Indian strikes in Pakistan and to show their support for Pakistan military, in Karachi, Pakistan, Friday, May 9, 2025. (AP Photo/Fareed Khan)\nWorkers ride on a motorcycle outside Atal Bihari Vajpayee Ekana Cricket Stadium after organizers suspended the Indian Premier League (IPL) for one week following the escalating military tensions with Pakistan, in Lucknow, India, Friday, May 9, 2025. (AP Photo)\nAn Indian flag lies in front of a damaged shop following overnight shelling from Pakistan at Gingal village in Uri district, north of Srinagar in Indian controlled Kashmir, Friday, May 9, 2025. (AP Photo/Dar Yasin)\nThis is a photo gallery curated by AP photo editors.",
         "True",
         null,
         null
        ],
        [
         "39",
         "https://apnews.com/article/rusia-ucrania-guerra-alemania-polonia-francia-reino-unido-330374d4b6d6a311ad074bb79beada9d",
         "Ucrania y sus aliados presionan para un cese del fuego de 30 días a partir del lunes\nUcrania y sus aliados presionan para un cese del fuego de 30 días a partir del lunes\nKIEV, Ucrania (AP) — En una muestra de unidad en Kiev el sábado, los dirigentes de cuatro importantes países europeos amenazaron con aumentar la presión si el presidente ruso Vladímir Putin no acepta un cese del fuego incondicional de 30 días.\nLos mandatarios de Francia, el Reino Unido, Alemania y Polonia dijeron que la propuesta de iniciar el cese del fuego el lunes cuenta con el apoyo del presidente estadounidense Donald Trump, a quien habían informado por teléfono más temprano ese día. Su declaración se produjo en medio de crecientes esfuerzos para persuadir a Moscú de aceptar una tregua que permitiría conversaciones de paz para poner fin a más de tres años de guerra a gran escala.\nLa exigencia fue anunciada en una conferencia de prensa conjunta con el presidente ucraniano Volodymyr Zelenskyy y los países que lideran la llamada “coalición de los dispuestos\": un grupo de más de 30 países que se han comprometido a fortalecer a Ucrania para disuadir la agresión rusa. Entre ellos se encontraban el presidente francés Emmanuel Macron, el primer ministro británico Keir Starmer, el canciller alemán Friedrich Merz y el primer ministro polaco Donald Tusk, quienes viajaron el sábado juntos a Ucrania por primera vez.\nEl cese del fuego incluiría un alto a los combates en tierra, mar y aire. Los líderes amenazaron con aumentar las sanciones, incluidas las del sector energético y bancario de Rusia, si Putin no cumple.\nHoras antes, el ministro de Asuntos Exteriores de Ucrania, Andrii Sybiha, dijo que Kiev y sus aliados están listos para un “cese del fuego completo e incondicional” con Rusia durante “al menos 30 días” a partir del lunes. Agregó que los cuatro líderes visitantes y Zelenskyy habían tenido una llamada telefónica “constructiva” con Trump.\nEl sábado fue el último día del cese del fuego unilateral de tres días declarado por Rusia, que, según Ucrania, las fuerzas del Kremlin han violado repetidamente.\nEn marzo, Estados Unidos propuso una tregua inmediata y limitada de 30 días, que Ucrania aceptó, pero el Kremlin ha insistido en términos que le sean más favorables.\nFortalecer las capacidades militares de Ucrania será un elemento clave para disuadir a Rusia , dijeron el sábado los líderes europeos. Esto requerirá suministrar a Ucrania cantidades robustas de armas para disuadir futuros ataques e invertir en su sector de defensa. Una fuerza compuesta por tropas extranjeras también podría desplegarse como una medida adicional de “tranquilidad”, dijo Macron.\nEl presidente francés agregó que Estados Unidos tomará la delantera en la supervisión de un cese del fuego propuesto, con el apoyo de países europeos, y amenazó con “sanciones masivas... preparadas y coordinadas entre europeos y estadounidenses”, si Rusia viola la tregua.\nPero dijo que los detalles sobre posibles despliegues europeos en Ucrania aún se están afinando. No se mencionó la membresía en la OTAN, que sigue siendo la principal opción de Kiev para una garantía de seguridad.\nLa prioridad es hacer que la guerra sea demasiado costosa para que Rusia continúe luchando, dijo Sybiha a los reporteros al margen del evento.\nEl teniente general retirado Keith Kellogg, enviado especial de Trump para Ucrania y Rusia, dijo el sábado que un cese del fuego “integral” de 30 días, que cubra ataques desde el aire, tierra, mar y sobre infraestructura, “iniciará el proceso para poner fin a la guerra más grande y larga en Europa desde la Segunda Guerra Mundial”.\nMás temprano el sábado, los líderes europeos se unieron a una ceremonia en la Plaza de la Independencia de Kiev para conmemorar el 80mo aniversario del final de la Segunda Guerra Mundial. Encendieron velas junto a Zelenskyy en un memorial improvisado con banderas en honor a los soldados ucranianos caídos y a los civiles asesinados desde la invasión rusa.\nTrump ha presionado a ambas partes para llegar rápidamente a un acuerdo para poner fin a la guerra, pero mientras Zelenskyy aceptó el plan estadounidense para una pausa inicial de 30 días en las hostilidades, Rusia no ha firmado. En cambio, ha seguido lanzando ataques a lo largo de los aproximadamente 1.600 kilómetros (1.000 millas) del frente, incluyendo operaciones letales en zonas residenciales sin objetivos militares evidentes.\nEl sábado por la mañana, funcionarios de la región de Sumy, en el norte de Ucrania, reportaron que los bombardeos rusos de la víspera mataron a tres residentes e hirieron a otros cuatro. Otro civil murió en el acto el sábado cuando un dron ruso alcanzó la ciudad sureña de Jersón, según el gobernador regional, Oleksandr Prokudin.\nHablando con reporteros en Kiev, el presidente de Francia, Emmanuel Macron, dijo: “Lo que está sucediendo con Polonia, Alemania y el Reino Unido es un momento histórico para la defensa europea y hacia una mayor independencia para nuestra seguridad. Obviamente para Ucrania, pero también para todos nosotros. Es una nueva era. Es una Europa que se ve a sí misma como una potencia”.\nLa semana pasada, Trump señaló que duda que el presidente de Rusia, Vladímir Putin, quiera poner fin a su guerra en Ucrania, expresando un nuevo escepticismo de que se pueda alcanzar un acuerdo de paz pronto, y sugirió más sanciones contra Rusia.\nEl progreso para poner fin a la guerra ha parecido esquivo en los meses desde que Trump regresó a la Casa Blanca, y sus afirmaciones anteriores de avances inminentes no se han materializado. Trump ha presionado en el pasado a Ucrania para ceder territorio a Rusia y poner fin a la guerra, y amenazó con retirarse si el acuerdo se complica, lo que ha hecho sonar las alarmas en Europa acerca de cómo llenar ese vacío.\nLos aliados europeos de Ucrania ven la guerra como fundamental para la seguridad del continente, por lo que se ha incrementado la presión para encontrar formas de respaldar militarmente a Kiev, con independencia de que la Casa Blanca se retire.\n___\nEl periodista de The Associated Press Thomas Adamson en París contribuyó a este despacho.\n___\nEsta historia fue traducida del inglés por un editor de AP con la ayuda de una herramienta de inteligencia artificial generativa.",
         "True",
         null,
         null
        ],
        [
         "40",
         "https://apnews.com/article/civilian-nuclear-program-saudi-arabia-trump-iran-be8697a1890d0158cef57babb47e7583",
         "Trump’s trip to Saudi Arabia raises the prospect of US nuclear cooperation with the kingdom\nWASHINGTON (AP) — Saudi Arabia wants U.S. help developing its own civil nuclear program, and the Trump administration says it is “very excited” at the prospect. U.S.-Saudi cooperation in building reactors for nuclear power plants in the kingdom could shut the Chinese and Russians out of what could be a high-dollar partnership for the American nuclear industry.\nDespite that eagerness, there are obstacles, including fears that helping the Saudis fulfill their long-standing desire to enrich their own uranium as part of that partnership would open new rounds of nuclear proliferation and competition. Saudi Arabia’s pursuit of a nuclear agreement is likely to play into the ever-evolving bargaining on regional security issues involving the U.S., Iran and Israel.\nThis coming week, Republican President Donald Trump will make his first trip to Saudi Arabia of his second term. Here’s a look at key issues involved in the Saudi request.\nThe US is eager to show it’s working toward Saudi Arabia’s nuclear ambitions\nEnergy Secretary Chris Wright, who traveled to Saudi Arabia before Trump’s trip, said the world can expect to see “meaningful developments” this year on helping the kingdom build a commercial nuclear power industry. Wright said the U.S. was “very excited” about it.\nThat does not necessarily mean there will be any big breakthroughs on Trump’s trip, said Jon Alterman, head of the Mideast program at the Center for Strategic and International Studies in Washington. Something smaller that still signals to the Saudis and the Iranians — with whom Trump is pushing for an agreement limiting Tehran’s nuclear program — that Washington is interested in cooperating on Saudi efforts could be the U.S. aim for now.\n“There would be a lot of ways to show progress toward an agreement on a Saudi nuclear program without fully committing to a partnership on it,” Alterman said.\nSolid reasons for a Saudi civilian nuclear power program\nSaudi Arabia is a global oil giant, but it is also largely a desert. Running all those air conditioners uses a lot of petroleum that the kingdom would rather be exporting. The Saudis’ own oil consumption burns up one-third of what the country produces.\nCrown Prince Mohammed bin Salman also is pushing to build up Saudi Arabia’s mining and processing of its own minerals. That includes Saudi reserves of uranium, a fuel for nuclear reactors.\nFor the Trump administration, any deal with Iran that lets Tehran keep its own nuclear program or continue its own enrichment could increase Saudi pressure for the same.\nThat’s even though Saudi Arabia and other Gulf states have toned down their enmity toward Iran in recent years and are supporting the U.S. efforts to limit Iran’s nuclear program peacefully.\nFor the U.S., any technological help it gives the Saudis as they move toward building nuclear reactors would be a boon for American companies.\nInternationally, there is support for U.S. efforts to strike a nuclear deal with Saudi Arabia, given that the Saudis could turn to the Chinese and Russians for help developing a nuclear industry, with fewer safeguards.\nThe feeling is “if the U.S. doesn’t provide it, then someone else will,” said Hasan Alhasan, a senior fellow in Bahrain for the International Institute for Strategic Studies.\nPossibility that nuclear weapons are a Saudi goal\n“Without a doubt, if Iran developed a nuclear bomb, we would follow suit as soon as possible,” Prince Mohammed said in 2018, at a time of higher tension between Arab states and Iran.\nSaudi Arabia and other Gulf states stress better relations and diplomacy with Iran now. But Prince Mohammed’s comments — and other Saudi officials said similar — have left open the possibility that nuclear weapons are a strategic goal of the Saudis.\nSaudi Arabia’s desire to enrich its own uranium\nThe Saudis long have pushed for the U.S. to build a uranium enrichment facility in the kingdom as part of any nuclear cooperation between the two countries. That facility could produce low-enriched uranium for civilian nuclear reactors. But without enough controls, it could also churn out highly enriched uranium for nuclear bombs.\nTrump administration officials cite the Saudis’ desire to make use of their country’s uranium deposits. The kingdom has spent tens of millions of dollars, with Chinese assistance, to find and develop those deposits. But the uranium ore that it has identified so far would be “severely uneconomic” to develop, the intergovernmental Nuclear Energy Agency says.\nIt has been decades since there has been any state-sanctioned transfer of that kind of technology to a nonnuclear-weapon state, although a Pakistani-based black-market network provided enrichment technology to Iran, North Korea, Libya and possibly others about 20 years ago, Robert Einhorn noted for the Brookings Institute last year.\nAllowing Saudi Arabia — or any other additional country — to host an enrichment facility would reverse long-standing U.S. policy. It could spur more nuclear proliferation among U.S. allies and rivals, Einhorn wrote.\nThe effect on regional security\nUnder Democratic President Joe Biden, the U.S. and Saudi Arabia had looked at nuclear cooperation as just one part of broader negotiations that also involved Saudi desires for U.S. arms and security guarantees and for a satisfactory long-term deal on behalf of Palestinians. The U.S., meanwhile, had tied the cooperation to Saudi Arabia agreeing to normalize relations with Israel.\nThe Trump administration seems to have unpacked some of that big bundle.\nBut the administration may still see holding off on any major civil nuclear agreement as leverage in brokering what would be historic diplomatic relations between the kingdom and Israel, Alterman noted. Getting to that agreement, part of what’s known as the Abraham Accords between Arab states and Israel, has been a chief goal for Trump.\nAfter Wright’s trip, some Israelis expressed their opposition to allowing Saudi Arabia to enrich uranium, and Iran and Saudi Arabia are both carefully watching the other’s talks with the U.S. on their nuclear issues.",
         "True",
         null,
         null
        ],
        [
         "41",
         "https://apnews.com/article/brazil-petrobras-ceo-amazon-comments-video-17240843cb8934f947e8da5e957ab973",
         "Head of Brazil’s gas giant Petrobras criticized for ‘drill, baby, drill!’ comment about the Amazon\nHead of Brazil’s gas giant Petrobras criticized for ‘drill, baby, drill!’ comment about the Amazon\nSAO PAULO (AP) — The head of Brazil’s state-run gas and oil giant Petrobras was facing criticism on Friday after a video emerged of her saying “Drill, baby, drill!” when speaking about controversial oil exploration near the mouth of the Amazon River.\nMagda Chambriard made the remarks Tuesday during the Offshore Technology Conference, in Houston. In a video obtained by the Brazilian newspaper Valor Economico and published Friday, Chambriard is seen addressing Clécio Luís, governor of the Amazonian state of Amapa, who was in the audience.\n“We do believe we will have very good surprises once we have the (environmental) license to drill. So what one wants to say to Amapa is, ‘Let’s drill, baby, drill!’” Her comments prompted a round of applause, including from Luís.\nPetrobras did not immediately respond to an email request for comment. The company confirmed the authenticity of the video, according to Valor Economico.\nU.S. President Donald Trump has long used the phrase “Drill, baby, drill!” in expressing support for increased oil exploration and production.\n“The ‘let’s drill, baby’ rhetoric may comfort industry leaders and short-sighted policymakers, but history will remember them as the ones who buried the 1.5 C goal,” said Natalie Unterstell, president of Talanoa, a climate policy think tank, referring to the internationally adopted aim to keep warming under 1.5 C since pre-industrial times.\nClimate change is caused by the release of greenhouse gases like carbon dioxide. Oil, from exploration to its various uses, is a central driver of climate change.\nChambriard was appointed by Brazil’s leftist President Luiz Inácio Lula da Silva, whose environmental record in the Amazon is mixed. While he has curbed deforestation and championed the Amazonian city of Belem as the host of the U.N.'s COP30 climate summit in November, he also supports Petrobras’s push to drill for offshore oil at the ecologically sensitive mouth of the Amazon River and other big projects that bring environmental impact to the world´s largest tropical forest.\nExploratory offshore drilling near the Amazon, whose reserves are unknown, is expected to draw scrutiny during the COP30 summit. A central push of the annual climate talks has been to reduce the use of fossil fuels such as oil, gas and coal.\n___\nThe Associated Press’ climate and environmental coverage receives financial support from multiple private foundations. AP is solely responsible for all content. Find AP’s standards for working with philanthropies, a list of supporters and funded coverage areas at AP.org.",
         "True",
         null,
         null
        ],
        [
         "42",
         "https://apnews.com/article/bear-attack-florida-f9019777b7d705668ca467ee7ce2aa36",
         "Lab tests connect black bear killed by Florida wildlife officers to fatal attack on man and his dog\nJEROME, Fla. (AP) — Lab results have connected one of three black bears killed by wildlife officers in southwest Florida to a fatal attack on a man and his dog a day earlier, officials said Friday.\nNecropsy results revealed that a 263-pound (119-kilogram) male bear contained the partial remains of 89-year-old Robert Markel, the Florida Fish and Wildlife Conservation Commission said in a statement. Testing showed that same bear’s DNA was present on Markel’s body, inside his home and on the dog’s body.\nWildlife officials have not explicitly said that bear is the one that killed Markel, but a preliminary autopsy by the Collier County Medical Examiner found that Markel’s cause of death is consistent with a bear attack.\nMarkel was attacked early Monday near his home in a rural area east of Naples, just south of Big Cypress Wildlife Management Area.\nWildlife officers set several traps and cameras. They killed three black bears in the area and sent their remains to a Gainesville lab. None of the animals tested positive for rabies, officials said.\nWildlife officials are still investigating the events that led to the attack.\nFlorida’s black bears, which were once threatened, have increasingly wandered into neighborhoods and private property in recent years, especially in more rural areas of north and central Florida.",
         "True",
         null,
         null
        ],
        [
         "43",
         "https://apnews.com/article/israel-palestinians-hamas-war-news-10-05-2025-c9b6f26c14577be19adb8903b5ac55f3",
         "Israeli airstrikes kill 23 in Gaza as outcry over aid blockade grows\nIsraeli airstrikes kill 23 in Gaza as outcry over aid blockade grows\nDEIR AL-BALAH, Gaza City (AP) — Israeli airstrikes overnight and into Saturday killed at least 23 Palestinians in Gaza, including three children and their parents whose tent was bombed in Gaza City, health officials said.\nThe bombardment continued as international warnings grow over Israeli plans to control aid distribution in Gaza as Israel’s blockade on the territory of over 2 million people is in its third month.\nThe U.N. and aid groups have rejected Israel’s aid distribution moves, including a plan from a group of American security contractors, ex-military officers and humanitarian aid officials calling itself the Gaza Humanitarian Foundation.\nAmong the 23 bodies brought to hospitals over the past 24 hours were those of the family of five whose tent was struck in Gaza City’s Sabra district, Gaza’s Health Ministry said.\nAnother Israeli strike late Friday hit a warehouse belonging to UNRWA, the U.N. agency for Palestinian refugees, in the northern area of Jabaliya. Four people were killed, according to the Indonesian Hospital, where bodies were taken.\nAP video showed fires burning in the shattered building. The warehouse was empty after being hit and raided multiple times during Israeli ground offensives against Hamas fighters over the past year, said residents including Hamza Mohamed.\nIsrael’s military said nine soldiers were lightly wounded Friday night by an explosive device while searching Gaza City’s Shijaiyah neighborhood. It said they were evacuated to a hospital in Israel.\nIsrael resumed its bombardment in Gaza on March 18, shattering a two-month ceasefire with Hamas. Ground troops have seized more than half the territory and have been conducting raids and searching parts of northern Gaza and the southernmost city of Rafah. Large parts of both areas have been flattened by months of Israeli operations.\nUnder Israel’s blockade, charity kitchens are virtually the only source of food left in Gaza, but dozens have shut down in recent days as food supplies run out. Aid groups say more closures are imminent. Israel has said the blockade is meant to pressure Hamas to release remaining hostages and disarm. Rights groups have called the blockade a “starvation tactic” and a potential war crime.\nIsrael accuses Hamas and other militants of siphoning off aid in Gaza, though it hasn’t presented evidence for its claims. The U.N. denies significant diversion takes place, saying it monitors distribution.\nThe 19-month-old war in Gaza is the most devastating ever fought between Israel and Hamas. It has killed more than 52,800 people there, more than half of them women and children, and wounded more than 119,000, according to the Health Ministry. The ministry’s count does not differentiate between civilians and combatants. Israel says it has killed thousands of militants, without giving evidence.\nIsrael has vowed to destroy Hamas after the Oct. 7, 2023, attack on southern Israel in which militants killed around 1,200 people, mostly civilians, and kidnapped over 250 others. Hamas still holds about 59 hostages, with around a third believed to still be alive.\nHamas released a video Saturday showing hostages Elkana Bohbot and Yosef-Haim Ohana, who appeared under duress. They were abducted during the Oct. 7 attack from a music festival where over 300 people were killed. Hamas released a video of them a month and half ago and has released several videos of Bohbot alone since then.\nProtesters on Saturday night rallied once more in Tel Aviv to demand a ceasefire that would bring all hostages home.\n“Can you grasp this? The Israeli government is about to embark on a military operation that could and will endanger the lives of the hostages,” Michel Illouz, father of hostage Guy Illouz, told the gathering, referring to the plan to vastly expand operations in Gaza.\n___\nFollow AP’s war coverage at https://apnews.com/hub/israel-hamas-war",
         "True",
         null,
         null
        ],
        [
         "44",
         "https://apnews.com/article/smokey-robinson-la-lawsuit-sexual-assault-1512119eb018782fffad29d1d0358724",
         "Smokey Robinson accused by former housekeepers of sexual assault and rape\nLOS ANGELES (AP) — Four former housekeepers of Smokey Robinson allege in a lawsuit filed Tuesday that the Motown music luminary repeatedly sexually assaulted and raped them while they worked for him.\nThe suit filed in Los Angeles Superior Court seeks at least $50 million in damages over the alleged assaults, which the women say took place between 2007 and 2024, and labor violations including a hostile work environment, illegally long hours and lack of pay.\nA message seeking comment from a representative for the 85-year-old Robinson was not immediately answered.\nThe four women each say that Robinson would wait until he was alone with them in his Los Angeles house then sexually assault and rape them over their objections.\n“We believe that Mr. Robinson is a serial and sick rapist, and must be stopped,” the women’s attorney John Harris said at a news conference.\nAll said they eventually quit over the assaults, though in some cases it took several years. And all said they feared coming forward over fears of retaliation, public shame and possible effects on their immigration status.\n“Having to tell their husband and children of these despicable actions left them filled with shame and embarrassment,” Harris said. “So throughout their dreadful experiences with Mr. Robinson, all four women remained silent.”\nHe said as low-wage earners, they also all feared “missing a payday, and not being able to afford rent or buy food for their families.”\nAll four women withheld their legal names citing privacy concerns and are identified as Jane Does in court documents. They appeared at the news conference with their attorneys, but did not speak, and covered their faces with masks.\nThe lawsuit also names Robinson’s wife Frances Robinson as a defendant, alleging that she enabled his behavior despite knowing about past sexual misconduct. It also blames her for the hostile work environment, saying she berated them with language that included ethnic slurs.\nOne woman said she worked for the Robinsons from 2012 until 2024, and was assaulted at least 20 times in that span. Another said she worked for them from 2014 until 2020, and was assaulted at least 23 times. Another said she worked for them for a year before quitting in 2024 and was assaulted at least seven times. The fourth woman, who said she also acted as Frances Robinson’s personal assistant, hairdresser and cook, worked for them for 18 years before resigning in 2024. She cited similar experiences to the other women, but did not say how often she was assaulted.\nThe women, some of whom worked for the Robinsons at the same time as each other, also kept stories of the assaults from one another, but are now bonding over their experience, the attorneys said. They declined to give details at the news conference about how they came forward and learned there were others.\nThe suit seeks damages based on sexual battery, assault, false imprisonment, gender violence and other allegations.\n“Obviously, no amount of money can compensate these women for what Mr. Robinson put them through,” Harris said. But he said the $50 million was warranted “based on the gravity of Mr. Robinson’s despicable and reprehensible misconduct.”\nPlaintiffs’ attorney Herbert Hayden said that while they felt the assaults are worthy of criminal investigation, the women have not filed police reports, based on the same fears that kept them from coming forward.\nRobinson, a member of both the Rock & Roll Hall of Fame and the Songwriters Hall of Fame, was among the biggest hitmakers of the 1960s — both with his group the Miracles and as a solo artist, with songs including “Tears of a Clown” and “The Tracks of My Tears.”\nHe was a central part of the Motown Records music machine in his hometown of Detroit as an artist, producer and songwriter for other artists.",
         "True",
         null,
         null
        ],
        [
         "45",
         "https://apnews.com/article/swimsuit-history-miami-museum-exhibit-882b06b9dd22bc66201e9808d39fda04",
         "Miami museum opens a new exhibit that examines a century of swimwear and its connection to Florida\nMiami museum opens a new exhibit that examines a century of swimwear and its connection to Florida\nMIAMI (AP) — Just in time for bathing suit season, the HistoryMiami Museum is opening a new exhibit that examines the relationship between the evolution of swimwear and the growth of South Florida over the past century.\n“Waves of Style: Swimwear Through the Decades” opened to the general public on Saturday and will run through Oct. 5. The exhibit showcases about 50 historic swimwear pieces from the museum’s extensive collection of more than 2,000 textiles.\nThe immersive, dynamic experience allows visitors to explore the history and evolution of swimwear, from the heavy wool suits that were still required by law in many places during the early 20th century to modern swimsuits that leave little to the imagination.\nHistoryMiami CEO and Executive Director Natalia Crujeiras said Miami is the perfect place for an exhibit like this because it has both shaped beach culture and been shaped by beach culture like no other city.\n“From efforts for social change to a playground for fun and exploration to inspiring style around the world, beach has always been part of Miami,” Crujeiras said.\nVisitors can learn about Jane Fisher, the wife of early Miami Beach developer Carl G. Fisher. Jane Fisher became a trendsetter in the 1910s when she ditched her traditional bathing suit, which included a long skirt, stockings and cap, for one of Miami Beach’s earliest form-fitting swimsuits. The public was initially shocked, but the style quickly gained popularity. Her husband later used photos of “Bathing Beauties” to promote Miami Beach around the country.\nWomen weren’t the only ones expected to cover up in early 20th century. Topless swimwear for men didn’t become common until the 1930s, when Olympic swimmer Johnny Weissmuller bared his chest as Tarzan in 12 films between 1932 and 1948. Many of the movies were shot at least partially in Florida, and Weissmuller worked as a swim instructor at the Miami Biltmore Hotel before landing the iconic role.\n“The design and the function of swimwear revealed different moments of change in perceptions of identity, gender, cultural expression and even freedom,” Crujeiras said.",
         "True",
         null,
         null
        ],
        [
         "46",
         "https://apnews.com/article/ronan-dancing-sea-lion-boogie-wonderland-ef575607db2f710fe102e2dd7c994049",
         "Scientists once thought only humans could bob to music. Ronan the sea lion helped prove them wrong\nScientists once thought only humans could bob to music. Ronan the sea lion helped prove them wrong\nRonan the sea lion can still keep a beat after all these years.\nShe can groove to rock and electronica. But the 15-year-old California sea lion’s talent shines most in bobbing to disco hits like “Boogie Wonderland.”\n“She just nails that one,” swaying her head in time to the tempo changes, said Peter Cook, a behavioral neuroscientist at New College of Florida who has spent a decade studying Ronan’s rhythmic abilities.\nNot many animals show a clear ability to identify and move to a beat aside from humans, parrots and some primates. But then there’s Ronan, a bright-eyed sea lion that has scientists rethinking the meaning of music.\nA former rescue sea lion, she burst to fame around a decade ago after scientists reported her musical skills. From age 3, she has been a resident at the University of California, Santa Cruz’s Long Marine Laboratory, where researchers including Cook have tested and honed her ability to recognize rhythms.\nRonan joined a select group of animal movers and shakers -- which also includes Snowball the famed dancing cockatoo -- that together upended the long-held idea that the ability to respond to music and recognize a beat was distinctly human.\nWhat is particularly notable about Ronan is that she can learn to dance to a beat without learning to sing or talk musically.\n“Scientists once believed that only animals who were vocal learners — like humans and parrots — could learn to find a beat,” said Hugo Merchant, a researcher at Mexico’s Institute of Neurobiology, who was not involved in the Ronan research.\nBut in the years since since Ronan came into the spotlight, questions emerged about whether she still had it. Was her past dancing a fluke? Was Ronan better than people at keeping a beat?\nTo answer the challenge, Cook and colleagues devised a new study, published Thursday in the journal Scientific Reports.\nThe result: Ronan still has it. She’s back and she’s better than ever.\nThis time the researchers focused not on studio music but on percussion beats in a laboratory. They filmed Ronan bobbing her head as the drummer played three different tempos — 112, 120, and 128 beats per minute. Two of those beats Ronan had never been exposed to, allowing scientists to test her flexibility in recognizing new rhythms.\nAnd the researchers asked 10 college students to do the same, waving their forearm to changing beats.\nRonan was the top diva.\n“No human was better than Ronan at all the different ways we test quality of beat-keeping,” said Cook, adding that “she’s much better than when she was a kid,” indicating lifetime learning.\nThe new study confirms Ronan’s place as one of the “top ambassadors” of animal musicality, said University of Amsterdam music cognition researcher Henkjan Honing, who was not involved in the study.\nResearchers plan to train and test other sea lions. Cook suspects other sea lions can also bob to a beat — but that Ronan will still stand out as a star performer.\n___\nThe Associated Press Health and Science Department receives support from the Howard Hughes Medical Institute’s Science and Educational Media Group and the Robert Wood Johnson Foundation. The AP is solely responsible for all content.",
         "True",
         null,
         null
        ],
        [
         "47",
         "https://apnews.com/article/bullfighting-mexico-matadors-religion-animal-cruelty-photos-65525657e00845998f894b4176450d54",
         "The Associated Press is an independent global news organization dedicated to factual reporting. Founded in 1846, AP today remains the most trusted source of fast, accurate, unbiased news in all formats and the essential provider of the technology and services vital to the news business. More than half the world’s population sees AP journalism every day.\nAGUASCALIENTES, Mexico (AP) — Mexico City lawmakers recently voted to ban violent bullfighting in the country’s capital.\nAnimal rights advocates celebrated the decision, but for matadors, fans and cattle breeders, this long-time Spanish tradition bears a profound significance that would be shattered if bulls were not to be killed at the arena.\nFor Diego Silveti, a fourth-generation matador, bullfighting is a vocation, a path that he embraces despite knowing it might kill him. “I am willing to lose my life if necessary,” Silveti said. “For my legacy, for my significance, for what God has commanded me to do.”\nAn embroidered image of the Virgin of Guadalupe decorates Mexican bullfighter Diego Silveti’s capote, or bullfighter’s cape, in a hotel room in Aguascalientes, Mexico, Sunday, April 27, 2025. (AP Photo/Eduardo Verdugo)\nMexican bullfighter Diego Silveti smiles at fans in the bullring after a bullfight in Aguascalientes, Mexico, Sunday, April 27, 2025. (AP Photo/Eduardo Verdugo)\nA woman in traditional Spanish garb touches her cross necklace before a bullfight in Aguascalientes, Mexico, Sunday, April 27, 2025. (AP Photo/Eduardo Verdugo)\nMexican bullfighter Diego Silveti holds his montera, or bullfighter’s hat, during a bullfight in Aguascalientes, Mexico, Sunday, April 27, 2025. (AP Photo/Eduardo Verdugo)\nMexican bullfighter Diego Silveti gestures to fans in the bullring after a bullfight in Aguascalientes, Mexico, Sunday, April 27, 2025. (AP Photo/Eduardo Verdugo)\nSpanish bullfighter Alejandro Talavante holds a bull’s tail and ears after a bullfight in Aguascalientes, Mexico, Sunday, April 27, 2025. (AP Photo/Eduardo Verdugo)",
         "True",
         null,
         null
        ],
        [
         "48",
         "https://apnews.com/article/inflation-federal-reserve-trump-1e827f16bd34fb05ea7a339e3015c544",
         "Federal Reserve official sees signs of slowing economy but not ready to cut rates\nWASHINGTON (AP) — A top Federal Reserve official said Friday that massive uncertainty created by President Donald Trump’s tariffs has caused some businesses to cut back on hiring and spending, threatening to slow the economy, but he added that it’s not yet clear whether the central bank should cut its key interest rate.\nTom Barkin, president of the Federal Reserve’s Richmond branch, said businesses have turned cautious, though are not yet engaging in steep job cuts or other behavior typical of a recession.\n“The way I’ve been describing it is, it’s really hard to drive when it’s foggy,” Barkin said in remarks to the Loudoun County, Virginia Chamber of Commerce. “That’s what I’m seeing on the business side. Hiring freezes, discretionary spending being cut back, but not major layoffs.”\nBarkin and other Fed speakers Friday underscored the difficult challenge the central bank faces right now. If the tariffs push up inflation, the Fed would keep rates elevated — or raise them further. But if the duties worsen the economy, the Fed would typically cut rates.\nOn Wednesday, Chair Jerome Powell said the risks of higher inflation and higher unemployment are rising and that the Fed would wait for greater clarity about where the economy is headed before making its next move. Powell spoke after the Fed kept its key rate unchanged for the third straight meeting.\nTrump, however, has continued to assail Powell for not cutting rates, which over time could lower borrowing costs for consumers and businesses.\nTrump is pushing for rate cuts because he argues that the economy no longer suffers from the high inflation that spurred the Fed to sharply raise borrowing costs in 2022 and 2023.\nBut the most likely reason for the Fed to reduce its key rate in the coming months, economists say, would be to offset a sharp slowdown in the economy stemming from the tariffs. As companies see their costs rise because of higher duties — about half of imports are parts used by American companies — they could institute widespread layoffs, pushing up unemployment and risking recession.\nGregory Daco, chief economist at EY, a consulting firm, said he thinks the Fed should cut rates soon because “the economy is slowing and will continue to slow and flirt with the recession.”\nA key challenge for the Fed right now, however, is determining which risk is bigger for the economy, inflation or unemployment.\nBarkin said it was too early to say that lower borrowing costs are needed to boost growth.\n“We have risks on the inflation side, and if you see as I see that we have risks on the unemployment side, then declaring that one risk is more significant than the other right now feels almost like guessing,” Barkin said.\nBarkin is one of the 19 officials who participate in the Fed’s eight yearly meetings to decide on interest-rate policy. Only 12 of those members vote on the decision. Barkin is not one of the voters this year.\nOther Fed officials Friday echoed Barkin’s cautious message.\nMichael Barr, a member of the Fed’s Washington-based board of governors, said the tariffs could push up inflation for an extended period, likely leaving the Fed on hold. That is in contrast to some economists, who think the duties will only push up prices temporarily.\n“Higher tariffs could lead to disruption to global supply chains and create persistent upward pressure on inflation,” Barr said in written remarks delivered earlier Friday at a conference in Reykjavik, Iceland.\nBarkin, however, appeared to take a different view on inflation in his remarks. He suggested that cash-strapped consumers may be reluctant to pay higher prices for long, which could force manufacturers and retailers to eat the additional costs from tariffs.\n“That means that it’s nice to say you’re going to pass it on, but it’s not as easy to pass it on as you might think,” Barkin said.",
         "True",
         null,
         null
        ],
        [
         "49",
         "https://apnews.com/article/associated-press-top-photos-may-8-2025-bfec405033186521ee248d0f95db8077",
         "The Associated Press is an independent global news organization dedicated to factual reporting. Founded in 1846, AP today remains the most trusted source of fast, accurate, unbiased news in all formats and the essential provider of the technology and services vital to the news business. More than half the world’s population sees AP journalism every day.\nFrom front-page news to powerful moments you may have missed, this gallery showcases today’s top photos chosen by Associated Press photo editors.\nPeople react as the newly elected Pope Leo XIV appears on the balcony of St. Peter’s Basilica at the Vatican, Thursday, May 8, 2025. (AP Photo/Emilio Morenatti)\nWhite smoke billows from the chimney of the Sistine Chapel where 133 cardinals are gathering on the second day of the conclave to elect a successor to late Pope Francis, at the Vatican, Thursday, May 8, 2025 (AP Photo/Alessandra Tarantino)\nPatrons watch live coverage of the newly elected Pope Leo XIV from St. Peter’s Basilica at the Vatican while having lunch at Ron’s Roost Chicken Restaurant, Thursday, May 8, 2025, in Cincinnati. (AP Photo/Carolyn Kaster)\nA resident inspects his house damaged by Pakistani artillery shelling in Poonch, along the Line of Control, Indian controlled Kashmir, Thursday, May 8, 2025. (AP Photo/Channi Anand)\nRelatives mourn near the body of Amarjeet Singh, 51, killed in Pakistani artillery shelling in in Poonch along the Line of Control, Indian controlled Kashmir, Thursday, May 8, 2025. (AP Photo/Channi Anand)\nPalestinian fishermen collect their catch in nets along the Mediterranean shore in Nuseirat, Gaza Strip, on Thursday, May 8, 2025 (AP Photo/Abdel Kareem Hana)\nA nun prays at St. Peter’s Basilica waiting for smoke to billow from the chimney of the Sistine Chapel where 133 cardinals are gathering on the second day of the conclave to elect a successor to late Pope Francis, at the Vatican, Thursday, May 8, 2025. (AP Photo/Francisco Seco)\nJimmy Wayne Carwyle, right, gestures next to attorney Toral Malik during an arraignment in Los Angeles, Thursday, May 8, 2025. (AP Photo/Jae C. Hong, Pool)\nLainey Wilson, from left, Reba McEntire, and Miranda Lambert perform “Trailblazer” during the 60th annual Academy of Country Music Awards on Thursday, May 8, 2025, in Frisco, Texas. (AP Photo/Chris Pizzello)\nCody Johnson performs “The Fall” during the 60th annual Academy of Country Music Awards on Thursday, May 8, 2025, in Frisco, Texas. (AP Photo/Chris Pizzello)\nA reenactor puts on lipstick before a parade as part of ceremonies marking the 80th anniversary, of the end of World War II in Europe, Thursday, May 8, 2025 in Paris. (AP Photo/Michel Euler)\nA woman, who only gave her first name as Ana, takes a picture as she visits a parish named after the Peruvian saint, Santo Tomas de Porres, the day Cardinal Robert Prevost was announced as Pope Leo XIV, Thursday, May 8, 2025, in Tijuana, Mexico. (AP Photo/Gregory Bull)\nAndrea Gallardo, 20, from Texas, wears an American flag after Pope Leo XIV appeared on the balcony of St Peter’s Basilica following his election, at the Vatican, Thursday, May 8, 2025. (AP Photo/Paolo Santalucia)\nA drone used for TV broadcast is attacked by a seagull above St. Peter’s Square where 133 cardinals are gathering on the second day of the conclave to elect successor of late Pope Francis, at the Vatican, Thursday, May 8, 2025. (AP Photo/Gregorio Borgia)\nFaithful take photos the black smoke billows from the Sistine Chapel during the conclave to elect a new Pope, at the Vatican, Thursday, May 8, 2025 (AP Photo/Emilio Morenatti)\nGeorgetown Law student Sydnie Leigh throws her cap in the air while taking graduation photos in front of the U.S. Capitol, Thursday, May 8, 2025, in Washington. (AP Photo/Julia Demaree Nikhinson)",
         "True",
         null,
         null
        ]
       ],
       "shape": {
        "columns": 5,
        "rows": 139
       }
      },
      "text/html": [
       "<div>\n",
       "<style scoped>\n",
       "    .dataframe tbody tr th:only-of-type {\n",
       "        vertical-align: middle;\n",
       "    }\n",
       "\n",
       "    .dataframe tbody tr th {\n",
       "        vertical-align: top;\n",
       "    }\n",
       "\n",
       "    .dataframe thead th {\n",
       "        text-align: right;\n",
       "    }\n",
       "</style>\n",
       "<table border=\"1\" class=\"dataframe\">\n",
       "  <thead>\n",
       "    <tr style=\"text-align: right;\">\n",
       "      <th></th>\n",
       "      <th>link</th>\n",
       "      <th>content</th>\n",
       "      <th>scrape_success</th>\n",
       "      <th>scrape_error</th>\n",
       "      <th>metadata</th>\n",
       "    </tr>\n",
       "  </thead>\n",
       "  <tbody>\n",
       "    <tr>\n",
       "      <th>0</th>\n",
       "      <td>https://apnews.com/article/bangladesh-hasina-y...</td>\n",
       "      <td>Bangladesh’s interim government bans the forme...</td>\n",
       "      <td>True</td>\n",
       "      <td>None</td>\n",
       "      <td>None</td>\n",
       "    </tr>\n",
       "    <tr>\n",
       "      <th>1</th>\n",
       "      <td>https://apnews.com/article/syrian-bahrain-alsh...</td>\n",
       "      <td>Syria’s president visits Bahrain and discusses...</td>\n",
       "      <td>True</td>\n",
       "      <td>None</td>\n",
       "      <td>None</td>\n",
       "    </tr>\n",
       "    <tr>\n",
       "      <th>2</th>\n",
       "      <td>https://apnews.com/article/zealand-snail-egg-n...</td>\n",
       "      <td>A rare New Zealand snail is filmed for the fir...</td>\n",
       "      <td>True</td>\n",
       "      <td>None</td>\n",
       "      <td>None</td>\n",
       "    </tr>\n",
       "    <tr>\n",
       "      <th>3</th>\n",
       "      <td>https://apnews.com/article/north-carolina-elec...</td>\n",
       "      <td>Ousted top election official in key swing stat...</td>\n",
       "      <td>True</td>\n",
       "      <td>None</td>\n",
       "      <td>None</td>\n",
       "    </tr>\n",
       "    <tr>\n",
       "      <th>4</th>\n",
       "      <td>https://apnews.com/article/infant-mortality-cd...</td>\n",
       "      <td>US infant mortality dropped in 2024. Experts p...</td>\n",
       "      <td>True</td>\n",
       "      <td>None</td>\n",
       "      <td>None</td>\n",
       "    </tr>\n",
       "    <tr>\n",
       "      <th>...</th>\n",
       "      <td>...</td>\n",
       "      <td>...</td>\n",
       "      <td>...</td>\n",
       "      <td>...</td>\n",
       "      <td>...</td>\n",
       "    </tr>\n",
       "    <tr>\n",
       "      <th>134</th>\n",
       "      <td>https://apnews.com/article/measles-texas-vacci...</td>\n",
       "      <td>None</td>\n",
       "      <td>False</td>\n",
       "      <td>Failed to get page: Failed to scrape https://a...</td>\n",
       "      <td>None</td>\n",
       "    </tr>\n",
       "    <tr>\n",
       "      <th>135</th>\n",
       "      <td>https://apnews.com/article/vatican-new-pope-le...</td>\n",
       "      <td>None</td>\n",
       "      <td>False</td>\n",
       "      <td>Failed to get page: Failed to scrape https://a...</td>\n",
       "      <td>None</td>\n",
       "    </tr>\n",
       "    <tr>\n",
       "      <th>136</th>\n",
       "      <td>https://apnews.com/article/workplace-pandemic-...</td>\n",
       "      <td>None</td>\n",
       "      <td>False</td>\n",
       "      <td>Failed to get page: Failed to scrape https://a...</td>\n",
       "      <td>None</td>\n",
       "    </tr>\n",
       "    <tr>\n",
       "      <th>137</th>\n",
       "      <td>https://apnews.com/article/columbus-statue-new...</td>\n",
       "      <td>None</td>\n",
       "      <td>False</td>\n",
       "      <td>Failed to get page: Failed to scrape https://a...</td>\n",
       "      <td>None</td>\n",
       "    </tr>\n",
       "    <tr>\n",
       "      <th>138</th>\n",
       "      <td>https://apnews.com/article/rhinos-poaching-wil...</td>\n",
       "      <td>None</td>\n",
       "      <td>False</td>\n",
       "      <td>Failed to get page: Failed to scrape https://a...</td>\n",
       "      <td>None</td>\n",
       "    </tr>\n",
       "  </tbody>\n",
       "</table>\n",
       "<p>139 rows × 5 columns</p>\n",
       "</div>"
      ],
      "text/plain": [
       "                                                  link  \\\n",
       "0    https://apnews.com/article/bangladesh-hasina-y...   \n",
       "1    https://apnews.com/article/syrian-bahrain-alsh...   \n",
       "2    https://apnews.com/article/zealand-snail-egg-n...   \n",
       "3    https://apnews.com/article/north-carolina-elec...   \n",
       "4    https://apnews.com/article/infant-mortality-cd...   \n",
       "..                                                 ...   \n",
       "134  https://apnews.com/article/measles-texas-vacci...   \n",
       "135  https://apnews.com/article/vatican-new-pope-le...   \n",
       "136  https://apnews.com/article/workplace-pandemic-...   \n",
       "137  https://apnews.com/article/columbus-statue-new...   \n",
       "138  https://apnews.com/article/rhinos-poaching-wil...   \n",
       "\n",
       "                                               content  scrape_success  \\\n",
       "0    Bangladesh’s interim government bans the forme...            True   \n",
       "1    Syria’s president visits Bahrain and discusses...            True   \n",
       "2    A rare New Zealand snail is filmed for the fir...            True   \n",
       "3    Ousted top election official in key swing stat...            True   \n",
       "4    US infant mortality dropped in 2024. Experts p...            True   \n",
       "..                                                 ...             ...   \n",
       "134                                               None           False   \n",
       "135                                               None           False   \n",
       "136                                               None           False   \n",
       "137                                               None           False   \n",
       "138                                               None           False   \n",
       "\n",
       "                                          scrape_error metadata  \n",
       "0                                                 None     None  \n",
       "1                                                 None     None  \n",
       "2                                                 None     None  \n",
       "3                                                 None     None  \n",
       "4                                                 None     None  \n",
       "..                                                 ...      ...  \n",
       "134  Failed to get page: Failed to scrape https://a...     None  \n",
       "135  Failed to get page: Failed to scrape https://a...     None  \n",
       "136  Failed to get page: Failed to scrape https://a...     None  \n",
       "137  Failed to get page: Failed to scrape https://a...     None  \n",
       "138  Failed to get page: Failed to scrape https://a...     None  \n",
       "\n",
       "[139 rows x 5 columns]"
      ]
     },
     "metadata": {},
     "output_type": "display_data"
    }
   ],
   "source": [
    "# Scrape the news links\n",
    "workflow.scrape(news_links)\n",
    "# Display the scraped content\n",
    "display(workflow.get_scrapes())"
   ]
  },
  {
   "cell_type": "markdown",
   "metadata": {},
   "source": [
    "## Analyze content\n",
    "Next we will extract celebrities mentioned in each article using OpenAI"
   ]
  },
  {
   "cell_type": "code",
   "execution_count": 8,
   "metadata": {},
   "outputs": [
    {
     "data": {
      "application/vnd.jupyter.widget-view+json": {
       "model_id": "aae67b79ec734b4696f6bf71efe1cc2b",
       "version_major": 2,
       "version_minor": 0
      },
      "text/plain": [
       "Analyzing: 0link [00:00, ?link/s]"
      ]
     },
     "metadata": {},
     "output_type": "display_data"
    },
    {
     "data": {
      "application/vnd.microsoft.datawrangler.viewer.v0+json": {
       "columns": [
        {
         "name": "index",
         "rawType": "int64",
         "type": "integer"
        },
        {
         "name": "link",
         "rawType": "object",
         "type": "string"
        },
        {
         "name": "output",
         "rawType": "object",
         "type": "unknown"
        },
        {
         "name": "analysis_success",
         "rawType": "bool",
         "type": "boolean"
        },
        {
         "name": "analysis_error",
         "rawType": "object",
         "type": "unknown"
        }
       ],
       "conversionMethod": "pd.DataFrame",
       "ref": "fe0c6da0-6d61-4053-98c5-4918fd0c1d04",
       "rows": [
        [
         "0",
         "https://apnews.com/article/bangladesh-hasina-yunus-awami-league-78b40dfe9c92257f0042968c7b963c2a",
         "{'celebrities': ['Sheikh Hasina', 'Muhammad Yunus']}",
         "True",
         null
        ],
        [
         "1",
         "https://apnews.com/article/syrian-bahrain-alsharaa-visit-king-hamad-2ac88b85ac105676da674c4bdbe06871",
         "{'celebrities': ['Donald Trump', 'Emmanuel Macron']}",
         "True",
         null
        ],
        [
         "2",
         "https://apnews.com/article/zealand-snail-egg-neck-powelliphanta-augusta-3cb8082547a83b8c47848b6621c06cb0",
         "{'celebrities': []}",
         "True",
         null
        ],
        [
         "3",
         "https://apnews.com/article/north-carolina-election-director-republicans-power-ee4ec571f0ec5fb1acd5714ddec1c811",
         "{'celebrities': []}",
         "True",
         null
        ],
        [
         "4",
         "https://apnews.com/article/infant-mortality-cdc-8b79d43cd3d994b9a5de92d39f3af8cc",
         "{'celebrities': []}",
         "True",
         null
        ],
        [
         "5",
         "https://apnews.com/article/italy-sicily-superyacht-recovery-operation-halt-diver-b82eb158b854f2c4605db24728b41610",
         "{'celebrities': ['Mike Lynch', 'Hannah Lynch', 'Jonathan Bloomer', 'Judy Bloomer', 'Chris Morvillo', 'Neda Morvillo', 'Recaldo Thomas']}",
         "True",
         null
        ],
        [
         "6",
         "https://apnews.com/article/2025-pope-francis-community-church-extraordinary-photos",
         "{'celebrities': ['Pope Francis']}",
         "True",
         null
        ],
        [
         "7",
         "https://apnews.com/article/ecuador-fishermen-galapagos-rescue-adrift-missing-9d057d6947485988da1729c82873d569",
         "{'celebrities': []}",
         "True",
         null
        ],
        [
         "8",
         "https://apnews.com/article/kansas-trooper-killed-1978-parole-bddb1419d345f4ee07f6c57a1b626d4f",
         "{'celebrities': []}",
         "True",
         null
        ],
        [
         "9",
         "https://apnews.com/article/trump-us-canada-trade-deficit-military-norad-spending-1417673f38f1829334a4e571ea058e03",
         "{'celebrities': ['Donald Trump', 'Mark Carney', 'Anita Anand', 'Gary Hufbauer', 'Gian Maria Milesi-Ferretti', 'Mark Cancian', 'Binyam Solomon', 'Ross Fetterly']}",
         "True",
         null
        ],
        [
         "10",
         "https://apnews.com/article/sinner-swiatek-italian-opn-a8c18ae6414727cc606be6f73a50d345",
         "{'celebrities': ['Jannik Sinner', 'Mariano Navone', 'Iga Swiatek', 'Danielle Collins', 'Coco Gauff', 'Adriano Panatta']}",
         "True",
         null
        ],
        [
         "11",
         "https://apnews.com/article/russia-victory-day-photos-fe4bb13744424a1a7c1f7b77f66c0759",
         "{'celebrities': ['Xi Jinping', 'Vladimir Putin', 'Denis Sassou Nguesso', 'Nicolas Maduro', 'Sadyr Japarov', 'Emomali Rahmon', 'Robert Fico']}",
         "True",
         null
        ],
        [
         "12",
         "https://apnews.com/article/skype-internet-microsoft-telecom-0b0155de4a8b6f8ae388b84cf80471c8",
         "{'celebrities': []}",
         "True",
         null
        ],
        [
         "13",
         "https://apnews.com/article/russia-ukraine-war-fbd6aa9ddb147fa1b789c30dcf44dab3",
         "{'celebrities': ['Donald Trump', 'Vladimir Putin', 'Volodymyr Zelenskyy', 'Emmanuel Macron', 'Keir Starmer', 'Friedrich Merz', 'Donald Tusk', 'Keith Kellogg']}",
         "True",
         null
        ],
        [
         "14",
         "https://apnews.com/article/hawaii-plavix-settlement-drug-7a8051cff3c65f53c38e32741d0fa91b",
         "{'celebrities': []}",
         "True",
         null
        ],
        [
         "15",
         "https://apnews.com/article/columbia-protests-students-suspended-7215bd15abc3edd303b3224f9edbcfd2",
         "{'celebrities': ['Marco Rubio']}",
         "True",
         null
        ],
        [
         "16",
         "https://apnews.com/article/openai-ceo-sam-altman-congress-senate-testify-ai-20e7bce9f59ee0c2c9914bc3ae53d674",
         "{'celebrities': ['Sam Altman', 'Lisa Su', 'Michael Intrator', 'Brad Smith', 'Ted Cruz', 'Bernie Moreno', 'Tammy Duckworth', 'Donald Trump', 'Elon Musk', 'Joe Biden', 'Brian Schatz']}",
         "True",
         null
        ],
        [
         "17",
         "https://apnews.com/article/ai-virtual-reality-courtrooms-legal-challenges-arizona-f47bfd50bd22469388082169ee77b7f0",
         "{'celebrities': []}",
         "True",
         null
        ],
        [
         "18",
         "https://apnews.com/article/fda-food-dyes-natural-color-additives-897923a5969b636e0eee848982906014",
         "{'celebrities': ['Robert F. Kennedy Jr.', 'Marty Makary']}",
         "True",
         null
        ],
        [
         "19",
         "https://apnews.com/article/debt-ceiling-treasury-finance-xdate-73b690e943ec3e9ce60130cc7a254305",
         "{'celebrities': ['Scott Bessent', 'Janet Yellen', 'Mike Johnson', 'Donald Trump', 'Joe Biden']}",
         "True",
         null
        ],
        [
         "20",
         "https://apnews.com/article/scorecard-killer-victim-id-oregon-081d891828d3bad81bf99a40004802e8",
         "{'celebrities': ['Randy Kraft']}",
         "True",
         null
        ],
        [
         "21",
         "https://apnews.com/article/venice-arts-biennale-curator-kouoh-death-40650ca974ac174efc2f6a94ba6dcf41",
         "{'celebrities': ['Giorgia Meloni', 'Koyo Kouoh']}",
         "True",
         null
        ],
        [
         "22",
         "https://apnews.com/article/mo-willems-pigeon-new-book-interview-dc24753a8f26c60a916db72278d21961",
         "{'celebrities': ['Mo Willems', 'Bradley Freeman Jr.']}",
         "True",
         null
        ],
        [
         "23",
         "https://apnews.com/article/who-daltrey-townsend-us-tour-0b4be3bc4c1c67673d97aa6447cf1ba8",
         "{'celebrities': ['Roger Daltrey', 'Pete Townshend', 'Keith Moon', 'John Entwistle']}",
         "True",
         null
        ],
        [
         "24",
         "https://apnews.com/article/xi-beijing-min-aung-hlaing-lashio-aad2a493d0e80a3050e2c08d9aa57e1f",
         "{'celebrities': []}",
         "True",
         null
        ],
        [
         "25",
         "https://apnews.com/article/organic-farming-environment-food-sustainability-usda-cda198ffbfa8a067a4b68612e44766dd",
         "{'celebrities': []}",
         "True",
         null
        ],
        [
         "26",
         "https://apnews.com/article/mtg-greene-ossoff-georgia-senate-6df53b2ef8bf9d49272a4b4359abad21",
         "{'celebrities': ['Marjorie Taylor Greene', 'Jon Ossoff', 'Brian Kemp', 'Buddy Carter', 'Mike Collins', 'Rich McCormick', 'Brad Raffensperger', 'Tyler Harper', 'John King', 'Greg Dolezal', 'Eric Tanenblatt', 'Kevin McCarthy']}",
         "True",
         null
        ],
        [
         "27",
         "https://apnews.com/article/cruise-ship-norovirus-cdc-cuts-6cdef804c8145597fcdbde942b7636fb",
         "{'celebrities': ['Donald Schaffner', 'Robert F. Kennedy Jr.', 'Lee-Ann Jaykus']}",
         "True",
         null
        ],
        [
         "28",
         "https://apnews.com/article/sliding-mitts-little-league-566b12315127f05ac75571e8a5d4d062",
         "{'celebrities': ['Andrew McCutchen', 'Scott Podsednik', 'Fernando Tatis Jr.']}",
         "True",
         null
        ],
        [
         "29",
         "https://apnews.com/article/nyc-mayor-eric-adams-trump-6a76e9abeeb3ef6328e3195806aba663",
         "{'celebrities': ['Eric Adams', 'Joe Biden', 'Donald Trump', 'Tracey Collins']}",
         "True",
         null
        ],
        [
         "30",
         "https://apnews.com/article/pope-leo-xiv-humor-chicago-19f477fd02c571cf279b2365678298fe",
         "{'celebrities': ['Michael Jordan', 'Chad Nackers', 'Robert Prevost', 'Jimmy Fallon', 'Stephen Colbert', 'Jimmy Kimmel', 'Mike Ditka', 'Oprah']}",
         "True",
         null
        ],
        [
         "31",
         "https://apnews.com/article/ethics-bowl-students-american-divisiveness-2d8297d1596646090af9994ac3d00770",
         "{'celebrities': ['Taylor Swift', 'Dolly the sheep', 'Brian Thompson']}",
         "True",
         null
        ],
        [
         "32",
         "https://apnews.com/article/unrwa-schools-east-jerusalem-israel-palestinians-gaza-hamas-ce77505a6d5da1d67aa6859e4a233435",
         "{'celebrities': []}",
         "True",
         null
        ],
        [
         "33",
         "https://apnews.com/article/china-us-tariffs-timeline-negotiations-switzerland-d9f1d0e10d328a5d32413016d9d909f2",
         "{'celebrities': ['Donald Trump', 'Scott Bessent', 'Jamieson Greer', 'He Lifeng']}",
         "True",
         null
        ],
        [
         "34",
         "https://apnews.com/article/blake-shelton-for-recreational-use-only-review-0274d83fec57cad442e35ee00659ec7e",
         "{'celebrities': ['Blake Shelton', 'Gwen Stefani', 'George Strait', 'Craig Morgan', 'Josh Anderson']}",
         "True",
         null
        ],
        [
         "35",
         "https://apnews.com/article/papa-leon-vision-papado-inteligencia-artificial-37452ba330a12df5f26c8b98f70c2a63",
         "{'celebrities': ['papa León XIV', 'papa Francisco', 'papa León XIII', 'San Agustín', 'Santa Mónica', 'Robert Prevost', 'Désiré Tsarahazana', 'papa Pietro Parolin']}",
         "True",
         null
        ],
        [
         "36",
         "https://apnews.com/article/trump-two-dolls-tariffs-toys-7b0e5d3a9035471317e6dc4ee1fbfbc1",
         "{'celebrities': ['Donald Trump', 'Barron Trump', 'Jonathan Cathey', 'Marshal Cohen', 'James Russell Hornsby', 'Katie Walley-Wiegert', 'Elenor Mak']}",
         "True",
         null
        ],
        [
         "37",
         "https://apnews.com/article/watson-buccaneers-vea-8fe1af886c44c5745b84deb13bab90cb",
         "{'celebrities': ['Desmond Watson', 'Vita Vea', 'Todd Bowles', 'Mark Long']}",
         "True",
         null
        ],
        [
         "38",
         "https://apnews.com/article/india-pakistan-missile-photos-b2cb579a2320b52aabe07a47f748dc19",
         "{'celebrities': []}",
         "True",
         null
        ],
        [
         "39",
         "https://apnews.com/article/rusia-ucrania-guerra-alemania-polonia-francia-reino-unido-330374d4b6d6a311ad074bb79beada9d",
         "{'celebrities': ['Vladímir Putin', 'Donald Trump', 'Volodymyr Zelenskyy', 'Emmanuel Macron', 'Keir Starmer', 'Friedrich Merz', 'Donald Tusk', 'Keith Kellogg']}",
         "True",
         null
        ],
        [
         "40",
         "https://apnews.com/article/civilian-nuclear-program-saudi-arabia-trump-iran-be8697a1890d0158cef57babb47e7583",
         "{'celebrities': ['Donald Trump', 'Chris Wright', 'Jon Alterman', 'Mohammed bin Salman', 'Joe Biden', 'Hasan Alhasan', 'Robert Einhorn']}",
         "True",
         null
        ],
        [
         "41",
         "https://apnews.com/article/brazil-petrobras-ceo-amazon-comments-video-17240843cb8934f947e8da5e957ab973",
         "{'celebrities': ['Magda Chambriard', 'Clécio Luís', 'Donald Trump', 'Luiz Inácio Lula da Silva']}",
         "True",
         null
        ],
        [
         "42",
         "https://apnews.com/article/bear-attack-florida-f9019777b7d705668ca467ee7ce2aa36",
         "{'celebrities': []}",
         "True",
         null
        ],
        [
         "43",
         "https://apnews.com/article/israel-palestinians-hamas-war-news-10-05-2025-c9b6f26c14577be19adb8903b5ac55f3",
         "{'celebrities': ['Elkana Bohbot', 'Yosef-Haim Ohana', 'Michel Illouz', 'Guy Illouz']}",
         "True",
         null
        ],
        [
         "44",
         "https://apnews.com/article/smokey-robinson-la-lawsuit-sexual-assault-1512119eb018782fffad29d1d0358724",
         "{'celebrities': ['Smokey Robinson', 'Frances Robinson']}",
         "True",
         null
        ],
        [
         "45",
         "https://apnews.com/article/swimsuit-history-miami-museum-exhibit-882b06b9dd22bc66201e9808d39fda04",
         "{'celebrities': ['Natalia Crujeiras', 'Jane Fisher', 'Carl G. Fisher', 'Johnny Weissmuller']}",
         "True",
         null
        ],
        [
         "46",
         "https://apnews.com/article/ronan-dancing-sea-lion-boogie-wonderland-ef575607db2f710fe102e2dd7c994049",
         "{'celebrities': []}",
         "True",
         null
        ],
        [
         "47",
         "https://apnews.com/article/bullfighting-mexico-matadors-religion-animal-cruelty-photos-65525657e00845998f894b4176450d54",
         "{'celebrities': ['Diego Silveti', 'Alejandro Talavante']}",
         "True",
         null
        ],
        [
         "48",
         "https://apnews.com/article/inflation-federal-reserve-trump-1e827f16bd34fb05ea7a339e3015c544",
         "{'celebrities': ['Donald Trump', 'Jerome Powell', 'Gregory Daco', 'Michael Barr']}",
         "True",
         null
        ],
        [
         "49",
         "https://apnews.com/article/associated-press-top-photos-may-8-2025-bfec405033186521ee248d0f95db8077",
         "{'celebrities': ['Jimmy Wayne Carwyle', 'Toral Malik', 'Lainey Wilson', 'Reba McEntire', 'Miranda Lambert', 'Cody Johnson']}",
         "True",
         null
        ]
       ],
       "shape": {
        "columns": 4,
        "rows": 128
       }
      },
      "text/html": [
       "<div>\n",
       "<style scoped>\n",
       "    .dataframe tbody tr th:only-of-type {\n",
       "        vertical-align: middle;\n",
       "    }\n",
       "\n",
       "    .dataframe tbody tr th {\n",
       "        vertical-align: top;\n",
       "    }\n",
       "\n",
       "    .dataframe thead th {\n",
       "        text-align: right;\n",
       "    }\n",
       "</style>\n",
       "<table border=\"1\" class=\"dataframe\">\n",
       "  <thead>\n",
       "    <tr style=\"text-align: right;\">\n",
       "      <th></th>\n",
       "      <th>link</th>\n",
       "      <th>output</th>\n",
       "      <th>analysis_success</th>\n",
       "      <th>analysis_error</th>\n",
       "    </tr>\n",
       "  </thead>\n",
       "  <tbody>\n",
       "    <tr>\n",
       "      <th>0</th>\n",
       "      <td>https://apnews.com/article/bangladesh-hasina-y...</td>\n",
       "      <td>{'celebrities': ['Sheikh Hasina', 'Muhammad Yu...</td>\n",
       "      <td>True</td>\n",
       "      <td>None</td>\n",
       "    </tr>\n",
       "    <tr>\n",
       "      <th>1</th>\n",
       "      <td>https://apnews.com/article/syrian-bahrain-alsh...</td>\n",
       "      <td>{'celebrities': ['Donald Trump', 'Emmanuel Mac...</td>\n",
       "      <td>True</td>\n",
       "      <td>None</td>\n",
       "    </tr>\n",
       "    <tr>\n",
       "      <th>2</th>\n",
       "      <td>https://apnews.com/article/zealand-snail-egg-n...</td>\n",
       "      <td>{'celebrities': []}</td>\n",
       "      <td>True</td>\n",
       "      <td>None</td>\n",
       "    </tr>\n",
       "    <tr>\n",
       "      <th>3</th>\n",
       "      <td>https://apnews.com/article/north-carolina-elec...</td>\n",
       "      <td>{'celebrities': []}</td>\n",
       "      <td>True</td>\n",
       "      <td>None</td>\n",
       "    </tr>\n",
       "    <tr>\n",
       "      <th>4</th>\n",
       "      <td>https://apnews.com/article/infant-mortality-cd...</td>\n",
       "      <td>{'celebrities': []}</td>\n",
       "      <td>True</td>\n",
       "      <td>None</td>\n",
       "    </tr>\n",
       "    <tr>\n",
       "      <th>...</th>\n",
       "      <td>...</td>\n",
       "      <td>...</td>\n",
       "      <td>...</td>\n",
       "      <td>...</td>\n",
       "    </tr>\n",
       "    <tr>\n",
       "      <th>123</th>\n",
       "      <td>https://apnews.com/article/disabled-federal-wo...</td>\n",
       "      <td>{'celebrities': ['Donald Trump', 'Robert F. Ke...</td>\n",
       "      <td>True</td>\n",
       "      <td>None</td>\n",
       "    </tr>\n",
       "    <tr>\n",
       "      <th>124</th>\n",
       "      <td>https://apnews.com/article/browns-sanders-dill...</td>\n",
       "      <td>{'celebrities': ['Shedeur Sanders', 'DeAndre C...</td>\n",
       "      <td>True</td>\n",
       "      <td>None</td>\n",
       "    </tr>\n",
       "    <tr>\n",
       "      <th>125</th>\n",
       "      <td>https://apnews.com/article/pulitzer-prizes-202...</td>\n",
       "      <td>{'celebrities': ['Elon Musk', 'Greg Tate']}</td>\n",
       "      <td>True</td>\n",
       "      <td>None</td>\n",
       "    </tr>\n",
       "    <tr>\n",
       "      <th>126</th>\n",
       "      <td>https://apnews.com/article/brasil-amazonia-cat...</td>\n",
       "      <td>{'celebrities': ['Francisco', 'Robert Prevost'...</td>\n",
       "      <td>True</td>\n",
       "      <td>None</td>\n",
       "    </tr>\n",
       "    <tr>\n",
       "      <th>127</th>\n",
       "      <td>https://apnews.com/article/google-internet-med...</td>\n",
       "      <td>{'celebrities': []}</td>\n",
       "      <td>True</td>\n",
       "      <td>None</td>\n",
       "    </tr>\n",
       "  </tbody>\n",
       "</table>\n",
       "<p>128 rows × 4 columns</p>\n",
       "</div>"
      ],
      "text/plain": [
       "                                                  link  \\\n",
       "0    https://apnews.com/article/bangladesh-hasina-y...   \n",
       "1    https://apnews.com/article/syrian-bahrain-alsh...   \n",
       "2    https://apnews.com/article/zealand-snail-egg-n...   \n",
       "3    https://apnews.com/article/north-carolina-elec...   \n",
       "4    https://apnews.com/article/infant-mortality-cd...   \n",
       "..                                                 ...   \n",
       "123  https://apnews.com/article/disabled-federal-wo...   \n",
       "124  https://apnews.com/article/browns-sanders-dill...   \n",
       "125  https://apnews.com/article/pulitzer-prizes-202...   \n",
       "126  https://apnews.com/article/brasil-amazonia-cat...   \n",
       "127  https://apnews.com/article/google-internet-med...   \n",
       "\n",
       "                                                output  analysis_success  \\\n",
       "0    {'celebrities': ['Sheikh Hasina', 'Muhammad Yu...              True   \n",
       "1    {'celebrities': ['Donald Trump', 'Emmanuel Mac...              True   \n",
       "2                                  {'celebrities': []}              True   \n",
       "3                                  {'celebrities': []}              True   \n",
       "4                                  {'celebrities': []}              True   \n",
       "..                                                 ...               ...   \n",
       "123  {'celebrities': ['Donald Trump', 'Robert F. Ke...              True   \n",
       "124  {'celebrities': ['Shedeur Sanders', 'DeAndre C...              True   \n",
       "125        {'celebrities': ['Elon Musk', 'Greg Tate']}              True   \n",
       "126  {'celebrities': ['Francisco', 'Robert Prevost'...              True   \n",
       "127                                {'celebrities': []}              True   \n",
       "\n",
       "    analysis_error  \n",
       "0             None  \n",
       "1             None  \n",
       "2             None  \n",
       "3             None  \n",
       "4             None  \n",
       "..             ...  \n",
       "123           None  \n",
       "124           None  \n",
       "125           None  \n",
       "126           None  \n",
       "127           None  \n",
       "\n",
       "[128 rows x 4 columns]"
      ]
     },
     "metadata": {},
     "output_type": "display_data"
    }
   ],
   "source": [
    "# Analyze the scraped content\n",
    "workflow.analyze()\n",
    "\n",
    "# Display the analyses\n",
    "display(workflow.get_analyses())"
   ]
  },
  {
   "cell_type": "markdown",
   "metadata": {},
   "source": [
    "## Compile the results\n",
    "Finally, let's export the completed analysis. "
   ]
  },
  {
   "cell_type": "code",
   "execution_count": 9,
   "metadata": {},
   "outputs": [
    {
     "data": {
      "application/vnd.microsoft.datawrangler.viewer.v0+json": {
       "columns": [
        {
         "name": "index",
         "rawType": "int64",
         "type": "integer"
        },
        {
         "name": "link",
         "rawType": "object",
         "type": "string"
        },
        {
         "name": "celebrities",
         "rawType": "object",
         "type": "unknown"
        }
       ],
       "conversionMethod": "pd.DataFrame",
       "ref": "c2ede2d6-14a2-4e98-bec8-0c7a64aaf66a",
       "rows": [
        [
         "0",
         "https://apnews.com/article/bangladesh-hasina-yunus-awami-league-78b40dfe9c92257f0042968c7b963c2a",
         "['Sheikh Hasina', 'Muhammad Yunus']"
        ],
        [
         "1",
         "https://apnews.com/article/syrian-bahrain-alsharaa-visit-king-hamad-2ac88b85ac105676da674c4bdbe06871",
         "['Donald Trump', 'Emmanuel Macron']"
        ],
        [
         "2",
         "https://apnews.com/article/zealand-snail-egg-neck-powelliphanta-augusta-3cb8082547a83b8c47848b6621c06cb0",
         "[]"
        ],
        [
         "3",
         "https://apnews.com/article/north-carolina-election-director-republicans-power-ee4ec571f0ec5fb1acd5714ddec1c811",
         "[]"
        ],
        [
         "4",
         "https://apnews.com/article/infant-mortality-cdc-8b79d43cd3d994b9a5de92d39f3af8cc",
         "[]"
        ],
        [
         "5",
         "https://apnews.com/article/italy-sicily-superyacht-recovery-operation-halt-diver-b82eb158b854f2c4605db24728b41610",
         "['Mike Lynch', 'Hannah Lynch', 'Jonathan Bloomer', 'Judy Bloomer', 'Chris Morvillo', 'Neda Morvillo', 'Recaldo Thomas']"
        ],
        [
         "6",
         "https://apnews.com/article/2025-pope-francis-community-church-extraordinary-photos",
         "['Pope Francis']"
        ],
        [
         "7",
         "https://apnews.com/article/ecuador-fishermen-galapagos-rescue-adrift-missing-9d057d6947485988da1729c82873d569",
         "[]"
        ],
        [
         "8",
         "https://apnews.com/article/kansas-trooper-killed-1978-parole-bddb1419d345f4ee07f6c57a1b626d4f",
         "[]"
        ],
        [
         "9",
         "https://apnews.com/article/trump-us-canada-trade-deficit-military-norad-spending-1417673f38f1829334a4e571ea058e03",
         "['Donald Trump', 'Mark Carney', 'Anita Anand', 'Gary Hufbauer', 'Gian Maria Milesi-Ferretti', 'Mark Cancian', 'Binyam Solomon', 'Ross Fetterly']"
        ],
        [
         "10",
         "https://apnews.com/article/sinner-swiatek-italian-opn-a8c18ae6414727cc606be6f73a50d345",
         "['Jannik Sinner', 'Mariano Navone', 'Iga Swiatek', 'Danielle Collins', 'Coco Gauff', 'Adriano Panatta']"
        ],
        [
         "11",
         "https://apnews.com/article/russia-victory-day-photos-fe4bb13744424a1a7c1f7b77f66c0759",
         "['Xi Jinping', 'Vladimir Putin', 'Denis Sassou Nguesso', 'Nicolas Maduro', 'Sadyr Japarov', 'Emomali Rahmon', 'Robert Fico']"
        ],
        [
         "12",
         "https://apnews.com/article/skype-internet-microsoft-telecom-0b0155de4a8b6f8ae388b84cf80471c8",
         "[]"
        ],
        [
         "13",
         "https://apnews.com/article/russia-ukraine-war-fbd6aa9ddb147fa1b789c30dcf44dab3",
         "['Donald Trump', 'Vladimir Putin', 'Volodymyr Zelenskyy', 'Emmanuel Macron', 'Keir Starmer', 'Friedrich Merz', 'Donald Tusk', 'Keith Kellogg']"
        ],
        [
         "14",
         "https://apnews.com/article/hawaii-plavix-settlement-drug-7a8051cff3c65f53c38e32741d0fa91b",
         "[]"
        ],
        [
         "15",
         "https://apnews.com/article/columbia-protests-students-suspended-7215bd15abc3edd303b3224f9edbcfd2",
         "['Marco Rubio']"
        ],
        [
         "16",
         "https://apnews.com/article/openai-ceo-sam-altman-congress-senate-testify-ai-20e7bce9f59ee0c2c9914bc3ae53d674",
         "['Sam Altman', 'Lisa Su', 'Michael Intrator', 'Brad Smith', 'Ted Cruz', 'Bernie Moreno', 'Tammy Duckworth', 'Donald Trump', 'Elon Musk', 'Joe Biden', 'Brian Schatz']"
        ],
        [
         "17",
         "https://apnews.com/article/ai-virtual-reality-courtrooms-legal-challenges-arizona-f47bfd50bd22469388082169ee77b7f0",
         "[]"
        ],
        [
         "18",
         "https://apnews.com/article/fda-food-dyes-natural-color-additives-897923a5969b636e0eee848982906014",
         "['Robert F. Kennedy Jr.', 'Marty Makary']"
        ],
        [
         "19",
         "https://apnews.com/article/debt-ceiling-treasury-finance-xdate-73b690e943ec3e9ce60130cc7a254305",
         "['Scott Bessent', 'Janet Yellen', 'Mike Johnson', 'Donald Trump', 'Joe Biden']"
        ],
        [
         "20",
         "https://apnews.com/article/scorecard-killer-victim-id-oregon-081d891828d3bad81bf99a40004802e8",
         "['Randy Kraft']"
        ],
        [
         "21",
         "https://apnews.com/article/venice-arts-biennale-curator-kouoh-death-40650ca974ac174efc2f6a94ba6dcf41",
         "['Giorgia Meloni', 'Koyo Kouoh']"
        ],
        [
         "22",
         "https://apnews.com/article/mo-willems-pigeon-new-book-interview-dc24753a8f26c60a916db72278d21961",
         "['Mo Willems', 'Bradley Freeman Jr.']"
        ],
        [
         "23",
         "https://apnews.com/article/who-daltrey-townsend-us-tour-0b4be3bc4c1c67673d97aa6447cf1ba8",
         "['Roger Daltrey', 'Pete Townshend', 'Keith Moon', 'John Entwistle']"
        ],
        [
         "24",
         "https://apnews.com/article/xi-beijing-min-aung-hlaing-lashio-aad2a493d0e80a3050e2c08d9aa57e1f",
         "[]"
        ],
        [
         "25",
         "https://apnews.com/article/organic-farming-environment-food-sustainability-usda-cda198ffbfa8a067a4b68612e44766dd",
         "[]"
        ],
        [
         "26",
         "https://apnews.com/article/mtg-greene-ossoff-georgia-senate-6df53b2ef8bf9d49272a4b4359abad21",
         "['Marjorie Taylor Greene', 'Jon Ossoff', 'Brian Kemp', 'Buddy Carter', 'Mike Collins', 'Rich McCormick', 'Brad Raffensperger', 'Tyler Harper', 'John King', 'Greg Dolezal', 'Eric Tanenblatt', 'Kevin McCarthy']"
        ],
        [
         "27",
         "https://apnews.com/article/cruise-ship-norovirus-cdc-cuts-6cdef804c8145597fcdbde942b7636fb",
         "['Donald Schaffner', 'Robert F. Kennedy Jr.', 'Lee-Ann Jaykus']"
        ],
        [
         "28",
         "https://apnews.com/article/sliding-mitts-little-league-566b12315127f05ac75571e8a5d4d062",
         "['Andrew McCutchen', 'Scott Podsednik', 'Fernando Tatis Jr.']"
        ],
        [
         "29",
         "https://apnews.com/article/nyc-mayor-eric-adams-trump-6a76e9abeeb3ef6328e3195806aba663",
         "['Eric Adams', 'Joe Biden', 'Donald Trump', 'Tracey Collins']"
        ],
        [
         "30",
         "https://apnews.com/article/pope-leo-xiv-humor-chicago-19f477fd02c571cf279b2365678298fe",
         "['Michael Jordan', 'Chad Nackers', 'Robert Prevost', 'Jimmy Fallon', 'Stephen Colbert', 'Jimmy Kimmel', 'Mike Ditka', 'Oprah']"
        ],
        [
         "31",
         "https://apnews.com/article/ethics-bowl-students-american-divisiveness-2d8297d1596646090af9994ac3d00770",
         "['Taylor Swift', 'Dolly the sheep', 'Brian Thompson']"
        ],
        [
         "32",
         "https://apnews.com/article/unrwa-schools-east-jerusalem-israel-palestinians-gaza-hamas-ce77505a6d5da1d67aa6859e4a233435",
         "[]"
        ],
        [
         "33",
         "https://apnews.com/article/china-us-tariffs-timeline-negotiations-switzerland-d9f1d0e10d328a5d32413016d9d909f2",
         "['Donald Trump', 'Scott Bessent', 'Jamieson Greer', 'He Lifeng']"
        ],
        [
         "34",
         "https://apnews.com/article/blake-shelton-for-recreational-use-only-review-0274d83fec57cad442e35ee00659ec7e",
         "['Blake Shelton', 'Gwen Stefani', 'George Strait', 'Craig Morgan', 'Josh Anderson']"
        ],
        [
         "35",
         "https://apnews.com/article/papa-leon-vision-papado-inteligencia-artificial-37452ba330a12df5f26c8b98f70c2a63",
         "['papa León XIV', 'papa Francisco', 'papa León XIII', 'San Agustín', 'Santa Mónica', 'Robert Prevost', 'Désiré Tsarahazana', 'papa Pietro Parolin']"
        ],
        [
         "36",
         "https://apnews.com/article/trump-two-dolls-tariffs-toys-7b0e5d3a9035471317e6dc4ee1fbfbc1",
         "['Donald Trump', 'Barron Trump', 'Jonathan Cathey', 'Marshal Cohen', 'James Russell Hornsby', 'Katie Walley-Wiegert', 'Elenor Mak']"
        ],
        [
         "37",
         "https://apnews.com/article/watson-buccaneers-vea-8fe1af886c44c5745b84deb13bab90cb",
         "['Desmond Watson', 'Vita Vea', 'Todd Bowles', 'Mark Long']"
        ],
        [
         "38",
         "https://apnews.com/article/india-pakistan-missile-photos-b2cb579a2320b52aabe07a47f748dc19",
         "[]"
        ],
        [
         "39",
         "https://apnews.com/article/rusia-ucrania-guerra-alemania-polonia-francia-reino-unido-330374d4b6d6a311ad074bb79beada9d",
         "['Vladímir Putin', 'Donald Trump', 'Volodymyr Zelenskyy', 'Emmanuel Macron', 'Keir Starmer', 'Friedrich Merz', 'Donald Tusk', 'Keith Kellogg']"
        ],
        [
         "40",
         "https://apnews.com/article/civilian-nuclear-program-saudi-arabia-trump-iran-be8697a1890d0158cef57babb47e7583",
         "['Donald Trump', 'Chris Wright', 'Jon Alterman', 'Mohammed bin Salman', 'Joe Biden', 'Hasan Alhasan', 'Robert Einhorn']"
        ],
        [
         "41",
         "https://apnews.com/article/brazil-petrobras-ceo-amazon-comments-video-17240843cb8934f947e8da5e957ab973",
         "['Magda Chambriard', 'Clécio Luís', 'Donald Trump', 'Luiz Inácio Lula da Silva']"
        ],
        [
         "42",
         "https://apnews.com/article/bear-attack-florida-f9019777b7d705668ca467ee7ce2aa36",
         "[]"
        ],
        [
         "43",
         "https://apnews.com/article/israel-palestinians-hamas-war-news-10-05-2025-c9b6f26c14577be19adb8903b5ac55f3",
         "['Elkana Bohbot', 'Yosef-Haim Ohana', 'Michel Illouz', 'Guy Illouz']"
        ],
        [
         "44",
         "https://apnews.com/article/smokey-robinson-la-lawsuit-sexual-assault-1512119eb018782fffad29d1d0358724",
         "['Smokey Robinson', 'Frances Robinson']"
        ],
        [
         "45",
         "https://apnews.com/article/swimsuit-history-miami-museum-exhibit-882b06b9dd22bc66201e9808d39fda04",
         "['Natalia Crujeiras', 'Jane Fisher', 'Carl G. Fisher', 'Johnny Weissmuller']"
        ],
        [
         "46",
         "https://apnews.com/article/ronan-dancing-sea-lion-boogie-wonderland-ef575607db2f710fe102e2dd7c994049",
         "[]"
        ],
        [
         "47",
         "https://apnews.com/article/bullfighting-mexico-matadors-religion-animal-cruelty-photos-65525657e00845998f894b4176450d54",
         "['Diego Silveti', 'Alejandro Talavante']"
        ],
        [
         "48",
         "https://apnews.com/article/inflation-federal-reserve-trump-1e827f16bd34fb05ea7a339e3015c544",
         "['Donald Trump', 'Jerome Powell', 'Gregory Daco', 'Michael Barr']"
        ],
        [
         "49",
         "https://apnews.com/article/associated-press-top-photos-may-8-2025-bfec405033186521ee248d0f95db8077",
         "['Jimmy Wayne Carwyle', 'Toral Malik', 'Lainey Wilson', 'Reba McEntire', 'Miranda Lambert', 'Cody Johnson']"
        ]
       ],
       "shape": {
        "columns": 2,
        "rows": 139
       }
      },
      "text/html": [
       "<div>\n",
       "<style scoped>\n",
       "    .dataframe tbody tr th:only-of-type {\n",
       "        vertical-align: middle;\n",
       "    }\n",
       "\n",
       "    .dataframe tbody tr th {\n",
       "        vertical-align: top;\n",
       "    }\n",
       "\n",
       "    .dataframe thead th {\n",
       "        text-align: right;\n",
       "    }\n",
       "</style>\n",
       "<table border=\"1\" class=\"dataframe\">\n",
       "  <thead>\n",
       "    <tr style=\"text-align: right;\">\n",
       "      <th></th>\n",
       "      <th>link</th>\n",
       "      <th>celebrities</th>\n",
       "    </tr>\n",
       "  </thead>\n",
       "  <tbody>\n",
       "    <tr>\n",
       "      <th>0</th>\n",
       "      <td>https://apnews.com/article/bangladesh-hasina-y...</td>\n",
       "      <td>[Sheikh Hasina, Muhammad Yunus]</td>\n",
       "    </tr>\n",
       "    <tr>\n",
       "      <th>1</th>\n",
       "      <td>https://apnews.com/article/syrian-bahrain-alsh...</td>\n",
       "      <td>[Donald Trump, Emmanuel Macron]</td>\n",
       "    </tr>\n",
       "    <tr>\n",
       "      <th>2</th>\n",
       "      <td>https://apnews.com/article/zealand-snail-egg-n...</td>\n",
       "      <td>[]</td>\n",
       "    </tr>\n",
       "    <tr>\n",
       "      <th>3</th>\n",
       "      <td>https://apnews.com/article/north-carolina-elec...</td>\n",
       "      <td>[]</td>\n",
       "    </tr>\n",
       "    <tr>\n",
       "      <th>4</th>\n",
       "      <td>https://apnews.com/article/infant-mortality-cd...</td>\n",
       "      <td>[]</td>\n",
       "    </tr>\n",
       "    <tr>\n",
       "      <th>...</th>\n",
       "      <td>...</td>\n",
       "      <td>...</td>\n",
       "    </tr>\n",
       "    <tr>\n",
       "      <th>134</th>\n",
       "      <td>https://apnews.com/article/measles-texas-vacci...</td>\n",
       "      <td>NaN</td>\n",
       "    </tr>\n",
       "    <tr>\n",
       "      <th>135</th>\n",
       "      <td>https://apnews.com/article/vatican-new-pope-le...</td>\n",
       "      <td>NaN</td>\n",
       "    </tr>\n",
       "    <tr>\n",
       "      <th>136</th>\n",
       "      <td>https://apnews.com/article/workplace-pandemic-...</td>\n",
       "      <td>NaN</td>\n",
       "    </tr>\n",
       "    <tr>\n",
       "      <th>137</th>\n",
       "      <td>https://apnews.com/article/columbus-statue-new...</td>\n",
       "      <td>NaN</td>\n",
       "    </tr>\n",
       "    <tr>\n",
       "      <th>138</th>\n",
       "      <td>https://apnews.com/article/rhinos-poaching-wil...</td>\n",
       "      <td>NaN</td>\n",
       "    </tr>\n",
       "  </tbody>\n",
       "</table>\n",
       "<p>139 rows × 2 columns</p>\n",
       "</div>"
      ],
      "text/plain": [
       "                                                  link  \\\n",
       "0    https://apnews.com/article/bangladesh-hasina-y...   \n",
       "1    https://apnews.com/article/syrian-bahrain-alsh...   \n",
       "2    https://apnews.com/article/zealand-snail-egg-n...   \n",
       "3    https://apnews.com/article/north-carolina-elec...   \n",
       "4    https://apnews.com/article/infant-mortality-cd...   \n",
       "..                                                 ...   \n",
       "134  https://apnews.com/article/measles-texas-vacci...   \n",
       "135  https://apnews.com/article/vatican-new-pope-le...   \n",
       "136  https://apnews.com/article/workplace-pandemic-...   \n",
       "137  https://apnews.com/article/columbus-statue-new...   \n",
       "138  https://apnews.com/article/rhinos-poaching-wil...   \n",
       "\n",
       "                         celebrities  \n",
       "0    [Sheikh Hasina, Muhammad Yunus]  \n",
       "1    [Donald Trump, Emmanuel Macron]  \n",
       "2                                 []  \n",
       "3                                 []  \n",
       "4                                 []  \n",
       "..                               ...  \n",
       "134                              NaN  \n",
       "135                              NaN  \n",
       "136                              NaN  \n",
       "137                              NaN  \n",
       "138                              NaN  \n",
       "\n",
       "[139 rows x 2 columns]"
      ]
     },
     "metadata": {},
     "output_type": "display_data"
    }
   ],
   "source": [
    "export_df = workflow.export()\n",
    "display(export_df)"
   ]
  },
  {
   "cell_type": "markdown",
   "metadata": {},
   "source": [
    "## Analyze the results\n",
    "Now you can conduct your own analysis on the structured data collected by the scraipe workflow."
   ]
  },
  {
   "cell_type": "code",
   "execution_count": null,
   "metadata": {},
   "outputs": [
    {
     "data": {
      "application/vnd.microsoft.datawrangler.viewer.v0+json": {
       "columns": [
        {
         "name": "index",
         "rawType": "int64",
         "type": "integer"
        },
        {
         "name": "celebrity",
         "rawType": "object",
         "type": "string"
        },
        {
         "name": "mentions",
         "rawType": "int64",
         "type": "integer"
        }
       ],
       "conversionMethod": "pd.DataFrame",
       "ref": "ac6c2bd5-9a22-48d6-96b6-9a2cb8375281",
       "rows": [
        [
         "0",
         "Donald Trump",
         "35"
        ],
        [
         "2",
         "Robert F. Kennedy Jr.",
         "7"
        ],
        [
         "1",
         "Joe Biden",
         "7"
        ],
        [
         "3",
         "Scott Bessent",
         "5"
        ],
        [
         "4",
         "Pope Leo XIV",
         "5"
        ],
        [
         "5",
         "Robert Prevost",
         "5"
        ],
        [
         "6",
         "Marco Rubio",
         "5"
        ],
        [
         "7",
         "Shehbaz Sharif",
         "4"
        ],
        [
         "9",
         "JD Vance",
         "4"
        ],
        [
         "10",
         "Pope Francis",
         "4"
        ]
       ],
       "shape": {
        "columns": 2,
        "rows": 10
       }
      },
      "text/html": [
       "<div>\n",
       "<style scoped>\n",
       "    .dataframe tbody tr th:only-of-type {\n",
       "        vertical-align: middle;\n",
       "    }\n",
       "\n",
       "    .dataframe tbody tr th {\n",
       "        vertical-align: top;\n",
       "    }\n",
       "\n",
       "    .dataframe thead th {\n",
       "        text-align: right;\n",
       "    }\n",
       "</style>\n",
       "<table border=\"1\" class=\"dataframe\">\n",
       "  <thead>\n",
       "    <tr style=\"text-align: right;\">\n",
       "      <th></th>\n",
       "      <th>celebrity</th>\n",
       "      <th>mentions</th>\n",
       "    </tr>\n",
       "  </thead>\n",
       "  <tbody>\n",
       "    <tr>\n",
       "      <th>0</th>\n",
       "      <td>Donald Trump</td>\n",
       "      <td>35</td>\n",
       "    </tr>\n",
       "    <tr>\n",
       "      <th>2</th>\n",
       "      <td>Robert F. Kennedy Jr.</td>\n",
       "      <td>7</td>\n",
       "    </tr>\n",
       "    <tr>\n",
       "      <th>1</th>\n",
       "      <td>Joe Biden</td>\n",
       "      <td>7</td>\n",
       "    </tr>\n",
       "    <tr>\n",
       "      <th>3</th>\n",
       "      <td>Scott Bessent</td>\n",
       "      <td>5</td>\n",
       "    </tr>\n",
       "    <tr>\n",
       "      <th>4</th>\n",
       "      <td>Pope Leo XIV</td>\n",
       "      <td>5</td>\n",
       "    </tr>\n",
       "    <tr>\n",
       "      <th>5</th>\n",
       "      <td>Robert Prevost</td>\n",
       "      <td>5</td>\n",
       "    </tr>\n",
       "    <tr>\n",
       "      <th>6</th>\n",
       "      <td>Marco Rubio</td>\n",
       "      <td>5</td>\n",
       "    </tr>\n",
       "    <tr>\n",
       "      <th>7</th>\n",
       "      <td>Shehbaz Sharif</td>\n",
       "      <td>4</td>\n",
       "    </tr>\n",
       "    <tr>\n",
       "      <th>9</th>\n",
       "      <td>JD Vance</td>\n",
       "      <td>4</td>\n",
       "    </tr>\n",
       "    <tr>\n",
       "      <th>10</th>\n",
       "      <td>Pope Francis</td>\n",
       "      <td>4</td>\n",
       "    </tr>\n",
       "  </tbody>\n",
       "</table>\n",
       "</div>"
      ],
      "text/plain": [
       "                celebrity  mentions\n",
       "0            Donald Trump        35\n",
       "2   Robert F. Kennedy Jr.         7\n",
       "1               Joe Biden         7\n",
       "3           Scott Bessent         5\n",
       "4            Pope Leo XIV         5\n",
       "5          Robert Prevost         5\n",
       "6             Marco Rubio         5\n",
       "7          Shehbaz Sharif         4\n",
       "9                JD Vance         4\n",
       "10           Pope Francis         4"
      ]
     },
     "execution_count": 10,
     "metadata": {},
     "output_type": "execute_result"
    }
   ],
   "source": [
    "# Explode the nested list of celebrities\n",
    "export_df = export_df.explode('celebrities')\n",
    "export_df['celebrities'] = export_df['celebrities'].str.strip()\n",
    "\n",
    "# Display the top 10 most mentioned celebrities\n",
    "export_df = export_df['celebrities'].value_counts().reset_index()\n",
    "export_df.columns = ['celebrity', 'mentions']\n",
    "export_df = export_df.sort_values('mentions', ascending=False)\n",
    "export_df.head(10)"
   ]
  }
 ],
 "metadata": {
  "kernelspec": {
   "display_name": "scraipe",
   "language": "python",
   "name": "python3"
  },
  "language_info": {
   "codemirror_mode": {
    "name": "ipython",
    "version": 3
   },
   "file_extension": ".py",
   "mimetype": "text/x-python",
   "name": "python",
   "nbconvert_exporter": "python",
   "pygments_lexer": "ipython3",
   "version": "3.12.9"
  }
 },
 "nbformat": 4,
 "nbformat_minor": 2
}
