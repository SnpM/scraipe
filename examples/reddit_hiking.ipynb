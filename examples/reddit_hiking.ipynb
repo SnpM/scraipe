{
 "cells": [
  {
   "cell_type": "markdown",
   "id": "333073e4",
   "metadata": {},
   "source": [
    "# Reddit Scrape & LLM Analysis\n",
    "In this example, we will use RedditLinkCollector and RedditPostScraper to determine trail conditions based on the latest posts from [r/coloradohikers](https://reddit.com/r/coloradohikers), [r/colorado](https://reddit.com/r/colorado), [r/denver](https://reddit.com/r/denver), and [r/boulder](https://reddit.com/r/boulder). Special thanks to u/ColoRadBros69 for [the use case](https://www.reddit.com/r/opensource/comments/1kjoknx/comment/mrp5bo3/?utm_source=share&utm_medium=web3x&utm_name=web3xcss&utm_term=1&utm_content=share_button)!"
   ]
  },
  {
   "cell_type": "markdown",
   "id": "95cb9aaa",
   "metadata": {},
   "source": [
    "## Setup\n",
    "Install and import things we need. We will use `RedditLinkCollector`, `RedditPostScraper`, and `OpenAiAnalyzer` from the `scraipe[extended]` subpackage.\n",
    "\n",
    "We will also load [your OpenAI API key](https://help.openai.com/en/articles/4936850-where-do-i-find-my-openai-api-key) and [Reddit client credentials](https://www.reddit.com/prefs/apps) from an environment file called 'reddit_hiking.env'. Copy the below code into a file called 'reddit_hiking.env' that is located in the same folder as this notebook and fill in your secrets.\n",
    "\n",
    "``` bash\n",
    "export OPENAI_API_KEY=your_secret_here\n",
    "export REDDIT_CLIENT_ID=your_secret_here\n",
    "export REDDIT_CLIENT_SECRET=your_secret_here\n",
    "```"
   ]
  },
  {
   "cell_type": "code",
   "execution_count": 1,
   "id": "264a3d76",
   "metadata": {},
   "outputs": [
    {
     "name": "stdout",
     "output_type": "stream",
     "text": [
      "Note: you may need to restart the kernel to use updated packages.\n",
      "Note: you may need to restart the kernel to use updated packages.\n",
      "Note: you may need to restart the kernel to use updated packages.\n",
      "Requirement already satisfied: dotenv in /home/nibs/miniconda3/envs/scraipe/lib/python3.12/site-packages (0.9.9)\n",
      "Requirement already satisfied: python-dotenv in /home/nibs/miniconda3/envs/scraipe/lib/python3.12/site-packages (from dotenv) (1.1.0)\n",
      "Requirement already satisfied: dotenv in /home/nibs/miniconda3/envs/scraipe/lib/python3.12/site-packages (0.9.9)\n",
      "Requirement already satisfied: python-dotenv in /home/nibs/miniconda3/envs/scraipe/lib/python3.12/site-packages (from dotenv) (1.1.0)\n",
      "Note: you may need to restart the kernel to use updated packages.\n",
      "Note: you may need to restart the kernel to use updated packages.\n"
     ]
    }
   ],
   "source": [
    "# Install scraipe from PyPI:\n",
    "#%pip install --upgrade --quiet scraipe\n",
    "# Alternatively, install scraipe package from repo\n",
    "%pip install -qe ..\n",
    "\n",
    "\n",
    "# Install utility packages\n",
    "%pip install --quiet ipywidgets\n",
    "%pip install dotenv"
   ]
  },
  {
   "cell_type": "code",
   "execution_count": 2,
   "id": "12c40ded",
   "metadata": {},
   "outputs": [],
   "source": [
    "\n",
    "# Import modules\n",
    "import pandas as pd\n",
    "from scraipe import Workflow\n",
    "from scraipe.extended import RedditLinkCollector, RedditSubmissionScraper, OpenAiAnalyzer\n",
    "from pydantic import BaseModel\n",
    "\n",
    "# Load OpenAI and Reddit credentials\n",
    "import dotenv, os\n",
    "dotenv.load_dotenv(\"reddit_hiking.env\")\n",
    "keys = [\"OPENAI_API_KEY\", \"REDDIT_CLIENT_ID\", \"REDDIT_CLIENT_SECRET\"]\n",
    "OPENAI_API_KEY,REDDIT_CLIENT_ID, REDDIT_CLIENT_SECRET = [os.getenv(key) for key in keys]\n",
    "assert all([OPENAI_API_KEY, REDDIT_CLIENT_ID, REDDIT_CLIENT_SECRET]), \"Please configure environment secrets in reddit_hiking.env\""
   ]
  },
  {
   "cell_type": "markdown",
   "id": "2ce57494",
   "metadata": {},
   "source": [
    "## Configure Workflow\n",
    "Now we'll configure the scraipe workflow using `RedditLinkCollector`, `RedditPostScraper` and `OpenAiAnalyzer`.\n",
    "\n",
    "- `RedditLinkCollector` collects post submission links on targeted subreddits using asyncpraw.\n",
    "- `RedditPostScraper` scrapes posts' selftext, comments, and other data using asyncpraw.\n",
    "- `OpenAiAnalyzer` uses OpenAI models to extract data from the article content."
   ]
  },
  {
   "cell_type": "code",
   "execution_count": null,
   "id": "7b2f00b3",
   "metadata": {},
   "outputs": [],
   "source": [
    "#===Configure RedditLinkCollector===\n",
    "# Collects the newest posts in r/colorado and r/coloradohikers from the last week\n",
    "collector = RedditLinkCollector(\n",
    "    client_id = REDDIT_CLIENT_ID,\n",
    "    client_secret = REDDIT_CLIENT_SECRET, \n",
    "    subreddits=[\"colorado\",\"coloradohikers\",\"denver\",\"boulder\"],\n",
    "    sorts=\"new\",\n",
    "    max_age=60*60*24*7,  # 1 week\n",
    "    limit=100 # Limit to 100 posts per subreddit\n",
    "    )\n",
    "\n",
    "#===Configure RedditPostScraper===\n",
    "scraper = RedditSubmissionScraper(\n",
    "    client_id=REDDIT_CLIENT_ID,\n",
    "    client_secret=REDDIT_CLIENT_SECRET)\n",
    "\n",
    "#===Configure OpenAiAnalyzer===\n",
    "# Define the instruction for the LLM. Ensure the instruction specifies a return schema.\n",
    "instruction = '''\n",
    "Extract the trail name and conditions from the attached Reddit post. Infer the trail name from the post title and comments.\n",
    "If the trail name cannot be inferred, leave both fields empty.\n",
    "The conditions can be but are not limited to: \"dry\", \"wet\", \"snowy\", \"icy\", \"muddy\", \"clear\", \"cloudy\", \"rainy\", \"sunny\", \"windy\".\n",
    "Return a JSON dictionary with the following schema:\n",
    "{\n",
    "    \"trail_name\": \"name of trail\",\n",
    "    \"conditions\": [\"cond1\", \"cond2\", ...]\n",
    "}\n",
    "'''\n",
    "\n",
    "# (Optional) Create a pydantic schema to validate the LLM output\n",
    "from typing import List\n",
    "class ExpectedOutput(BaseModel):\n",
    "    trail_name: str\n",
    "    conditions: List[str]\n",
    "    \n",
    "# Create the analyzer with the API key, instruction, and schema\n",
    "analyzer = OpenAiAnalyzer(OPENAI_API_KEY,instruction,pydantic_schema=ExpectedOutput)\n",
    "\n",
    "#===Create Workflow===\n",
    "# Create a workflow with the configured link collector, scraper, and analyzer\n",
    "workflow = Workflow(scraper, analyzer, link_collector=collector)"
   ]
  },
  {
   "cell_type": "markdown",
   "id": "a881f7cc",
   "metadata": {},
   "source": [
    "## Run the workflow"
   ]
  },
  {
   "cell_type": "code",
   "execution_count": 4,
   "id": "8761117b",
   "metadata": {},
   "outputs": [
    {
     "data": {
      "application/vnd.jupyter.widget-view+json": {
       "model_id": "7ff4203186404df9a4d99548ec2f457f",
       "version_major": 2,
       "version_minor": 0
      },
      "text/plain": [
       "Collecting links: 0link [00:00, ?link/s]"
      ]
     },
     "metadata": {},
     "output_type": "display_data"
    },
    {
     "data": {
      "application/vnd.microsoft.datawrangler.viewer.v0+json": {
       "columns": [
        {
         "name": "index",
         "rawType": "int64",
         "type": "integer"
        },
        {
         "name": "link",
         "rawType": "object",
         "type": "string"
        }
       ],
       "conversionMethod": "pd.DataFrame",
       "ref": "ce7da78c-4ea6-482a-acc9-9951b71fddca",
       "rows": [
        [
         "0",
         "https://reddit.com/r/Colorado/comments/1kkenf2/happy_mothers_day_weekend_from_the_western_slope/"
        ],
        [
         "1",
         "https://reddit.com/r/Colorado/comments/1kkbfbt/abandoned_cabin_35409_us24_near_lake_george/"
        ],
        [
         "2",
         "https://reddit.com/r/Colorado/comments/1kk5li8/sneffels_in_watercolor/"
        ],
        [
         "3",
         "https://reddit.com/r/Colorado/comments/1kk02dc/taken_last_year_around_fall/"
        ],
        [
         "4",
         "https://reddit.com/r/Colorado/comments/1kjgk49/chautauqua_park_51025/"
        ],
        [
         "5",
         "https://reddit.com/r/Colorado/comments/1kja4ax/great_sand_dunes_national_park/"
        ],
        [
         "6",
         "https://reddit.com/r/Colorado/comments/1kiyrh0/protecting_the_little_ones_at_pueblo_city_park/"
        ],
        [
         "7",
         "https://reddit.com/r/Colorado/comments/1kirmg0/getting_ready_for_sunrise_service_at_the_abbott/"
        ],
        [
         "8",
         "https://reddit.com/r/Colorado/comments/1kikx00/jared_polis_plans_to_veto_labor_peace_act_bill_a/"
        ],
        [
         "9",
         "https://reddit.com/r/Colorado/comments/1kiklyu/rep_yadira_caraveo_interview/"
        ],
        [
         "10",
         "https://reddit.com/r/Colorado/comments/1kibvm7/noaa_retires_billiondollar_disaster_database/"
        ],
        [
         "11",
         "https://reddit.com/r/Colorado/comments/1ki62sz/the_start_of_tonights_girls_state_tournament/"
        ],
        [
         "12",
         "https://reddit.com/r/Colorado/comments/1ki36br/maroon_bells_has_challenging_summer_outlook/"
        ],
        [
         "13",
         "https://reddit.com/r/Colorado/comments/1khvfa1/enjoying_these_flowers_while_they_last/"
        ],
        [
         "14",
         "https://reddit.com/r/Colorado/comments/1kh3sk0/big_horn_sheep_near_montrose_co/"
        ],
        [
         "15",
         "https://reddit.com/r/Colorado/comments/1kh2ved/colorado_skiing_legend_mikaela_shiffrin_joins/"
        ],
        [
         "16",
         "https://reddit.com/r/Colorado/comments/1kgkuqm/colorado_senate_passes_bill_to_improve_rideshare/"
        ],
        [
         "17",
         "https://reddit.com/r/Colorado/comments/1kgk583/brighton_mayor_to_declare_dianetics_day_on_may_9/"
        ],
        [
         "18",
         "https://reddit.com/r/Colorado/comments/1kgex4m/colorados_rural_electric_coops_are_determined_to/"
        ],
        [
         "19",
         "https://reddit.com/r/Colorado/comments/1kg6uyf/coloradans_just_tore_down_a_bunch_of_barbed_wire/"
        ],
        [
         "20",
         "https://reddit.com/r/Colorado/comments/1kfwfrk/kyleclark_theres_no_playing_fantasy_papacy_in/"
        ],
        [
         "21",
         "https://reddit.com/r/Colorado/comments/1kfoiql/visit_one_of_the_worlds_most_prolific_research/"
        ],
        [
         "22",
         "https://reddit.com/r/Colorado/comments/1kfkogb/call_your_senators_and_reps_now_the_draft/"
        ],
        [
         "23",
         "https://reddit.com/r/Colorado/comments/1kfilaz/ski_train_to_steamboat_looking_likely_under_new/"
        ],
        [
         "24",
         "https://reddit.com/r/Colorado/comments/1kfglll/ag_phil_weiser_interview/"
        ],
        [
         "25",
         "https://reddit.com/r/Colorado/comments/1kffkqf/moose_spotted_at_the_rio_grande_farm_park_in/"
        ],
        [
         "26",
         "https://reddit.com/r/Colorado/comments/1kfdqmw/the_milky_way_over_the_pawnee_buttes_in_eastern/"
        ],
        [
         "27",
         "https://reddit.com/r/Colorado/comments/1kfdjmr/inside_the_denver_warehouse_filled_with_illegal/"
        ],
        [
         "28",
         "https://reddit.com/r/boulder/comments/1kkh0ob/lost_in_boulder_but_she_may_have_been_seen_in_erie/"
        ],
        [
         "29",
         "https://reddit.com/r/boulder/comments/1kkf64w/cant_believe_the_city_is_allowing_this_last_bit/"
        ],
        [
         "30",
         "https://reddit.com/r/boulder/comments/1kkeg88/cat_vet_vca_pets_on_broadway/"
        ],
        [
         "31",
         "https://reddit.com/r/boulder/comments/1kkdrgj/need_to_hire_an_artist_to_build_a_ufo_for_an/"
        ],
        [
         "32",
         "https://reddit.com/r/boulder/comments/1kkd4fa/gun_stores_that_sell_12ga_blanks/"
        ],
        [
         "33",
         "https://reddit.com/r/boulder/comments/1kkcy2f/boulders_best_veggie_sandwich/"
        ],
        [
         "34",
         "https://reddit.com/r/boulder/comments/1kkadh1/lost_passport/"
        ],
        [
         "35",
         "https://reddit.com/r/boulder/comments/1kka2hl/summer_csa_rec/"
        ],
        [
         "36",
         "https://reddit.com/r/boulder/comments/1kk8h7h/stolen_bike/"
        ],
        [
         "37",
         "https://reddit.com/r/boulder/comments/1kk7bll/scrooge_banh_mi/"
        ],
        [
         "38",
         "https://reddit.com/r/boulder/comments/1kk5q3b/this_guy_was_bouncing_around_for_an_hour_or_more/"
        ],
        [
         "39",
         "https://reddit.com/r/boulder/comments/1kk5gff/friendly_reminder_to_check_your_dogs_and/"
        ],
        [
         "40",
         "https://reddit.com/r/boulder/comments/1kk4ff2/ok_what_animal_makes_sounds_like_this/"
        ],
        [
         "41",
         "https://reddit.com/r/boulder/comments/1kk1qyz/weekly_board_game_meetup/"
        ],
        [
         "42",
         "https://reddit.com/r/boulder/comments/1kjzfu3/motorcycle_meetsridesclubs_around_town/"
        ],
        [
         "43",
         "https://reddit.com/r/boulder/comments/1kjudb5/update_it_is_at_it_again_12_hours/"
        ],
        [
         "44",
         "https://reddit.com/r/boulder/comments/1kjtawz/just_another_prompt_to_sign_the_petition_to_get_a/"
        ],
        [
         "45",
         "https://reddit.com/r/boulder/comments/1kjt8vo/what_are_some_mothers_day_events/"
        ],
        [
         "46",
         "https://reddit.com/r/boulder/comments/1kjsbom/cheapest_hot_air_ballooning_in_colorado/"
        ],
        [
         "47",
         "https://reddit.com/r/boulder/comments/1kjrphj/fireworks_930_pm/"
        ],
        [
         "48",
         "https://reddit.com/r/boulder/comments/1kjro0t/it_is_at_it_again_for_12_hours_now/"
        ],
        [
         "49",
         "https://reddit.com/r/boulder/comments/1kjq3ve/contractor_to_refinish_a_concrete_patio/"
        ]
       ],
       "shape": {
        "columns": 1,
        "rows": 250
       }
      },
      "text/html": [
       "<div>\n",
       "<style scoped>\n",
       "    .dataframe tbody tr th:only-of-type {\n",
       "        vertical-align: middle;\n",
       "    }\n",
       "\n",
       "    .dataframe tbody tr th {\n",
       "        vertical-align: top;\n",
       "    }\n",
       "\n",
       "    .dataframe thead th {\n",
       "        text-align: right;\n",
       "    }\n",
       "</style>\n",
       "<table border=\"1\" class=\"dataframe\">\n",
       "  <thead>\n",
       "    <tr style=\"text-align: right;\">\n",
       "      <th></th>\n",
       "      <th>link</th>\n",
       "    </tr>\n",
       "  </thead>\n",
       "  <tbody>\n",
       "    <tr>\n",
       "      <th>0</th>\n",
       "      <td>https://reddit.com/r/Colorado/comments/1kkenf2...</td>\n",
       "    </tr>\n",
       "    <tr>\n",
       "      <th>1</th>\n",
       "      <td>https://reddit.com/r/Colorado/comments/1kkbfbt...</td>\n",
       "    </tr>\n",
       "    <tr>\n",
       "      <th>2</th>\n",
       "      <td>https://reddit.com/r/Colorado/comments/1kk5li8...</td>\n",
       "    </tr>\n",
       "    <tr>\n",
       "      <th>3</th>\n",
       "      <td>https://reddit.com/r/Colorado/comments/1kk02dc...</td>\n",
       "    </tr>\n",
       "    <tr>\n",
       "      <th>4</th>\n",
       "      <td>https://reddit.com/r/Colorado/comments/1kjgk49...</td>\n",
       "    </tr>\n",
       "    <tr>\n",
       "      <th>...</th>\n",
       "      <td>...</td>\n",
       "    </tr>\n",
       "    <tr>\n",
       "      <th>245</th>\n",
       "      <td>https://reddit.com/r/coloradohikers/comments/1...</td>\n",
       "    </tr>\n",
       "    <tr>\n",
       "      <th>246</th>\n",
       "      <td>https://reddit.com/r/coloradohikers/comments/1...</td>\n",
       "    </tr>\n",
       "    <tr>\n",
       "      <th>247</th>\n",
       "      <td>https://reddit.com/r/coloradohikers/comments/1...</td>\n",
       "    </tr>\n",
       "    <tr>\n",
       "      <th>248</th>\n",
       "      <td>https://reddit.com/r/coloradohikers/comments/1...</td>\n",
       "    </tr>\n",
       "    <tr>\n",
       "      <th>249</th>\n",
       "      <td>https://reddit.com/r/coloradohikers/comments/1...</td>\n",
       "    </tr>\n",
       "  </tbody>\n",
       "</table>\n",
       "<p>250 rows × 1 columns</p>\n",
       "</div>"
      ],
      "text/plain": [
       "                                                  link\n",
       "0    https://reddit.com/r/Colorado/comments/1kkenf2...\n",
       "1    https://reddit.com/r/Colorado/comments/1kkbfbt...\n",
       "2    https://reddit.com/r/Colorado/comments/1kk5li8...\n",
       "3    https://reddit.com/r/Colorado/comments/1kk02dc...\n",
       "4    https://reddit.com/r/Colorado/comments/1kjgk49...\n",
       "..                                                 ...\n",
       "245  https://reddit.com/r/coloradohikers/comments/1...\n",
       "246  https://reddit.com/r/coloradohikers/comments/1...\n",
       "247  https://reddit.com/r/coloradohikers/comments/1...\n",
       "248  https://reddit.com/r/coloradohikers/comments/1...\n",
       "249  https://reddit.com/r/coloradohikers/comments/1...\n",
       "\n",
       "[250 rows x 1 columns]"
      ]
     },
     "metadata": {},
     "output_type": "display_data"
    }
   ],
   "source": [
    "# Collect links from subreddits\n",
    "workflow.collect_links()\n",
    "display(workflow.get_links())"
   ]
  },
  {
   "cell_type": "code",
   "execution_count": 5,
   "id": "d89486d0",
   "metadata": {},
   "outputs": [
    {
     "data": {
      "application/vnd.jupyter.widget-view+json": {
       "model_id": "4f740a37e3894626bc1cad2594a8ff03",
       "version_major": 2,
       "version_minor": 0
      },
      "text/plain": [
       "Scraping:   0%|          | 0/250 [00:00<?, ?link/s]"
      ]
     },
     "metadata": {},
     "output_type": "display_data"
    },
    {
     "data": {
      "application/vnd.microsoft.datawrangler.viewer.v0+json": {
       "columns": [
        {
         "name": "index",
         "rawType": "int64",
         "type": "integer"
        },
        {
         "name": "link",
         "rawType": "object",
         "type": "string"
        },
        {
         "name": "content",
         "rawType": "object",
         "type": "string"
        },
        {
         "name": "scrape_success",
         "rawType": "bool",
         "type": "boolean"
        },
        {
         "name": "scrape_error",
         "rawType": "object",
         "type": "unknown"
        },
        {
         "name": "metadata",
         "rawType": "object",
         "type": "unknown"
        }
       ],
       "conversionMethod": "pd.DataFrame",
       "ref": "f5ad6c76-5b26-4116-9a3a-29a1d7bd0863",
       "rows": [
        [
         "0",
         "https://reddit.com/r/Colorado/comments/1kkenf2/happy_mothers_day_weekend_from_the_western_slope/",
         "\n\n===Comments===\n- u/Lgallegos17:\n    Thank you 💜\n- u/Suitable-Scholar-778:\n    Beautiful\n",
         "True",
         null,
         "{'title': \"Happy Mother's Day Weekend from the Western Slope\", 'author': 'shadow-_-rainbow', 'score': 107, 'num_comments': 2, 'created_utc': 1747006925.0, 'url': 'https://i.redd.it/8t09acyio80f1.jpeg', 'selftext': '', 'subreddit': 'Colorado'}"
        ],
        [
         "1",
         "https://reddit.com/r/Colorado/comments/1kkbfbt/abandoned_cabin_35409_us24_near_lake_george/",
         "\n\n===Comments===\n- u/Sourkraute:\n    975 sq feet, 1 bed, 1 bath, rustic location, quiet neighborhood! 1.4 million. No low balls!\n    - u/WrongKielbasa:\n        Any nearby Kombucha bars or vegan rock climbing gyms?\n        - u/texdroid:\n            No joke, there are some pretty touristy coffee houses, a brewery, and BNBs in Florrisant, which is not too far.\n    - u/comat0se:\n        \"I know what I've got.  Highly walkable.\"\n- u/BuzzBam:\n    It's almost always a miner's or peace corps house\n- u/ShadowsOfTheBreeze:\n    Yeah, its a old mining shack, likely late 1880s.\n- u/jbone9877:\n    I got fingered in there\n    - u/Old-Pain-6451:\n        I remember\n        - u/Hopsblues:\n            Username checks out.\n        - u/che_palle13:\n            I also fingered this guy's wife here\n            - u/jbone9877:\n                I’m the husband bro\n                - u/WakeUpAndLookAround:\n                    It was dark....*candle light and all ya know?*\n- u/EagleAdventurous1172:\n    Could you please provide a lower quality image?\n    - u/Hopsblues:\n        It's a picture of a 1980's postcard...lol...\n        - u/EagleAdventurous1172:\n            Damn good quality\n    - u/Midge_Meister:\n        I'm pretty sure this is the \"cabin\" you can see on hw 24 right around round mountain campground. A few miles after lake George but before the summit of Wilkerson.\n        - u/EagleAdventurous1172:\n            Ohhhhhhh makes sense! Tht whole area doesn't render right...\n            - u/Midge_Meister:\n                I drive that road way too often so I know it... Lol this post is a wheres Waldo of the real world\n        - u/mutant-heart:\n            Maybe related to that park that has signs about the ice business that was there? Like they made ice. It looks about the same age anyways. Tons of stuff like that around there.\n- u/skwormin:\n    Looks exactly like the hundreds of other ones I’ve seen….\n- u/rukeduke:\n    A lot of nails there is all I know\n- u/Cleercutter:\n    Yes. I live there.\n- u/Old-Climate2655:\n    Isn't that just by round mountain campground just before the foot of Wilkerson Pass?\n",
         "True",
         null,
         "{'title': 'Abandoned Cabin, 35409 US-24 near Lake George, Colorado, anyone familiar with its history?', 'author': 'Difficult_Break5945', 'score': 82, 'num_comments': 23, 'created_utc': 1746997697.0, 'url': 'https://i.redd.it/914eoxw2x70f1.png', 'selftext': '', 'subreddit': 'Colorado'}"
        ],
        [
         "2",
         "https://reddit.com/r/Colorado/comments/1kk5li8/sneffels_in_watercolor/",
         "\n\n===Comments===\n- u/Snlxdd:\n    Gorgeous, I’m used to the perspective from the other side but this is phenomenal.\n    \n    Thanks for sharing!\n",
         "True",
         null,
         "{'title': 'Sneffels in watercolor', 'author': 'Neat-Purchase9454', 'score': 203, 'num_comments': 1, 'created_utc': 1746982535.0, 'url': 'https://i.redd.it/b7me7n50o60f1.jpeg', 'selftext': '', 'subreddit': 'Colorado'}"
        ],
        [
         "3",
         "https://reddit.com/r/Colorado/comments/1kk02dc/taken_last_year_around_fall/",
         "\n\n===Comments===\n- u/skovalen:\n    I love my state.  It is beautiful.  I sometimes forget....and then remember again.  I'm a guy sorta tearing up while typing this and remembering that this state is SO awesome.  From the political structure that has us vote on so much and puts the power in the people to the beautiful world that we live in.  This state is awesome compared to anywhere else I have lived.\n- u/blacktickle:\n    Very beautiful !!\n- u/Stormy8888:\n    Lovely.\n    \n    Do you visit this location often? Would be nice to see this picture for all 4 seasons.\n- u/RentZed_Official:\n    There are so many great scenery pics coming out of this Subreddit. Colorado looks fantastic and I've heard great things.\n",
         "True",
         null,
         "{'title': 'Taken last year around fall', 'author': 'REphotographer916', 'score': 245, 'num_comments': 4, 'created_utc': 1746967087.0, 'url': 'https://i.redd.it/m0le0vd2e50f1.jpeg', 'selftext': '', 'subreddit': 'Colorado'}"
        ],
        [
         "4",
         "https://reddit.com/r/Colorado/comments/1kjgk49/chautauqua_park_51025/",
         "\n\n===Comments===\n- u/eric_b0x:\n    I love this time of year when it's still got that green-pop before things heat up.\n- u/ShadowsOfTheBreeze:\n    Gorgeous...I remember when that was a foot trail maybe 3 feet wide..\n",
         "True",
         null,
         "{'title': 'Chautauqua Park 5/10/25', 'author': 'Adrawve12', 'score': 327, 'num_comments': 2, 'created_utc': 1746900766.0, 'url': 'https://i.redd.it/jlb7lq2vwzze1.jpeg', 'selftext': '', 'subreddit': 'Colorado'}"
        ],
        [
         "5",
         "https://reddit.com/r/Colorado/comments/1kja4ax/great_sand_dunes_national_park/",
         "\n\n===Comments===\n- u/raykdenver:\n    Very nice. I love the puffy Colorado clouds.\n- u/Simple-Macaroon-8887:\n    It's harder than you think to walk on\n",
         "True",
         null,
         "{'title': 'Great Sand Dunes National Park', 'author': 'Significant_Lif3', 'score': 195, 'num_comments': 3, 'created_utc': 1746883135.0, 'url': 'https://i.redd.it/4zjj8vkegyze1.jpeg', 'selftext': '', 'subreddit': 'Colorado'}"
        ],
        [
         "6",
         "https://reddit.com/r/Colorado/comments/1kiyrh0/protecting_the_little_ones_at_pueblo_city_park/",
         "\n\n===Comments===\n- u/dmarie1211:\n    There are so many of them over there right now!\n- u/Stormy8888:\n    Who needs a dog when you have a flock of attack geese?\n- u/the-god-of-vore:\n    r/accidentalrenaissance\n- u/SimianSlacker:\n    This is happening all over America right now. These Canadian geese are out of control with their “anchor babies”! I 100% support suspending habeas corpus to deal with this menacing invasion from the north!\n",
         "True",
         null,
         "{'title': 'Protecting the little ones... At Pueblo City Park', 'author': 'ColoradoBooda', 'score': 141, 'num_comments': 6, 'created_utc': 1746840593.0, 'url': 'https://i.redd.it/4gkf70vxxuze1.jpeg', 'selftext': '', 'subreddit': 'Colorado'}"
        ],
        [
         "7",
         "https://reddit.com/r/Colorado/comments/1kirmg0/getting_ready_for_sunrise_service_at_the_abbott/",
         "\n\n===Comments===\n- u/Red_V_Standing_By:\n    “I abandoned my child!”\n- u/DeviatedNorm:\n    I figured I'd probably run into someone when I decided to photograph Abbott Church on Easter morning, but little did I realize that I'd run into the entire Lindon community -- sunrise service for Easter morning is still one of the services held regularly at this century old church out in the middle of empty prairie.\n    \n    Caught someone going in: https://imgur.com/a/1PFqH2D\n- u/broken_sword001:\n    Looks like where slash plays a guitar.\n",
         "True",
         null,
         "{'title': 'Getting ready for sunrise service at the Abbott Church', 'author': 'DeviatedNorm', 'score': 154, 'num_comments': 3, 'created_utc': 1746820408.0, 'url': 'https://i.redd.it/9w1io1om9tze1.jpeg', 'selftext': '', 'subreddit': 'Colorado'}"
        ],
        [
         "8",
         "https://reddit.com/r/Colorado/comments/1kikx00/jared_polis_plans_to_veto_labor_peace_act_bill_a/",
         "\n\n===Comments===\n- u/johnnyfaceoff:\n    Wealthy businessman pulling out all the stops to keep the working class down? Color me shocked!\n- u/Annual-Beard-5090:\n    So the choices for us as constituents are:\n    \n    1.  A party that really hates working people and is openly hostile to them but plays cultural games to keep them interested. \n    \n    2.  A party that acts like it doesn’t, but really is still backed by monied interests that hate working people.\n    - u/sadetheruiner:\n        The people with money want us to think the battle for the country is left vs right, it’s definitely the haves vs the have nots.\n        - u/Coderado:\n            The culture wars are an intentional distraction to keep us ignorant of the class warfare that hurts all of us non-millionaires.\n        - u/macrofinite:\n            Well, it is left vs right. And there is a rich history of philosophy and praxis within that framework that you are rejecting by fundamentally misunderstanding what left vs right means. \n            \n            I think what you're demonstrating is even more in the interests of the people with money. How are you ever going to actually fight them if you reflexively dismiss the only group that ever really threatened their stranglehold on power?\n            \n            They're the right. And they'd much rather you pat yourself on the back for feeling like you're above that distinction than engage earnestly with the left.\n            - u/Aacron:\n                > Well, it is left vs right\n                \n                \n                There are two elected representatives in the federal government that are leftist. **Two**.\n                \n                \n                Not sure how many governors but I wouldn't be surprised if it was zero.\n                \n                \n                The US has no \"left\".\n            - u/sadetheruiner:\n                Trust me I actively support the left, every election without fail because I know they have my interests in mind then the right by a wide margin. That wasn’t supposed to be a “BoTh SiDeS aRe ThE sAmE” comment. But it’s delusional to think the rich don’t appreciate us fighting amongst ourselves instead of actively resisting the power balance. The bottom half has about 3% of the wealth in the US.\n                - u/_game_over_man_:\n                    I generally think about it in terms of labor vs. non-labor or labor vs. wealth class. As a member of a couple demographics that Republicans despise and attack, I think one thing that unites the vast majority of us, across all demos, is that most of us are labor class. We certainly have our own issues we're concerned about in regards to demographic based rights, but I think the unifying thing is most of us, regardless of who we are, are labor class.\n                    \n                    Left vs. right has become so diluted and co-opted/exploited, that I don't know how much value there is in continuing to use that terminology these days, at least in regard to this kind of issue.\n            - u/AwayMammoth6592:\n                I believe, If you’re looking for someone to blame, don’t look left or right. Look up. No war but class war.\n        - u/lovestrongmont:\n            💯\n    - u/byzantinedavid:\n        Polis is not a Democrat/Liberal. He's a Libertarian who ran as a D. Without a new election coming, he's showing his colors.\n        - u/coriolisFX:\n            You can look at his voting record from Congress, he's a Democrat.  He's just not a progressive.\n            - u/byzantinedavid:\n                He is not. He playacted as one for years. He is solidly a Libertarian\n                - u/coriolisFX:\n                    You can look at how right wing groups score him as a better metric.\n                    \n                    Heritage gave him a lifetime score of 18% - just slightly higher than the average democrat's score of 15%.  So he's *slightly* right of center compared to an average democrat but still firmly a liberal.  Libertarian aligned Republicans score in the 80s and 90s on this metric.\n                    \n                    Polis was in Congress 10 years, this is not playacting.\n        - u/chicoconcarne:\n            He's *not* a libertarian if he's backing and signing bills which increase traffic cameras.\n    - u/scannon:\n        Almost all of one party fought for the bill and delivered it to the governor's desk. All of the other party fought against it. One member of the first party (the governor) sided with the other party over his own and killed the bill his party supports.  \n        \n        But sure, both parties are the same...\n        \n        Grow up and stop eating glue.\n        - u/GingerPinoy:\n            They are not the same, but both are absolutely terrible. But will admit that one is worse than the other\n        - u/macrofinite:\n            Don't you think it's time to stop making excuses for the democrats, just because they aren't republicans? This is a 2015 argument in a 2025 world.\n            \n            Look, intentions are irrelevant. Whether its' their intent or not, the democrats can genuflect toward the impossibility of progress.\n            \n            They tried, right!? Who could ask for more than that? But please don't ask the obvious question about why the governor of our own party vetoed our bill! Just thank us for trying soooooo hard. Did I mention how hard we tried? Remember, we aren't republicans! And you're a good person, so you aren't going to vote republican against me, are you? Better not mention any of the obviously disingenuous and manipulative bullshit I've done, then! Just pretend like everything bad happening is exclusively because progress is impossible and the republicans are big meany-heads that thwart us at every turn!\n            \n            Obviously, the adult thing to do would be to pretend as if the undeniable ways in which our party has contributed to all of our current problems, and has absolutely no plan whatsoever to resolve any of those problems do not exist! Adults do not acknowledge horrifying problems! They pretend they don't exist! Duh! Stop being such a glue-eating child with your naive unwillingness to pretend as if reality does not exist!\n            - u/scannon:\n                What on earth are you talking about? \n                \n                This crop of Democrats tried harder and came closer to delivering on one of organized labor's main priorities than any other group of politicians in this state ever has. Sure, they came up short because the governor isn't on board. But to act like this was all talk and excuses is bullshit. A lot of people put in a ton of work to get the bill as far as it got against major internal and external opposition. To interpret that as saying the Dems and Republicans are all the same and hate working people is idiotic.\n            - u/byzantinedavid:\n                They didn't fucking \"try,\" they succeeded. The Libertarian in office plans to veto it, that's not the same thing.\n            - u/Kooky-Builder-44:\n                Touch grass\n    - u/commentingrobot:\n        Legislature Democrats passed this bill, Senate Bill 5 passed the Senate 22-12 along party lines and the House 43-22 also along party lines.\n        \n        The problem here is Polis, who is a centrist billionaire.\n    - u/Agent_Tangerine:\n        Except, in this case, it's not \"a party\", it's one guy. The struggle with not being a fascist party is that there is a variety of opinions, some of which you (and I) are going to disagree with pretty strongly. \n        \n        We don't have a system where \"both sides of opinion bad\" we have one where one party covers 10 percent of the political spectrum on the far right and another party that covers 85 percent of the rest of the political spectrum and then 5 percent of the far left that are pretty much left out to dry. \n        \n        Still a shitshow, but not exactly as simple as you are saying.\n        - u/oath2order:\n            Right? The user you responded to is pretending as if Democrats didn't pass the bill. *Which they did* otherwise we wouldn't be having this discussion.\n    - u/XxGhost14xX:\n        Welcome to the Democratic Party. We need more than 2 choices!\n        - u/RollTh3Maps:\n            Last I checked, Democrats passed the bill. It’s just the Governor holding things up.\n    - u/CZall23:\n        Ya'll limit working class issues to unionization and corporations. That's why there will never be a working class party.\n- u/hanumanCT:\n    I used to be a big Polis fan, but this and the gun legislation are off-putting.\n    - u/AquafreshBandit:\n        He clearly wants to run for President and so in his second term is acting more bipartisan, even though no Republican is going to believe it, and there isn't going to be a 2028 Presidential election, so the whole thing is just an absurd waste of time.\n        - u/pacard:\n            >there isn't going to be a 2028 Presidential election\n            \n            Shit like this sentiment just makes it easier for the people who don't want elections to get away with it.\n            - u/AquafreshBandit:\n                I get where you’re coming from, but it’s already done. People voted for a guy who did nothing while a mob was looking for his own VP. This is what they want.\n                - u/pacard:\n                    Buck up, don't stop fighting.\n                - u/baddonny:\n                    The fuck it’s already done.\n        - u/persondude27:\n            Democrats really will never learn that trying to play centrist doesn't work.\n            \n            They sabotaged Bernie in 2016 and lost, barely won in 2020, and they failed with Kamala in 2024.\n            \n            You can't push the right-> left, but you can push the left away.\n            - u/AquafreshBandit:\n                George McGovern was very left and unfortunately lost 49 states in 1972. Against Nixon, who’d promised to end the Vietnam War in 1968 and then didn’t.\n                \n                But that’s water under the bridge now. People don’t want the Constitution. They want one man to make decisions based on solely his judgement and they’ve got it.\n                - u/baddonny:\n                    No they goddamn don’t. Good lord man, where were you the day they handed out spines?\n                    \n                    Stop talking like a person who wants the US to fall.\n            - u/kralrick:\n                >They sabotaged Bernie in 2016 and lost\n                \n                Bernie lost the 2016 primary by millions of votes, double digit percentage points.  If he was a viable candidate, even with the Democratic party backing Clinton, it would have been a close primary.  \n                \n                I don't think centrism was the problem with the last three Presidential candidates, I think it was the candidates themselves (with the added anchor of not having a primary in 2024).  Obama was a rather moderate candidate in most regards and is often held up as a gold standard for mass voter appeal.\n            - u/philn256:\n                Biden played the centrist game and won, but then went far left. The problem with democrats today is even if they play the centrist game (like Kamala tried) people see right through it.\n                Would Kamala have cracked down illegal immigration at the border? Probably not.\n                - u/persondude27:\n                    LOL, Biden was absolutely not far left. What the hell are you smoking?\n        - u/philn256:\n            If he were trying to run for president he'd have vetoed the gun legislation.\n- u/RandomAsciiSequence:\n    Can anyone explain what is bad about this, specifically? The article just has general complaints from unions, but didn't go into why this is a priority. \n    - u/ConcLaveTime:\n        The Labor Peace Act requires that 75% of workers that will be represented by a union need to vote in favor of paying dues to fund the union. So if a union passes a labor peace act vote all workers represented by the union must pay dues to fund the union representing them and if it fails (this happens almost all the time now) then dues to the union are voluntary. The 75% threshold is incredibly high to pass and makes it or breaks the success of the union. You pass then your union has funds to actually fight if it doesn't pass then good luck getting significant benefit from your pretty toothless union.\n        \n        \n        *This bill would overturn the Labor Peace Act making it easier for Unions to form with a dues paying base of workers\n        - u/johnnyfaceoff:\n            Important to note this 75% comes AFTER the union has been voted in by a simple majority. So it’s basically an extra step to make the formation of an actual labor union more difficult.\n            - u/Iinventedcaptchas:\n                I wouldn't qualify it as an extra step in creating a labor union. The 75% requirement is *after* they've already formed a union. It requires a 75% vote in order to make all employees (whether they're in the union or not) pay fees to the union for the  benefits of collective bargaining. It's what they call union security.\n                - u/johnnyfaceoff:\n                    It is an extra step though, because a union that doesn’t collect dues is pretty powerless, and most people that vote for a union already have the expectation of paying dues to begin with. It’s entirely extra and unnecessary and was put in place in the 70’s to make unions weaker and harder to put into place.\n                    - u/kralrick:\n                        > It requires a 75% vote in order to make all employees (whether they're in the union or not) pay fees to the union for the benefits of collective bargaining.\n                        \n                        Your comment entirely ignores this very important point Iinvented made.  Do you believe it to be a false statement?  Would you be okay if the union vote automatically made all members in the newly formed union have to pay dues but a 75% worker vote was required to make non-union members pay dues?\n                        - u/johnnyfaceoff:\n                            I disagreed with them saying that the 75% vote part isn’t an extra step. It is. That’s all I’m saying. Get the stick out of your ass. I’m in favor of NO extra votes just to get people to pay dues.\n                            - u/kralrick:\n                                So you'd be fine with union members automatically paying union dues when the union is formed and non-union members not having to pay dues to an organization they're not a part of?\n                                \n                                The 75% vote is only an extra step if it's required for union members to be required to pay dues.\n                                - u/johnnyfaceoff:\n                                    No, everybody pays lmao why is this so hard to understand?\n        - u/byzantinedavid:\n            Critically, even WITH the 75%, the Union and the Company have to agree on a dues structure for non-members.\n    - u/None:\n        [deleted]\n        - u/TheyMadeMeLogin:\n            This isn't true, the 75% threshold is needed to force all employees to pay union dues not form the union (as the article says).\n    - u/TrueAkagami:\n        My understanding is that the bill would require everyone to pay union dues whether they are in a union or not. The union's stance is that non-union members benefit from what the union does, but don't pay the fees. This bill basically seem to force everyone to be a part of the union whether they want to or not, or at least force them to pay the dues. I think the bad part is the matter of choice for an employee. That gets taken away if the bill were passed.\n        - u/Threedawg:\n            Non union employees get the same wages and benefits as union employees. If you dont want those benefits and to join the union, find a different job. \n            \n            \n            \n            This right wing \"right to work\" attitude you have is exactly what killed the labor movement in this country.\n            - u/TrueAkagami:\n                Easy killer. Was just giving my opinion about my interpretation of the bill. I don't have any skin in the game on the union battle. I saw a question about what someone thought might be the bad interpretation and gave my opinion. I heard about that a lot when I worked for an organization that had a group of workers in a union. One guy I worked with wasn't in the union and didn't pay dues, but was heavily pressured by the union to join regardless. He said that turned him off to it and that it should be his choice. Just playing devil's advocate here.\n        - u/byzantinedavid:\n            No, this would ALLOW the Union and the Company to include dues for non-members in the contract. It would still require both sides agreeing to the contract provision.\n            - u/TrueAkagami:\n                The article definitely didn't seem quite clear to me, so this would also make sense. So if the Union and the Company include non-member dues in the contract, who is paying that? Is it the company, the non-members? Just legitimately curious.\n                - u/byzantinedavid:\n                    The non-members. Typically, it's a lower amount and doesn't get the union's legal protection, voting rights, benefits, etc. It's mostly just a fee in exchange for the union negotiating and representing you. You still get employment representation, grievances, etc.\n                    \n                    They're called agency fees or fair share fees.\n- u/SavageCucmber:\n    If people didn't learn anything with Hickenlooper, they certainly won't with Polis either.\n- u/lwc28:\n    Polis is part of the pro-business side of the democratic party. It's that idea that they have to compete with Republicans by being more like them, centrist, etc. It's not ok.\n- u/cuulcars:\n    Polis sucks. Let’s get a real progressive in there next time. Phil Weiser is probably more progressive than polis but interested to see what other names throw their hat in the ring  \n- u/avocadofan:\n    Polis’s political career in the Democratic Party should be over after this, but he has the money to follow his aspirations. Maybe he’ll continue his love affair with Elon Musk and go MAGA.\n- u/general-noob:\n    Dude really nuked his future political career in the last year here.\n- u/Outside_Abroad_3516:\n    What the FUCK.\n- u/kleric42:\n    I can't wait to not vote for him in the next primary.\n- u/YugoAKBestAK:\n    Jared Polis wants to take away your rights to own a gun to stop you from being able to resist the economic tyranny he wishes to inflict on the rest of us. Its nearly $10 for a dozen eggs at the grocery store, its insanity!\n    - u/philn256:\n        You can buy several hundered eggs by trading in your assult weapon that accepts detachable magazines and has a threaded barrel. Better yet, go see a blue haired mental health specialist. You don't seem happy.\n- u/stinky___monkey:\n    It’s all rigged\n- u/spunnee:\n    Of course he does. He’s been silent about his own agency’s rape kit backlog for 121 DAYS! He doesn’t care about people.\n- u/RicardoNurein:\n    Of course.\n    \n    D governor, D Senate, D House. \n    \n    One phone call could have fixed it all - in January, not June.\n",
         "True",
         null,
         "{'title': 'Jared Polis plans to veto Labor Peace Act bill, a priority for Colorado unions', 'author': 'Cincinnaudi', 'score': 272, 'num_comments': 79, 'created_utc': 1746803554.0, 'url': 'https://coloradosun.com/2025/05/08/jared-polis-veto-colorado-labor-peace-act/', 'selftext': '', 'subreddit': 'Colorado'}"
        ],
        [
         "9",
         "https://reddit.com/r/Colorado/comments/1kiklyu/rep_yadira_caraveo_interview/",
         "\n\n===Comments===\n- u/Snoo-43335:\n    She will say what ever it takes to get elected then go on her own agenda again just like the last time. There is a reason she was voted out.\n    - u/DavidThi303:\n        She discussed her votes a lot in her interview with Kyle Clark and a bit with me. Her district is moderate and therefore any representative who wants to get reelected in it needs to be moderate.\n        \n        So yeah, she'll be moderate. And that will have you (and me) at times wishing she would be more liberal. But that's her district.\n        - u/ifinewnow:\n            But moderate doesn't have to mean things like taking away voting rights from residents of DC for their local elections. It had zero bearing on citizens in CO. She was punching down on people with her own background. Scaredy-scaredy behavior IMO, giving aid and comfort not to moderates but to reactionaries. I'm done with her.\n            - u/DavidThi303:\n                I'm reticent to be too quick to put boundaries about what's acceptable for a moderate. Governor Ritter was anti-abortion and yet he was a really good governor in my opinion. We're losing the purple states, have lost the Senate, and may find the Presidency impossible in 2032 after redistricting.\n                \n                I think we should embrace any moderate that can win and look closely at what they do.\n                - u/Thorbjorn_DWR:\n                    Boooooooooooooo\n                    - u/DavidThi303:\n                        I take it you prefer to lose while fighting the good fight rather than win by compromising? How's that working right now with Trump?\n                        - u/Express-Doubt-221:\n                            Kamala Harris ran around rural Pennsylvania with Liz Cheney, saying the only difference to Biden is that she'd appoint a Republican to her cabinet. Didn't run on any left issues. Didn't talk about trans issues, even to rebut Republican talking points. How did compromise work out for her?\n                            \n                            \n                            Do you think we should just run further and further right wing candidates? Maybe recruit Bush and Romney to run as compromise solutions, in order to peel off five remaining undecided voters in Wisconsin? And when that inevitably fails and we lose again, will we just keep trying, or will we run a populist left candidate that actually excites people?\n                            \n                            \n                            I've tried doing the thing you're doing. \"C'mon now guys. You need to eat your vegetables and you need to remember to vote for Democrats. I know we don't like them but they're better than getting Republican diabetes!\" It doesn't fucking work. Stop. \n                            - u/DavidThi303:\n                                Kamela Harris basically run as an extension of the Biden administration. I think she could have separated a little but she didn't. That means she ran on:\n                                \n                                * Not having anything to say on inflation other than it's coming down.\n                                   * I don't think they ever truly understood how upset people were about inflation. They had their economists telling them that the inflation was addressed by raising pay - that doesn't work.\n                                * Not having built anything over 4 years.\n                                   * Yes a little actually got built, that Biden rarely went out to celebrate. But most of the money approved was still jumping through approval hoops 4 years later.\n                                * Coming out for Trans equality.\n                                   * Speaking as a father of three daughters who played very competitive sports, I am not wild on a trans player on women's team. They have a giant advantage in upper body strength.\n        - u/toggiz_the_elder:\n            How did “being moderate” work out for her though? It was hard to tell her commercials from Gabe Evans’.\n- u/jbone9877:\n    She fucking sucks. Insane democrats just keep trying to run losers when someone like little bitch Gabe Evans should be an easy target\n    - u/DavidThi303:\n        Can we please keep it civil with no crude attacks. Politics is degraded enough as it is.\n        \n        I'm not asking you to state a different opinion, just to state it in a more civil manner.\n        \n        My $0.02\n        - u/dkillers303:\n            Meh, they’re right though. Many people have been loudly voicing, civilly, their disdain for democrats like Yadira. That’s gotten us nowhere. She does fucking suck, I am in her district. I strongly dislike Gabe, I strongly dislike Yadira, I want someone more progressive and the dems keep pushing the establishment losers.\n            \n            Until democrats get the message, I don’t see what your issue is with calling a loser a loser. She lost for a good reason, and now she wants to run again? We voted her out, why are you pushing her here? How about we listen to the voters and run a different democrat, someone who’s actually going to work for US?\n            - u/DavidThi303:\n                My objection was not to \"loser,\" it was mainly to \"little bitch\" and a bit to \"fucking sucks.\" I don't like Evans either but there's better ways to say that.\n                \n                As to who I interview, I try to interview all the candidates (some decline). And I respect that Caraveo is the only Democrat who's won that district. Someone else might be better, both campaigning & legislating. But maybe not. That's why we have a primary.\n                - u/dkillers303:\n                    As an interviewer, you also have a responsibility to report on what voters want and how candidates align with their values. Part of the reason we’re in this mess is because the media has been complicit and one-sided. We don’t want Yadira, we don’t want Gabe, but these are the people the media focus on because that’s what the two parties want to push. Maybe let’s talk about other options?\n                    - u/DavidThi303:\n                        I'll interview anyone else who's willing. I think I did ask here good questions on a number of policy issues.\n                        \n                        I do **not** think it's my job to tell them their answers are not what I want them to advocate for. My job is to get them across in the most detail, not inject my opinion. My opinion is irrelevant.\n                - u/Snoo-43335:\n                    This is why Democrats are losers. They are more worried about the words than the message.\n                    - u/Desertnord:\n                        As a democrat I agree\n                    - u/DavidThi303:\n                        I'd like to keep it civil in this subreddit. If you're in a crowd at a Trump event, let loose however you want.\n                        \n                        As to winning/losing, I think we're losing in purple districts because the candidates and the national party message is too progressive. We need to move to where the votes are.\n                        \n                        Matt Iglesia had a great example for the Dems. Working to increase foreign aid quietly - great. Working to reduce carbon emissions loudly - losing message.\n        - u/jbone9877:\n            Yadira loves abusing her staffers and you think she deserves civility. You should run for office, you will fit right in\n            - u/DavidThi303:\n                My mom was a state Rep for 30 years. My sister was a state Senator for 8 years. I know the world.\n                \n                It doesn't cost you anything to make the same points without being a dick.\n                - u/ifinewnow:\n                    OMG! You used the word 'dick' thereby being one. Shame shame.\n                    - u/DavidThi303:\n                        I did that hoping someone would call me out on it. Correct, I should not have said \"dick.\"\n- u/Express-Doubt-221:\n    The way you lecture others in the comments about being \"uncivil\" or \"too partisan\" makes me like your candidate even less, and I know little about her. Read the room. The left is sick of Democrat's shit. \n    - u/abitbuzzed:\n        Yup, fucking amen. Caraveo is absolutely terrible, and she already lost to Evans bc WE DON'T WANT HER PRETENDING TO REPRESENT US ANYMORE. She's useless at best and a turncoat at worst. OP is delusional if they think she has anything positive to offer. Even interviewing her was a waste of time and shows just how out of touch OP is with what the people in our district want. \n        \n        Plus, their bizarre attempts to police the language in this thread make it obvious that their issues with being out of touch and failing to read the room are not isolated to their \"reporting\". It's like this is OP's first day on reddit, lmfao.\n    - u/DavidThi303:\n        I'm sick of a lot of what the Democrats do too. But they're worlds better than the Republicans and that's the choice we have. Also I am not a Caraveo supporter. I'll support whoever wins the primary.\n        \n        And once we Democrats figure out how to win back the Senate and win the Presidency, then we can look at how to move the party to the left where we can, without losing those wins.\n        - u/Desertnord:\n            People have figured it out, but it doesn’t benefit the rich. This can’t in any realm be “the only choice we have”. Is she the only democrat in the state??\n            - u/DavidThi303:\n                I'm sure 1 or 2 additional candidates that have a decent chance will run. And when they announce I'll ask them if I can interview them too.\n        - u/Express-Doubt-221:\n            Democrats need to quit the whole \"we can talk about moving left when we win in the general\" spiel. We're not on some rail where the populace is gradually becoming more left and we just have to wait out the tantrumming Republicans. A third of the country doesn't vote and I imagine it's because to them, the parties effectively ARE the same. A Democratic party that actually fights for something is a party that wins. \n- u/DavidThi303:\n    Two comments about Caraveo. First, she comes across really well in the interview. That's not a sufficient reason to vote for her, but it is a positive data point.\n    \n    Second, there's a number of active Democrats trying to get her to drop out of the primary. **That's wrong.** We primary voters should be the ones making the decision on who we want as our candidate. We should not have a small group limiting our choices.\n    - u/Fishy1911:\n        We are limited to 2 parties. . So yeah, already have a small pool of idiots to choose from, picked by their respective party. Maybe if we could get ranked choice voting we could get someone who actually represents the people? \n        - u/dkillers303:\n            We had ranked choice voting on the ballot and for some reason, it didn’t pass :(\n            \n            I can’t stand Colorado politics sometimes. I’ve had multiple friends and colleagues complain to me about how we need a new voting system and proceeded to describe ranked choice voting. I told them it was on the ballot they voted on and they didn’t even realize… my god, it’s like we have this booklet that gets mailed with our ballot that explains these things. Instead of reading it, voters skim the issue or didn’t get told how to vote on it so they just vote against it.\n            - u/Fishy1911:\n                Concerted disinformation campaign from the parties that could've lost power.  Did you expect them to go quietly?\n                - u/dkillers303:\n                    Nope, but I expected more from CO voters. As one of the most educated states in the country, we’re an embarrassment.\n                    \n                    Disinformation campaigns are pretty easy to see through when you’re educated about the issues… CO has been somewhat okay in that regard over the years, but this last election was bad and I fear it’ll continue getting worse as more folks tune out.\n                    - u/Fishy1911:\n                        Its not too surprising,  honestly. We're just as susceptible to fear mongering as anyone else, especially when it's a constant insidious message. We get bombarded with its \"dems vs repubs\" and if there is any shift in the balance of power the other side will trample our rights, and \"blue all the way down\" keeps promoting the same message. Is it any wonder that voters are afraid if they get a 3rd party in that the side they more closely align with will fail to the other? \n                        \n                        \n                        Colorado has been the leader in a lot of areas, but even educated people weigh choices and aren't immune to being swayed by political propaganda. We're not all educated in law to dig through the minute parts of a bill and to be able to connect it to what might happen.  We depend on the blue book and discussion.. and ads.\n                        \n                        \n                         At the end of the day most people are busy and depend on others to help them do their thinking.  In our house, I'd like to think we discuss the issues/candidates a bit more but there are always some where I don't vote on or check the local pages to see other's opinions. There are times I ask my wife or she asks me about issues on the ballot that we hadn't heard much about, and we blindly go with the other's choice. \n                        \n                        \n                        Its hard to get mad at votes that don't radically change the system.  Its easier to vote NO than yes and keep the status quo for a lot of people, especially older ones. \n            - u/Snoo-43335:\n                The voice of the uneducated voter.\n    - u/ifinewnow:\n        coming across really well is not a data point. What metrics are you using?\n        - u/DavidThi303:\n            My opinion of how she comes across is a data point. Measuring the opinion of a random sample of 150 viewers of the interview - that's statistically valid.\n            \n            So fair point, I should have said \"In my opinion...\"\n",
         "True",
         null,
         "{'title': 'Rep. Yadira Caraveo Interview', 'author': 'DavidThi303', 'score': 0, 'num_comments': 42, 'created_utc': 1746802799.0, 'url': 'https://liberalandlovingit.substack.com/p/rep-yadira-caraveo-interview', 'selftext': '', 'subreddit': 'Colorado'}"
        ],
        [
         "10",
         "https://reddit.com/r/Colorado/comments/1kibvm7/noaa_retires_billiondollar_disaster_database/",
         "\n\n===Comments===\n- u/Traditional-Golf-416:\n    The U.S. Army Pueblo Chemical Depot (PCD), now known as U.S. Army Chemical Materials Activity-West (CMA-West), near Pueblo, Colorado, was a facility that stored and destroyed chemical weapons. It was one of two remaining Army installations in the U.S. with a chemical weapons stockpile. The depot was deactivated in September 2024 after completing the destruction of its stockpile in July 2023, and the facility is now transitioning to a new mission focused on closing and demolishing the Pueblo Chemical Agent-Destruction Pilot Plant (PCAPP)\n    \n    Warren Steed Jeffs, the religious cult leader child abuser owns hundreds of acres there, including quanzi huts.\n    - u/Xijit:\n        Oh, a cult leader with access to land contaminated with chemical weapon materials ... Absolutely no red flags here.\n        - u/ClassWarBot_77:\n            Thankfully he's busy serving a life sentence.\n            - u/DoctFaustus:\n                That doesn't mean his followers are.\n        - u/Traditional-Golf-416:\n            it's pretty dark, but true.\n        - u/tycr0:\n            Yea he ain’t getting out of prison anytime soon. Turns out molesting children illegal.\n            - u/BabyOhmu:\n                He has followers who still have access to use, control, and exploit his assets.\n            - u/Xijit:\n                Sounds like he should have joined the GOP instead of started a cult.\n                - u/hgs25:\n                    Or be like Andrew Womack and do both\n                - u/abitbuzzed:\n                    >joined the GOP\n                    \n                    >started a cult\n                    \n                    Instructions unclear, tried to join the GOP and ended up in a cult anyway??\n    - u/black_pepper:\n        Whats the relation of this to OP's article?\n- u/Suitable-Scholar-778:\n    This won't turn out well\n- u/HotKarl_Marx:\n    You would think a \"consortium of insurance companies\" might be interested in getting this database and some folks to keep it running....\n    - u/black_pepper:\n        They probably are. They will take the NOAA dataset and add their own data moving forward and charge a generous fee for access.\n- u/mofacey:\n    Love this for us\n- u/gdirrty216:\n    The worst part of Trump is many of the impacts of of his bad decisions won’t be felt for years. \n    \n    This is a disaster in and of itself\n- u/krix_bee:\n    “Bolinger believes the move is part of a broader effort to reduce public-facing climate data.”\n    \n    It’s ALL public facing data. Climate *and* medical research, population and demographic data, public health and infectious disease data, economic data, code and program… NIH and IMLS and NSF and CDC… it goes on. The goal is to withhold and block access to ANY PUBLIC data. \n    \n    We’ve had resistance librarians, scientists, etc. creating data pulls and storing them elsewhere like she has (total hero) in all sorts of fields and from all sorts of research sources to secure them.\n- u/Particular-Cap4215:\n    highly suspect\n- u/Rude-Demand-7255:\n    Good.\n    - u/Quirky-Noise3490:\n        Why\n",
         "True",
         null,
         "{'title': \"NOAA 'retires' billion-dollar disaster database, raising concerns in Colorado\", 'author': 'twotimefind', 'score': 468, 'num_comments': 22, 'created_utc': 1746772237.0, 'url': 'https://www.9news.com/article/weather/noaa-billion-dollar-disaster-database-colorado/73-c4acbbbc-423f-43db-8b10-4229761ab533', 'selftext': '', 'subreddit': 'Colorado'}"
        ],
        [
         "11",
         "https://reddit.com/r/Colorado/comments/1ki62sz/the_start_of_tonights_girls_state_tournament/",
         "\n\n===Comments===\n- u/uhh_khakis:\n    wow, this makes me miss HS marching band. I can feel and smell this pic\n- u/DontMindMe5400:\n    So Holy Family had heavenly intervention for the W.\n- u/DreadedAscent:\n    I went to Holy Family! Seeing them mentioned on Reddit is kinda trippy\n",
         "True",
         null,
         "{'title': 'The start of tonight’s girls state tournament soccer match between Alamosa High and Holy Family', 'author': 'zepol61', 'score': 145, 'num_comments': 3, 'created_utc': 1746751943.0, 'url': 'https://i.redd.it/ipxy53zbmnze1.jpeg', 'selftext': '', 'subreddit': 'Colorado'}"
        ],
        [
         "12",
         "https://reddit.com/r/Colorado/comments/1ki36br/maroon_bells_has_challenging_summer_outlook/",
         "\n\n===Comments===\n- u/OutdoorCO75:\n    How about the insanely wealthy people that own homes nearby pony up, it would be a drop in the hat for them. Thanks DOGE for another win against the average American just wanting to visit somewhere beautiful.\n    - u/tommy_b_777:\n        The wealthy in America have No Honor. There might be outliers, but for the most part it is pretty transparent they have absolutely No Honor.\n        \n        The poor immigrants buying money orders to pay their outrageous rents have more honor than anyone in any of those mansions.\n        \n        eta there their\n    - u/kurttheflirt:\n        The wealthy Americans want it to be worse so less people come.\n    - u/GudcleanBoy:\n        This dysfunction is exactly what they want, so then the MAGA cultists can come back and say “See, this is why National Parks and Government Run *Anything* is bad, let’s sell it all to private interests and they can run it more efficiently”\n    - u/jeffeb3:\n        Careful what you wish for. Without safeguards, it could be privatized and we would never be able to return.\n- u/chasingthewhiteroom:\n    They should just close all road access and facilities to these places. If they can't safely and effectively manage them, close the roads. Make people walk from T-Lazy and think about their voting choices along the way.\n    - u/Cop10-8:\n        The old Ed Abbey strategy, I like it!\n    - u/JohnPinchot:\n        They have been prohibited from closing places like this without Washington level approval, which has zero chance of happening.\n    - u/SpongerPower:\n        Hah!\n- u/palikona:\n    Thanks MAGA 🤨\n",
         "True",
         null,
         "{'title': 'Maroon Bells has challenging summer outlook', 'author': 'SpongerPower', 'score': 65, 'num_comments': 11, 'created_utc': 1746743393.0, 'url': 'https://www.aspendailynews.com/news/maroon-bells-has-challenging-summer-outlook/article_f2f24cef-d7f8-4bd8-ae72-c7fe07bf9dc1.html', 'selftext': '', 'subreddit': 'Colorado'}"
        ],
        [
         "13",
         "https://reddit.com/r/Colorado/comments/1khvfa1/enjoying_these_flowers_while_they_last/",
         "\n\n===Comments===\n- u/EagleAdventurous1172:\n    Balsamorhiza sagittata -- arrowleaf balsamroot\n    \n    And Purple one is likely:  Delphinium nuttallianum -- upland larkspur\n- u/cofozzie:\n    And serviceberry in the background! Classic western slope flora\n- u/mickysti58:\n    Very pretty!😍\n- u/glenwoodwaterboy:\n    I think the white flowering bush is Utah service berry\n- u/None:\n    [deleted]\n    - u/EagleAdventurous1172:\n        No that is not right.  Quite sure they are Balsamorhiza sagittata -- arrowleaf balsamroot\n    - u/LeafBlower_CO:\n        These are not in that genus, look at the leaves and you’ll quickly know these are Wyethia of some type\n        - u/EagleAdventurous1172:\n            Wyethia is much closer than what they said. But think they are Balsamorhiza sagittata -- arrowleaf balsamroot\n            - u/LeafBlower_CO:\n                I think you’re right!\n    - u/glenwoodwaterboy:\n        Love these things\n",
         "True",
         null,
         "{'title': 'Enjoying these flowers while they last', 'author': 'glenwoodwaterboy', 'score': 247, 'num_comments': 9, 'created_utc': 1746724171.0, 'url': 'https://i.redd.it/qtvk3q5rblze1.jpeg', 'selftext': '', 'subreddit': 'Colorado'}"
        ],
        [
         "14",
         "https://reddit.com/r/Colorado/comments/1kh3sk0/big_horn_sheep_near_montrose_co/",
         "\n\n===Comments===\n- u/Logical_Willow4066:\n    Cool pic\n- u/cohutta77:\n    Awesome shot!\n- u/My_browsing:\n    These guys will occasionally just hang out in the middle of US 50 from Gunnison to Montrose.  It’s always exciting both from the point of view of “oh cool, sheep!”  and in the sense of slamming on your brakes at 70 mph when there is a white Ram truck 6 inches from your rear bumper.\n    - u/ComfortableHuman5272:\n        🤣😂\n    - u/Gundark927:\n        Hit the Ram buck, or hit by the Ram truck.  Rock and hard place.\n    - u/cauliflowercation:\n        And they are so unbelievably unbothered too\n- u/AmbulatoryTreeFrog:\n    What camera/lens combo?\n    - u/NatoRepublic:\n        Canon R5 w/ RF 100-500mm\n- u/Miscalamity:\n    This is an absolutely beautiful shot!\n- u/MattintheMtns:\n    I saw a bunch when hiking Serpents Trail in GJ a couple years ago. Cool animals!\n- u/imaoreo:\n    go Rams!\n- u/mntplains:\n    Yeah it is!\n",
         "True",
         null,
         "{'title': 'Big Horn Sheep, Near Montrose CO', 'author': 'NatoRepublic', 'score': 602, 'num_comments': 13, 'created_utc': 1746640328.0, 'url': 'https://i.redd.it/w4tu8tffeeze1.jpeg', 'selftext': '', 'subreddit': 'Colorado'}"
        ],
        [
         "15",
         "https://reddit.com/r/Colorado/comments/1kh2ved/colorado_skiing_legend_mikaela_shiffrin_joins/",
         "\n\n===Comments===\n- u/Suitable-Scholar-778:\n    This is cool\n",
         "True",
         null,
         "{'title': 'Colorado skiing legend Mikaela Shiffrin joins NWSL Denver ownership group', 'author': 'Knightbear49', 'score': 42, 'num_comments': 1, 'created_utc': 1746638134.0, 'url': 'https://coloradosun.com/2025/05/06/mikaela-shiffrin-joins-denver-nwsl-team-ownership/', 'selftext': '', 'subreddit': 'Colorado'}"
        ],
        [
         "16",
         "https://reddit.com/r/Colorado/comments/1kgkuqm/colorado_senate_passes_bill_to_improve_rideshare/",
         "\n\n===Comments===\n- u/GONEBUTNOT4GOTTEN:\n    oh there's a chance  they don't leave colorado?\n    - u/Miscalamity:\n        It sounds like the Senate caved to a few of their demands.\n        - u/MAVERICK42069420:\n            Our state government giving into private interest groups instead of actual listing to their constituents? \n            \n            Shocker.\n            \n            This legislative session has definitely showed the corruption in our state.\n        - u/GONEBUTNOT4GOTTEN:\n             hmm looks like it.\n- u/ThimeeX:\n    > The most substantial change was the requirement regarding audiovisual recordings, which was mandated in the version as it left the House. Under an amendment adopted Tuesday, it becomes an opt-in option for both the driver and the rider. Winter noted that this was difficult for the victims' rights groups.\n    \n    I'm personally glad about this change, while I do have strong sympathy towards the victims, requiring mandatory recording to be reported to the companies is very Orwellian. I don't want to be recorded and my voice transcripts saved for all time in some company database in the name of safety.\n    \n    No to this future: https://www.reddit.com/r/Futurology/comments/1jyx1yg/she_was_chatting_with_friends_in_a_lyft_then/\n- u/grant_w44:\n    I wouldn’t lose any sleep if uber left Colorado\n- u/GONEBUTNOT4GOTTEN:\n    good bye uber\n    - u/Miscalamity:\n        No, the Senate basically caved to Uber's demands.\n        - u/Snoo-43335:\n            Yeah, democrats do that all the time. They have no spine.\n            - u/MAVERICK42069420:\n                And they certainly don't shy away from lobbist money\n",
         "True",
         null,
         "{'title': 'Colorado Senate passes bill to improve rideshare safety, with industry-backed changes', 'author': 'Miscalamity', 'score': 155, 'num_comments': 11, 'created_utc': 1746579518.0, 'url': 'https://www.coloradopolitics.com/news/colorado-rideshare-safety-bill/article_f15076ca-38b9-4cb1-97b3-a8001a8f8c12.html?ana=9news#google_vignette', 'selftext': '', 'subreddit': 'Colorado'}"
        ],
        [
         "17",
         "https://reddit.com/r/Colorado/comments/1kgk583/brighton_mayor_to_declare_dianetics_day_on_may_9/",
         "\n\n===Comments===\n- u/Miscalamity:\n    So Kyle Clark on Channel 9 just had this on his Next show this evening. \n    After questioning Brighton officials, they found out it wasn't the community that requested this, it was actually the PR firm of the Scientology Church that requested it. \n    They also reported the city council plans to take it up at their next meeting on how to work these requests for the future.\n    - u/theBPPE:\n        Kyle just updated his story to report that the city is dropping the planned proclamation, now that his team is asking questions.\n        \n        https://bsky.app/profile/kylec.bsky.social/post/3lokcqww2522c\n        - u/Miscalamity:\n            I just saw this. Good that he held the city accountable for not even being aware of what they are doing, just rubber stamping anything that comes their way.\n    - u/AwayMammoth6592:\n        Thank you for the context! Love Kyle Clark.\n        - u/Corona_Cyrus:\n            Kyle Clark for the win, as always\n    - u/trainercatlady:\n        i wish he could have moderated the presidential debates\n    - u/Schmucky1:\n        So, there's gonna be more requests? Great...\n- u/Wooly_Mammoth_HH:\n    Is that like.. cult stuff?\n    - u/oo0oo:\n        Dianetics is the main belief system of Scientologists, so yeah... a major cult.\n        - u/flybydenver:\n            I remember seeing prime time TV ads for the book in the 90s\n            - u/DryIsland9046:\n                It was a really successful tool for the cult.  Along with tv and radio ad campaigns, the church of scientology used to keep Dianetics on the bestseller list by buying back hundreds of thousands of copies from retailers, and then re-re-selling them as wholesale back to the bookstores.   In some of the documentation above, B-Dalton (a massive mall bookstore chain at the time) used to talk about getting wholesale books from the publisher already wearing the b-dalton price stickers.  (because the cult members just bought them off the shelves, and then pretended they were new wholesale books.). All to juice the sales numbers to keep it perpetually on the bestseller list.  So they could pretend Dianetics was a legitimate popular self-help book.  \n                \n                It was nuts.   But they never needed to turn a profit on the books.  It was just a big loss leader to get people into the cult so they could go after their life savings.\n        - u/DryIsland9046:\n            Well, it's the \"first taste is free\" part of the belief system.  Mostly a bunch of pseudoscientific hogwash around the \"analytical mind\" and the \"reactive mind\" purportedly where people store their trauma.    Although just nonsense from a failed science fiction author, it almost sounds plausible.\n            \n            Then the next step is to steer you to a Dianetics Center.  Where they start with a \"personality test\" that involves a galvanic skin response low-grade lie detector.  No mater what the \"e-meter\" says, it turns out you're \"storing trauma! in your reactive mind.\"   And the cure for that imaginary disease is, of course, more courses from the church of scientology.  \n            \n            As you get deeper into the cult, you pay fees to pass certain \"levels\" which gradually reveal to you more \"truths.\"  Namely that the \"reactive mind\" comes from (and I wish I was making this up) immortal space aliens (thetans) who possess your brain and body, because they were banished to earth because of an evil galactic overlord, Xenu.   And tied to volcanoes, etc.   And the personality test measures the number of aliens that posess you.   And those aliens are the source of all your hangups/problems/woes.  And the cult has the only means of vanquishing these aliens from your body/mind.  But to do that... they're going to need more money from you.\n            \n            Then there's all kinds of pseudo-star wars stuff in there too.  (The aliens were sent to earth on spaceships that look just like DC-3s!).\n            \n            It's all insane.  Here are some sources, with links to testimonials from cult survivors, church documentation, etc.\n            \n            [https://en.wikipedia.org/wiki/Scientology](https://en.wikipedia.org/wiki/Scientology)\n            \n            [https://tonyortega.org/](https://tonyortega.org/)\n            \n            [http://www.xenu.net/](http://www.xenu.net/)\n        - u/Fenastus:\n            Something something separation of church and state\n            \n            Fuck scientology\n        - u/diqholebrownsimpson:\n            They were compelling to my curious little self. I thought it was sciency stuff, not science fiction\n    - u/evenstar40:\n        Oh nooooo, just looked it up and yeah this is Scientology shit. We almost moved to Brighton...\n    - u/portobox2:\n        Good Evening!\n        \n        You have been \"added\" to our \"list\" for \"monitoring.\"\n        \n        We hope you enjoy.\n        \n        /s \n        \n        But for real, welcome to their monitoring program; everyone has a file.\n        - u/abitbuzzed:\n            V true. My partner grew up in Scientology (they're out now, along with their family), and one time I interviewed him for a university project. I asked point-blank if Scientology is a cult, and they shifted uncomfortably and said, \"I'm not going to answer that question...They have lawyers everywhere.\" \n            \n            It was rather shocking and alarming to me how *scared* he looked just to say that an obvious cult is a cult -- an entire decade after leaving. :/\n- u/garbledeena:\n    So a couple loudmouth assholes with deep pockets in Brighton are *scientologist loudmouth assholes*. \n    \n    Noted.\n    - u/vm_linuz:\n        Lots of 7th Day Adventists too\n- u/Michomaker-46:\n    New reason to not go to Brighton\n- u/TheTrub:\n    Time to form a pro-Xenu counter protest.\n    - u/Whyam1sti11Here:\n        Xenu is my homeboy\n        - u/TheTrub:\n            My thetans, my choice!\n        - u/6BagsOfPopcorn:\n            Xenu did nothing wrong\n- u/Khaleesi_Vezhven:\n    We need equal representation! Santanic day for the Santanic Temple!\n    - u/SocraticIgnoramus:\n        Church of the Flying Spaghetti Monster would like to extend its noodly appendage in a show of ecumenical solidarity and join you in your cause for equal representation.\n        - u/Ian_Miles_001:\n            Hail Kastrup!\n    - u/ikmkim:\n        Damn you Satanists, we ALL must unify under the hooves of our Lord and Destroyer, Blucifer! \n        \n        \n        HAIL HIM!\n        - u/ImperialWrath:\n            I thought y'all had been converted to Bolievers\n- u/KouchyMcSlothful:\n    Fuck, really??\n- u/tommy_b_777:\n    Look in my eyes, what do you see ?\n    \n    The Cult of Scientology !\n- u/Schmucky1:\n    I'm sorry, what timeline is this again!?\n    \n    Scientologists in CO?\n    - u/BoneyardBill:\n        Have you never been off Blake street in Lodo?\n        - u/cloud93x:\n            I got jumpscared by the life size David Miscavige cardboard cutout in the window while driving alone down there one night 😬\n            - u/BoneyardBill:\n                Eeeek\n- u/SuspiciousImpact2197:\n    Well, at least it’s a different cult\n- u/Midwinter93:\n    I thought all the Scientologists were in Telluride.\n    - u/lwc28:\n        Oh God I wanted to go up there on vacation this summer!  No!\n        - u/PurpleAntifreeze:\n            In opposition to your other reply, I was in Telluride earlier this year and last fall, and I saw plenty of people of all sorts of skin colors and cultural backgrounds (some in non-mainstream-American clothing) and no one seemed to have a problem with anyone else. No Scientologists approached me, no proselytizing of any kind, etc. Expensive AF though\n        - u/frothyundergarments:\n            It's not like they're going to kidnap you\n        - u/DynastyZealot:\n            As long as you're lily white and keep your mouth shut and your wallet open, you'll be fine.\n- u/Disastrous_Ad_912:\n    That’s cool. Can we have an Atheist Day?\n- u/backwardsbananaX:\n    Or even better they could declare “idiots day”\n- u/scrotumseam:\n    Who elected this Cult want to be leader? What a joke. This is on par with the religion Dildo Dump is trying to push. He cant even recite a verse.\n- u/Flyingbluehippo:\n    Maybe we should be fucked.\n- u/trainercatlady:\n    as in the l. ron hubbard book?\n- u/turlian:\n    Fuck L. Ron Hubbard.\n- u/Lakkapaalainen:\n    Easter and this other cult shit have to go.\n    - u/demonmonkeybex:\n        In my house, Easter is celebrated as the welcoming of a new season, the renewal of life, etc.  Kind of Pagan/Agnostic.  I didn't really mean for it to turn out that way, but it just morphed into that.  The Christians took over Pagan holidays in the first place, might as well take them back! lol\n        - u/cra3ig:\n            I don't even care about the origins of Saturnalia, I just appreciate any excuse to share in the good vibes. ✓\n            - u/demonmonkeybex:\n                That’s what good living is all about!\n- u/vm_linuz:\n    Anyone who knows anything about Brighton knows it's full of whackjob culty groups.\n    - u/KinderGameMichi:\n        Lived near Brighton for 9 years and the only thing I know about Brighton is the shit-ton of Mexican restaurants. Now I get to learn something else about the town. :-)\n        - u/HexyWitch88:\n            I grew up in and around Brighton and didn’t know this. But I guess people don’t talk about that stuff in front of the kids.\n- u/Silver_Spikey_Hair:\n    I’m just going to continue to recognize May 9th as my birthday.\n- u/stands_on_big_rocks:\n    Cool. Will avoid Brighton. Thank you!\n- u/Braine5:\n    All hail L. Ron\n- u/oleblueeyes75:\n    Ridiculous.\n- u/EM05L1C3:\n    There’s no gd way\n- u/twoaspensimages:\n    Is anyone surprised by this from Brighton? In your heart of hearts you knew. And this is only one of their cults.\n- u/ChrisChuck1:\n    Dianetics junior much better than Krishna. Dianetics cure ya much better indeed.\n",
         "True",
         null,
         "{'title': 'Brighton mayor to declare ‘Dianetics Day’ on May 9. City Manager Michael Martinez said the request for the proclamation came from members of the Brighton community.', 'author': 'Knightbear49', 'score': 175, 'num_comments': 64, 'created_utc': 1746577396.0, 'url': 'https://coloradocommunitymedia.com/2025/05/05/dianetics-day-brighton-may-9/', 'selftext': '', 'subreddit': 'Colorado'}"
        ],
        [
         "18",
         "https://reddit.com/r/Colorado/comments/1kgex4m/colorados_rural_electric_coops_are_determined_to/",
         "\n\n===Comments===\n- u/merft:\n    Dragging Tri-State kicking and screaming?\n- u/Mentaldonkey1:\n    Good.\n- u/Waltzing_With_Bears:\n    I swear if I ever manage to get land in the SLV I will go out of my way to make sure I can get SLV REC power, I already get their internet and its awesome\n    - u/Tinybob3308004:\n        Blanca has cheap land, some even with a house already on it.\n- u/Suitable-Scholar-778:\n    I love this\n- u/MAVERICK42069420:\n    Yet Xcel has to extort the state and their customers to \"go green\" while paying out multimillion dollar bonuses to their Upper management. \n    \n    Don't even mention the fact that thier stock is near an all time high.\n",
         "True",
         null,
         "{'title': 'Colorado’s rural electric co-ops are determined to go green', 'author': 'eddytony96', 'score': 87, 'num_comments': 9, 'created_utc': 1746563523.0, 'url': 'https://www.hcn.org/issues/57-5/colorados-rural-electric-co-ops-are-determined-to-go-green/', 'selftext': '', 'subreddit': 'Colorado'}"
        ],
        [
         "19",
         "https://reddit.com/r/Colorado/comments/1kg6uyf/coloradans_just_tore_down_a_bunch_of_barbed_wire/",
         "\n\n===Comments===\n- u/OutdoorLifeMagazine:\n    Old barbed wire fences are a major hindrance, and a leading cause of death, for elk and other wildlife in the West.\n    \n    Conservation groups and critter organizations have long worked to remove these derelict barriers where possible, and the Colorado Department of Transportation is finally playing a role, too. CDOT just issued its first-ever fence removal permit for wildlife in a state-owned right-of-way.\n    \n    Read more here: [https://www.outdoorlife.com/conservation/colorado-highway-fence-removal-for-wildlife/](https://www.outdoorlife.com/conservation/colorado-highway-fence-removal-for-wildlife/)\n    - u/a_cute_epic_axis:\n        I was looking to find out more information about the traffic-vs-animal changes that are an outcome from this, but didn't see any info listed.  Presumably making crossing the roadways more accessible is likely to increase the collision rates between animals and vehicles.  Does this project expect that the mortality rate due to that issue will be less than due to animals getting caught in fences?  Are there plans to put in other types of fencing and protected crossings like those that were created on 9 between I 70 and US 40?\n- u/Siouxsie_Que:\n    This is wonderful news and may it continue!\n- u/skovalen:\n    This one is a little tricky because CO is an open-range state.  Somebody can put livestock (cattle, goats, whatever) on their property and give zero shits if those animals wander onto a highway.  It's CDOT's responsibility to keep the animals off the highway (that is how open-range rules work).\n- u/Here2Go:\n    \"You can never go wrong cuttin' fence.\"\n    \n    - Seldom Seen Smith\n- u/boopdbop:\n    And I'll do it again!!!\n- u/GrantNexus:\n    *animals, not game.\n- u/lwc28:\n    I listened to a Dollop on barbed wire and was shocked\n- u/profuseAmbrosia:\n    We need more of this effort. Stanton State park has put up several fences that hinder wildlife and have caused injuries or death to fawns. Colorado state doesn’t need to fence in the mountains.\n",
         "True",
         null,
         "{'title': 'Coloradans Just Tore Down a Bunch of Barbed Wire Fencing to Help Wild Game', 'author': 'OutdoorLifeMagazine', 'score': 434, 'num_comments': 11, 'created_utc': 1746544123.0, 'url': 'https://www.outdoorlife.com/conservation/colorado-highway-fence-removal-for-wildlife/', 'selftext': '', 'subreddit': 'Colorado'}"
        ],
        [
         "20",
         "https://reddit.com/r/Colorado/comments/1kfwfrk/kyleclark_theres_no_playing_fantasy_papacy_in/",
         "\n\n===Comments===\n- u/TheVoicesOfBrian:\n    Kyle is awesome.\n    - u/Professional-Egg3978:\n        I’m new to Denver so his snark took me by surprise but fuck yea dude, local journalism done by a sassy bitch is legendary (see Phil Williams in Nashville)\n        - u/TheVoicesOfBrian:\n            I worry some larger market is going to lure him away. But he's stated numerous times that he loves Denver and it's where he wants to raise his kids.\n    - u/floog:\n        He is a state treasure.\n- u/Fofolito:\n    If you can bet on who will be President why wouldn't you be able to bet on who will be Pope?\n- u/rkhurley03:\n    Christians clutching their pearls has no business affecting things like this. Other non-sporting events that you can gamble on Polymarket Colorado: Romanian presidency, Ukraine war ceasefire, India military action against Pakistan, Musk’s exit from Tesla. I’m Catholic and all the talk amongst fellow Catholics is who the pope will be with side bets being made. Even Catholics support gambling on the next pope!\n- u/Salmon_Shizzle:\n    Translation - Vegas can’t rig it so poors aren’t allowed to wager\n- u/Suitable-Scholar-778:\n    Bet on everything.\n    - u/kwanijml:\n        [Yes](https://mason.gmu.edu/~rhanson/futarchy.html).\n- u/Noctudeit:\n    State gambling laws are unconstitutional in that it infringes on the right of adults to engage in commerce. Furthermore, they are down right hypocritical in states that have a government sanctioned lottery.\n    - u/CummanderKochenbalz:\n        Okay buddy save it for the town council meeting.\n    - u/ndrew452:\n        Let me guess, when you are on the roads, you are \"traveling\" and not subject to the laws and regulations that govern those roads.\n        - u/Noctudeit:\n            Nope, not a sovereign citizen. Just oppose \"nanny state\" laws. Particularly when those laws exempt the state themselves.\n",
         "True",
         null,
         "{'title': '[KyleClark] There’s no playing fantasy papacy in Colorado. State gambling laws ban betting on who will be the next Pope. Whether you also risk eternal damnation is a bit of a grey area.', 'author': 'Knightbear49', 'score': 246, 'num_comments': 13, 'created_utc': 1746507407.0, 'url': 'https://v.redd.it/xwk05h27f3ze1', 'selftext': '', 'subreddit': 'Colorado'}"
        ],
        [
         "21",
         "https://reddit.com/r/Colorado/comments/1kfoiql/visit_one_of_the_worlds_most_prolific_research/",
         "\n\n===Comments===\n- u/popsci:\n    The Rocky Mountain Biological Laboratory is in one of the most diverse alpine regions in the world, covering multiple ecological biozones within a relatively small geographic area. It’s an ideal location for studying pollination networks due to its wildflower diversity, plus it’s home to the second longest—but the longest continuous—living mammal study in the world, surpassed only by Jane Goodall’s research with chimps. The mammal in question in Colorado, however, is marmots.\n- u/OutdoorCO75:\n    Don’t let Trump find out, he will get rid of it just because it’s science.\n    - u/6BagsOfPopcorn:\n        Pollinators?!? Who needs em!!!\n- u/DanoPinyon:\n    Let's get rrrrready to RMBLlllllllllllllllllll!\n",
         "True",
         null,
         "{'title': 'Visit one of the world’s most prolific research stations in Colorado mountains', 'author': 'popsci', 'score': 89, 'num_comments': 4, 'created_utc': 1746483027.0, 'url': 'https://www.popsci.com/environment/rocky-mountain-biological-laboratory-colorado/', 'selftext': '', 'subreddit': 'Colorado'}"
        ],
        [
         "22",
         "https://reddit.com/r/Colorado/comments/1kfkogb/call_your_senators_and_reps_now_the_draft/",
         "\n\n===Comments===\n- u/oldasshit:\n    This asshole wants to sell off our public lands. Once they are gone, they're never coming back.\n    - u/ciaran668:\n        Worse, I think he wants to sell them to the billionaires, so not only will they never come back, no normal American will ever see them again.\n        - u/oldasshit:\n            Well, yeah.  Who else could afford it?\n            - u/ciaran668:\n                Developers, to turn them into gated communities and ski towns.  Or, if there are exploitable resources, turn them over to industry to be mined, drilled, and lumbered\n                - u/snatchpanda:\n                    Yeah, this is spot on. They’ll either turn them into exclusive company access resorts, or exploit the land to stuff their pockets to the brim for it.\n                - u/lurka_lurka_lurka:\n                    Both, most profitably.\n                    - u/CO420Tech:\n                        Take the lumber, then strip mine it, then pave it and sell it. Cha-ching\n        - u/HurriedLlama:\n            I'm sure the oil workers will enjoy them\n    - u/ShutYourDumbUglyFace:\n        If it's a terrible idea that will make a few people a lot of money, this administration is gonna give it a whirl.\n        - u/oldasshit:\n            He wants to have a Sovereign Wealth Fund that he controls.  Selling public lands is part of what would fund it.\n- u/Regulator_24:\n    You can call. They won't listen. It's time to find a different form of protest\n    - u/murderedcats:\n        France had it right\n        - u/None:\n            [removed]\n            - u/murderedcats:\n                Among other things including but not limited to “general striking”\n                - u/Ok_Historian_6293:\n                    oh yeah, the....50101 protest group mentioned doing something like that. I'm down, we're already not spending as much money in preparation for the economy crashing in a couple weeks so it wouldn't be a hard change lol\n                - u/rtd131:\n                    Nothing will happen until shelves are empty and unemployment starts skyrocketing, which might be sooner rather than later.\n                    - u/murderedcats:\n                        Might as well strike while the iron is hot\n            - u/SuitableStudy3316:\n                Was this removed because they advocated for guillotines?  Because I wanted to upvote that shit.\n                - u/Ok_Historian_6293:\n                    Lighting things on fire but another great example with the guillotine!\n            - u/murderedcats:\n                Oh wow reddit removed this? Wtf\n                - u/Ok_Historian_6293:\n                    Got a warning too! I can see how it could flag a bot though\n    - u/18randomcharacters:\n        The republicans won't budge.\n        \n        The democrats will *probably* already vote against this stuff, but you honestly never know. It's always good to let them know what matters to their voters.\n        - u/Rattus-NorvegicUwUs:\n            By “won’t budge” you mean “won’t represent their constituents”?\n            \n            Sounds like the GOP finally went mask off and revealed it was always about their own power— it was never about you or me.\n            \n            I’m never voting Republican ever again. I was played for a fool, fuck the lot of them.\n            - u/18randomcharacters:\n                Hey, I don’t need to know your voting history, but it sounds like you used to identify as a Republican and you don’t now. And that’s awesome! Keep speaking up, voice is like yours matter.\n    - u/bahnzo:\n        Make American Guillotines Again\n    - u/Caitliente:\n        I’m with you. I’m ready. Viva la revolution. \n- u/flybydenver:\n    Called my Rep. Petterson and both Senators, and urge everyone to do the same. This is an issue all Americans should support - protection and funding of our public lands. It is part of our national legacy and must be ensured for future generations. It is disgusting to think this administration would even consider closing these lands to the public, and opening them to be destroyed and pilfered by private companies through mining and logging.\n    - u/BaaBaaTurtle:\n        I went to Pettersen's Town Hall this past weekend. The issue is - she knows, she's talking about these times being unprecedented, but then her actions are like it's business as usual.\n        \n        Why aren't the Democrats on the house floor (or if they can't do that in the rotunda? Or at a local hotel? Or at the fucking four seasons landscaping for all I care) having round the clock protest speeches? They are the ones with power. Sorry lady I work full time. *This* is *your* full time job. Fucking **DO** something.\n        - u/flybydenver:\n            Inaction is complicity, absolutely right. The idea that democrats are mere controlled opposition at this point is the writing on the wall.\n    - u/oldasshit:\n        It's worse than that.  They want to sell them so Trump can have his slush fund, I mean sovereign wealth fund.\n- u/No-Departure-899:\n    Any sale of National Parks land is illegitimate, and should be treated as such.\n    \n    \n    Trespassing on our land shouldn't be tolerated.\n    - u/FujitsuPolycom:\n        They'll have to run the bulldozer over me\n        - u/RainDownAndDestroyMe:\n            They 100% will.\n            - u/FujitsuPolycom:\n                https://i.gifer.com/6KbZ.gif\n                \n                I'm ready.\n- u/_dirt_vonnegut:\n    \\> A list of targeted national parks will likely not be available until the president’s full budget comes out later this month.\n    \n    Hmm, I wonder if blue states will be prioritized in this targeted list?\n    - u/Ethrem:\n        Well seeing how we already have a sizable wealthy population that likes to visit here, which has caused the people who serve them to have to live in their cars, and also the expectation that our state will fare better than many others with climate change, I would say it's a definite that we are very high up the list of states with park land to be sold.\n        \n        Park land is likely just the start by the way. They are absolutely going to try to seize private land too.\n    - u/LifeisWeird11:\n        I reckon it's oil states... not blue states they're coming after. They're doing that for oil.\n- u/orrocos:\n    The National Parks: America’s Best Idea\n    \n    Re-electing Donald Trump: America’s Worst Idea\n- u/pork_fried_christ:\n    What’s that website for calling congress? 5 calls or something?\n    - u/penguinfox:\n        I just called through 5 calls and it was so easy. Calling after business hours gets you straight to voicemail if you are nervous to talk to someone.\n        - u/pork_fried_christ:\n            It’s just like…goddamn it. The parks? How are the park’s polarizing? Who could possibly support this, and why? \n            \n            Thanks, Rosevelt…\n    - u/prismatic14736251:\n        Yes it’s an app too. 5 calls.\n- u/wonderlandddd:\n    Just a friendly reminder that many of our national parks are also considered sacred land for indigenous tribes. So, they’re not just coming after parks, they’re coming for the very people they tried to genocide too. If natives lose their land, America is fucking lost.\n    - u/sunkenbeetle:\n        Very well put. Thank you for bringing up this issue.\n- u/auntie_clokwise:\n    And here's the wild thing: the National Park Service brings in more than they cost.  Between admission, taxes on revenue generated as a result of tourist activates, and concessions, the NPS pays for itself.  And that's without considering that tourism to those parks supports many jobs outside the parks.  [https://www.frommers.com/trip-ideas/national-park/national-parks-make-more-money-than-they-take-in-taxes/](https://www.frommers.com/trip-ideas/national-park/national-parks-make-more-money-than-they-take-in-taxes/) .  Destroying the NPS will only hurt the budget, not help it.\n    - u/krpaints:\n        National Parks generated $55 billion in revenue last year on a $3.6 billion budget. This is absolutely not about “efficiency”\n- u/repeatablemisery:\n    What good will calling them do? Every time I've done that I get some form of \"this is how I feel so I'll be voting this way.\"\n    - u/cmmurf:\n        Someone listens to your call and summarizes it by ticking a box that says \"protect the parks\" or \"parks can suck my dong\".\n        \n        The tick marks get tallied up, and your Congresscritter is informed anytime there's a large discrepancy between their position and their estimate of what incoming phone calls should be supporting.\n        \n        So it really does matter. Just not in the personalized way you might wish it worked. Therefore, keep your messages short and on point. If you prattle on with a bunch of random disorganized complaints, I suppose around 30 seconds they check a box \"incoherent\" and delete the voicemail and move on.\n- u/Fearless-Rub-cunt:\n    What a mess\n- u/ArtyBerg:\n    The same reps and senators that were completely fine with gutting and stretching CPW?\n    - u/emphasisonass:\n        Sadly, no. Seems all of our state reps are fine with taking money from our parks. Dems for gun classes and Reps because \"small government\". I hate it here sometimes🫠🫠\n        - u/Hypnotoad2966:\n            They took one of the only good things the government has done lately in the park permit program and ruined it.\n    - u/sunkenbeetle:\n        No the ones in DC that want ruin our parks so they can sell them off.\n- u/NMBruceCO:\n    I wish people would wake or learn that he doesn’t care about America\n    - u/BurmecianDancer:\n        People have learned that. Cultists have not.\n        - u/NMBruceCO:\n            personally I am not sure about that, because I dont think it was only the cult people who voted for him\n            - u/RainDownAndDestroyMe:\n                Nearly 90 million Americans that were eligible to vote did not. They're also to blame.\n                - u/NMBruceCO:\n                    agree.\n- u/smgkid12:\n    Don't worry, the pilfering that SB 003 will do to the CPW fund will do that already.\n- u/demonmonkeybex:\n    These motherfuckers…\n- u/lethjakman:\n    Don’t give in. Call your representatives. Protest. Their votes are your votes and they will change if they hear enough voices. This administration thrives when we give up.\n- u/RainDownAndDestroyMe:\n    Orange douchebag already cost me the job I worked my ass off for, and now he's going to destroy our nation's national parks?\n    \n    If only Americans were warned...\n- u/profuseAmbrosia:\n    Support our government and stop democratic wasteful spending. We don’t need to spend our hard earned money going to woke programs and defending illegals nor do we need to pay to enjoy nature. National parks can operate like open space parks. Free to all for all to enjoy. Not just for the rich that can afford it.\n- u/crithema:\n    It's impossible to get into RMNP most of the year, I feel like the park is already gone.\n- u/Old_Union_3208:\n    I’m not in favor of this but the article is misleading. The 2025 NPS budget was $3.6B.\n    A $900M cut would be a 25% cut in funding. Most Federal agencies are being asked to cut 20% in an effort to cut overhead. Perhaps the best we can hope for is regressing to the 20% cut.\n- u/AquafreshBandit:\n    Why would calling matter? Trump sat back and did nothing while a mob was looking for his own Vice President. And people voted for him anyway. He’s far more of a threat to members of Congress if they don’t do what he wants.\n- u/Mysterious-Entry-357:\n    Except Everglades NP.  They can close that one.  Gators, crocs, snakes, panthers, and a dozen other creatures that want to eat you.  Never been so happy to pack up and go home.\n",
         "True",
         null,
         "{'title': \"Call your Senators and Reps now. The draft republican budget will kill Colorado's National Parks\", 'author': 'sunkenbeetle', 'score': 978, 'num_comments': 73, 'created_utc': 1746473666.0, 'url': 'https://www.npca.org/articles/8495-president-trump-s-proposed-budget-could-decimate-at-least-350-national-park', 'selftext': '', 'subreddit': 'Colorado'}"
        ],
        [
         "23",
         "https://reddit.com/r/Colorado/comments/1kfilaz/ski_train_to_steamboat_looking_likely_under_new/",
         "\n\n===Comments===\n- u/JeffInBoulder:\n    Lots more good info here:\n    \n    https://www.colorail.org/colorado-rail-passenger-news/joint-service-study-demonstrates-hope-for-passenger-rail\n    \n    Tl/dr; the state is planning to move ahead with multiple passenger rail projects, feds be damned.\n    - u/piggy2380:\n        Trying not to let perfect be the enemy of good, and I’ll take whatever I can get here in this current climate, but I’m a bit worried about the “limited service” for FRPR of 3 RTs per day. I understand the need to get something done to instill confidence and I hope it works out, but I don’t think even 5 RTs would be enough service to be all that useful to most people. I can already see the amoebas coming out of the woodwork saying “the 3 RTs aren’t even full, why would we increase to 5 or 10??” and it getting stuck in low-service purgatory forever.\n        \n        At an absolute minimum, I think we need 6 RTs per day in addition to a night train (after midnight) for any serious ridership to build up. And it really shouldn’t be all that much more money than the limited service plan ideally (but of course, negotiating with freight companies will be a nightmare I’m sure).\n        - u/Fuckyourday:\n            A sleeper train to Steamboat would be pretty cool. Go to sleep on the train in Denver, wake up in Steamboat as the sun rises. It's like you teleported there.  \n              \n            Not sure if it would take long enough to get a proper sleep, that would be my only concern. I assume it would be similar to the train to Glenwood which takes 6 hours. They'll share the same track until Bond where the new train will split off to head to Steamboat.\n            - u/piggy2380:\n                That would be cool. To be clear though, I’m mostly talking about the FRPR from Fort Collins to Denver. I think a Steamboat train would be as wildly successful as the Winter Park train has been no matter what, even at 1 RT per day, since it would be mainly used for ski commuting and not day-to-day transit\n                - u/Fuckyourday:\n                    Oh I see, gotcha. Yeah I agree with your points about FRPR. That train is honestly much more important as it connects the majority of the state's population, it should be done right. Seems like lack of federal funding due to the current government is an issue. What would be the purpose of the night train?  \n                      \n                    However, I have a feeling even with 3 RT per day it will be packed, I think there is a serious demand for good intercity transit here. Just look at the success of Bustang. And that's with slow mixed traffic buses. I just hope it's reliable and isn't plagued by delays related to freight traffic.\n                    - u/piggy2380:\n                        A night train would be for people traveling to Denver for events like sports, concerts, shows, etc to be able to get back without paying for a hotel. Lack of night service is also probably the one thing holding Bustang back from being a truly useful service, because it doesn’t capture that demographic of people at are who are a large contingent of commuters. \n                        \n                        Only being useful to 9-5 commuters is a trap a lot of transit projects fall into even though that’s a quickly shrinking portion of people. It should be useful for anyone who wants to go back and forth from Denver for any reason at any time, otherwise they’ll just drive. IMO level of service is a more important thing than travel time - I can sit for 2 hours on a train even though driving would be 1 hour, but if I want to dip down to Denver for a nice dinner but the last train leaves at 7pm and I’d either have to eat at 5 or get a hotel, I’ll just drive.\n                        - u/Fuckyourday:\n                            Good points\n        - u/brinerbear:\n            I think they should do it but with limited service you probably have to spend the night at a hotel.\n            - u/piggy2380:\n                Yeah I agree they should still do it if it’s a choice between limited service or nothing at all. But yeah, if I’m going down for a show or a dinner and it’s a choice between spending another $200 on a hotel or driving, even someone who loves trains like me and hates cars is probably going to drive.\n                - u/brinerbear:\n                    But in some areas I am really disappointed with the lack of hotels.\n    - u/TechGuruGJ:\n        Hell yes! Feds be motherfuckin damned!\n    - u/brinerbear:\n        As they should.\n- u/rtd131:\n    This is awesome news. \n    \n    It would be great if they could make the Rollinsville stop happen. They could easily add a through bus service to Blackhawk/Central City and to Eldora.\n    - u/RatherBeInThePond:\n        Makes no sense not to put a stop there for that very reason. Could also be great for Rollinsville. I have been hoping that they would do something like this since the project was announced. I live outside Boulder, so driving the hour to this spot is preferable to me than riding the train that time between Denver and Rollinsville, while also having to drive back the 25. I could only assume that would be the same story for many of us in this region.\n        - u/rtd131:\n            Yep! \n            \n            They could call it Blackhawk/Eldora, something like that and get a ton of riders year round. It's only a 10 minute drive to Eldora and 20 minutes to Blackhawk. Honestly wouldn't save a ton of time for most people but would get a ton of riders, and cut down on traffic/drunk driving down from Blackhawk.\n            - u/JeffInBoulder:\n                It would work in the other direction also... could drive from Boulder to Rollinsville and park there for a quick hop through the Moffat to WP.  If they put a stop on 93 its less important, but until that happens it's about the same drive to Union Station but a much shorter train ride and no need to deal with parking downtown.\n            - u/RatherBeInThePond:\n                It would be easy for Blackhawk when they already have those shuttles running all the time between the casinos, just divert one to and from the train a couple times a day and you are good.\n        - u/Fuckyourday:\n            This could also be great for commuting workers of Winter park, who could live in Rollinsville or nearby Nederland and have short train commute rather than a 90+ minute drive. That could really revitalize Rollinsville, adding some new housing/apartments/businesses on its historic main street which looks like a shell of what it once was when trains stopped there.  \n              \n            Could also be cool to have additional transit-accessible hike/bike/backpacking options from Denver. And if it had a timed shuttle to Eldora I'd totally use that for downhill and cross country skiing from Denver without needing to drive.\n- u/grant_w44:\n    Trains :)\n- u/bpwelcome7:\n    This is so fucking cool! I hope it's a huge success and the I-70 corridor takes note.\n    - u/bluecifer7:\n        This is being done because these rails already exist. Putting rail along the I70 corridor is ridiculously expensive and not happening this century. A BRT would be a better solution for that at this point\n        - u/grant_w44:\n            You mean a dedicated bus lane?\n            - u/bluecifer7:\n                Yep, a lane that is bus only, no other traffic - ideally completely blocked from the road so dumbasses can't break the law and get in it to crash. It's the same principle as the Colfax BRT\n            - u/rtd131:\n                The express lane should be bus only\n        - u/rtd131:\n            Technically they could run a train through Moffat tunnel down to Eagle on existing tracks. \n            \n            It would be ~5 hours to get up there but I could see a weekend service working. Better to spend 5 hours on the train with comfy seats and a bar than 5 hours in traffic.\n        - u/TechGuruGJ:\n            BRT would undoubtedly be great but would that really solve the main congestion issues of I-70, which is largely poor weather and environmental impact?\n            - u/bluecifer7:\n                Congestion on I70 is regularly not poor weather, it’s far too many people attempting to drive all at once in poor weather. Imagine I70 but every skier in west Denver/Lakewood/Golden and tourists coming from the airport are on a BRT. (Assuming it follows the Bustang route) That’s a HUGE amount of cars no longer on the road \n- u/wildtech:\n    The plan is to restore rail service all the way to Craig. With an ever increasing workforce for Steamboat located in Craig, this would be a godsend. It would also restore the passenger rail service that ended in 1968.\n- u/NonPartisanFinance:\n    Be in private (like in Florida) or public the market is absolutely there for passenger rail. Wish it was high speed like in Florida, but I am absolutely not complaining! \n    \n    Maybe a little because I loved the old small town of steamboat and this will increase traffic to the old ranch town. A worthy sacrifice I guess.\n- u/DavidThi303:\n    They need to add the ability to have it also take your car. So you have transportation to get around in Steamboat.\n",
         "True",
         null,
         "{'title': 'Ski train to Steamboat looking likely under new mountain railroad agreement. Gov. Jared Polis announced Colorado’s new deal with Union Pacific, calling for three passenger trips per day on mountain rail', 'author': 'Knightbear49', 'score': 367, 'num_comments': 33, 'created_utc': 1746468723.0, 'url': 'https://coloradosun.com/2025/05/05/mountain-railway-ski-train/', 'selftext': '', 'subreddit': 'Colorado'}"
        ],
        [
         "24",
         "https://reddit.com/r/Colorado/comments/1kfglll/ag_phil_weiser_interview/",
         "\n\n===Comments===\n- u/Imoutdawgs:\n    Dude is such a nerd and intellectual, I can’t believe he actually wants to be a politician — or that we could potentially elect a decades-long practicing attorney who’s actively standing up to the fed gov.\n    \n    Doesn’t he know that the main qualifications for our politicians these days are …. checks notes… vibes or other random political positions? /s\n    - u/Snlxdd:\n        >> other random political positions\n        \n        I mean yeah, in general political positions prepare you to better serve in other political positions. Especially leadership positions vs representative ones.\n",
         "True",
         null,
         "{'title': 'AG Phil Weiser Interview', 'author': 'DavidThi303', 'score': 23, 'num_comments': 2, 'created_utc': 1746464054.0, 'url': 'https://liberalandlovingit.substack.com/p/ag-phil-weiser-interview', 'selftext': '', 'subreddit': 'Colorado'}"
        ],
        [
         "25",
         "https://reddit.com/r/Colorado/comments/1kffkqf/moose_spotted_at_the_rio_grande_farm_park_in/",
         "\n\n===Comments===\n- u/rly_eggybads:\n    Alamoosa\n    - u/the-meat-wagon:\n        Mosa meese!\n        - u/PeetusTheFeetus:\n            Yoosa Meesa Jar Jar Binksa!\n- u/Waltzing_With_Bears:\n    Cool, didn't know they were in the valley\n    - u/I_FUCKING_LOVE_MILK:\n        It's not usual, this moose is making quite a buzz in SLV Facebook groups\n    - u/zepol61:\n        It’s rare to see a moose in town\n- u/Fireandmoonlight:\n    Apparently Moose tend to wander quite a bit from their Willow stream habitat. I once saw a cow Moose and two calves in Irish canyon in the NW corner of Colorado running around in the Pinon/Juniper woods.\n- u/DanoPinyon:\n    We miss you Mikko!\n- u/makeyourownroute:\n    I was told one was in Fairplay.\n- u/TransitJohn:\n    The person responsible for the moose at the Rio Grande Farm Park has been sacked.\n",
         "True",
         null,
         "{'title': 'Moose spotted at the Rio Grande Farm Park in Alamosa', 'author': 'zepol61', 'score': 159, 'num_comments': 11, 'created_utc': 1746461596.0, 'url': 'https://i.redd.it/5xj87kezmzye1.jpeg', 'selftext': '', 'subreddit': 'Colorado'}"
        ],
        [
         "26",
         "https://reddit.com/r/Colorado/comments/1kfdqmw/the_milky_way_over_the_pawnee_buttes_in_eastern/",
         "\n\n===Comments===\n- u/commiedeschris:\n    Sick shot!\n    - u/hackeradam17:\n        Thanks!\n- u/hackeradam17:\n    I took this photo of the Milky Way over the West Pawnee Butte in Eastern Colorado a couple of months ago. If you'd like to see more of my work, check out my IG @ serialphotog\n- u/raykdenver:\n    Great shot!\n    - u/hackeradam17:\n        Thanks!\n- u/None:\n    [deleted]\n    - u/commiedeschris:\n        There’s still a nest, but last year part of my job was to monitor the Eagle nests out there and didn’t see anything. But the prairie falcon nests are still active! I’m glad they close the trails out there even if it can be inconvenient for a few months 😂\n        - u/None:\n            [deleted]\n            - u/commiedeschris:\n                It’s a great place! I’m not sure if they have volunteers out there but I worked for CPW!\n    - u/hackeradam17:\n        Yeah, the trail that goes through that area was closed when I shot this.\n- u/becuzshesaidso:\n    Beautiful! 💙\n    - u/hackeradam17:\n        Thank you! :)\n- u/CoconutQueen327:\n    Can you hike to the butte itself?\n    - u/hackeradam17:\n        The trail goes to the base of it. I don't believe you're able to go to the top.\n",
         "True",
         null,
         "{'title': 'The Milky Way over the Pawnee Buttes in Eastern Colorado', 'author': 'hackeradam17', 'score': 380, 'num_comments': 12, 'created_utc': 1746457206.0, 'url': 'https://i.redd.it/mfyrc8eu9zye1.jpeg', 'selftext': '', 'subreddit': 'Colorado'}"
        ],
        [
         "27",
         "https://reddit.com/r/Colorado/comments/1kfdjmr/inside_the_denver_warehouse_filled_with_illegal/",
         "\n\n===Comments===\n- u/Excited_Biologist:\n    Why wouldn’t they destroy the items?\n",
         "True",
         null,
         "{'title': 'Inside the Denver warehouse filled with illegal wildlife products', 'author': 'friendinfremont', 'score': 49, 'num_comments': 1, 'created_utc': 1746456718.0, 'url': 'https://www.rmpbs.org/blogs/science-environment/animal-trafficking-denver-warehouse/', 'selftext': '', 'subreddit': 'Colorado'}"
        ],
        [
         "28",
         "https://reddit.com/r/boulder/comments/1kkh0ob/lost_in_boulder_but_she_may_have_been_seen_in_erie/",
         "Lost in Boulder but she may have been seen in Erie.  \n\n===Comments===\n- u/AlonsoFerrari8:\n    Which neighborhood? I feel like I've seen this dog before\n    - u/AdAdventurous7920:\n        Are you asking about Boulder or Erie? \n        Someone posted that they saw a post where someone said they saw her in Erie yesterday. I’m trying to track down who that person is so I can get more information.\n        - u/AlonsoFerrari8:\n            Boulder. A house nearby has a one-eyed tan dog that looks close enough to this so I'm not sure if it's the same one.\n    - u/Adventurous_Biscuit:\n        Winding trails Rd and 28th. She could have made it miles away by now though\n- u/AdAdventurous7920:\n    She was lost in North Boulder. The owner lives in a condo.\n",
         "True",
         null,
         "{'title': 'Lost in Boulder but she may have been seen in Erie.', 'author': 'AdAdventurous7920', 'score': 30, 'num_comments': 5, 'created_utc': 1747014489.0, 'url': 'https://www.reddit.com/gallery/1kkh0ob', 'selftext': 'Lost in Boulder but she may have been seen in Erie.  ', 'subreddit': 'boulder'}"
        ],
        [
         "29",
         "https://reddit.com/r/boulder/comments/1kkf64w/cant_believe_the_city_is_allowing_this_last_bit/",
         "\n\n===Comments===\n- u/RyanfuckinLSD:\n    I thought this was Minecraft for a second\n    - u/crmclv:\n        I’m clearing this space for my dirt hut.\n        - u/Owlthirtynow:\n             Ish raft there.\n- u/Esmond97:\n    We need it so you can do a trick over the curb thing and then a trick down the 9 stair.\n- u/JeffInBoulder:\n    My understanding is that the opposition mostly consisted of people in the Arette who didn't want to lose their views (but knew they were not protected when they bought in).  Won't someone think of the poor multi-millionaires?\n- u/letintin:\n    To be serious, that space was supposed to include a public benefit, and now...won't?\n    - u/Owlthirtynow:\n        Out has been so many years since that vacant space has been there.\n- u/Nonamenoname2025:\n    Downtowns are generally developed.  Open space would be undeveloped.\n- u/Meetybeefy:\n    Open asphalt is beautiful and worth preserving because you can see the mountains clearly without crowding our roads with traffic from empty luxury apartments that nobody can afford.\n- u/alienfreak51:\n    When I go on long walks around town that was a nice place to take a break, sit on a bench, and revel in the flatirons view.  Guess that ship is sailing.  Too bad. Despite the concrete it’s been a nice spot to chill.\n- u/Marlow714:\n    Boulder needs to up zone all the areas around Pearl St. and The Hill area.\n- u/Empty_Run_6546:\n    Where is this?\n    - u/mister-noggin:\n        Looks like it’s the pad behind the Saint Julien. \n        - u/Empty_Run_6546:\n            Thanks.  I could not place it at first\n- u/JenTilz:\n    It’s the spot by the St Julian behind the sign which says “no parking beyond this point”: where random cars end up parking.  This pic is taken really close to the elevator that goes down to the public parking garage.  \n    \n    Side note - avoid that elevator at all costs for a while.  It was used as a public toilet and was gag inducing earlier this week.\n- u/StoneyMcTerpface:\n    *\"The city's Ninth and Canyon Urban Renewal Plan, first adopted in 1988 and later updated, envisioned the land being developed in a way that allowed at least 20% of the gross developed area to be set aside for civic uses.\"*\n    \n    [https://bouldernews.us/2024/04/29/proposed-st-julien-expansion-sparks-backlash-in-boulder/](https://bouldernews.us/2024/04/29/proposed-st-julien-expansion-sparks-backlash-in-boulder/)\n    \n      \n    Opinion: Millionaires for Concrete Pads\n    \n    *\"A new group,* [*Protect Boulder Civic Space*](https://protectbouldercivicspace.com/join-our-coalition/) *(PBCS) group, has sprung up to oppose development of the 11,000-square-foot Civic Use Pad attached to the St Julien Hotel.\"*  \n      \n    [https://boulderweekly.com/opinion/millionaires-for-vacant-concrete-pads/](https://boulderweekly.com/opinion/millionaires-for-vacant-concrete-pads/)\n    \n      \n    and...\n    \n    *\"There have been other past attempts to develop the civic use pad, but they were unsuccessful for various reasons. At one point, there were plans to build a 55-foot-tall children’s museum and community dance facility, but those plans fell through “due to financial challenges,” according to a city memo. The city has also tried to get civic users to use the site, but none of those attempts resulted in a development that fit the urban renewal plan requirements.*\n    \n    *The site requirements have made it challenging to use and develop. The size of the site made building there unaffordable for many would-be developers. In 2019, after the site had sat vacant for nearly two decades, the city decided to loosen some requirements of the urban renewal plan and forge a public-private partnership with the St. Julien to get the site developed.\"*\n    \n    [https://www.dailycamera.com/2024/10/23/boulder-planning-board-says-yes-to-st-julien-hotel-expansion/](https://www.dailycamera.com/2024/10/23/boulder-planning-board-says-yes-to-st-julien-hotel-expansion/)\n- u/Effectuation:\n    😂\n",
         "True",
         null,
         "{'title': \"Can't believe the city is allowing this last bit of untouched wilderness downtown to be developed!\", 'author': 'pacard', 'score': 20, 'num_comments': 17, 'created_utc': 1747008532.0, 'url': 'https://i.redd.it/gi49m62bt80f1.jpeg', 'selftext': '', 'subreddit': 'boulder'}"
        ],
        [
         "30",
         "https://reddit.com/r/boulder/comments/1kkeg88/cat_vet_vca_pets_on_broadway/",
         "I had been taking my cats to Dr. Porter at VCA Manhattan for years.  When VCA closed the Manhattan location and moved over to a new location on Broadway, Dr. Porter left the practice and now works in Denver.  My cats will have a meltdown if I have to drive them to Denver to go to the vet.  Does anyone have a rec between the vets at the VCA Broadway location?\n\n===Comments===\n",
         "True",
         null,
         "{'title': 'Cat vet - VCA pets on Broadway?', 'author': 'Ok_Mulberry5820', 'score': 2, 'num_comments': 0, 'created_utc': 1747006323.0, 'url': 'https://www.reddit.com/r/boulder/comments/1kkeg88/cat_vet_vca_pets_on_broadway/', 'selftext': 'I had been taking my cats to Dr. Porter at VCA Manhattan for years.  When VCA closed the Manhattan location and moved over to a new location on Broadway, Dr. Porter left the practice and now works in Denver.  My cats will have a meltdown if I have to drive them to Denver to go to the vet.  Does anyone have a rec between the vets at the VCA Broadway location?', 'subreddit': 'boulder'}"
        ],
        [
         "31",
         "https://reddit.com/r/boulder/comments/1kkdrgj/need_to_hire_an_artist_to_build_a_ufo_for_an/",
         "Title says it all. \n\nI’m throwing an alien themed party later this summer and want to have a crashed UFO that lights up green in my backyard. Something semi-realistic - nothing janky!! I think partygoers will love it 👽🟩. Leave comments or PM me. \n\n===Comments===\n- u/MrGraaavy:\n    What’s your budget?\n    \n    And size?\n    - u/CeruleanFruitSnax:\n        Also interested in these answers.\n- u/cauloccoli:\n    Maybe hit up (or advertise at) the makerspaces at the main and NoBo libraries? Lots of crafty, creative types there.\n- u/Flatironic:\n    Go talk to the aliens, I'm sure they can spare you an old beater saucer.\n- u/mediarevolver:\n    Ask NASA for a loaner.\n- u/allison_inwonderland:\n    https://preview.redd.it/yr9il2jzj90f1.jpeg?width=3024&format=pjpg&auto=webp&s=aae795280bc36052f02485534b398c7ade455f69\n    \n    Mike has a lot of alien inspired stuff!\n- u/UnitLost6398:\n    How big we talking?\n",
         "True",
         null,
         "{'title': 'Need to hire an artist to build a UFO for an alien summer party', 'author': 'SlightStock164', 'score': 3, 'num_comments': 7, 'created_utc': 1747004267.0, 'url': 'https://www.reddit.com/r/boulder/comments/1kkdrgj/need_to_hire_an_artist_to_build_a_ufo_for_an/', 'selftext': 'Title says it all. \\n\\nI’m throwing an alien themed party later this summer and want to have a crashed UFO that lights up green in my backyard. Something semi-realistic - nothing janky!! I think partygoers will love it 👽🟩. Leave comments or PM me. ', 'subreddit': 'boulder'}"
        ],
        [
         "32",
         "https://reddit.com/r/boulder/comments/1kkd4fa/gun_stores_that_sell_12ga_blanks/",
         "I got me an antique diesel engine I need to start. Where can I find 12ga blanks\n\n===Comments===\n- u/MrTumnus99:\n    Can you elaborate on the automotive repair?  Seems interesting\n    \n    **Edit** I looked it up myself.  https://youtu.be/rsrQJELitxQ?si=xlHH6xTLtHZrWmUl\n    - u/aydengryphon:\n        You need the appropriate threat for the diesel engine to know you mean business, it's a \"it won't run for you if it doesn't respect you\" kind of deal\n        - u/MrTumnus99:\n            Sounds like something a bird brain would say :)\n            - u/aydengryphon:\n                🫡 I do my best\n    - u/fit-toker:\n        The 12 gauge shell actually starts the engine.\n        - u/MrTumnus99:\n            Well that part was clear from the post.  I was hoping for details.\n- u/mlginsbe:\n    Gunsport on 14th and Arapahoe or Bison Tactical on Broadway by Spruce might be able to help..\n- u/pr1ntf:\n    I'd also check r/COGuns, someone there might know.\n",
         "True",
         null,
         "{'title': 'Gun stores that sell 12ga blanks?', 'author': 'Slurp_Terper', 'score': 7, 'num_comments': 8, 'created_utc': 1747002356.0, 'url': 'https://www.reddit.com/r/boulder/comments/1kkd4fa/gun_stores_that_sell_12ga_blanks/', 'selftext': 'I got me an antique diesel engine I need to start. Where can I find 12ga blanks', 'subreddit': 'boulder'}"
        ],
        [
         "33",
         "https://reddit.com/r/boulder/comments/1kkcy2f/boulders_best_veggie_sandwich/",
         "hi all:) i’m on a mission to find boulder’s best vegetarian sandwich, please drop your recs in the comments.\n\ncriteria being considered -\nbread: please god let it be crunchy\nsprouts: are there?\navocado: see sprouts^\ntomatoes: juicy?\nprice: reasonable?\n\n\n\n===Comments===\n- u/adboy15:\n    My faves: \n    Snarfs: Vegetarian, Eggplant Parm, Egg salad and American cheese if you eat eggs. \n    Le Frigo: Caprese (may have a different name but that’s basically that it is)\n    Mustards: Tofu Reuben with fries.\n    - u/dingdonglicker:\n        Seconding for anything from le frigo\n- u/MrGraaavy:\n    Snarf’s Feta and Artichoke is great if you want something greasy\n    - u/Cemckenna:\n        I’m not even vegetarian and I have loved this sandwich since I first had it in ‘99\n- u/Cineswimmer:\n    The Beetnik from Organic Sandwich Company is pretty addicting for me.\n- u/modernmanshustl:\n    I like the Tempeh Reuben at Mountain Sun and\n    High country had a lions mane mushroom sandwich that was great but it doesn’t appear to be on their menu anymore\n- u/aydengryphon:\n    - [Half Fast Subs's](https://halffastsubs.com/boulder-menu/) vegetarian offerings are unbelievably numerous and delicious. Might be top of my list just for how many of them there are (like a dozen dedicated veggie ones??), and how many I love. Their BBQ tempeh, eggplant parm, and the one just called \"the veggie\" are my fave faves, but honestly I've never had any of them I dislike. \n    \n    - [Cheba Hut's](https://chebahut.com/menu/) veggie section is likewise very good. They've got your crunchy bread on lock. I like the Magic Mushroom a ton, and the Griefo as a mood-based alternative. If you have the choice, IMO their Longmont location is much better than the Boulder branch, but nbd if that's too far out of your way. \n    \n    - [Southern Sun's](https://www.mountainsunpub.com/menu-southern-sun-pub-and-brewery/#sandwiches-copy-1) Boom Boom sandwich is pretty lit, though not nearly as beefy (haha) as the other entries on this list\n    \n    - Scrooge Bahn Mi's tofu version was pretty great, and veggie-friendly Bahn Mi that's also authentic isn't an option you see in our area often\n    \n    - [Zodiac Subs](https://www.zodiacsubs.com/ordering/restaurant/menu?restaurant_uid=4822e69f-eff5-41d7-8753-dac8497f1a77&client_is_mobile=true) has a couple quality veggie choices; \"the perfectionist\" is a fave.\n    \n    - The Veggie Melt from [Potbelly](https://www.potbelly.com/menu/sandwiches) scratches a very specific itch. I'd never choose it over Half-Fast's hot sandwiches, but idk, sometimes you're just already at 29th street or don't have time to wait for HF\n    \n    - And lastly, for price point alone, don't sleep on the Sprouts deli counter. You can BYO for $5.99, a price point you can't find *anywhere* anymore in this economy, and since they feel bad that it's veggie they load that thing TF UP with whatever you want added to it, and IME rarely charge for some of the items that would otherwise be add-ons that cost extra (like the olive tapanade... mmmmmm). The sourdough is the biggest sandwich bread.\n    - u/StoneyMcTerpface:\n        I went to Cheba Hut (in Longmont) today for the first time in probably 15 years and had the the \"Power Plant\" hummus/avocado sub and it was really good. I will definitely be back.\n        - u/aydengryphon:\n            The Longmont Cheba Hut in particular is, for some reason, an extremely extra-good iteration of the chain lol.  That sub is delicious too, I've had that one!\n- u/Thenikkibirdy:\n    I agree with most of the recs above but I wanted to add one that wasn’t mentioned: Naked Lunch has this Brie and Apple sammy with honey mustard and greens that was so good!\n- u/More_Tale5951:\n    Best veggie sandwich used to be at Mountain Sun but sadly it’s no longer on the menu.\n- u/flovarian:\n    Had a good grilled veggie sandwich from Curtis Park on 30th a while ago, and am a fan of the Boom Boom sandwich and the tempeh Reuben at Mountain/Southern Sun Pubs. Moe’s Bagels might be a good option, too.\n- u/LoveWitch3:\n    Cheba hut\n- u/HuaMana:\n    Tofu bahn mi at Scrooge Bahn Mi!!\n- u/Complete-Rock-1426:\n    Dish\n",
         "True",
         null,
         "{'title': 'boulder’s best veggie sandwich', 'author': 'firbolg72', 'score': 5, 'num_comments': 15, 'created_utc': 1747001844.0, 'url': 'https://www.reddit.com/r/boulder/comments/1kkcy2f/boulders_best_veggie_sandwich/', 'selftext': 'hi all:) i’m on a mission to find boulder’s best vegetarian sandwich, please drop your recs in the comments.\\n\\ncriteria being considered -\\nbread: please god let it be crunchy\\nsprouts: are there?\\navocado: see sprouts^\\ntomatoes: juicy?\\nprice: reasonable?\\n\\n', 'subreddit': 'boulder'}"
        ],
        [
         "34",
         "https://reddit.com/r/boulder/comments/1kkadh1/lost_passport/",
         "Was at Press Play, in an Uber, on the hill. First name Lauren. \n\nMaybe someone has found it? Hopefully? Flight leaving in 5 hours...\n\n===Comments===\n- u/tossaway78701:\n    Try the Boulder police. Most people turn those things in. \n- u/Sammy81:\n    Are you flying domestically? You don’t need ID to fly domestically:\n    \n    # Don’t Have Your Acceptable ID?\n    \n    The TSA officer may ask you to complete an identity verification process which includes collecting information such as your name and current address to confirm your identity. If your identity is confirmed, you will be allowed to enter the screening checkpoint, where you may be subject to additional screening.\n    \n    You will not be allowed to enter the security checkpoint if you choose to not provide acceptable identification, you decline to cooperate with the identity verification process, or your identity cannot be confirmed.\n    - u/another_wrathpanda:\n        You are right, came early, it seems to take about an hour.\n- u/Slurp_Terper:\n    I can make you a “replica” in under 2 hours. I’ve used mine all over the world like in China and in Spain and I’ve never had any issues \n    - u/p0Nd3R1Ng_hYp0Th3s1s:\n        lol\n    - u/sparkbench:\n        Congratulations! You have come up with today's worst idea in the world.\n        - u/Slurp_Terper:\n            Your mother 🫵\n    - u/Bigmtnskier91:\n        Sounds like something Uncle Rico would say \n",
         "True",
         null,
         "{'title': 'Lost Passport?', 'author': 'another_wrathpanda', 'score': 23, 'num_comments': 8, 'created_utc': 1746994919.0, 'url': 'https://www.reddit.com/r/boulder/comments/1kkadh1/lost_passport/', 'selftext': 'Was at Press Play, in an Uber, on the hill. First name Lauren. \\n\\nMaybe someone has found it? Hopefully? Flight leaving in 5 hours...', 'subreddit': 'boulder'}"
        ],
        [
         "35",
         "https://reddit.com/r/boulder/comments/1kka2hl/summer_csa_rec/",
         "Looking for recs for a summer CSA, ideally with a pick up location in south or central Boulder. Thanks! \n\n===Comments===\n- u/CautiousTangerine617:\n    I've been happy with Red Wagon the past two years. I did Aspen Moon a couple of years ago, and it was good too. Curious to hear about others' recommendations. \n    - u/5400feetup:\n        Ive tried a few over the years but Red Wagon has the best quality and variety.\n",
         "True",
         null,
         "{'title': 'Summer CSA rec', 'author': 'Positive-Service6248', 'score': 6, 'num_comments': 2, 'created_utc': 1746994123.0, 'url': 'https://www.reddit.com/r/boulder/comments/1kka2hl/summer_csa_rec/', 'selftext': 'Looking for recs for a summer CSA, ideally with a pick up location in south or central Boulder. Thanks! ', 'subreddit': 'boulder'}"
        ],
        [
         "36",
         "https://reddit.com/r/boulder/comments/1kk8h7h/stolen_bike/",
         "This bike was stolen from in front of my apartment, the Lodge on Aurora, cut my lock and everything. Piece of crap bike largely- no clue why they stole it, but has a lot of sentimental value. Lmk if seen! Need a way to get around, and am really sad it's gone.\n\n===Comments===\n- u/flabbybill:\n    Just out of curiosity -- it was stored outside?\n    - u/A_Squirrel69:\n        Yeah, locked on the bike racks\n",
         "True",
         null,
         "{'title': 'Stolen bike', 'author': 'A_Squirrel69', 'score': 15, 'num_comments': 2, 'created_utc': 1746990003.0, 'url': 'https://i.redd.it/60fhbhn7a70f1.jpeg', 'selftext': \"This bike was stolen from in front of my apartment, the Lodge on Aurora, cut my lock and everything. Piece of crap bike largely- no clue why they stole it, but has a lot of sentimental value. Lmk if seen! Need a way to get around, and am really sad it's gone.\", 'subreddit': 'boulder'}"
        ],
        [
         "37",
         "https://reddit.com/r/boulder/comments/1kk7bll/scrooge_banh_mi/",
         "Tried the new banh mi place on the hill today and really enjoyed it. Very reasonable priced, the meat was flavorful and the bread was perfect. One of the few places I've had here that doesn't disappoint.\n\nI will definitely be going back.\n\n===Comments===\n- u/OwynnKO:\n    I really need to try the place out after reading about it so much lol Haven’t had Banh Mi in God knows how long at this point, and my partner has never even had it before! Insanity. \n    - u/smokey_lonesome:\n        And they are currently buy 2 get 1 free!! They are out of chicken today but still had pork, beef and tofu\n        - u/OwynnKO:\n            And of course I’m not in Boulder today 😭 I’ll have to keep this in mind when I’m next there for any deals that pop up. \n- u/Grabben123:\n    I’ve been twice in the last week! Really good fresh home made ingredients and pretty darn affordable. And the staff is super nice.\n- u/SpaceKiohtee:\n    Went one of the first days they opened, their tofu is good as well!\n- u/OminousHum:\n    I went after it came up on here last time.  I ordered online on my way there, but apparently there was a rush that day and he was out of one of the ingredients.  He refunded everything and made me an imperfect sandwich anyway.  It was still pretty great.\n",
         "True",
         null,
         "{'title': 'Scrooge banh mi', 'author': 'smokey_lonesome', 'score': 33, 'num_comments': 6, 'created_utc': 1746986981.0, 'url': 'https://www.reddit.com/r/boulder/comments/1kk7bll/scrooge_banh_mi/', 'selftext': \"Tried the new banh mi place on the hill today and really enjoyed it. Very reasonable priced, the meat was flavorful and the bread was perfect. One of the few places I've had here that doesn't disappoint.\\n\\nI will definitely be going back.\", 'subreddit': 'boulder'}"
        ],
        [
         "38",
         "https://reddit.com/r/boulder/comments/1kk5q3b/this_guy_was_bouncing_around_for_an_hour_or_more/",
         "\n\n===Comments===\n- u/EDMSauce_Erik:\n    It’s an expensive sport because of the price of gear and the initial intro course. It’ll be around $5-$6K to get started. We take off primarily from Community Foothills Park in Boulder, but Golden also has a launch for much more advanced pilots. The launch in Boulder is like 800ft up the ridge, and you run down the slope on the ridge until the wing is over your head and you can lift off from the side of the hill. \n    \n    Then you have to catch upward air drafts called thermals to be able to fly from North Boulder to Golden or really anywhere else. \n    \n    Incredibly fun sport, and does have a high barrier to entry but once your gear is bought and you’ve learned - it’s totally free. I highly recommend it, but make sure to take your time with the sport. It’s statistically no more dangerous than Mountain Biking but can get insanely dangerous if you don’t go at your own pace and listen to your instructors. \n    \n    I recommend Boulder Free Flight or Red Tail to learn in Boulder.\n    - u/Antique-Belt1204:\n        ^ this guy knows.  Take a tandem with one of the local operations, and if you enjoy it, reach out to the teachers in town and see who you connect with. Proper paragliding requires proper mentorship.\n    - u/RowenaOblongata:\n        Add to those figures... $450K to cover your medical bills and rehab when you crash and have a TBI.\n        - u/EDMSauce_Erik:\n            Same can be said with any extreme sport. As I said, paragliding is no more dangerous than mountain biking. Just because something you don’t understand intimidates you, doesn’t mean you have to be a voice attempting to intimidate others. The sport is as safe as you want to make it.\n            - u/Sad_Expression_8779:\n                I know some folks who paraglide so I’m not shitting on the sport here, but I don’t think it’s true that the risk profile is the same as mountain biking. If you get injured paragliding the risk of the injury being catastrophic is high. If you get injured mountain biking you’re most likely looking at arm/hand/clavicle breaks.\n                - u/EDMSauce_Erik:\n                    Completely disagree, though I understand why you think that not doing the sport yourself. The VAST majority of accidents in paragliding occur when taking off or landing like over 90%. Usually broken bones or muscular damage in the lower body as you’re at most a few feet off the ground. I think people have this thought that paragliders regularly just kind of plummet to the ground. That really never happens randomly and is almost always due to pilot error. Like especially on a beginner wing, the thing is fucking hard to cause it to drop out of the sky unless you’re active trying to cause it to collapse.\n                    - u/EDMSauce_Erik:\n                        I haven’t looked into peer reviewed materials and there is always issues with collecting this type of data as it demands accurate self reporting of incidents and extreme sports are kind of known for egos. That being said I really haven’t found anything ever that suggests paragliding statistically has great risks of bodily harm or death. I challenge you to find something though, as I have been going off of anecdotal articles. That being said Paragliding gets grouped with or confused with skydiving and base jumping, both of which (especially the latter) are incomprehensible more dangerous. Something like 3% chance of death while paragliding over 1000 hours and about the same for mountain biking. Base Jumping is like something insane like over 50% chance of death over 1000 hours.\n                        - u/IllegalStateExcept:\n                            I think you are probably right about it being as dangerous as mountain biking.  But [here is an article that estimates the danger to be about the same as downhill mountain biking which is probably more dangerous than typical mountain biking](https://chessintheair.com/the-risk-of-dying-doing-what-we-love/).  However, I don't think his estimates of the total number of flying hours are particularly accurate.  I'm guessing it is an under-estimate of the total flying hours which would decrease the accident rate significantly.    I know my log book is an under-estimate of my total flying hours.\n                    - u/yuropod88:\n                        When else would an accident happen? Broken bones and muscular damage while you're in the the air?\n                        - u/EDMSauce_Erik:\n                            The other 10% of accidents in this example would be from pilots in active flight (not landing or taking off) who fall to the ground due to mechanical failure, pilot error or extreme conditions.\n- u/Jaded_Philosophy_784:\n    *gal … it was me :)\n    - u/wolfenstein734:\n        Ahh how did you get into this? I think I saw several last week\n- u/justinsimoni:\n    \\~$6,000 will get you a beginner rig. There are local teachers. Not sure how much the classes are. Looks fun!\n    - u/dyllionaire77:\n        You can get a rig for 1800 prob less. My boss does this and he’s selling a couple he no longer uses and he’s asking 1800 for his\n        - u/IllegalStateExcept:\n            FYI it's strongly recommended that beginners find an instructor before buying gear. Your bosses gear may be great for someone. But beginners need very specific equipment to start safely.\n            - u/dyllionaire77:\n                Yeah for sure. He’s selling the ones he started with but he’s tall and weighs prob 60+ more than I. But yeah I’m determined to try it and he’s offered to help me get started whenever I’m ready\n                - u/IllegalStateExcept:\n                    Awesome! It is super useful to chat with people in the sport when getting into it.  The weight range is extremely important though.  You typically want to be at the upper end of the certified range for a wing as it makes learning safer and way more fun.  An instructor will also check the integrity of the fabric, length of the lines, and more.\n    - u/AndBeingSelfReliant:\n        Till you get a spinal cord injury\n        - u/justinsimoni:\n            Local flyer Cedar Wright got a spinal cord injury. After a career of scary trad climbing on big walls and paragliding across states, he finally succumbed to a spinal cord injury that left him paralyzed when... \n            \n            ...[posing for a photo at a party. ](https://www.instagram.com/p/DIb_2yFyTs1)\n            \n            Live your life -- you'll never know when it's your time to go. Maybe it's from attaching a parachute to your ass and jumping off a cliff, maybe it's stumbling down a curb on a beer run. You never know. \n            \n            https://preview.redd.it/nv748xbhf70f1.jpeg?width=768&format=pjpg&auto=webp&s=a67d685ddcb33f4edf285bda8e25fc825edb8c81\n            - u/1delta10tango:\n                Also would like to point out that YESTERDAY Cesar flew from Golden into northern Wyoming. Very much not paralyzed.\n                - u/justinsimoni:\n                    Hail C~~a~~e~~s~~dar!\n                    - u/1delta10tango:\n                        I have fat fingers\n                - u/impossiblegirl524:\n                    NORTHERN Wyoming?? How long does that take??\n                    - u/IllegalStateExcept:\n                        Haven't done it myself yet, but I remember someone saying 4 ish hours. It depends on a lot of factors though like wind direction, strength of thermals, equipment, etc.\n                        - u/1delta10tango:\n                            My mistake, really it was southern Wyoming, I just saw a clipped map of the flight path on Instagram. Still, long day\n                            - u/IllegalStateExcept:\n                                Haha I actually misread that as well.  4 hours to southern Wyoming was what I heard.\n            - u/nyquil-fiend:\n                I’m a caretaker for someone who was in a bad paragliding accident. Broke every bone in face, skull, and parts of lower spine. Was in a coma for a while. Severe brain damage, he can’t choose words well but can think fine. Can’t pee on his own (needs catheters), uses a walker and can’t control his right leg. Gets monthly seizures. It’s been 2 years since the accident \n                \n                Definitely an argument to be made that some things are worse than death. Luckily he has a great family and the money, so he’ll likely get a lot better in the next 5 years, but really makes me think about all the people who have terrible accidents and no support system who become homeless. \n                \n                Just food for thought. Personally I believe that if you really love something you should go for it despite risk\n                - u/justinsimoni:\n                    Yeah I hear all that. \n                    \n                    But *no one* is being tricked into thinking paragliding is 100% SAFE, right? The allure is partly that you're riding updrafts essentially using nothing but several square meters of thin, silk-like fabric and a couple meters of paracord holding it all together.\n                - u/redplume:\n                    You can find a similar story for just about any activity imaginable, including walking across the street in a crosswalk. And while you might not succumb to traumatic injuries, you can find yourself pretty debilitated and unhealthy from a life of sedentary living.\n- u/SolidSnek1998:\n    Money.\n- u/HLOFRND:\n    There’s a local group that trains people out at a park in north Boulder. One of the kiddos I take care of likes to watch them. \n    \n    Apparently if they catch the wind just right they can glide all the way to/from Golden. \n    \n    It’s a lot of fun to watch them!\n    - u/MisterJpz:\n        A bunch of people made it to Wyoming from  boulder last couple of days! \n        - u/HLOFRND:\n            That’s nuts!!!\n            \n            Every year I think this would be a good motivation for me to get in shape, but even if I did I couldn’t tackle the cost. \n            \n            But it sure looks like fun!\n            - u/MisterJpz:\n                If you are motivated to fly you can make it happen i just looked at our paragliding market place you can get a beginner kit for 3-4 k for every thing and lessons for probably 2500. It a chunk of change but still less than a used car and cars dont fly! Also I think most instructors will let you pay in installents. I had to work a lot of overtime to get into the sport best thing i ever did! \n    - u/nyquil-fiend:\n        That’s a good learning spot. Often see people practicing on the small hill there\n- u/dyllionaire77:\n    There’s a thermal lift from heat reflecting off the rock. My boss does this and he said if the weather is right you can go all the way to Wyoming from here. Pretty epic in working my way up to it\n- u/LaplacesDemonsDemon:\n    I just got licensed last year! Just look up boulder paragliding companies! It’s amazing, but be careful I fucked myself up lol\n    - u/Cantonloupe:\n        Tell us more\n        - u/TheBeastWithTheYeast:\n            Seconded, would be nice to know the kinds of things that can happen starting out\n            - u/None:\n                [deleted]\n                - u/insanityzwolf:\n                    Trees, rocks, buildings, bodies of water, vehicles, power lines, downdrafts, other paragliders...\n                - u/D_DUB03:\n                    *checks notes* is so cringe\n- u/Beebiddybottityboop:\n    My friend teaches in Boulder. He’s very talented. He even caught an updraft and took it too Wyoming. Hitchhiked back.\n- u/42ElectricSundaes:\n    Well the first time was a cry for help\n- u/Morall_tach:\n    Same way you get into any hobby. Learn about the hobby, think it looks cool, find someone to teach you how to do it, buy the equipment, start doing it yourself.\n- u/CodeNameCobra666:\n    Some of the more skilled, and brave para-gliders can make it up over the continental divide, if the conditions are right.\n- u/Dang_thatwasquick:\n    What trail were you on to get this view?\n    - u/P4TY:\n        Baseline trail—just stick to the right when you enter the park (Chautauqua).\n        - u/Dang_thatwasquick:\n            Thank you!\n- u/benhereford:\n    The very first time I saw the ocean, it happened to be where there were a bunch of kitesurfers. Man, it looked like they were just having such a blast. I'm afraid of heights but it always sounded like such a rush to me\n- u/1nt3rn3tC0wb0y:\n    There are some flight schools around town\n    - u/rk1468:\n        If you want to just casually check it out, go to Wonderland Hill where they give lessons and launch. Pretty friendly bunch.\n- u/maizemin:\n    be rich. all of a sudden you’ll end up in the air.\n    - u/2020DumpsterEnfermo:\n        I was going to say the \"be rich.\"\n- u/Bizguide:\n    Jump\n- u/mindset_matter:\n    Sweet photo!\n- u/Belle8158:\n    I went in Bogota and had the best time!! I see them all the time here and I want to do another tandem ride.\n- u/Numerous_Recording87:\n    Research where they take off from and show up. No doubt they'll be happy to chat.\n    - u/Ryan1869:\n        Lookout mountain in Golden was a popular spot. You get the right winds they will carry you a long way from there\n- u/theHagueface:\n    I could see retired Air Force or Navy vets having the initial skills and confidence to take the first jump\n    - u/ExileOnMainStreet:\n        You launch from the ground or a slope.\n    - u/mister-noggin:\n        No, it’s pretty different from what the few jump certified vets would have experience with. \n        - u/whalewhisker5050:\n            There are a ton of jump certified vets that get into skydiving. There were always a bunch of them at my dropzone, and always super nice.\n- u/conanlikes:\n    After someone dies you get their rig? I took over a job once and the guy had died parasailing.\n",
         "True",
         null,
         "{'title': 'This guy was bouncing around for an hour or more. How do you even get into this hobby?', 'author': 'P4TY', 'score': 352, 'num_comments': 63, 'created_utc': 1746982870.0, 'url': 'https://i.redd.it/6qetfzzzo60f1.jpeg', 'selftext': '', 'subreddit': 'boulder'}"
        ],
        [
         "39",
         "https://reddit.com/r/boulder/comments/1kk5gff/friendly_reminder_to_check_your_dogs_and/",
         "found ticks on both my dogs the other day after hanging out in Lyons \n\n===Comments===\n- u/MrGraaavy:\n    Found two on me after playing in the brush on Bobolink with my kiddo.\n    \n    That’s one more than I’ve ever found in Colorsdo\n- u/Mediocre_Prize_5500:\n    Yup - one week ago took our usual walk around Dry Creek off of Baseline (and just east of Bobolink) and found six ticks on my chocolate lab. She's 4.5 years old and these are the first ticks we've found on her. We live at 7000 feet and I was concerned they could be up here, but she hasn't had any more since our walk at Dry Creek. I've been here 20 years and this was actually only the second time I've even seen a tick. I think they are extra bad this year.\n- u/FlyBug42:\n    Had a couple on my dogs from walking at CU Boulder South. Got them both on a preventative right away!!\n",
         "True",
         null,
         "{'title': 'friendly reminder to check your dogs (and yourselves) for ticks', 'author': 'sashas_spacecraft', 'score': 18, 'num_comments': 3, 'created_utc': 1746982163.0, 'url': 'https://www.reddit.com/r/boulder/comments/1kk5gff/friendly_reminder_to_check_your_dogs_and/', 'selftext': 'found ticks on both my dogs the other day after hanging out in Lyons ', 'subreddit': 'boulder'}"
        ],
        [
         "40",
         "https://reddit.com/r/boulder/comments/1kk4ff2/ok_what_animal_makes_sounds_like_this/",
         "\n\n===Comments===\n- u/marhigha:\n    That’s a bobcat.\n- u/Numerous_Recording87:\n    Plenty of bobcats around and that's what they do when they come across each other, so two communicating hierarchy. Vids on YouTube. Definitely felines but too deep and growling for domestic cats.\n- u/True-While-1035:\n    Manbearpig.\n    - u/CatalinaClydesdale:\n        I hear a bit of cow. You sure?\n- u/mi113rtng:\n    Could be a bobcat\n- u/Honeycrisp62:\n    Manimal\n- u/vaporworks:\n    Mothman\n- u/The_Happy_Pagan:\n    Bobcats are wild, right!! The sounds they make are unnerving to me even now when\n- u/sporkachoon:\n    King Wook.\n- u/Teddy642:\n    That is a Chupacabra.\n- u/dj0ch0:\n    Definitely a chupacabra\n- u/Ancient-Chinglish:\n    Sounds like a fratboy either puking or banging\n- u/tonsofspun:\n    Cat\n- u/blanco_nino_01:\n    Half shark alligator half man\n- u/idkwhatamdoing_06:\n    From how new i am to boulder i would have deadass called a priest\n- u/sonibroc:\n    I get the bobcat thing because I think its too late for the foxes to be in heat (I think they make a similar noise when doing the act of getting in the family way)\n- u/GreyMindSpace:\n    definitely a bobcat. was this up near devil's thumb? I'd hear 'em all the time around there.\n- u/No_Assignment_9721:\n    That lady that skipped bail the other day?\n    \n    In seriousness though it sounds like a bobcat or other large feral cat/s. \n    \n    It sounded to me as if there might have been two growling at each other. \n- u/makwabear:\n    In all seriousness it could just be a Husky or a Shiba Inu. My shiba and a friends husky used to get each other worked up when they wanted snacks and they would sound like that. \n    \n    If I had to bet though I would say bobcats.\n- u/MrTumnus99:\n    Sounds like a homeless person taking a shit\n- u/Zeitgeist_333:\n    Cat in heat? Love is in the air after all\n- u/eci5k3tcw:\n    Bigfoot.\n- u/theOtherNutS:\n    That is clearly my ex wife having an orgasm. This will make her extremely hungry and will feed on the sole of any unsuspecting male with a  social status and wealth she deems worthy. She is known to shape shift and show no emotions depending on what type of magical concoction she has injected into her face. \n    \n    Stay safe and Sko Buffs!\n- u/None:\n    [deleted]\n    - u/HamOwl:\n        Definitley not an elk. A bugle is very different than a predators growl. This sounds like a lynx, but those generally are around the San Jaun and Sawatch range. Most likely it is a bobcat.\n    - u/CatalinaClydesdale:\n        In Louisville/Lafayette?\n- u/stacksmasher:\n    Mountain Lion.\n    - u/blanco_nino_01:\n        No, a fox goes ring-ring-ring-ding-ding-dingaling\n",
         "True",
         null,
         "{'title': 'Ok, what animal makes sounds like this?!', 'author': 'CatalinaClydesdale', 'score': 22, 'num_comments': 27, 'created_utc': 1746979425.0, 'url': 'https://v.redd.it/r9fnu2are60f1', 'selftext': '', 'subreddit': 'boulder'}"
        ],
        [
         "41",
         "https://reddit.com/r/boulder/comments/1kk1qyz/weekly_board_game_meetup/",
         "Howdy y’all I am hosting my weekly board game meet up at my he twisted pine at 3pm today! There has been such an amazing influx of newcomers and familiar faces these past couple weeks and it’s been amazing! So if you have any interest in board games and meeting new people come on down to the twisted pine at 3pm today\n\n===Comments===\n- u/Responsible-Oven-437:\n    How to stay in the loop for future gatherings ?\n",
         "True",
         null,
         "{'title': 'Weekly Board Game meetup!', 'author': 'Aromatic_Evidence_75', 'score': 7, 'num_comments': 1, 'created_utc': 1746972190.0, 'url': 'https://www.reddit.com/r/boulder/comments/1kk1qyz/weekly_board_game_meetup/', 'selftext': 'Howdy y’all I am hosting my weekly board game meet up at my he twisted pine at 3pm today! There has been such an amazing influx of newcomers and familiar faces these past couple weeks and it’s been amazing! So if you have any interest in board games and meeting new people come on down to the twisted pine at 3pm today', 'subreddit': 'boulder'}"
        ],
        [
         "42",
         "https://reddit.com/r/boulder/comments/1kjzfu3/motorcycle_meetsridesclubs_around_town/",
         "I’ve recently gotten back into riding and looking for some guys/gals to ride with. I’m 42, married with kids. Not looking to race. I have a feeling that there are some groups on Facebook, but I have successfully resisted Facebook my whole life and really don’t want to get on it now. Does anyone know of some meets or group rides or clubs around here?\n\n===Comments===\n- u/Cemckenna:\n    Inclusive Moto has been doing rides for the past few years! I’m not sure how active it’s been recently though, cus I too left the Meta-verse and so it takes me remembering to go to their Instagram to get news.\n    \n    https://www.instagram.com/inclusive.moto/\n- u/SaintlySeeker:\n    Hi! I (43m) don’t know of any meetups but would be down to get together for rides on occasion, especially on the weekends. My partner just started riding a few months ago but fell and fractured her elbow yesterday, so I’m solo for a while. \n    \n    I’m riding a ‘24 Yamaha Tenere 700. What do you ride, and what sort of riding are you looking to do?\n    - u/PreparationFit6327:\n        I ride a Kawasaki ZRX1200r. I prefer staying off 25/270/70 for the most part.\n        - u/SaintlySeeker:\n            I had to look up your bike and it looks like a blast! I tend to avoid those highways too. I usually stick to rides along Highway 93, the canyon road to Nederland, and the Peak to Peak Highway. I also enjoy some less rural rides through Boulder, Louisville, Superior, and Broomfield. Always a good time.\n            - u/M1n1sn00py:\n                31m / Yamaha mt09 rider here, those are my favorite rides too! Hmu if you wanna go sometime. Usually free on the weekends\n                - u/PreparationFit6327:\n                    I’m down for riding with either or both of you guys\n- u/wade-mcdaniel:\n    I've seen some bikers pull into the Mill site inn and restaurant near Ward, and I imagine that'd be a good ride. But when you pull in the lot is kinda steep. Last time I was there a couple tipped over their \"full dresser\": maybe a goldwing or something, I forget... But it might be a good ride to go and get some lunch on a nice day \n    \n    But if I were riding around boulder that's probably a ride I would go on. (I grew up there but moved away, and only go back to visit the parents)\n    - u/PreparationFit6327:\n        Thank you\n    - u/Cemckenna:\n        The mill site is closed \n",
         "True",
         null,
         "{'title': 'Motorcycle meets/rides/clubs around town?', 'author': 'PreparationFit6327', 'score': 0, 'num_comments': 9, 'created_utc': 1746964990.0, 'url': 'https://www.reddit.com/r/boulder/comments/1kjzfu3/motorcycle_meetsridesclubs_around_town/', 'selftext': 'I’ve recently gotten back into riding and looking for some guys/gals to ride with. I’m 42, married with kids. Not looking to race. I have a feeling that there are some groups on Facebook, but I have successfully resisted Facebook my whole life and really don’t want to get on it now. Does anyone know of some meets or group rides or clubs around here?', 'subreddit': 'boulder'}"
        ],
        [
         "43",
         "https://reddit.com/r/boulder/comments/1kjudb5/update_it_is_at_it_again_12_hours/",
         "Update to this: https://www.reddit.com/r/boulder/s/uQKGvEKiFh\n\nWE DID IT REDDIT! The siren is gone\n\nI am not sure it was really us but I want to believe it was. Thank you all for your comments, suggestions, and upvotes. It got someone’s attention, no doubt.\n\nWe can all rest peacefully about this now… The street racers, well, that’s another issue maybe we can Reddit the hell out of our town?\n\nAgain, thank you and good night!\n\n===Comments===\n- u/aydengryphon:\n    Sorry you still don't have answers, but I'm happy you seem to have at least maybe gotten results? SO weird.\n",
         "True",
         null,
         "{'title': 'Update: it is at it again… 12+ hours', 'author': 'TripBogey5secPenVAR', 'score': 26, 'num_comments': 1, 'created_utc': 1746944414.0, 'url': 'https://www.reddit.com/r/boulder/comments/1kjudb5/update_it_is_at_it_again_12_hours/', 'selftext': 'Update to this: https://www.reddit.com/r/boulder/s/uQKGvEKiFh\\n\\nWE DID IT REDDIT! The siren is gone\\n\\nI am not sure it was really us but I want to believe it was. Thank you all for your comments, suggestions, and upvotes. It got someone’s attention, no doubt.\\n\\nWe can all rest peacefully about this now… The street racers, well, that’s another issue maybe we can Reddit the hell out of our town?\\n\\nAgain, thank you and good night!', 'subreddit': 'boulder'}"
        ],
        [
         "44",
         "https://reddit.com/r/boulder/comments/1kjtawz/just_another_prompt_to_sign_the_petition_to_get_a/",
         "\n\n===Comments===\n- u/TheGamerXym:\n    Its nice of you to link it again, but they sent out an email on May 1st that they were ending their campaign for the year.\n    \n    > \"We’re ending our campaign for this year. But we’re not stopping our fight for community space in Boulder.\n    \n    \n    > In February, in response to the widespread yearning in Boulder for more safe, people-focused downtown space, we launched the Pearl For You initiative to restore pedestrianized community space on west Pearl Street. We have been absolutely humbled by the flood of support we’ve received from you and thousands of other Boulderites. And we are deeply grateful for every one of you.\n    \n    \n    \n    > Since February, the context for our initiative has shifted significantly. There’s the ongoing chaos and economic disruption created by the Trump Administration, including cuts to some federal funding, threats to other programs, and tariffs that are high and unpredictable, all of which put the city budget and the broader economy in a much weaker condition. There’s the Core Arterial Network (CAN) Downtown Study, which potentially intersects tightly with additional pedestrian spaces and whose timing and outcome is more uncertain than ever, as well as other potential city initiatives such as a Downtown Development Authority. And perhaps most importantly, and certainly most positively, the city won the Sundance Film Festival for 10 years starting in 2027, which will effectively require some downtown areas to be pedestrianized during the festival, and will set the stage for broader or longer-term changes.\n    \n    \n    \n    > This article lays it out: while there were numerous factors resulting in Park City and Salt Lake City losing the festival, their inability or refusal to provide more pedestrian space was a key one. Boulder, we’re confident, will want to avoid that same fate. Festival organizers and attendees alike will demand more pedestrian space downtown, both because it makes for a safer, more pleasant experience, and because motor vehicles are simply too space-inefficient to handle the throngs the festival will bring to the city. However, where exactly those changes will occur, and what they will look like, is yet unclear. In particular, streets adjacent to and connecting venues may be the best candidates for pedestrianization, and west Pearl may or may not be one of those.\n    \n    \n    \n    > This shifting landscape has led us to a difficult but clear conclusion: 2025 is not the year for this initiative. Too much is uncertain both nationally and locally, and there are both big risks and big opportunities for changes downtown. Combined, these factors make this process, at this time, not the right choice in our determination.\n    \n    \n    \n    > So while we remain unequivocally committed to creating additional downtown pedestrian space, and more clear than ever that there is overwhelming popular support for it, we are ending our ballot petition campaign for this year. But we are not going away. We are not going to stop fighting for a more people-friendly city, and we certainly are keeping the option open to bring the campaign back in a future year, including perhaps 2026. And we will keep you and our thousands of other supporters informed about how to stay involved.\n    \n    \n    \n    > Most importantly, we want to thank you for your support of our campaign. You’ve already made a difference by showing the broad demand for pedestrian-oriented, car-free spaces in our city. We will continue to fight for those spaces, and for you, in the months and years to come.\n    \n    \n    \n    >The Pearl For You team\"\n- u/BlackCatBonanza:\n    Boulder 0; Pasta Jay 2\n- u/zenos_dog:\n    I signed and you should too.  The merchants have yet to any downside at all for pedestrianizing that stretch.\n    - u/yoln77:\n        Curious what do you think is the reason why so many marchants are against it if you think there is only business upside for them? \n        - u/zenos_dog:\n            Fear.  The data from the closure during Covid doesn’t support their assertion of any impact at all.  Their sales tax numbers were slightly higher than Pearl st mall and 29th street.\n- u/5400feetup:\n    Meanwhile the energy used to “fight for community space” could be diverted to enjoying all the community space already existing in Boulder.  Granted, there aren’t many that offer picnic tables on asphalt but there are other options.\n- u/charte:\n    I cannot believe this petition only has ~1400 signatures. \n    \n    I genuinely cannot see any benefits of allowing car traffic along this block. West Pearl already has parking nearby in garages and on neighboring streets, businesses already get deliveries through the alleys, and it is among the most accessible areas in boulder by bike and bus.\n    \n    Returning West Pearl to a car-free block as it was during the pandemic would make it safer and more pleasant for pedestrians, especially at night when foot traffic increases and people have been drinking. Reducing vehicle traffic lowers the risk of accidents, creates a calmer atmosphere, and allows people to enjoy experiencing the area rather than just passing through it.\n    \n    Beyond simply being a nicer atmosphere, pedestrian zones are good for business. Cities around the world have seen increased foot traffic and retail spending in car-free areas. The Pearl Street Mall is a clear example as one of the most vibrant and economically successful parts of town. Expanding on what already works should be an easy win for the community.\n    \n    Please sign you name in support of a better downtown Boulder. Let’s expand the safe, lively, and walkable areas that make this city more enjoyable for everyone!\n",
         "True",
         null,
         "{'title': 'Just another prompt to sign the petition to get a vote on pedestrianizing west pearl.', 'author': 'charte', 'score': 2, 'num_comments': 7, 'created_utc': 1746940136.0, 'url': 'https://www.pearlforyou.org/sign', 'selftext': '', 'subreddit': 'boulder'}"
        ],
        [
         "45",
         "https://reddit.com/r/boulder/comments/1kjt8vo/what_are_some_mothers_day_events/",
         "is there anything special going on? like some events? or hostings? just wondering\n\n===Comments===\n- u/RowenaOblongata:\n    Take Mom to today's Cantabile choir concert - with lunch before or drinks and dinner afterwards. She'll love it. \n    \n    https://cantabilesingers.org/concert/the-beauty-around-us-may11/\n",
         "True",
         null,
         "{'title': \"what are some mother's day events?\", 'author': 'Hopeful-Tangerine584', 'score': 0, 'num_comments': 1, 'created_utc': 1746939912.0, 'url': 'https://www.reddit.com/r/boulder/comments/1kjt8vo/what_are_some_mothers_day_events/', 'selftext': 'is there anything special going on? like some events? or hostings? just wondering', 'subreddit': 'boulder'}"
        ],
        [
         "46",
         "https://reddit.com/r/boulder/comments/1kjsbom/cheapest_hot_air_ballooning_in_colorado/",
         "Cheapest Hot Air ballooning in Colorado. Looking for a decent gift for someone. Is there anything under 299 PP? Anyone have other solid ideas for someone that would enjoy hot air ballooning but too expensive? Thanks in advance. \n\n===Comments===\n- u/AlonsoFerrari8:\n    I'm not sure you want the cheapest of anything that involves you flying thousands of feet in the air\n    - u/CCWaterBug:\n        Agree,  2nd cheapest at best for me\n    - u/Pomdog17:\n        [ Removed by Reddit ]\n- u/ThroesAndFranz:\n    I know a budget lawyer and a discount doctor. Hit me up after your low fare flight.\n- u/JeffInBoulder:\n    [ Removed by Reddit ]\n- u/jj-squirts:\n    [This company - Fair Winds](https://hotairballoonridescolorado.com) does specials from time to time. I took the wife for a bucket list item, however, it was a shared basket with a few other people. They do private baskets but they are usually more expensive.\n- u/Basehound:\n    There is an annual balloon festival in Erie annually .  Probably your best bet for an affordable balloon ride .\n- u/Aggressive-Travel823:\n    Tandem paragliding is cool. Not sure of cost.\n- u/mikerowest:\n    This is a post that I am also interested in. I’ve looked into this every few years and the cost is wild…. on top of that you generally are in with some random and need to work the crew for a second flight. As in, for 2k a flight, they still don’t hire a basic ground crew. Seems like a lot of money and work on my side for a nice view, but I still want to do it some day.\n",
         "True",
         null,
         "{'title': 'Cheapest Hot Air ballooning in Colorado', 'author': 'Queasy-Proof4001', 'score': 3, 'num_comments': 9, 'created_utc': 1746936499.0, 'url': 'https://www.reddit.com/r/boulder/comments/1kjsbom/cheapest_hot_air_ballooning_in_colorado/', 'selftext': 'Cheapest Hot Air ballooning in Colorado. Looking for a decent gift for someone. Is there anything under 299 PP? Anyone have other solid ideas for someone that would enjoy hot air ballooning but too expensive? Thanks in advance. ', 'subreddit': 'boulder'}"
        ],
        [
         "47",
         "https://reddit.com/r/boulder/comments/1kjrphj/fireworks_930_pm/",
         "Staying around Pearl Street and just heard something sounded like fireworks can anyone confirm?\n\n===Comments===\n- u/flovarian:\n    Heard it in North Boulder too. Guessing someone’s excited about graduating or something like that.\n- u/jonabongs:\n    If it sounds like a firework\n    - u/Latter_Inspector_711:\n        then its a gunshot\n        - u/StoneWall_MWO:\n            That's what I thought a few days after July 4th, but it was bullets flying around my parked car.\n- u/spoopyelf:\n    Maybe graduation celebration? I heard it too\n- u/butjustwhygirl:\n    I’m on junction place and I heard it.\n- u/pr1ntf:\n    It was fireworks. I saw the splody sparkly bits that went with the booms.\n- u/Bluerazz10:\n    Yep, heard in Casper not sure what’s going on\n- u/Flat-Willingness-417:\n    Welcome to boulder.\n- u/SimilarLee:\n    I too heard sounds that sounded like fireworks\n- u/AardvarkFacts:\n    I heard it in Denver about the same time. Just a single boom with an echo. I was worried it was a gunshot. I wonder if it was a meteor exploding/ making a sonic boom? Some kind of coordinated celebration? Or maybe random-fireworks-all-summer season has started?\n- u/BoulderDeadHead420:\n    Fireworks at 930am would be weird and something to post about but at 930 at night just use your fucking head- of course they're fire works.\n    - u/OwnRabbit6826:\n        These days I wanted to make sure they werent gunshots\n",
         "True",
         null,
         "{'title': 'Fireworks 9:30 pm?', 'author': 'OwnRabbit6826', 'score': 12, 'num_comments': 13, 'created_utc': 1746934315.0, 'url': 'https://www.reddit.com/r/boulder/comments/1kjrphj/fireworks_930_pm/', 'selftext': 'Staying around Pearl Street and just heard something sounded like fireworks can anyone confirm?', 'subreddit': 'boulder'}"
        ],
        [
         "48",
         "https://reddit.com/r/boulder/comments/1kjro0t/it_is_at_it_again_for_12_hours_now/",
         "I’ve posted about this in the past in another account that has since been deleted. We have had the same obnoxious alarm from the Xcel Valmont station going off since 9am. 5/10, 2025.\n\nAs you can hear, it is a brain-drilling-pierce-your-ever-lasting-soul sound than just goes on and on forever.\n\nYes, we’ve called Boulder PD (useless), now and in the past, and we’ve emailed Xcel’s Area Manager, Community Relations-Boulder Region & Mountain Communities, a Mrs. Jennings, before and the response has been somewhat swift. \n\nThis time however, we assume Mrs. Jennings is on vacation because of the email automatic reply.\n\nSo I ask, is there anyone in r/boulder that knows anyone at Xcel or that knows anyone at The sheriff’s office, or someone that works at the station to give the neighbors some insight as why a freaking alarm can go off for more than 12 hours straight with no action being taken?\n\nYou all might need to call 911 as I am about to start shooting at the plant!! (It’s a joke you guys) but maybe not.\n\n===Comments===\n- u/YakRancher:\n    Years ago, this was happening, and I drove up to the plant and spoke to them through the gate intercom. Not sure if there still is one, but have you tried that? The noise did resolve a short time later. I think in my case it turned out to be a locomotive that was idling on the tracks. It might be helpful if you could get a Boulder PD officer to do it as it is a violation of the noise ordinance and might  get more immediate attention if an officer did it.\n- u/toastyhandshake:\n    Go park nearby and honk your horn in opposing harmonic beeps until the police show up and tell you to stop.\n    - u/TripBogey5secPenVAR:\n        Ha!!! That’s a great comment! I just want to sleep without an alarm going off, that’s all, not really looking to get tased or arrested for “noise disturbance”.\n- u/point_of_you:\n    That’s just the “Everything is OK” alarm\n- u/Lazy_Coconut7622:\n    Aside from the alarm being annoying, I’d be worried it’s… you know… indicating that something is wrong?!\n    - u/TripBogey5secPenVAR:\n        That was my first thought too, obviously, as I live right across the station but from Mrs Jennings’ email the last time: “Our team is currently working on resolving a technical fault that led to the unintended sounding of alarms. We are also in the process of replacing the necessary components to prevent any further disruptions.” It seems it’s just an automated alarm that goes off every once in a while. The problem, again, is that no one in the station minds the fuxking noise and takes the necessary measures to shut it off until a neighbor complains.\n        - u/Lazy_Coconut7622:\n            It was nice of them to reply, but I’d still take that response with a grain of salt. We’ve already seen how well Xcel takes care of Boulder. 👀\n- u/Shdwdrgn:\n    Why not call one of the TV news stations, let them know Boulder PD refuses to respond, and ask why it takes more than a day to get this resolved when it keeps happening so often.\n    - u/TripBogey5secPenVAR:\n        Good idea… I just thought maybe someone in this sub would know someone that could make it stop… but it’s a point I’ll take into consideration next time.\n    - u/AVeryHeavyBurtation:\n        Alert the boomers!\n        - u/Shdwdrgn:\n            I mean, since the media won't report on Trump's crimes, they need *something* to spend time on, right?\n- u/Merivel1:\n    That’s SUPER obnoxious. Have you tried calling/contacting general Xcel? Maybe they can funnel you to the right folks? https://www.xcelenergy.com/customer_support?sfmc_id=1080599623#supportphone\n    \n    Maybe contact the Colorado Public Utility Commission so they know Xcel is subjecting your neighborhood to this too.\n- u/ongoldenwaves:\n    Don't worry. The racers will soon be out hooning around and drown out the noises of the siren.\n    - u/Commercial_Star7216:\n        Somehow xcel is worse than the street racers\n    - u/A10co:\n        I’m in Broomfield and just read this as I hear them on 36. On their way now to lend their assistance!\n        - u/mynewme:\n            Listening now.\n    - u/ConsistentBuy5540:\n        As long as my toddler sleeps through the racers I’m ok with it while acknowledging total incompetence and ED of our BC police force.\n- u/Junglebyron:\n    Another reason among MANY to be angered that Xcel is an energy monopoly for our region, and can provide shit service and dangerous conditions for its consumers because we have no grid energy alternative.\n    - u/TripBogey5secPenVAR:\n        Agreed… but there are no excuses for any company in the world to let an alarm go off for hours and hours, especially in residential areas where there is supposed to be a noise ordinance. And the fact that the Sheriff (unincorporated Boulder so BPD gets a pass I guess) does nothing but say “we’ll send someone out” or respond with “we couldn’t get a hold of anyone” infuriates me.\n        \n        Try throwing a party and have the music on 2 minutes after the noise ordinance set time and they’ll be on with 20 units all wearing body armor yelling as if you are a cartel (yes, I am projecting).\n        \n        Xcel sucks and we all know it, Corporate USA runs the country now. But the civil service that we pay for and that should be on our side, apparently is ok with “we couldn’t reach anyone so suck it up”. That is way more disappointing.\n    - u/SurlyJackRabbit:\n        Shit service?\n- u/Best_Mechanic_7007:\n    This is against code. I’d submit a written complaint to code enforcement. https://bouldercolorado.gov/services/code-enforcement-unit\n    - u/TripBogey5secPenVAR:\n        Thanks for the link. I will surely use it next time!\n- u/nihilistic-simulate:\n    Monkeywrench Gang it\n- u/BalsamA1298c:\n    Share contact info for Mrs Jennings?\n    - u/TripBogey5secPenVAR:\n        I’d rather keep this civil with Mrs Jennings but if you google search this: Area Manager, Community Relations-Boulder Region & Mountain Communities\n        \n        You get this:\n        https://www.google.com/search?q=Area+Manager%2C+Community+Relations-Boulder+Region+%26+Mountain+Communities&rlz=1CDGOYI_enUS657DE657&oq=Area+Manager%2C+Community+Relations-Boulder+Region+%26+Mountain+Communities&gs_lcrp=EgZjaHJvbWUyBggAEEUYOTIICAEQRRgnGDvSAQgzMzU1ajBqNKgCE7ACAeIDBBgBIF_xBYBzVREA-0R7&hl=en-US&sourceid=chrome-mobile&ie=UTF-8\n        \n        Maybe you can find her contact info. Although since it’s the weekend, you’ll probably get the same automated response from her email.\n        - u/BalsamA1298c:\n            Thank you! Yes - civility matters.\n- u/SimilarLee:\n    Holy shit, that must be so obnoxious to have going off for like ... a day?\n    - u/TripBogey5secPenVAR:\n        Yup, this has happened maybe 5-6 times in the last 6-7 months. It usually gets “resolved within 48 (grueling) hours”… the issue I have is HOW THE HELL NO ONE IN THE STATION OR XCEL JUST SHUTS IT DOWN? I mean, they have to know there’s something wrong in the f*cking plant that gives Boulder the energy to survive!!! Maybe Xcel really does suck as bad as we all think they do?\n        - u/AquafreshBandit:\n            I can't recall the last time I saw smoke coming from the smoke stacks. Xcel's website says they still use the plant for natural gas but I'm not sure how often. I would guess there's not anyone there most of the time.\n            - u/TripBogey5secPenVAR:\n                You are right, as far as I know the plant was decommissioned in 2017 as a coal/gas power plant so there is no vapor coming out of the stacks since then, but the station still is the HQ of most of the power in town.\n                \n                https://www.gem.wiki/Valmont_Station\n                \n                There are people in there.. 24/7 365.\n                - u/saryiahan:\n                    Nope, you are completely wrong. Most of that plant is empty. There are small generating units there but they are only used when demand is high and they are gas units. I work at a power plant for Xcel\n                    - u/TripBogey5secPenVAR:\n                        Good of someone that possibly knows what the heck goes on with an alarm like that going off for more than 12 hours and in some cases, days, to respond. Thank you for telling me I am completely wrong, can you completely enlighten us? If it has generating units that run sometimes, there should be people maintaining them, operating them and so on, correct? Or at least someone that works the security cameras? The security of the plant? Someone that may have, I don’t know, a walkie talkie that could let someone know when an alarm has been going off for that amount of time? I assumed that there are people in there because when they installed the solar farm across the reservoir, the people told us the plant was going to operate them.\n                        \n                        In any case, you have to completely agree that an alarm that goes off for hours and hours from a plant from a billion dollar company that boasts “reliability” and “community commitment” like where you work (oh, wait, yeah it’s exactly the company where you work) is unacceptable.\n                        \n                        I am right on that though?\n                        - u/saryiahan:\n                            Since that site is mostly unmanned no one would immediately know of the alarm. There are periodic checks on the units. During the summer operational personnel could be on site for an unknown amount of time but not 24 hours. From my understanding there are a few cameras on site that go to an offsite security department. What those cameras show I do not know. As for the alarm I completely agree. It is ridiculous that it is going on for that long of a period.\n                            - u/TripBogey5secPenVAR:\n                                Woah! It’s hard to believe that that whole place is completely abandoned and not monitored by a single human being.\n                                \n                                Today I learned! Thanks for clearing it up.\n                                \n                                So what do we do in the future when it goes off? Any direct line to someone that we can contact? a number to a human being that can assist in shutting it off?\n- u/unnameableway:\n    Damn that’s fucking annoying lol\n- u/Bldrtrail:\n    I’m curious—have other neighbors complained?perhaps the more that send in emails, calls, etc, the more inclined Xcel or even the non emergency line would be to do something.\n    - u/TripBogey5secPenVAR:\n        Yes the last time it happened, a bunch of people nearby DM’d me to get Mrs Jennings email and they wrote to her too. They also called dispatch.\n        \n        They are well aware, both the sheriff and Xcel, but still it happens and still I have to post it on Reddit until it’s turned off. Maybe the operators at the plant are fellow redditors?\n- u/Desperate-Ad4051:\n    Very interesting, this could be totally 100% unrelated but at 55th and Arapahoe, we've been having small internet outages for the last 24 hours.\n- u/Owlthirtynow:\n    God aweful!\n- u/Meizas:\n    How is Xcel still finding ways to annoy us without turning off power\n- u/mwdenslow:\n    This is very concerning. It seems like basic accountability to know what the alarm indicates, who's responsible and what the remedy is needed.\n    \n    I'd contact the PUC. They aren't likely to do much for you, but might cause Xcel to respond sooner. Also, I believe this is in the county.\n    \n    As you're likely aware there are serious ongoing contamination issues at this site. [https://boulderreportinglab.org/2024/03/03/boulder-county-holds-public-meeting-on-valmont-power-stations-toxic-coal-ash-to-address-community-concerns/](https://boulderreportinglab.org/2024/03/03/boulder-county-holds-public-meeting-on-valmont-power-stations-toxic-coal-ash-to-address-community-concerns/)\n    \n    I'd also appreciate you keeping us updated as you get more information.\n    - u/TripBogey5secPenVAR:\n        Will do! As of now, it’s quiet. Hopefully I’ll get a response from Xcel tomorrow. If I do, I’ll update this thread.\n        \n        Oh, and thanks for the link, yes, we are well aware of the contamination issues there. Awful.\n- u/SurroundTiny:\n    I lived in Boulder in the late 90s. I heard it a couple of times then\n- u/Tryptrix:\n    Ms. Jennings is no longer the Boulder area Community Affairs person. I'll DM you the email of her successor.\n    - u/TripBogey5secPenVAR:\n        You rock u/tryptrix!!\n        \n        Thank you!\n- u/ewhetstone:\n    That is enraging. I once had huge construction going on 30 feet from my bedroom window (they were excavating bedrock, it was LOUD and interminable) and got a noise app that saved my sanity: it’s called MyNoise (bad name) and it has a truly staggering number of sounds including a construction site white noise generator.\n    \n    Idk if there’s anything in their library that would cover this sound but maybe worth looking at it?\n- u/ZippyNomad:\n    As annoying as alarms can be, I truly hope the plant operators are safe.\n    - u/TripBogey5secPenVAR:\n        This is the boiler-plate PR response we got the last time this happened:\n        \n        We are aware of the issue and are actively working to address it. Our team is currently working on resolving a technical fault that led to the unintended sounding of alarms. We are also in the process of replacing the necessary components to prevent any further disruptions.\n        \n        During this period, we are making efforts to minimize the impact on the community by adjusting the siren settings temporarily. Our ultimate goal is to ensure that the issue is resolved promptly and efficiently, while keeping disturbances to a minimum.\n        \n        Lovely, ain’t it?\n        - u/ZippyNomad:\n            Then thank the maker that it wasn't a death at the facility.\n            \n            So yeah, while annoying when alarms malfunction and having to troubleshoot where the problem is, it could also be much worse. \n            \n            Speaking as someone who deals with noisy alarms while maintaining a safe work environment.\n",
         "True",
         null,
         "{'title': 'It is at it again… for 12+ hours now', 'author': 'TripBogey5secPenVAR', 'score': 162, 'num_comments': 49, 'created_utc': 1746934173.0, 'url': 'https://v.redd.it/1pxr6of6o20f1', 'selftext': 'I’ve posted about this in the past in another account that has since been deleted. We have had the same obnoxious alarm from the Xcel Valmont station going off since 9am. 5/10, 2025.\\n\\nAs you can hear, it is a brain-drilling-pierce-your-ever-lasting-soul sound than just goes on and on forever.\\n\\nYes, we’ve called Boulder PD (useless), now and in the past, and we’ve emailed Xcel’s Area Manager, Community Relations-Boulder Region & Mountain Communities, a Mrs. Jennings, before and the response has been somewhat swift. \\n\\nThis time however, we assume Mrs. Jennings is on vacation because of the email automatic reply.\\n\\nSo I ask, is there anyone in r/boulder that knows anyone at Xcel or that knows anyone at The sheriff’s office, or someone that works at the station to give the neighbors some insight as why a freaking alarm can go off for more than 12 hours straight with no action being taken?\\n\\nYou all might need to call 911 as I am about to start shooting at the plant!! (It’s a joke you guys) but maybe not.', 'subreddit': 'boulder'}"
        ],
        [
         "49",
         "https://reddit.com/r/boulder/comments/1kjq3ve/contractor_to_refinish_a_concrete_patio/",
         "https://preview.redd.it/22ji29j0820f1.png?width=1303&format=png&auto=webp&s=b90c2836ee7110281d51c042da9ce453f57fe3f2\n\nCan anyone recommend a contractor who can refinish a stamped concrete patio?  It needs to be stripped, re-colored, and then sealed with \"wet look\" sealant.\n\n===Comments===\n",
         "True",
         null,
         "{'title': 'Contractor to refinish a concrete patio?', 'author': 'cdedbddux', 'score': 0, 'num_comments': 0, 'created_utc': 1746928786.0, 'url': 'https://www.reddit.com/r/boulder/comments/1kjq3ve/contractor_to_refinish_a_concrete_patio/', 'selftext': 'https://preview.redd.it/22ji29j0820f1.png?width=1303&format=png&auto=webp&s=b90c2836ee7110281d51c042da9ce453f57fe3f2\\n\\nCan anyone recommend a contractor who can refinish a stamped concrete patio?  It needs to be stripped, re-colored, and then sealed with \"wet look\" sealant.', 'subreddit': 'boulder'}"
        ]
       ],
       "shape": {
        "columns": 5,
        "rows": 250
       }
      },
      "text/html": [
       "<div>\n",
       "<style scoped>\n",
       "    .dataframe tbody tr th:only-of-type {\n",
       "        vertical-align: middle;\n",
       "    }\n",
       "\n",
       "    .dataframe tbody tr th {\n",
       "        vertical-align: top;\n",
       "    }\n",
       "\n",
       "    .dataframe thead th {\n",
       "        text-align: right;\n",
       "    }\n",
       "</style>\n",
       "<table border=\"1\" class=\"dataframe\">\n",
       "  <thead>\n",
       "    <tr style=\"text-align: right;\">\n",
       "      <th></th>\n",
       "      <th>link</th>\n",
       "      <th>content</th>\n",
       "      <th>scrape_success</th>\n",
       "      <th>scrape_error</th>\n",
       "      <th>metadata</th>\n",
       "    </tr>\n",
       "  </thead>\n",
       "  <tbody>\n",
       "    <tr>\n",
       "      <th>0</th>\n",
       "      <td>https://reddit.com/r/Colorado/comments/1kkenf2...</td>\n",
       "      <td>\\n\\n===Comments===\\n- u/Lgallegos17:\\n    Than...</td>\n",
       "      <td>True</td>\n",
       "      <td>None</td>\n",
       "      <td>{'title': 'Happy Mother's Day Weekend from the...</td>\n",
       "    </tr>\n",
       "    <tr>\n",
       "      <th>1</th>\n",
       "      <td>https://reddit.com/r/Colorado/comments/1kkbfbt...</td>\n",
       "      <td>\\n\\n===Comments===\\n- u/Sourkraute:\\n    975 s...</td>\n",
       "      <td>True</td>\n",
       "      <td>None</td>\n",
       "      <td>{'title': 'Abandoned Cabin, 35409 US-24 near L...</td>\n",
       "    </tr>\n",
       "    <tr>\n",
       "      <th>2</th>\n",
       "      <td>https://reddit.com/r/Colorado/comments/1kk5li8...</td>\n",
       "      <td>\\n\\n===Comments===\\n- u/Snlxdd:\\n    Gorgeous,...</td>\n",
       "      <td>True</td>\n",
       "      <td>None</td>\n",
       "      <td>{'title': 'Sneffels in watercolor', 'author': ...</td>\n",
       "    </tr>\n",
       "    <tr>\n",
       "      <th>3</th>\n",
       "      <td>https://reddit.com/r/Colorado/comments/1kk02dc...</td>\n",
       "      <td>\\n\\n===Comments===\\n- u/skovalen:\\n    I love ...</td>\n",
       "      <td>True</td>\n",
       "      <td>None</td>\n",
       "      <td>{'title': 'Taken last year around fall', 'auth...</td>\n",
       "    </tr>\n",
       "    <tr>\n",
       "      <th>4</th>\n",
       "      <td>https://reddit.com/r/Colorado/comments/1kjgk49...</td>\n",
       "      <td>\\n\\n===Comments===\\n- u/eric_b0x:\\n    I love ...</td>\n",
       "      <td>True</td>\n",
       "      <td>None</td>\n",
       "      <td>{'title': 'Chautauqua Park 5/10/25', 'author':...</td>\n",
       "    </tr>\n",
       "    <tr>\n",
       "      <th>...</th>\n",
       "      <td>...</td>\n",
       "      <td>...</td>\n",
       "      <td>...</td>\n",
       "      <td>...</td>\n",
       "      <td>...</td>\n",
       "    </tr>\n",
       "    <tr>\n",
       "      <th>245</th>\n",
       "      <td>https://reddit.com/r/coloradohikers/comments/1...</td>\n",
       "      <td>Hi! My boyfriend is coming in town this weeken...</td>\n",
       "      <td>True</td>\n",
       "      <td>None</td>\n",
       "      <td>{'title': 'Allenspark Area', 'author': 'aylexa...</td>\n",
       "    </tr>\n",
       "    <tr>\n",
       "      <th>246</th>\n",
       "      <td>https://reddit.com/r/coloradohikers/comments/1...</td>\n",
       "      <td>\\n\\n===Comments===\\n- u/delusionalxx:\\n    Wha...</td>\n",
       "      <td>True</td>\n",
       "      <td>None</td>\n",
       "      <td>{'title': 'A few pics from hikes this spring',...</td>\n",
       "    </tr>\n",
       "    <tr>\n",
       "      <th>247</th>\n",
       "      <td>https://reddit.com/r/coloradohikers/comments/1...</td>\n",
       "      <td>In CO for the weekend, decided to start at Ber...</td>\n",
       "      <td>True</td>\n",
       "      <td>None</td>\n",
       "      <td>{'title': 'Mt Flora + Colorado Mines Peak', 'a...</td>\n",
       "    </tr>\n",
       "    <tr>\n",
       "      <th>248</th>\n",
       "      <td>https://reddit.com/r/coloradohikers/comments/1...</td>\n",
       "      <td>\\n\\n===Comments===\\n- u/None:\\n    [deleted]\\n...</td>\n",
       "      <td>True</td>\n",
       "      <td>None</td>\n",
       "      <td>{'title': 'Call your Senators and Reps now. Th...</td>\n",
       "    </tr>\n",
       "    <tr>\n",
       "      <th>249</th>\n",
       "      <td>https://reddit.com/r/coloradohikers/comments/1...</td>\n",
       "      <td>https://preview.redd.it/lx9dwr2oxzye1.jpg?widt...</td>\n",
       "      <td>True</td>\n",
       "      <td>None</td>\n",
       "      <td>{'title': 'Field Notes — Trail Report No 1. Th...</td>\n",
       "    </tr>\n",
       "  </tbody>\n",
       "</table>\n",
       "<p>250 rows × 5 columns</p>\n",
       "</div>"
      ],
      "text/plain": [
       "                                                  link  \\\n",
       "0    https://reddit.com/r/Colorado/comments/1kkenf2...   \n",
       "1    https://reddit.com/r/Colorado/comments/1kkbfbt...   \n",
       "2    https://reddit.com/r/Colorado/comments/1kk5li8...   \n",
       "3    https://reddit.com/r/Colorado/comments/1kk02dc...   \n",
       "4    https://reddit.com/r/Colorado/comments/1kjgk49...   \n",
       "..                                                 ...   \n",
       "245  https://reddit.com/r/coloradohikers/comments/1...   \n",
       "246  https://reddit.com/r/coloradohikers/comments/1...   \n",
       "247  https://reddit.com/r/coloradohikers/comments/1...   \n",
       "248  https://reddit.com/r/coloradohikers/comments/1...   \n",
       "249  https://reddit.com/r/coloradohikers/comments/1...   \n",
       "\n",
       "                                               content  scrape_success  \\\n",
       "0    \\n\\n===Comments===\\n- u/Lgallegos17:\\n    Than...            True   \n",
       "1    \\n\\n===Comments===\\n- u/Sourkraute:\\n    975 s...            True   \n",
       "2    \\n\\n===Comments===\\n- u/Snlxdd:\\n    Gorgeous,...            True   \n",
       "3    \\n\\n===Comments===\\n- u/skovalen:\\n    I love ...            True   \n",
       "4    \\n\\n===Comments===\\n- u/eric_b0x:\\n    I love ...            True   \n",
       "..                                                 ...             ...   \n",
       "245  Hi! My boyfriend is coming in town this weeken...            True   \n",
       "246  \\n\\n===Comments===\\n- u/delusionalxx:\\n    Wha...            True   \n",
       "247  In CO for the weekend, decided to start at Ber...            True   \n",
       "248  \\n\\n===Comments===\\n- u/None:\\n    [deleted]\\n...            True   \n",
       "249  https://preview.redd.it/lx9dwr2oxzye1.jpg?widt...            True   \n",
       "\n",
       "    scrape_error                                           metadata  \n",
       "0           None  {'title': 'Happy Mother's Day Weekend from the...  \n",
       "1           None  {'title': 'Abandoned Cabin, 35409 US-24 near L...  \n",
       "2           None  {'title': 'Sneffels in watercolor', 'author': ...  \n",
       "3           None  {'title': 'Taken last year around fall', 'auth...  \n",
       "4           None  {'title': 'Chautauqua Park 5/10/25', 'author':...  \n",
       "..           ...                                                ...  \n",
       "245         None  {'title': 'Allenspark Area', 'author': 'aylexa...  \n",
       "246         None  {'title': 'A few pics from hikes this spring',...  \n",
       "247         None  {'title': 'Mt Flora + Colorado Mines Peak', 'a...  \n",
       "248         None  {'title': 'Call your Senators and Reps now. Th...  \n",
       "249         None  {'title': 'Field Notes — Trail Report No 1. Th...  \n",
       "\n",
       "[250 rows x 5 columns]"
      ]
     },
     "execution_count": 5,
     "metadata": {},
     "output_type": "execute_result"
    }
   ],
   "source": [
    "# Scrape posts from the collected links\n",
    "workflow.scrape()\n",
    "workflow.get_scrapes()"
   ]
  },
  {
   "cell_type": "code",
   "execution_count": 6,
   "id": "cff4841e",
   "metadata": {},
   "outputs": [
    {
     "data": {
      "application/vnd.jupyter.widget-view+json": {
       "model_id": "207bf72af41b49608e37ba03b5b885b1",
       "version_major": 2,
       "version_minor": 0
      },
      "text/plain": [
       "Analyzing:   0%|          | 0/250 [00:00<?, ?link/s]"
      ]
     },
     "metadata": {},
     "output_type": "display_data"
    },
    {
     "data": {
      "application/vnd.microsoft.datawrangler.viewer.v0+json": {
       "columns": [
        {
         "name": "index",
         "rawType": "int64",
         "type": "integer"
        },
        {
         "name": "link",
         "rawType": "object",
         "type": "string"
        },
        {
         "name": "output",
         "rawType": "object",
         "type": "unknown"
        },
        {
         "name": "analysis_success",
         "rawType": "bool",
         "type": "boolean"
        },
        {
         "name": "analysis_error",
         "rawType": "object",
         "type": "unknown"
        }
       ],
       "conversionMethod": "pd.DataFrame",
       "ref": "c553b37a-bf0d-4863-8ea1-47dcb8c0108c",
       "rows": [
        [
         "0",
         "https://reddit.com/r/Colorado/comments/1kkenf2/happy_mothers_day_weekend_from_the_western_slope/",
         "{'trail_name': '', 'conditions': []}",
         "True",
         null
        ],
        [
         "1",
         "https://reddit.com/r/Colorado/comments/1kkbfbt/abandoned_cabin_35409_us24_near_lake_george/",
         "{'trail_name': '', 'conditions': []}",
         "True",
         null
        ],
        [
         "2",
         "https://reddit.com/r/Colorado/comments/1kk5li8/sneffels_in_watercolor/",
         "{'trail_name': '', 'conditions': []}",
         "True",
         null
        ],
        [
         "3",
         "https://reddit.com/r/Colorado/comments/1kk02dc/taken_last_year_around_fall/",
         "{'trail_name': '', 'conditions': []}",
         "True",
         null
        ],
        [
         "4",
         "https://reddit.com/r/Colorado/comments/1kjgk49/chautauqua_park_51025/",
         "{'trail_name': '', 'conditions': []}",
         "True",
         null
        ],
        [
         "5",
         "https://reddit.com/r/Colorado/comments/1kja4ax/great_sand_dunes_national_park/",
         "{'trail_name': '', 'conditions': []}",
         "True",
         null
        ],
        [
         "6",
         "https://reddit.com/r/Colorado/comments/1kiyrh0/protecting_the_little_ones_at_pueblo_city_park/",
         "{'trail_name': '', 'conditions': []}",
         "True",
         null
        ],
        [
         "7",
         "https://reddit.com/r/Colorado/comments/1kirmg0/getting_ready_for_sunrise_service_at_the_abbott/",
         "{'trail_name': '', 'conditions': []}",
         "True",
         null
        ],
        [
         "8",
         "https://reddit.com/r/Colorado/comments/1kikx00/jared_polis_plans_to_veto_labor_peace_act_bill_a/",
         "{'trail_name': '', 'conditions': []}",
         "True",
         null
        ],
        [
         "9",
         "https://reddit.com/r/Colorado/comments/1kiklyu/rep_yadira_caraveo_interview/",
         "{'trail_name': '', 'conditions': []}",
         "True",
         null
        ],
        [
         "10",
         "https://reddit.com/r/Colorado/comments/1kibvm7/noaa_retires_billiondollar_disaster_database/",
         "{'trail_name': '', 'conditions': []}",
         "True",
         null
        ],
        [
         "11",
         "https://reddit.com/r/Colorado/comments/1ki62sz/the_start_of_tonights_girls_state_tournament/",
         "{'trail_name': '', 'conditions': []}",
         "True",
         null
        ],
        [
         "12",
         "https://reddit.com/r/Colorado/comments/1ki36br/maroon_bells_has_challenging_summer_outlook/",
         "{'trail_name': '', 'conditions': []}",
         "True",
         null
        ],
        [
         "13",
         "https://reddit.com/r/Colorado/comments/1khvfa1/enjoying_these_flowers_while_they_last/",
         "{'trail_name': '', 'conditions': []}",
         "True",
         null
        ],
        [
         "14",
         "https://reddit.com/r/Colorado/comments/1kh3sk0/big_horn_sheep_near_montrose_co/",
         "{'trail_name': 'Serpents Trail', 'conditions': []}",
         "True",
         null
        ],
        [
         "15",
         "https://reddit.com/r/Colorado/comments/1kh2ved/colorado_skiing_legend_mikaela_shiffrin_joins/",
         "{'trail_name': '', 'conditions': []}",
         "True",
         null
        ],
        [
         "16",
         "https://reddit.com/r/Colorado/comments/1kgkuqm/colorado_senate_passes_bill_to_improve_rideshare/",
         "{'trail_name': '', 'conditions': []}",
         "True",
         null
        ],
        [
         "17",
         "https://reddit.com/r/Colorado/comments/1kgk583/brighton_mayor_to_declare_dianetics_day_on_may_9/",
         "{'trail_name': '', 'conditions': []}",
         "True",
         null
        ],
        [
         "18",
         "https://reddit.com/r/Colorado/comments/1kgex4m/colorados_rural_electric_coops_are_determined_to/",
         "{'trail_name': '', 'conditions': []}",
         "True",
         null
        ],
        [
         "19",
         "https://reddit.com/r/Colorado/comments/1kg6uyf/coloradans_just_tore_down_a_bunch_of_barbed_wire/",
         "{'trail_name': '', 'conditions': []}",
         "True",
         null
        ],
        [
         "20",
         "https://reddit.com/r/Colorado/comments/1kfwfrk/kyleclark_theres_no_playing_fantasy_papacy_in/",
         "{'trail_name': '', 'conditions': []}",
         "True",
         null
        ],
        [
         "21",
         "https://reddit.com/r/Colorado/comments/1kfoiql/visit_one_of_the_worlds_most_prolific_research/",
         "{'trail_name': 'Rocky Mountain Biological Laboratory', 'conditions': []}",
         "True",
         null
        ],
        [
         "22",
         "https://reddit.com/r/Colorado/comments/1kfkogb/call_your_senators_and_reps_now_the_draft/",
         "{'trail_name': '', 'conditions': []}",
         "True",
         null
        ],
        [
         "23",
         "https://reddit.com/r/Colorado/comments/1kfilaz/ski_train_to_steamboat_looking_likely_under_new/",
         "{'trail_name': '', 'conditions': []}",
         "True",
         null
        ],
        [
         "24",
         "https://reddit.com/r/Colorado/comments/1kfglll/ag_phil_weiser_interview/",
         "{'trail_name': '', 'conditions': []}",
         "True",
         null
        ],
        [
         "25",
         "https://reddit.com/r/Colorado/comments/1kffkqf/moose_spotted_at_the_rio_grande_farm_park_in/",
         "{'trail_name': 'Alamoosa', 'conditions': []}",
         "True",
         null
        ],
        [
         "26",
         "https://reddit.com/r/Colorado/comments/1kfdqmw/the_milky_way_over_the_pawnee_buttes_in_eastern/",
         "{'trail_name': 'West Pawnee Butte', 'conditions': []}",
         "True",
         null
        ],
        [
         "27",
         "https://reddit.com/r/Colorado/comments/1kfdjmr/inside_the_denver_warehouse_filled_with_illegal/",
         "{'trail_name': '', 'conditions': []}",
         "True",
         null
        ],
        [
         "28",
         "https://reddit.com/r/boulder/comments/1kkh0ob/lost_in_boulder_but_she_may_have_been_seen_in_erie/",
         "{'trail_name': '', 'conditions': []}",
         "True",
         null
        ],
        [
         "29",
         "https://reddit.com/r/boulder/comments/1kkf64w/cant_believe_the_city_is_allowing_this_last_bit/",
         "{'trail_name': '', 'conditions': []}",
         "True",
         null
        ],
        [
         "30",
         "https://reddit.com/r/boulder/comments/1kkeg88/cat_vet_vca_pets_on_broadway/",
         "{'trail_name': '', 'conditions': []}",
         "True",
         null
        ],
        [
         "31",
         "https://reddit.com/r/boulder/comments/1kkdrgj/need_to_hire_an_artist_to_build_a_ufo_for_an/",
         "{'trail_name': '', 'conditions': []}",
         "True",
         null
        ],
        [
         "32",
         "https://reddit.com/r/boulder/comments/1kkd4fa/gun_stores_that_sell_12ga_blanks/",
         "{'trail_name': '', 'conditions': []}",
         "True",
         null
        ],
        [
         "33",
         "https://reddit.com/r/boulder/comments/1kkcy2f/boulders_best_veggie_sandwich/",
         "{'trail_name': '', 'conditions': []}",
         "True",
         null
        ],
        [
         "34",
         "https://reddit.com/r/boulder/comments/1kkadh1/lost_passport/",
         "{'trail_name': '', 'conditions': []}",
         "True",
         null
        ],
        [
         "35",
         "https://reddit.com/r/boulder/comments/1kka2hl/summer_csa_rec/",
         "{'trail_name': '', 'conditions': []}",
         "True",
         null
        ],
        [
         "36",
         "https://reddit.com/r/boulder/comments/1kk8h7h/stolen_bike/",
         "{'trail_name': '', 'conditions': []}",
         "True",
         null
        ],
        [
         "37",
         "https://reddit.com/r/boulder/comments/1kk7bll/scrooge_banh_mi/",
         "{'trail_name': '', 'conditions': []}",
         "True",
         null
        ],
        [
         "38",
         "https://reddit.com/r/boulder/comments/1kk5q3b/this_guy_was_bouncing_around_for_an_hour_or_more/",
         "{'trail_name': 'Boulder Free Flight', 'conditions': []}",
         "True",
         null
        ],
        [
         "39",
         "https://reddit.com/r/boulder/comments/1kk5gff/friendly_reminder_to_check_your_dogs_and/",
         "{'trail_name': 'Bobolink', 'conditions': []}",
         "True",
         null
        ],
        [
         "40",
         "https://reddit.com/r/boulder/comments/1kk4ff2/ok_what_animal_makes_sounds_like_this/",
         "{'trail_name': \"Devil's Thumb\", 'conditions': []}",
         "True",
         null
        ],
        [
         "41",
         "https://reddit.com/r/boulder/comments/1kk1qyz/weekly_board_game_meetup/",
         "{'trail_name': 'twisted pine', 'conditions': []}",
         "True",
         null
        ],
        [
         "42",
         "https://reddit.com/r/boulder/comments/1kjzfu3/motorcycle_meetsridesclubs_around_town/",
         "{'trail_name': 'Highway 93', 'conditions': ['clear']}",
         "True",
         null
        ],
        [
         "43",
         "https://reddit.com/r/boulder/comments/1kjudb5/update_it_is_at_it_again_12_hours/",
         "{'trail_name': '', 'conditions': []}",
         "True",
         null
        ],
        [
         "44",
         "https://reddit.com/r/boulder/comments/1kjtawz/just_another_prompt_to_sign_the_petition_to_get_a/",
         "{'trail_name': '', 'conditions': []}",
         "True",
         null
        ],
        [
         "45",
         "https://reddit.com/r/boulder/comments/1kjt8vo/what_are_some_mothers_day_events/",
         "{'trail_name': '', 'conditions': []}",
         "True",
         null
        ],
        [
         "46",
         "https://reddit.com/r/boulder/comments/1kjsbom/cheapest_hot_air_ballooning_in_colorado/",
         "{'trail_name': '', 'conditions': []}",
         "True",
         null
        ],
        [
         "47",
         "https://reddit.com/r/boulder/comments/1kjrphj/fireworks_930_pm/",
         "{'trail_name': '', 'conditions': []}",
         "True",
         null
        ],
        [
         "48",
         "https://reddit.com/r/boulder/comments/1kjro0t/it_is_at_it_again_for_12_hours_now/",
         "{'trail_name': '', 'conditions': []}",
         "True",
         null
        ],
        [
         "49",
         "https://reddit.com/r/boulder/comments/1kjq3ve/contractor_to_refinish_a_concrete_patio/",
         "{'trail_name': '', 'conditions': []}",
         "True",
         null
        ]
       ],
       "shape": {
        "columns": 4,
        "rows": 250
       }
      },
      "text/html": [
       "<div>\n",
       "<style scoped>\n",
       "    .dataframe tbody tr th:only-of-type {\n",
       "        vertical-align: middle;\n",
       "    }\n",
       "\n",
       "    .dataframe tbody tr th {\n",
       "        vertical-align: top;\n",
       "    }\n",
       "\n",
       "    .dataframe thead th {\n",
       "        text-align: right;\n",
       "    }\n",
       "</style>\n",
       "<table border=\"1\" class=\"dataframe\">\n",
       "  <thead>\n",
       "    <tr style=\"text-align: right;\">\n",
       "      <th></th>\n",
       "      <th>link</th>\n",
       "      <th>output</th>\n",
       "      <th>analysis_success</th>\n",
       "      <th>analysis_error</th>\n",
       "    </tr>\n",
       "  </thead>\n",
       "  <tbody>\n",
       "    <tr>\n",
       "      <th>0</th>\n",
       "      <td>https://reddit.com/r/Colorado/comments/1kkenf2...</td>\n",
       "      <td>{'trail_name': '', 'conditions': []}</td>\n",
       "      <td>True</td>\n",
       "      <td>None</td>\n",
       "    </tr>\n",
       "    <tr>\n",
       "      <th>1</th>\n",
       "      <td>https://reddit.com/r/Colorado/comments/1kkbfbt...</td>\n",
       "      <td>{'trail_name': '', 'conditions': []}</td>\n",
       "      <td>True</td>\n",
       "      <td>None</td>\n",
       "    </tr>\n",
       "    <tr>\n",
       "      <th>2</th>\n",
       "      <td>https://reddit.com/r/Colorado/comments/1kk5li8...</td>\n",
       "      <td>{'trail_name': '', 'conditions': []}</td>\n",
       "      <td>True</td>\n",
       "      <td>None</td>\n",
       "    </tr>\n",
       "    <tr>\n",
       "      <th>3</th>\n",
       "      <td>https://reddit.com/r/Colorado/comments/1kk02dc...</td>\n",
       "      <td>{'trail_name': '', 'conditions': []}</td>\n",
       "      <td>True</td>\n",
       "      <td>None</td>\n",
       "    </tr>\n",
       "    <tr>\n",
       "      <th>4</th>\n",
       "      <td>https://reddit.com/r/Colorado/comments/1kjgk49...</td>\n",
       "      <td>{'trail_name': '', 'conditions': []}</td>\n",
       "      <td>True</td>\n",
       "      <td>None</td>\n",
       "    </tr>\n",
       "    <tr>\n",
       "      <th>...</th>\n",
       "      <td>...</td>\n",
       "      <td>...</td>\n",
       "      <td>...</td>\n",
       "      <td>...</td>\n",
       "    </tr>\n",
       "    <tr>\n",
       "      <th>245</th>\n",
       "      <td>https://reddit.com/r/coloradohikers/comments/1...</td>\n",
       "      <td>{'trail_name': 'Allenspark', 'conditions': ['s...</td>\n",
       "      <td>True</td>\n",
       "      <td>None</td>\n",
       "    </tr>\n",
       "    <tr>\n",
       "      <th>246</th>\n",
       "      <td>https://reddit.com/r/coloradohikers/comments/1...</td>\n",
       "      <td>{'trail_name': 'Indian Paint Brush', 'conditio...</td>\n",
       "      <td>True</td>\n",
       "      <td>None</td>\n",
       "    </tr>\n",
       "    <tr>\n",
       "      <th>247</th>\n",
       "      <td>https://reddit.com/r/coloradohikers/comments/1...</td>\n",
       "      <td>{'trail_name': 'Colorado Mines Peak', 'conditi...</td>\n",
       "      <td>True</td>\n",
       "      <td>None</td>\n",
       "    </tr>\n",
       "    <tr>\n",
       "      <th>248</th>\n",
       "      <td>https://reddit.com/r/coloradohikers/comments/1...</td>\n",
       "      <td>{'trail_name': '', 'conditions': []}</td>\n",
       "      <td>True</td>\n",
       "      <td>None</td>\n",
       "    </tr>\n",
       "    <tr>\n",
       "      <th>249</th>\n",
       "      <td>https://reddit.com/r/coloradohikers/comments/1...</td>\n",
       "      <td>{'trail_name': 'County Road 5', 'conditions': ...</td>\n",
       "      <td>True</td>\n",
       "      <td>None</td>\n",
       "    </tr>\n",
       "  </tbody>\n",
       "</table>\n",
       "<p>250 rows × 4 columns</p>\n",
       "</div>"
      ],
      "text/plain": [
       "                                                  link  \\\n",
       "0    https://reddit.com/r/Colorado/comments/1kkenf2...   \n",
       "1    https://reddit.com/r/Colorado/comments/1kkbfbt...   \n",
       "2    https://reddit.com/r/Colorado/comments/1kk5li8...   \n",
       "3    https://reddit.com/r/Colorado/comments/1kk02dc...   \n",
       "4    https://reddit.com/r/Colorado/comments/1kjgk49...   \n",
       "..                                                 ...   \n",
       "245  https://reddit.com/r/coloradohikers/comments/1...   \n",
       "246  https://reddit.com/r/coloradohikers/comments/1...   \n",
       "247  https://reddit.com/r/coloradohikers/comments/1...   \n",
       "248  https://reddit.com/r/coloradohikers/comments/1...   \n",
       "249  https://reddit.com/r/coloradohikers/comments/1...   \n",
       "\n",
       "                                                output  analysis_success  \\\n",
       "0                 {'trail_name': '', 'conditions': []}              True   \n",
       "1                 {'trail_name': '', 'conditions': []}              True   \n",
       "2                 {'trail_name': '', 'conditions': []}              True   \n",
       "3                 {'trail_name': '', 'conditions': []}              True   \n",
       "4                 {'trail_name': '', 'conditions': []}              True   \n",
       "..                                                 ...               ...   \n",
       "245  {'trail_name': 'Allenspark', 'conditions': ['s...              True   \n",
       "246  {'trail_name': 'Indian Paint Brush', 'conditio...              True   \n",
       "247  {'trail_name': 'Colorado Mines Peak', 'conditi...              True   \n",
       "248               {'trail_name': '', 'conditions': []}              True   \n",
       "249  {'trail_name': 'County Road 5', 'conditions': ...              True   \n",
       "\n",
       "    analysis_error  \n",
       "0             None  \n",
       "1             None  \n",
       "2             None  \n",
       "3             None  \n",
       "4             None  \n",
       "..             ...  \n",
       "245           None  \n",
       "246           None  \n",
       "247           None  \n",
       "248           None  \n",
       "249           None  \n",
       "\n",
       "[250 rows x 4 columns]"
      ]
     },
     "execution_count": 6,
     "metadata": {},
     "output_type": "execute_result"
    }
   ],
   "source": [
    "# Analyze the scraped posts\n",
    "workflow.analyze()\n",
    "# Display the analysis results\n",
    "workflow.get_analyses()\n"
   ]
  },
  {
   "cell_type": "markdown",
   "id": "6384767c",
   "metadata": {},
   "source": [
    "## View results\n",
    "Finally, let's view our new information about trail conditions."
   ]
  },
  {
   "cell_type": "code",
   "execution_count": 8,
   "id": "ddfaf04e",
   "metadata": {},
   "outputs": [
    {
     "data": {
      "application/vnd.microsoft.datawrangler.viewer.v0+json": {
       "columns": [
        {
         "name": "index",
         "rawType": "int64",
         "type": "integer"
        },
        {
         "name": "link",
         "rawType": "object",
         "type": "string"
        },
        {
         "name": "trail_name",
         "rawType": "object",
         "type": "string"
        },
        {
         "name": "conditions",
         "rawType": "object",
         "type": "unknown"
        }
       ],
       "conversionMethod": "pd.DataFrame",
       "ref": "c63b744e-ace7-462a-b761-166cbf49ef8d",
       "rows": [
        [
         "42",
         "https://reddit.com/r/boulder/comments/1kjzfu3/motorcycle_meetsridesclubs_around_town/",
         "Highway 93",
         "['clear']"
        ],
        [
         "104",
         "https://reddit.com/r/boulder/comments/1khvjq9/bear_peak_conditions/",
         "Bear Peak",
         "['icy', 'snowy', 'wet', 'muddy']"
        ],
        [
         "193",
         "https://reddit.com/r/Denver/comments/1kim07n/88_drivein_theatre_reopening_for_2025_summer/",
         "88 Drive-In",
         "['light and breezy', 'distant thunderstorms']"
        ],
        [
         "228",
         "https://reddit.com/r/coloradohikers/comments/1kkg4b8/anyone_done_the_blue_lakes_trail_at_mount/",
         "Blue Lakes",
         "['snowy', 'wet']"
        ],
        [
         "231",
         "https://reddit.com/r/coloradohikers/comments/1kkbuse/colorado_hiking_midmay_15th_17th/",
         "Long's Peak",
         "['snowy', 'mushy']"
        ],
        [
         "234",
         "https://reddit.com/r/coloradohikers/comments/1kk0w6a/trail_pose_studio_pose_eldorado_canyon_may_magic/",
         "Eldorado Canyon",
         "['sunny']"
        ],
        [
         "235",
         "https://reddit.com/r/coloradohikers/comments/1kjzgs6/cheesmam_canyon/",
         "Upper Cheeseman",
         "['perfect', 'clear', 'not too busy']"
        ],
        [
         "236",
         "https://reddit.com/r/coloradohikers/comments/1kjtmst/what_to_expect_with_early_season_hikingbackpacking/",
         "Sangre de Cristo Wilderness",
         "['muddy', 'snowy', 'wet', 'flowing water']"
        ],
        [
         "237",
         "https://reddit.com/r/coloradohikers/comments/1kjme4v/elk_falls_59/",
         "Staunton State Park",
         "['snowy']"
        ],
        [
         "239",
         "https://reddit.com/r/coloradohikers/comments/1kjfxxe/i_duned_lisan_algaib_style_today_yall/",
         "High Dune",
         "['breathtaking', 'dry']"
        ],
        [
         "241",
         "https://reddit.com/r/coloradohikers/comments/1kizh9z/four_pass_loop_in_2_days_1_overnight/",
         "Four Pass Loop",
         "['rainy']"
        ],
        [
         "245",
         "https://reddit.com/r/coloradohikers/comments/1kh9lgj/allenspark_area/",
         "Allenspark",
         "['snowy']"
        ],
        [
         "247",
         "https://reddit.com/r/coloradohikers/comments/1kfqf3b/mt_flora_colorado_mines_peak/",
         "Colorado Mines Peak",
         "['snowy', 'hard pack', 'thunderstorm']"
        ],
        [
         "249",
         "https://reddit.com/r/coloradohikers/comments/1kfhblp/field_notes_trail_report_no_1_the_waking_mountains/",
         "County Road 5",
         "['mostly dry', 'rocky', 'muddy in spots']"
        ]
       ],
       "shape": {
        "columns": 3,
        "rows": 14
       }
      },
      "text/html": [
       "<div>\n",
       "<style scoped>\n",
       "    .dataframe tbody tr th:only-of-type {\n",
       "        vertical-align: middle;\n",
       "    }\n",
       "\n",
       "    .dataframe tbody tr th {\n",
       "        vertical-align: top;\n",
       "    }\n",
       "\n",
       "    .dataframe thead th {\n",
       "        text-align: right;\n",
       "    }\n",
       "</style>\n",
       "<table border=\"1\" class=\"dataframe\">\n",
       "  <thead>\n",
       "    <tr style=\"text-align: right;\">\n",
       "      <th></th>\n",
       "      <th>link</th>\n",
       "      <th>trail_name</th>\n",
       "      <th>conditions</th>\n",
       "    </tr>\n",
       "  </thead>\n",
       "  <tbody>\n",
       "    <tr>\n",
       "      <th>42</th>\n",
       "      <td>https://reddit.com/r/boulder/comments/1kjzfu3/...</td>\n",
       "      <td>Highway 93</td>\n",
       "      <td>[clear]</td>\n",
       "    </tr>\n",
       "    <tr>\n",
       "      <th>104</th>\n",
       "      <td>https://reddit.com/r/boulder/comments/1khvjq9/...</td>\n",
       "      <td>Bear Peak</td>\n",
       "      <td>[icy, snowy, wet, muddy]</td>\n",
       "    </tr>\n",
       "    <tr>\n",
       "      <th>193</th>\n",
       "      <td>https://reddit.com/r/Denver/comments/1kim07n/8...</td>\n",
       "      <td>88 Drive-In</td>\n",
       "      <td>[light and breezy, distant thunderstorms]</td>\n",
       "    </tr>\n",
       "    <tr>\n",
       "      <th>228</th>\n",
       "      <td>https://reddit.com/r/coloradohikers/comments/1...</td>\n",
       "      <td>Blue Lakes</td>\n",
       "      <td>[snowy, wet]</td>\n",
       "    </tr>\n",
       "    <tr>\n",
       "      <th>231</th>\n",
       "      <td>https://reddit.com/r/coloradohikers/comments/1...</td>\n",
       "      <td>Long's Peak</td>\n",
       "      <td>[snowy, mushy]</td>\n",
       "    </tr>\n",
       "    <tr>\n",
       "      <th>234</th>\n",
       "      <td>https://reddit.com/r/coloradohikers/comments/1...</td>\n",
       "      <td>Eldorado Canyon</td>\n",
       "      <td>[sunny]</td>\n",
       "    </tr>\n",
       "    <tr>\n",
       "      <th>235</th>\n",
       "      <td>https://reddit.com/r/coloradohikers/comments/1...</td>\n",
       "      <td>Upper Cheeseman</td>\n",
       "      <td>[perfect, clear, not too busy]</td>\n",
       "    </tr>\n",
       "    <tr>\n",
       "      <th>236</th>\n",
       "      <td>https://reddit.com/r/coloradohikers/comments/1...</td>\n",
       "      <td>Sangre de Cristo Wilderness</td>\n",
       "      <td>[muddy, snowy, wet, flowing water]</td>\n",
       "    </tr>\n",
       "    <tr>\n",
       "      <th>237</th>\n",
       "      <td>https://reddit.com/r/coloradohikers/comments/1...</td>\n",
       "      <td>Staunton State Park</td>\n",
       "      <td>[snowy]</td>\n",
       "    </tr>\n",
       "    <tr>\n",
       "      <th>239</th>\n",
       "      <td>https://reddit.com/r/coloradohikers/comments/1...</td>\n",
       "      <td>High Dune</td>\n",
       "      <td>[breathtaking, dry]</td>\n",
       "    </tr>\n",
       "    <tr>\n",
       "      <th>241</th>\n",
       "      <td>https://reddit.com/r/coloradohikers/comments/1...</td>\n",
       "      <td>Four Pass Loop</td>\n",
       "      <td>[rainy]</td>\n",
       "    </tr>\n",
       "    <tr>\n",
       "      <th>245</th>\n",
       "      <td>https://reddit.com/r/coloradohikers/comments/1...</td>\n",
       "      <td>Allenspark</td>\n",
       "      <td>[snowy]</td>\n",
       "    </tr>\n",
       "    <tr>\n",
       "      <th>247</th>\n",
       "      <td>https://reddit.com/r/coloradohikers/comments/1...</td>\n",
       "      <td>Colorado Mines Peak</td>\n",
       "      <td>[snowy, hard pack, thunderstorm]</td>\n",
       "    </tr>\n",
       "    <tr>\n",
       "      <th>249</th>\n",
       "      <td>https://reddit.com/r/coloradohikers/comments/1...</td>\n",
       "      <td>County Road 5</td>\n",
       "      <td>[mostly dry, rocky, muddy in spots]</td>\n",
       "    </tr>\n",
       "  </tbody>\n",
       "</table>\n",
       "</div>"
      ],
      "text/plain": [
       "                                                  link  \\\n",
       "42   https://reddit.com/r/boulder/comments/1kjzfu3/...   \n",
       "104  https://reddit.com/r/boulder/comments/1khvjq9/...   \n",
       "193  https://reddit.com/r/Denver/comments/1kim07n/8...   \n",
       "228  https://reddit.com/r/coloradohikers/comments/1...   \n",
       "231  https://reddit.com/r/coloradohikers/comments/1...   \n",
       "234  https://reddit.com/r/coloradohikers/comments/1...   \n",
       "235  https://reddit.com/r/coloradohikers/comments/1...   \n",
       "236  https://reddit.com/r/coloradohikers/comments/1...   \n",
       "237  https://reddit.com/r/coloradohikers/comments/1...   \n",
       "239  https://reddit.com/r/coloradohikers/comments/1...   \n",
       "241  https://reddit.com/r/coloradohikers/comments/1...   \n",
       "245  https://reddit.com/r/coloradohikers/comments/1...   \n",
       "247  https://reddit.com/r/coloradohikers/comments/1...   \n",
       "249  https://reddit.com/r/coloradohikers/comments/1...   \n",
       "\n",
       "                      trail_name                                 conditions  \n",
       "42                    Highway 93                                    [clear]  \n",
       "104                    Bear Peak                   [icy, snowy, wet, muddy]  \n",
       "193                  88 Drive-In  [light and breezy, distant thunderstorms]  \n",
       "228                   Blue Lakes                               [snowy, wet]  \n",
       "231                  Long's Peak                             [snowy, mushy]  \n",
       "234              Eldorado Canyon                                    [sunny]  \n",
       "235              Upper Cheeseman             [perfect, clear, not too busy]  \n",
       "236  Sangre de Cristo Wilderness         [muddy, snowy, wet, flowing water]  \n",
       "237          Staunton State Park                                    [snowy]  \n",
       "239                    High Dune                        [breathtaking, dry]  \n",
       "241               Four Pass Loop                                    [rainy]  \n",
       "245                   Allenspark                                    [snowy]  \n",
       "247          Colorado Mines Peak           [snowy, hard pack, thunderstorm]  \n",
       "249                County Road 5        [mostly dry, rocky, muddy in spots]  "
      ]
     },
     "execution_count": 8,
     "metadata": {},
     "output_type": "execute_result"
    }
   ],
   "source": [
    "# Use `workflow.export()` to flatten the dictionary outputs for convenience.\n",
    "results = workflow.export()\n",
    "# Filter for non-empty trail names and conditions\n",
    "results[(results[\"trail_name\"] != \"\") & (results[\"conditions\"].apply(len) > 0)]"
   ]
  }
 ],
 "metadata": {
  "kernelspec": {
   "display_name": "scraipe",
   "language": "python",
   "name": "python3"
  },
  "language_info": {
   "codemirror_mode": {
    "name": "ipython",
    "version": 3
   },
   "file_extension": ".py",
   "mimetype": "text/x-python",
   "name": "python",
   "nbconvert_exporter": "python",
   "pygments_lexer": "ipython3",
   "version": "3.12.9"
  }
 },
 "nbformat": 4,
 "nbformat_minor": 5
}
